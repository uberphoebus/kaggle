{
 "cells": [
  {
   "cell_type": "markdown",
   "id": "detected-selling",
   "metadata": {},
   "source": [
    "<img src='https://storage.googleapis.com/kaggle-competitions/kaggle/3136/logos/header.png'>\n",
    "* ref : kaggle  : https://www.kaggle.com/c/titanic/overview\n",
    "    \n",
    "    "
   ]
  },
  {
   "cell_type": "code",
   "execution_count": 264,
   "id": "educational-church",
   "metadata": {},
   "outputs": [],
   "source": [
    "import pandas as pd\n",
    "import numpy as np\n",
    "import matplotlib.pyplot as plt\n",
    "import seaborn as sns\n",
    "\n",
    "import warnings\n",
    "warnings.filterwarnings(action='ignore')"
   ]
  },
  {
   "cell_type": "markdown",
   "id": "hungarian-drill",
   "metadata": {},
   "source": [
    "\n",
    "# Data Collection"
   ]
  },
  {
   "cell_type": "code",
   "execution_count": 265,
   "id": "silver-astronomy",
   "metadata": {},
   "outputs": [],
   "source": [
    "train = pd.read_csv(\"./titanic/train.csv\")\n",
    "test = pd.read_csv(\"./titanic/test.csv\")\n",
    "sub = pd.read_csv(\"./titanic/submission.csv\")"
   ]
  },
  {
   "cell_type": "markdown",
   "id": "critical-warrior",
   "metadata": {},
   "source": [
    "# EDA(Explorer Data Analysis)"
   ]
  },
  {
   "cell_type": "code",
   "execution_count": 266,
   "id": "complicated-appreciation",
   "metadata": {},
   "outputs": [
    {
     "data": {
      "text/plain": [
       "((891, 12), (418, 11))"
      ]
     },
     "execution_count": 266,
     "metadata": {},
     "output_type": "execute_result"
    }
   ],
   "source": [
    "train.shape, test.shape"
   ]
  },
  {
   "cell_type": "code",
   "execution_count": 267,
   "id": "resident-interpretation",
   "metadata": {},
   "outputs": [
    {
     "name": "stdout",
     "output_type": "stream",
     "text": [
      "<class 'pandas.core.frame.DataFrame'>\n",
      "RangeIndex: 891 entries, 0 to 890\n",
      "Data columns (total 12 columns):\n",
      " #   Column       Non-Null Count  Dtype  \n",
      "---  ------       --------------  -----  \n",
      " 0   PassengerId  891 non-null    int64  \n",
      " 1   Survived     891 non-null    int64  \n",
      " 2   Pclass       891 non-null    int64  \n",
      " 3   Name         891 non-null    object \n",
      " 4   Sex          891 non-null    object \n",
      " 5   Age          714 non-null    float64\n",
      " 6   SibSp        891 non-null    int64  \n",
      " 7   Parch        891 non-null    int64  \n",
      " 8   Ticket       891 non-null    object \n",
      " 9   Fare         891 non-null    float64\n",
      " 10  Cabin        204 non-null    object \n",
      " 11  Embarked     889 non-null    object \n",
      "dtypes: float64(2), int64(5), object(5)\n",
      "memory usage: 83.7+ KB\n"
     ]
    }
   ],
   "source": [
    "train.info()"
   ]
  },
  {
   "cell_type": "code",
   "execution_count": 268,
   "id": "danish-textbook",
   "metadata": {},
   "outputs": [
    {
     "name": "stdout",
     "output_type": "stream",
     "text": [
      "<class 'pandas.core.frame.DataFrame'>\n",
      "RangeIndex: 418 entries, 0 to 417\n",
      "Data columns (total 11 columns):\n",
      " #   Column       Non-Null Count  Dtype  \n",
      "---  ------       --------------  -----  \n",
      " 0   PassengerId  418 non-null    int64  \n",
      " 1   Pclass       418 non-null    int64  \n",
      " 2   Name         418 non-null    object \n",
      " 3   Sex          418 non-null    object \n",
      " 4   Age          332 non-null    float64\n",
      " 5   SibSp        418 non-null    int64  \n",
      " 6   Parch        418 non-null    int64  \n",
      " 7   Ticket       418 non-null    object \n",
      " 8   Fare         417 non-null    float64\n",
      " 9   Cabin        91 non-null     object \n",
      " 10  Embarked     418 non-null    object \n",
      "dtypes: float64(2), int64(4), object(5)\n",
      "memory usage: 36.0+ KB\n"
     ]
    }
   ],
   "source": [
    "test.info()"
   ]
  },
  {
   "cell_type": "code",
   "execution_count": 269,
   "id": "contemporary-square",
   "metadata": {},
   "outputs": [
    {
     "data": {
      "text/html": [
       "<div>\n",
       "<style scoped>\n",
       "    .dataframe tbody tr th:only-of-type {\n",
       "        vertical-align: middle;\n",
       "    }\n",
       "\n",
       "    .dataframe tbody tr th {\n",
       "        vertical-align: top;\n",
       "    }\n",
       "\n",
       "    .dataframe thead th {\n",
       "        text-align: right;\n",
       "    }\n",
       "</style>\n",
       "<table border=\"1\" class=\"dataframe\">\n",
       "  <thead>\n",
       "    <tr style=\"text-align: right;\">\n",
       "      <th></th>\n",
       "      <th>PassengerId</th>\n",
       "      <th>Survived</th>\n",
       "      <th>Pclass</th>\n",
       "      <th>Name</th>\n",
       "      <th>Sex</th>\n",
       "      <th>Age</th>\n",
       "      <th>SibSp</th>\n",
       "      <th>Parch</th>\n",
       "      <th>Ticket</th>\n",
       "      <th>Fare</th>\n",
       "      <th>Cabin</th>\n",
       "      <th>Embarked</th>\n",
       "    </tr>\n",
       "  </thead>\n",
       "  <tbody>\n",
       "    <tr>\n",
       "      <th>0</th>\n",
       "      <td>1</td>\n",
       "      <td>0</td>\n",
       "      <td>3</td>\n",
       "      <td>Braund, Mr. Owen Harris</td>\n",
       "      <td>male</td>\n",
       "      <td>22.0</td>\n",
       "      <td>1</td>\n",
       "      <td>0</td>\n",
       "      <td>A/5 21171</td>\n",
       "      <td>7.2500</td>\n",
       "      <td>NaN</td>\n",
       "      <td>S</td>\n",
       "    </tr>\n",
       "    <tr>\n",
       "      <th>1</th>\n",
       "      <td>2</td>\n",
       "      <td>1</td>\n",
       "      <td>1</td>\n",
       "      <td>Cumings, Mrs. John Bradley (Florence Briggs Th...</td>\n",
       "      <td>female</td>\n",
       "      <td>38.0</td>\n",
       "      <td>1</td>\n",
       "      <td>0</td>\n",
       "      <td>PC 17599</td>\n",
       "      <td>71.2833</td>\n",
       "      <td>C85</td>\n",
       "      <td>C</td>\n",
       "    </tr>\n",
       "    <tr>\n",
       "      <th>2</th>\n",
       "      <td>3</td>\n",
       "      <td>1</td>\n",
       "      <td>3</td>\n",
       "      <td>Heikkinen, Miss. Laina</td>\n",
       "      <td>female</td>\n",
       "      <td>26.0</td>\n",
       "      <td>0</td>\n",
       "      <td>0</td>\n",
       "      <td>STON/O2. 3101282</td>\n",
       "      <td>7.9250</td>\n",
       "      <td>NaN</td>\n",
       "      <td>S</td>\n",
       "    </tr>\n",
       "    <tr>\n",
       "      <th>3</th>\n",
       "      <td>4</td>\n",
       "      <td>1</td>\n",
       "      <td>1</td>\n",
       "      <td>Futrelle, Mrs. Jacques Heath (Lily May Peel)</td>\n",
       "      <td>female</td>\n",
       "      <td>35.0</td>\n",
       "      <td>1</td>\n",
       "      <td>0</td>\n",
       "      <td>113803</td>\n",
       "      <td>53.1000</td>\n",
       "      <td>C123</td>\n",
       "      <td>S</td>\n",
       "    </tr>\n",
       "    <tr>\n",
       "      <th>4</th>\n",
       "      <td>5</td>\n",
       "      <td>0</td>\n",
       "      <td>3</td>\n",
       "      <td>Allen, Mr. William Henry</td>\n",
       "      <td>male</td>\n",
       "      <td>35.0</td>\n",
       "      <td>0</td>\n",
       "      <td>0</td>\n",
       "      <td>373450</td>\n",
       "      <td>8.0500</td>\n",
       "      <td>NaN</td>\n",
       "      <td>S</td>\n",
       "    </tr>\n",
       "  </tbody>\n",
       "</table>\n",
       "</div>"
      ],
      "text/plain": [
       "   PassengerId  Survived  Pclass  \\\n",
       "0            1         0       3   \n",
       "1            2         1       1   \n",
       "2            3         1       3   \n",
       "3            4         1       1   \n",
       "4            5         0       3   \n",
       "\n",
       "                                                Name     Sex   Age  SibSp  \\\n",
       "0                            Braund, Mr. Owen Harris    male  22.0      1   \n",
       "1  Cumings, Mrs. John Bradley (Florence Briggs Th...  female  38.0      1   \n",
       "2                             Heikkinen, Miss. Laina  female  26.0      0   \n",
       "3       Futrelle, Mrs. Jacques Heath (Lily May Peel)  female  35.0      1   \n",
       "4                           Allen, Mr. William Henry    male  35.0      0   \n",
       "\n",
       "   Parch            Ticket     Fare Cabin Embarked  \n",
       "0      0         A/5 21171   7.2500   NaN        S  \n",
       "1      0          PC 17599  71.2833   C85        C  \n",
       "2      0  STON/O2. 3101282   7.9250   NaN        S  \n",
       "3      0            113803  53.1000  C123        S  \n",
       "4      0            373450   8.0500   NaN        S  "
      ]
     },
     "execution_count": 269,
     "metadata": {},
     "output_type": "execute_result"
    }
   ],
   "source": [
    "train.head()  #test.head()"
   ]
  },
  {
   "cell_type": "code",
   "execution_count": 270,
   "id": "60339c91-3e4a-4f5f-8dbf-4ade1e175948",
   "metadata": {},
   "outputs": [
    {
     "data": {
      "text/plain": [
       "array([[<AxesSubplot:title={'center':'Survived'}>,\n",
       "        <AxesSubplot:title={'center':'Pclass'}>,\n",
       "        <AxesSubplot:title={'center':'Sex'}>],\n",
       "       [<AxesSubplot:title={'center':'Fare'}>,\n",
       "        <AxesSubplot:title={'center':'Embarked'}>,\n",
       "        <AxesSubplot:title={'center':'Name_title'}>],\n",
       "       [<AxesSubplot:title={'center':'family'}>,\n",
       "        <AxesSubplot:title={'center':'Age_band'}>, <AxesSubplot:>]],\n",
       "      dtype=object)"
      ]
     },
     "execution_count": 270,
     "metadata": {},
     "output_type": "execute_result"
    },
    {
     "data": {
      "image/png": "[encoded data removed]",
      "text/plain": [
       "<Figure size 432x288 with 9 Axes>"
      ]
     },
     "metadata": {},
     "output_type": "display_data"
    }
   ],
   "source": [
    "train_test.hist()"
   ]
  },
  {
   "cell_type": "code",
   "execution_count": 271,
   "id": "f660044d-8575-4317-9c8c-4e66359c349a",
   "metadata": {},
   "outputs": [
    {
     "data": {
      "text/html": [
       "<div>\n",
       "<style scoped>\n",
       "    .dataframe tbody tr th:only-of-type {\n",
       "        vertical-align: middle;\n",
       "    }\n",
       "\n",
       "    .dataframe tbody tr th {\n",
       "        vertical-align: top;\n",
       "    }\n",
       "\n",
       "    .dataframe thead th {\n",
       "        text-align: right;\n",
       "    }\n",
       "</style>\n",
       "<table border=\"1\" class=\"dataframe\">\n",
       "  <thead>\n",
       "    <tr style=\"text-align: right;\">\n",
       "      <th></th>\n",
       "      <th>Survived</th>\n",
       "      <th>Pclass</th>\n",
       "      <th>Sex</th>\n",
       "      <th>Fare</th>\n",
       "      <th>Embarked</th>\n",
       "      <th>Name_title</th>\n",
       "      <th>family</th>\n",
       "      <th>Age_band</th>\n",
       "    </tr>\n",
       "  </thead>\n",
       "  <tbody>\n",
       "    <tr>\n",
       "      <th>count</th>\n",
       "      <td>891.000000</td>\n",
       "      <td>1309.000000</td>\n",
       "      <td>1309.000000</td>\n",
       "      <td>1309.000000</td>\n",
       "      <td>1309.000000</td>\n",
       "      <td>1309.000000</td>\n",
       "      <td>1309.000000</td>\n",
       "      <td>1309.000000</td>\n",
       "    </tr>\n",
       "    <tr>\n",
       "      <th>mean</th>\n",
       "      <td>0.383838</td>\n",
       "      <td>2.294882</td>\n",
       "      <td>0.644003</td>\n",
       "      <td>33.276993</td>\n",
       "      <td>0.394194</td>\n",
       "      <td>0.723453</td>\n",
       "      <td>1.883881</td>\n",
       "      <td>2.271963</td>\n",
       "    </tr>\n",
       "    <tr>\n",
       "      <th>std</th>\n",
       "      <td>0.486592</td>\n",
       "      <td>0.837836</td>\n",
       "      <td>0.478997</td>\n",
       "      <td>51.743202</td>\n",
       "      <td>0.653499</td>\n",
       "      <td>0.999193</td>\n",
       "      <td>1.583639</td>\n",
       "      <td>0.789447</td>\n",
       "    </tr>\n",
       "    <tr>\n",
       "      <th>min</th>\n",
       "      <td>0.000000</td>\n",
       "      <td>1.000000</td>\n",
       "      <td>0.000000</td>\n",
       "      <td>0.000000</td>\n",
       "      <td>0.000000</td>\n",
       "      <td>0.000000</td>\n",
       "      <td>1.000000</td>\n",
       "      <td>1.000000</td>\n",
       "    </tr>\n",
       "    <tr>\n",
       "      <th>25%</th>\n",
       "      <td>0.000000</td>\n",
       "      <td>2.000000</td>\n",
       "      <td>0.000000</td>\n",
       "      <td>7.895800</td>\n",
       "      <td>0.000000</td>\n",
       "      <td>0.000000</td>\n",
       "      <td>1.000000</td>\n",
       "      <td>2.000000</td>\n",
       "    </tr>\n",
       "    <tr>\n",
       "      <th>50%</th>\n",
       "      <td>0.000000</td>\n",
       "      <td>3.000000</td>\n",
       "      <td>1.000000</td>\n",
       "      <td>14.454200</td>\n",
       "      <td>0.000000</td>\n",
       "      <td>0.000000</td>\n",
       "      <td>1.000000</td>\n",
       "      <td>2.000000</td>\n",
       "    </tr>\n",
       "    <tr>\n",
       "      <th>75%</th>\n",
       "      <td>1.000000</td>\n",
       "      <td>3.000000</td>\n",
       "      <td>1.000000</td>\n",
       "      <td>31.275000</td>\n",
       "      <td>1.000000</td>\n",
       "      <td>1.000000</td>\n",
       "      <td>2.000000</td>\n",
       "      <td>3.000000</td>\n",
       "    </tr>\n",
       "    <tr>\n",
       "      <th>max</th>\n",
       "      <td>1.000000</td>\n",
       "      <td>3.000000</td>\n",
       "      <td>1.000000</td>\n",
       "      <td>512.329200</td>\n",
       "      <td>2.000000</td>\n",
       "      <td>4.000000</td>\n",
       "      <td>11.000000</td>\n",
       "      <td>5.000000</td>\n",
       "    </tr>\n",
       "  </tbody>\n",
       "</table>\n",
       "</div>"
      ],
      "text/plain": [
       "         Survived       Pclass          Sex         Fare     Embarked  \\\n",
       "count  891.000000  1309.000000  1309.000000  1309.000000  1309.000000   \n",
       "mean     0.383838     2.294882     0.644003    33.276993     0.394194   \n",
       "std      0.486592     0.837836     0.478997    51.743202     0.653499   \n",
       "min      0.000000     1.000000     0.000000     0.000000     0.000000   \n",
       "25%      0.000000     2.000000     0.000000     7.895800     0.000000   \n",
       "50%      0.000000     3.000000     1.000000    14.454200     0.000000   \n",
       "75%      1.000000     3.000000     1.000000    31.275000     1.000000   \n",
       "max      1.000000     3.000000     1.000000   512.329200     2.000000   \n",
       "\n",
       "        Name_title       family     Age_band  \n",
       "count  1309.000000  1309.000000  1309.000000  \n",
       "mean      0.723453     1.883881     2.271963  \n",
       "std       0.999193     1.583639     0.789447  \n",
       "min       0.000000     1.000000     1.000000  \n",
       "25%       0.000000     1.000000     2.000000  \n",
       "50%       0.000000     1.000000     2.000000  \n",
       "75%       1.000000     2.000000     3.000000  \n",
       "max       4.000000    11.000000     5.000000  "
      ]
     },
     "execution_count": 271,
     "metadata": {},
     "output_type": "execute_result"
    }
   ],
   "source": [
    "train_test.describe()"
   ]
  },
  {
   "cell_type": "markdown",
   "id": "antique-resident",
   "metadata": {},
   "source": [
    "### target label 확인(분포, 값)"
   ]
  },
  {
   "cell_type": "code",
   "execution_count": 272,
   "id": "instant-alignment",
   "metadata": {},
   "outputs": [
    {
     "data": {
      "text/plain": [
       "0    549\n",
       "1    342\n",
       "Name: Survived, dtype: int64"
      ]
     },
     "execution_count": 272,
     "metadata": {},
     "output_type": "execute_result"
    }
   ],
   "source": [
    "train['Survived'].value_counts()"
   ]
  },
  {
   "cell_type": "code",
   "execution_count": 273,
   "id": "understanding-secretary",
   "metadata": {},
   "outputs": [
    {
     "name": "stdout",
     "output_type": "stream",
     "text": [
      "61.61616161616161\n",
      "38.38383838383838\n"
     ]
    }
   ],
   "source": [
    "print(train[train['Survived']==0]['Survived'].count() / train.shape[0] * 100)\n",
    "print(train[train['Survived']==1]['Survived'].count() / train.shape[0] * 100)"
   ]
  },
  {
   "cell_type": "markdown",
   "id": "periodic-truck",
   "metadata": {},
   "source": [
    "# 결측 확인(Missing Value)"
   ]
  },
  {
   "cell_type": "code",
   "execution_count": 274,
   "id": "municipal-document",
   "metadata": {},
   "outputs": [
    {
     "data": {
      "text/plain": [
       "PassengerId      0\n",
       "Survived         0\n",
       "Pclass           0\n",
       "Name             0\n",
       "Sex              0\n",
       "Age            177\n",
       "SibSp            0\n",
       "Parch            0\n",
       "Ticket           0\n",
       "Fare             0\n",
       "Cabin          687\n",
       "Embarked         2\n",
       "dtype: int64"
      ]
     },
     "execution_count": 274,
     "metadata": {},
     "output_type": "execute_result"
    }
   ],
   "source": [
    "train.isna().sum()"
   ]
  },
  {
   "cell_type": "code",
   "execution_count": 275,
   "id": "reasonable-township",
   "metadata": {},
   "outputs": [
    {
     "data": {
      "text/plain": [
       "PassengerId      0\n",
       "Pclass           0\n",
       "Name             0\n",
       "Sex              0\n",
       "Age             86\n",
       "SibSp            0\n",
       "Parch            0\n",
       "Ticket           0\n",
       "Fare             1\n",
       "Cabin          327\n",
       "Embarked         0\n",
       "dtype: int64"
      ]
     },
     "execution_count": 275,
     "metadata": {},
     "output_type": "execute_result"
    }
   ],
   "source": [
    "test.isna().sum()"
   ]
  },
  {
   "cell_type": "code",
   "execution_count": 276,
   "id": "assured-consortium",
   "metadata": {},
   "outputs": [
    {
     "data": {
      "text/plain": [
       "(1309, 12)"
      ]
     },
     "execution_count": 276,
     "metadata": {},
     "output_type": "execute_result"
    }
   ],
   "source": [
    "train_test = train.append(test)\n",
    "train_test.shape"
   ]
  },
  {
   "cell_type": "markdown",
   "id": "informative-blogger",
   "metadata": {},
   "source": [
    "## 공통함수"
   ]
  },
  {
   "cell_type": "code",
   "execution_count": 277,
   "id": "metallic-prior",
   "metadata": {},
   "outputs": [
    {
     "data": {
      "text/html": [
       "<div>\n",
       "<style scoped>\n",
       "    .dataframe tbody tr th:only-of-type {\n",
       "        vertical-align: middle;\n",
       "    }\n",
       "\n",
       "    .dataframe tbody tr th {\n",
       "        vertical-align: top;\n",
       "    }\n",
       "\n",
       "    .dataframe thead th {\n",
       "        text-align: right;\n",
       "    }\n",
       "</style>\n",
       "<table border=\"1\" class=\"dataframe\">\n",
       "  <thead>\n",
       "    <tr style=\"text-align: right;\">\n",
       "      <th></th>\n",
       "      <th>PassengerId</th>\n",
       "      <th>Survived</th>\n",
       "      <th>Pclass</th>\n",
       "      <th>Name</th>\n",
       "      <th>Sex</th>\n",
       "      <th>Age</th>\n",
       "      <th>SibSp</th>\n",
       "      <th>Parch</th>\n",
       "      <th>Ticket</th>\n",
       "      <th>Fare</th>\n",
       "      <th>Cabin</th>\n",
       "      <th>Embarked</th>\n",
       "    </tr>\n",
       "  </thead>\n",
       "  <tbody>\n",
       "    <tr>\n",
       "      <th>CNT</th>\n",
       "      <td>0.0</td>\n",
       "      <td>418.000000</td>\n",
       "      <td>0.0</td>\n",
       "      <td>0.0</td>\n",
       "      <td>0.0</td>\n",
       "      <td>263.000000</td>\n",
       "      <td>0.0</td>\n",
       "      <td>0.0</td>\n",
       "      <td>0.0</td>\n",
       "      <td>1.000000</td>\n",
       "      <td>1014.000000</td>\n",
       "      <td>2.000000</td>\n",
       "    </tr>\n",
       "    <tr>\n",
       "      <th>RATE</th>\n",
       "      <td>0.0</td>\n",
       "      <td>31.932773</td>\n",
       "      <td>0.0</td>\n",
       "      <td>0.0</td>\n",
       "      <td>0.0</td>\n",
       "      <td>20.091673</td>\n",
       "      <td>0.0</td>\n",
       "      <td>0.0</td>\n",
       "      <td>0.0</td>\n",
       "      <td>0.076394</td>\n",
       "      <td>77.463713</td>\n",
       "      <td>0.152788</td>\n",
       "    </tr>\n",
       "  </tbody>\n",
       "</table>\n",
       "</div>"
      ],
      "text/plain": [
       "      PassengerId    Survived  Pclass  Name  Sex         Age  SibSp  Parch  \\\n",
       "CNT           0.0  418.000000     0.0   0.0  0.0  263.000000    0.0    0.0   \n",
       "RATE          0.0   31.932773     0.0   0.0  0.0   20.091673    0.0    0.0   \n",
       "\n",
       "      Ticket      Fare        Cabin  Embarked  \n",
       "CNT      0.0  1.000000  1014.000000  2.000000  \n",
       "RATE     0.0  0.076394    77.463713  0.152788  "
      ]
     },
     "execution_count": 277,
     "metadata": {},
     "output_type": "execute_result"
    }
   ],
   "source": [
    "def nan_check():\n",
    "    nan_dict = {\"CNT\" : train_test.isna().sum(),\n",
    "                \"RATE\" :train_test.isna().sum() / train_test.shape[0] * 100 }\n",
    "    nan_df = pd.DataFrame(nan_dict)\n",
    "    return nan_df.head(20).T\n",
    "nan_check()"
   ]
  },
  {
   "cell_type": "markdown",
   "id": "acute-cruise",
   "metadata": {},
   "source": [
    "# Feature Engineering (가공)"
   ]
  },
  {
   "cell_type": "markdown",
   "id": "previous-pound",
   "metadata": {},
   "source": [
    "###  1.. 인코딩(encoding) : Object --> numeric 타입 변환\n",
    "<pre>\n",
    "3   Name         891 non-null    object  ---> Mr.Miss.\n",
    "4   Sex          891 non-null    object  ---> 1/0\n",
    "8   Ticket       891 non-null    object  ---> drop\n",
    "10  Cabin        204 non-null    object  ---> A~E??? \n",
    "11  Embarked     889 non-null    object  ---> 0/1/2\n",
    "</pre>"
   ]
  },
  {
   "cell_type": "markdown",
   "id": "hourly-upset",
   "metadata": {},
   "source": [
    "* 10  Cabin        204 non-null    object  ---> A~E??? "
   ]
  },
  {
   "cell_type": "code",
   "execution_count": 278,
   "id": "cutting-discretion",
   "metadata": {},
   "outputs": [
    {
     "data": {
      "text/plain": [
       "'el'"
      ]
     },
     "execution_count": 278,
     "metadata": {},
     "output_type": "execute_result"
    }
   ],
   "source": [
    "\"hello\"[1:3]"
   ]
  },
  {
   "cell_type": "code",
   "execution_count": 279,
   "id": "exceptional-victim",
   "metadata": {},
   "outputs": [
    {
     "data": {
      "text/html": [
       "<div>\n",
       "<style scoped>\n",
       "    .dataframe tbody tr th:only-of-type {\n",
       "        vertical-align: middle;\n",
       "    }\n",
       "\n",
       "    .dataframe tbody tr th {\n",
       "        vertical-align: top;\n",
       "    }\n",
       "\n",
       "    .dataframe thead th {\n",
       "        text-align: right;\n",
       "    }\n",
       "</style>\n",
       "<table border=\"1\" class=\"dataframe\">\n",
       "  <thead>\n",
       "    <tr style=\"text-align: right;\">\n",
       "      <th>Survived</th>\n",
       "      <th>0</th>\n",
       "      <th>1</th>\n",
       "    </tr>\n",
       "    <tr>\n",
       "      <th>Cabin</th>\n",
       "      <th></th>\n",
       "      <th></th>\n",
       "    </tr>\n",
       "  </thead>\n",
       "  <tbody>\n",
       "    <tr>\n",
       "      <th>A</th>\n",
       "      <td>8</td>\n",
       "      <td>7</td>\n",
       "    </tr>\n",
       "    <tr>\n",
       "      <th>B</th>\n",
       "      <td>12</td>\n",
       "      <td>35</td>\n",
       "    </tr>\n",
       "    <tr>\n",
       "      <th>C</th>\n",
       "      <td>24</td>\n",
       "      <td>35</td>\n",
       "    </tr>\n",
       "    <tr>\n",
       "      <th>D</th>\n",
       "      <td>8</td>\n",
       "      <td>25</td>\n",
       "    </tr>\n",
       "    <tr>\n",
       "      <th>E</th>\n",
       "      <td>8</td>\n",
       "      <td>24</td>\n",
       "    </tr>\n",
       "    <tr>\n",
       "      <th>F</th>\n",
       "      <td>5</td>\n",
       "      <td>8</td>\n",
       "    </tr>\n",
       "    <tr>\n",
       "      <th>G</th>\n",
       "      <td>2</td>\n",
       "      <td>2</td>\n",
       "    </tr>\n",
       "    <tr>\n",
       "      <th>T</th>\n",
       "      <td>1</td>\n",
       "      <td>0</td>\n",
       "    </tr>\n",
       "  </tbody>\n",
       "</table>\n",
       "</div>"
      ],
      "text/plain": [
       "Survived   0   1\n",
       "Cabin           \n",
       "A          8   7\n",
       "B         12  35\n",
       "C         24  35\n",
       "D          8  25\n",
       "E          8  24\n",
       "F          5   8\n",
       "G          2   2\n",
       "T          1   0"
      ]
     },
     "execution_count": 279,
     "metadata": {},
     "output_type": "execute_result"
    }
   ],
   "source": [
    "train_test['Cabin'].fillna('U0', inplace=True)\n",
    "# print(train_test['Cabin'].str[0:1].value_counts())\n",
    "train_test['Cabin'] = train_test['Cabin'].str[0:1]\n",
    "train['Cabin'] = train['Cabin'].str[0:1]\n",
    "\n",
    "cross = pd.crosstab(train['Cabin'], train['Survived'])\n",
    "cross\n"
   ]
  },
  {
   "cell_type": "code",
   "execution_count": 280,
   "id": "536b0212-0c49-4e3f-83aa-620d24d50e25",
   "metadata": {},
   "outputs": [
    {
     "data": {
      "text/html": [
       "<div>\n",
       "<style scoped>\n",
       "    .dataframe tbody tr th:only-of-type {\n",
       "        vertical-align: middle;\n",
       "    }\n",
       "\n",
       "    .dataframe tbody tr th {\n",
       "        vertical-align: top;\n",
       "    }\n",
       "\n",
       "    .dataframe thead th {\n",
       "        text-align: right;\n",
       "    }\n",
       "</style>\n",
       "<table border=\"1\" class=\"dataframe\">\n",
       "  <thead>\n",
       "    <tr style=\"text-align: right;\">\n",
       "      <th>Pclass</th>\n",
       "      <th>1</th>\n",
       "      <th>2</th>\n",
       "      <th>3</th>\n",
       "    </tr>\n",
       "    <tr>\n",
       "      <th>Cabin</th>\n",
       "      <th></th>\n",
       "      <th></th>\n",
       "      <th></th>\n",
       "    </tr>\n",
       "  </thead>\n",
       "  <tbody>\n",
       "    <tr>\n",
       "      <th>A</th>\n",
       "      <td>15</td>\n",
       "      <td>0</td>\n",
       "      <td>0</td>\n",
       "    </tr>\n",
       "    <tr>\n",
       "      <th>B</th>\n",
       "      <td>47</td>\n",
       "      <td>0</td>\n",
       "      <td>0</td>\n",
       "    </tr>\n",
       "    <tr>\n",
       "      <th>C</th>\n",
       "      <td>59</td>\n",
       "      <td>0</td>\n",
       "      <td>0</td>\n",
       "    </tr>\n",
       "    <tr>\n",
       "      <th>D</th>\n",
       "      <td>29</td>\n",
       "      <td>4</td>\n",
       "      <td>0</td>\n",
       "    </tr>\n",
       "    <tr>\n",
       "      <th>E</th>\n",
       "      <td>25</td>\n",
       "      <td>4</td>\n",
       "      <td>3</td>\n",
       "    </tr>\n",
       "    <tr>\n",
       "      <th>F</th>\n",
       "      <td>0</td>\n",
       "      <td>8</td>\n",
       "      <td>5</td>\n",
       "    </tr>\n",
       "    <tr>\n",
       "      <th>G</th>\n",
       "      <td>0</td>\n",
       "      <td>0</td>\n",
       "      <td>4</td>\n",
       "    </tr>\n",
       "    <tr>\n",
       "      <th>T</th>\n",
       "      <td>1</td>\n",
       "      <td>0</td>\n",
       "      <td>0</td>\n",
       "    </tr>\n",
       "  </tbody>\n",
       "</table>\n",
       "</div>"
      ],
      "text/plain": [
       "Pclass   1  2  3\n",
       "Cabin           \n",
       "A       15  0  0\n",
       "B       47  0  0\n",
       "C       59  0  0\n",
       "D       29  4  0\n",
       "E       25  4  3\n",
       "F        0  8  5\n",
       "G        0  0  4\n",
       "T        1  0  0"
      ]
     },
     "execution_count": 280,
     "metadata": {},
     "output_type": "execute_result"
    }
   ],
   "source": [
    "cross = pd.crosstab(train['Cabin'], train['Pclass'])\n",
    "cross"
   ]
  },
  {
   "cell_type": "markdown",
   "id": "built-tension",
   "metadata": {},
   "source": [
    "* 4   Sex          891 non-null    object  ---> 1/0\n",
    "* 11  Embarked     889 non-null    object  ---> 0/1/2\n",
    "-----\n",
    "1. 인코딩\n",
    "2. 원핫인코딩\n",
    "3. (1+2)df.get_dummy()\n",
    "4. map(), apply(), lambda"
   ]
  },
  {
   "cell_type": "code",
   "execution_count": 281,
   "id": "political-fifth",
   "metadata": {},
   "outputs": [
    {
     "data": {
      "text/plain": [
       "(1309, 12)"
      ]
     },
     "execution_count": 281,
     "metadata": {},
     "output_type": "execute_result"
    }
   ],
   "source": [
    "train_test.shape"
   ]
  },
  {
   "cell_type": "code",
   "execution_count": 282,
   "id": "5458db4f-b375-4688-bb6a-552140aa2f5a",
   "metadata": {},
   "outputs": [
    {
     "data": {
      "text/html": [
       "<div>\n",
       "<style scoped>\n",
       "    .dataframe tbody tr th:only-of-type {\n",
       "        vertical-align: middle;\n",
       "    }\n",
       "\n",
       "    .dataframe tbody tr th {\n",
       "        vertical-align: top;\n",
       "    }\n",
       "\n",
       "    .dataframe thead th {\n",
       "        text-align: right;\n",
       "    }\n",
       "</style>\n",
       "<table border=\"1\" class=\"dataframe\">\n",
       "  <thead>\n",
       "    <tr style=\"text-align: right;\">\n",
       "      <th></th>\n",
       "      <th>Sex</th>\n",
       "      <th>Embarked</th>\n",
       "    </tr>\n",
       "  </thead>\n",
       "  <tbody>\n",
       "    <tr>\n",
       "      <th>0</th>\n",
       "      <td>1</td>\n",
       "      <td>S</td>\n",
       "    </tr>\n",
       "    <tr>\n",
       "      <th>1</th>\n",
       "      <td>0</td>\n",
       "      <td>C</td>\n",
       "    </tr>\n",
       "    <tr>\n",
       "      <th>2</th>\n",
       "      <td>0</td>\n",
       "      <td>S</td>\n",
       "    </tr>\n",
       "    <tr>\n",
       "      <th>3</th>\n",
       "      <td>0</td>\n",
       "      <td>S</td>\n",
       "    </tr>\n",
       "    <tr>\n",
       "      <th>4</th>\n",
       "      <td>1</td>\n",
       "      <td>S</td>\n",
       "    </tr>\n",
       "  </tbody>\n",
       "</table>\n",
       "</div>"
      ],
      "text/plain": [
       "   Sex Embarked\n",
       "0    1        S\n",
       "1    0        C\n",
       "2    0        S\n",
       "3    0        S\n",
       "4    1        S"
      ]
     },
     "execution_count": 282,
     "metadata": {},
     "output_type": "execute_result"
    }
   ],
   "source": [
    "cp1 = train_test[[\"Sex\",\"Embarked\"]].head()\n",
    "cp1 = cp1.replace(\"male\",1)\n",
    "cp1 = cp1.replace(\"female\",0)\n",
    "cp1.head()"
   ]
  },
  {
   "cell_type": "code",
   "execution_count": 283,
   "id": "98c7d787-9809-4cdb-b693-746314e97883",
   "metadata": {},
   "outputs": [
    {
     "data": {
      "text/html": [
       "<div>\n",
       "<style scoped>\n",
       "    .dataframe tbody tr th:only-of-type {\n",
       "        vertical-align: middle;\n",
       "    }\n",
       "\n",
       "    .dataframe tbody tr th {\n",
       "        vertical-align: top;\n",
       "    }\n",
       "\n",
       "    .dataframe thead th {\n",
       "        text-align: right;\n",
       "    }\n",
       "</style>\n",
       "<table border=\"1\" class=\"dataframe\">\n",
       "  <thead>\n",
       "    <tr style=\"text-align: right;\">\n",
       "      <th></th>\n",
       "      <th>Sex</th>\n",
       "      <th>Embarked</th>\n",
       "      <th>Sex22</th>\n",
       "    </tr>\n",
       "  </thead>\n",
       "  <tbody>\n",
       "    <tr>\n",
       "      <th>0</th>\n",
       "      <td>male</td>\n",
       "      <td>S</td>\n",
       "      <td>0</td>\n",
       "    </tr>\n",
       "    <tr>\n",
       "      <th>1</th>\n",
       "      <td>female</td>\n",
       "      <td>C</td>\n",
       "      <td>1</td>\n",
       "    </tr>\n",
       "    <tr>\n",
       "      <th>2</th>\n",
       "      <td>female</td>\n",
       "      <td>S</td>\n",
       "      <td>1</td>\n",
       "    </tr>\n",
       "    <tr>\n",
       "      <th>3</th>\n",
       "      <td>female</td>\n",
       "      <td>S</td>\n",
       "      <td>1</td>\n",
       "    </tr>\n",
       "    <tr>\n",
       "      <th>4</th>\n",
       "      <td>male</td>\n",
       "      <td>S</td>\n",
       "      <td>0</td>\n",
       "    </tr>\n",
       "  </tbody>\n",
       "</table>\n",
       "</div>"
      ],
      "text/plain": [
       "      Sex Embarked  Sex22\n",
       "0    male        S      0\n",
       "1  female        C      1\n",
       "2  female        S      1\n",
       "3  female        S      1\n",
       "4    male        S      0"
      ]
     },
     "execution_count": 283,
     "metadata": {},
     "output_type": "execute_result"
    }
   ],
   "source": [
    "cp2 = train_test[[\"Sex\",\"Embarked\"]].head()\n",
    "cp2.head()\n",
    "dict = {\"male\":0, \"female\":1}\n",
    "cp2[\"Sex22\"] = cp2[\"Sex\"].map(dict)\n",
    "cp2.head()"
   ]
  },
  {
   "cell_type": "code",
   "execution_count": 284,
   "id": "8e8a0977-e2dc-4826-b671-c848219199da",
   "metadata": {},
   "outputs": [
    {
     "data": {
      "text/html": [
       "<div>\n",
       "<style scoped>\n",
       "    .dataframe tbody tr th:only-of-type {\n",
       "        vertical-align: middle;\n",
       "    }\n",
       "\n",
       "    .dataframe tbody tr th {\n",
       "        vertical-align: top;\n",
       "    }\n",
       "\n",
       "    .dataframe thead th {\n",
       "        text-align: right;\n",
       "    }\n",
       "</style>\n",
       "<table border=\"1\" class=\"dataframe\">\n",
       "  <thead>\n",
       "    <tr style=\"text-align: right;\">\n",
       "      <th></th>\n",
       "      <th>Sex</th>\n",
       "      <th>Embarked</th>\n",
       "      <th>Sex22</th>\n",
       "    </tr>\n",
       "  </thead>\n",
       "  <tbody>\n",
       "    <tr>\n",
       "      <th>0</th>\n",
       "      <td>male</td>\n",
       "      <td>S</td>\n",
       "      <td>1</td>\n",
       "    </tr>\n",
       "    <tr>\n",
       "      <th>1</th>\n",
       "      <td>female</td>\n",
       "      <td>C</td>\n",
       "      <td>0</td>\n",
       "    </tr>\n",
       "    <tr>\n",
       "      <th>2</th>\n",
       "      <td>female</td>\n",
       "      <td>S</td>\n",
       "      <td>0</td>\n",
       "    </tr>\n",
       "    <tr>\n",
       "      <th>3</th>\n",
       "      <td>female</td>\n",
       "      <td>S</td>\n",
       "      <td>0</td>\n",
       "    </tr>\n",
       "    <tr>\n",
       "      <th>4</th>\n",
       "      <td>male</td>\n",
       "      <td>S</td>\n",
       "      <td>1</td>\n",
       "    </tr>\n",
       "  </tbody>\n",
       "</table>\n",
       "</div>"
      ],
      "text/plain": [
       "      Sex Embarked  Sex22\n",
       "0    male        S      1\n",
       "1  female        C      0\n",
       "2  female        S      0\n",
       "3  female        S      0\n",
       "4    male        S      1"
      ]
     },
     "execution_count": 284,
     "metadata": {},
     "output_type": "execute_result"
    }
   ],
   "source": [
    "cp3 = train_test[[\"Sex\",\"Embarked\"]].head()\n",
    "cp3[\"Sex22\"] = cp3[\"Sex\"].apply(lambda x : 1 if x=='male' else 0)\n",
    "cp3.head()"
   ]
  },
  {
   "cell_type": "code",
   "execution_count": 285,
   "id": "b3426095-9d11-4d78-badc-90506b680b94",
   "metadata": {},
   "outputs": [
    {
     "name": "stdout",
     "output_type": "stream",
     "text": [
      "['S' 'C' 'Q' nan]\n",
      "3\n",
      "S    914\n",
      "C    270\n",
      "Q    123\n",
      "Name: Embarked, dtype: int64\n",
      "0    S\n",
      "dtype: object\n"
     ]
    }
   ],
   "source": [
    "print(train_test[\"Embarked\"].unique())        \n",
    "print(train_test[\"Embarked\"].nunique())        \n",
    "print(train_test[\"Embarked\"].value_counts())  #S\n",
    "print(train_test[\"Embarked\"].mode())          #최빈값"
   ]
  },
  {
   "cell_type": "code",
   "execution_count": 286,
   "id": "9e52a14c-512a-4c23-950e-0b41620e605c",
   "metadata": {},
   "outputs": [
    {
     "data": {
      "text/plain": [
       "0"
      ]
     },
     "execution_count": 286,
     "metadata": {},
     "output_type": "execute_result"
    }
   ],
   "source": [
    "train_test[\"Embarked\"].fillna(\"S\", inplace=True)\n",
    "train_test[\"Embarked\"].isna().sum()"
   ]
  },
  {
   "cell_type": "code",
   "execution_count": 287,
   "id": "a2847dc5-358d-4706-b41a-e7477486c5c4",
   "metadata": {},
   "outputs": [],
   "source": [
    "#train_test[\"Embarked\"].fillna(train_test[\"Embarked\"].mode(), inplace=True)\n",
    "#train_test[\"Embarked\"].isna().sum()"
   ]
  },
  {
   "cell_type": "code",
   "execution_count": 288,
   "id": "b77f2bcd-4920-4c9d-8c18-51313b011fcb",
   "metadata": {},
   "outputs": [
    {
     "data": {
      "text/html": [
       "<div>\n",
       "<style scoped>\n",
       "    .dataframe tbody tr th:only-of-type {\n",
       "        vertical-align: middle;\n",
       "    }\n",
       "\n",
       "    .dataframe tbody tr th {\n",
       "        vertical-align: top;\n",
       "    }\n",
       "\n",
       "    .dataframe thead th {\n",
       "        text-align: right;\n",
       "    }\n",
       "</style>\n",
       "<table border=\"1\" class=\"dataframe\">\n",
       "  <thead>\n",
       "    <tr style=\"text-align: right;\">\n",
       "      <th></th>\n",
       "      <th>Sex</th>\n",
       "      <th>Embarked</th>\n",
       "      <th>Embarked22</th>\n",
       "    </tr>\n",
       "  </thead>\n",
       "  <tbody>\n",
       "    <tr>\n",
       "      <th>0</th>\n",
       "      <td>male</td>\n",
       "      <td>S</td>\n",
       "      <td>0</td>\n",
       "    </tr>\n",
       "    <tr>\n",
       "      <th>1</th>\n",
       "      <td>female</td>\n",
       "      <td>C</td>\n",
       "      <td>1</td>\n",
       "    </tr>\n",
       "    <tr>\n",
       "      <th>2</th>\n",
       "      <td>female</td>\n",
       "      <td>S</td>\n",
       "      <td>0</td>\n",
       "    </tr>\n",
       "    <tr>\n",
       "      <th>3</th>\n",
       "      <td>female</td>\n",
       "      <td>S</td>\n",
       "      <td>0</td>\n",
       "    </tr>\n",
       "    <tr>\n",
       "      <th>4</th>\n",
       "      <td>male</td>\n",
       "      <td>S</td>\n",
       "      <td>0</td>\n",
       "    </tr>\n",
       "  </tbody>\n",
       "</table>\n",
       "</div>"
      ],
      "text/plain": [
       "      Sex Embarked  Embarked22\n",
       "0    male        S           0\n",
       "1  female        C           1\n",
       "2  female        S           0\n",
       "3  female        S           0\n",
       "4    male        S           0"
      ]
     },
     "execution_count": 288,
     "metadata": {},
     "output_type": "execute_result"
    }
   ],
   "source": [
    "cp4 = train_test[[\"Sex\",\"Embarked\"]].head()\n",
    "#'S'0 'C'1 'Q'2 \n",
    "cp4[\"Embarked22\"] = cp3[\"Embarked\"].apply(lambda x : 0 if x=='S' else (1 if x=='C' else 2) )\n",
    "cp4.head()"
   ]
  },
  {
   "cell_type": "code",
   "execution_count": 289,
   "id": "a9757980-9e6d-4991-8b80-aa9e4dc30a13",
   "metadata": {},
   "outputs": [
    {
     "data": {
      "text/html": [
       "<div>\n",
       "<style scoped>\n",
       "    .dataframe tbody tr th:only-of-type {\n",
       "        vertical-align: middle;\n",
       "    }\n",
       "\n",
       "    .dataframe tbody tr th {\n",
       "        vertical-align: top;\n",
       "    }\n",
       "\n",
       "    .dataframe thead th {\n",
       "        text-align: right;\n",
       "    }\n",
       "</style>\n",
       "<table border=\"1\" class=\"dataframe\">\n",
       "  <thead>\n",
       "    <tr style=\"text-align: right;\">\n",
       "      <th></th>\n",
       "      <th>Sex</th>\n",
       "      <th>Embarked</th>\n",
       "    </tr>\n",
       "  </thead>\n",
       "  <tbody>\n",
       "    <tr>\n",
       "      <th>0</th>\n",
       "      <td>1</td>\n",
       "      <td>0</td>\n",
       "    </tr>\n",
       "    <tr>\n",
       "      <th>1</th>\n",
       "      <td>0</td>\n",
       "      <td>1</td>\n",
       "    </tr>\n",
       "    <tr>\n",
       "      <th>2</th>\n",
       "      <td>0</td>\n",
       "      <td>0</td>\n",
       "    </tr>\n",
       "    <tr>\n",
       "      <th>3</th>\n",
       "      <td>0</td>\n",
       "      <td>0</td>\n",
       "    </tr>\n",
       "    <tr>\n",
       "      <th>4</th>\n",
       "      <td>1</td>\n",
       "      <td>0</td>\n",
       "    </tr>\n",
       "  </tbody>\n",
       "</table>\n",
       "</div>"
      ],
      "text/plain": [
       "   Sex  Embarked\n",
       "0    1         0\n",
       "1    0         1\n",
       "2    0         0\n",
       "3    0         0\n",
       "4    1         0"
      ]
     },
     "execution_count": 289,
     "metadata": {},
     "output_type": "execute_result"
    }
   ],
   "source": [
    "train_test[\"Sex\"] = train_test[\"Sex\"].apply(lambda x : 1 if x=='male' else 0)\n",
    "dict = {'S':0, 'C':1, 'Q':2 }\n",
    "train_test[\"Embarked\"] = train_test[\"Embarked\"].map(dict)\n",
    "train_test[[\"Sex\",\"Embarked\"]].head()"
   ]
  },
  {
   "cell_type": "code",
   "execution_count": 290,
   "id": "64b4ec70-c2e0-4f9d-985d-78d4aea29b62",
   "metadata": {},
   "outputs": [
    {
     "name": "stdout",
     "output_type": "stream",
     "text": [
      "[0 1 2]\n"
     ]
    }
   ],
   "source": [
    "print(train_test[\"Embarked\"].unique())    "
   ]
  },
  {
   "cell_type": "code",
   "execution_count": 291,
   "id": "herbal-feedback",
   "metadata": {},
   "outputs": [],
   "source": [
    "# train_test = pd.get_dummies(train_test)\n",
    "# train_test.shape\n",
    "# train_test.head()"
   ]
  },
  {
   "cell_type": "markdown",
   "id": "ac37010a-d366-4e61-8e1d-d9149ae55879",
   "metadata": {},
   "source": [
    "### 2.. 결측값 채우기"
   ]
  },
  {
   "cell_type": "markdown",
   "id": "75dba44a-e2e7-4e53-844b-f3899c677547",
   "metadata": {},
   "source": [
    "* Age            177  --> 호칭별 그룹 평균값\n",
    "* Cabin          687  --> 너무도 많은(50%이상) 결측 버린다\n",
    "* Embarked         2  --> 최빈값(빈도가 가장 많은)\n",
    "* Fare             1  --> 유사한 [동행자수,등급] (평균값)\n",
    "----\n",
    "df.fillna()"
   ]
  },
  {
   "cell_type": "code",
   "execution_count": 292,
   "id": "0e1c8070-3413-478c-a4a0-ec8de6c54405",
   "metadata": {},
   "outputs": [
    {
     "data": {
      "text/plain": [
       "Mr          757\n",
       "Miss        260\n",
       "Mrs         197\n",
       "Master       61\n",
       "Rev           8\n",
       "Dr            8\n",
       "Col           4\n",
       "Mlle          2\n",
       "Major         2\n",
       "Ms            2\n",
       "Lady          1\n",
       "Sir           1\n",
       "Mme           1\n",
       "Don           1\n",
       "Capt          1\n",
       "Countess      1\n",
       "Jonkheer      1\n",
       "Dona          1\n",
       "Name: Name_title, dtype: int64"
      ]
     },
     "execution_count": 292,
     "metadata": {},
     "output_type": "execute_result"
    }
   ],
   "source": [
    "train_test[\"Name_title\"] = train_test[\"Name\"].str.extract('([A-Za-z]+)\\.')\n",
    "train_test[\"Name_title\"].value_counts()"
   ]
  },
  {
   "cell_type": "code",
   "execution_count": 293,
   "id": "67f4d9e5-6f4d-4e34-8024-11982f61bf37",
   "metadata": {},
   "outputs": [
    {
     "data": {
      "text/plain": [
       "array(['Mr', 'Mrs', 'Miss', 'Master', 'Dr', 'Ms'], dtype=object)"
      ]
     },
     "execution_count": 293,
     "metadata": {},
     "output_type": "execute_result"
    }
   ],
   "source": [
    " train_test[train_test[\"Age\"].isna()][\"Name_title\"].unique()"
   ]
  },
  {
   "cell_type": "code",
   "execution_count": 294,
   "id": "7b11a6ab-65cf-40d2-a9d8-2cbbb4655631",
   "metadata": {},
   "outputs": [
    {
     "data": {
      "text/html": [
       "<div>\n",
       "<style scoped>\n",
       "    .dataframe tbody tr th:only-of-type {\n",
       "        vertical-align: middle;\n",
       "    }\n",
       "\n",
       "    .dataframe tbody tr th {\n",
       "        vertical-align: top;\n",
       "    }\n",
       "\n",
       "    .dataframe thead th {\n",
       "        text-align: right;\n",
       "    }\n",
       "</style>\n",
       "<table border=\"1\" class=\"dataframe\">\n",
       "  <thead>\n",
       "    <tr style=\"text-align: right;\">\n",
       "      <th></th>\n",
       "      <th>Name</th>\n",
       "      <th>Name_title</th>\n",
       "    </tr>\n",
       "  </thead>\n",
       "  <tbody>\n",
       "    <tr>\n",
       "      <th>0</th>\n",
       "      <td>Braund, Mr. Owen Harris</td>\n",
       "      <td>0</td>\n",
       "    </tr>\n",
       "    <tr>\n",
       "      <th>1</th>\n",
       "      <td>Cumings, Mrs. John Bradley (Florence Briggs Th...</td>\n",
       "      <td>2</td>\n",
       "    </tr>\n",
       "    <tr>\n",
       "      <th>2</th>\n",
       "      <td>Heikkinen, Miss. Laina</td>\n",
       "      <td>1</td>\n",
       "    </tr>\n",
       "    <tr>\n",
       "      <th>3</th>\n",
       "      <td>Futrelle, Mrs. Jacques Heath (Lily May Peel)</td>\n",
       "      <td>2</td>\n",
       "    </tr>\n",
       "    <tr>\n",
       "      <th>4</th>\n",
       "      <td>Allen, Mr. William Henry</td>\n",
       "      <td>0</td>\n",
       "    </tr>\n",
       "  </tbody>\n",
       "</table>\n",
       "</div>"
      ],
      "text/plain": [
       "                                                Name  Name_title\n",
       "0                            Braund, Mr. Owen Harris           0\n",
       "1  Cumings, Mrs. John Bradley (Florence Briggs Th...           2\n",
       "2                             Heikkinen, Miss. Laina           1\n",
       "3       Futrelle, Mrs. Jacques Heath (Lily May Peel)           2\n",
       "4                           Allen, Mr. William Henry           0"
      ]
     },
     "execution_count": 294,
     "metadata": {},
     "output_type": "execute_result"
    }
   ],
   "source": [
    "title_map = {'Mr':0, \n",
    "       'Miss':1, 'Mlle':1, 'Ms':1, 'Lady':1,\n",
    "       'Mrs':2, 'Mme':2,\n",
    "       'Master':3, 'Dr':3, 'Sir':3,\n",
    "       'Rev':4, 'Col':4, 'Major':4, 'Don':4, 'Capt':4, 'Countess':4, 'Jonkheer':4, 'Dona':4}\n",
    "train_test[\"Name_title\"] = train_test[\"Name_title\"].map(title_map)\n",
    "train_test[[\"Name\",\"Name_title\"]].head()"
   ]
  },
  {
   "cell_type": "code",
   "execution_count": 295,
   "id": "03c70a7e-564a-4c86-82a2-775d540a398c",
   "metadata": {},
   "outputs": [
    {
     "name": "stdout",
     "output_type": "stream",
     "text": [
      "263\n",
      "0\n"
     ]
    }
   ],
   "source": [
    "# train_test.groupby(by=\"Name_title\")[\"Age\"].mean()\n",
    "print(train_test[\"Age\"].isna().sum())\n",
    "train_test[\"Age\"] = train_test[\"Age\"].fillna(  train_test.groupby(by=\"Name_title\")[\"Age\"].transform('mean')   )\n",
    "\n",
    "\n",
    "print(train_test[\"Age\"].isna().sum())"
   ]
  },
  {
   "cell_type": "markdown",
   "id": "ba6edf02-9232-40e0-98c6-bf133fc51ca5",
   "metadata": {},
   "source": [
    "#### 결측처리를 위한 파생변수 생성"
   ]
  },
  {
   "cell_type": "markdown",
   "id": "f178cfc4-cf23-48d2-bac4-123b0a14727b",
   "metadata": {},
   "source": [
    "* family = SibSp + Parch\n",
    "* SibSp, Parch --- 삭제"
   ]
  },
  {
   "cell_type": "code",
   "execution_count": 296,
   "id": "d318974c-60ac-4394-9337-a2dd7b522495",
   "metadata": {},
   "outputs": [
    {
     "data": {
      "text/html": [
       "<div>\n",
       "<style scoped>\n",
       "    .dataframe tbody tr th:only-of-type {\n",
       "        vertical-align: middle;\n",
       "    }\n",
       "\n",
       "    .dataframe tbody tr th {\n",
       "        vertical-align: top;\n",
       "    }\n",
       "\n",
       "    .dataframe thead th {\n",
       "        text-align: right;\n",
       "    }\n",
       "</style>\n",
       "<table border=\"1\" class=\"dataframe\">\n",
       "  <thead>\n",
       "    <tr style=\"text-align: right;\">\n",
       "      <th></th>\n",
       "      <th>family</th>\n",
       "      <th>SibSp</th>\n",
       "      <th>Parch</th>\n",
       "      <th>Pclass</th>\n",
       "      <th>Fare</th>\n",
       "    </tr>\n",
       "  </thead>\n",
       "  <tbody>\n",
       "    <tr>\n",
       "      <th>0</th>\n",
       "      <td>2</td>\n",
       "      <td>1</td>\n",
       "      <td>0</td>\n",
       "      <td>3</td>\n",
       "      <td>7.2500</td>\n",
       "    </tr>\n",
       "    <tr>\n",
       "      <th>1</th>\n",
       "      <td>2</td>\n",
       "      <td>1</td>\n",
       "      <td>0</td>\n",
       "      <td>1</td>\n",
       "      <td>71.2833</td>\n",
       "    </tr>\n",
       "    <tr>\n",
       "      <th>2</th>\n",
       "      <td>1</td>\n",
       "      <td>0</td>\n",
       "      <td>0</td>\n",
       "      <td>3</td>\n",
       "      <td>7.9250</td>\n",
       "    </tr>\n",
       "    <tr>\n",
       "      <th>3</th>\n",
       "      <td>2</td>\n",
       "      <td>1</td>\n",
       "      <td>0</td>\n",
       "      <td>1</td>\n",
       "      <td>53.1000</td>\n",
       "    </tr>\n",
       "    <tr>\n",
       "      <th>4</th>\n",
       "      <td>1</td>\n",
       "      <td>0</td>\n",
       "      <td>0</td>\n",
       "      <td>3</td>\n",
       "      <td>8.0500</td>\n",
       "    </tr>\n",
       "    <tr>\n",
       "      <th>5</th>\n",
       "      <td>1</td>\n",
       "      <td>0</td>\n",
       "      <td>0</td>\n",
       "      <td>3</td>\n",
       "      <td>8.4583</td>\n",
       "    </tr>\n",
       "    <tr>\n",
       "      <th>6</th>\n",
       "      <td>1</td>\n",
       "      <td>0</td>\n",
       "      <td>0</td>\n",
       "      <td>1</td>\n",
       "      <td>51.8625</td>\n",
       "    </tr>\n",
       "    <tr>\n",
       "      <th>7</th>\n",
       "      <td>5</td>\n",
       "      <td>3</td>\n",
       "      <td>1</td>\n",
       "      <td>3</td>\n",
       "      <td>21.0750</td>\n",
       "    </tr>\n",
       "    <tr>\n",
       "      <th>8</th>\n",
       "      <td>3</td>\n",
       "      <td>0</td>\n",
       "      <td>2</td>\n",
       "      <td>3</td>\n",
       "      <td>11.1333</td>\n",
       "    </tr>\n",
       "    <tr>\n",
       "      <th>9</th>\n",
       "      <td>2</td>\n",
       "      <td>1</td>\n",
       "      <td>0</td>\n",
       "      <td>2</td>\n",
       "      <td>30.0708</td>\n",
       "    </tr>\n",
       "    <tr>\n",
       "      <th>10</th>\n",
       "      <td>3</td>\n",
       "      <td>1</td>\n",
       "      <td>1</td>\n",
       "      <td>3</td>\n",
       "      <td>16.7000</td>\n",
       "    </tr>\n",
       "    <tr>\n",
       "      <th>11</th>\n",
       "      <td>1</td>\n",
       "      <td>0</td>\n",
       "      <td>0</td>\n",
       "      <td>1</td>\n",
       "      <td>26.5500</td>\n",
       "    </tr>\n",
       "    <tr>\n",
       "      <th>12</th>\n",
       "      <td>1</td>\n",
       "      <td>0</td>\n",
       "      <td>0</td>\n",
       "      <td>3</td>\n",
       "      <td>8.0500</td>\n",
       "    </tr>\n",
       "    <tr>\n",
       "      <th>13</th>\n",
       "      <td>7</td>\n",
       "      <td>1</td>\n",
       "      <td>5</td>\n",
       "      <td>3</td>\n",
       "      <td>31.2750</td>\n",
       "    </tr>\n",
       "    <tr>\n",
       "      <th>14</th>\n",
       "      <td>1</td>\n",
       "      <td>0</td>\n",
       "      <td>0</td>\n",
       "      <td>3</td>\n",
       "      <td>7.8542</td>\n",
       "    </tr>\n",
       "    <tr>\n",
       "      <th>15</th>\n",
       "      <td>1</td>\n",
       "      <td>0</td>\n",
       "      <td>0</td>\n",
       "      <td>2</td>\n",
       "      <td>16.0000</td>\n",
       "    </tr>\n",
       "    <tr>\n",
       "      <th>16</th>\n",
       "      <td>6</td>\n",
       "      <td>4</td>\n",
       "      <td>1</td>\n",
       "      <td>3</td>\n",
       "      <td>29.1250</td>\n",
       "    </tr>\n",
       "    <tr>\n",
       "      <th>17</th>\n",
       "      <td>1</td>\n",
       "      <td>0</td>\n",
       "      <td>0</td>\n",
       "      <td>2</td>\n",
       "      <td>13.0000</td>\n",
       "    </tr>\n",
       "    <tr>\n",
       "      <th>18</th>\n",
       "      <td>2</td>\n",
       "      <td>1</td>\n",
       "      <td>0</td>\n",
       "      <td>3</td>\n",
       "      <td>18.0000</td>\n",
       "    </tr>\n",
       "    <tr>\n",
       "      <th>19</th>\n",
       "      <td>1</td>\n",
       "      <td>0</td>\n",
       "      <td>0</td>\n",
       "      <td>3</td>\n",
       "      <td>7.2250</td>\n",
       "    </tr>\n",
       "  </tbody>\n",
       "</table>\n",
       "</div>"
      ],
      "text/plain": [
       "    family  SibSp  Parch  Pclass     Fare\n",
       "0        2      1      0       3   7.2500\n",
       "1        2      1      0       1  71.2833\n",
       "2        1      0      0       3   7.9250\n",
       "3        2      1      0       1  53.1000\n",
       "4        1      0      0       3   8.0500\n",
       "5        1      0      0       3   8.4583\n",
       "6        1      0      0       1  51.8625\n",
       "7        5      3      1       3  21.0750\n",
       "8        3      0      2       3  11.1333\n",
       "9        2      1      0       2  30.0708\n",
       "10       3      1      1       3  16.7000\n",
       "11       1      0      0       1  26.5500\n",
       "12       1      0      0       3   8.0500\n",
       "13       7      1      5       3  31.2750\n",
       "14       1      0      0       3   7.8542\n",
       "15       1      0      0       2  16.0000\n",
       "16       6      4      1       3  29.1250\n",
       "17       1      0      0       2  13.0000\n",
       "18       2      1      0       3  18.0000\n",
       "19       1      0      0       3   7.2250"
      ]
     },
     "execution_count": 296,
     "metadata": {},
     "output_type": "execute_result"
    }
   ],
   "source": [
    "train_test['family'] = train_test['SibSp'] + train_test['Parch'] + 1\n",
    "train_test[['family','SibSp','Parch','Pclass','Fare']].head(20)"
   ]
  },
  {
   "cell_type": "code",
   "execution_count": 297,
   "id": "69560f81-ccb9-436b-8e75-dde62a2fc741",
   "metadata": {},
   "outputs": [
    {
     "data": {
      "text/html": [
       "<div>\n",
       "<style scoped>\n",
       "    .dataframe tbody tr th:only-of-type {\n",
       "        vertical-align: middle;\n",
       "    }\n",
       "\n",
       "    .dataframe tbody tr th {\n",
       "        vertical-align: top;\n",
       "    }\n",
       "\n",
       "    .dataframe thead th {\n",
       "        text-align: right;\n",
       "    }\n",
       "</style>\n",
       "<table border=\"1\" class=\"dataframe\">\n",
       "  <thead>\n",
       "    <tr style=\"text-align: right;\">\n",
       "      <th></th>\n",
       "      <th>family</th>\n",
       "      <th>SibSp</th>\n",
       "      <th>Parch</th>\n",
       "      <th>Pclass</th>\n",
       "      <th>Fare</th>\n",
       "    </tr>\n",
       "  </thead>\n",
       "  <tbody>\n",
       "    <tr>\n",
       "      <th>152</th>\n",
       "      <td>1</td>\n",
       "      <td>0</td>\n",
       "      <td>0</td>\n",
       "      <td>3</td>\n",
       "      <td>NaN</td>\n",
       "    </tr>\n",
       "  </tbody>\n",
       "</table>\n",
       "</div>"
      ],
      "text/plain": [
       "     family  SibSp  Parch  Pclass  Fare\n",
       "152       1      0      0       3   NaN"
      ]
     },
     "execution_count": 297,
     "metadata": {},
     "output_type": "execute_result"
    }
   ],
   "source": [
    "#train_test[train_test['Fare'].isna()]\n",
    "train_test[train_test['Fare'].isna()][['family','SibSp','Parch','Pclass','Fare']]"
   ]
  },
  {
   "cell_type": "code",
   "execution_count": 298,
   "id": "4371df35-3273-4f53-bba2-1d041cccedc8",
   "metadata": {},
   "outputs": [
    {
     "name": "stdout",
     "output_type": "stream",
     "text": [
      "1\n",
      "9.0967\n",
      "0\n"
     ]
    }
   ],
   "source": [
    "print(train_test['Fare'].isna().sum())\n",
    "mean_fare = train_test[(train_test['family']==1) & (train_test['Pclass']==3)][\"Fare\"].mean()\n",
    "mean_fare = np.round(mean_fare,4)\n",
    "print(mean_fare)\n",
    "train_test['Fare'] = train_test['Fare'].fillna(mean_fare)\n",
    "print(train_test['Fare'].isna().sum())"
   ]
  },
  {
   "cell_type": "markdown",
   "id": "noticed-relief",
   "metadata": {},
   "source": [
    "### 3.. 정규분포(표준화)\n",
    "* 왜도(좌우 치우침)\n",
    "* 첨도(중앙값 부근으로 값이 치우침)"
   ]
  },
  {
   "cell_type": "markdown",
   "id": "stylish-place",
   "metadata": {},
   "source": [
    "### 4.. 스케일링(값의 지수화 == 수치 맞추기)\n",
    "* 값의 수치를 하나의 기준으로 맞추고 크고 작음을 비교"
   ]
  },
  {
   "cell_type": "markdown",
   "id": "agricultural-valentine",
   "metadata": {},
   "source": [
    "### 5.. 이상값(Outlier) 처리"
   ]
  },
  {
   "cell_type": "markdown",
   "id": "distributed-virgin",
   "metadata": {},
   "source": [
    "### 7. 구간화(바인딩)\n",
    "* Age : 0 ~10  : 1\n",
    "        11~20  : 2"
   ]
  },
  {
   "cell_type": "code",
   "execution_count": 299,
   "id": "verified-juice",
   "metadata": {},
   "outputs": [
    {
     "name": "stdout",
     "output_type": "stream",
     "text": [
      "<class 'pandas.core.frame.DataFrame'>\n",
      "Int64Index: 1309 entries, 0 to 417\n",
      "Data columns (total 14 columns):\n",
      " #   Column       Non-Null Count  Dtype  \n",
      "---  ------       --------------  -----  \n",
      " 0   PassengerId  1309 non-null   int64  \n",
      " 1   Survived     891 non-null    float64\n",
      " 2   Pclass       1309 non-null   int64  \n",
      " 3   Name         1309 non-null   object \n",
      " 4   Sex          1309 non-null   int64  \n",
      " 5   Age          1309 non-null   float64\n",
      " 6   SibSp        1309 non-null   int64  \n",
      " 7   Parch        1309 non-null   int64  \n",
      " 8   Ticket       1309 non-null   object \n",
      " 9   Fare         1309 non-null   float64\n",
      " 10  Cabin        1309 non-null   object \n",
      " 11  Embarked     1309 non-null   int64  \n",
      " 12  Name_title   1309 non-null   int64  \n",
      " 13  family       1309 non-null   int64  \n",
      "dtypes: float64(3), int64(8), object(3)\n",
      "memory usage: 153.4+ KB\n"
     ]
    }
   ],
   "source": [
    "train_test.isna().sum()\n",
    "train_test.info()"
   ]
  },
  {
   "cell_type": "markdown",
   "id": "ae12e852-35d9-4f21-bb3c-50320cfa0c2d",
   "metadata": {},
   "source": [
    "# <font color=red>TODO</font>"
   ]
  },
  {
   "cell_type": "code",
   "execution_count": 300,
   "id": "f4311e1a-f96b-412f-a98c-5668081182dc",
   "metadata": {},
   "outputs": [],
   "source": [
    "# train_test2 = train_test.copy()\n",
    "\n",
    "# def aa(x):\n",
    "#     return x\n",
    "# train_test2[(train_test2['family']==1)&(train_test2['Pclass']==3)][\"Fare\"].transform('aa') \n",
    "\n",
    "# mean_fare\n",
    "# A=train_test[\"Age\"] = \n",
    "# train_test2[\"Age\"].fillna( train_test2.groupby(by=\"Name_title\")[\"Age\"].transform('mean')   )\n",
    "# train_test2[\"Age\"] "
   ]
  },
  {
   "cell_type": "markdown",
   "id": "southwest-tractor",
   "metadata": {},
   "source": [
    "## 삭제 컬럼"
   ]
  },
  {
   "cell_type": "code",
   "execution_count": 301,
   "id": "surprising-humidity",
   "metadata": {},
   "outputs": [],
   "source": [
    "drop_cols = ['PassengerId','Name','SibSp','Parch','Ticket','Cabin']  #점수보고 지우자 \n",
    "train_test.drop(drop_cols, axis=1, inplace=True)"
   ]
  },
  {
   "cell_type": "code",
   "execution_count": 302,
   "id": "c029819d-6809-49bb-8b50-d825f93ea919",
   "metadata": {},
   "outputs": [
    {
     "name": "stdout",
     "output_type": "stream",
     "text": [
      "<class 'pandas.core.frame.DataFrame'>\n",
      "Int64Index: 1309 entries, 0 to 417\n",
      "Data columns (total 8 columns):\n",
      " #   Column      Non-Null Count  Dtype  \n",
      "---  ------      --------------  -----  \n",
      " 0   Survived    891 non-null    float64\n",
      " 1   Pclass      1309 non-null   int64  \n",
      " 2   Sex         1309 non-null   int64  \n",
      " 3   Age         1309 non-null   float64\n",
      " 4   Fare        1309 non-null   float64\n",
      " 5   Embarked    1309 non-null   int64  \n",
      " 6   Name_title  1309 non-null   int64  \n",
      " 7   family      1309 non-null   int64  \n",
      "dtypes: float64(3), int64(5)\n",
      "memory usage: 92.0 KB\n"
     ]
    }
   ],
   "source": [
    "train_test.info()"
   ]
  },
  {
   "cell_type": "markdown",
   "id": "a9901b0d-c1e2-48ee-9828-42aa30400456",
   "metadata": {
    "tags": []
   },
   "source": [
    "-------------\n",
    "## 점수 높이기 시도"
   ]
  },
  {
   "cell_type": "markdown",
   "id": "84a8e8f2-3be0-4fdd-901c-888a193c055c",
   "metadata": {
    "tags": []
   },
   "source": [
    "## Age 구간화"
   ]
  },
  {
   "cell_type": "code",
   "execution_count": 303,
   "id": "ad3c24e2-8b82-4b4f-9c15-7ff764d7381c",
   "metadata": {},
   "outputs": [
    {
     "data": {
      "text/plain": [
       "<AxesSubplot:xlabel='Age', ylabel='Count'>"
      ]
     },
     "execution_count": 303,
     "metadata": {},
     "output_type": "execute_result"
    },
    {
     "data": {
      "image/png": "[encoded data removed]",
      "text/plain": [
       "<Figure size 432x288 with 1 Axes>"
      ]
     },
     "metadata": {},
     "output_type": "display_data"
    }
   ],
   "source": [
    "sns.set()\n",
    "sns.histplot(data=train, x=\"Age\", hue=\"Survived\")\n",
    "# plt.show()"
   ]
  },
  {
   "cell_type": "code",
   "execution_count": 304,
   "id": "72d1a51f-cabf-41df-bc54-5a9273880e78",
   "metadata": {
    "tags": []
   },
   "outputs": [],
   "source": [
    "train_test[\"Age\"] = np.round(train_test[\"Age\"],0).astype('int64')\n",
    "train_test[\"Age\"] = np.round(train_test[\"Age\"],0).astype('int64')"
   ]
  },
  {
   "cell_type": "code",
   "execution_count": 315,
   "id": "af49d961-6c98-4233-a8c0-3e036798abcc",
   "metadata": {},
   "outputs": [],
   "source": [
    "train_test.loc[train_test['Age']<=16, 'Age_band1'] = 1\n",
    "train_test.loc[(train_test['Age']>16) & (train_test['Age']<=34), 'Age_band1'] = 2\n",
    "train_test.loc[(train_test['Age']>34) & (train_test['Age']<=48), 'Age_band1'] = 3\n",
    "train_test.loc[(train_test['Age']>48) & (train_test['Age']<=67), 'Age_band1'] = 4\n",
    "train_test.loc[train_test['Age']>67, 'Age_band1'] = 5"
   ]
  },
  {
   "cell_type": "code",
   "execution_count": 316,
   "id": "2915f75b-c46e-497f-bc6a-8e1d6c272c00",
   "metadata": {},
   "outputs": [],
   "source": [
    "train_test['Age_band2'] = pd.cut(train_test['Age'], bins=[0, 16, 34, 48, 67, 90], labels=[1,2,3,4,5])"
   ]
  },
  {
   "cell_type": "code",
   "execution_count": 317,
   "id": "b7880359-23d0-4a4d-80ce-1d728890d9e6",
   "metadata": {},
   "outputs": [],
   "source": [
    "train_test['Age_band3']  = train_test['Age'] // 10 "
   ]
  },
  {
   "cell_type": "code",
   "execution_count": 318,
   "id": "e0365c28-082a-4502-bfa2-fa6fe816c8e9",
   "metadata": {},
   "outputs": [
    {
     "data": {
      "text/html": [
       "<div>\n",
       "<style scoped>\n",
       "    .dataframe tbody tr th:only-of-type {\n",
       "        vertical-align: middle;\n",
       "    }\n",
       "\n",
       "    .dataframe tbody tr th {\n",
       "        vertical-align: top;\n",
       "    }\n",
       "\n",
       "    .dataframe thead th {\n",
       "        text-align: right;\n",
       "    }\n",
       "</style>\n",
       "<table border=\"1\" class=\"dataframe\">\n",
       "  <thead>\n",
       "    <tr style=\"text-align: right;\">\n",
       "      <th></th>\n",
       "      <th>Age</th>\n",
       "      <th>Age_band1</th>\n",
       "      <th>Age_band2</th>\n",
       "      <th>Age_band3</th>\n",
       "    </tr>\n",
       "  </thead>\n",
       "  <tbody>\n",
       "    <tr>\n",
       "      <th>0</th>\n",
       "      <td>22</td>\n",
       "      <td>2.0</td>\n",
       "      <td>2</td>\n",
       "      <td>2</td>\n",
       "    </tr>\n",
       "    <tr>\n",
       "      <th>1</th>\n",
       "      <td>38</td>\n",
       "      <td>3.0</td>\n",
       "      <td>3</td>\n",
       "      <td>3</td>\n",
       "    </tr>\n",
       "    <tr>\n",
       "      <th>2</th>\n",
       "      <td>26</td>\n",
       "      <td>2.0</td>\n",
       "      <td>2</td>\n",
       "      <td>2</td>\n",
       "    </tr>\n",
       "    <tr>\n",
       "      <th>3</th>\n",
       "      <td>35</td>\n",
       "      <td>3.0</td>\n",
       "      <td>3</td>\n",
       "      <td>3</td>\n",
       "    </tr>\n",
       "    <tr>\n",
       "      <th>4</th>\n",
       "      <td>35</td>\n",
       "      <td>3.0</td>\n",
       "      <td>3</td>\n",
       "      <td>3</td>\n",
       "    </tr>\n",
       "  </tbody>\n",
       "</table>\n",
       "</div>"
      ],
      "text/plain": [
       "   Age  Age_band1 Age_band2  Age_band3\n",
       "0   22        2.0         2          2\n",
       "1   38        3.0         3          3\n",
       "2   26        2.0         2          2\n",
       "3   35        3.0         3          3\n",
       "4   35        3.0         3          3"
      ]
     },
     "execution_count": 318,
     "metadata": {},
     "output_type": "execute_result"
    }
   ],
   "source": [
    "train_test['Age_band'] = train_test['Age_band'].astype('int64')\n",
    "train_test['Age_band'].unique() #.isna().sum()\n",
    "train_test[['Age','Age_band1','Age_band2','Age_band3']].head()"
   ]
  },
  {
   "cell_type": "code",
   "execution_count": 240,
   "id": "51bbbb8b-95cf-49d3-8a96-45caf8906431",
   "metadata": {},
   "outputs": [],
   "source": [
    "del_col = ['Age','Age_band2','Age_band3']  #'Age_band1' 남겨둘 경우\n",
    "train_test.drop(del_col, axis=1, inplace=True)"
   ]
  },
  {
   "cell_type": "markdown",
   "id": "2a50824a-5a71-4044-9199-0f3448570428",
   "metadata": {},
   "source": [
    "# 학습"
   ]
  },
  {
   "cell_type": "markdown",
   "id": "0211f2d4-2b69-4ea3-a7a0-2a122d45f7e7",
   "metadata": {
    "tags": []
   },
   "source": [
    "#### train - test 분리"
   ]
  },
  {
   "cell_type": "code",
   "execution_count": 241,
   "id": "44bec4be-2e8b-4ea7-b140-37f12d8e6b49",
   "metadata": {},
   "outputs": [
    {
     "data": {
      "text/plain": [
       "(891, 418)"
      ]
     },
     "execution_count": 241,
     "metadata": {},
     "output_type": "execute_result"
    }
   ],
   "source": [
    "train.shape[0], test.shape[0]"
   ]
  },
  {
   "cell_type": "code",
   "execution_count": 242,
   "id": "017c87eb-331b-40c7-bfbc-1b293eede97a",
   "metadata": {},
   "outputs": [
    {
     "data": {
      "text/plain": [
       "418"
      ]
     },
     "execution_count": 242,
     "metadata": {},
     "output_type": "execute_result"
    }
   ],
   "source": [
    "train_test[\"Survived\"].isna().sum()"
   ]
  },
  {
   "cell_type": "code",
   "execution_count": 243,
   "id": "e13031fd-8234-4f88-841d-7a6457bc553e",
   "metadata": {},
   "outputs": [
    {
     "data": {
      "text/plain": [
       "((891, 8), (418, 8))"
      ]
     },
     "execution_count": 243,
     "metadata": {},
     "output_type": "execute_result"
    }
   ],
   "source": [
    "train = train_test[~train_test[\"Survived\"].isna()]\n",
    "test = train_test[train_test[\"Survived\"].isna()]\n",
    "train.shape, test.shape"
   ]
  },
  {
   "cell_type": "code",
   "execution_count": 244,
   "id": "437f0670-e953-4097-8f1e-83da4a970c7f",
   "metadata": {},
   "outputs": [
    {
     "data": {
      "text/plain": [
       "((891, 8), (418, 8))"
      ]
     },
     "execution_count": 244,
     "metadata": {},
     "output_type": "execute_result"
    }
   ],
   "source": [
    "train = train_test.iloc[:train.shape[0]]\n",
    "test = train_test.iloc[train.shape[0]:]\n",
    "train.shape, test.shape"
   ]
  },
  {
   "cell_type": "code",
   "execution_count": 245,
   "id": "fa0f37f3-81e7-4542-8cd8-96bde750ce6b",
   "metadata": {},
   "outputs": [
    {
     "name": "stdout",
     "output_type": "stream",
     "text": [
      "<class 'pandas.core.frame.DataFrame'>\n",
      "Int64Index: 418 entries, 0 to 417\n",
      "Data columns (total 7 columns):\n",
      " #   Column      Non-Null Count  Dtype  \n",
      "---  ------      --------------  -----  \n",
      " 0   Pclass      418 non-null    int64  \n",
      " 1   Sex         418 non-null    int64  \n",
      " 2   Fare        418 non-null    float64\n",
      " 3   Embarked    418 non-null    int64  \n",
      " 4   Name_title  418 non-null    int64  \n",
      " 5   family      418 non-null    int64  \n",
      " 6   Age_band    418 non-null    int64  \n",
      "dtypes: float64(1), int64(6)\n",
      "memory usage: 26.1 KB\n"
     ]
    }
   ],
   "source": [
    "# test.drop('Survived', axis=1, inplace=True)\n",
    "test = test.drop('Survived', axis=1)\n",
    "test.info()"
   ]
  },
  {
   "cell_type": "code",
   "execution_count": 246,
   "id": "47598fdb-0709-4abb-ae5a-9b9dc2a83c33",
   "metadata": {},
   "outputs": [],
   "source": [
    "train[\"Survived\"] = train[\"Survived\"].astype('int64')"
   ]
  },
  {
   "cell_type": "code",
   "execution_count": 247,
   "id": "7825e317-2d22-4daa-b798-bc2066508139",
   "metadata": {},
   "outputs": [
    {
     "name": "stdout",
     "output_type": "stream",
     "text": [
      "<class 'pandas.core.frame.DataFrame'>\n",
      "Int64Index: 891 entries, 0 to 890\n",
      "Data columns (total 8 columns):\n",
      " #   Column      Non-Null Count  Dtype  \n",
      "---  ------      --------------  -----  \n",
      " 0   Survived    891 non-null    int64  \n",
      " 1   Pclass      891 non-null    int64  \n",
      " 2   Sex         891 non-null    int64  \n",
      " 3   Fare        891 non-null    float64\n",
      " 4   Embarked    891 non-null    int64  \n",
      " 5   Name_title  891 non-null    int64  \n",
      " 6   family      891 non-null    int64  \n",
      " 7   Age_band    891 non-null    int64  \n",
      "dtypes: float64(1), int64(7)\n",
      "memory usage: 62.6 KB\n"
     ]
    }
   ],
   "source": [
    "train.info()"
   ]
  },
  {
   "cell_type": "code",
   "execution_count": 248,
   "id": "c047c889-3f72-4806-844f-5c47f3475075",
   "metadata": {},
   "outputs": [
    {
     "data": {
      "text/plain": [
       "((891, 8), (418, 7))"
      ]
     },
     "execution_count": 248,
     "metadata": {},
     "output_type": "execute_result"
    }
   ],
   "source": [
    "train.shape, test.shape"
   ]
  },
  {
   "cell_type": "markdown",
   "id": "878af344-dee2-4528-8367-21acc89e4447",
   "metadata": {},
   "source": [
    "### 학습모델 선정 : 우선 점수부터 보자\n",
    "* 숫자로만 이루어져있다\n",
    "* 결측이 다"
   ]
  },
  {
   "cell_type": "code",
   "execution_count": 249,
   "id": "1f28c886-1e5c-46f7-879a-fe17ece308c1",
   "metadata": {},
   "outputs": [],
   "source": [
    "from sklearn.tree import DecisionTreeClassifier       #class\n",
    "from sklearn.ensemble import RandomForestClassifier   #class\n",
    "from sklearn.metrics import accuracy_score            #def\n",
    "from sklearn.model_selection import train_test_split  #def"
   ]
  },
  {
   "cell_type": "code",
   "execution_count": 250,
   "id": "b0ab961b-02e4-4c5d-ab76-2e0c3735de4c",
   "metadata": {},
   "outputs": [],
   "source": [
    "# -----------------------------------------------\n",
    "# ***train_test_split()\n",
    "# 학습[****fit()]     train 8 ---\n",
    "# 예측[****predict()] train 2 --- validation\n",
    "# 평가[****score()]  (점수)  --- A\n",
    "# ----------------------------------model\n",
    "# 예측 test \n",
    "# 평가(점수)   --- B 오버피팅/언더피팅\n",
    "# -----------------------------------------------\n",
    "# 검증\n",
    "# -----------------------------------------------\n",
    "# 튜닝        --- 분석가 XGBoost 40~80\n",
    "# -----------------------------------------------"
   ]
  },
  {
   "cell_type": "code",
   "execution_count": 251,
   "id": "db33aa16-f505-446c-8d88-80c17c014f87",
   "metadata": {},
   "outputs": [],
   "source": [
    "# dt_model = DecisionTreeClassifier()\n",
    "dt_model = RandomForestClassifier()"
   ]
  },
  {
   "cell_type": "code",
   "execution_count": 252,
   "id": "5c65d701-6a79-41fe-b62c-2a0e86a2fbde",
   "metadata": {},
   "outputs": [
    {
     "name": "stdout",
     "output_type": "stream",
     "text": [
      "(891, 7) (891,)\n",
      "모델점수 0.8212290502793296\n"
     ]
    }
   ],
   "source": [
    "답안지 = train[\"Survived\"]\n",
    "문제지 = train.drop(\"Survived\", axis=1)\n",
    "print(문제지.shape, 답안지.shape)\n",
    "문제지.head()\n",
    "답안지.head()\n",
    "\n",
    "#X_train, X_val,   y_train, y_val \n",
    "문제지8, 문제지2, 답안지8, 답안지2 = train_test_split(문제지, 답안지, test_size=0.2)\n",
    "dt_model.fit(문제지8, 답안지8)  #기계학습\n",
    "\n",
    "# ---------------------검증 (train2) 셀프테스트 -----------------------\n",
    "컴퓨터가낸답안2 = dt_model.predict(문제지2)\n",
    "acc_score = accuracy_score(답안지2, 컴퓨터가낸답안2)\n",
    "print(\"모델점수\", acc_score)"
   ]
  },
  {
   "cell_type": "code",
   "execution_count": 253,
   "id": "1800fb21-e21f-498d-afcb-7b054bfd837d",
   "metadata": {},
   "outputs": [],
   "source": [
    "# 모델점수 \n",
    "# 0.770949720670391\n",
    "# 0.8156424581005587 --->  0.75358 (over fitting)\n",
    "# 0.8212290502793296"
   ]
  },
  {
   "cell_type": "code",
   "execution_count": 254,
   "id": "92e18bda-ea63-4924-890d-54d35c598d2a",
   "metadata": {},
   "outputs": [
    {
     "data": {
      "text/plain": [
       "(418, 7)"
      ]
     },
     "execution_count": 254,
     "metadata": {},
     "output_type": "execute_result"
    }
   ],
   "source": [
    "test.shape"
   ]
  },
  {
   "cell_type": "markdown",
   "id": "f63d72fd-2166-4224-a918-100f8594bfee",
   "metadata": {},
   "source": [
    "## 학습 주요 피쳐 "
   ]
  },
  {
   "cell_type": "code",
   "execution_count": 255,
   "id": "1c9be5a4-409a-4e98-b1b2-46f2513c21d2",
   "metadata": {},
   "outputs": [
    {
     "data": {
      "text/plain": [
       "array(['Pclass', 'Sex', 'Fare', 'Embarked', 'Name_title', 'family',\n",
       "       'Age_band'], dtype=object)"
      ]
     },
     "execution_count": 255,
     "metadata": {},
     "output_type": "execute_result"
    }
   ],
   "source": [
    "문제지.columns.values"
   ]
  },
  {
   "cell_type": "code",
   "execution_count": 256,
   "id": "1c4a5c5d-aa7c-4a81-88ed-580d0971d677",
   "metadata": {
    "tags": []
   },
   "outputs": [
    {
     "data": {
      "text/plain": [
       "array([ 9.249, 15.277, 35.454,  3.656, 19.026, 10.052,  7.286])"
      ]
     },
     "execution_count": 256,
     "metadata": {},
     "output_type": "execute_result"
    }
   ],
   "source": [
    "np.round(dt_model.feature_importances_*100 , 3)"
   ]
  },
  {
   "cell_type": "code",
   "execution_count": 257,
   "id": "7a83801e-8537-4d89-b94f-486a0bb42071",
   "metadata": {},
   "outputs": [
    {
     "data": {
      "text/plain": [
       "((418, 2), (418, 7))"
      ]
     },
     "execution_count": 257,
     "metadata": {},
     "output_type": "execute_result"
    }
   ],
   "source": [
    "sub.shape, test.shape"
   ]
  },
  {
   "cell_type": "code",
   "execution_count": 258,
   "id": "68b176a1-76c7-4b4a-a64a-68beba670857",
   "metadata": {},
   "outputs": [
    {
     "name": "stdout",
     "output_type": "stream",
     "text": [
      "418\n"
     ]
    },
    {
     "data": {
      "text/plain": [
       "array([0, 1, 0, 0, 0, 0, 0, 0, 1, 0], dtype=int64)"
      ]
     },
     "execution_count": 258,
     "metadata": {},
     "output_type": "execute_result"
    }
   ],
   "source": [
    "# ---------------------리더보드 제출용 (test) 본테스트-----------------------\n",
    "컴퓨터가낸답안418 = dt_model.predict(test)\n",
    "print(len(컴퓨터가낸답안418))\n",
    "컴퓨터가낸답안418[:10]"
   ]
  },
  {
   "cell_type": "code",
   "execution_count": 259,
   "id": "7ad908cc-4e34-4fff-8044-221ae74ce228",
   "metadata": {
    "tags": []
   },
   "outputs": [
    {
     "data": {
      "text/html": [
       "<div>\n",
       "<style scoped>\n",
       "    .dataframe tbody tr th:only-of-type {\n",
       "        vertical-align: middle;\n",
       "    }\n",
       "\n",
       "    .dataframe tbody tr th {\n",
       "        vertical-align: top;\n",
       "    }\n",
       "\n",
       "    .dataframe thead th {\n",
       "        text-align: right;\n",
       "    }\n",
       "</style>\n",
       "<table border=\"1\" class=\"dataframe\">\n",
       "  <thead>\n",
       "    <tr style=\"text-align: right;\">\n",
       "      <th>featue</th>\n",
       "      <th>Fare</th>\n",
       "      <th>Name_title</th>\n",
       "      <th>Sex</th>\n",
       "      <th>family</th>\n",
       "      <th>Pclass</th>\n",
       "      <th>Age_band</th>\n",
       "      <th>Embarked</th>\n",
       "    </tr>\n",
       "  </thead>\n",
       "  <tbody>\n",
       "    <tr>\n",
       "      <th>imp</th>\n",
       "      <td>35.454</td>\n",
       "      <td>19.026</td>\n",
       "      <td>15.277</td>\n",
       "      <td>10.052</td>\n",
       "      <td>9.249</td>\n",
       "      <td>7.286</td>\n",
       "      <td>3.656</td>\n",
       "    </tr>\n",
       "  </tbody>\n",
       "</table>\n",
       "</div>"
      ],
      "text/plain": [
       "featue    Fare  Name_title     Sex  family  Pclass  Age_band  Embarked\n",
       "imp     35.454      19.026  15.277  10.052   9.249     7.286     3.656"
      ]
     },
     "execution_count": 259,
     "metadata": {},
     "output_type": "execute_result"
    }
   ],
   "source": [
    "dict = {\"featue\":문제지.columns.values, \"imp\":np.round(dt_model.feature_importances_*100 , 3)}\n",
    "impdf = pd.DataFrame(dict)\n",
    "impdf = impdf.set_index(\"featue\")\n",
    "# impdf.head()\n",
    "impdf.sort_values(\"imp\", ascending=False).T"
   ]
  },
  {
   "cell_type": "markdown",
   "id": "e829ab2c-38b5-4222-955c-1027aba9ccae",
   "metadata": {},
   "source": [
    "## 공모전용 답안지 제출"
   ]
  },
  {
   "cell_type": "code",
   "execution_count": 260,
   "id": "bc8621bb-de6e-4cbe-be1a-87c632f65e43",
   "metadata": {},
   "outputs": [
    {
     "data": {
      "text/html": [
       "<div>\n",
       "<style scoped>\n",
       "    .dataframe tbody tr th:only-of-type {\n",
       "        vertical-align: middle;\n",
       "    }\n",
       "\n",
       "    .dataframe tbody tr th {\n",
       "        vertical-align: top;\n",
       "    }\n",
       "\n",
       "    .dataframe thead th {\n",
       "        text-align: right;\n",
       "    }\n",
       "</style>\n",
       "<table border=\"1\" class=\"dataframe\">\n",
       "  <thead>\n",
       "    <tr style=\"text-align: right;\">\n",
       "      <th></th>\n",
       "      <th>PassengerId</th>\n",
       "      <th>Survived</th>\n",
       "    </tr>\n",
       "  </thead>\n",
       "  <tbody>\n",
       "    <tr>\n",
       "      <th>0</th>\n",
       "      <td>892</td>\n",
       "      <td>0</td>\n",
       "    </tr>\n",
       "    <tr>\n",
       "      <th>1</th>\n",
       "      <td>893</td>\n",
       "      <td>1</td>\n",
       "    </tr>\n",
       "    <tr>\n",
       "      <th>2</th>\n",
       "      <td>894</td>\n",
       "      <td>0</td>\n",
       "    </tr>\n",
       "    <tr>\n",
       "      <th>3</th>\n",
       "      <td>895</td>\n",
       "      <td>0</td>\n",
       "    </tr>\n",
       "    <tr>\n",
       "      <th>4</th>\n",
       "      <td>896</td>\n",
       "      <td>0</td>\n",
       "    </tr>\n",
       "  </tbody>\n",
       "</table>\n",
       "</div>"
      ],
      "text/plain": [
       "   PassengerId  Survived\n",
       "0          892         0\n",
       "1          893         1\n",
       "2          894         0\n",
       "3          895         0\n",
       "4          896         0"
      ]
     },
     "execution_count": 260,
     "metadata": {},
     "output_type": "execute_result"
    }
   ],
   "source": [
    "sub[\"Survived\"] = 컴퓨터가낸답안418.reshape(-1,1)\n",
    "sub.head()"
   ]
  },
  {
   "cell_type": "code",
   "execution_count": 261,
   "id": "603a540b-f1d6-40cd-a609-20559598e521",
   "metadata": {},
   "outputs": [],
   "source": [
    "sub.to_csv(\"./titanic/submission_lkh_v01.csv\", index=False)"
   ]
  },
  {
   "cell_type": "code",
   "execution_count": 262,
   "id": "a946bb35-e8f2-4e0b-9897-178ce6b260f1",
   "metadata": {},
   "outputs": [
    {
     "data": {
      "text/html": [
       "<div>\n",
       "<style scoped>\n",
       "    .dataframe tbody tr th:only-of-type {\n",
       "        vertical-align: middle;\n",
       "    }\n",
       "\n",
       "    .dataframe tbody tr th {\n",
       "        vertical-align: top;\n",
       "    }\n",
       "\n",
       "    .dataframe thead th {\n",
       "        text-align: right;\n",
       "    }\n",
       "</style>\n",
       "<table border=\"1\" class=\"dataframe\">\n",
       "  <thead>\n",
       "    <tr style=\"text-align: right;\">\n",
       "      <th></th>\n",
       "      <th>PassengerId</th>\n",
       "      <th>Survived</th>\n",
       "    </tr>\n",
       "  </thead>\n",
       "  <tbody>\n",
       "    <tr>\n",
       "      <th>0</th>\n",
       "      <td>892</td>\n",
       "      <td>0</td>\n",
       "    </tr>\n",
       "    <tr>\n",
       "      <th>1</th>\n",
       "      <td>893</td>\n",
       "      <td>1</td>\n",
       "    </tr>\n",
       "    <tr>\n",
       "      <th>2</th>\n",
       "      <td>894</td>\n",
       "      <td>0</td>\n",
       "    </tr>\n",
       "    <tr>\n",
       "      <th>3</th>\n",
       "      <td>895</td>\n",
       "      <td>0</td>\n",
       "    </tr>\n",
       "    <tr>\n",
       "      <th>4</th>\n",
       "      <td>896</td>\n",
       "      <td>0</td>\n",
       "    </tr>\n",
       "  </tbody>\n",
       "</table>\n",
       "</div>"
      ],
      "text/plain": [
       "   PassengerId  Survived\n",
       "0          892         0\n",
       "1          893         1\n",
       "2          894         0\n",
       "3          895         0\n",
       "4          896         0"
      ]
     },
     "execution_count": 262,
     "metadata": {},
     "output_type": "execute_result"
    }
   ],
   "source": [
    "df = pd.read_csv(\"./titanic/submission_lkh_v01.csv\")\n",
    "df.head()"
   ]
  }
 ],
 "metadata": {
  "kernelspec": {
   "display_name": "Python 3",
   "language": "python",
   "name": "python3"
  },
  "language_info": {
   "codemirror_mode": {
    "name": "ipython",
    "version": 3
   },
   "file_extension": ".py",
   "mimetype": "text/x-python",
   "name": "python",
   "nbconvert_exporter": "python",
   "pygments_lexer": "ipython3",
   "version": "3.8.8"
  },
  "toc": {
   "base_numbering": 1,
   "nav_menu": {},
   "number_sections": true,
   "sideBar": true,
   "skip_h1_title": false,
   "title_cell": "Table of Contents",
   "title_sidebar": "Contents",
   "toc_cell": false,
   "toc_position": {},
   "toc_section_display": true,
   "toc_window_display": false
  },
  "varInspector": {
   "cols": {
    "lenName": 16,
    "lenType": 16,
    "lenVar": 40
   },
   "kernels_config": {
    "python": {
     "delete_cmd_postfix": "",
     "delete_cmd_prefix": "del ",
     "library": "var_list.py",
     "varRefreshCmd": "print(var_dic_list())"
    },
    "r": {
     "delete_cmd_postfix": ") ",
     "delete_cmd_prefix": "rm(",
     "library": "var_list.r",
     "varRefreshCmd": "cat(var_dic_list()) "
    }
   },
   "types_to_exclude": [
    "module",
    "function",
    "builtin_function_or_method",
    "instance",
    "_Feature"
   ],
   "window_display": false
  }
 },
 "nbformat": 4,
 "nbformat_minor": 5
}
