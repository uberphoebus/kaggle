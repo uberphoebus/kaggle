{
 "cells": [
  {
   "cell_type": "code",
   "execution_count": 1,
   "source": [
    "import pandas as pd\r\n",
    "import numpy as np\r\n",
    "import matplotlib.pyplot as plt\r\n",
    "import seaborn as sns; sns.set()\r\n",
    "import warnings; warnings.filterwarnings(action='ignore')\r\n",
    "# --------------------------------------------------\r\n",
    "\r\n",
    "# --------------------------------------------------\r\n",
    "# load datasets\r\n",
    "from sklearn import datasets\r\n",
    "\r\n",
    "# imblearn.sampling\r\n",
    "from imblearn.over_sampling import SMOTE\r\n",
    "from imblearn.under_sampling import NearMiss\r\n",
    "\r\n",
    "# preprocessing.encoding\r\n",
    "from sklearn.preprocessing import LabelEncoder, OneHotEncoder # pd.get_dummies()\r\n",
    "# preprocessing.scaling\r\n",
    "from sklearn.preprocessing import MinMaxScaler, StandardScaler, RobustScaler\r\n",
    "# preprocessing.binarizing\r\n",
    "from sklearn.preprocessing import Binarizer\r\n",
    "\r\n",
    "# decomposition.PCA\r\n",
    "from sklearn.decomposition import PCA\r\n",
    "\r\n",
    "\r\n",
    "# Classifier ---------------------------------------\r\n",
    "\r\n",
    "# estimators\r\n",
    "from sklearn.tree import DecisionTreeClassifier\r\n",
    "from sklearn.ensemble import RandomForestClassifier, GradientBoostingClassifier\r\n",
    "from sklearn.linear_model import LogisticRegression # classifier\r\n",
    "from xgboost import XGBClassifier, XGBRFClassifier\r\n",
    "from lightgbm import LGBMClassifier\r\n",
    "from catboost import CatBoostClassifier\r\n",
    "# metrics.scores\r\n",
    "from sklearn.metrics import accuracy_score, precision_score, recall_score\r\n",
    "from sklearn.metrics import f1_score, roc_auc_score\r\n",
    "from sklearn.metrics import log_loss\r\n",
    "# metrics.curves\r\n",
    "from sklearn.metrics import precision_recall_curve, plot_precision_recall_curve\r\n",
    "from sklearn.metrics import roc_curve, plot_roc_curve\r\n",
    "# metrics.reports\r\n",
    "from sklearn.metrics import confusion_matrix, plot_confusion_matrix\r\n",
    "from sklearn.metrics import classification_report, ConfusionMatrixDisplay\r\n",
    "# --------------------------------------------------\r\n",
    "\r\n",
    "# Regressor-----------------------------------------\r\n",
    "# estimators\r\n",
    "from sklearn.linear_model import LinearRegression\r\n",
    "from sklearn.linear_model import Ridge, RidgeCV\r\n",
    "from sklearn.linear_model import Lasso, LassoCV\r\n",
    "from sklearn.linear_model import ElasticNet, ElasticNetCV\r\n",
    "from sklearn.tree import DecisionTreeRegressor\r\n",
    "from xgboost import XGBRegressor, XGBRFRegressor\r\n",
    "from lightgbm import LGBMRegressor\r\n",
    "from catboost import CatBoostRegressor, CatBoostError\r\n",
    "# metrics.errors\r\n",
    "from sklearn.metrics import mean_squared_error     # 'neg_mean_squared_error', 'neg_root_mean_squared_error'\r\n",
    "from sklearn.metrics import mean_squared_log_error # 'neg_mean_squared_log_error'\r\n",
    "from sklearn.metrics import mean_absolute_error    # 'neg_mean_absolute_error'\r\n",
    "# --------------------------------------------------\r\n",
    "\r\n",
    "# stats : R module\r\n",
    "from scipy.stats import skew, kurtosis\r\n",
    "\r\n",
    "# model_selection.splitter\r\n",
    "from sklearn.model_selection import train_test_split       # function\r\n",
    "# model_selection.model_validation\r\n",
    "from sklearn.model_selection import KFold, StratifiedKFold, RepeatedStratifiedKFold # cross-validator\r\n",
    "from sklearn.model_selection import cross_val_score\r\n",
    "# model_selection.hyper_parameter_optimizer\r\n",
    "from sklearn.model_selection import GridSearchCV\r\n",
    "\r\n",
    "# **************************************************\r\n",
    "\r\n",
    "# --------------------------------------------------\r\n",
    "def check_nan(df):\r\n",
    "    nan = df.isna().sum()[df.isna().sum() != 0]\r\n",
    "    nan_cols = list(nan.index)\r\n",
    "    nan_cnt  = df[nan_cols].isna().sum()\r\n",
    "    rate = round(nan_cnt / df.shape[0] * 100, 2)\r\n",
    "    nan_df = pd.DataFrame({'NAN_CNT':nan_cnt, 'RATE':rate})\r\n",
    "    \r\n",
    "    print(nan_df)\r\n",
    "    print('-' * 30)\r\n",
    "    print('nan_cols count =', len(nan_cols))\r\n",
    "    print(nan_cols)\r\n",
    " \r\n",
    "    for col in nan_cols:\r\n",
    "        print('-' * 30)\r\n",
    "        print(df[col].value_counts())\r\n",
    "        print('value_counts =', df[col].count(), '/ nan_counts =', df[col].isna().sum())\r\n",
    "    \r\n",
    "    return nan_cols\r\n",
    "# nan_cols = check_nan(df)\r\n",
    "# --------------------------------------------------\r\n",
    "\r\n",
    "# --------------------------------------------------\r\n",
    "def check_outliers(X_train, features, rate=1.5):\r\n",
    "    \r\n",
    "    dict = {}\r\n",
    "    \r\n",
    "    for col in features:\r\n",
    "        \r\n",
    "        Q1 = np.percentile(X_train[col], 25) \r\n",
    "        Q3 = np.percentile(X_train[col], 75) \r\n",
    "        IQR = Q3 - Q1\r\n",
    "        \r\n",
    "        min = Q1 - (rate * IQR)\r\n",
    "        max = Q3 + (rate * IQR)\r\n",
    "        \r\n",
    "        idxs = X_train[(X_train[col] < min) | (X_train[col] > max)].index\r\n",
    "        \r\n",
    "        dict[col] = idxs\r\n",
    "        \r\n",
    "    return dict\r\n",
    "# check_outliers(X_train, 'Insulin')\r\n",
    "# --------------------------------------------------\r\n",
    "\r\n",
    "# --------------------------------------------------\r\n",
    "def check_object(df):\r\n",
    "    object_cols = list(df.dtypes[df.dtypes == 'object'].index)\r\n",
    "    print('object_cols count =', len(object_cols))\r\n",
    "    for col in object_cols:\r\n",
    "        print('-' * 30)\r\n",
    "        print(df[col].value_counts())\r\n",
    "    return object_cols\r\n",
    "# object_cols = encode(df)\r\n",
    "# --------------------------------------------------\r\n",
    "\r\n",
    "# --------------------------------------------------\r\n",
    "def mapping(df, col, dict):\r\n",
    "    dict = {}\r\n",
    "    \r\n",
    "    for i in range(len(df[col].value_counts().index)):\r\n",
    "        dict[df[col].value_counts().index[i]] = i\r\n",
    "    \r\n",
    "    df['e_' + col] = df[col].map(dict)\r\n",
    "    return df['e_' + col].value_counts()\r\n",
    "# mapping(df, 'gender')\r\n",
    "# --------------------------------------------------\r\n",
    "\r\n",
    "# --------------------------------------------------\r\n",
    "def split_xy(df, target, test_size=0.2):\r\n",
    "    \r\n",
    "    \"\"\"split X, y & train, test\"\"\"\r\n",
    "    \r\n",
    "    X = df.drop(target, axis=1)\r\n",
    "    y = df[target]\r\n",
    "    \r\n",
    "    X_train, X_test, y_train, y_test = train_test_split(X, y, test_size=test_size, random_state=0, stratify=y)\r\n",
    "    \r\n",
    "    return X_train, X_test, y_train, y_test\r\n",
    "\r\n",
    "# X_train, X_test, y_train, y_test = split_xy(df, 'Outcome')\r\n",
    "# --------------------------------------------------\r\n",
    "\r\n",
    "# --------------------------------------------------\r\n",
    "def scores(y_test, y_pred):\r\n",
    "    \r\n",
    "    \"\"\"evaluation scores\"\"\"\r\n",
    "    \r\n",
    "    f1        = f1_score         (y_test, y_pred, average='macro')\r\n",
    "    accuracy  = accuracy_score   (y_test, y_pred, )\r\n",
    "    precision = precision_score  (y_test, y_pred, average='macro')\r\n",
    "    recall    = recall_score     (y_test, y_pred, average='macro')\r\n",
    "    c_matrix  = confusion_matrix (y_test, y_pred, )\r\n",
    "    \r\n",
    "    print(\r\n",
    "          f'accuracy  = {accuracy:.6f},  '\r\n",
    "          f'f1 score  = {f1:.6f},  \\n'\r\n",
    "          f'precision = {precision:.6f},  '\r\n",
    "          f'recall    = {recall:.6f},')\r\n",
    "    print(c_matrix)\r\n",
    "    \r\n",
    "    # plt.figure(figsize=(12, 9))\r\n",
    "    # plt.title('confusion matrix')\r\n",
    "    # plt.xlabel('Predict')\r\n",
    "    # plt.ylabel('Actual')\r\n",
    "    # sns.heatmap(c_matrix, annot=True, linewidths=1, cmap='Blues', annot_kws={\"size\": 14})\r\n",
    "    # plt.show()\r\n",
    "# --------------------------------------------------\r\n",
    "\r\n",
    "# --------------------------------------------------\r\n",
    "def curves(y_test, probas_pred):\r\n",
    "        \r\n",
    "    FPRS, TPRS, thresholds = roc_curve(y_test, probas_pred[:, 1])\r\n",
    " \r\n",
    "    f, ax = plt.subplots(1, 2, figsize=(16, 6))\r\n",
    " \r\n",
    "    # settings\r\n",
    "    plt.subplot(121)\r\n",
    "    plt.title('ROC curve')\r\n",
    "    plt.gray()\r\n",
    "    plt.xlabel('FPR(1- specificity)')\r\n",
    "    plt.ylabel('TPR')\r\n",
    " \r\n",
    "    # x, y values\r\n",
    "    plt.plot(FPRS, TPRS, label='ROC', linestyle='solid')\r\n",
    "    plt.plot([0, 1], [0, 1], label='50%', color='gray', linestyle=':')\r\n",
    "    plt.legend()\r\n",
    " \r\n",
    "    precisions, recalls, thresholds = precision_recall_curve(y_test, probas_pred[:, 1])\r\n",
    "    f1_scores = 2 * (precisions * recalls) / (precisions + recalls)\r\n",
    " \r\n",
    "    plt.subplot(122)\r\n",
    "    plt.title('precision recall curve')\r\n",
    "    plt.gray()\r\n",
    "    plt.xlabel('threshold')\r\n",
    "    plt.ylabel('scores')\r\n",
    " \r\n",
    "    # x, y values\r\n",
    "    plt.plot(thresholds, precisions[:thresholds.shape[0]], label='precision', linestyle=':')\r\n",
    "    plt.plot(thresholds, recalls[:thresholds.shape[0]],    label='recall',    linestyle='--')\r\n",
    "    plt.plot(thresholds, f1_scores[:thresholds.shape[0]],  label='f1',        linestyle='solid')\r\n",
    "    # valid linestyle = '-', '--', '-.', ':', 'None', ' ', '', 'solid', 'dashed', 'dashdot', 'dotted'\r\n",
    "    plt.legend()\r\n",
    " \r\n",
    "    plt.show()\r\n",
    "    \r\n",
    "    print('AUC = ', roc_auc_score(y_test, probas_pred[:, 1]))\r\n",
    "# --------------------------------------------------\r\n",
    "# --------------------------------------------------"
   ],
   "outputs": [],
   "metadata": {}
  },
  {
   "cell_type": "markdown",
   "source": [
    "# read iris"
   ],
   "metadata": {}
  },
  {
   "cell_type": "code",
   "execution_count": 2,
   "source": [
    "df = pd.read_csv('./kaggle/toy_iris/Iris.csv')\r\n",
    "\r\n",
    "mapping = {'Iris-setosa':0, 'Iris-versicolor':1, 'Iris-virginica':2}\r\n",
    "df['en_Species'] = df['Species'].map(mapping)\r\n",
    "\r\n",
    "df = df.drop(['Species', 'Id'], axis=1)\r\n",
    "\r\n",
    "X = df.drop('en_Species', axis=1)\r\n",
    "y = df['en_Species']\r\n",
    "X.shape, y.shape"
   ],
   "outputs": [
    {
     "output_type": "execute_result",
     "data": {
      "text/plain": [
       "((150, 4), (150,))"
      ]
     },
     "metadata": {},
     "execution_count": 2
    }
   ],
   "metadata": {}
  },
  {
   "cell_type": "markdown",
   "source": [
    "## corr"
   ],
   "metadata": {}
  },
  {
   "cell_type": "code",
   "execution_count": 3,
   "source": [
    "sns.heatmap(df.corr(), cmap='coolwarm', annot=True, fmt='.2f', linewidths=1)\r\n",
    "plt.xticks(rotation=-20); plt.show()\r\n",
    "# 약한 상관관계 : s_width\r\n",
    "# 강한 상관관계 : p_length == p_width / s_length == p_length"
   ],
   "outputs": [
    {
     "output_type": "display_data",
     "data": {
      "image/png": "[encoded data removed]",
      "text/plain": [
       "<Figure size 432x288 with 2 Axes>"
      ]
     },
     "metadata": {}
    }
   ],
   "metadata": {}
  },
  {
   "cell_type": "markdown",
   "source": [
    "## scatter"
   ],
   "metadata": {}
  },
  {
   "cell_type": "code",
   "execution_count": 4,
   "source": [
    "sns.scatterplot(data=df[df['en_Species'] == 0], x='PetalWidthCm', y='PetalLengthCm', label='0')\r\n",
    "sns.scatterplot(data=df[df['en_Species'] == 1], x='PetalWidthCm', y='PetalLengthCm', label='1')\r\n",
    "sns.scatterplot(data=df[df['en_Species'] == 2], x='PetalWidthCm', y='PetalLengthCm', label='2')\r\n",
    "plt.legend()\r\n",
    "plt.show()"
   ],
   "outputs": [
    {
     "output_type": "display_data",
     "data": {
      "image/png": "[encoded data removed]",
      "text/plain": [
       "<Figure size 432x288 with 1 Axes>"
      ]
     },
     "metadata": {}
    }
   ],
   "metadata": {}
  },
  {
   "cell_type": "markdown",
   "source": [
    "# PCA"
   ],
   "metadata": {}
  },
  {
   "cell_type": "code",
   "execution_count": 5,
   "source": [
    "# 다중공선일 때, 두 변수의 선형관계를 1차원으로 끌어내리는 방법\r\n",
    "pca = PCA(n_components=2, copy=True, random_state=0) # n_compo demension\r\n",
    "res = pca.fit_transform(X)                           # input arr-like, return arr\r\n",
    "pca_X = pd.DataFrame(res, columns=['pc1', 'pc2'])    # 상관계수가 높은 컬럼부터 병합\r\n",
    "pca_X['target'] = y\r\n",
    "pca_X.head()"
   ],
   "outputs": [
    {
     "output_type": "execute_result",
     "data": {
      "text/html": [
       "<div>\n",
       "<style scoped>\n",
       "    .dataframe tbody tr th:only-of-type {\n",
       "        vertical-align: middle;\n",
       "    }\n",
       "\n",
       "    .dataframe tbody tr th {\n",
       "        vertical-align: top;\n",
       "    }\n",
       "\n",
       "    .dataframe thead th {\n",
       "        text-align: right;\n",
       "    }\n",
       "</style>\n",
       "<table border=\"1\" class=\"dataframe\">\n",
       "  <thead>\n",
       "    <tr style=\"text-align: right;\">\n",
       "      <th></th>\n",
       "      <th>pc1</th>\n",
       "      <th>pc2</th>\n",
       "      <th>target</th>\n",
       "    </tr>\n",
       "  </thead>\n",
       "  <tbody>\n",
       "    <tr>\n",
       "      <th>0</th>\n",
       "      <td>-2.684207</td>\n",
       "      <td>0.326607</td>\n",
       "      <td>0</td>\n",
       "    </tr>\n",
       "    <tr>\n",
       "      <th>1</th>\n",
       "      <td>-2.715391</td>\n",
       "      <td>-0.169557</td>\n",
       "      <td>0</td>\n",
       "    </tr>\n",
       "    <tr>\n",
       "      <th>2</th>\n",
       "      <td>-2.889820</td>\n",
       "      <td>-0.137346</td>\n",
       "      <td>0</td>\n",
       "    </tr>\n",
       "    <tr>\n",
       "      <th>3</th>\n",
       "      <td>-2.746437</td>\n",
       "      <td>-0.311124</td>\n",
       "      <td>0</td>\n",
       "    </tr>\n",
       "    <tr>\n",
       "      <th>4</th>\n",
       "      <td>-2.728593</td>\n",
       "      <td>0.333925</td>\n",
       "      <td>0</td>\n",
       "    </tr>\n",
       "  </tbody>\n",
       "</table>\n",
       "</div>"
      ],
      "text/plain": [
       "        pc1       pc2  target\n",
       "0 -2.684207  0.326607       0\n",
       "1 -2.715391 -0.169557       0\n",
       "2 -2.889820 -0.137346       0\n",
       "3 -2.746437 -0.311124       0\n",
       "4 -2.728593  0.333925       0"
      ]
     },
     "metadata": {},
     "execution_count": 5
    }
   ],
   "metadata": {}
  },
  {
   "cell_type": "code",
   "execution_count": 6,
   "source": [
    "pca.explained_variance_ratio_\r\n",
    "# pc1, pc2, ... 두 pc로 98% 설명\r\n",
    "# 차원축소했기 때문에, 학습기간 단축 및 일반화의 효과"
   ],
   "outputs": [
    {
     "output_type": "execute_result",
     "data": {
      "text/plain": [
       "array([0.92461621, 0.05301557])"
      ]
     },
     "metadata": {},
     "execution_count": 6
    }
   ],
   "metadata": {}
  },
  {
   "cell_type": "markdown",
   "source": [
    "## PCA scatter"
   ],
   "metadata": {}
  },
  {
   "cell_type": "code",
   "execution_count": 7,
   "source": [
    "sns.scatterplot(data=pca_X[pca_X['target'] == 0], x='pc1', y='pc2', label='0')\r\n",
    "sns.scatterplot(data=pca_X[pca_X['target'] == 1], x='pc1', y='pc2', label='1')\r\n",
    "sns.scatterplot(data=pca_X[pca_X['target'] == 2], x='pc1', y='pc2', label='2')\r\n",
    "plt.legend()\r\n",
    "plt.show()"
   ],
   "outputs": [
    {
     "output_type": "display_data",
     "data": {
      "image/png": "[encoded data removed]",
      "text/plain": [
       "<Figure size 432x288 with 1 Axes>"
      ]
     },
     "metadata": {}
    }
   ],
   "metadata": {}
  },
  {
   "cell_type": "markdown",
   "source": [
    "## feature PCA"
   ],
   "metadata": {}
  },
  {
   "cell_type": "code",
   "execution_count": 8,
   "source": [
    "pca = PCA(n_components=1, copy=True, random_state=0)\r\n",
    "res = pca.fit_transform(X[['PetalWidthCm', 'PetalLengthCm']])\r\n",
    "pca_X = X.drop(['PetalWidthCm', 'PetalLengthCm'], axis=1)\r\n",
    "pca_X['pc1'] = pd.DataFrame(res)\r\n",
    "pca_X['target'] = y\r\n",
    "pca_X.head()"
   ],
   "outputs": [
    {
     "output_type": "execute_result",
     "data": {
      "text/html": [
       "<div>\n",
       "<style scoped>\n",
       "    .dataframe tbody tr th:only-of-type {\n",
       "        vertical-align: middle;\n",
       "    }\n",
       "\n",
       "    .dataframe tbody tr th {\n",
       "        vertical-align: top;\n",
       "    }\n",
       "\n",
       "    .dataframe thead th {\n",
       "        text-align: right;\n",
       "    }\n",
       "</style>\n",
       "<table border=\"1\" class=\"dataframe\">\n",
       "  <thead>\n",
       "    <tr style=\"text-align: right;\">\n",
       "      <th></th>\n",
       "      <th>SepalLengthCm</th>\n",
       "      <th>SepalWidthCm</th>\n",
       "      <th>pc1</th>\n",
       "      <th>target</th>\n",
       "    </tr>\n",
       "  </thead>\n",
       "  <tbody>\n",
       "    <tr>\n",
       "      <th>0</th>\n",
       "      <td>5.1</td>\n",
       "      <td>3.5</td>\n",
       "      <td>-2.561371</td>\n",
       "      <td>0</td>\n",
       "    </tr>\n",
       "    <tr>\n",
       "      <th>1</th>\n",
       "      <td>4.9</td>\n",
       "      <td>3.0</td>\n",
       "      <td>-2.561371</td>\n",
       "      <td>0</td>\n",
       "    </tr>\n",
       "    <tr>\n",
       "      <th>2</th>\n",
       "      <td>4.7</td>\n",
       "      <td>3.2</td>\n",
       "      <td>-2.653526</td>\n",
       "      <td>0</td>\n",
       "    </tr>\n",
       "    <tr>\n",
       "      <th>3</th>\n",
       "      <td>4.6</td>\n",
       "      <td>3.1</td>\n",
       "      <td>-2.469217</td>\n",
       "      <td>0</td>\n",
       "    </tr>\n",
       "    <tr>\n",
       "      <th>4</th>\n",
       "      <td>5.0</td>\n",
       "      <td>3.6</td>\n",
       "      <td>-2.561371</td>\n",
       "      <td>0</td>\n",
       "    </tr>\n",
       "  </tbody>\n",
       "</table>\n",
       "</div>"
      ],
      "text/plain": [
       "   SepalLengthCm  SepalWidthCm       pc1  target\n",
       "0            5.1           3.5 -2.561371       0\n",
       "1            4.9           3.0 -2.561371       0\n",
       "2            4.7           3.2 -2.653526       0\n",
       "3            4.6           3.1 -2.469217       0\n",
       "4            5.0           3.6 -2.561371       0"
      ]
     },
     "metadata": {},
     "execution_count": 8
    }
   ],
   "metadata": {}
  },
  {
   "cell_type": "markdown",
   "source": [
    "## PCA before/after score"
   ],
   "metadata": {}
  },
  {
   "cell_type": "code",
   "execution_count": 9,
   "source": [
    "X_train, X_test, y_train, y_test = train_test_split(X, y, test_size=0.2, random_state=0, shuffle=True, stratify=y)\r\n",
    "\r\n",
    "model = RandomForestClassifier(random_state=0)\r\n",
    "\r\n",
    "model.fit(X_train, y_train)\r\n",
    "y_pred = model.predict(X_test)\r\n",
    "probas_pred = model.predict_proba(X_test)\r\n",
    "\r\n",
    "scores(y_test, y_pred)"
   ],
   "outputs": [
    {
     "output_type": "stream",
     "name": "stdout",
     "text": [
      "accuracy  = 0.933333,  f1 score  = 0.932660,  \n",
      "precision = 0.944444,  recall    = 0.933333,\n",
      "[[10  0  0]\n",
      " [ 0 10  0]\n",
      " [ 0  2  8]]\n"
     ]
    }
   ],
   "metadata": {}
  },
  {
   "cell_type": "code",
   "execution_count": 10,
   "source": [
    "X_train, X_test, y_train, y_test = train_test_split(pca_X, y, test_size=0.2, random_state=0, shuffle=True, stratify=y)\r\n",
    "\r\n",
    "model = RandomForestClassifier(random_state=0)\r\n",
    "\r\n",
    "model.fit(X_train, y_train)\r\n",
    "y_pred = model.predict(X_test)\r\n",
    "probas_pred = model.predict_proba(X_test)\r\n",
    "\r\n",
    "scores(y_test, y_pred)"
   ],
   "outputs": [
    {
     "output_type": "stream",
     "name": "stdout",
     "text": [
      "accuracy  = 1.000000,  f1 score  = 1.000000,  \n",
      "precision = 1.000000,  recall    = 1.000000,\n",
      "[[10  0  0]\n",
      " [ 0 10  0]\n",
      " [ 0  0 10]]\n"
     ]
    }
   ],
   "metadata": {}
  },
  {
   "cell_type": "markdown",
   "source": [
    "# regression"
   ],
   "metadata": {}
  },
  {
   "cell_type": "code",
   "execution_count": 11,
   "source": [
    "# outlier가 있다면, 편중된 학습을 하기 때문에 반드시 처리하여 scale\r\n",
    "\r\n",
    "# estimators : Lasso(L1, |w|), Ridge(L2, w^2), ElsasticNet, TreeRegressor, XGBoostRegressor, LightGBMRegressor\r\n",
    "# scale : log변환(0~1, feature에 음수가 없을 때만 사용)\r\n",
    "# MSE(잔차 제곱의 평균) : metrics -- RMSL(루트), RMSLE(로그), MAE(절대값), Logloss 등 파생"
   ],
   "outputs": [],
   "metadata": {}
  },
  {
   "cell_type": "markdown",
   "source": [
    "## read boston"
   ],
   "metadata": {}
  },
  {
   "cell_type": "code",
   "execution_count": 12,
   "source": [
    "# https://www.kaggle.com/vikrishnan/boston-house-prices?\r\n",
    "boston = datasets.load_boston()\r\n",
    "df = pd.DataFrame(data=boston['data'], columns=boston['feature_names'])\r\n",
    "df['target'] = boston['target']\r\n",
    "\r\n",
    "# feature description\r\n",
    "# crim\t  자치시(town)별 1인당 범죄율\r\n",
    "# zn\t  25,000 평방 피트를 초과하는 거주지역의 비율\r\n",
    "# indus\t  비소매상업지역이 차지하고 있는 토지의 비율\r\n",
    "# chas\t  찰스강의 경계에 위치한 경우는 1, 아니면 0\r\n",
    "# nox\t  10ppm 당 농축 일산화질소\r\n",
    "# rm\t  주택 1가구당 평균 방의 수\r\n",
    "# age\t  1940년 이전에 건축한 소유주택 비율\r\n",
    "# dis\t  보스톤 직업센터까지의 접근성 지수\r\n",
    "# rad\t  방사형 도로까지의 접근성 지수\r\n",
    "# tax\t  10,000 달러당 재산세율\r\n",
    "# ptratio 자치시(town)별 학생/교사 비율\r\n",
    "# b       자치시(town)별 흑인의 비율\r\n",
    "# lstat\t  모집단의 하위 계층의 비율\r\n",
    "# medv\t  본인 소유의 주택가격 중앙값(단위 $1000)\r\n",
    "\r\n",
    "df.hist(figsize=(8, 6)); plt.show()"
   ],
   "outputs": [
    {
     "output_type": "display_data",
     "data": {
      "image/png": "[encoded data removed]",
      "text/plain": [
       "<Figure size 576x432 with 16 Axes>"
      ]
     },
     "metadata": {}
    }
   ],
   "metadata": {}
  },
  {
   "cell_type": "markdown",
   "source": [
    "## metrics"
   ],
   "metadata": {}
  },
  {
   "cell_type": "code",
   "execution_count": 13,
   "source": [
    "X = df.drop('target', axis=1)\r\n",
    "y = df['target']\r\n",
    "\r\n",
    "X_train, X_test, y_train, y_test = train_test_split(X, y, test_size=0.2, random_state=0, shuffle=True)"
   ],
   "outputs": [],
   "metadata": {}
  },
  {
   "cell_type": "code",
   "execution_count": 14,
   "source": [
    "models = [LinearRegression(), Ridge(), Lasso(), ElasticNet(), \r\n",
    "          DecisionTreeRegressor(), XGBRegressor(), LGBMRegressor()]\r\n",
    "\r\n",
    "for model in models:\r\n",
    "    print(model.__class__.__name__)\r\n",
    "    model.fit(X_train, y_train)\r\n",
    "    y_pred = model.predict(X_test)\r\n",
    "    mse  = mean_squared_error(y_test, y_pred)\r\n",
    "    rmse = mean_squared_error(y_test, y_pred, squared=False)\r\n",
    "    \r\n",
    "    print('MES  =', mse)\r\n",
    "    print('RMSE = ', rmse)\r\n",
    "    print('-' * 30)"
   ],
   "outputs": [
    {
     "output_type": "stream",
     "name": "stdout",
     "text": [
      "LinearRegression\n",
      "MES  = 33.448979997676474\n",
      "RMSE =  5.78350931508513\n",
      "------------------------------\n",
      "Ridge\n",
      "MES  = 34.231606110615346\n",
      "RMSE =  5.850778248285893\n",
      "------------------------------\n",
      "Lasso\n",
      "MES  = 41.70009679994901\n",
      "RMSE =  6.457561211475197\n",
      "------------------------------\n",
      "ElasticNet\n",
      "MES  = 40.6653320776942\n",
      "RMSE =  6.376937515586475\n",
      "------------------------------\n",
      "DecisionTreeRegressor\n",
      "MES  = 31.652254901960788\n",
      "RMSE =  5.626033674086993\n",
      "------------------------------\n",
      "XGBRegressor\n",
      "MES  = 21.366958008898255\n",
      "RMSE =  4.622440698256523\n",
      "------------------------------\n",
      "LGBMRegressor\n",
      "MES  = 24.498696726728348\n",
      "RMSE =  4.949615816073845\n",
      "------------------------------\n"
     ]
    }
   ],
   "metadata": {}
  },
  {
   "cell_type": "markdown",
   "source": [
    "## skew, kurt"
   ],
   "metadata": {}
  },
  {
   "cell_type": "code",
   "execution_count": 21,
   "source": [
    "# skew (+) : 왼쪽 치우침(CRIM)\r\n",
    "# skew (0) : 정규분포\r\n",
    "# skew (-) : 오른쪽 치우침(B)\r\n",
    "# kurt (+) : 정규분포보다 뾰족함\r\n",
    "# kurt (0) : 정규분포\r\n",
    "# kurt (+) : 정규분포보다 납작함"
   ],
   "outputs": [],
   "metadata": {}
  },
  {
   "cell_type": "code",
   "execution_count": 22,
   "source": [
    "skew_arr = skew(df)\r\n",
    "kurt_arr = kurtosis(df)\r\n",
    "\r\n",
    "sk_dict = {'skew':skew_arr, 'kurt':kurt_arr}\r\n",
    "sk_df = pd.DataFrame(sk_dict, index=df.columns); sk_df"
   ],
   "outputs": [
    {
     "output_type": "execute_result",
     "data": {
      "text/html": [
       "<div>\n",
       "<style scoped>\n",
       "    .dataframe tbody tr th:only-of-type {\n",
       "        vertical-align: middle;\n",
       "    }\n",
       "\n",
       "    .dataframe tbody tr th {\n",
       "        vertical-align: top;\n",
       "    }\n",
       "\n",
       "    .dataframe thead th {\n",
       "        text-align: right;\n",
       "    }\n",
       "</style>\n",
       "<table border=\"1\" class=\"dataframe\">\n",
       "  <thead>\n",
       "    <tr style=\"text-align: right;\">\n",
       "      <th></th>\n",
       "      <th>skew</th>\n",
       "      <th>kurt</th>\n",
       "    </tr>\n",
       "  </thead>\n",
       "  <tbody>\n",
       "    <tr>\n",
       "      <th>CRIM</th>\n",
       "      <td>5.207652</td>\n",
       "      <td>36.752786</td>\n",
       "    </tr>\n",
       "    <tr>\n",
       "      <th>ZN</th>\n",
       "      <td>2.219063</td>\n",
       "      <td>3.979949</td>\n",
       "    </tr>\n",
       "    <tr>\n",
       "      <th>INDUS</th>\n",
       "      <td>0.294146</td>\n",
       "      <td>-1.233218</td>\n",
       "    </tr>\n",
       "    <tr>\n",
       "      <th>CHAS</th>\n",
       "      <td>3.395799</td>\n",
       "      <td>9.531453</td>\n",
       "    </tr>\n",
       "    <tr>\n",
       "      <th>NOX</th>\n",
       "      <td>0.727144</td>\n",
       "      <td>-0.075864</td>\n",
       "    </tr>\n",
       "    <tr>\n",
       "      <th>RM</th>\n",
       "      <td>0.402415</td>\n",
       "      <td>1.861027</td>\n",
       "    </tr>\n",
       "    <tr>\n",
       "      <th>AGE</th>\n",
       "      <td>-0.597186</td>\n",
       "      <td>-0.970014</td>\n",
       "    </tr>\n",
       "    <tr>\n",
       "      <th>DIS</th>\n",
       "      <td>1.008779</td>\n",
       "      <td>0.471299</td>\n",
       "    </tr>\n",
       "    <tr>\n",
       "      <th>RAD</th>\n",
       "      <td>1.001833</td>\n",
       "      <td>-0.870521</td>\n",
       "    </tr>\n",
       "    <tr>\n",
       "      <th>TAX</th>\n",
       "      <td>0.667968</td>\n",
       "      <td>-1.142985</td>\n",
       "    </tr>\n",
       "    <tr>\n",
       "      <th>PTRATIO</th>\n",
       "      <td>-0.799945</td>\n",
       "      <td>-0.294116</td>\n",
       "    </tr>\n",
       "    <tr>\n",
       "      <th>B</th>\n",
       "      <td>-2.881798</td>\n",
       "      <td>7.143769</td>\n",
       "    </tr>\n",
       "    <tr>\n",
       "      <th>LSTAT</th>\n",
       "      <td>0.903771</td>\n",
       "      <td>0.476545</td>\n",
       "    </tr>\n",
       "    <tr>\n",
       "      <th>target</th>\n",
       "      <td>1.104811</td>\n",
       "      <td>1.468629</td>\n",
       "    </tr>\n",
       "  </tbody>\n",
       "</table>\n",
       "</div>"
      ],
      "text/plain": [
       "             skew       kurt\n",
       "CRIM     5.207652  36.752786\n",
       "ZN       2.219063   3.979949\n",
       "INDUS    0.294146  -1.233218\n",
       "CHAS     3.395799   9.531453\n",
       "NOX      0.727144  -0.075864\n",
       "RM       0.402415   1.861027\n",
       "AGE     -0.597186  -0.970014\n",
       "DIS      1.008779   0.471299\n",
       "RAD      1.001833  -0.870521\n",
       "TAX      0.667968  -1.142985\n",
       "PTRATIO -0.799945  -0.294116\n",
       "B       -2.881798   7.143769\n",
       "LSTAT    0.903771   0.476545\n",
       "target   1.104811   1.468629"
      ]
     },
     "metadata": {},
     "execution_count": 22
    }
   ],
   "metadata": {}
  },
  {
   "cell_type": "code",
   "execution_count": 23,
   "source": [
    "sk_df.sort_values(by='skew', ascending=True).plot(kind='barh')"
   ],
   "outputs": [
    {
     "output_type": "execute_result",
     "data": {
      "text/plain": [
       "<AxesSubplot:>"
      ]
     },
     "metadata": {},
     "execution_count": 23
    },
    {
     "output_type": "display_data",
     "data": {
      "image/png": "[encoded data removed]",
      "text/plain": [
       "<Figure size 432x288 with 1 Axes>"
      ]
     },
     "metadata": {}
    }
   ],
   "metadata": {}
  },
  {
   "cell_type": "code",
   "execution_count": null,
   "source": [],
   "outputs": [],
   "metadata": {}
  }
 ],
 "metadata": {
  "orig_nbformat": 4,
  "language_info": {
   "name": "python",
   "version": "3.8.8",
   "mimetype": "text/x-python",
   "codemirror_mode": {
    "name": "ipython",
    "version": 3
   },
   "pygments_lexer": "ipython3",
   "nbconvert_exporter": "python",
   "file_extension": ".py"
  },
  "kernelspec": {
   "name": "python3",
   "display_name": "Python 3.8.8 64-bit ('venv': venv)"
  },
  "interpreter": {
   "hash": "c3102799280f1ed23787b1be8e33b065cea14d14e60df4daed798ef8bab0b32c"
  }
 },
 "nbformat": 4,
 "nbformat_minor": 2
}