{
 "cells": [
  {
   "cell_type": "markdown",
   "id": "074aa37c-a191-4eb6-baa2-944be80c78f1",
   "metadata": {},
   "source": [
    "<img src=\"logo.png\">"
   ]
  },
  {
   "cell_type": "code",
   "execution_count": 1,
   "id": "36534444-c06e-4875-afe6-22954564c806",
   "metadata": {},
   "outputs": [],
   "source": [
    "from sklearn.datasets import load_iris\n",
    "import pandas as pd\n",
    "import numpy as np\n",
    "import matplotlib.pyplot as plt\n",
    "import seaborn as sns\n",
    "\n",
    "from sklearn.model_selection import train_test_split\n",
    "from sklearn.tree import DecisionTreeClassifier\n",
    "from sklearn.ensemble import RandomForestClassifier\n",
    "from sklearn.metrics import accuracy_score, f1_score, precision_score , recall_score,  confusion_matrix, classification_report\n",
    "\n",
    "import warnings\n",
    "warnings.filterwarnings(action='ignore')"
   ]
  },
  {
   "cell_type": "markdown",
   "id": "58ce42ea-687a-458f-9178-8dddc635d3ab",
   "metadata": {},
   "source": [
    "### 공통 함수"
   ]
  },
  {
   "cell_type": "code",
   "execution_count": 2,
   "id": "22a3b7f3-f7b4-4896-9225-6a6cfd8919bd",
   "metadata": {},
   "outputs": [],
   "source": [
    "\n",
    "def my_eval(y_val, pred, avg=None):\n",
    "    accuracy = accuracy_score(y_val, pred)\n",
    "    f1 = f1_score(y_val, pred, average=avg)\n",
    "    precision = precision_score(y_val, pred, average=avg)\n",
    "    recall = recall_score(y_val, pred, average=avg)\n",
    "    matrix = confusion_matrix(y_val, pred)\n",
    "    cls_report = classification_report(y_val, pred)\n",
    "\n",
    "    print(\"정확도\",accuracy)\n",
    "    print(\"정밀도(precision)\",precision)\n",
    "    print(\"재현률(recall)\",recall)\n",
    "    print(\"f1\",f1)\n",
    "    #print(\"레포트:\",cls_report)\n",
    "    print(\"오차행렬\\n\",matrix)\n",
    "    \n",
    "    print('정확도:{:.4f} 정밀도:{:.4f} 재현률:{:.4f} f1:{:.4f}'.format(accuracy,precision,recall,f1)       )\n",
    "    "
   ]
  },
  {
   "cell_type": "code",
   "execution_count": 3,
   "id": "069a4069-387c-485c-9bec-58bac9f72077",
   "metadata": {},
   "outputs": [],
   "source": [
    "df = pd.read_csv(\"iris_lkh.csv\")"
   ]
  },
  {
   "cell_type": "code",
   "execution_count": 4,
   "id": "274db7b5-1a7f-41d7-89fc-bcf675d80548",
   "metadata": {},
   "outputs": [
    {
     "data": {
      "text/html": [
       "<div>\n",
       "<style scoped>\n",
       "    .dataframe tbody tr th:only-of-type {\n",
       "        vertical-align: middle;\n",
       "    }\n",
       "\n",
       "    .dataframe tbody tr th {\n",
       "        vertical-align: top;\n",
       "    }\n",
       "\n",
       "    .dataframe thead th {\n",
       "        text-align: right;\n",
       "    }\n",
       "</style>\n",
       "<table border=\"1\" class=\"dataframe\">\n",
       "  <thead>\n",
       "    <tr style=\"text-align: right;\">\n",
       "      <th></th>\n",
       "      <th>sepal_length</th>\n",
       "      <th>sepal_width</th>\n",
       "      <th>petal_length</th>\n",
       "      <th>petal_width</th>\n",
       "      <th>target</th>\n",
       "    </tr>\n",
       "  </thead>\n",
       "  <tbody>\n",
       "    <tr>\n",
       "      <th>0</th>\n",
       "      <td>5.1</td>\n",
       "      <td>3.5</td>\n",
       "      <td>1.4</td>\n",
       "      <td>0.2</td>\n",
       "      <td>0</td>\n",
       "    </tr>\n",
       "    <tr>\n",
       "      <th>1</th>\n",
       "      <td>4.9</td>\n",
       "      <td>3.0</td>\n",
       "      <td>1.4</td>\n",
       "      <td>0.2</td>\n",
       "      <td>0</td>\n",
       "    </tr>\n",
       "    <tr>\n",
       "      <th>2</th>\n",
       "      <td>4.7</td>\n",
       "      <td>3.2</td>\n",
       "      <td>1.3</td>\n",
       "      <td>0.2</td>\n",
       "      <td>0</td>\n",
       "    </tr>\n",
       "    <tr>\n",
       "      <th>3</th>\n",
       "      <td>4.6</td>\n",
       "      <td>3.1</td>\n",
       "      <td>1.5</td>\n",
       "      <td>0.2</td>\n",
       "      <td>0</td>\n",
       "    </tr>\n",
       "    <tr>\n",
       "      <th>4</th>\n",
       "      <td>5.0</td>\n",
       "      <td>3.6</td>\n",
       "      <td>1.4</td>\n",
       "      <td>0.2</td>\n",
       "      <td>0</td>\n",
       "    </tr>\n",
       "  </tbody>\n",
       "</table>\n",
       "</div>"
      ],
      "text/plain": [
       "   sepal_length  sepal_width  petal_length  petal_width  target\n",
       "0           5.1          3.5           1.4          0.2       0\n",
       "1           4.9          3.0           1.4          0.2       0\n",
       "2           4.7          3.2           1.3          0.2       0\n",
       "3           4.6          3.1           1.5          0.2       0\n",
       "4           5.0          3.6           1.4          0.2       0"
      ]
     },
     "execution_count": 4,
     "metadata": {},
     "output_type": "execute_result"
    }
   ],
   "source": [
    "df.head()"
   ]
  },
  {
   "cell_type": "code",
   "execution_count": 5,
   "id": "7fbd3ccf-c6b3-44d5-a86a-a71e3e1b2af8",
   "metadata": {},
   "outputs": [
    {
     "data": {
      "text/plain": [
       "(150, 5)"
      ]
     },
     "execution_count": 5,
     "metadata": {},
     "output_type": "execute_result"
    }
   ],
   "source": [
    "df.shape"
   ]
  },
  {
   "cell_type": "code",
   "execution_count": 6,
   "id": "55a90365-094f-432c-8f87-77f03a5341f3",
   "metadata": {},
   "outputs": [
    {
     "name": "stdout",
     "output_type": "stream",
     "text": [
      "<class 'pandas.core.frame.DataFrame'>\n",
      "RangeIndex: 150 entries, 0 to 149\n",
      "Data columns (total 5 columns):\n",
      " #   Column        Non-Null Count  Dtype  \n",
      "---  ------        --------------  -----  \n",
      " 0   sepal_length  150 non-null    float64\n",
      " 1   sepal_width   150 non-null    float64\n",
      " 2   petal_length  150 non-null    float64\n",
      " 3   petal_width   150 non-null    float64\n",
      " 4   target        150 non-null    int64  \n",
      "dtypes: float64(4), int64(1)\n",
      "memory usage: 6.0 KB\n"
     ]
    }
   ],
   "source": [
    "df.info()"
   ]
  },
  {
   "cell_type": "markdown",
   "id": "4bb56e37-7924-4f42-9c1b-08ec51ba9f51",
   "metadata": {
    "tags": []
   },
   "source": [
    "# 1차 점수 : 우선 점수부터 보자"
   ]
  },
  {
   "cell_type": "code",
   "execution_count": 7,
   "id": "4a895416-39a2-474a-b13d-6e2d7b65e119",
   "metadata": {},
   "outputs": [
    {
     "name": "stdout",
     "output_type": "stream",
     "text": [
      "정확도 0.9666666666666667\n",
      "정밀도(precision) 0.9333333333333332\n",
      "재현률(recall) 0.9791666666666666\n",
      "f1 0.9522102747909199\n",
      "오차행렬\n",
      " [[10  0  0]\n",
      " [ 0 15  1]\n",
      " [ 0  0  4]]\n",
      "정확도:0.9667 정밀도:0.9333 재현률:0.9792 f1:0.9522\n"
     ]
    }
   ],
   "source": [
    "y = df['target']\n",
    "X = df.drop(['target'], axis=1)\n",
    "# 문제지8, 문제지2 , 정답지8, 정답지2 = train_test_split(문제지, 정답지 , test_size=0.2,random_state=555,shuffle=True)\n",
    "X_train,  X_val, y_train, y_val = train_test_split(X, y, test_size=0.2, random_state=1414)\n",
    "model = RandomForestClassifier(random_state=1414)\n",
    "# model.fit(문제지8, 정답지8)\n",
    "model.fit(X_train,  y_train)\n",
    "# 컴퓨터답안2 = model.predict(문제지2)\n",
    "pred = model.predict(X_val)\n",
    "my_eval(y_val, pred, avg='macro')"
   ]
  },
  {
   "cell_type": "markdown",
   "id": "9794abae-c710-4820-877c-7e2e8cae2ded",
   "metadata": {},
   "source": [
    "## 상관분석"
   ]
  },
  {
   "cell_type": "code",
   "execution_count": 8,
   "id": "c07b6a92-3177-48ce-a547-b2a41739dd4a",
   "metadata": {},
   "outputs": [
    {
     "data": {
      "image/png": "[encoded data removed]",
      "text/plain": [
       "<Figure size 432x288 with 2 Axes>"
      ]
     },
     "metadata": {
      "needs_background": "light"
     },
     "output_type": "display_data"
    }
   ],
   "source": [
    "sns.heatmap(df.corr(), fmt='.2f', annot=True, cmap='Blues')\n",
    "plt.show()"
   ]
  },
  {
   "cell_type": "markdown",
   "id": "ee4bbc79-4eb7-41d2-9e89-bd56b7a1a294",
   "metadata": {},
   "source": [
    "petal_width petal_length : 0.96"
   ]
  },
  {
   "cell_type": "code",
   "execution_count": 9,
   "id": "e93f0298-49c3-4191-baee-ec6e252cfaf2",
   "metadata": {},
   "outputs": [
    {
     "data": {
      "image/png": "[encoded data removed]",
      "text/plain": [
       "<Figure size 432x288 with 1 Axes>"
      ]
     },
     "metadata": {
      "needs_background": "light"
     },
     "output_type": "display_data"
    }
   ],
   "source": [
    "sns.scatterplot(data=df[df['target']==0], x=\"petal_width\", y=\"petal_length\", label=\"0\")\n",
    "sns.scatterplot(data=df[df['target']==1], x=\"petal_width\", y=\"petal_length\", label=\"1\")\n",
    "sns.scatterplot(data=df[df['target']==2], x=\"petal_width\", y=\"petal_length\", label=\"2\")\n",
    "plt.legend()\n",
    "plt.show()"
   ]
  },
  {
   "cell_type": "code",
   "execution_count": 10,
   "id": "7f28fc4c-b4a6-42c6-9c38-88b87c5ade64",
   "metadata": {},
   "outputs": [],
   "source": [
    "y = df['target']\n",
    "X = df.drop(['target'], axis=1)"
   ]
  },
  {
   "cell_type": "code",
   "execution_count": 11,
   "id": "53310960-87a4-4eb9-ac34-8564f24d71ee",
   "metadata": {},
   "outputs": [
    {
     "data": {
      "text/plain": [
       "(150, 2)"
      ]
     },
     "execution_count": 11,
     "metadata": {},
     "output_type": "execute_result"
    }
   ],
   "source": [
    "from sklearn.decomposition import PCA\n",
    "\n",
    "pca = PCA(n_components=2, copy=True, random_state=1414)\n",
    "pca_res = pca.fit_transform(X)\n",
    "# type(pca_res)\n",
    "pca_df = pd.DataFrame(pca_res, columns=['pc1','pc2'])\n",
    "pca_df.shape"
   ]
  },
  {
   "cell_type": "code",
   "execution_count": 12,
   "id": "613f3846-2926-4c78-9284-17cdcd5b12d7",
   "metadata": {},
   "outputs": [
    {
     "data": {
      "text/html": [
       "<div>\n",
       "<style scoped>\n",
       "    .dataframe tbody tr th:only-of-type {\n",
       "        vertical-align: middle;\n",
       "    }\n",
       "\n",
       "    .dataframe tbody tr th {\n",
       "        vertical-align: top;\n",
       "    }\n",
       "\n",
       "    .dataframe thead th {\n",
       "        text-align: right;\n",
       "    }\n",
       "</style>\n",
       "<table border=\"1\" class=\"dataframe\">\n",
       "  <thead>\n",
       "    <tr style=\"text-align: right;\">\n",
       "      <th></th>\n",
       "      <th>pc1</th>\n",
       "      <th>pc2</th>\n",
       "      <th>target</th>\n",
       "    </tr>\n",
       "  </thead>\n",
       "  <tbody>\n",
       "    <tr>\n",
       "      <th>0</th>\n",
       "      <td>-2.684126</td>\n",
       "      <td>0.319397</td>\n",
       "      <td>0</td>\n",
       "    </tr>\n",
       "    <tr>\n",
       "      <th>1</th>\n",
       "      <td>-2.714142</td>\n",
       "      <td>-0.177001</td>\n",
       "      <td>0</td>\n",
       "    </tr>\n",
       "    <tr>\n",
       "      <th>2</th>\n",
       "      <td>-2.888991</td>\n",
       "      <td>-0.144949</td>\n",
       "      <td>0</td>\n",
       "    </tr>\n",
       "    <tr>\n",
       "      <th>3</th>\n",
       "      <td>-2.745343</td>\n",
       "      <td>-0.318299</td>\n",
       "      <td>0</td>\n",
       "    </tr>\n",
       "    <tr>\n",
       "      <th>4</th>\n",
       "      <td>-2.728717</td>\n",
       "      <td>0.326755</td>\n",
       "      <td>0</td>\n",
       "    </tr>\n",
       "  </tbody>\n",
       "</table>\n",
       "</div>"
      ],
      "text/plain": [
       "        pc1       pc2  target\n",
       "0 -2.684126  0.319397       0\n",
       "1 -2.714142 -0.177001       0\n",
       "2 -2.888991 -0.144949       0\n",
       "3 -2.745343 -0.318299       0\n",
       "4 -2.728717  0.326755       0"
      ]
     },
     "execution_count": 12,
     "metadata": {},
     "output_type": "execute_result"
    }
   ],
   "source": [
    "pca_df['target'] = y\n",
    "pca_df.head()"
   ]
  },
  {
   "cell_type": "code",
   "execution_count": 13,
   "id": "1c2fce8b-8818-4791-8a68-ef862573f5ab",
   "metadata": {},
   "outputs": [],
   "source": [
    "# 정답지 = df[\"target\"]\n",
    "y = df[\"target\"]\n",
    "# 문제지 = df.drop([\"target\"],axis=1)\n",
    "X = df.drop([\"target\"],axis=1)"
   ]
  },
  {
   "cell_type": "markdown",
   "id": "b2c5c4c0-1368-40cc-90e4-6272e709fb8c",
   "metadata": {},
   "source": [
    "## PCA이후 산점도"
   ]
  },
  {
   "cell_type": "code",
   "execution_count": 14,
   "id": "a560a41b-a1ca-4374-bbc6-85e767382e0c",
   "metadata": {},
   "outputs": [
    {
     "data": {
      "image/png": "[encoded data removed]",
      "text/plain": [
       "<Figure size 432x288 with 1 Axes>"
      ]
     },
     "metadata": {
      "needs_background": "light"
     },
     "output_type": "display_data"
    }
   ],
   "source": [
    "sns.scatterplot(data=pca_df[pca_df['target']==0], x=\"pc1\", y=\"pc2\", label=\"0\")\n",
    "sns.scatterplot(data=pca_df[pca_df['target']==1], x=\"pc1\", y=\"pc2\", label=\"1\")\n",
    "sns.scatterplot(data=pca_df[pca_df['target']==2], x=\"pc1\", y=\"pc2\", label=\"2\")\n",
    "plt.legend()\n",
    "plt.show()"
   ]
  },
  {
   "cell_type": "markdown",
   "id": "306e681a-7a0e-422c-b3b4-a39b41e4e3ec",
   "metadata": {},
   "source": [
    "## 특정 피쳐 중심으로 다시한번 PCA"
   ]
  },
  {
   "cell_type": "code",
   "execution_count": 15,
   "id": "9b8108a5-fc17-4e3d-bea6-c6b10f2dbdf7",
   "metadata": {},
   "outputs": [],
   "source": [
    "df = pd.read_csv(\"iris_lkh.csv\")"
   ]
  },
  {
   "cell_type": "code",
   "execution_count": 16,
   "id": "e3c3e211-3ac5-4f4b-808e-abbbd35e40de",
   "metadata": {},
   "outputs": [
    {
     "data": {
      "image/png": "[encoded data removed]",
      "text/plain": [
       "<Figure size 432x288 with 1 Axes>"
      ]
     },
     "metadata": {
      "needs_background": "light"
     },
     "output_type": "display_data"
    }
   ],
   "source": [
    "sns.scatterplot(data=df[df['target']==0], x=\"sepal_width\", y=\"sepal_length\", label=\"0\")\n",
    "sns.scatterplot(data=df[df['target']==1], x=\"sepal_width\", y=\"sepal_length\", label=\"1\")\n",
    "sns.scatterplot(data=df[df['target']==2], x=\"sepal_width\", y=\"sepal_length\", label=\"2\")\n",
    "plt.legend()\n",
    "plt.show()"
   ]
  },
  {
   "cell_type": "code",
   "execution_count": 17,
   "id": "cc18e41e-0399-43fa-b376-660ab4bf06c0",
   "metadata": {},
   "outputs": [],
   "source": [
    "y = df['target']\n",
    "X = df.drop(['target'], axis=1)"
   ]
  },
  {
   "cell_type": "code",
   "execution_count": 18,
   "id": "ea231755-57b9-4667-9569-ce4fd9dd7c05",
   "metadata": {},
   "outputs": [
    {
     "data": {
      "text/plain": [
       "(150, 2)"
      ]
     },
     "execution_count": 18,
     "metadata": {},
     "output_type": "execute_result"
    }
   ],
   "source": [
    "from sklearn.decomposition import PCA\n",
    "\n",
    "pca = PCA(n_components=2, copy=True, random_state=1414)\n",
    "pca_res = pca.fit_transform(X)\n",
    "# type(pca_res)\n",
    "pca_df = pd.DataFrame(pca_res, columns=['pc1','pc2'])\n",
    "pca_df.shape"
   ]
  },
  {
   "cell_type": "code",
   "execution_count": 19,
   "id": "52322223-d451-494a-890d-dac9e1af2d0d",
   "metadata": {},
   "outputs": [
    {
     "data": {
      "text/html": [
       "<div>\n",
       "<style scoped>\n",
       "    .dataframe tbody tr th:only-of-type {\n",
       "        vertical-align: middle;\n",
       "    }\n",
       "\n",
       "    .dataframe tbody tr th {\n",
       "        vertical-align: top;\n",
       "    }\n",
       "\n",
       "    .dataframe thead th {\n",
       "        text-align: right;\n",
       "    }\n",
       "</style>\n",
       "<table border=\"1\" class=\"dataframe\">\n",
       "  <thead>\n",
       "    <tr style=\"text-align: right;\">\n",
       "      <th></th>\n",
       "      <th>pc1</th>\n",
       "      <th>pc2</th>\n",
       "      <th>target</th>\n",
       "    </tr>\n",
       "  </thead>\n",
       "  <tbody>\n",
       "    <tr>\n",
       "      <th>0</th>\n",
       "      <td>-2.684126</td>\n",
       "      <td>0.319397</td>\n",
       "      <td>0</td>\n",
       "    </tr>\n",
       "    <tr>\n",
       "      <th>1</th>\n",
       "      <td>-2.714142</td>\n",
       "      <td>-0.177001</td>\n",
       "      <td>0</td>\n",
       "    </tr>\n",
       "    <tr>\n",
       "      <th>2</th>\n",
       "      <td>-2.888991</td>\n",
       "      <td>-0.144949</td>\n",
       "      <td>0</td>\n",
       "    </tr>\n",
       "    <tr>\n",
       "      <th>3</th>\n",
       "      <td>-2.745343</td>\n",
       "      <td>-0.318299</td>\n",
       "      <td>0</td>\n",
       "    </tr>\n",
       "    <tr>\n",
       "      <th>4</th>\n",
       "      <td>-2.728717</td>\n",
       "      <td>0.326755</td>\n",
       "      <td>0</td>\n",
       "    </tr>\n",
       "  </tbody>\n",
       "</table>\n",
       "</div>"
      ],
      "text/plain": [
       "        pc1       pc2  target\n",
       "0 -2.684126  0.319397       0\n",
       "1 -2.714142 -0.177001       0\n",
       "2 -2.888991 -0.144949       0\n",
       "3 -2.745343 -0.318299       0\n",
       "4 -2.728717  0.326755       0"
      ]
     },
     "execution_count": 19,
     "metadata": {},
     "output_type": "execute_result"
    }
   ],
   "source": [
    "pca_df['target'] = y\n",
    "pca_df.head()"
   ]
  },
  {
   "cell_type": "code",
   "execution_count": 20,
   "id": "fcd1b0e3-66fe-4551-8c04-ad2a18633269",
   "metadata": {},
   "outputs": [
    {
     "data": {
      "image/png": "[encoded data removed]",
      "text/plain": [
       "<Figure size 432x288 with 1 Axes>"
      ]
     },
     "metadata": {
      "needs_background": "light"
     },
     "output_type": "display_data"
    }
   ],
   "source": [
    "sns.scatterplot(data=pca_df[pca_df['target']==0], x=\"pc1\", y=\"pc2\", label=\"0\")\n",
    "sns.scatterplot(data=pca_df[pca_df['target']==1], x=\"pc1\", y=\"pc2\", label=\"1\")\n",
    "sns.scatterplot(data=pca_df[pca_df['target']==2], x=\"pc1\", y=\"pc2\", label=\"2\")\n",
    "plt.legend()\n",
    "plt.show()"
   ]
  },
  {
   "cell_type": "code",
   "execution_count": 21,
   "id": "32645e31-dde8-4fcc-af54-b069be359898",
   "metadata": {},
   "outputs": [
    {
     "name": "stdout",
     "output_type": "stream",
     "text": [
      "[0.92461872 0.05306648]\n"
     ]
    }
   ],
   "source": [
    "print(pca.explained_variance_ratio_)"
   ]
  },
  {
   "cell_type": "markdown",
   "id": "02863c8b-68c5-4840-b4be-c2b7f626cbd3",
   "metadata": {},
   "source": [
    "# 2차 점수 확인 : PCA 후"
   ]
  },
  {
   "cell_type": "code",
   "execution_count": 22,
   "id": "d5ebc26e-c6e2-4828-b5c9-c6151a4215c4",
   "metadata": {},
   "outputs": [
    {
     "name": "stdout",
     "output_type": "stream",
     "text": [
      "정확도 0.9333333333333333\n",
      "정밀도(precision) 0.8888888888888888\n",
      "재현률(recall) 0.9583333333333334\n",
      "f1 0.9111111111111111\n",
      "오차행렬\n",
      " [[10  0  0]\n",
      " [ 0 14  2]\n",
      " [ 0  0  4]]\n",
      "정확도:0.9333 정밀도:0.8889 재현률:0.9583 f1:0.9111\n"
     ]
    }
   ],
   "source": [
    "y = pca_df['target']\n",
    "X = pca_df.drop(['target'], axis=1)\n",
    "# 문제지8, 문제지2 , 정답지8, 정답지2 = train_test_split(문제지, 정답지 , test_size=0.2,random_state=555,shuffle=True)\n",
    "X_train,  X_val, y_train, y_val = train_test_split(X, y, test_size=0.2, random_state=1414)\n",
    "model = RandomForestClassifier(random_state=1414)\n",
    "# model.fit(문제지8, 정답지8)\n",
    "model.fit(X_train,  y_train)\n",
    "# 컴퓨터답안2 = model.predict(문제지2)\n",
    "pred = model.predict(X_val)\n",
    "my_eval(y_val, pred, avg='macro')"
   ]
  },
  {
   "cell_type": "code",
   "execution_count": null,
   "id": "de8afe80-05f7-4df3-ba89-39cf01b5a898",
   "metadata": {},
   "outputs": [],
   "source": []
  },
  {
   "cell_type": "code",
   "execution_count": null,
   "id": "5da5af7c-682e-44d4-82a0-15f5db3e8a78",
   "metadata": {},
   "outputs": [],
   "source": []
  }
 ],
 "metadata": {
  "kernelspec": {
   "display_name": "Python 3 (ipykernel)",
   "language": "python",
   "name": "python3"
  },
  "language_info": {
   "codemirror_mode": {
    "name": "ipython",
    "version": 3
   },
   "file_extension": ".py",
   "mimetype": "text/x-python",
   "name": "python",
   "nbconvert_exporter": "python",
   "pygments_lexer": "ipython3",
   "version": "3.8.8"
  }
 },
 "nbformat": 4,
 "nbformat_minor": 5
}
