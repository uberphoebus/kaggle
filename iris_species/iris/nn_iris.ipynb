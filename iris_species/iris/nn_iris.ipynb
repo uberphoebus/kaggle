{
 "cells": [
  {
   "cell_type": "markdown",
   "metadata": {},
   "source": [
    "# imports"
   ]
  },
  {
   "cell_type": "code",
   "execution_count": 1,
   "metadata": {},
   "outputs": [],
   "source": [
    "import pandas as pd\n",
    "import numpy as np\n",
    "import matplotlib.pyplot as plt\n",
    "import seaborn as sns; sns.set()\n",
    "import warnings; warnings.filterwarnings(action='ignore')\n",
    "\n",
    "from sklearn.model_selection import train_test_split\n",
    "\n",
    "import tensorflow as tf\n",
    "from keras.models import Sequential\n",
    "from keras.layers import Dense, Dropout\n",
    "from keras.callbacks import EarlyStopping, ModelCheckpoint"
   ]
  },
  {
   "cell_type": "markdown",
   "metadata": {},
   "source": [
    "# read"
   ]
  },
  {
   "cell_type": "code",
   "execution_count": 2,
   "metadata": {},
   "outputs": [],
   "source": [
    "df = pd.read_csv('./iris.csv')"
   ]
  },
  {
   "cell_type": "code",
   "execution_count": 3,
   "metadata": {},
   "outputs": [
    {
     "data": {
      "text/html": [
       "<div>\n",
       "<style scoped>\n",
       "    .dataframe tbody tr th:only-of-type {\n",
       "        vertical-align: middle;\n",
       "    }\n",
       "\n",
       "    .dataframe tbody tr th {\n",
       "        vertical-align: top;\n",
       "    }\n",
       "\n",
       "    .dataframe thead th {\n",
       "        text-align: right;\n",
       "    }\n",
       "</style>\n",
       "<table border=\"1\" class=\"dataframe\">\n",
       "  <thead>\n",
       "    <tr style=\"text-align: right;\">\n",
       "      <th></th>\n",
       "      <th>sepal_length</th>\n",
       "      <th>sepal_width</th>\n",
       "      <th>petal_length</th>\n",
       "      <th>petal_width</th>\n",
       "      <th>target</th>\n",
       "    </tr>\n",
       "  </thead>\n",
       "  <tbody>\n",
       "    <tr>\n",
       "      <th>0</th>\n",
       "      <td>5.1</td>\n",
       "      <td>3.5</td>\n",
       "      <td>1.4</td>\n",
       "      <td>0.2</td>\n",
       "      <td>0</td>\n",
       "    </tr>\n",
       "    <tr>\n",
       "      <th>1</th>\n",
       "      <td>4.9</td>\n",
       "      <td>3.0</td>\n",
       "      <td>1.4</td>\n",
       "      <td>0.2</td>\n",
       "      <td>0</td>\n",
       "    </tr>\n",
       "    <tr>\n",
       "      <th>2</th>\n",
       "      <td>4.7</td>\n",
       "      <td>3.2</td>\n",
       "      <td>1.3</td>\n",
       "      <td>0.2</td>\n",
       "      <td>0</td>\n",
       "    </tr>\n",
       "    <tr>\n",
       "      <th>3</th>\n",
       "      <td>4.6</td>\n",
       "      <td>3.1</td>\n",
       "      <td>1.5</td>\n",
       "      <td>0.2</td>\n",
       "      <td>0</td>\n",
       "    </tr>\n",
       "    <tr>\n",
       "      <th>4</th>\n",
       "      <td>5.0</td>\n",
       "      <td>3.6</td>\n",
       "      <td>1.4</td>\n",
       "      <td>0.2</td>\n",
       "      <td>0</td>\n",
       "    </tr>\n",
       "  </tbody>\n",
       "</table>\n",
       "</div>"
      ],
      "text/plain": [
       "   sepal_length  sepal_width  petal_length  petal_width  target\n",
       "0           5.1          3.5           1.4          0.2       0\n",
       "1           4.9          3.0           1.4          0.2       0\n",
       "2           4.7          3.2           1.3          0.2       0\n",
       "3           4.6          3.1           1.5          0.2       0\n",
       "4           5.0          3.6           1.4          0.2       0"
      ]
     },
     "execution_count": 3,
     "metadata": {},
     "output_type": "execute_result"
    }
   ],
   "source": [
    "df.head()"
   ]
  },
  {
   "cell_type": "code",
   "execution_count": 4,
   "metadata": {},
   "outputs": [
    {
     "data": {
      "text/plain": [
       "0    50\n",
       "1    50\n",
       "2    50\n",
       "Name: target, dtype: int64"
      ]
     },
     "execution_count": 4,
     "metadata": {},
     "output_type": "execute_result"
    }
   ],
   "source": [
    "df['target'].value_counts()"
   ]
  },
  {
   "cell_type": "code",
   "execution_count": 5,
   "metadata": {},
   "outputs": [],
   "source": [
    "X = df.drop('target', axis=1)\n",
    "y = df['target']"
   ]
  },
  {
   "cell_type": "markdown",
   "metadata": {},
   "source": [
    "# callbacks"
   ]
  },
  {
   "cell_type": "code",
   "execution_count": 6,
   "metadata": {},
   "outputs": [],
   "source": [
    "np.random.seed(0)\n",
    "tf.random.set_seed(0)"
   ]
  },
  {
   "cell_type": "code",
   "execution_count": 7,
   "metadata": {},
   "outputs": [
    {
     "name": "stdout",
     "output_type": "stream",
     "text": [
      "WARNING:tensorflow:`period` argument is deprecated. Please use `save_freq` to specify the frequency in number of batches seen.\n"
     ]
    }
   ],
   "source": [
    "stopping   = EarlyStopping(monitor='val_loss', patience=10)\n",
    "model_path = './saved_model_iris_sparse/{epoch:03d}_{val_loss:.4f}.hdf5'\n",
    "checkpoint = ModelCheckpoint(model_path, monitor='val_loss', save_weights_only=True, save_best_only=True, period=1)"
   ]
  },
  {
   "cell_type": "markdown",
   "metadata": {},
   "source": [
    "# model"
   ]
  },
  {
   "cell_type": "code",
   "execution_count": 8,
   "metadata": {},
   "outputs": [],
   "source": [
    "model = Sequential()\n",
    "\n",
    "model.add(Dense(units=16, input_dim=4, activation='relu'))\n",
    "model.add(Dense(units=8, activation='relu'))\n",
    "model.add(Dense(units=8, activation='relu'))\n",
    "model.add(Dense(units=3, activation='softmax'))\n",
    "\n",
    "model.compile(\n",
    "    loss='sparse_categorical_crossentropy', # multi-label & not one-hot encoded\n",
    "    # loss='categorical_crossentropy',      # multi-label & one-hot encoded\n",
    "    optimizer='adam', \n",
    "    metrics=['accuracy']\n",
    ")"
   ]
  },
  {
   "cell_type": "markdown",
   "metadata": {},
   "source": [
    "# fit"
   ]
  },
  {
   "cell_type": "code",
   "execution_count": 9,
   "metadata": {},
   "outputs": [
    {
     "name": "stdout",
     "output_type": "stream",
     "text": [
      "Epoch 1/100\n",
      "4/4 [==============================] - 1s 78ms/step - loss: 1.2140 - accuracy: 0.4167 - val_loss: 2.0330 - val_accuracy: 0.0000e+00\n",
      "Epoch 2/100\n",
      "4/4 [==============================] - 0s 12ms/step - loss: 1.1391 - accuracy: 0.4167 - val_loss: 1.8565 - val_accuracy: 0.0000e+00\n",
      "Epoch 3/100\n",
      "4/4 [==============================] - 0s 46ms/step - loss: 1.0772 - accuracy: 0.4167 - val_loss: 1.6827 - val_accuracy: 0.0000e+00\n",
      "Epoch 4/100\n",
      "4/4 [==============================] - 0s 12ms/step - loss: 1.0254 - accuracy: 0.4167 - val_loss: 1.5351 - val_accuracy: 0.0000e+00\n",
      "Epoch 5/100\n",
      "4/4 [==============================] - 0s 12ms/step - loss: 0.9876 - accuracy: 0.4167 - val_loss: 1.4254 - val_accuracy: 0.0000e+00\n",
      "Epoch 6/100\n",
      "4/4 [==============================] - 0s 12ms/step - loss: 0.9610 - accuracy: 0.4167 - val_loss: 1.3404 - val_accuracy: 0.0000e+00\n",
      "Epoch 7/100\n",
      "4/4 [==============================] - 0s 11ms/step - loss: 0.9342 - accuracy: 0.4167 - val_loss: 1.2993 - val_accuracy: 0.0000e+00\n",
      "Epoch 8/100\n",
      "4/4 [==============================] - 0s 13ms/step - loss: 0.9114 - accuracy: 0.4167 - val_loss: 1.2691 - val_accuracy: 0.0000e+00\n",
      "Epoch 9/100\n",
      "4/4 [==============================] - 0s 10ms/step - loss: 0.8903 - accuracy: 0.4167 - val_loss: 1.2546 - val_accuracy: 0.0000e+00\n",
      "Epoch 10/100\n",
      "4/4 [==============================] - 0s 16ms/step - loss: 0.8713 - accuracy: 0.4167 - val_loss: 1.2454 - val_accuracy: 0.0000e+00\n",
      "Epoch 11/100\n",
      "4/4 [==============================] - 0s 10ms/step - loss: 0.8537 - accuracy: 0.4417 - val_loss: 1.2388 - val_accuracy: 0.0000e+00\n",
      "Epoch 12/100\n",
      "4/4 [==============================] - 0s 10ms/step - loss: 0.8389 - accuracy: 0.5917 - val_loss: 1.2350 - val_accuracy: 0.0000e+00\n",
      "Epoch 13/100\n",
      "4/4 [==============================] - 0s 15ms/step - loss: 0.8248 - accuracy: 0.7833 - val_loss: 1.2393 - val_accuracy: 0.0000e+00\n",
      "Epoch 14/100\n",
      "4/4 [==============================] - 0s 14ms/step - loss: 0.8119 - accuracy: 0.8167 - val_loss: 1.2416 - val_accuracy: 0.0000e+00\n",
      "Epoch 15/100\n",
      "4/4 [==============================] - 0s 9ms/step - loss: 0.7989 - accuracy: 0.8333 - val_loss: 1.2402 - val_accuracy: 0.0000e+00\n",
      "Epoch 16/100\n",
      "4/4 [==============================] - 0s 12ms/step - loss: 0.7868 - accuracy: 0.8333 - val_loss: 1.2409 - val_accuracy: 0.0000e+00\n",
      "Epoch 17/100\n",
      "4/4 [==============================] - 0s 11ms/step - loss: 0.7755 - accuracy: 0.8333 - val_loss: 1.2368 - val_accuracy: 0.0000e+00\n",
      "Epoch 18/100\n",
      "4/4 [==============================] - 0s 11ms/step - loss: 0.7640 - accuracy: 0.8333 - val_loss: 1.2305 - val_accuracy: 0.0000e+00\n",
      "Epoch 19/100\n",
      "4/4 [==============================] - 0s 18ms/step - loss: 0.7525 - accuracy: 0.8333 - val_loss: 1.2366 - val_accuracy: 0.0000e+00\n",
      "Epoch 20/100\n",
      "4/4 [==============================] - 0s 10ms/step - loss: 0.7406 - accuracy: 0.8333 - val_loss: 1.2447 - val_accuracy: 0.0000e+00\n",
      "Epoch 21/100\n",
      "4/4 [==============================] - 0s 12ms/step - loss: 0.7290 - accuracy: 0.8333 - val_loss: 1.2525 - val_accuracy: 0.0000e+00\n",
      "Epoch 22/100\n",
      "4/4 [==============================] - 0s 22ms/step - loss: 0.7174 - accuracy: 0.8333 - val_loss: 1.2406 - val_accuracy: 0.0000e+00\n",
      "Epoch 23/100\n",
      "4/4 [==============================] - 0s 29ms/step - loss: 0.7061 - accuracy: 0.8333 - val_loss: 1.2387 - val_accuracy: 0.0000e+00\n",
      "Epoch 24/100\n",
      "4/4 [==============================] - 0s 30ms/step - loss: 0.6949 - accuracy: 0.8333 - val_loss: 1.2608 - val_accuracy: 0.0000e+00\n",
      "Epoch 25/100\n",
      "4/4 [==============================] - 0s 17ms/step - loss: 0.6823 - accuracy: 0.8333 - val_loss: 1.2398 - val_accuracy: 0.0000e+00\n",
      "Epoch 26/100\n",
      "4/4 [==============================] - 0s 19ms/step - loss: 0.6702 - accuracy: 0.8333 - val_loss: 1.2146 - val_accuracy: 0.0000e+00\n",
      "Epoch 27/100\n",
      "4/4 [==============================] - 0s 9ms/step - loss: 0.6577 - accuracy: 0.8333 - val_loss: 1.2227 - val_accuracy: 0.0000e+00\n",
      "Epoch 28/100\n",
      "4/4 [==============================] - 0s 11ms/step - loss: 0.6447 - accuracy: 0.8333 - val_loss: 1.2042 - val_accuracy: 0.0000e+00\n",
      "Epoch 29/100\n",
      "4/4 [==============================] - 0s 9ms/step - loss: 0.6320 - accuracy: 0.8333 - val_loss: 1.1695 - val_accuracy: 0.0000e+00\n",
      "Epoch 30/100\n",
      "4/4 [==============================] - 0s 12ms/step - loss: 0.6180 - accuracy: 0.8333 - val_loss: 1.1556 - val_accuracy: 0.0000e+00\n",
      "Epoch 31/100\n",
      "4/4 [==============================] - 0s 11ms/step - loss: 0.6039 - accuracy: 0.8333 - val_loss: 1.1724 - val_accuracy: 0.0000e+00\n",
      "Epoch 32/100\n",
      "4/4 [==============================] - 0s 10ms/step - loss: 0.5894 - accuracy: 0.8333 - val_loss: 1.1414 - val_accuracy: 0.0000e+00\n",
      "Epoch 33/100\n",
      "4/4 [==============================] - 0s 10ms/step - loss: 0.5731 - accuracy: 0.8333 - val_loss: 1.1374 - val_accuracy: 0.0000e+00\n",
      "Epoch 34/100\n",
      "4/4 [==============================] - 0s 16ms/step - loss: 0.5580 - accuracy: 0.8333 - val_loss: 1.1453 - val_accuracy: 0.0000e+00\n",
      "Epoch 35/100\n",
      "4/4 [==============================] - 0s 11ms/step - loss: 0.5407 - accuracy: 0.8333 - val_loss: 1.1111 - val_accuracy: 0.0000e+00\n",
      "Epoch 36/100\n",
      "4/4 [==============================] - 0s 9ms/step - loss: 0.5232 - accuracy: 0.8333 - val_loss: 1.0994 - val_accuracy: 0.0000e+00\n",
      "Epoch 37/100\n",
      "4/4 [==============================] - 0s 11ms/step - loss: 0.5060 - accuracy: 0.8333 - val_loss: 1.0492 - val_accuracy: 0.0000e+00\n",
      "Epoch 38/100\n",
      "4/4 [==============================] - 0s 12ms/step - loss: 0.4892 - accuracy: 0.8333 - val_loss: 1.0163 - val_accuracy: 0.0000e+00\n",
      "Epoch 39/100\n",
      "4/4 [==============================] - 0s 11ms/step - loss: 0.4690 - accuracy: 0.8333 - val_loss: 1.0455 - val_accuracy: 0.0000e+00\n",
      "Epoch 40/100\n",
      "4/4 [==============================] - 0s 15ms/step - loss: 0.4516 - accuracy: 0.8333 - val_loss: 1.0880 - val_accuracy: 0.0000e+00\n",
      "Epoch 41/100\n",
      "4/4 [==============================] - 0s 15ms/step - loss: 0.4342 - accuracy: 0.8333 - val_loss: 1.0720 - val_accuracy: 0.0000e+00\n",
      "Epoch 42/100\n",
      "4/4 [==============================] - 0s 14ms/step - loss: 0.4179 - accuracy: 0.8417 - val_loss: 1.0522 - val_accuracy: 0.0000e+00\n",
      "Epoch 43/100\n",
      "4/4 [==============================] - 0s 21ms/step - loss: 0.4021 - accuracy: 0.8500 - val_loss: 0.9946 - val_accuracy: 0.0000e+00\n",
      "Epoch 44/100\n",
      "4/4 [==============================] - 0s 21ms/step - loss: 0.3860 - accuracy: 0.8500 - val_loss: 0.9635 - val_accuracy: 0.0000e+00\n",
      "Epoch 45/100\n",
      "4/4 [==============================] - 0s 13ms/step - loss: 0.3724 - accuracy: 0.8583 - val_loss: 0.9511 - val_accuracy: 0.0000e+00\n",
      "Epoch 46/100\n",
      "4/4 [==============================] - 0s 11ms/step - loss: 0.3604 - accuracy: 0.8583 - val_loss: 0.9261 - val_accuracy: 0.0667\n",
      "Epoch 47/100\n",
      "4/4 [==============================] - 0s 12ms/step - loss: 0.3473 - accuracy: 0.8667 - val_loss: 0.9375 - val_accuracy: 0.0667\n",
      "Epoch 48/100\n",
      "4/4 [==============================] - 0s 9ms/step - loss: 0.3359 - accuracy: 0.8667 - val_loss: 0.9695 - val_accuracy: 0.0333\n",
      "Epoch 49/100\n",
      "4/4 [==============================] - 0s 9ms/step - loss: 0.3254 - accuracy: 0.8667 - val_loss: 0.9601 - val_accuracy: 0.0667\n",
      "Epoch 50/100\n",
      "4/4 [==============================] - 0s 12ms/step - loss: 0.3164 - accuracy: 0.8833 - val_loss: 0.9146 - val_accuracy: 0.1667\n",
      "Epoch 51/100\n",
      "4/4 [==============================] - 0s 9ms/step - loss: 0.3063 - accuracy: 0.8833 - val_loss: 0.8915 - val_accuracy: 0.1667\n",
      "Epoch 52/100\n",
      "4/4 [==============================] - 0s 10ms/step - loss: 0.2970 - accuracy: 0.8917 - val_loss: 0.8949 - val_accuracy: 0.1667\n",
      "Epoch 53/100\n",
      "4/4 [==============================] - 0s 11ms/step - loss: 0.2891 - accuracy: 0.8917 - val_loss: 0.8755 - val_accuracy: 0.2000\n",
      "Epoch 54/100\n",
      "4/4 [==============================] - 0s 9ms/step - loss: 0.2814 - accuracy: 0.8917 - val_loss: 0.8797 - val_accuracy: 0.2000\n",
      "Epoch 55/100\n",
      "4/4 [==============================] - 0s 12ms/step - loss: 0.2732 - accuracy: 0.9000 - val_loss: 0.8396 - val_accuracy: 0.3667\n",
      "Epoch 56/100\n",
      "4/4 [==============================] - 0s 10ms/step - loss: 0.2684 - accuracy: 0.9250 - val_loss: 0.7725 - val_accuracy: 0.4667\n",
      "Epoch 57/100\n",
      "4/4 [==============================] - 0s 12ms/step - loss: 0.2600 - accuracy: 0.9583 - val_loss: 0.7871 - val_accuracy: 0.4667\n",
      "Epoch 58/100\n",
      "4/4 [==============================] - 0s 9ms/step - loss: 0.2529 - accuracy: 0.9333 - val_loss: 0.8401 - val_accuracy: 0.4000\n",
      "Epoch 59/100\n",
      "4/4 [==============================] - 0s 12ms/step - loss: 0.2471 - accuracy: 0.9167 - val_loss: 0.8264 - val_accuracy: 0.4667\n",
      "Epoch 60/100\n",
      "4/4 [==============================] - 0s 12ms/step - loss: 0.2408 - accuracy: 0.9333 - val_loss: 0.8033 - val_accuracy: 0.4667\n",
      "Epoch 61/100\n",
      "4/4 [==============================] - 0s 13ms/step - loss: 0.2346 - accuracy: 0.9500 - val_loss: 0.7831 - val_accuracy: 0.4667\n",
      "Epoch 62/100\n",
      "4/4 [==============================] - 0s 13ms/step - loss: 0.2298 - accuracy: 0.9583 - val_loss: 0.7164 - val_accuracy: 0.5667\n",
      "Epoch 63/100\n",
      "4/4 [==============================] - 0s 22ms/step - loss: 0.2224 - accuracy: 0.9750 - val_loss: 0.6998 - val_accuracy: 0.5667\n",
      "Epoch 64/100\n",
      "4/4 [==============================] - 0s 21ms/step - loss: 0.2157 - accuracy: 0.9750 - val_loss: 0.7050 - val_accuracy: 0.5667\n",
      "Epoch 65/100\n",
      "4/4 [==============================] - 0s 12ms/step - loss: 0.2093 - accuracy: 0.9667 - val_loss: 0.7363 - val_accuracy: 0.5333\n",
      "Epoch 66/100\n",
      "4/4 [==============================] - 0s 22ms/step - loss: 0.2031 - accuracy: 0.9667 - val_loss: 0.7174 - val_accuracy: 0.5333\n",
      "Epoch 67/100\n",
      "4/4 [==============================] - 0s 14ms/step - loss: 0.1966 - accuracy: 0.9750 - val_loss: 0.6744 - val_accuracy: 0.5667\n",
      "Epoch 68/100\n",
      "4/4 [==============================] - 0s 14ms/step - loss: 0.1895 - accuracy: 0.9750 - val_loss: 0.6472 - val_accuracy: 0.6000\n",
      "Epoch 69/100\n",
      "4/4 [==============================] - 0s 10ms/step - loss: 0.1836 - accuracy: 0.9750 - val_loss: 0.6799 - val_accuracy: 0.5667\n",
      "Epoch 70/100\n",
      "4/4 [==============================] - 0s 11ms/step - loss: 0.1779 - accuracy: 0.9750 - val_loss: 0.6248 - val_accuracy: 0.6000\n",
      "Epoch 71/100\n",
      "4/4 [==============================] - 0s 12ms/step - loss: 0.1715 - accuracy: 0.9750 - val_loss: 0.5989 - val_accuracy: 0.6667\n",
      "Epoch 72/100\n",
      "4/4 [==============================] - 0s 11ms/step - loss: 0.1667 - accuracy: 0.9750 - val_loss: 0.5958 - val_accuracy: 0.6667\n",
      "Epoch 73/100\n",
      "4/4 [==============================] - 0s 12ms/step - loss: 0.1608 - accuracy: 0.9750 - val_loss: 0.6117 - val_accuracy: 0.6000\n",
      "Epoch 74/100\n",
      "4/4 [==============================] - 0s 14ms/step - loss: 0.1560 - accuracy: 0.9750 - val_loss: 0.6067 - val_accuracy: 0.6333\n",
      "Epoch 75/100\n",
      "4/4 [==============================] - 0s 9ms/step - loss: 0.1512 - accuracy: 0.9750 - val_loss: 0.5678 - val_accuracy: 0.6667\n",
      "Epoch 76/100\n",
      "4/4 [==============================] - 0s 8ms/step - loss: 0.1465 - accuracy: 0.9833 - val_loss: 0.5443 - val_accuracy: 0.7000\n",
      "Epoch 77/100\n",
      "4/4 [==============================] - 0s 9ms/step - loss: 0.1423 - accuracy: 0.9917 - val_loss: 0.5272 - val_accuracy: 0.7333\n",
      "Epoch 78/100\n",
      "4/4 [==============================] - 0s 12ms/step - loss: 0.1394 - accuracy: 0.9833 - val_loss: 0.5187 - val_accuracy: 0.7333\n",
      "Epoch 79/100\n",
      "4/4 [==============================] - 0s 9ms/step - loss: 0.1334 - accuracy: 0.9917 - val_loss: 0.5688 - val_accuracy: 0.6667\n",
      "Epoch 80/100\n",
      "4/4 [==============================] - 0s 15ms/step - loss: 0.1324 - accuracy: 0.9833 - val_loss: 0.6222 - val_accuracy: 0.6000\n",
      "Epoch 81/100\n",
      "4/4 [==============================] - 0s 9ms/step - loss: 0.1284 - accuracy: 0.9750 - val_loss: 0.5653 - val_accuracy: 0.6667\n",
      "Epoch 82/100\n",
      "4/4 [==============================] - 0s 30ms/step - loss: 0.1248 - accuracy: 0.9917 - val_loss: 0.4485 - val_accuracy: 0.7667\n",
      "Epoch 83/100\n",
      "4/4 [==============================] - 0s 29ms/step - loss: 0.1219 - accuracy: 0.9833 - val_loss: 0.4640 - val_accuracy: 0.7667\n",
      "Epoch 84/100\n",
      "4/4 [==============================] - 0s 17ms/step - loss: 0.1181 - accuracy: 0.9833 - val_loss: 0.5131 - val_accuracy: 0.7000\n",
      "Epoch 85/100\n",
      "4/4 [==============================] - 0s 7ms/step - loss: 0.1147 - accuracy: 0.9917 - val_loss: 0.5169 - val_accuracy: 0.7000\n",
      "Epoch 86/100\n",
      "4/4 [==============================] - 0s 7ms/step - loss: 0.1116 - accuracy: 0.9917 - val_loss: 0.4951 - val_accuracy: 0.7667\n",
      "Epoch 87/100\n",
      "4/4 [==============================] - 0s 13ms/step - loss: 0.1088 - accuracy: 0.9833 - val_loss: 0.4855 - val_accuracy: 0.7667\n",
      "Epoch 88/100\n",
      "4/4 [==============================] - 0s 8ms/step - loss: 0.1066 - accuracy: 0.9833 - val_loss: 0.4828 - val_accuracy: 0.7667\n",
      "Epoch 89/100\n",
      "4/4 [==============================] - 0s 8ms/step - loss: 0.1040 - accuracy: 0.9833 - val_loss: 0.4378 - val_accuracy: 0.7667\n",
      "Epoch 90/100\n",
      "4/4 [==============================] - 0s 38ms/step - loss: 0.1019 - accuracy: 0.9833 - val_loss: 0.4464 - val_accuracy: 0.7667\n",
      "Epoch 91/100\n",
      "4/4 [==============================] - 0s 19ms/step - loss: 0.0994 - accuracy: 0.9833 - val_loss: 0.4583 - val_accuracy: 0.7667\n",
      "Epoch 92/100\n",
      "4/4 [==============================] - 0s 10ms/step - loss: 0.0968 - accuracy: 0.9833 - val_loss: 0.4748 - val_accuracy: 0.7667\n",
      "Epoch 93/100\n",
      "4/4 [==============================] - 0s 10ms/step - loss: 0.0950 - accuracy: 0.9833 - val_loss: 0.4926 - val_accuracy: 0.7667\n",
      "Epoch 94/100\n",
      "4/4 [==============================] - 0s 9ms/step - loss: 0.0931 - accuracy: 0.9833 - val_loss: 0.4669 - val_accuracy: 0.7667\n",
      "Epoch 95/100\n",
      "4/4 [==============================] - 0s 8ms/step - loss: 0.0939 - accuracy: 0.9833 - val_loss: 0.3959 - val_accuracy: 0.8000\n",
      "Epoch 96/100\n",
      "4/4 [==============================] - 0s 9ms/step - loss: 0.0909 - accuracy: 0.9833 - val_loss: 0.4853 - val_accuracy: 0.7667\n",
      "Epoch 97/100\n",
      "4/4 [==============================] - 0s 9ms/step - loss: 0.0891 - accuracy: 0.9833 - val_loss: 0.4900 - val_accuracy: 0.7333\n",
      "Epoch 98/100\n",
      "4/4 [==============================] - 0s 22ms/step - loss: 0.0864 - accuracy: 0.9833 - val_loss: 0.4100 - val_accuracy: 0.7667\n",
      "Epoch 99/100\n",
      "4/4 [==============================] - 0s 12ms/step - loss: 0.0845 - accuracy: 0.9833 - val_loss: 0.3864 - val_accuracy: 0.8000\n",
      "Epoch 100/100\n",
      "4/4 [==============================] - 0s 24ms/step - loss: 0.0828 - accuracy: 0.9833 - val_loss: 0.4370 - val_accuracy: 0.7667\n"
     ]
    }
   ],
   "source": [
    "history = model.fit(\n",
    "    X, y, \n",
    "    epochs=100, \n",
    "    verbose='auto', \n",
    "    callbacks=[stopping, checkpoint], \n",
    "    validation_split=0.2, \n",
    "    shuffle=True\n",
    ")"
   ]
  },
  {
   "cell_type": "markdown",
   "metadata": {},
   "source": [
    "# evaluation"
   ]
  },
  {
   "cell_type": "code",
   "execution_count": 10,
   "metadata": {},
   "outputs": [],
   "source": [
    "train_loss = history.history['loss']\n",
    "val_loss   = history.history['val_loss']\n",
    "train_acc  = history.history['accuracy']\n",
    "val_acc    = history.history['val_accuracy']"
   ]
  },
  {
   "cell_type": "code",
   "execution_count": 11,
   "metadata": {},
   "outputs": [
    {
     "data": {
      "image/png": "[encoded data removed]",
      "text/plain": [
       "<Figure size 864x648 with 1 Axes>"
      ]
     },
     "metadata": {},
     "output_type": "display_data"
    }
   ],
   "source": [
    "f = plt.subplots(figsize=(12, 9))\n",
    "plt.plot(np.arange(len(train_loss)), train_loss, c='r', label='train_loss')\n",
    "plt.plot(np.arange(len(train_loss)), val_loss, c='b', label='val_loss')\n",
    "plt.legend(); plt.show()"
   ]
  },
  {
   "cell_type": "code",
   "execution_count": 12,
   "metadata": {},
   "outputs": [
    {
     "data": {
      "image/png": "[encoded data removed]",
      "text/plain": [
       "<Figure size 864x648 with 1 Axes>"
      ]
     },
     "metadata": {},
     "output_type": "display_data"
    }
   ],
   "source": [
    "f = plt.subplots(figsize=(12, 9))\n",
    "plt.plot(np.arange(len(train_acc)), train_acc, c='r', label='train_acc')\n",
    "plt.plot(np.arange(len(train_acc)), val_acc, c='b', label='val_acc')\n",
    "plt.legend(); plt.show()"
   ]
  }
 ],
 "metadata": {
  "interpreter": {
   "hash": "c3102799280f1ed23787b1be8e33b065cea14d14e60df4daed798ef8bab0b32c"
  },
  "kernelspec": {
   "display_name": "Python 3.8.8 64-bit ('venv': venv)",
   "name": "python3"
  },
  "language_info": {
   "codemirror_mode": {
    "name": "ipython",
    "version": 3
   },
   "file_extension": ".py",
   "mimetype": "text/x-python",
   "name": "python",
   "nbconvert_exporter": "python",
   "pygments_lexer": "ipython3",
   "version": "3.8.8"
  },
  "orig_nbformat": 4
 },
 "nbformat": 4,
 "nbformat_minor": 2
}
