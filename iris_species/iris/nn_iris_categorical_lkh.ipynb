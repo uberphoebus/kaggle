{
 "cells": [
  {
   "cell_type": "markdown",
   "id": "11ec27a2-d70d-4a28-9a3f-2dca71ef2add",
   "metadata": {},
   "source": [
    "<img src=\"logo.png\">"
   ]
  },
  {
   "cell_type": "markdown",
   "id": "65b3c362-7226-4d52-9620-582d9a9df2a2",
   "metadata": {},
   "source": [
    "<img src=\"logo2.png\">"
   ]
  },
  {
   "cell_type": "code",
   "execution_count": 1,
   "id": "7e3cdf96-2278-4e85-9928-8dc3546ab010",
   "metadata": {
    "tags": []
   },
   "outputs": [],
   "source": [
    "import pandas as pd\n",
    "import numpy as np\n",
    "import matplotlib.pyplot as plt\n",
    "import seaborn as sns\n",
    "import warnings\n",
    "warnings.filterwarnings(action='ignore')\n",
    "from sklearn.model_selection import train_test_split\n",
    "\n",
    "# --------------------------------- NN ---------------------------\n",
    "from keras.models import Sequential\n",
    "from keras.layers import Dense\n",
    "import tensorflow as tf\n",
    "\n",
    "from keras.callbacks import EarlyStopping\n",
    "from keras.callbacks import ModelCheckpoint\n",
    "\n",
    "sns.set()"
   ]
  },
  {
   "cell_type": "code",
   "execution_count": 2,
   "id": "4586e89a-5b82-4bbe-8066-587034562e63",
   "metadata": {},
   "outputs": [],
   "source": [
    "df = pd.read_csv(\"iris_cate.csv\")\n",
    "df.drop('Id', axis=1, inplace=True)\n",
    "df.columns = ['sepal_length','sepal_width','petal_length','petal_width','target']"
   ]
  },
  {
   "cell_type": "code",
   "execution_count": 3,
   "id": "da9ef27d-3ad9-4d80-9e3d-41f3a166d6cc",
   "metadata": {},
   "outputs": [
    {
     "name": "stdout",
     "output_type": "stream",
     "text": [
      "(150, 5)\n"
     ]
    },
    {
     "data": {
      "text/html": [
       "<div>\n",
       "<style scoped>\n",
       "    .dataframe tbody tr th:only-of-type {\n",
       "        vertical-align: middle;\n",
       "    }\n",
       "\n",
       "    .dataframe tbody tr th {\n",
       "        vertical-align: top;\n",
       "    }\n",
       "\n",
       "    .dataframe thead th {\n",
       "        text-align: right;\n",
       "    }\n",
       "</style>\n",
       "<table border=\"1\" class=\"dataframe\">\n",
       "  <thead>\n",
       "    <tr style=\"text-align: right;\">\n",
       "      <th></th>\n",
       "      <th>sepal_length</th>\n",
       "      <th>sepal_width</th>\n",
       "      <th>petal_length</th>\n",
       "      <th>petal_width</th>\n",
       "      <th>target</th>\n",
       "    </tr>\n",
       "  </thead>\n",
       "  <tbody>\n",
       "    <tr>\n",
       "      <th>0</th>\n",
       "      <td>5.1</td>\n",
       "      <td>3.5</td>\n",
       "      <td>1.4</td>\n",
       "      <td>0.2</td>\n",
       "      <td>Iris-setosa</td>\n",
       "    </tr>\n",
       "    <tr>\n",
       "      <th>1</th>\n",
       "      <td>4.9</td>\n",
       "      <td>3.0</td>\n",
       "      <td>1.4</td>\n",
       "      <td>0.2</td>\n",
       "      <td>Iris-setosa</td>\n",
       "    </tr>\n",
       "    <tr>\n",
       "      <th>2</th>\n",
       "      <td>4.7</td>\n",
       "      <td>3.2</td>\n",
       "      <td>1.3</td>\n",
       "      <td>0.2</td>\n",
       "      <td>Iris-setosa</td>\n",
       "    </tr>\n",
       "    <tr>\n",
       "      <th>3</th>\n",
       "      <td>4.6</td>\n",
       "      <td>3.1</td>\n",
       "      <td>1.5</td>\n",
       "      <td>0.2</td>\n",
       "      <td>Iris-setosa</td>\n",
       "    </tr>\n",
       "    <tr>\n",
       "      <th>4</th>\n",
       "      <td>5.0</td>\n",
       "      <td>3.6</td>\n",
       "      <td>1.4</td>\n",
       "      <td>0.2</td>\n",
       "      <td>Iris-setosa</td>\n",
       "    </tr>\n",
       "  </tbody>\n",
       "</table>\n",
       "</div>"
      ],
      "text/plain": [
       "   sepal_length  sepal_width  petal_length  petal_width       target\n",
       "0           5.1          3.5           1.4          0.2  Iris-setosa\n",
       "1           4.9          3.0           1.4          0.2  Iris-setosa\n",
       "2           4.7          3.2           1.3          0.2  Iris-setosa\n",
       "3           4.6          3.1           1.5          0.2  Iris-setosa\n",
       "4           5.0          3.6           1.4          0.2  Iris-setosa"
      ]
     },
     "execution_count": 3,
     "metadata": {},
     "output_type": "execute_result"
    }
   ],
   "source": [
    "print(df.shape)\n",
    "df.head()"
   ]
  },
  {
   "cell_type": "code",
   "execution_count": 4,
   "id": "cdfc3e29-59d8-4d2a-87fe-ec0375ae19c9",
   "metadata": {},
   "outputs": [
    {
     "name": "stdout",
     "output_type": "stream",
     "text": [
      "<class 'pandas.core.frame.DataFrame'>\n",
      "RangeIndex: 150 entries, 0 to 149\n",
      "Data columns (total 5 columns):\n",
      " #   Column        Non-Null Count  Dtype  \n",
      "---  ------        --------------  -----  \n",
      " 0   sepal_length  150 non-null    float64\n",
      " 1   sepal_width   150 non-null    float64\n",
      " 2   petal_length  150 non-null    float64\n",
      " 3   petal_width   150 non-null    float64\n",
      " 4   target        150 non-null    object \n",
      "dtypes: float64(4), object(1)\n",
      "memory usage: 6.0+ KB\n"
     ]
    }
   ],
   "source": [
    "df.info()"
   ]
  },
  {
   "cell_type": "markdown",
   "id": "a3e8f40a-4145-474c-a92d-726304f227ff",
   "metadata": {
    "tags": []
   },
   "source": [
    "## NN"
   ]
  },
  {
   "cell_type": "markdown",
   "id": "e0f7e68d-bec8-49c5-8489-e7b272f870b2",
   "metadata": {
    "tags": []
   },
   "source": [
    "### 랜덤시드 고정"
   ]
  },
  {
   "cell_type": "code",
   "execution_count": 5,
   "id": "17965ae4-09ad-4db8-ac37-8dd937728824",
   "metadata": {},
   "outputs": [],
   "source": [
    "np.random.seed(1234)\n",
    "tf.random.set_seed(1234)"
   ]
  },
  {
   "cell_type": "markdown",
   "id": "09b6ba07-e956-45e3-aeda-5e5954904c9e",
   "metadata": {},
   "source": [
    "### X, y (학습피쳐, 타겟) 분리 "
   ]
  },
  {
   "cell_type": "code",
   "execution_count": 6,
   "id": "ac494ee0-d908-4edc-80e3-894f1a093aad",
   "metadata": {},
   "outputs": [],
   "source": [
    "y = df['target']\n",
    "X = df.drop(['target'], axis=1)"
   ]
  },
  {
   "cell_type": "markdown",
   "id": "49d11cb8-4f4e-4dd1-8c97-366e427ee6f0",
   "metadata": {},
   "source": [
    "### target 가공"
   ]
  },
  {
   "cell_type": "code",
   "execution_count": 7,
   "id": "84edbee5-dad4-42ee-82bd-357cf50fd94a",
   "metadata": {},
   "outputs": [
    {
     "name": "stdout",
     "output_type": "stream",
     "text": [
      "[0 0 0 0 0]\n",
      "[[1. 0. 0.]\n",
      " [1. 0. 0.]\n",
      " [1. 0. 0.]\n",
      " [1. 0. 0.]\n",
      " [1. 0. 0.]]\n"
     ]
    }
   ],
   "source": [
    "\n",
    "from sklearn.preprocessing import LabelEncoder\n",
    "from sklearn.preprocessing import OneHotEncoder\n",
    "#----------------------------------------------- 방법1)\n",
    "# encoder = LabelEncoder()\n",
    "# y_encoder  = encoder.fit_transform(y)\n",
    "\n",
    "# oh_encoder = OneHotEncoder()\n",
    "# y_oh = oh_encoder.fit_transform(y_encoder)\n",
    "\n",
    "\n",
    "#----------------------------------------------- 방법2)\n",
    "from tensorflow.keras import utils \n",
    "encoder = LabelEncoder()\n",
    "y_encoder  = encoder.fit_transform(y)\n",
    "\n",
    "y_oh = utils.to_categorical(y_encoder)\n",
    "# y_oh = tf.keras.utils.to_categorical(y_encoder)\n",
    "#----------------------------------------------- \n",
    "print(y_encoder[:5])\n",
    "print(y_oh[:5])"
   ]
  },
  {
   "cell_type": "markdown",
   "id": "ca13431a-08b0-4ed9-a7f4-16728887638d",
   "metadata": {},
   "source": [
    "### 모델"
   ]
  },
  {
   "cell_type": "code",
   "execution_count": 8,
   "id": "b048897e-67eb-4bc9-be26-d439ad67775c",
   "metadata": {},
   "outputs": [],
   "source": [
    "# model = DecesionTree()  ------  M.L XXXXX\n",
    "#----------------------------------------\n",
    "model = Sequential()\n",
    "model.add(Dense(units=16, activation='relu',  input_dim=4  ))  #input_dim == shape피쳐갯수  (506, 9)\n",
    "model.add(Dense(units=8,  activation='relu'))  # hidden layer 1 : S\n",
    "model.add(Dense(units=8,  activation='relu'))  # hidden layer 2 : M --> DNN\n",
    "model.add(Dense(units=3,  activation='softmax'))\n",
    "                          #adam = momentom + adaboost\n",
    "# model.compile(loss='sparse_categorical_crossentropy',  optimizer='adam'  ,  metrics=['accuracy'])  #l.o.m\n",
    "model.compile(loss='categorical_crossentropy',  optimizer='adam'  ,  metrics=['accuracy'])  #l.o.m\n",
    "\n",
    "#----------------------------------------"
   ]
  },
  {
   "cell_type": "markdown",
   "id": "f42aab14-730f-49c2-a602-7c8d5348f5df",
   "metadata": {},
   "source": [
    "### 8:2 데이터 나누기 +  학습(fit)\n",
    "* initial_epoch = 0,\n",
    "* steps_per_epoch = None,\n",
    "* validation_steps = None,\n",
    "* validation_batch_size = None,"
   ]
  },
  {
   "cell_type": "code",
   "execution_count": 9,
   "id": "666d22de-43d7-42ae-a824-f8c019c66771",
   "metadata": {},
   "outputs": [],
   "source": [
    "X_train, X_val, y_train, y_val = train_test_split(X, y_oh, test_size=0.2)"
   ]
  },
  {
   "cell_type": "markdown",
   "id": "7532f74f-e76c-4e46-91af-d11b07c45a23",
   "metadata": {},
   "source": [
    "### callback  (EarlyStopping, CheckPoint)\n",
    "* EarlyStopping : 오버피팅 시 학습 중단\n",
    "* CheckPoint : epoch 수행 후 점수가 좋아지면 해당 모델을 저장"
   ]
  },
  {
   "cell_type": "code",
   "execution_count": 10,
   "id": "a2ef8379-2db9-4024-b13d-33b9b865c237",
   "metadata": {},
   "outputs": [
    {
     "name": "stdout",
     "output_type": "stream",
     "text": [
      "path ok~!!!!\n",
      "WARNING:tensorflow:`period` argument is deprecated. Please use `save_freq` to specify the frequency in number of batches seen.\n"
     ]
    }
   ],
   "source": [
    "stopping = EarlyStopping(monitor='val_loss',patience=10)\n",
    "\n",
    "# os.path\n",
    "\n",
    "import os\n",
    "\n",
    "model_dir = './save_models/'\n",
    "if not os.path.exists(model_dir):\n",
    "    os.mkdir(model_dir)\n",
    "    print(\"path error~!!!!\")\n",
    "else:\n",
    "    print(\"path ok~!!!!\")\n",
    "    \n",
    "    \n",
    "model_path = \"./save_models/{epoch:03d}_{val_loss:.4f}.h5\"\n",
    "checkpoint = ModelCheckpoint(model_path, monitor='val_loss', save_weights_only=True, save_best_only=True, period=1)"
   ]
  },
  {
   "cell_type": "markdown",
   "id": "c4a3157a-cd79-4af4-92d8-40b98653a33b",
   "metadata": {},
   "source": [
    "### 학습 시작"
   ]
  },
  {
   "cell_type": "code",
   "execution_count": 11,
   "id": "6aad7d16-73e5-408d-922c-359bb75632f0",
   "metadata": {},
   "outputs": [
    {
     "name": "stdout",
     "output_type": "stream",
     "text": [
      "Epoch 1/100\n",
      "12/12 [==============================] - 1s 16ms/step - loss: 1.6501 - accuracy: 0.2833 - val_loss: 0.9014 - val_accuracy: 0.5333\n",
      "Epoch 2/100\n",
      "12/12 [==============================] - 0s 3ms/step - loss: 1.1895 - accuracy: 0.2833 - val_loss: 0.8602 - val_accuracy: 0.5333\n",
      "Epoch 3/100\n",
      "12/12 [==============================] - 0s 4ms/step - loss: 1.0119 - accuracy: 0.2833 - val_loss: 0.8978 - val_accuracy: 0.5333\n",
      "Epoch 4/100\n",
      "12/12 [==============================] - 0s 3ms/step - loss: 0.9559 - accuracy: 0.2833 - val_loss: 0.8954 - val_accuracy: 0.5333\n",
      "Epoch 5/100\n",
      "12/12 [==============================] - 0s 3ms/step - loss: 0.9210 - accuracy: 0.5583 - val_loss: 0.8713 - val_accuracy: 0.8667\n",
      "Epoch 6/100\n",
      "12/12 [==============================] - 0s 4ms/step - loss: 0.8885 - accuracy: 0.6167 - val_loss: 0.8404 - val_accuracy: 0.8667\n",
      "Epoch 7/100\n",
      "12/12 [==============================] - 0s 3ms/step - loss: 0.8509 - accuracy: 0.6250 - val_loss: 0.7967 - val_accuracy: 0.8667\n",
      "Epoch 8/100\n",
      "12/12 [==============================] - 0s 3ms/step - loss: 0.8074 - accuracy: 0.6417 - val_loss: 0.7510 - val_accuracy: 0.8667\n",
      "Epoch 9/100\n",
      "12/12 [==============================] - 0s 2ms/step - loss: 0.7588 - accuracy: 0.6417 - val_loss: 0.6864 - val_accuracy: 0.8667\n",
      "Epoch 10/100\n",
      "12/12 [==============================] - 0s 3ms/step - loss: 0.7093 - accuracy: 0.7667 - val_loss: 0.6453 - val_accuracy: 0.9000\n",
      "Epoch 11/100\n",
      "12/12 [==============================] - 0s 3ms/step - loss: 0.6525 - accuracy: 0.7500 - val_loss: 0.5804 - val_accuracy: 0.9000\n",
      "Epoch 12/100\n",
      "12/12 [==============================] - 0s 3ms/step - loss: 0.5992 - accuracy: 0.8083 - val_loss: 0.5315 - val_accuracy: 0.9000\n",
      "Epoch 13/100\n",
      "12/12 [==============================] - 0s 3ms/step - loss: 0.5509 - accuracy: 0.8917 - val_loss: 0.5050 - val_accuracy: 0.9333\n",
      "Epoch 14/100\n",
      "12/12 [==============================] - 0s 3ms/step - loss: 0.5038 - accuracy: 0.9250 - val_loss: 0.4763 - val_accuracy: 0.9333\n",
      "Epoch 15/100\n",
      "12/12 [==============================] - 0s 3ms/step - loss: 0.4620 - accuracy: 0.9667 - val_loss: 0.4370 - val_accuracy: 0.9333\n",
      "Epoch 16/100\n",
      "12/12 [==============================] - 0s 3ms/step - loss: 0.4268 - accuracy: 0.9500 - val_loss: 0.4137 - val_accuracy: 0.9667\n",
      "Epoch 17/100\n",
      "12/12 [==============================] - 0s 3ms/step - loss: 0.3933 - accuracy: 0.9667 - val_loss: 0.4077 - val_accuracy: 0.9333\n",
      "Epoch 18/100\n",
      "12/12 [==============================] - 0s 3ms/step - loss: 0.3689 - accuracy: 0.9667 - val_loss: 0.3898 - val_accuracy: 0.9333\n",
      "Epoch 19/100\n",
      "12/12 [==============================] - 0s 4ms/step - loss: 0.3482 - accuracy: 0.9667 - val_loss: 0.3495 - val_accuracy: 0.9667\n",
      "Epoch 20/100\n",
      "12/12 [==============================] - 0s 4ms/step - loss: 0.3279 - accuracy: 0.9500 - val_loss: 0.3683 - val_accuracy: 0.9000\n",
      "Epoch 21/100\n",
      "12/12 [==============================] - 0s 4ms/step - loss: 0.3094 - accuracy: 0.9667 - val_loss: 0.3484 - val_accuracy: 0.9000\n",
      "Epoch 22/100\n",
      "12/12 [==============================] - 0s 3ms/step - loss: 0.2915 - accuracy: 0.9750 - val_loss: 0.3109 - val_accuracy: 0.9667\n",
      "Epoch 23/100\n",
      "12/12 [==============================] - 0s 4ms/step - loss: 0.2735 - accuracy: 0.9750 - val_loss: 0.3313 - val_accuracy: 0.9000\n",
      "Epoch 24/100\n",
      "12/12 [==============================] - 0s 3ms/step - loss: 0.2597 - accuracy: 0.9667 - val_loss: 0.3071 - val_accuracy: 0.9333\n",
      "Epoch 25/100\n",
      "12/12 [==============================] - 0s 5ms/step - loss: 0.2486 - accuracy: 0.9750 - val_loss: 0.2758 - val_accuracy: 0.9333\n",
      "Epoch 26/100\n",
      "12/12 [==============================] - 0s 4ms/step - loss: 0.2342 - accuracy: 0.9500 - val_loss: 0.2787 - val_accuracy: 0.9333\n",
      "Epoch 27/100\n",
      "12/12 [==============================] - 0s 3ms/step - loss: 0.2237 - accuracy: 0.9750 - val_loss: 0.2688 - val_accuracy: 0.9333\n",
      "Epoch 28/100\n",
      "12/12 [==============================] - 0s 4ms/step - loss: 0.2061 - accuracy: 0.9583 - val_loss: 0.2513 - val_accuracy: 0.9333\n",
      "Epoch 29/100\n",
      "12/12 [==============================] - 0s 3ms/step - loss: 0.1914 - accuracy: 0.9750 - val_loss: 0.2277 - val_accuracy: 0.9667\n",
      "Epoch 30/100\n",
      "12/12 [==============================] - 0s 3ms/step - loss: 0.1906 - accuracy: 0.9583 - val_loss: 0.2476 - val_accuracy: 0.9333\n",
      "Epoch 31/100\n",
      "12/12 [==============================] - 0s 3ms/step - loss: 0.1755 - accuracy: 0.9667 - val_loss: 0.2061 - val_accuracy: 0.9667\n",
      "Epoch 32/100\n",
      "12/12 [==============================] - 0s 3ms/step - loss: 0.1598 - accuracy: 0.9750 - val_loss: 0.2437 - val_accuracy: 0.9333\n",
      "Epoch 33/100\n",
      "12/12 [==============================] - 0s 4ms/step - loss: 0.1553 - accuracy: 0.9750 - val_loss: 0.1835 - val_accuracy: 0.9667\n",
      "Epoch 34/100\n",
      "12/12 [==============================] - 0s 3ms/step - loss: 0.1474 - accuracy: 0.9833 - val_loss: 0.2205 - val_accuracy: 0.9333\n",
      "Epoch 35/100\n",
      "12/12 [==============================] - 0s 3ms/step - loss: 0.1404 - accuracy: 0.9750 - val_loss: 0.1895 - val_accuracy: 0.9667\n",
      "Epoch 36/100\n",
      "12/12 [==============================] - 0s 3ms/step - loss: 0.1346 - accuracy: 0.9750 - val_loss: 0.1858 - val_accuracy: 0.9667\n",
      "Epoch 37/100\n",
      "12/12 [==============================] - 0s 2ms/step - loss: 0.1287 - accuracy: 0.9833 - val_loss: 0.1927 - val_accuracy: 0.9333\n",
      "Epoch 38/100\n",
      "12/12 [==============================] - 0s 3ms/step - loss: 0.1221 - accuracy: 0.9750 - val_loss: 0.1744 - val_accuracy: 0.9667\n",
      "Epoch 39/100\n",
      "12/12 [==============================] - 0s 3ms/step - loss: 0.1197 - accuracy: 0.9750 - val_loss: 0.1846 - val_accuracy: 0.9333\n",
      "Epoch 40/100\n",
      "12/12 [==============================] - 0s 4ms/step - loss: 0.1139 - accuracy: 0.9833 - val_loss: 0.1846 - val_accuracy: 0.9333\n",
      "Epoch 41/100\n",
      "12/12 [==============================] - 0s 3ms/step - loss: 0.1113 - accuracy: 0.9750 - val_loss: 0.1896 - val_accuracy: 0.9333\n",
      "Epoch 42/100\n",
      "12/12 [==============================] - 0s 3ms/step - loss: 0.1148 - accuracy: 0.9750 - val_loss: 0.1940 - val_accuracy: 0.9333\n",
      "Epoch 43/100\n",
      "12/12 [==============================] - 0s 3ms/step - loss: 0.1064 - accuracy: 0.9833 - val_loss: 0.1716 - val_accuracy: 0.9667\n",
      "Epoch 44/100\n",
      "12/12 [==============================] - 0s 3ms/step - loss: 0.1001 - accuracy: 0.9750 - val_loss: 0.1738 - val_accuracy: 0.9333\n",
      "Epoch 45/100\n",
      "12/12 [==============================] - 0s 3ms/step - loss: 0.1013 - accuracy: 0.9833 - val_loss: 0.1958 - val_accuracy: 0.9333\n",
      "Epoch 46/100\n",
      "12/12 [==============================] - 0s 4ms/step - loss: 0.1071 - accuracy: 0.9583 - val_loss: 0.1581 - val_accuracy: 0.9667\n",
      "Epoch 47/100\n",
      "12/12 [==============================] - 0s 3ms/step - loss: 0.1009 - accuracy: 0.9583 - val_loss: 0.1762 - val_accuracy: 0.9333\n",
      "Epoch 48/100\n",
      "12/12 [==============================] - 0s 3ms/step - loss: 0.0941 - accuracy: 0.9750 - val_loss: 0.1755 - val_accuracy: 0.9333\n",
      "Epoch 49/100\n",
      "12/12 [==============================] - 0s 3ms/step - loss: 0.0926 - accuracy: 0.9667 - val_loss: 0.1706 - val_accuracy: 0.9333\n",
      "Epoch 50/100\n",
      "12/12 [==============================] - 0s 3ms/step - loss: 0.0849 - accuracy: 0.9750 - val_loss: 0.1856 - val_accuracy: 0.9333\n",
      "Epoch 51/100\n",
      "12/12 [==============================] - 0s 4ms/step - loss: 0.0820 - accuracy: 0.9750 - val_loss: 0.1565 - val_accuracy: 0.9667\n",
      "Epoch 52/100\n",
      "12/12 [==============================] - 0s 3ms/step - loss: 0.0835 - accuracy: 0.9833 - val_loss: 0.1731 - val_accuracy: 0.9333\n",
      "Epoch 53/100\n",
      "12/12 [==============================] - 0s 3ms/step - loss: 0.0876 - accuracy: 0.9750 - val_loss: 0.1553 - val_accuracy: 0.9667\n",
      "Epoch 54/100\n",
      "12/12 [==============================] - 0s 3ms/step - loss: 0.0784 - accuracy: 0.9833 - val_loss: 0.1827 - val_accuracy: 0.9333\n",
      "Epoch 55/100\n",
      "12/12 [==============================] - 0s 3ms/step - loss: 0.0776 - accuracy: 0.9833 - val_loss: 0.1708 - val_accuracy: 0.9333\n",
      "Epoch 56/100\n",
      "12/12 [==============================] - 0s 4ms/step - loss: 0.0747 - accuracy: 0.9833 - val_loss: 0.1685 - val_accuracy: 0.9333\n",
      "Epoch 57/100\n",
      "12/12 [==============================] - 0s 3ms/step - loss: 0.0761 - accuracy: 0.9833 - val_loss: 0.1919 - val_accuracy: 0.9333\n",
      "Epoch 58/100\n",
      "12/12 [==============================] - 0s 3ms/step - loss: 0.0742 - accuracy: 0.9833 - val_loss: 0.1548 - val_accuracy: 0.9667\n",
      "Epoch 59/100\n",
      "12/12 [==============================] - 0s 3ms/step - loss: 0.0716 - accuracy: 0.9833 - val_loss: 0.1678 - val_accuracy: 0.9333\n",
      "Epoch 60/100\n",
      "12/12 [==============================] - 0s 4ms/step - loss: 0.0707 - accuracy: 0.9833 - val_loss: 0.1682 - val_accuracy: 0.9333\n",
      "Epoch 61/100\n",
      "12/12 [==============================] - 0s 4ms/step - loss: 0.0737 - accuracy: 0.9833 - val_loss: 0.1614 - val_accuracy: 0.9333\n",
      "Epoch 62/100\n",
      "12/12 [==============================] - 0s 3ms/step - loss: 0.0680 - accuracy: 0.9833 - val_loss: 0.1749 - val_accuracy: 0.9333\n",
      "Epoch 63/100\n",
      "12/12 [==============================] - 0s 3ms/step - loss: 0.0688 - accuracy: 0.9833 - val_loss: 0.1707 - val_accuracy: 0.9333\n",
      "Epoch 64/100\n",
      "12/12 [==============================] - 0s 12ms/step - loss: 0.0646 - accuracy: 0.9833 - val_loss: 0.1676 - val_accuracy: 0.9333\n",
      "Epoch 65/100\n",
      "12/12 [==============================] - 0s 5ms/step - loss: 0.0640 - accuracy: 0.9833 - val_loss: 0.1820 - val_accuracy: 0.9333\n",
      "Epoch 66/100\n",
      "12/12 [==============================] - 0s 4ms/step - loss: 0.0640 - accuracy: 0.9833 - val_loss: 0.1566 - val_accuracy: 0.9667\n",
      "Epoch 67/100\n",
      "12/12 [==============================] - 0s 5ms/step - loss: 0.0690 - accuracy: 0.9833 - val_loss: 0.1869 - val_accuracy: 0.9333\n",
      "Epoch 68/100\n",
      "12/12 [==============================] - 0s 4ms/step - loss: 0.0640 - accuracy: 0.9917 - val_loss: 0.1737 - val_accuracy: 0.9333\n"
     ]
    }
   ],
   "source": [
    "# ------------ 나누기  == M.L\n",
    "history = model.fit(X_train, y_train, validation_data=(X_val, y_val), batch_size=10, epochs=100 ,shuffle=True,\n",
    "          callbacks=[stopping,checkpoint]\n",
    "          )\n",
    "# model.fit(X, y, validation_split=0.2, validation_data=(X_val,y_val), batch_size=10, epochs=100 )   #callbacks"
   ]
  },
  {
   "cell_type": "code",
   "execution_count": null,
   "id": "1b8b1948-52d8-4bf0-8d02-4cb992338634",
   "metadata": {},
   "outputs": [],
   "source": []
  },
  {
   "cell_type": "code",
   "execution_count": null,
   "id": "f1f0fda2-f78e-4e48-a99d-aab14a50b42d",
   "metadata": {},
   "outputs": [],
   "source": []
  },
  {
   "cell_type": "code",
   "execution_count": null,
   "id": "fe3e1fe0-eac8-44a6-887d-d0cecd747e07",
   "metadata": {},
   "outputs": [],
   "source": []
  }
 ],
 "metadata": {
  "kernelspec": {
   "display_name": "Python 3 (ipykernel)",
   "language": "python",
   "name": "python3"
  },
  "language_info": {
   "codemirror_mode": {
    "name": "ipython",
    "version": 3
   },
   "file_extension": ".py",
   "mimetype": "text/x-python",
   "name": "python",
   "nbconvert_exporter": "python",
   "pygments_lexer": "ipython3",
   "version": "3.8.8"
  }
 },
 "nbformat": 4,
 "nbformat_minor": 5
}
