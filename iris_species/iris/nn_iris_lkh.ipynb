{
 "cells": [
  {
   "cell_type": "markdown",
   "id": "11ec27a2-d70d-4a28-9a3f-2dca71ef2add",
   "metadata": {},
   "source": [
    "<img src=\"logo.png\">"
   ]
  },
  {
   "cell_type": "markdown",
   "id": "65b3c362-7226-4d52-9620-582d9a9df2a2",
   "metadata": {},
   "source": [
    "<img src=\"logo2.png\">"
   ]
  },
  {
   "cell_type": "code",
   "execution_count": 1,
   "id": "7e3cdf96-2278-4e85-9928-8dc3546ab010",
   "metadata": {
    "tags": []
   },
   "outputs": [],
   "source": [
    "import pandas as pd\n",
    "import numpy as np\n",
    "import matplotlib.pyplot as plt\n",
    "import seaborn as sns\n",
    "import warnings\n",
    "warnings.filterwarnings(action='ignore')\n",
    "from sklearn.model_selection import train_test_split\n",
    "\n",
    "# --------------------------------- NN ---------------------------\n",
    "from keras.models import Sequential\n",
    "from keras.layers import Dense\n",
    "import tensorflow as tf\n",
    "\n",
    "from keras.callbacks import EarlyStopping\n",
    "from keras.callbacks import ModelCheckpoint\n",
    "\n",
    "sns.set()"
   ]
  },
  {
   "cell_type": "code",
   "execution_count": 2,
   "id": "4586e89a-5b82-4bbe-8066-587034562e63",
   "metadata": {},
   "outputs": [],
   "source": [
    "df = pd.read_csv(\"iris_lkh.csv\")"
   ]
  },
  {
   "cell_type": "code",
   "execution_count": 3,
   "id": "da9ef27d-3ad9-4d80-9e3d-41f3a166d6cc",
   "metadata": {},
   "outputs": [
    {
     "name": "stdout",
     "output_type": "stream",
     "text": [
      "(150, 5)\n"
     ]
    },
    {
     "data": {
      "text/html": [
       "<div>\n",
       "<style scoped>\n",
       "    .dataframe tbody tr th:only-of-type {\n",
       "        vertical-align: middle;\n",
       "    }\n",
       "\n",
       "    .dataframe tbody tr th {\n",
       "        vertical-align: top;\n",
       "    }\n",
       "\n",
       "    .dataframe thead th {\n",
       "        text-align: right;\n",
       "    }\n",
       "</style>\n",
       "<table border=\"1\" class=\"dataframe\">\n",
       "  <thead>\n",
       "    <tr style=\"text-align: right;\">\n",
       "      <th></th>\n",
       "      <th>sepal_length</th>\n",
       "      <th>sepal_width</th>\n",
       "      <th>petal_length</th>\n",
       "      <th>petal_width</th>\n",
       "      <th>target</th>\n",
       "    </tr>\n",
       "  </thead>\n",
       "  <tbody>\n",
       "    <tr>\n",
       "      <th>0</th>\n",
       "      <td>5.1</td>\n",
       "      <td>3.5</td>\n",
       "      <td>1.4</td>\n",
       "      <td>0.2</td>\n",
       "      <td>0</td>\n",
       "    </tr>\n",
       "    <tr>\n",
       "      <th>1</th>\n",
       "      <td>4.9</td>\n",
       "      <td>3.0</td>\n",
       "      <td>1.4</td>\n",
       "      <td>0.2</td>\n",
       "      <td>0</td>\n",
       "    </tr>\n",
       "    <tr>\n",
       "      <th>2</th>\n",
       "      <td>4.7</td>\n",
       "      <td>3.2</td>\n",
       "      <td>1.3</td>\n",
       "      <td>0.2</td>\n",
       "      <td>0</td>\n",
       "    </tr>\n",
       "    <tr>\n",
       "      <th>3</th>\n",
       "      <td>4.6</td>\n",
       "      <td>3.1</td>\n",
       "      <td>1.5</td>\n",
       "      <td>0.2</td>\n",
       "      <td>0</td>\n",
       "    </tr>\n",
       "    <tr>\n",
       "      <th>4</th>\n",
       "      <td>5.0</td>\n",
       "      <td>3.6</td>\n",
       "      <td>1.4</td>\n",
       "      <td>0.2</td>\n",
       "      <td>0</td>\n",
       "    </tr>\n",
       "  </tbody>\n",
       "</table>\n",
       "</div>"
      ],
      "text/plain": [
       "   sepal_length  sepal_width  petal_length  petal_width  target\n",
       "0           5.1          3.5           1.4          0.2       0\n",
       "1           4.9          3.0           1.4          0.2       0\n",
       "2           4.7          3.2           1.3          0.2       0\n",
       "3           4.6          3.1           1.5          0.2       0\n",
       "4           5.0          3.6           1.4          0.2       0"
      ]
     },
     "execution_count": 3,
     "metadata": {},
     "output_type": "execute_result"
    }
   ],
   "source": [
    "print(df.shape)\n",
    "df.head()"
   ]
  },
  {
   "cell_type": "markdown",
   "id": "f0346758-4468-4e25-9252-adf012ae056a",
   "metadata": {
    "tags": []
   },
   "source": [
    "### NN 모델 구축 시 반드 시 확인해야 할 사항"
   ]
  },
  {
   "cell_type": "markdown",
   "id": "87e305ff-b8a7-47b9-aa2e-4872412b9789",
   "metadata": {},
   "source": [
    "##### 모델 입력갯수 == 피쳐갯수 \n",
    "* input_dim=4*  == df.shape (500, 4*)\n",
    "* model.add(Dense(units=16, activation='relu',  input_dim=4  )) \n"
   ]
  },
  {
   "cell_type": "markdown",
   "id": "b917d1d6-1ceb-492a-a40d-55b45757e944",
   "metadata": {},
   "source": [
    "#### 모델 출력 갯수\n",
    "*  중요중요중요 :: 모델 마지막 unit 수와 일치해야 한다.\n",
    "* model.add(Dense(units=1,  activation='sigmoid'))\n",
    "* model.add(Dense(units=3,  activation='softmax'))"
   ]
  },
  {
   "cell_type": "code",
   "execution_count": 4,
   "id": "136f2e1c-eae2-4de6-aa2c-a3918b907145",
   "metadata": {},
   "outputs": [
    {
     "name": "stdout",
     "output_type": "stream",
     "text": [
      "0    50\n",
      "1    50\n",
      "2    50\n",
      "Name: target, dtype: int64\n",
      "[0 1 2]\n"
     ]
    }
   ],
   "source": [
    "print(df['target'].value_counts())\n",
    "print(df['target'].unique())"
   ]
  },
  {
   "cell_type": "code",
   "execution_count": 5,
   "id": "cdfc3e29-59d8-4d2a-87fe-ec0375ae19c9",
   "metadata": {},
   "outputs": [
    {
     "name": "stdout",
     "output_type": "stream",
     "text": [
      "<class 'pandas.core.frame.DataFrame'>\n",
      "RangeIndex: 150 entries, 0 to 149\n",
      "Data columns (total 5 columns):\n",
      " #   Column        Non-Null Count  Dtype  \n",
      "---  ------        --------------  -----  \n",
      " 0   sepal_length  150 non-null    float64\n",
      " 1   sepal_width   150 non-null    float64\n",
      " 2   petal_length  150 non-null    float64\n",
      " 3   petal_width   150 non-null    float64\n",
      " 4   target        150 non-null    int64  \n",
      "dtypes: float64(4), int64(1)\n",
      "memory usage: 6.0 KB\n"
     ]
    }
   ],
   "source": [
    "df.info()"
   ]
  },
  {
   "cell_type": "markdown",
   "id": "a3e8f40a-4145-474c-a92d-726304f227ff",
   "metadata": {
    "tags": []
   },
   "source": [
    "## NN"
   ]
  },
  {
   "cell_type": "markdown",
   "id": "e0f7e68d-bec8-49c5-8489-e7b272f870b2",
   "metadata": {
    "tags": []
   },
   "source": [
    "### 랜덤시드 고정"
   ]
  },
  {
   "cell_type": "code",
   "execution_count": 6,
   "id": "17965ae4-09ad-4db8-ac37-8dd937728824",
   "metadata": {},
   "outputs": [],
   "source": [
    "np.random.seed(1234)\n",
    "tf.random.set_seed(1234)"
   ]
  },
  {
   "cell_type": "markdown",
   "id": "09b6ba07-e956-45e3-aeda-5e5954904c9e",
   "metadata": {},
   "source": [
    "### X, y (학습피쳐, 타겟) 분리 "
   ]
  },
  {
   "cell_type": "code",
   "execution_count": 7,
   "id": "ac494ee0-d908-4edc-80e3-894f1a093aad",
   "metadata": {},
   "outputs": [],
   "source": [
    "y = df['target']\n",
    "X = df.drop(['target'], axis=1)"
   ]
  },
  {
   "cell_type": "markdown",
   "id": "ca13431a-08b0-4ed9-a7f4-16728887638d",
   "metadata": {},
   "source": [
    "### 모델\n",
    "\n",
    "*        binary_crossentropy      : 2종==sigmoid    0, 1\n",
    "* sparse_categorical_crossentropy : 3종>= somtmax   0, 1, 2\n",
    "*         categorical_crossentropy : 3종>= somtmax   [[1 0 0] [0 1 0]..]\n"
   ]
  },
  {
   "cell_type": "code",
   "execution_count": 8,
   "id": "b048897e-67eb-4bc9-be26-d439ad67775c",
   "metadata": {},
   "outputs": [],
   "source": [
    "# model = DecesionTree()  ------  M.L XXXXX\n",
    "#----------------------------------------\n",
    "model = Sequential()\n",
    "model.add(Dense(units=16, activation='relu',  input_dim=4  ))  #input_dim == shape피쳐갯수  (506, 9)\n",
    "model.add(Dense(units=8,  activation='relu'))\n",
    "model.add(Dense(units=8,  activation='relu'))\n",
    "model.add(Dense(units=3,  activation='softmax'))\n",
    "                          #adam = momentom + adaboost\n",
    "model.compile(loss='sparse_categorical_crossentropy',  optimizer='adam'  ,  metrics=['accuracy'])  #l.o.m\n",
    "#----------------------------------------\n"
   ]
  },
  {
   "cell_type": "markdown",
   "id": "f42aab14-730f-49c2-a602-7c8d5348f5df",
   "metadata": {},
   "source": [
    "### 8:2 데이터 나누기 +  학습(fit)\n",
    "* initial_epoch = 0,\n",
    "* steps_per_epoch = None,\n",
    "* validation_steps = None,\n",
    "* validation_batch_size = None,"
   ]
  },
  {
   "cell_type": "code",
   "execution_count": 9,
   "id": "666d22de-43d7-42ae-a824-f8c019c66771",
   "metadata": {},
   "outputs": [],
   "source": [
    "X_train, X_val, y_train, y_val = train_test_split(X, y, test_size=0.2)"
   ]
  },
  {
   "cell_type": "markdown",
   "id": "7532f74f-e76c-4e46-91af-d11b07c45a23",
   "metadata": {},
   "source": [
    "### callback  (EarlyStopping, CheckPoint)\n",
    "* EarlyStopping : 오버피팅 시 학습 중단\n",
    "* CheckPoint : epoch 수행 후 점수가 좋아지면 해당 모델을 저장"
   ]
  },
  {
   "cell_type": "code",
   "execution_count": 10,
   "id": "a2ef8379-2db9-4024-b13d-33b9b865c237",
   "metadata": {},
   "outputs": [
    {
     "name": "stdout",
     "output_type": "stream",
     "text": [
      "path ok~!!!!\n",
      "WARNING:tensorflow:`period` argument is deprecated. Please use `save_freq` to specify the frequency in number of batches seen.\n"
     ]
    }
   ],
   "source": [
    "stopping = EarlyStopping(monitor='val_loss',patience=10)\n",
    "\n",
    "# os.path\n",
    "\n",
    "import os\n",
    "\n",
    "model_dir = './save_models/'\n",
    "if not os.path.exists(model_dir):\n",
    "    os.mkdir(model_dir)\n",
    "    print(\"path error~!!!!\")\n",
    "else:\n",
    "    print(\"path ok~!!!!\")\n",
    "    \n",
    "    \n",
    "model_path = \"./save_models/{epoch:03d}_{val_loss:.4f}.h5\"\n",
    "checkpoint = ModelCheckpoint(model_path, monitor='val_loss', save_weights_only=True, save_best_only=True, period=1)"
   ]
  },
  {
   "cell_type": "markdown",
   "id": "c4a3157a-cd79-4af4-92d8-40b98653a33b",
   "metadata": {},
   "source": [
    "### 학습 시작"
   ]
  },
  {
   "cell_type": "code",
   "execution_count": 11,
   "id": "6aad7d16-73e5-408d-922c-359bb75632f0",
   "metadata": {},
   "outputs": [
    {
     "name": "stdout",
     "output_type": "stream",
     "text": [
      "Epoch 1/100\n",
      "12/12 [==============================] - 1s 15ms/step - loss: 1.2962 - accuracy: 0.3417 - val_loss: 1.3128 - val_accuracy: 0.3000\n",
      "Epoch 2/100\n",
      "12/12 [==============================] - 0s 3ms/step - loss: 1.1020 - accuracy: 0.3417 - val_loss: 1.1567 - val_accuracy: 0.3000\n",
      "Epoch 3/100\n",
      "12/12 [==============================] - 0s 3ms/step - loss: 1.0014 - accuracy: 0.3417 - val_loss: 1.0670 - val_accuracy: 0.3000\n",
      "Epoch 4/100\n",
      "12/12 [==============================] - 0s 2ms/step - loss: 0.9427 - accuracy: 0.4917 - val_loss: 1.0019 - val_accuracy: 0.5667\n",
      "Epoch 5/100\n",
      "12/12 [==============================] - 0s 2ms/step - loss: 0.8960 - accuracy: 0.6917 - val_loss: 0.9450 - val_accuracy: 0.5667\n",
      "Epoch 6/100\n",
      "12/12 [==============================] - 0s 3ms/step - loss: 0.8484 - accuracy: 0.6917 - val_loss: 0.8884 - val_accuracy: 0.5667\n",
      "Epoch 7/100\n",
      "12/12 [==============================] - 0s 3ms/step - loss: 0.7971 - accuracy: 0.6917 - val_loss: 0.8302 - val_accuracy: 0.5667\n",
      "Epoch 8/100\n",
      "12/12 [==============================] - 0s 2ms/step - loss: 0.7471 - accuracy: 0.6917 - val_loss: 0.7770 - val_accuracy: 0.5667\n",
      "Epoch 9/100\n",
      "12/12 [==============================] - 0s 2ms/step - loss: 0.7029 - accuracy: 0.6917 - val_loss: 0.7266 - val_accuracy: 0.5667\n",
      "Epoch 10/100\n",
      "12/12 [==============================] - 0s 2ms/step - loss: 0.6572 - accuracy: 0.7000 - val_loss: 0.6809 - val_accuracy: 0.5667\n",
      "Epoch 11/100\n",
      "12/12 [==============================] - 0s 3ms/step - loss: 0.6153 - accuracy: 0.7250 - val_loss: 0.6348 - val_accuracy: 0.6000\n",
      "Epoch 12/100\n",
      "12/12 [==============================] - 0s 2ms/step - loss: 0.5676 - accuracy: 0.7417 - val_loss: 0.5898 - val_accuracy: 0.6000\n",
      "Epoch 13/100\n",
      "12/12 [==============================] - 0s 2ms/step - loss: 0.5287 - accuracy: 0.7417 - val_loss: 0.5547 - val_accuracy: 0.6000\n",
      "Epoch 14/100\n",
      "12/12 [==============================] - 0s 2ms/step - loss: 0.4982 - accuracy: 0.7833 - val_loss: 0.5186 - val_accuracy: 0.8333\n",
      "Epoch 15/100\n",
      "12/12 [==============================] - 0s 2ms/step - loss: 0.4733 - accuracy: 0.8250 - val_loss: 0.4927 - val_accuracy: 0.8333\n",
      "Epoch 16/100\n",
      "12/12 [==============================] - 0s 2ms/step - loss: 0.4497 - accuracy: 0.8333 - val_loss: 0.4736 - val_accuracy: 0.8000\n",
      "Epoch 17/100\n",
      "12/12 [==============================] - 0s 2ms/step - loss: 0.4270 - accuracy: 0.8500 - val_loss: 0.4383 - val_accuracy: 0.9667\n",
      "Epoch 18/100\n",
      "12/12 [==============================] - 0s 2ms/step - loss: 0.4084 - accuracy: 0.9500 - val_loss: 0.4081 - val_accuracy: 1.0000\n",
      "Epoch 19/100\n",
      "12/12 [==============================] - 0s 2ms/step - loss: 0.3874 - accuracy: 0.9333 - val_loss: 0.3883 - val_accuracy: 1.0000\n",
      "Epoch 20/100\n",
      "12/12 [==============================] - 0s 2ms/step - loss: 0.3688 - accuracy: 0.9417 - val_loss: 0.3742 - val_accuracy: 1.0000\n",
      "Epoch 21/100\n",
      "12/12 [==============================] - 0s 2ms/step - loss: 0.3528 - accuracy: 0.9417 - val_loss: 0.3592 - val_accuracy: 0.9667\n",
      "Epoch 22/100\n",
      "12/12 [==============================] - 0s 2ms/step - loss: 0.3423 - accuracy: 0.9583 - val_loss: 0.3246 - val_accuracy: 1.0000\n",
      "Epoch 23/100\n",
      "12/12 [==============================] - 0s 2ms/step - loss: 0.3206 - accuracy: 0.9667 - val_loss: 0.3234 - val_accuracy: 1.0000\n",
      "Epoch 24/100\n",
      "12/12 [==============================] - 0s 2ms/step - loss: 0.3211 - accuracy: 0.9417 - val_loss: 0.2897 - val_accuracy: 1.0000\n",
      "Epoch 25/100\n",
      "12/12 [==============================] - 0s 2ms/step - loss: 0.2985 - accuracy: 0.9500 - val_loss: 0.2746 - val_accuracy: 1.0000\n",
      "Epoch 26/100\n",
      "12/12 [==============================] - 0s 2ms/step - loss: 0.2824 - accuracy: 0.9750 - val_loss: 0.2544 - val_accuracy: 1.0000\n",
      "Epoch 27/100\n",
      "12/12 [==============================] - 0s 2ms/step - loss: 0.2663 - accuracy: 0.9750 - val_loss: 0.2511 - val_accuracy: 1.0000\n",
      "Epoch 28/100\n",
      "12/12 [==============================] - 0s 2ms/step - loss: 0.2560 - accuracy: 0.9500 - val_loss: 0.2274 - val_accuracy: 1.0000\n",
      "Epoch 29/100\n",
      "12/12 [==============================] - 0s 2ms/step - loss: 0.2501 - accuracy: 0.9667 - val_loss: 0.2159 - val_accuracy: 1.0000\n",
      "Epoch 30/100\n",
      "12/12 [==============================] - 0s 2ms/step - loss: 0.2322 - accuracy: 0.9750 - val_loss: 0.1959 - val_accuracy: 1.0000\n",
      "Epoch 31/100\n",
      "12/12 [==============================] - 0s 3ms/step - loss: 0.2223 - accuracy: 0.9750 - val_loss: 0.1853 - val_accuracy: 1.0000\n",
      "Epoch 32/100\n",
      "12/12 [==============================] - 0s 3ms/step - loss: 0.2216 - accuracy: 0.9667 - val_loss: 0.1699 - val_accuracy: 1.0000\n",
      "Epoch 33/100\n",
      "12/12 [==============================] - 0s 2ms/step - loss: 0.2038 - accuracy: 0.9667 - val_loss: 0.1648 - val_accuracy: 1.0000\n",
      "Epoch 34/100\n",
      "12/12 [==============================] - 0s 2ms/step - loss: 0.1960 - accuracy: 0.9750 - val_loss: 0.1453 - val_accuracy: 1.0000\n",
      "Epoch 35/100\n",
      "12/12 [==============================] - 0s 2ms/step - loss: 0.1878 - accuracy: 0.9750 - val_loss: 0.1436 - val_accuracy: 1.0000\n",
      "Epoch 36/100\n",
      "12/12 [==============================] - 0s 2ms/step - loss: 0.1813 - accuracy: 0.9667 - val_loss: 0.1262 - val_accuracy: 1.0000\n",
      "Epoch 37/100\n",
      "12/12 [==============================] - 0s 3ms/step - loss: 0.1822 - accuracy: 0.9583 - val_loss: 0.1160 - val_accuracy: 1.0000\n",
      "Epoch 38/100\n",
      "12/12 [==============================] - 0s 3ms/step - loss: 0.1660 - accuracy: 0.9750 - val_loss: 0.1204 - val_accuracy: 1.0000\n",
      "Epoch 39/100\n",
      "12/12 [==============================] - 0s 2ms/step - loss: 0.1657 - accuracy: 0.9583 - val_loss: 0.1029 - val_accuracy: 1.0000\n",
      "Epoch 40/100\n",
      "12/12 [==============================] - 0s 2ms/step - loss: 0.1646 - accuracy: 0.9750 - val_loss: 0.1011 - val_accuracy: 1.0000\n",
      "Epoch 41/100\n",
      "12/12 [==============================] - 0s 2ms/step - loss: 0.1536 - accuracy: 0.9750 - val_loss: 0.0940 - val_accuracy: 1.0000\n",
      "Epoch 42/100\n",
      "12/12 [==============================] - 0s 2ms/step - loss: 0.1489 - accuracy: 0.9667 - val_loss: 0.0862 - val_accuracy: 1.0000\n",
      "Epoch 43/100\n",
      "12/12 [==============================] - 0s 2ms/step - loss: 0.1412 - accuracy: 0.9750 - val_loss: 0.0880 - val_accuracy: 1.0000\n",
      "Epoch 44/100\n",
      "12/12 [==============================] - 0s 2ms/step - loss: 0.1433 - accuracy: 0.9667 - val_loss: 0.0790 - val_accuracy: 1.0000\n",
      "Epoch 45/100\n",
      "12/12 [==============================] - 0s 3ms/step - loss: 0.1335 - accuracy: 0.9667 - val_loss: 0.0709 - val_accuracy: 1.0000\n",
      "Epoch 46/100\n",
      "12/12 [==============================] - 0s 2ms/step - loss: 0.1352 - accuracy: 0.9500 - val_loss: 0.0813 - val_accuracy: 1.0000\n",
      "Epoch 47/100\n",
      "12/12 [==============================] - 0s 3ms/step - loss: 0.1441 - accuracy: 0.9583 - val_loss: 0.0681 - val_accuracy: 1.0000\n",
      "Epoch 48/100\n",
      "12/12 [==============================] - 0s 2ms/step - loss: 0.1341 - accuracy: 0.9667 - val_loss: 0.0629 - val_accuracy: 1.0000\n",
      "Epoch 49/100\n",
      "12/12 [==============================] - 0s 2ms/step - loss: 0.1287 - accuracy: 0.9583 - val_loss: 0.0704 - val_accuracy: 1.0000\n",
      "Epoch 50/100\n",
      "12/12 [==============================] - 0s 2ms/step - loss: 0.1232 - accuracy: 0.9750 - val_loss: 0.0574 - val_accuracy: 1.0000\n",
      "Epoch 51/100\n",
      "12/12 [==============================] - 0s 3ms/step - loss: 0.1198 - accuracy: 0.9750 - val_loss: 0.0534 - val_accuracy: 1.0000\n",
      "Epoch 52/100\n",
      "12/12 [==============================] - 0s 2ms/step - loss: 0.1177 - accuracy: 0.9750 - val_loss: 0.0567 - val_accuracy: 1.0000\n",
      "Epoch 53/100\n",
      "12/12 [==============================] - 0s 2ms/step - loss: 0.1177 - accuracy: 0.9750 - val_loss: 0.0504 - val_accuracy: 1.0000\n",
      "Epoch 54/100\n",
      "12/12 [==============================] - 0s 2ms/step - loss: 0.1131 - accuracy: 0.9667 - val_loss: 0.0473 - val_accuracy: 1.0000\n",
      "Epoch 55/100\n",
      "12/12 [==============================] - 0s 3ms/step - loss: 0.1136 - accuracy: 0.9750 - val_loss: 0.0462 - val_accuracy: 1.0000\n",
      "Epoch 56/100\n",
      "12/12 [==============================] - 0s 3ms/step - loss: 0.1136 - accuracy: 0.9667 - val_loss: 0.0458 - val_accuracy: 1.0000\n",
      "Epoch 57/100\n",
      "12/12 [==============================] - 0s 3ms/step - loss: 0.1167 - accuracy: 0.9500 - val_loss: 0.0447 - val_accuracy: 1.0000\n",
      "Epoch 58/100\n",
      "12/12 [==============================] - 0s 3ms/step - loss: 0.1183 - accuracy: 0.9750 - val_loss: 0.0413 - val_accuracy: 1.0000\n",
      "Epoch 59/100\n",
      "12/12 [==============================] - 0s 2ms/step - loss: 0.1149 - accuracy: 0.9583 - val_loss: 0.0395 - val_accuracy: 1.0000\n",
      "Epoch 60/100\n",
      "12/12 [==============================] - 0s 2ms/step - loss: 0.1042 - accuracy: 0.9750 - val_loss: 0.0384 - val_accuracy: 1.0000\n",
      "Epoch 61/100\n",
      "12/12 [==============================] - 0s 2ms/step - loss: 0.1093 - accuracy: 0.9583 - val_loss: 0.0368 - val_accuracy: 1.0000\n",
      "Epoch 62/100\n",
      "12/12 [==============================] - 0s 2ms/step - loss: 0.1027 - accuracy: 0.9667 - val_loss: 0.0391 - val_accuracy: 1.0000\n",
      "Epoch 63/100\n",
      "12/12 [==============================] - 0s 2ms/step - loss: 0.1027 - accuracy: 0.9750 - val_loss: 0.0336 - val_accuracy: 1.0000\n",
      "Epoch 64/100\n",
      "12/12 [==============================] - 0s 2ms/step - loss: 0.1058 - accuracy: 0.9750 - val_loss: 0.0393 - val_accuracy: 1.0000\n",
      "Epoch 65/100\n",
      "12/12 [==============================] - 0s 2ms/step - loss: 0.0990 - accuracy: 0.9667 - val_loss: 0.0318 - val_accuracy: 1.0000\n",
      "Epoch 66/100\n",
      "12/12 [==============================] - 0s 2ms/step - loss: 0.1095 - accuracy: 0.9750 - val_loss: 0.0392 - val_accuracy: 1.0000\n",
      "Epoch 67/100\n",
      "12/12 [==============================] - 0s 2ms/step - loss: 0.0979 - accuracy: 0.9667 - val_loss: 0.0296 - val_accuracy: 1.0000\n",
      "Epoch 68/100\n",
      "12/12 [==============================] - 0s 2ms/step - loss: 0.1013 - accuracy: 0.9583 - val_loss: 0.0426 - val_accuracy: 1.0000\n",
      "Epoch 69/100\n",
      "12/12 [==============================] - 0s 2ms/step - loss: 0.1059 - accuracy: 0.9667 - val_loss: 0.0278 - val_accuracy: 1.0000\n",
      "Epoch 70/100\n",
      "12/12 [==============================] - 0s 3ms/step - loss: 0.0963 - accuracy: 0.9500 - val_loss: 0.0275 - val_accuracy: 1.0000\n",
      "Epoch 71/100\n",
      "12/12 [==============================] - 0s 3ms/step - loss: 0.0957 - accuracy: 0.9667 - val_loss: 0.0361 - val_accuracy: 1.0000\n",
      "Epoch 72/100\n",
      "12/12 [==============================] - 0s 2ms/step - loss: 0.0955 - accuracy: 0.9750 - val_loss: 0.0267 - val_accuracy: 1.0000\n",
      "Epoch 73/100\n",
      "12/12 [==============================] - 0s 3ms/step - loss: 0.1020 - accuracy: 0.9417 - val_loss: 0.0315 - val_accuracy: 1.0000\n",
      "Epoch 74/100\n",
      "12/12 [==============================] - 0s 2ms/step - loss: 0.0980 - accuracy: 0.9667 - val_loss: 0.0244 - val_accuracy: 1.0000\n",
      "Epoch 75/100\n",
      "12/12 [==============================] - 0s 2ms/step - loss: 0.0951 - accuracy: 0.9750 - val_loss: 0.0239 - val_accuracy: 1.0000\n",
      "Epoch 76/100\n",
      "12/12 [==============================] - 0s 2ms/step - loss: 0.0907 - accuracy: 0.9583 - val_loss: 0.0271 - val_accuracy: 1.0000\n",
      "Epoch 77/100\n",
      "12/12 [==============================] - 0s 2ms/step - loss: 0.0977 - accuracy: 0.9583 - val_loss: 0.0238 - val_accuracy: 1.0000\n",
      "Epoch 78/100\n",
      "12/12 [==============================] - 0s 2ms/step - loss: 0.1052 - accuracy: 0.9417 - val_loss: 0.0239 - val_accuracy: 1.0000\n",
      "Epoch 79/100\n",
      "12/12 [==============================] - 0s 2ms/step - loss: 0.0947 - accuracy: 0.9667 - val_loss: 0.0219 - val_accuracy: 1.0000\n",
      "Epoch 80/100\n",
      "12/12 [==============================] - 0s 3ms/step - loss: 0.1046 - accuracy: 0.9417 - val_loss: 0.0225 - val_accuracy: 1.0000\n",
      "Epoch 81/100\n",
      "12/12 [==============================] - 0s 3ms/step - loss: 0.0945 - accuracy: 0.9667 - val_loss: 0.0220 - val_accuracy: 1.0000\n",
      "Epoch 82/100\n",
      "12/12 [==============================] - 0s 2ms/step - loss: 0.0940 - accuracy: 0.9583 - val_loss: 0.0207 - val_accuracy: 1.0000\n",
      "Epoch 83/100\n",
      "12/12 [==============================] - 0s 2ms/step - loss: 0.0991 - accuracy: 0.9667 - val_loss: 0.0214 - val_accuracy: 1.0000\n",
      "Epoch 84/100\n",
      "12/12 [==============================] - 0s 2ms/step - loss: 0.0935 - accuracy: 0.9417 - val_loss: 0.0199 - val_accuracy: 1.0000\n",
      "Epoch 85/100\n",
      "12/12 [==============================] - 0s 2ms/step - loss: 0.0887 - accuracy: 0.9750 - val_loss: 0.0210 - val_accuracy: 1.0000\n",
      "Epoch 86/100\n",
      "12/12 [==============================] - 0s 2ms/step - loss: 0.0877 - accuracy: 0.9667 - val_loss: 0.0191 - val_accuracy: 1.0000\n",
      "Epoch 87/100\n",
      "12/12 [==============================] - 0s 3ms/step - loss: 0.0894 - accuracy: 0.9583 - val_loss: 0.0190 - val_accuracy: 1.0000\n",
      "Epoch 88/100\n",
      "12/12 [==============================] - 0s 2ms/step - loss: 0.0843 - accuracy: 0.9750 - val_loss: 0.0193 - val_accuracy: 1.0000\n",
      "Epoch 89/100\n",
      "12/12 [==============================] - 0s 2ms/step - loss: 0.0897 - accuracy: 0.9667 - val_loss: 0.0187 - val_accuracy: 1.0000\n",
      "Epoch 90/100\n",
      "12/12 [==============================] - 0s 3ms/step - loss: 0.0854 - accuracy: 0.9667 - val_loss: 0.0178 - val_accuracy: 1.0000\n",
      "Epoch 91/100\n",
      "12/12 [==============================] - 0s 3ms/step - loss: 0.0854 - accuracy: 0.9667 - val_loss: 0.0194 - val_accuracy: 1.0000\n",
      "Epoch 92/100\n",
      "12/12 [==============================] - 0s 4ms/step - loss: 0.0902 - accuracy: 0.9583 - val_loss: 0.0189 - val_accuracy: 1.0000\n",
      "Epoch 93/100\n",
      "12/12 [==============================] - 0s 2ms/step - loss: 0.0841 - accuracy: 0.9667 - val_loss: 0.0170 - val_accuracy: 1.0000\n",
      "Epoch 94/100\n",
      "12/12 [==============================] - 0s 2ms/step - loss: 0.0891 - accuracy: 0.9667 - val_loss: 0.0166 - val_accuracy: 1.0000\n",
      "Epoch 95/100\n",
      "12/12 [==============================] - 0s 2ms/step - loss: 0.0978 - accuracy: 0.9667 - val_loss: 0.0213 - val_accuracy: 1.0000\n",
      "Epoch 96/100\n",
      "12/12 [==============================] - 0s 2ms/step - loss: 0.0883 - accuracy: 0.9667 - val_loss: 0.0194 - val_accuracy: 1.0000\n",
      "Epoch 97/100\n",
      "12/12 [==============================] - 0s 3ms/step - loss: 0.1093 - accuracy: 0.9417 - val_loss: 0.0255 - val_accuracy: 1.0000\n",
      "Epoch 98/100\n",
      "12/12 [==============================] - 0s 2ms/step - loss: 0.0946 - accuracy: 0.9583 - val_loss: 0.0187 - val_accuracy: 1.0000\n",
      "Epoch 99/100\n",
      "12/12 [==============================] - 0s 3ms/step - loss: 0.0862 - accuracy: 0.9583 - val_loss: 0.0159 - val_accuracy: 1.0000\n",
      "Epoch 100/100\n",
      "12/12 [==============================] - ETA: 0s - loss: 0.0226 - accuracy: 1.00 - 0s 3ms/step - loss: 0.0836 - accuracy: 0.9750 - val_loss: 0.0153 - val_accuracy: 1.0000\n"
     ]
    }
   ],
   "source": [
    "# ------------ 나누기  == M.L\n",
    "history = model.fit(X_train, y_train, validation_data=(X_val, y_val), batch_size=10, epochs=100 ,shuffle=True,\n",
    "          callbacks=[stopping,checkpoint]\n",
    "          )\n",
    "# model.fit(X, y, validation_split=0.2, validation_data=(X_val,y_val), batch_size=10, epochs=100 )   #callbacks"
   ]
  },
  {
   "cell_type": "code",
   "execution_count": null,
   "id": "1b8b1948-52d8-4bf0-8d02-4cb992338634",
   "metadata": {},
   "outputs": [],
   "source": []
  },
  {
   "cell_type": "code",
   "execution_count": null,
   "id": "f1f0fda2-f78e-4e48-a99d-aab14a50b42d",
   "metadata": {},
   "outputs": [],
   "source": []
  },
  {
   "cell_type": "code",
   "execution_count": null,
   "id": "fe3e1fe0-eac8-44a6-887d-d0cecd747e07",
   "metadata": {},
   "outputs": [],
   "source": []
  }
 ],
 "metadata": {
  "kernelspec": {
   "display_name": "Python 3 (ipykernel)",
   "language": "python",
   "name": "python3"
  },
  "language_info": {
   "codemirror_mode": {
    "name": "ipython",
    "version": 3
   },
   "file_extension": ".py",
   "mimetype": "text/x-python",
   "name": "python",
   "nbconvert_exporter": "python",
   "pygments_lexer": "ipython3",
   "version": "3.8.8"
  }
 },
 "nbformat": 4,
 "nbformat_minor": 5
}
