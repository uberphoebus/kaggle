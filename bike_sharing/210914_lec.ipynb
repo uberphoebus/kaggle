{
 "cells": [
  {
   "cell_type": "markdown",
   "source": [
    "# imports"
   ],
   "metadata": {
    "id": "A5rTauQV9HY1"
   }
  },
  {
   "cell_type": "code",
   "execution_count": 1,
   "source": [
    "import pandas as pd\r\n",
    "import numpy as np\r\n",
    "import matplotlib.pyplot as plt\r\n",
    "import seaborn as sns; sns.set()\r\n",
    "import warnings; warnings.filterwarnings(action='ignore')\r\n",
    "# --------------------------------------------------\r\n",
    "\r\n",
    "# --------------------------------------------------\r\n",
    "# load datasets\r\n",
    "from sklearn import datasets\r\n",
    "\r\n",
    "# imblearn.sampling\r\n",
    "from imblearn.over_sampling import SMOTE\r\n",
    "from imblearn.under_sampling import NearMiss\r\n",
    "\r\n",
    "# preprocessing.encoding\r\n",
    "from sklearn.preprocessing import LabelEncoder, OneHotEncoder, OrdinalEncoder # pd.get_dummies\r\n",
    "# preprocessing.scaling\r\n",
    "from sklearn.preprocessing import MinMaxScaler, StandardScaler, RobustScaler\r\n",
    "# preprocessing.binarizing\r\n",
    "from sklearn.preprocessing import Binarizer\r\n",
    "\r\n",
    "# decomposition.PCA\r\n",
    "from sklearn.decomposition import PCA\r\n",
    "# stats : R module\r\n",
    "from scipy.stats import skew, kurtosis\r\n",
    "\r\n",
    "# estimators ---------------------------------------\r\n",
    "# estimators.classifier\r\n",
    "from sklearn.tree import DecisionTreeClassifier\r\n",
    "from sklearn.linear_model import LogisticRegression # classifier\r\n",
    "from sklearn.linear_model import RidgeClassifier, RidgeClassifierCV # regressor 응용\r\n",
    "# estimators.regressor\r\n",
    "from sklearn.tree import DecisionTreeRegressor\r\n",
    "from sklearn.linear_model import LinearRegression\r\n",
    "from sklearn.linear_model import Ridge, RidgeCV\r\n",
    "from sklearn.linear_model import Lasso, LassoCV\r\n",
    "from sklearn.linear_model import ElasticNet, ElasticNetCV\r\n",
    "# --------------------------------------------------\r\n",
    "\r\n",
    "# ensemble -----------------------------------------\r\n",
    "# ensemble.bagging\r\n",
    "from sklearn.ensemble import BaggingClassifier, BaggingRegressor\r\n",
    "from sklearn.ensemble import RandomForestClassifier, RandomForestRegressor\r\n",
    "# ensemble.boosting\r\n",
    "from sklearn.ensemble import GradientBoostingClassifier, GradientBoostingRegressor\r\n",
    "from xgboost import XGBClassifier, XGBRegressor\r\n",
    "from lightgbm import LGBMClassifier, LGBMRegressor\r\n",
    "from catboost import CatBoostClassifier, CatBoostRegressor\r\n",
    "# ensemble.boosting & bagging\r\n",
    "from xgboost import XGBRFClassifier, XGBRFRegressor\r\n",
    "# ensemble.voting\r\n",
    "from sklearn.ensemble import VotingClassifier, VotingRegressor\r\n",
    "# --------------------------------------------------\r\n",
    "\r\n",
    "# metrics ------------------------------------------\r\n",
    "# metrics.scores\r\n",
    "from sklearn.metrics import accuracy_score, precision_score, recall_score\r\n",
    "from sklearn.metrics import f1_score, roc_auc_score\r\n",
    "from sklearn.metrics import log_loss\r\n",
    "# metrics.reports\r\n",
    "from sklearn.metrics import confusion_matrix, plot_confusion_matrix\r\n",
    "from sklearn.metrics import classification_report, ConfusionMatrixDisplay\r\n",
    "# metrics.errors\r\n",
    "from sklearn.metrics import mean_squared_error     # 'neg_mean_squared_error', 'neg_root_mean_squared_error'\r\n",
    "from sklearn.metrics import mean_squared_log_error # 'neg_mean_squared_log_error'\r\n",
    "from sklearn.metrics import mean_absolute_error    # 'neg_mean_absolute_error'\r\n",
    "# metrics.curves\r\n",
    "from sklearn.metrics import precision_recall_curve, plot_precision_recall_curve\r\n",
    "from sklearn.metrics import roc_curve, plot_roc_curve\r\n",
    "# --------------------------------------------------\r\n",
    "\r\n",
    "# model_selection ----------------------------------\r\n",
    "# model_selection.splitter\r\n",
    "from sklearn.model_selection import train_test_split       # function\r\n",
    "# model_selection.model_validation\r\n",
    "from sklearn.model_selection import KFold, StratifiedKFold\r\n",
    "from sklearn.model_selection import cross_val_score, cross_validate\r\n",
    "# model_selection.hyper_parameter_optimizer\r\n",
    "from sklearn.model_selection import GridSearchCV\r\n",
    "# --------------------------------------------------\r\n",
    "\r\n",
    "\r\n",
    "# --------------------------------------------------\r\n",
    "def check_nan(df):\r\n",
    "    nan = df.isna().sum()[df.isna().sum() != 0]\r\n",
    "    nan_cols = list(nan.index)\r\n",
    "    nan_cnt  = df[nan_cols].isna().sum()\r\n",
    "    rate = round(nan_cnt / df.shape[0] * 100, 2)\r\n",
    "    nan_df = pd.DataFrame({'NAN_CNT':nan_cnt, 'RATE':rate})\r\n",
    "    \r\n",
    "    print(nan_df)\r\n",
    "    print('-' * 30)\r\n",
    "    print('nan_cols count =', len(nan_cols))\r\n",
    "    print(nan_cols)\r\n",
    " \r\n",
    "    for col in nan_cols:\r\n",
    "        print('-' * 30)\r\n",
    "        print(df[col].value_counts())\r\n",
    "        print('value_counts =', df[col].count(), '/ nan_counts =', df[col].isna().sum())\r\n",
    "    \r\n",
    "    return nan_cols\r\n",
    "# nan_cols = check_nan(df)\r\n",
    "# --------------------------------------------------\r\n",
    "\r\n",
    "# --------------------------------------------------\r\n",
    "def check_outliers(X_train, features, rate=1.5):\r\n",
    "    \r\n",
    "    dict = {}\r\n",
    "    \r\n",
    "    for col in features:\r\n",
    "        \r\n",
    "        Q1 = np.percentile(X_train[col], 25) \r\n",
    "        Q3 = np.percentile(X_train[col], 75) \r\n",
    "        IQR = Q3 - Q1\r\n",
    "        \r\n",
    "        min = Q1 - (rate * IQR)\r\n",
    "        max = Q3 + (rate * IQR)\r\n",
    "        \r\n",
    "        idxs = X_train[(X_train[col] < min) | (X_train[col] > max)].index\r\n",
    "        \r\n",
    "        dict[col] = idxs\r\n",
    "        \r\n",
    "    return dict\r\n",
    "# check_outliers(X_train, 'Insulin')\r\n",
    "# --------------------------------------------------\r\n",
    "\r\n",
    "# --------------------------------------------------\r\n",
    "def check_object(df):\r\n",
    "    object_cols = list(df.dtypes[df.dtypes == 'object'].index)\r\n",
    "    print('object_cols count =', len(object_cols))\r\n",
    "    for col in object_cols:\r\n",
    "        print('-' * 30)\r\n",
    "        print(df[col].value_counts())\r\n",
    "    return object_cols\r\n",
    "# object_cols = encode(df)\r\n",
    "# --------------------------------------------------\r\n",
    "\r\n",
    "# --------------------------------------------------\r\n",
    "def mapping(df, col, dict):\r\n",
    "    dict = {}\r\n",
    "    \r\n",
    "    for i in range(len(df[col].value_counts().index)):\r\n",
    "        dict[df[col].value_counts().index[i]] = i\r\n",
    "    \r\n",
    "    df['e_' + col] = df[col].map(dict)\r\n",
    "    return df['e_' + col].value_counts()\r\n",
    "# mapping(df, 'gender')\r\n",
    "# --------------------------------------------------\r\n",
    "\r\n",
    "# --------------------------------------------------\r\n",
    "def scores(y_test, y_pred):\r\n",
    "    \r\n",
    "    \"\"\"evaluation scores\"\"\"\r\n",
    "    \r\n",
    "    f1        = f1_score         (y_test, y_pred, average='macro')\r\n",
    "    accuracy  = accuracy_score   (y_test, y_pred, )\r\n",
    "    precision = precision_score  (y_test, y_pred, average='macro')\r\n",
    "    recall    = recall_score     (y_test, y_pred, average='macro')\r\n",
    "    c_matrix  = confusion_matrix (y_test, y_pred, )\r\n",
    "    \r\n",
    "    print(\r\n",
    "          f'accuracy  = {accuracy:.6f},  '\r\n",
    "          f'f1 score  = {f1:.6f},  \\n'\r\n",
    "          f'precision = {precision:.6f},  '\r\n",
    "          f'recall    = {recall:.6f},')\r\n",
    "    print(c_matrix)\r\n",
    "    \r\n",
    "    # plt.figure(figsize=(12, 9))\r\n",
    "    # plt.title('confusion matrix')\r\n",
    "    # plt.xlabel('Predict')\r\n",
    "    # plt.ylabel('Actual')\r\n",
    "    # sns.heatmap(c_matrix, annot=True, linewidths=1, cmap='Blues', annot_kws={\"size\": 14})\r\n",
    "    # plt.show()\r\n",
    "# --------------------------------------------------\r\n",
    "\r\n",
    "# --------------------------------------------------\r\n",
    "def curves(y_test, probas_pred):\r\n",
    "        \r\n",
    "    FPRS, TPRS, thresholds = roc_curve(y_test, probas_pred[:, 1])\r\n",
    " \r\n",
    "    f, ax = plt.subplots(1, 2, figsize=(16, 6))\r\n",
    " \r\n",
    "    # settings\r\n",
    "    plt.subplot(121)\r\n",
    "    plt.title('ROC curve')\r\n",
    "    plt.gray()\r\n",
    "    plt.xlabel('FPR(1- specificity)')\r\n",
    "    plt.ylabel('TPR')\r\n",
    " \r\n",
    "    # x, y values\r\n",
    "    plt.plot(FPRS, TPRS, label='ROC', linestyle='solid')\r\n",
    "    plt.plot([0, 1], [0, 1], label='50%', color='gray', linestyle=':')\r\n",
    "    plt.legend()\r\n",
    " \r\n",
    "    precisions, recalls, thresholds = precision_recall_curve(y_test, probas_pred[:, 1])\r\n",
    "    f1_scores = 2 * (precisions * recalls) / (precisions + recalls)\r\n",
    " \r\n",
    "    plt.subplot(122)\r\n",
    "    plt.title('precision recall curve')\r\n",
    "    plt.gray()\r\n",
    "    plt.xlabel('threshold')\r\n",
    "    plt.ylabel('scores')\r\n",
    " \r\n",
    "    # x, y values\r\n",
    "    plt.plot(thresholds, precisions[:thresholds.shape[0]], label='precision', linestyle=':')\r\n",
    "    plt.plot(thresholds, recalls[:thresholds.shape[0]],    label='recall',    linestyle='--')\r\n",
    "    plt.plot(thresholds, f1_scores[:thresholds.shape[0]],  label='f1',        linestyle='solid')\r\n",
    "    # valid linestyle = '-', '--', '-.', ':', 'None', ' ', '', 'solid', 'dashed', 'dashdot', 'dotted'\r\n",
    "    plt.legend()\r\n",
    " \r\n",
    "    plt.show()\r\n",
    "    \r\n",
    "    print('AUC = ', roc_auc_score(y_test, probas_pred[:, 1]))\r\n",
    "# --------------------------------------------------"
   ],
   "outputs": [],
   "metadata": {
    "id": "6MlU44mI9HY4"
   }
  },
  {
   "cell_type": "markdown",
   "source": [
    "# metrics imports"
   ],
   "metadata": {
    "id": "6Ke2dIt49HY7"
   }
  },
  {
   "cell_type": "code",
   "execution_count": 2,
   "source": [
    "# # classification GridsearchCV : INPUT DF VERSION & TARGET\r\n",
    "# # ==================================================\r\n",
    "# df_met     = df00\r\n",
    "# target_met = 'target'\r\n",
    "# # ==================================================\r\n",
    "\r\n",
    "# # X, y split\r\n",
    "# train_met = df_met[df_met[target_met].notna()]\r\n",
    "# X_met = train_met.drop(target_met, axis=1)\r\n",
    "# y_met = train_met[target_met]\r\n",
    "\r\n",
    "# # models\r\n",
    "# classification_models = [RandomForestClassifier(),\r\n",
    "#                          GradientBoostingClassifier(),\r\n",
    "#                          XGBClassifier(), \r\n",
    "#                          XGBRFClassifier(), \r\n",
    "#                          LGBMClassifier(), \r\n",
    "#                          CatBoostClassifier(),\r\n",
    "#                          ]\r\n",
    "\r\n",
    "# # param_grid=\r\n",
    "# hyper_param = {'n_estimators':[100],\r\n",
    "#                'random_state':[0],\r\n",
    "#               #  'min_samples_split':[2],\r\n",
    "#               #  'min_samples_leaf':[1],\r\n",
    "#                }\r\n",
    "\r\n",
    "# # scoring=\r\n",
    "# classification_scorers = {'f1_macro':'f1_macro', 'accuracy':'accuracy',\r\n",
    "#                           'precision':'precision_macro', 'recall':'recall_macro', \r\n",
    "#                           'roc_auc_ovr':'roc_auc_ovr',}\r\n",
    "\r\n",
    "# # cv=\r\n",
    "# kf  = KFold          (n_splits=5, shuffle=True, random_state=0)\r\n",
    "# skf = StratifiedKFold(n_splits=5, shuffle=True, random_state=0)\r\n",
    "\r\n",
    "# # cv_results_ cols\r\n",
    "# classification_cols = ['mean_test_f1_macro', 'mean_test_accuracy', \r\n",
    "#                        'mean_test_precision', 'mean_test_recall', 'mean_test_roc_auc_ovr',]\r\n",
    "\r\n",
    "# # GridSearchCV loop\r\n",
    "# for model in classification_models:\r\n",
    "        \r\n",
    "#         gscv = GridSearchCV(model, param_grid=hyper_param, \r\n",
    "#                             scoring=classification_scorers, refit='f1_macro', \r\n",
    "#                             cv=skf, return_train_score=True)\r\n",
    "#         gscv.fit(X_met, y_met)\r\n",
    "#         results = gscv.cv_results_\r\n",
    "        \r\n",
    "#         print('-' * 75)\r\n",
    "#         print('estimtor        =', gscv.estimator)\r\n",
    "#         print('best_params_    =', gscv.best_params_)\r\n",
    "#         print('best_score_     =', gscv.best_score_)\r\n",
    "        \r\n",
    "#         met_df = pd.DataFrame(results)[classification_cols]\r\n",
    "#         met_df.columns = ['f1_macro', 'accuracy', 'precision', 'recall', 'auc_ovr',]\r\n",
    "#         print(met_df)"
   ],
   "outputs": [],
   "metadata": {
    "id": "nqHwcExp9HY-"
   }
  },
  {
   "cell_type": "code",
   "execution_count": 3,
   "source": [
    "# # classification cross_validate : INPUT DF VERSION & TARGET\r\n",
    "# # ==================================================\r\n",
    "# df_met     = df00\r\n",
    "# target_met = 'target'\r\n",
    "# # ==================================================\r\n",
    "\r\n",
    "# # X, y split\r\n",
    "# train_met = df_met[df_met[target_met].notna()]\r\n",
    "# X_met = train_met.drop(target_met, axis=1)\r\n",
    "# y_met = train_met[target_met]\r\n",
    "\r\n",
    "# # estimators=\r\n",
    "# classification_models = [RandomForestClassifier(random_state=0),\r\n",
    "#                          GradientBoostingClassifier(random_state=0),\r\n",
    "#                          XGBClassifier(random_state=0),\r\n",
    "#                          XGBRFClassifier(random_state=0),\r\n",
    "#                          LGBMClassifier(random_state=0),\r\n",
    "#                          CatBoostClassifier(random_state=0),\r\n",
    "#                          ]\r\n",
    "\r\n",
    "# # scorings=\r\n",
    "# classification_scorers = {'f1_macro':'f1_macro', 'accuracy':'accuracy',\r\n",
    "#                           'precision':'precision_macro', 'recall':'recall_macro', \r\n",
    "#                           'roc_auc_ovr':'roc_auc_ovr',}\r\n",
    "\r\n",
    "# # cv=\r\n",
    "# kf  = KFold          (n_splits=5, shuffle=True, random_state=0)\r\n",
    "# skf = StratifiedKFold(n_splits=5, shuffle=True, random_state=0)\r\n",
    "\r\n",
    "# # cross_validate loop\r\n",
    "# for model in classification_models:\r\n",
    "    \r\n",
    "#     cv_results = cross_validate(model, X_met, y_met,\r\n",
    "#                                 scoring=classification_scorers,\r\n",
    "#                                 cv=skf,\r\n",
    "#                                 return_train_score=True, return_estimator=True)\r\n",
    "    \r\n",
    "#     print('-' * 70)\r\n",
    "#     print('model  =', model.__class__.__name__)\r\n",
    "#     print('params =', model.get_params(deep=True))\r\n",
    "    \r\n",
    "#     # classification metrics\r\n",
    "#     print('f1_macro  = {}  '.format(cv_results['test_f1_macro'].mean()),\r\n",
    "#           'accuracy  = {}  '.format(cv_results['test_accuracy'].mean()), '\\n'\r\n",
    "#           'precision = {}  '.format(cv_results['test_precision'].mean()),\r\n",
    "#           'recall    = {}  '.format(cv_results['test_recall'].mean()), '\\n'\r\n",
    "#           'AUC_ovr   = {}  '.format(cv_results['test_roc_auc_ovr'].mean()),\r\n",
    "#           )\r\n",
    "    \r\n",
    "#     fi_list = []\r\n",
    "#     for idx, estimator in enumerate(cv_results['estimator']):\r\n",
    "#         fi = pd.DataFrame(estimator.feature_importances_, \r\n",
    "#                           index=X_met.columns, columns=['importance']).sort_values('importance', ascending=False)\r\n",
    "        \r\n",
    "#         fi_list.append(estimator.feature_importances_.tolist())\r\n",
    "#     fi_means = np.array(fi_list).mean(axis=0)\r\n",
    "#     fi_df = pd.DataFrame(fi_means, columns=['importance'], index=X_met.columns).sort_values(by='importance', ascending=False)\r\n",
    "#     fig, ax = plt.subplots(figsize=(16, 12))\r\n",
    "#     sns.set_theme(style='whitegrid')\r\n",
    "#     sns.set_color_codes('pastel')\r\n",
    "#     sns.barplot(x='importance', y_met=X_met.columns, data=fi_df)\r\n",
    "#     plt.show()"
   ],
   "outputs": [],
   "metadata": {
    "id": "Jq-w7gh89HY9"
   }
  },
  {
   "cell_type": "code",
   "execution_count": 4,
   "source": [
    "# # regression cross_validate : INPUT DF VERSION & TARGET\r\n",
    "# # ==================================================\r\n",
    "# df_met     = df00\r\n",
    "# target_met = 'count'\r\n",
    "# # ==================================================\r\n",
    "\r\n",
    "# # X, y split\r\n",
    "# train_met = df_met[df_met[target_met].notna()]\r\n",
    "# X_train_test_met = train_met.drop(target_met, axis=1)\r\n",
    "# y_train_test_met = train_met[target_met]\r\n",
    "\r\n",
    "# # estimators=\r\n",
    "# regressor_models = [\r\n",
    "#                     LinearRegression      (),\r\n",
    "#                     DecisionTreeRegressor (random_state=0),\r\n",
    "#                     Ridge                 (random_state=0),\r\n",
    "#                     Lasso                 (random_state=0),\r\n",
    "#                     ElasticNet            (random_state=0),\r\n",
    "#                     RandomForestRegressor (random_state=0),\r\n",
    "#                     XGBRegressor          (random_state=0),\r\n",
    "#                     LGBMRegressor         (random_state=0),\r\n",
    "#                     CatBoostRegressor     (random_state=0, verbose=0),\r\n",
    "#                     ]\r\n",
    "\r\n",
    "# # scorings=\r\n",
    "# regressor_scorers = {'MSE':'neg_mean_squared_error',\r\n",
    "#                      'RMSE':'neg_root_mean_squared_error',\r\n",
    "#                     #  'MSLE':'neg_mean_squared_log_error',\r\n",
    "#                     #  'MAE':'neg_mean_absolute_error',\r\n",
    "#                      }\r\n",
    "\r\n",
    "# # cv=\r\n",
    "# kf  = KFold          (n_splits=5, shuffle=True, random_state=0)\r\n",
    "# skf = StratifiedKFold(n_splits=5, shuffle=True, random_state=0)\r\n",
    "\r\n",
    "# # cross_validate loop\r\n",
    "# for model in regressor_models:\r\n",
    "    \r\n",
    "#     cv_results = cross_validate(model, X_train_test_met, y_train_test_met,\r\n",
    "#                                 scoring=regressor_scorers,\r\n",
    "#                                 cv=kf,\r\n",
    "#                                 return_train_score=True, return_estimator=True)\r\n",
    "    \r\n",
    "#     print('-' * 40)\r\n",
    "#     print('model  =', model.__class__.__name__)\r\n",
    "#     # print('params =', model.get_params(deep=True))\r\n",
    "    \r\n",
    "#     # regression metrics\r\n",
    "#     print('MSE    = {}  '.format(- cv_results['test_MSE'].mean()), '\\n'\r\n",
    "#           'RMSE   = {}  '.format(- cv_results['test_RMSE'].mean()),\r\n",
    "#         #   'MSLE   = {}  '.format(- cv_results['test_MSLE'].mean()),\r\n",
    "#         #   'MAE    = {}  '.format(- cv_results['test_MAE'].mean()),\r\n",
    "#           )"
   ],
   "outputs": [],
   "metadata": {
    "id": "xGvqBtx59HY-"
   }
  },
  {
   "cell_type": "code",
   "execution_count": 5,
   "source": [
    "# # regression GridsearchCV : INPUT DF VERSION & TARGET\r\n",
    "# # ==================================================\r\n",
    "# df_met     = df00\r\n",
    "# target_met = 'target'\r\n",
    "# # ==================================================\r\n",
    "\r\n",
    "# # X, y split\r\n",
    "# train_met = df_met[df_met[target_met].notna()]\r\n",
    "# X_met = train_met.drop(target_met, axis=1)\r\n",
    "# y_met = train_met[target_met]\r\n",
    "\r\n",
    "# # models\r\n",
    "# regressor_models = [\r\n",
    "#                     # LinearRegression(),\r\n",
    "#                     # RandomForestRegressor(),\r\n",
    "#                     Ridge(),\r\n",
    "#                     Lasso(),\r\n",
    "#                     ElasticNet(),\r\n",
    "#                     DecisionTreeRegressor(),\r\n",
    "#                     XGBRegressor(),\r\n",
    "#                     LGBMRegressor(),\r\n",
    "#                     # CatBoostRegressor(),\r\n",
    "#                     ]\r\n",
    "\r\n",
    "# # param_grid=\r\n",
    "# hyper_param = {\r\n",
    "#                'random_state':[0],\r\n",
    "#                }\r\n",
    "\r\n",
    "# # scoring=\r\n",
    "# regressor_scorers = {'MSE':'neg_mean_squared_error',\r\n",
    "#                      'RMSE':'neg_root_mean_squared_error',\r\n",
    "#                     #  'MSLE':'neg_mean_squared_log_error',\r\n",
    "#                     #  'MAE':'neg_mean_absolute_error',\r\n",
    "#                      }\r\n",
    "\r\n",
    "# # cv=\r\n",
    "# kf  = KFold          (n_splits=5, shuffle=True, random_state=0)\r\n",
    "# skf = StratifiedKFold(n_splits=5, shuffle=True, random_state=0)\r\n",
    "\r\n",
    "# # cv_results_ cols\r\n",
    "# regression_cols = ['mean_test_MSE', 'mean_test_RMSE', \r\n",
    "#                 #    'mean_test_MSLE', 'mean_test_MAE',\r\n",
    "#                    ]\r\n",
    "\r\n",
    "# # GridSearchCV loop\r\n",
    "# for model in regressor_models:\r\n",
    "        \r\n",
    "#         gscv = GridSearchCV(model, \r\n",
    "#                             param_grid=hyper_param, \r\n",
    "#                             scoring=regressor_scorers, refit='RMSE', \r\n",
    "#                             cv=kf, return_train_score=True)\r\n",
    "#         gscv.fit(X_met, y_met)\r\n",
    "#         results = gscv.cv_results_\r\n",
    "        \r\n",
    "#         print('-' * 40)\r\n",
    "#         print('estimtor        =', gscv.estimator.__class__.__name__)\r\n",
    "#         print('best_params_    =', gscv.best_params_)\r\n",
    "#         print('best_score_     =', - gscv.best_score_)\r\n",
    "        \r\n",
    "#         met_df = pd.DataFrame(results)[regression_cols]\r\n",
    "#         met_df.columns = ['MSE', 'RMSE', \r\n",
    "#                         #   'MSLE', 'MAE',\r\n",
    "#                           ]\r\n",
    "#         print(- met_df)"
   ],
   "outputs": [],
   "metadata": {
    "id": "q2Wk6--29HY-"
   }
  },
  {
   "cell_type": "markdown",
   "source": [
    "# read : bike sharing"
   ],
   "metadata": {}
  },
  {
   "cell_type": "code",
   "execution_count": 6,
   "source": [
    "# https://www.kaggle.com/c/bike-sharing-demand/overview/evaluation\r\n",
    "\r\n",
    "train = pd.read_csv('./kaggle/bike_sharing_demand/train.csv')\r\n",
    "X_sub = pd.read_csv('./kaggle/bike_sharing_demand/test.csv')\r\n",
    "y_sub = pd.read_csv('./kaggle/bike_sharing_demand/sampleSubmission.csv')\r\n",
    "\r\n",
    "train.shape, X_sub.shape, y_sub.shape"
   ],
   "outputs": [
    {
     "output_type": "execute_result",
     "data": {
      "text/plain": [
       "((10886, 12), (6493, 9), (6493, 2))"
      ]
     },
     "metadata": {},
     "execution_count": 6
    }
   ],
   "metadata": {}
  },
  {
   "cell_type": "code",
   "execution_count": 7,
   "source": [
    "df = pd.concat([train, X_sub])\r\n",
    "df.shape"
   ],
   "outputs": [
    {
     "output_type": "execute_result",
     "data": {
      "text/plain": [
       "(17379, 12)"
      ]
     },
     "metadata": {},
     "execution_count": 7
    }
   ],
   "metadata": {}
  },
  {
   "cell_type": "markdown",
   "source": [
    "# check target : casual, registered, count"
   ],
   "metadata": {}
  },
  {
   "cell_type": "code",
   "execution_count": 8,
   "source": [
    "train_cp = train.copy()\r\n",
    "train_cp.shape"
   ],
   "outputs": [
    {
     "output_type": "execute_result",
     "data": {
      "text/plain": [
       "(10886, 12)"
      ]
     },
     "metadata": {},
     "execution_count": 8
    }
   ],
   "metadata": {}
  },
  {
   "cell_type": "code",
   "execution_count": 9,
   "source": [
    "train_cp['cr'] = train_cp['casual'] + train_cp['registered']\r\n",
    "train_cp[train_cp['count'] != train_cp['cr']]"
   ],
   "outputs": [
    {
     "output_type": "execute_result",
     "data": {
      "text/html": [
       "<div>\n",
       "<style scoped>\n",
       "    .dataframe tbody tr th:only-of-type {\n",
       "        vertical-align: middle;\n",
       "    }\n",
       "\n",
       "    .dataframe tbody tr th {\n",
       "        vertical-align: top;\n",
       "    }\n",
       "\n",
       "    .dataframe thead th {\n",
       "        text-align: right;\n",
       "    }\n",
       "</style>\n",
       "<table border=\"1\" class=\"dataframe\">\n",
       "  <thead>\n",
       "    <tr style=\"text-align: right;\">\n",
       "      <th></th>\n",
       "      <th>datetime</th>\n",
       "      <th>season</th>\n",
       "      <th>holiday</th>\n",
       "      <th>workingday</th>\n",
       "      <th>weather</th>\n",
       "      <th>temp</th>\n",
       "      <th>atemp</th>\n",
       "      <th>humidity</th>\n",
       "      <th>windspeed</th>\n",
       "      <th>casual</th>\n",
       "      <th>registered</th>\n",
       "      <th>count</th>\n",
       "      <th>cr</th>\n",
       "    </tr>\n",
       "  </thead>\n",
       "  <tbody>\n",
       "  </tbody>\n",
       "</table>\n",
       "</div>"
      ],
      "text/plain": [
       "Empty DataFrame\n",
       "Columns: [datetime, season, holiday, workingday, weather, temp, atemp, humidity, windspeed, casual, registered, count, cr]\n",
       "Index: []"
      ]
     },
     "metadata": {},
     "execution_count": 9
    }
   ],
   "metadata": {}
  },
  {
   "cell_type": "markdown",
   "source": [
    "# df00"
   ],
   "metadata": {}
  },
  {
   "cell_type": "markdown",
   "source": [
    "## check object"
   ],
   "metadata": {}
  },
  {
   "cell_type": "code",
   "execution_count": 10,
   "source": [
    "import datetime as dt\r\n",
    "df['datetime'] = pd.to_datetime(df['datetime'])"
   ],
   "outputs": [],
   "metadata": {}
  },
  {
   "cell_type": "code",
   "execution_count": 11,
   "source": [
    "df['year']  = df['datetime'].dt.year\r\n",
    "df['month'] = df['datetime'].dt.month\r\n",
    "df['day']   = df['datetime'].dt.day\r\n",
    "df['hour']  = df['datetime'].dt.hour\r\n",
    "df['week']  = df['datetime'].dt.dayofweek"
   ],
   "outputs": [],
   "metadata": {}
  },
  {
   "cell_type": "code",
   "execution_count": 12,
   "source": [
    "df00 = df\r\n",
    "df00 = df00.drop('datetime', axis=1)"
   ],
   "outputs": [],
   "metadata": {}
  },
  {
   "cell_type": "code",
   "execution_count": 13,
   "source": [
    "df00.info()"
   ],
   "outputs": [
    {
     "output_type": "stream",
     "name": "stdout",
     "text": [
      "<class 'pandas.core.frame.DataFrame'>\n",
      "Int64Index: 17379 entries, 0 to 6492\n",
      "Data columns (total 16 columns):\n",
      " #   Column      Non-Null Count  Dtype  \n",
      "---  ------      --------------  -----  \n",
      " 0   season      17379 non-null  int64  \n",
      " 1   holiday     17379 non-null  int64  \n",
      " 2   workingday  17379 non-null  int64  \n",
      " 3   weather     17379 non-null  int64  \n",
      " 4   temp        17379 non-null  float64\n",
      " 5   atemp       17379 non-null  float64\n",
      " 6   humidity    17379 non-null  int64  \n",
      " 7   windspeed   17379 non-null  float64\n",
      " 8   casual      10886 non-null  float64\n",
      " 9   registered  10886 non-null  float64\n",
      " 10  count       10886 non-null  float64\n",
      " 11  year        17379 non-null  int64  \n",
      " 12  month       17379 non-null  int64  \n",
      " 13  day         17379 non-null  int64  \n",
      " 14  hour        17379 non-null  int64  \n",
      " 15  week        17379 non-null  int64  \n",
      "dtypes: float64(6), int64(10)\n",
      "memory usage: 2.3 MB\n"
     ]
    }
   ],
   "metadata": {}
  },
  {
   "cell_type": "code",
   "execution_count": 14,
   "source": [
    "df00.head()"
   ],
   "outputs": [
    {
     "output_type": "execute_result",
     "data": {
      "text/html": [
       "<div>\n",
       "<style scoped>\n",
       "    .dataframe tbody tr th:only-of-type {\n",
       "        vertical-align: middle;\n",
       "    }\n",
       "\n",
       "    .dataframe tbody tr th {\n",
       "        vertical-align: top;\n",
       "    }\n",
       "\n",
       "    .dataframe thead th {\n",
       "        text-align: right;\n",
       "    }\n",
       "</style>\n",
       "<table border=\"1\" class=\"dataframe\">\n",
       "  <thead>\n",
       "    <tr style=\"text-align: right;\">\n",
       "      <th></th>\n",
       "      <th>season</th>\n",
       "      <th>holiday</th>\n",
       "      <th>workingday</th>\n",
       "      <th>weather</th>\n",
       "      <th>temp</th>\n",
       "      <th>atemp</th>\n",
       "      <th>humidity</th>\n",
       "      <th>windspeed</th>\n",
       "      <th>casual</th>\n",
       "      <th>registered</th>\n",
       "      <th>count</th>\n",
       "      <th>year</th>\n",
       "      <th>month</th>\n",
       "      <th>day</th>\n",
       "      <th>hour</th>\n",
       "      <th>week</th>\n",
       "    </tr>\n",
       "  </thead>\n",
       "  <tbody>\n",
       "    <tr>\n",
       "      <th>0</th>\n",
       "      <td>1</td>\n",
       "      <td>0</td>\n",
       "      <td>0</td>\n",
       "      <td>1</td>\n",
       "      <td>9.84</td>\n",
       "      <td>14.395</td>\n",
       "      <td>81</td>\n",
       "      <td>0.0</td>\n",
       "      <td>3.0</td>\n",
       "      <td>13.0</td>\n",
       "      <td>16.0</td>\n",
       "      <td>2011</td>\n",
       "      <td>1</td>\n",
       "      <td>1</td>\n",
       "      <td>0</td>\n",
       "      <td>5</td>\n",
       "    </tr>\n",
       "    <tr>\n",
       "      <th>1</th>\n",
       "      <td>1</td>\n",
       "      <td>0</td>\n",
       "      <td>0</td>\n",
       "      <td>1</td>\n",
       "      <td>9.02</td>\n",
       "      <td>13.635</td>\n",
       "      <td>80</td>\n",
       "      <td>0.0</td>\n",
       "      <td>8.0</td>\n",
       "      <td>32.0</td>\n",
       "      <td>40.0</td>\n",
       "      <td>2011</td>\n",
       "      <td>1</td>\n",
       "      <td>1</td>\n",
       "      <td>1</td>\n",
       "      <td>5</td>\n",
       "    </tr>\n",
       "    <tr>\n",
       "      <th>2</th>\n",
       "      <td>1</td>\n",
       "      <td>0</td>\n",
       "      <td>0</td>\n",
       "      <td>1</td>\n",
       "      <td>9.02</td>\n",
       "      <td>13.635</td>\n",
       "      <td>80</td>\n",
       "      <td>0.0</td>\n",
       "      <td>5.0</td>\n",
       "      <td>27.0</td>\n",
       "      <td>32.0</td>\n",
       "      <td>2011</td>\n",
       "      <td>1</td>\n",
       "      <td>1</td>\n",
       "      <td>2</td>\n",
       "      <td>5</td>\n",
       "    </tr>\n",
       "    <tr>\n",
       "      <th>3</th>\n",
       "      <td>1</td>\n",
       "      <td>0</td>\n",
       "      <td>0</td>\n",
       "      <td>1</td>\n",
       "      <td>9.84</td>\n",
       "      <td>14.395</td>\n",
       "      <td>75</td>\n",
       "      <td>0.0</td>\n",
       "      <td>3.0</td>\n",
       "      <td>10.0</td>\n",
       "      <td>13.0</td>\n",
       "      <td>2011</td>\n",
       "      <td>1</td>\n",
       "      <td>1</td>\n",
       "      <td>3</td>\n",
       "      <td>5</td>\n",
       "    </tr>\n",
       "    <tr>\n",
       "      <th>4</th>\n",
       "      <td>1</td>\n",
       "      <td>0</td>\n",
       "      <td>0</td>\n",
       "      <td>1</td>\n",
       "      <td>9.84</td>\n",
       "      <td>14.395</td>\n",
       "      <td>75</td>\n",
       "      <td>0.0</td>\n",
       "      <td>0.0</td>\n",
       "      <td>1.0</td>\n",
       "      <td>1.0</td>\n",
       "      <td>2011</td>\n",
       "      <td>1</td>\n",
       "      <td>1</td>\n",
       "      <td>4</td>\n",
       "      <td>5</td>\n",
       "    </tr>\n",
       "  </tbody>\n",
       "</table>\n",
       "</div>"
      ],
      "text/plain": [
       "   season  holiday  workingday  weather  temp   atemp  humidity  windspeed  \\\n",
       "0       1        0           0        1  9.84  14.395        81        0.0   \n",
       "1       1        0           0        1  9.02  13.635        80        0.0   \n",
       "2       1        0           0        1  9.02  13.635        80        0.0   \n",
       "3       1        0           0        1  9.84  14.395        75        0.0   \n",
       "4       1        0           0        1  9.84  14.395        75        0.0   \n",
       "\n",
       "   casual  registered  count  year  month  day  hour  week  \n",
       "0     3.0        13.0   16.0  2011      1    1     0     5  \n",
       "1     8.0        32.0   40.0  2011      1    1     1     5  \n",
       "2     5.0        27.0   32.0  2011      1    1     2     5  \n",
       "3     3.0        10.0   13.0  2011      1    1     3     5  \n",
       "4     0.0         1.0    1.0  2011      1    1     4     5  "
      ]
     },
     "metadata": {},
     "execution_count": 14
    }
   ],
   "metadata": {}
  },
  {
   "cell_type": "markdown",
   "source": [
    "# met00"
   ],
   "metadata": {}
  },
  {
   "cell_type": "code",
   "execution_count": 15,
   "source": [
    "# regression cross_validate : INPUT DF VERSION & TARGET\r\n",
    "# ==================================================\r\n",
    "df_met     = df00\r\n",
    "target_met = 'count'\r\n",
    "# ==================================================\r\n",
    "\r\n",
    "# X, y split\r\n",
    "train_met = df_met[df_met[target_met].notna()]\r\n",
    "X_train_test_met = train_met.drop(target_met, axis=1)\r\n",
    "y_train_test_met = train_met[target_met]\r\n",
    "\r\n",
    "# estimators=\r\n",
    "regressor_models = [\r\n",
    "                    LinearRegression      (),\r\n",
    "                    DecisionTreeRegressor (random_state=0),\r\n",
    "                    Ridge                 (random_state=0),\r\n",
    "                    Lasso                 (random_state=0),\r\n",
    "                    ElasticNet            (random_state=0),\r\n",
    "                    RandomForestRegressor (random_state=0),\r\n",
    "                    XGBRegressor          (random_state=0),\r\n",
    "                    LGBMRegressor         (random_state=0),\r\n",
    "                    CatBoostRegressor     (random_state=0, verbose=0),\r\n",
    "                    ]\r\n",
    "\r\n",
    "# scorings=\r\n",
    "regressor_scorers = {'MSE':'neg_mean_squared_error',\r\n",
    "                     'RMSE':'neg_root_mean_squared_error',\r\n",
    "                     'MSLE':'neg_mean_squared_log_error',\r\n",
    "                    #  'MAE':'neg_mean_absolute_error',\r\n",
    "                     }\r\n",
    "\r\n",
    "# cv=\r\n",
    "kf  = KFold          (n_splits=5, shuffle=True, random_state=0)\r\n",
    "skf = StratifiedKFold(n_splits=5, shuffle=True, random_state=0)\r\n",
    "\r\n",
    "# cross_validate loop\r\n",
    "for model in regressor_models:\r\n",
    "    \r\n",
    "    cv_results = cross_validate(model, X_train_test_met, y_train_test_met,\r\n",
    "                                scoring=regressor_scorers,\r\n",
    "                                cv=kf,\r\n",
    "                                return_train_score=True, return_estimator=True)\r\n",
    "    \r\n",
    "    print('-' * 40)\r\n",
    "    print('model  =', model.__class__.__name__)\r\n",
    "    # print('params =', model.get_params(deep=True))\r\n",
    "    \r\n",
    "    # regression metrics\r\n",
    "    print('MSE    = {}  '.format(- cv_results['test_MSE'].mean()), '\\n'\r\n",
    "          'RMSE   = {}  '.format(- cv_results['test_RMSE'].mean()), '\\n'\r\n",
    "          'MSLE   = {}  '.format(- cv_results['test_MSLE'].mean()), '\\n'\r\n",
    "          'RMSLE  = {}  '.format(np.sqrt(- cv_results['test_MSLE'].mean()))\r\n",
    "        #   'MAE    = {}  '.format(- cv_results['test_MAE'].mean()),\r\n",
    "          )"
   ],
   "outputs": [
    {
     "output_type": "stream",
     "name": "stdout",
     "text": [
      "----------------------------------------\n",
      "model  = LinearRegression\n",
      "MSE    = 5.787374610733502e-25   \n",
      "RMSE   = 6.528980683574458e-13   \n",
      "MSLE   = 3.629645536277395e-27   \n",
      "RMSLE  = 6.02465396207732e-14  \n",
      "----------------------------------------\n",
      "model  = DecisionTreeRegressor\n",
      "MSE    = 34.496347953582685   \n",
      "RMSE   = 5.867615646374526   \n",
      "MSLE   = 0.0005523973802283897   \n",
      "RMSLE  = 0.023503135540356945  \n",
      "----------------------------------------\n",
      "model  = Ridge\n",
      "MSE    = 1.013548780989339e-11   \n",
      "RMSE   = 3.1834340433451213e-06   \n",
      "MSLE   = 3.104161482162249e-14   \n",
      "RMSLE  = 1.761863071343017e-07  \n",
      "----------------------------------------\n",
      "model  = Lasso\n",
      "MSE    = 0.0004480514187574241   \n",
      "RMSE   = 0.02116062099691964   \n",
      "MSLE   = 8.80434210987593e-07   \n",
      "RMSLE  = 0.0009383145586569533  \n",
      "----------------------------------------\n",
      "model  = ElasticNet\n",
      "MSE    = 0.000434114884235756   \n",
      "RMSE   = 0.020832181940355635   \n",
      "MSLE   = 8.681198562278363e-07   \n",
      "RMSLE  = 0.0009317294973477207  \n",
      "----------------------------------------\n",
      "model  = RandomForestRegressor\n",
      "MSE    = 10.648936430492762   \n",
      "RMSE   = 3.250040196632252   \n",
      "MSLE   = 0.00017584982446366553   \n",
      "RMSLE  = 0.013260838000053598  \n",
      "----------------------------------------\n",
      "model  = XGBRegressor\n",
      "MSE    = 14.2394073160816   \n",
      "RMSE   = 3.767803476168223   \n",
      "MSLE   = 0.0004128482312349835   \n",
      "RMSLE  = 0.020318667063441525  \n",
      "----------------------------------------\n",
      "model  = LGBMRegressor\n",
      "MSE    = 13.855743468931887   \n",
      "RMSE   = 3.691594514308979   \n",
      "MSLE   = 0.0007084883212353184   \n",
      "RMSLE  = 0.026617443927532153  \n",
      "----------------------------------------\n",
      "model  = CatBoostRegressor\n",
      "MSE    = 12.199902242587658   \n",
      "RMSE   = 3.4643964642931104   \n",
      "MSLE   = 0.0010644303656910101   \n",
      "RMSLE  = 0.03262560904705091  \n"
     ]
    }
   ],
   "metadata": {
    "id": "xGvqBtx59HY-"
   }
  },
  {
   "cell_type": "markdown",
   "source": [
    "# df01"
   ],
   "metadata": {}
  },
  {
   "cell_type": "markdown",
   "source": [
    "## corr"
   ],
   "metadata": {}
  },
  {
   "cell_type": "code",
   "execution_count": 16,
   "source": [
    "df01 = df00\r\n",
    "train = df01[df01[target_met].notna()]\r\n",
    "X_sub = df01[df01[target_met].isna()]\r\n",
    "train.shape, X_sub.shape"
   ],
   "outputs": [
    {
     "output_type": "execute_result",
     "data": {
      "text/plain": [
       "((10886, 16), (6493, 16))"
      ]
     },
     "metadata": {},
     "execution_count": 16
    }
   ],
   "metadata": {}
  },
  {
   "cell_type": "code",
   "execution_count": 17,
   "source": [
    "fig, ax = plt.subplots(figsize=(12, 9))\r\n",
    "sns.heatmap(train.corr(), annot=True, cmap='coolwarm')"
   ],
   "outputs": [
    {
     "output_type": "execute_result",
     "data": {
      "text/plain": [
       "<AxesSubplot:>"
      ]
     },
     "metadata": {},
     "execution_count": 17
    },
    {
     "output_type": "display_data",
     "data": {
      "image/png": "[encoded data removed]",
      "text/plain": [
       "<Figure size 864x648 with 2 Axes>"
      ]
     },
     "metadata": {}
    }
   ],
   "metadata": {}
  },
  {
   "cell_type": "markdown",
   "source": [
    "## workingday, week"
   ],
   "metadata": {}
  },
  {
   "cell_type": "code",
   "execution_count": 18,
   "source": [
    "df01['working1_peak'] = df01[['workingday','week']].apply(\r\n",
    "    lambda x : (1, 0) [\r\n",
    "        x['workingday'] == 1 and \r\n",
    "        (x['week'] != 5 or x['week'] != 6)\r\n",
    "        ], axis=1)\r\n",
    "df01['working1_peak'].value_counts()"
   ],
   "outputs": [
    {
     "output_type": "execute_result",
     "data": {
      "text/plain": [
       "0    11865\n",
       "1     5514\n",
       "Name: working1_peak, dtype: int64"
      ]
     },
     "metadata": {},
     "execution_count": 18
    }
   ],
   "metadata": {}
  },
  {
   "cell_type": "code",
   "execution_count": 19,
   "source": [
    "df01['working0_peak'] = df01[['workingday','week']].apply(\r\n",
    "    lambda x : (1, 0) \r\n",
    "    [x['workingday'] == 0 and\r\n",
    "     (x['week'] == 5 or x['week'] == 6)\r\n",
    "     ], axis=1)\r\n",
    "df01['working0_peak'].value_counts()"
   ],
   "outputs": [
    {
     "output_type": "execute_result",
     "data": {
      "text/plain": [
       "1    12365\n",
       "0     5014\n",
       "Name: working0_peak, dtype: int64"
      ]
     },
     "metadata": {},
     "execution_count": 19
    }
   ],
   "metadata": {}
  },
  {
   "cell_type": "markdown",
   "source": [
    "# df02"
   ],
   "metadata": {}
  },
  {
   "cell_type": "markdown",
   "source": [
    "## hour"
   ],
   "metadata": {}
  },
  {
   "cell_type": "code",
   "execution_count": 20,
   "source": [
    "df02 = df01\r\n",
    "train = df02[df02[target_met].notna()]\r\n",
    "X_sub = df02[df02[target_met].isna()]\r\n",
    "train.shape, X_sub.shape"
   ],
   "outputs": [
    {
     "output_type": "execute_result",
     "data": {
      "text/plain": [
       "((10886, 18), (6493, 18))"
      ]
     },
     "metadata": {},
     "execution_count": 20
    }
   ],
   "metadata": {}
  },
  {
   "cell_type": "code",
   "execution_count": 21,
   "source": [
    "sns.barplot(x='hour', y=\"count\", data=train[train['workingday'] == 1])"
   ],
   "outputs": [
    {
     "output_type": "execute_result",
     "data": {
      "text/plain": [
       "<AxesSubplot:xlabel='hour', ylabel='count'>"
      ]
     },
     "metadata": {},
     "execution_count": 21
    },
    {
     "output_type": "display_data",
     "data": {
      "image/png": "[encoded data removed]",
      "text/plain": [
       "<Figure size 432x288 with 1 Axes>"
      ]
     },
     "metadata": {}
    }
   ],
   "metadata": {}
  },
  {
   "cell_type": "code",
   "execution_count": 22,
   "source": [
    "sns.barplot(x='hour', y=\"count\", data=train[train['workingday'] == 0])"
   ],
   "outputs": [
    {
     "output_type": "execute_result",
     "data": {
      "text/plain": [
       "<AxesSubplot:xlabel='hour', ylabel='count'>"
      ]
     },
     "metadata": {},
     "execution_count": 22
    },
    {
     "output_type": "display_data",
     "data": {
      "image/png": "[encoded data removed]",
      "text/plain": [
       "<Figure size 432x288 with 1 Axes>"
      ]
     },
     "metadata": {}
    }
   ],
   "metadata": {}
  },
  {
   "cell_type": "code",
   "execution_count": 23,
   "source": [
    "# 평일 workingday 1 / 8, 17, 18\r\n",
    "df02['hour_peak'] = df02[['workingday','hour']].apply(\r\n",
    "    lambda x : (1, 0) [\r\n",
    "        x['workingday'] == 1 and \r\n",
    "        (x['hour'] == 8 or 17 <= x['hour'] <= 18)\r\n",
    "        ], axis=1)\r\n",
    "\r\n",
    "# 휴일 workingday 0 / 10~19\r\n",
    "df02['hour_peak'] = df02[['workingday','hour']].apply(\r\n",
    "    lambda x : (1 ,0) [\r\n",
    "        x['workingday'] == 0 and \r\n",
    "        10 <= x['hour'] <= 19\r\n",
    "        ], axis=1)\r\n",
    "df02['hour_peak'].value_counts()"
   ],
   "outputs": [
    {
     "output_type": "execute_result",
     "data": {
      "text/plain": [
       "1    15071\n",
       "0     2308\n",
       "Name: hour_peak, dtype: int64"
      ]
     },
     "metadata": {},
     "execution_count": 23
    }
   ],
   "metadata": {}
  },
  {
   "cell_type": "markdown",
   "source": [
    "## temp, humidity, weather, windspeed"
   ],
   "metadata": {}
  },
  {
   "cell_type": "code",
   "execution_count": 24,
   "source": [
    "sns.distplot(df02['temp'])"
   ],
   "outputs": [
    {
     "output_type": "execute_result",
     "data": {
      "text/plain": [
       "<AxesSubplot:xlabel='temp', ylabel='Density'>"
      ]
     },
     "metadata": {},
     "execution_count": 24
    },
    {
     "output_type": "display_data",
     "data": {
      "image/png": "[encoded data removed]",
      "text/plain": [
       "<Figure size 432x288 with 1 Axes>"
      ]
     },
     "metadata": {}
    }
   ],
   "metadata": {}
  },
  {
   "cell_type": "code",
   "execution_count": 25,
   "source": [
    "sns.distplot(df02['humidity'])"
   ],
   "outputs": [
    {
     "output_type": "execute_result",
     "data": {
      "text/plain": [
       "<AxesSubplot:xlabel='humidity', ylabel='Density'>"
      ]
     },
     "metadata": {},
     "execution_count": 25
    },
    {
     "output_type": "display_data",
     "data": {
      "image/png": "[encoded data removed]",
      "text/plain": [
       "<Figure size 432x288 with 1 Axes>"
      ]
     },
     "metadata": {}
    }
   ],
   "metadata": {}
  },
  {
   "cell_type": "code",
   "execution_count": 26,
   "source": [
    "sns.distplot(df02['weather'])"
   ],
   "outputs": [
    {
     "output_type": "execute_result",
     "data": {
      "text/plain": [
       "<AxesSubplot:xlabel='weather', ylabel='Density'>"
      ]
     },
     "metadata": {},
     "execution_count": 26
    },
    {
     "output_type": "display_data",
     "data": {
      "image/png": "[encoded data removed]",
      "text/plain": [
       "<Figure size 432x288 with 1 Axes>"
      ]
     },
     "metadata": {}
    }
   ],
   "metadata": {}
  },
  {
   "cell_type": "code",
   "execution_count": 27,
   "source": [
    "sns.distplot(df02['windspeed'])"
   ],
   "outputs": [
    {
     "output_type": "execute_result",
     "data": {
      "text/plain": [
       "<AxesSubplot:xlabel='windspeed', ylabel='Density'>"
      ]
     },
     "metadata": {},
     "execution_count": 27
    },
    {
     "output_type": "display_data",
     "data": {
      "image/png": "[encoded data removed]",
      "text/plain": [
       "<Figure size 432x288 with 1 Axes>"
      ]
     },
     "metadata": {}
    }
   ],
   "metadata": {}
  },
  {
   "cell_type": "code",
   "execution_count": 28,
   "source": [
    "df02['weather_peak'] = df02[['temp','humidity','weather','windspeed']].apply(\r\n",
    "    lambda x : (1, 0) [\r\n",
    "        10 <= x['temp']      <= 30 and \r\n",
    "        30 <= x['humidity']  <= 90 and \r\n",
    "        0  <= x['windspeed'] <= 24 and\r\n",
    "        x['weather'] in [1, 2]\r\n",
    "        ], axis=1)\r\n",
    "df02['weather_peak'].value_counts()"
   ],
   "outputs": [
    {
     "output_type": "execute_result",
     "data": {
      "text/plain": [
       "0    10204\n",
       "1     7175\n",
       "Name: weather_peak, dtype: int64"
      ]
     },
     "metadata": {},
     "execution_count": 28
    }
   ],
   "metadata": {}
  },
  {
   "cell_type": "markdown",
   "source": [
    "## weekend"
   ],
   "metadata": {}
  },
  {
   "cell_type": "code",
   "execution_count": 29,
   "source": [
    "df02['weekend'] = df02[['week']].apply(\r\n",
    "    lambda x : (1, 0) [\r\n",
    "        x['week'] == 5 or \r\n",
    "        x['week'] == 6\r\n",
    "        ], axis=1)\r\n",
    "df02['weekend'].value_counts()"
   ],
   "outputs": [
    {
     "output_type": "execute_result",
     "data": {
      "text/plain": [
       "1    12365\n",
       "0     5014\n",
       "Name: weekend, dtype: int64"
      ]
     },
     "metadata": {},
     "execution_count": 29
    }
   ],
   "metadata": {}
  },
  {
   "cell_type": "markdown",
   "source": [
    "## windspeed : missing values"
   ],
   "metadata": {}
  },
  {
   "cell_type": "code",
   "execution_count": 30,
   "source": [
    "df02_cp = df02[['season', 'weather', 'temp', 'atemp', 'humidity', 'windspeed']].copy()\r\n",
    "df02_cp[df02_cp['windspeed'] == 0].head()"
   ],
   "outputs": [
    {
     "output_type": "execute_result",
     "data": {
      "text/html": [
       "<div>\n",
       "<style scoped>\n",
       "    .dataframe tbody tr th:only-of-type {\n",
       "        vertical-align: middle;\n",
       "    }\n",
       "\n",
       "    .dataframe tbody tr th {\n",
       "        vertical-align: top;\n",
       "    }\n",
       "\n",
       "    .dataframe thead th {\n",
       "        text-align: right;\n",
       "    }\n",
       "</style>\n",
       "<table border=\"1\" class=\"dataframe\">\n",
       "  <thead>\n",
       "    <tr style=\"text-align: right;\">\n",
       "      <th></th>\n",
       "      <th>season</th>\n",
       "      <th>weather</th>\n",
       "      <th>temp</th>\n",
       "      <th>atemp</th>\n",
       "      <th>humidity</th>\n",
       "      <th>windspeed</th>\n",
       "    </tr>\n",
       "  </thead>\n",
       "  <tbody>\n",
       "    <tr>\n",
       "      <th>0</th>\n",
       "      <td>1</td>\n",
       "      <td>1</td>\n",
       "      <td>9.84</td>\n",
       "      <td>14.395</td>\n",
       "      <td>81</td>\n",
       "      <td>0.0</td>\n",
       "    </tr>\n",
       "    <tr>\n",
       "      <th>1</th>\n",
       "      <td>1</td>\n",
       "      <td>1</td>\n",
       "      <td>9.02</td>\n",
       "      <td>13.635</td>\n",
       "      <td>80</td>\n",
       "      <td>0.0</td>\n",
       "    </tr>\n",
       "    <tr>\n",
       "      <th>2</th>\n",
       "      <td>1</td>\n",
       "      <td>1</td>\n",
       "      <td>9.02</td>\n",
       "      <td>13.635</td>\n",
       "      <td>80</td>\n",
       "      <td>0.0</td>\n",
       "    </tr>\n",
       "    <tr>\n",
       "      <th>3</th>\n",
       "      <td>1</td>\n",
       "      <td>1</td>\n",
       "      <td>9.84</td>\n",
       "      <td>14.395</td>\n",
       "      <td>75</td>\n",
       "      <td>0.0</td>\n",
       "    </tr>\n",
       "    <tr>\n",
       "      <th>4</th>\n",
       "      <td>1</td>\n",
       "      <td>1</td>\n",
       "      <td>9.84</td>\n",
       "      <td>14.395</td>\n",
       "      <td>75</td>\n",
       "      <td>0.0</td>\n",
       "    </tr>\n",
       "  </tbody>\n",
       "</table>\n",
       "</div>"
      ],
      "text/plain": [
       "   season  weather  temp   atemp  humidity  windspeed\n",
       "0       1        1  9.84  14.395        81        0.0\n",
       "1       1        1  9.02  13.635        80        0.0\n",
       "2       1        1  9.02  13.635        80        0.0\n",
       "3       1        1  9.84  14.395        75        0.0\n",
       "4       1        1  9.84  14.395        75        0.0"
      ]
     },
     "metadata": {},
     "execution_count": 30
    }
   ],
   "metadata": {}
  },
  {
   "cell_type": "code",
   "execution_count": 31,
   "source": [
    "wind  = df02[df02['windspeed'] != 0][['season', 'weather', 'temp', 'atemp', 'humidity', 'windspeed']]\r\n",
    "wind0 = df02[df02['windspeed'] == 0][['season', 'weather', 'temp', 'atemp', 'humidity', 'windspeed']]\r\n",
    "wind.shape, wind0.shape"
   ],
   "outputs": [
    {
     "output_type": "execute_result",
     "data": {
      "text/plain": [
       "((15199, 6), (2180, 6))"
      ]
     },
     "metadata": {},
     "execution_count": 31
    }
   ],
   "metadata": {}
  },
  {
   "cell_type": "code",
   "execution_count": 32,
   "source": [
    "X_wind = wind.drop('windspeed', axis=1)\r\n",
    "y_wind = wind['windspeed']\r\n",
    "X_wind.shape, y_wind.shape"
   ],
   "outputs": [
    {
     "output_type": "execute_result",
     "data": {
      "text/plain": [
       "((15199, 5), (15199,))"
      ]
     },
     "metadata": {},
     "execution_count": 32
    }
   ],
   "metadata": {}
  },
  {
   "cell_type": "code",
   "execution_count": 33,
   "source": [
    "wind_test = wind0.drop('windspeed', axis=1)\r\n",
    "wind_test.shape"
   ],
   "outputs": [
    {
     "output_type": "execute_result",
     "data": {
      "text/plain": [
       "(2180, 5)"
      ]
     },
     "metadata": {},
     "execution_count": 33
    }
   ],
   "metadata": {}
  },
  {
   "cell_type": "code",
   "execution_count": 34,
   "source": [
    "# wind로 train / wind0 pred\r\n",
    "\r\n",
    "regressor_models = [\r\n",
    "                    # LinearRegression      (),\r\n",
    "                    # Ridge                 (random_state=0),\r\n",
    "                    # Lasso                 (random_state=0),\r\n",
    "                    # ElasticNet            (random_state=0),\r\n",
    "                    # DecisionTreeRegressor (random_state=0),\r\n",
    "                    # RandomForestRegressor (random_state=0),\r\n",
    "                    # XGBRegressor          (random_state=0),\r\n",
    "                    LGBMRegressor         (random_state=0),\r\n",
    "                    # CatBoostRegressor     (random_state=0, verbose=0),\r\n",
    "                    ]\r\n",
    "\r\n",
    "for model in regressor_models:\r\n",
    "    \r\n",
    "    # 학습은 y_log : 음수를 없애기 위해\r\n",
    "    model.fit(X_wind, y_wind)\r\n",
    "    wind_pred = model.predict(wind_test)\r\n",
    "    \r\n",
    "    # 점수는 복원\r\n",
    "    # y_test_exp = np.expm1(y_test)\r\n",
    "    # y_pred_exp = np.expm1(y_pred)\r\n",
    "    \r\n",
    "    # msle, rmsle\r\n",
    "    # msle  = mean_squared_error(y_test_exp, y_pred_exp)\r\n",
    "    # rmsle = np.sqrt(msle)\r\n",
    "    \r\n",
    "    # print('-' * 50)\r\n",
    "    # print(model.__class__.__name__)\r\n",
    "    # print(rmsle)"
   ],
   "outputs": [],
   "metadata": {}
  },
  {
   "cell_type": "code",
   "execution_count": 35,
   "source": [
    "wind0['windspeed'] = np.round(wind_pred, 5)\r\n",
    "wind0.head()"
   ],
   "outputs": [
    {
     "output_type": "execute_result",
     "data": {
      "text/html": [
       "<div>\n",
       "<style scoped>\n",
       "    .dataframe tbody tr th:only-of-type {\n",
       "        vertical-align: middle;\n",
       "    }\n",
       "\n",
       "    .dataframe tbody tr th {\n",
       "        vertical-align: top;\n",
       "    }\n",
       "\n",
       "    .dataframe thead th {\n",
       "        text-align: right;\n",
       "    }\n",
       "</style>\n",
       "<table border=\"1\" class=\"dataframe\">\n",
       "  <thead>\n",
       "    <tr style=\"text-align: right;\">\n",
       "      <th></th>\n",
       "      <th>season</th>\n",
       "      <th>weather</th>\n",
       "      <th>temp</th>\n",
       "      <th>atemp</th>\n",
       "      <th>humidity</th>\n",
       "      <th>windspeed</th>\n",
       "    </tr>\n",
       "  </thead>\n",
       "  <tbody>\n",
       "    <tr>\n",
       "      <th>0</th>\n",
       "      <td>1</td>\n",
       "      <td>1</td>\n",
       "      <td>9.84</td>\n",
       "      <td>14.395</td>\n",
       "      <td>81</td>\n",
       "      <td>5.54097</td>\n",
       "    </tr>\n",
       "    <tr>\n",
       "      <th>1</th>\n",
       "      <td>1</td>\n",
       "      <td>1</td>\n",
       "      <td>9.02</td>\n",
       "      <td>13.635</td>\n",
       "      <td>80</td>\n",
       "      <td>5.71502</td>\n",
       "    </tr>\n",
       "    <tr>\n",
       "      <th>2</th>\n",
       "      <td>1</td>\n",
       "      <td>1</td>\n",
       "      <td>9.02</td>\n",
       "      <td>13.635</td>\n",
       "      <td>80</td>\n",
       "      <td>5.71502</td>\n",
       "    </tr>\n",
       "    <tr>\n",
       "      <th>3</th>\n",
       "      <td>1</td>\n",
       "      <td>1</td>\n",
       "      <td>9.84</td>\n",
       "      <td>14.395</td>\n",
       "      <td>75</td>\n",
       "      <td>5.78901</td>\n",
       "    </tr>\n",
       "    <tr>\n",
       "      <th>4</th>\n",
       "      <td>1</td>\n",
       "      <td>1</td>\n",
       "      <td>9.84</td>\n",
       "      <td>14.395</td>\n",
       "      <td>75</td>\n",
       "      <td>5.78901</td>\n",
       "    </tr>\n",
       "  </tbody>\n",
       "</table>\n",
       "</div>"
      ],
      "text/plain": [
       "   season  weather  temp   atemp  humidity  windspeed\n",
       "0       1        1  9.84  14.395        81    5.54097\n",
       "1       1        1  9.02  13.635        80    5.71502\n",
       "2       1        1  9.02  13.635        80    5.71502\n",
       "3       1        1  9.84  14.395        75    5.78901\n",
       "4       1        1  9.84  14.395        75    5.78901"
      ]
     },
     "metadata": {},
     "execution_count": 35
    }
   ],
   "metadata": {}
  },
  {
   "cell_type": "code",
   "execution_count": 36,
   "source": [
    "wind0['windspeed'].hist(bins=100)"
   ],
   "outputs": [
    {
     "output_type": "execute_result",
     "data": {
      "text/plain": [
       "<AxesSubplot:>"
      ]
     },
     "metadata": {},
     "execution_count": 36
    },
    {
     "output_type": "display_data",
     "data": {
      "image/png": "[encoded data removed]",
      "text/plain": [
       "<Figure size 432x288 with 1 Axes>"
      ]
     },
     "metadata": {}
    }
   ],
   "metadata": {}
  },
  {
   "cell_type": "code",
   "execution_count": 37,
   "source": [
    "wind['windspeed'].hist(bins=100)"
   ],
   "outputs": [
    {
     "output_type": "execute_result",
     "data": {
      "text/plain": [
       "<AxesSubplot:>"
      ]
     },
     "metadata": {},
     "execution_count": 37
    },
    {
     "output_type": "display_data",
     "data": {
      "image/png": "[encoded data removed]",
      "text/plain": [
       "<Figure size 432x288 with 1 Axes>"
      ]
     },
     "metadata": {}
    }
   ],
   "metadata": {}
  },
  {
   "cell_type": "code",
   "execution_count": 38,
   "source": [
    "windcp = pd.concat([wind, wind0])\r\n",
    "windcp['windspeed'].hist(bins=100)"
   ],
   "outputs": [
    {
     "output_type": "execute_result",
     "data": {
      "text/plain": [
       "<AxesSubplot:>"
      ]
     },
     "metadata": {},
     "execution_count": 38
    },
    {
     "output_type": "display_data",
     "data": {
      "image/png": "[encoded data removed]",
      "text/plain": [
       "<Figure size 432x288 with 1 Axes>"
      ]
     },
     "metadata": {}
    }
   ],
   "metadata": {}
  },
  {
   "cell_type": "code",
   "execution_count": 39,
   "source": [
    "df02[df02['windspeed'] == 0]['windspeed'] = np.round(wind_pred, 5)"
   ],
   "outputs": [],
   "metadata": {}
  },
  {
   "cell_type": "code",
   "execution_count": 40,
   "source": [
    "df02['windspeed'].hist(bins=50)"
   ],
   "outputs": [
    {
     "output_type": "execute_result",
     "data": {
      "text/plain": [
       "<AxesSubplot:>"
      ]
     },
     "metadata": {},
     "execution_count": 40
    },
    {
     "output_type": "display_data",
     "data": {
      "image/png": "[encoded data removed]",
      "text/plain": [
       "<Figure size 432x288 with 1 Axes>"
      ]
     },
     "metadata": {}
    }
   ],
   "metadata": {}
  },
  {
   "cell_type": "code",
   "execution_count": 41,
   "source": [
    "# 시계열성 데이터인데, drop하면 시계열이 아니게 됨\r\n",
    "# drop했기 때문에, 시계열의 기능을 버렸음\r\n",
    "# 왜 버려도 되는가? 시계열이 이어지지 않기 때문?\r\n",
    "# train, X_sub가 시간 기준으로 잘라져 있기 때문"
   ],
   "outputs": [],
   "metadata": {}
  },
  {
   "cell_type": "code",
   "execution_count": 42,
   "source": [
    "df02.info()"
   ],
   "outputs": [
    {
     "output_type": "stream",
     "name": "stdout",
     "text": [
      "<class 'pandas.core.frame.DataFrame'>\n",
      "Int64Index: 17379 entries, 0 to 6492\n",
      "Data columns (total 21 columns):\n",
      " #   Column         Non-Null Count  Dtype  \n",
      "---  ------         --------------  -----  \n",
      " 0   season         17379 non-null  int64  \n",
      " 1   holiday        17379 non-null  int64  \n",
      " 2   workingday     17379 non-null  int64  \n",
      " 3   weather        17379 non-null  int64  \n",
      " 4   temp           17379 non-null  float64\n",
      " 5   atemp          17379 non-null  float64\n",
      " 6   humidity       17379 non-null  int64  \n",
      " 7   windspeed      17379 non-null  float64\n",
      " 8   casual         10886 non-null  float64\n",
      " 9   registered     10886 non-null  float64\n",
      " 10  count          10886 non-null  float64\n",
      " 11  year           17379 non-null  int64  \n",
      " 12  month          17379 non-null  int64  \n",
      " 13  day            17379 non-null  int64  \n",
      " 14  hour           17379 non-null  int64  \n",
      " 15  week           17379 non-null  int64  \n",
      " 16  working1_peak  17379 non-null  int64  \n",
      " 17  working0_peak  17379 non-null  int64  \n",
      " 18  hour_peak      17379 non-null  int64  \n",
      " 19  weather_peak   17379 non-null  int64  \n",
      " 20  weekend        17379 non-null  int64  \n",
      "dtypes: float64(6), int64(15)\n",
      "memory usage: 2.9 MB\n"
     ]
    }
   ],
   "metadata": {}
  },
  {
   "cell_type": "markdown",
   "source": [
    "## onehot encoding"
   ],
   "metadata": {}
  },
  {
   "cell_type": "markdown",
   "source": [
    "### categorical features"
   ],
   "metadata": {}
  },
  {
   "cell_type": "code",
   "execution_count": 43,
   "source": [
    "df02.head()"
   ],
   "outputs": [
    {
     "output_type": "execute_result",
     "data": {
      "text/html": [
       "<div>\n",
       "<style scoped>\n",
       "    .dataframe tbody tr th:only-of-type {\n",
       "        vertical-align: middle;\n",
       "    }\n",
       "\n",
       "    .dataframe tbody tr th {\n",
       "        vertical-align: top;\n",
       "    }\n",
       "\n",
       "    .dataframe thead th {\n",
       "        text-align: right;\n",
       "    }\n",
       "</style>\n",
       "<table border=\"1\" class=\"dataframe\">\n",
       "  <thead>\n",
       "    <tr style=\"text-align: right;\">\n",
       "      <th></th>\n",
       "      <th>season</th>\n",
       "      <th>holiday</th>\n",
       "      <th>workingday</th>\n",
       "      <th>weather</th>\n",
       "      <th>temp</th>\n",
       "      <th>atemp</th>\n",
       "      <th>humidity</th>\n",
       "      <th>windspeed</th>\n",
       "      <th>casual</th>\n",
       "      <th>registered</th>\n",
       "      <th>...</th>\n",
       "      <th>year</th>\n",
       "      <th>month</th>\n",
       "      <th>day</th>\n",
       "      <th>hour</th>\n",
       "      <th>week</th>\n",
       "      <th>working1_peak</th>\n",
       "      <th>working0_peak</th>\n",
       "      <th>hour_peak</th>\n",
       "      <th>weather_peak</th>\n",
       "      <th>weekend</th>\n",
       "    </tr>\n",
       "  </thead>\n",
       "  <tbody>\n",
       "    <tr>\n",
       "      <th>0</th>\n",
       "      <td>1</td>\n",
       "      <td>0</td>\n",
       "      <td>0</td>\n",
       "      <td>1</td>\n",
       "      <td>9.84</td>\n",
       "      <td>14.395</td>\n",
       "      <td>81</td>\n",
       "      <td>0.0</td>\n",
       "      <td>3.0</td>\n",
       "      <td>13.0</td>\n",
       "      <td>...</td>\n",
       "      <td>2011</td>\n",
       "      <td>1</td>\n",
       "      <td>1</td>\n",
       "      <td>0</td>\n",
       "      <td>5</td>\n",
       "      <td>1</td>\n",
       "      <td>0</td>\n",
       "      <td>1</td>\n",
       "      <td>1</td>\n",
       "      <td>0</td>\n",
       "    </tr>\n",
       "    <tr>\n",
       "      <th>1</th>\n",
       "      <td>1</td>\n",
       "      <td>0</td>\n",
       "      <td>0</td>\n",
       "      <td>1</td>\n",
       "      <td>9.02</td>\n",
       "      <td>13.635</td>\n",
       "      <td>80</td>\n",
       "      <td>0.0</td>\n",
       "      <td>8.0</td>\n",
       "      <td>32.0</td>\n",
       "      <td>...</td>\n",
       "      <td>2011</td>\n",
       "      <td>1</td>\n",
       "      <td>1</td>\n",
       "      <td>1</td>\n",
       "      <td>5</td>\n",
       "      <td>1</td>\n",
       "      <td>0</td>\n",
       "      <td>1</td>\n",
       "      <td>1</td>\n",
       "      <td>0</td>\n",
       "    </tr>\n",
       "    <tr>\n",
       "      <th>2</th>\n",
       "      <td>1</td>\n",
       "      <td>0</td>\n",
       "      <td>0</td>\n",
       "      <td>1</td>\n",
       "      <td>9.02</td>\n",
       "      <td>13.635</td>\n",
       "      <td>80</td>\n",
       "      <td>0.0</td>\n",
       "      <td>5.0</td>\n",
       "      <td>27.0</td>\n",
       "      <td>...</td>\n",
       "      <td>2011</td>\n",
       "      <td>1</td>\n",
       "      <td>1</td>\n",
       "      <td>2</td>\n",
       "      <td>5</td>\n",
       "      <td>1</td>\n",
       "      <td>0</td>\n",
       "      <td>1</td>\n",
       "      <td>1</td>\n",
       "      <td>0</td>\n",
       "    </tr>\n",
       "    <tr>\n",
       "      <th>3</th>\n",
       "      <td>1</td>\n",
       "      <td>0</td>\n",
       "      <td>0</td>\n",
       "      <td>1</td>\n",
       "      <td>9.84</td>\n",
       "      <td>14.395</td>\n",
       "      <td>75</td>\n",
       "      <td>0.0</td>\n",
       "      <td>3.0</td>\n",
       "      <td>10.0</td>\n",
       "      <td>...</td>\n",
       "      <td>2011</td>\n",
       "      <td>1</td>\n",
       "      <td>1</td>\n",
       "      <td>3</td>\n",
       "      <td>5</td>\n",
       "      <td>1</td>\n",
       "      <td>0</td>\n",
       "      <td>1</td>\n",
       "      <td>1</td>\n",
       "      <td>0</td>\n",
       "    </tr>\n",
       "    <tr>\n",
       "      <th>4</th>\n",
       "      <td>1</td>\n",
       "      <td>0</td>\n",
       "      <td>0</td>\n",
       "      <td>1</td>\n",
       "      <td>9.84</td>\n",
       "      <td>14.395</td>\n",
       "      <td>75</td>\n",
       "      <td>0.0</td>\n",
       "      <td>0.0</td>\n",
       "      <td>1.0</td>\n",
       "      <td>...</td>\n",
       "      <td>2011</td>\n",
       "      <td>1</td>\n",
       "      <td>1</td>\n",
       "      <td>4</td>\n",
       "      <td>5</td>\n",
       "      <td>1</td>\n",
       "      <td>0</td>\n",
       "      <td>1</td>\n",
       "      <td>1</td>\n",
       "      <td>0</td>\n",
       "    </tr>\n",
       "  </tbody>\n",
       "</table>\n",
       "<p>5 rows × 21 columns</p>\n",
       "</div>"
      ],
      "text/plain": [
       "   season  holiday  workingday  weather  temp   atemp  humidity  windspeed  \\\n",
       "0       1        0           0        1  9.84  14.395        81        0.0   \n",
       "1       1        0           0        1  9.02  13.635        80        0.0   \n",
       "2       1        0           0        1  9.02  13.635        80        0.0   \n",
       "3       1        0           0        1  9.84  14.395        75        0.0   \n",
       "4       1        0           0        1  9.84  14.395        75        0.0   \n",
       "\n",
       "   casual  registered  ...  year  month  day  hour  week  working1_peak  \\\n",
       "0     3.0        13.0  ...  2011      1    1     0     5              1   \n",
       "1     8.0        32.0  ...  2011      1    1     1     5              1   \n",
       "2     5.0        27.0  ...  2011      1    1     2     5              1   \n",
       "3     3.0        10.0  ...  2011      1    1     3     5              1   \n",
       "4     0.0         1.0  ...  2011      1    1     4     5              1   \n",
       "\n",
       "   working0_peak  hour_peak  weather_peak  weekend  \n",
       "0              0          1             1        0  \n",
       "1              0          1             1        0  \n",
       "2              0          1             1        0  \n",
       "3              0          1             1        0  \n",
       "4              0          1             1        0  \n",
       "\n",
       "[5 rows x 21 columns]"
      ]
     },
     "metadata": {},
     "execution_count": 43
    }
   ],
   "metadata": {}
  },
  {
   "cell_type": "code",
   "execution_count": 44,
   "source": [
    "oh_cols = ['season', 'weather', 'year', 'month', 'day', 'hour', 'week']\r\n",
    "sc_cols = ['temp', 'atemp', 'humidity', 'windspeed']"
   ],
   "outputs": [],
   "metadata": {}
  },
  {
   "cell_type": "code",
   "execution_count": 45,
   "source": [
    "# onehot, getdummies는 str일때만\r\n",
    "\r\n",
    "for col in oh_cols:\r\n",
    "    oh_df = pd.get_dummies(df02[col], prefix=col)\r\n",
    "    df02 = pd.concat([df02, oh_df], axis=1)"
   ],
   "outputs": [],
   "metadata": {}
  },
  {
   "cell_type": "code",
   "execution_count": 46,
   "source": [
    "df02.shape"
   ],
   "outputs": [
    {
     "output_type": "execute_result",
     "data": {
      "text/plain": [
       "(17379, 105)"
      ]
     },
     "metadata": {},
     "execution_count": 46
    }
   ],
   "metadata": {}
  },
  {
   "cell_type": "markdown",
   "source": [
    "## scale"
   ],
   "metadata": {}
  },
  {
   "cell_type": "code",
   "execution_count": 47,
   "source": [
    "train = df02[df02['count'].notna()]\r\n",
    "X_sub = df02[df02['count'].isna()]\r\n",
    "train.shape, X_sub.shape"
   ],
   "outputs": [
    {
     "output_type": "execute_result",
     "data": {
      "text/plain": [
       "((10886, 105), (6493, 105))"
      ]
     },
     "metadata": {},
     "execution_count": 47
    }
   ],
   "metadata": {}
  },
  {
   "cell_type": "code",
   "execution_count": 48,
   "source": [
    "ss = StandardScaler()\r\n",
    "\r\n",
    "ss.fit(train[sc_cols])\r\n",
    "\r\n",
    "train[sc_cols] = ss.transform(train[sc_cols])\r\n",
    "X_sub[sc_cols] = ss.transform(X_sub[sc_cols])"
   ],
   "outputs": [],
   "metadata": {}
  },
  {
   "cell_type": "code",
   "execution_count": 49,
   "source": [
    "train[sc_cols].head()"
   ],
   "outputs": [
    {
     "output_type": "execute_result",
     "data": {
      "text/html": [
       "<div>\n",
       "<style scoped>\n",
       "    .dataframe tbody tr th:only-of-type {\n",
       "        vertical-align: middle;\n",
       "    }\n",
       "\n",
       "    .dataframe tbody tr th {\n",
       "        vertical-align: top;\n",
       "    }\n",
       "\n",
       "    .dataframe thead th {\n",
       "        text-align: right;\n",
       "    }\n",
       "</style>\n",
       "<table border=\"1\" class=\"dataframe\">\n",
       "  <thead>\n",
       "    <tr style=\"text-align: right;\">\n",
       "      <th></th>\n",
       "      <th>temp</th>\n",
       "      <th>atemp</th>\n",
       "      <th>humidity</th>\n",
       "      <th>windspeed</th>\n",
       "    </tr>\n",
       "  </thead>\n",
       "  <tbody>\n",
       "    <tr>\n",
       "      <th>0</th>\n",
       "      <td>-1.333661</td>\n",
       "      <td>-1.092737</td>\n",
       "      <td>0.993213</td>\n",
       "      <td>-1.567754</td>\n",
       "    </tr>\n",
       "    <tr>\n",
       "      <th>1</th>\n",
       "      <td>-1.438907</td>\n",
       "      <td>-1.182421</td>\n",
       "      <td>0.941249</td>\n",
       "      <td>-1.567754</td>\n",
       "    </tr>\n",
       "    <tr>\n",
       "      <th>2</th>\n",
       "      <td>-1.438907</td>\n",
       "      <td>-1.182421</td>\n",
       "      <td>0.941249</td>\n",
       "      <td>-1.567754</td>\n",
       "    </tr>\n",
       "    <tr>\n",
       "      <th>3</th>\n",
       "      <td>-1.333661</td>\n",
       "      <td>-1.092737</td>\n",
       "      <td>0.681430</td>\n",
       "      <td>-1.567754</td>\n",
       "    </tr>\n",
       "    <tr>\n",
       "      <th>4</th>\n",
       "      <td>-1.333661</td>\n",
       "      <td>-1.092737</td>\n",
       "      <td>0.681430</td>\n",
       "      <td>-1.567754</td>\n",
       "    </tr>\n",
       "  </tbody>\n",
       "</table>\n",
       "</div>"
      ],
      "text/plain": [
       "       temp     atemp  humidity  windspeed\n",
       "0 -1.333661 -1.092737  0.993213  -1.567754\n",
       "1 -1.438907 -1.182421  0.941249  -1.567754\n",
       "2 -1.438907 -1.182421  0.941249  -1.567754\n",
       "3 -1.333661 -1.092737  0.681430  -1.567754\n",
       "4 -1.333661 -1.092737  0.681430  -1.567754"
      ]
     },
     "metadata": {},
     "execution_count": 49
    }
   ],
   "metadata": {}
  },
  {
   "cell_type": "code",
   "execution_count": 50,
   "source": [
    "X_sub[sc_cols].head()"
   ],
   "outputs": [
    {
     "output_type": "execute_result",
     "data": {
      "text/html": [
       "<div>\n",
       "<style scoped>\n",
       "    .dataframe tbody tr th:only-of-type {\n",
       "        vertical-align: middle;\n",
       "    }\n",
       "\n",
       "    .dataframe tbody tr th {\n",
       "        vertical-align: top;\n",
       "    }\n",
       "\n",
       "    .dataframe thead th {\n",
       "        text-align: right;\n",
       "    }\n",
       "</style>\n",
       "<table border=\"1\" class=\"dataframe\">\n",
       "  <thead>\n",
       "    <tr style=\"text-align: right;\">\n",
       "      <th></th>\n",
       "      <th>temp</th>\n",
       "      <th>atemp</th>\n",
       "      <th>humidity</th>\n",
       "      <th>windspeed</th>\n",
       "    </tr>\n",
       "  </thead>\n",
       "  <tbody>\n",
       "    <tr>\n",
       "      <th>0</th>\n",
       "      <td>-1.228414</td>\n",
       "      <td>-1.450292</td>\n",
       "      <td>-0.305883</td>\n",
       "      <td>1.617227</td>\n",
       "    </tr>\n",
       "    <tr>\n",
       "      <th>1</th>\n",
       "      <td>-1.228414</td>\n",
       "      <td>-1.182421</td>\n",
       "      <td>-0.305883</td>\n",
       "      <td>-1.567754</td>\n",
       "    </tr>\n",
       "    <tr>\n",
       "      <th>2</th>\n",
       "      <td>-1.228414</td>\n",
       "      <td>-1.182421</td>\n",
       "      <td>-0.305883</td>\n",
       "      <td>-1.567754</td>\n",
       "    </tr>\n",
       "    <tr>\n",
       "      <th>3</th>\n",
       "      <td>-1.228414</td>\n",
       "      <td>-1.271515</td>\n",
       "      <td>-0.305883</td>\n",
       "      <td>-0.220230</td>\n",
       "    </tr>\n",
       "    <tr>\n",
       "      <th>4</th>\n",
       "      <td>-1.228414</td>\n",
       "      <td>-1.271515</td>\n",
       "      <td>-0.305883</td>\n",
       "      <td>-0.220230</td>\n",
       "    </tr>\n",
       "  </tbody>\n",
       "</table>\n",
       "</div>"
      ],
      "text/plain": [
       "       temp     atemp  humidity  windspeed\n",
       "0 -1.228414 -1.450292 -0.305883   1.617227\n",
       "1 -1.228414 -1.182421 -0.305883  -1.567754\n",
       "2 -1.228414 -1.182421 -0.305883  -1.567754\n",
       "3 -1.228414 -1.271515 -0.305883  -0.220230\n",
       "4 -1.228414 -1.271515 -0.305883  -0.220230"
      ]
     },
     "metadata": {},
     "execution_count": 50
    }
   ],
   "metadata": {}
  },
  {
   "cell_type": "code",
   "execution_count": 51,
   "source": [
    "df02 = pd.concat([train, X_sub])\r\n",
    "df02.shape"
   ],
   "outputs": [
    {
     "output_type": "execute_result",
     "data": {
      "text/plain": [
       "(17379, 105)"
      ]
     },
     "metadata": {},
     "execution_count": 51
    }
   ],
   "metadata": {}
  },
  {
   "cell_type": "code",
   "execution_count": 52,
   "source": [
    "df02.columns"
   ],
   "outputs": [
    {
     "output_type": "execute_result",
     "data": {
      "text/plain": [
       "Index(['season', 'holiday', 'workingday', 'weather', 'temp', 'atemp',\n",
       "       'humidity', 'windspeed', 'casual', 'registered',\n",
       "       ...\n",
       "       'hour_21', 'hour_22', 'hour_23', 'week_0', 'week_1', 'week_2', 'week_3',\n",
       "       'week_4', 'week_5', 'week_6'],\n",
       "      dtype='object', length=105)"
      ]
     },
     "metadata": {},
     "execution_count": 52
    }
   ],
   "metadata": {}
  },
  {
   "cell_type": "markdown",
   "source": [
    "# met02"
   ],
   "metadata": {}
  },
  {
   "cell_type": "code",
   "execution_count": 53,
   "source": [
    "train_test = df02[df02['count'].notna()]\r\n",
    "X_sub = df02[df02['count'].isna()].drop('count', axis=1)\r\n",
    "X_train_test = train_test.drop('count', axis=1)\r\n",
    "y_train_test = train_test['count']\r\n",
    "X_train_test.shape, y_train_test.shape, X_sub.shape"
   ],
   "outputs": [
    {
     "output_type": "execute_result",
     "data": {
      "text/plain": [
       "((10886, 104), (10886,), (6493, 104))"
      ]
     },
     "metadata": {},
     "execution_count": 53
    }
   ],
   "metadata": {}
  },
  {
   "cell_type": "markdown",
   "source": [
    "## log : y"
   ],
   "metadata": {}
  },
  {
   "cell_type": "code",
   "execution_count": 54,
   "source": [
    "y_train_test_log = np.log1p(y_train_test)"
   ],
   "outputs": [],
   "metadata": {}
  },
  {
   "cell_type": "code",
   "execution_count": 55,
   "source": [
    "X_train, X_test, y_train, y_test = train_test_split(X_train_test, y_train_test_log, test_size=0.2, random_state=0, shuffle=True)\r\n",
    "X_train.shape, X_test.shape, y_train.shape, y_test.shape"
   ],
   "outputs": [
    {
     "output_type": "execute_result",
     "data": {
      "text/plain": [
       "((8708, 104), (2178, 104), (8708,), (2178,))"
      ]
     },
     "metadata": {},
     "execution_count": 55
    }
   ],
   "metadata": {}
  },
  {
   "cell_type": "code",
   "execution_count": 56,
   "source": [
    "regressor_models = [\r\n",
    "                    LinearRegression      (),\r\n",
    "                    Ridge                 (random_state=0),\r\n",
    "                    Lasso                 (random_state=0),\r\n",
    "                    ElasticNet            (random_state=0),\r\n",
    "                    DecisionTreeRegressor (random_state=0),\r\n",
    "                    RandomForestRegressor (random_state=0),\r\n",
    "                    XGBRegressor          (random_state=0),\r\n",
    "                    LGBMRegressor         (random_state=0),\r\n",
    "                    CatBoostRegressor     (random_state=0, verbose=0),\r\n",
    "                    ]\r\n",
    "\r\n",
    "for model in regressor_models:\r\n",
    "    \r\n",
    "    # 학습은 y_log : 음수를 없애기 위해\r\n",
    "    model.fit(X_train, y_train)\r\n",
    "    y_pred = model.predict(X_test)\r\n",
    "    \r\n",
    "    # 점수는 복원\r\n",
    "    y_test_exp = np.expm1(y_test)\r\n",
    "    y_pred_exp = np.expm1(y_pred)\r\n",
    "    \r\n",
    "    # msle, rmsle\r\n",
    "    msle  = mean_squared_error(y_test_exp, y_pred_exp)\r\n",
    "    rmsle = np.sqrt(msle)\r\n",
    "    \r\n",
    "    print('-' * 50)\r\n",
    "    print(model.__class__.__name__)\r\n",
    "    print(rmsle)"
   ],
   "outputs": [
    {
     "output_type": "stream",
     "name": "stdout",
     "text": [
      "--------------------------------------------------\n",
      "LinearRegression\n",
      "142.04952732607046\n",
      "--------------------------------------------------\n",
      "Ridge\n",
      "142.72866813914683\n",
      "--------------------------------------------------\n",
      "Lasso\n",
      "537.8064121615139\n",
      "--------------------------------------------------\n",
      "ElasticNet\n",
      "513.0396596034217\n",
      "--------------------------------------------------\n",
      "DecisionTreeRegressor\n",
      "6.255355831926909\n",
      "--------------------------------------------------\n",
      "RandomForestRegressor\n",
      "3.0589143618624584\n",
      "--------------------------------------------------\n",
      "XGBRegressor\n",
      "3.737545442772028\n",
      "--------------------------------------------------\n",
      "LGBMRegressor\n",
      "4.000697835704276\n",
      "--------------------------------------------------\n",
      "CatBoostRegressor\n",
      "3.6579532569392166\n"
     ]
    }
   ],
   "metadata": {}
  },
  {
   "cell_type": "code",
   "execution_count": 57,
   "source": [
    "regressor_models = [\r\n",
    "                    # LinearRegression      (),\r\n",
    "                    # Ridge                 (random_state=0),\r\n",
    "                    # Lasso                 (random_state=0),\r\n",
    "                    # ElasticNet            (random_state=0),\r\n",
    "                    # DecisionTreeRegressor (random_state=0),\r\n",
    "                    # RandomForestRegressor (random_state=0),\r\n",
    "                    XGBRegressor          (random_state=0),\r\n",
    "                    # LGBMRegressor         (random_state=0),\r\n",
    "                    # CatBoostRegressor     (random_state=0, verbose=0),\r\n",
    "                    ]\r\n",
    "\r\n",
    "for model in regressor_models:\r\n",
    "    \r\n",
    "    # 학습은 y_log : 음수를 없애기 위해\r\n",
    "    model.fit(X_train, y_train)\r\n",
    "    y_pred = model.predict(X_test)\r\n",
    "    \r\n",
    "    # 점수는 복원\r\n",
    "    y_test_exp = np.expm1(y_test)\r\n",
    "    y_pred_exp = np.expm1(y_pred)\r\n",
    "    \r\n",
    "    # msle, rmsle\r\n",
    "    msle  = mean_squared_error(y_test_exp, y_pred_exp)\r\n",
    "    rmsle = np.sqrt(msle)\r\n",
    "    \r\n",
    "    print('-' * 50)\r\n",
    "    print(model.__class__.__name__)\r\n",
    "    print(rmsle)"
   ],
   "outputs": [
    {
     "output_type": "stream",
     "name": "stdout",
     "text": [
      "--------------------------------------------------\n",
      "XGBRegressor\n",
      "3.737545442772028\n"
     ]
    }
   ],
   "metadata": {}
  },
  {
   "cell_type": "code",
   "execution_count": 58,
   "source": [
    "X_sub.shape"
   ],
   "outputs": [
    {
     "output_type": "execute_result",
     "data": {
      "text/plain": [
       "(6493, 104)"
      ]
     },
     "metadata": {},
     "execution_count": 58
    }
   ],
   "metadata": {}
  },
  {
   "cell_type": "code",
   "execution_count": 59,
   "source": [
    "# RMSLE는 under estimate할때 페널티가 크기 때문에,\r\n",
    "# 수치를 맞추기 위해서 보통 올림 처리"
   ],
   "outputs": [],
   "metadata": {}
  },
  {
   "cell_type": "code",
   "execution_count": 60,
   "source": [
    "y_sub['count'] = np.round(np.expm1(model.predict(X_sub))).astype(int)"
   ],
   "outputs": [],
   "metadata": {}
  },
  {
   "cell_type": "code",
   "execution_count": 61,
   "source": [
    "y_sub.head()"
   ],
   "outputs": [
    {
     "output_type": "execute_result",
     "data": {
      "text/html": [
       "<div>\n",
       "<style scoped>\n",
       "    .dataframe tbody tr th:only-of-type {\n",
       "        vertical-align: middle;\n",
       "    }\n",
       "\n",
       "    .dataframe tbody tr th {\n",
       "        vertical-align: top;\n",
       "    }\n",
       "\n",
       "    .dataframe thead th {\n",
       "        text-align: right;\n",
       "    }\n",
       "</style>\n",
       "<table border=\"1\" class=\"dataframe\">\n",
       "  <thead>\n",
       "    <tr style=\"text-align: right;\">\n",
       "      <th></th>\n",
       "      <th>datetime</th>\n",
       "      <th>count</th>\n",
       "    </tr>\n",
       "  </thead>\n",
       "  <tbody>\n",
       "    <tr>\n",
       "      <th>0</th>\n",
       "      <td>2011-01-20 00:00:00</td>\n",
       "      <td>1</td>\n",
       "    </tr>\n",
       "    <tr>\n",
       "      <th>1</th>\n",
       "      <td>2011-01-20 01:00:00</td>\n",
       "      <td>1</td>\n",
       "    </tr>\n",
       "    <tr>\n",
       "      <th>2</th>\n",
       "      <td>2011-01-20 02:00:00</td>\n",
       "      <td>1</td>\n",
       "    </tr>\n",
       "    <tr>\n",
       "      <th>3</th>\n",
       "      <td>2011-01-20 03:00:00</td>\n",
       "      <td>1</td>\n",
       "    </tr>\n",
       "    <tr>\n",
       "      <th>4</th>\n",
       "      <td>2011-01-20 04:00:00</td>\n",
       "      <td>1</td>\n",
       "    </tr>\n",
       "  </tbody>\n",
       "</table>\n",
       "</div>"
      ],
      "text/plain": [
       "              datetime  count\n",
       "0  2011-01-20 00:00:00      1\n",
       "1  2011-01-20 01:00:00      1\n",
       "2  2011-01-20 02:00:00      1\n",
       "3  2011-01-20 03:00:00      1\n",
       "4  2011-01-20 04:00:00      1"
      ]
     },
     "metadata": {},
     "execution_count": 61
    }
   ],
   "metadata": {}
  },
  {
   "cell_type": "code",
   "execution_count": 62,
   "source": [
    "y_sub.to_csv('./kaggle/bike_sharing_demand/submission_pjh.csv')"
   ],
   "outputs": [],
   "metadata": {}
  },
  {
   "cell_type": "code",
   "execution_count": 63,
   "source": [
    "y_sub = y_sub.set_index('datetime')\r\n",
    "y_sub.head()"
   ],
   "outputs": [
    {
     "output_type": "execute_result",
     "data": {
      "text/html": [
       "<div>\n",
       "<style scoped>\n",
       "    .dataframe tbody tr th:only-of-type {\n",
       "        vertical-align: middle;\n",
       "    }\n",
       "\n",
       "    .dataframe tbody tr th {\n",
       "        vertical-align: top;\n",
       "    }\n",
       "\n",
       "    .dataframe thead th {\n",
       "        text-align: right;\n",
       "    }\n",
       "</style>\n",
       "<table border=\"1\" class=\"dataframe\">\n",
       "  <thead>\n",
       "    <tr style=\"text-align: right;\">\n",
       "      <th></th>\n",
       "      <th>count</th>\n",
       "    </tr>\n",
       "    <tr>\n",
       "      <th>datetime</th>\n",
       "      <th></th>\n",
       "    </tr>\n",
       "  </thead>\n",
       "  <tbody>\n",
       "    <tr>\n",
       "      <th>2011-01-20 00:00:00</th>\n",
       "      <td>1</td>\n",
       "    </tr>\n",
       "    <tr>\n",
       "      <th>2011-01-20 01:00:00</th>\n",
       "      <td>1</td>\n",
       "    </tr>\n",
       "    <tr>\n",
       "      <th>2011-01-20 02:00:00</th>\n",
       "      <td>1</td>\n",
       "    </tr>\n",
       "    <tr>\n",
       "      <th>2011-01-20 03:00:00</th>\n",
       "      <td>1</td>\n",
       "    </tr>\n",
       "    <tr>\n",
       "      <th>2011-01-20 04:00:00</th>\n",
       "      <td>1</td>\n",
       "    </tr>\n",
       "  </tbody>\n",
       "</table>\n",
       "</div>"
      ],
      "text/plain": [
       "                     count\n",
       "datetime                  \n",
       "2011-01-20 00:00:00      1\n",
       "2011-01-20 01:00:00      1\n",
       "2011-01-20 02:00:00      1\n",
       "2011-01-20 03:00:00      1\n",
       "2011-01-20 04:00:00      1"
      ]
     },
     "metadata": {},
     "execution_count": 63
    }
   ],
   "metadata": {}
  },
  {
   "cell_type": "code",
   "execution_count": 64,
   "source": [
    "y_sub.to_csv('./kaggle/bike_sharing_demand/submission_pjh.csv')"
   ],
   "outputs": [],
   "metadata": {}
  },
  {
   "cell_type": "code",
   "execution_count": null,
   "source": [],
   "outputs": [],
   "metadata": {}
  },
  {
   "cell_type": "code",
   "execution_count": null,
   "source": [
    "# https://www.kaggle.com/c/house-prices-advanced-regression-techniques/data"
   ],
   "outputs": [],
   "metadata": {}
  },
  {
   "cell_type": "code",
   "execution_count": null,
   "source": [],
   "outputs": [],
   "metadata": {}
  },
  {
   "cell_type": "code",
   "execution_count": null,
   "source": [],
   "outputs": [],
   "metadata": {}
  },
  {
   "cell_type": "markdown",
   "source": [
    "# overfitting 해결"
   ],
   "metadata": {}
  },
  {
   "cell_type": "code",
   "execution_count": null,
   "source": [],
   "outputs": [],
   "metadata": {}
  },
  {
   "cell_type": "code",
   "execution_count": null,
   "source": [],
   "outputs": [],
   "metadata": {}
  },
  {
   "cell_type": "code",
   "execution_count": null,
   "source": [],
   "outputs": [],
   "metadata": {}
  },
  {
   "cell_type": "markdown",
   "source": [
    "# df03"
   ],
   "metadata": {}
  },
  {
   "cell_type": "code",
   "execution_count": 65,
   "source": [
    "# boosting은 overfitting 자주 발생\r\n",
    "df03 = df02"
   ],
   "outputs": [],
   "metadata": {}
  },
  {
   "cell_type": "code",
   "execution_count": null,
   "source": [],
   "outputs": [],
   "metadata": {}
  },
  {
   "cell_type": "code",
   "execution_count": null,
   "source": [],
   "outputs": [],
   "metadata": {}
  },
  {
   "cell_type": "code",
   "execution_count": null,
   "source": [],
   "outputs": [],
   "metadata": {}
  },
  {
   "cell_type": "code",
   "execution_count": null,
   "source": [],
   "outputs": [],
   "metadata": {}
  },
  {
   "cell_type": "code",
   "execution_count": null,
   "source": [],
   "outputs": [],
   "metadata": {}
  },
  {
   "cell_type": "code",
   "execution_count": 66,
   "source": [
    "break"
   ],
   "outputs": [
    {
     "output_type": "error",
     "ename": "SyntaxError",
     "evalue": "'break' outside loop (Temp/ipykernel_8620/668683560.py, line 1)",
     "traceback": [
      "\u001b[1;36m  File \u001b[1;32m\"C:\\Users\\674\\AppData\\Local\\Temp/ipykernel_8620/668683560.py\"\u001b[1;36m, line \u001b[1;32m1\u001b[0m\n\u001b[1;33m    break\u001b[0m\n\u001b[1;37m    ^\u001b[0m\n\u001b[1;31mSyntaxError\u001b[0m\u001b[1;31m:\u001b[0m 'break' outside loop\n"
     ]
    }
   ],
   "metadata": {}
  },
  {
   "cell_type": "code",
   "execution_count": null,
   "source": [],
   "outputs": [],
   "metadata": {}
  },
  {
   "cell_type": "code",
   "execution_count": null,
   "source": [],
   "outputs": [],
   "metadata": {}
  },
  {
   "cell_type": "code",
   "execution_count": null,
   "source": [],
   "outputs": [],
   "metadata": {}
  },
  {
   "cell_type": "code",
   "execution_count": null,
   "source": [],
   "outputs": [],
   "metadata": {}
  },
  {
   "cell_type": "code",
   "execution_count": null,
   "source": [],
   "outputs": [],
   "metadata": {}
  }
 ],
 "metadata": {
  "orig_nbformat": 4,
  "language_info": {
   "name": "python",
   "version": "3.8.8",
   "mimetype": "text/x-python",
   "codemirror_mode": {
    "name": "ipython",
    "version": 3
   },
   "pygments_lexer": "ipython3",
   "nbconvert_exporter": "python",
   "file_extension": ".py"
  },
  "kernelspec": {
   "name": "python3",
   "display_name": "Python 3.8.8 64-bit ('venv': venv)"
  },
  "interpreter": {
   "hash": "c3102799280f1ed23787b1be8e33b065cea14d14e60df4daed798ef8bab0b32c"
  }
 },
 "nbformat": 4,
 "nbformat_minor": 2
}