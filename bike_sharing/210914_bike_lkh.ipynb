{
 "cells": [
  {
   "cell_type": "markdown",
   "id": "certified-machinery",
   "metadata": {},
   "source": [
    "<img src=\"logo.png\">  <br>\n",
    "* ref : https://www.kaggle.com/c/bike-sharing-demand/overview/evaluation"
   ]
  },
  {
   "cell_type": "code",
   "execution_count": 1,
   "id": "representative-environment",
   "metadata": {},
   "outputs": [],
   "source": [
    "import pandas as pd\n",
    "import numpy as np\n",
    "import matplotlib.pyplot as plt\n",
    "import seaborn as sns\n",
    "import warnings\n",
    "warnings.filterwarnings(action='ignore')\n",
    "\n",
    "# -------------------------------------------------\n",
    "from sklearn.linear_model import LinearRegression, Ridge, Lasso, ElasticNet\n",
    "from sklearn.ensemble import RandomForestRegressor\n",
    "from sklearn.tree import DecisionTreeRegressor\n",
    "from xgboost import XGBRegressor\n",
    "from lightgbm import LGBMRegressor\n",
    "\n",
    "\n",
    "from sklearn.model_selection import GridSearchCV, train_test_split\n",
    "from sklearn.metrics import mean_squared_log_error\n",
    "from sklearn.preprocessing import StandardScaler\n",
    "from sklearn.decomposition import PCA\n",
    "from scipy.stats import skew, kurtosis\n",
    "\n",
    "sns.set()"
   ]
  },
  {
   "cell_type": "code",
   "execution_count": 2,
   "id": "consecutive-google",
   "metadata": {},
   "outputs": [],
   "source": [
    "train = pd.read_csv(\"./bike-sharing-demand/train.csv\")\n",
    "test = pd.read_csv(\"./bike-sharing-demand/test.csv\")\n",
    "sub = pd.read_csv(\"./bike-sharing-demand/sampleSubmission.csv\")\n"
   ]
  },
  {
   "cell_type": "code",
   "execution_count": 3,
   "id": "boxed-drawing",
   "metadata": {},
   "outputs": [
    {
     "data": {
      "text/plain": [
       "((10886, 12), (6493, 9))"
      ]
     },
     "execution_count": 3,
     "metadata": {},
     "output_type": "execute_result"
    }
   ],
   "source": [
    "train.shape, test.shape"
   ]
  },
  {
   "cell_type": "code",
   "execution_count": 4,
   "id": "former-gnome",
   "metadata": {},
   "outputs": [
    {
     "name": "stdout",
     "output_type": "stream",
     "text": [
      "<class 'pandas.core.frame.DataFrame'>\n",
      "RangeIndex: 10886 entries, 0 to 10885\n",
      "Data columns (total 12 columns):\n",
      " #   Column      Non-Null Count  Dtype  \n",
      "---  ------      --------------  -----  \n",
      " 0   datetime    10886 non-null  object \n",
      " 1   season      10886 non-null  int64  \n",
      " 2   holiday     10886 non-null  int64  \n",
      " 3   workingday  10886 non-null  int64  \n",
      " 4   weather     10886 non-null  int64  \n",
      " 5   temp        10886 non-null  float64\n",
      " 6   atemp       10886 non-null  float64\n",
      " 7   humidity    10886 non-null  int64  \n",
      " 8   windspeed   10886 non-null  float64\n",
      " 9   casual      10886 non-null  int64  \n",
      " 10  registered  10886 non-null  int64  \n",
      " 11  count       10886 non-null  int64  \n",
      "dtypes: float64(3), int64(8), object(1)\n",
      "memory usage: 1020.7+ KB\n"
     ]
    }
   ],
   "source": [
    "train.info()"
   ]
  },
  {
   "cell_type": "code",
   "execution_count": 5,
   "id": "framed-charge",
   "metadata": {},
   "outputs": [
    {
     "name": "stdout",
     "output_type": "stream",
     "text": [
      "<class 'pandas.core.frame.DataFrame'>\n",
      "RangeIndex: 6493 entries, 0 to 6492\n",
      "Data columns (total 9 columns):\n",
      " #   Column      Non-Null Count  Dtype  \n",
      "---  ------      --------------  -----  \n",
      " 0   datetime    6493 non-null   object \n",
      " 1   season      6493 non-null   int64  \n",
      " 2   holiday     6493 non-null   int64  \n",
      " 3   workingday  6493 non-null   int64  \n",
      " 4   weather     6493 non-null   int64  \n",
      " 5   temp        6493 non-null   float64\n",
      " 6   atemp       6493 non-null   float64\n",
      " 7   humidity    6493 non-null   int64  \n",
      " 8   windspeed   6493 non-null   float64\n",
      "dtypes: float64(3), int64(5), object(1)\n",
      "memory usage: 456.7+ KB\n"
     ]
    }
   ],
   "source": [
    "test.info()"
   ]
  },
  {
   "cell_type": "code",
   "execution_count": 6,
   "id": "radical-stone",
   "metadata": {},
   "outputs": [
    {
     "data": {
      "text/html": [
       "<div>\n",
       "<style scoped>\n",
       "    .dataframe tbody tr th:only-of-type {\n",
       "        vertical-align: middle;\n",
       "    }\n",
       "\n",
       "    .dataframe tbody tr th {\n",
       "        vertical-align: top;\n",
       "    }\n",
       "\n",
       "    .dataframe thead th {\n",
       "        text-align: right;\n",
       "    }\n",
       "</style>\n",
       "<table border=\"1\" class=\"dataframe\">\n",
       "  <thead>\n",
       "    <tr style=\"text-align: right;\">\n",
       "      <th></th>\n",
       "      <th>datetime</th>\n",
       "      <th>season</th>\n",
       "      <th>holiday</th>\n",
       "      <th>workingday</th>\n",
       "      <th>weather</th>\n",
       "      <th>temp</th>\n",
       "      <th>atemp</th>\n",
       "      <th>humidity</th>\n",
       "      <th>windspeed</th>\n",
       "      <th>casual</th>\n",
       "      <th>registered</th>\n",
       "      <th>count</th>\n",
       "    </tr>\n",
       "  </thead>\n",
       "  <tbody>\n",
       "    <tr>\n",
       "      <th>0</th>\n",
       "      <td>2011-01-01 00:00:00</td>\n",
       "      <td>1</td>\n",
       "      <td>0</td>\n",
       "      <td>0</td>\n",
       "      <td>1</td>\n",
       "      <td>9.84</td>\n",
       "      <td>14.395</td>\n",
       "      <td>81</td>\n",
       "      <td>0.0</td>\n",
       "      <td>3</td>\n",
       "      <td>13</td>\n",
       "      <td>16</td>\n",
       "    </tr>\n",
       "    <tr>\n",
       "      <th>1</th>\n",
       "      <td>2011-01-01 01:00:00</td>\n",
       "      <td>1</td>\n",
       "      <td>0</td>\n",
       "      <td>0</td>\n",
       "      <td>1</td>\n",
       "      <td>9.02</td>\n",
       "      <td>13.635</td>\n",
       "      <td>80</td>\n",
       "      <td>0.0</td>\n",
       "      <td>8</td>\n",
       "      <td>32</td>\n",
       "      <td>40</td>\n",
       "    </tr>\n",
       "    <tr>\n",
       "      <th>2</th>\n",
       "      <td>2011-01-01 02:00:00</td>\n",
       "      <td>1</td>\n",
       "      <td>0</td>\n",
       "      <td>0</td>\n",
       "      <td>1</td>\n",
       "      <td>9.02</td>\n",
       "      <td>13.635</td>\n",
       "      <td>80</td>\n",
       "      <td>0.0</td>\n",
       "      <td>5</td>\n",
       "      <td>27</td>\n",
       "      <td>32</td>\n",
       "    </tr>\n",
       "    <tr>\n",
       "      <th>3</th>\n",
       "      <td>2011-01-01 03:00:00</td>\n",
       "      <td>1</td>\n",
       "      <td>0</td>\n",
       "      <td>0</td>\n",
       "      <td>1</td>\n",
       "      <td>9.84</td>\n",
       "      <td>14.395</td>\n",
       "      <td>75</td>\n",
       "      <td>0.0</td>\n",
       "      <td>3</td>\n",
       "      <td>10</td>\n",
       "      <td>13</td>\n",
       "    </tr>\n",
       "    <tr>\n",
       "      <th>4</th>\n",
       "      <td>2011-01-01 04:00:00</td>\n",
       "      <td>1</td>\n",
       "      <td>0</td>\n",
       "      <td>0</td>\n",
       "      <td>1</td>\n",
       "      <td>9.84</td>\n",
       "      <td>14.395</td>\n",
       "      <td>75</td>\n",
       "      <td>0.0</td>\n",
       "      <td>0</td>\n",
       "      <td>1</td>\n",
       "      <td>1</td>\n",
       "    </tr>\n",
       "  </tbody>\n",
       "</table>\n",
       "</div>"
      ],
      "text/plain": [
       "              datetime  season  holiday  workingday  weather  temp   atemp  \\\n",
       "0  2011-01-01 00:00:00       1        0           0        1  9.84  14.395   \n",
       "1  2011-01-01 01:00:00       1        0           0        1  9.02  13.635   \n",
       "2  2011-01-01 02:00:00       1        0           0        1  9.02  13.635   \n",
       "3  2011-01-01 03:00:00       1        0           0        1  9.84  14.395   \n",
       "4  2011-01-01 04:00:00       1        0           0        1  9.84  14.395   \n",
       "\n",
       "   humidity  windspeed  casual  registered  count  \n",
       "0        81        0.0       3          13     16  \n",
       "1        80        0.0       8          32     40  \n",
       "2        80        0.0       5          27     32  \n",
       "3        75        0.0       3          10     13  \n",
       "4        75        0.0       0           1      1  "
      ]
     },
     "execution_count": 6,
     "metadata": {},
     "output_type": "execute_result"
    }
   ],
   "source": [
    "train.head()"
   ]
  },
  {
   "cell_type": "markdown",
   "id": "about-bachelor",
   "metadata": {},
   "source": [
    "## target "
   ]
  },
  {
   "cell_type": "markdown",
   "id": "federal-commander",
   "metadata": {},
   "source": [
    "#### casual + registered = count\n",
    "* casual, registered 삭제\n",
    "* target 불균형 확인"
   ]
  },
  {
   "cell_type": "code",
   "execution_count": 7,
   "id": "thrown-refund",
   "metadata": {},
   "outputs": [
    {
     "name": "stdout",
     "output_type": "stream",
     "text": [
      "(10886, 12)\n"
     ]
    }
   ],
   "source": [
    "train_cp = train.copy()\n",
    "print(train_cp.shape)\n",
    "# casual + registered\n",
    "train_cp['cr']=train_cp['casual'] + train_cp['registered']\n",
    "# train_cp[['casual','registered','count','cr' ]].head(20) \n",
    "#cr count  : 일치하지않는 레코드\n",
    "train_cp[train_cp['count'] != train_cp['cr']]['cr'].count()\n",
    "del train_cp"
   ]
  },
  {
   "cell_type": "code",
   "execution_count": 8,
   "id": "streaming-nigeria",
   "metadata": {},
   "outputs": [],
   "source": [
    "train.drop(['casual', 'registered' ], axis=1, inplace=True)"
   ]
  },
  {
   "cell_type": "markdown",
   "id": "cutting-discrimination",
   "metadata": {},
   "source": [
    "## Object 타입 처리 "
   ]
  },
  {
   "cell_type": "code",
   "execution_count": 9,
   "id": "periodic-belgium",
   "metadata": {},
   "outputs": [],
   "source": [
    "for df in [train, test]:\n",
    "    df['datetime'] = pd.to_datetime(df['datetime'])\n",
    "    # df['datetime'] = df['datetime'].astype('datetime64')\n",
    "\n",
    "    df['year'] = df['datetime'].dt.year\n",
    "    df['month'] = df['datetime'].dt.month\n",
    "    df['day'] = df['datetime'].dt.day\n",
    "    df['hour'] = df['datetime'].dt.hour\n",
    "    df['week'] = df['datetime'].dt.dayofweek  #월0  ~일6\n",
    "    \n",
    "    df.drop(['datetime'], axis=1, inplace=True)  #--- drop"
   ]
  },
  {
   "cell_type": "code",
   "execution_count": 10,
   "id": "c81bde2c-c696-41d6-93ee-8fedda70d823",
   "metadata": {},
   "outputs": [
    {
     "data": {
      "text/plain": [
       "(1, 19)"
      ]
     },
     "execution_count": 10,
     "metadata": {},
     "output_type": "execute_result"
    }
   ],
   "source": [
    "train[(train['year']==2011) & (train['month']==1)]['day'].min(), train[(train['year']==2011) & (train['month']==1)]['day'].max()"
   ]
  },
  {
   "cell_type": "code",
   "execution_count": 11,
   "id": "174ec571-e353-4eca-8dcf-43c53027106b",
   "metadata": {},
   "outputs": [
    {
     "data": {
      "text/plain": [
       "(20, 31)"
      ]
     },
     "execution_count": 11,
     "metadata": {},
     "output_type": "execute_result"
    }
   ],
   "source": [
    "test[(test['year']==2011) & (test['month']==1)]['day'].min(), test[(test['year']==2011) & (test['month']==1)]['day'].max()"
   ]
  },
  {
   "cell_type": "markdown",
   "id": "compliant-climate",
   "metadata": {},
   "source": [
    "## 1차점수 : 무조건 점수보다 보자(object x,  nan x)"
   ]
  },
  {
   "cell_type": "markdown",
   "id": "trained-parallel",
   "metadata": {},
   "source": [
    "#### 데이터 분리"
   ]
  },
  {
   "cell_type": "markdown",
   "id": "enclosed-leone",
   "metadata": {},
   "source": [
    "#### 모델\n",
    "* 랏쏘 : L1규제 -->  x|w|  중요하지 않은 피쳐의 회귀계수를 0으로 만들수 있다.\n",
    "* 릿지 : L2규제 -->  xw^2  중요하지 않은 피쳐의 회귀계수를 0에 가깝게 만든다.(피쳐가 없어지진 않는다)\n",
    "* ElasicNet , XGBoostRegressor , LightGBMRegressor, *TreeRegressor\n",
    "* LogisticRegressor는 분류모델이다 ******"
   ]
  },
  {
   "cell_type": "markdown",
   "id": "interested-singing",
   "metadata": {
    "tags": []
   },
   "source": [
    "#### 평가 매트릭스 \n",
    "* RMSLE  -- np.sqrt(MSLE)\n",
    "* ‘neg_mean_squared_log_error’   metrics.mean_squared_log_error\n",
    "* RMSLE = $\\sqrt{\\frac{1}{n} \\sum_{i=1}^n (log(\\hat y_i+1) - log(y_i+1))^2 } $ = \n",
    " $\\sqrt{\\frac{1}{n} \\sum_{i=1}^n (\\frac{log(\\hat y_i+1)}{log(y_i+1)})^2 } $\n",
    " ---\n",
    "* <font color=red>$2^x=3$  -->  $log_2 x=3 $  -->   x=$log_2 3 $</font>\n",
    "* $log_a b$,  a≠1, a>0, b>0 \n",
    "* <img src=log.png width=300> \n",
    "* <img src=https://t1.daumcdn.net/cfile/tistory/20074646510B224B07 width=180> \n",
    "* <font color=red>a가 음수인 경우</font><img src=https://t1.daumcdn.net/cfile/tistory/1623C040510B2A2D25 width=300>\n",
    "* <font color=red>b가 음수인 경우</font><img src='https://t1.daumcdn.net/cfile/tistory/14420C3D510B36C00B'  width=230>\n",
    "* <font color=red>b가 0인 경우</font>     $log(y)$는 마이너스 무한대이므로 이를 보정해주기 위해 +1\n",
    "* <font color=red>$10^x=0$  -->  x=$log (0) $</font>\n",
    "---\n",
    "<pre>\n",
    "<font color='blue'>1) 상대적 Error 측정</font>\n",
    "  예측값 = 100,    실제값 = 90일 때,    RMSE = 10,    RMSLE = 0.1053\n",
    "  예측값 = 10,000, 실제값 = 9,000일 때, RMSE = 1,000, RMSLE = 0.1053\n",
    "<font color='blue'>2) Outlier에 강건</font>\n",
    "  예측값 = 67, 78, 91,      실제값 = 60, 80, 90일 때,     RMSE = 4.242,   RMSLE = 0.6466\n",
    "  예측값 = 67, 78, 91, 102, 실제값 = 60, 80, 90, 750일 때 RMSE = 374.724, RMSLE = 1.160\n",
    "<font color='blue'>3) Under Estimation에 큰 패널티 부여</font>\n",
    "   Over Estimation(예측값>실제값) , Under Estimation(예측값＜실제값)\n",
    "   예측값 = 600,   실제값 = 1,000일 때 RMSE = 400, RMSLE = 0.510\n",
    "   예측값 = 1,400, 실제값 = 1,000일 때 RMSE = 400, RMSLE = 0.33\n",
    "   <img src=https://upload.wikimedia.org/wikipedia/commons/thumb/7/73/Logarithms.svg/473px-Logarithms.svg.png width=200>"
   ]
  },
  {
   "cell_type": "markdown",
   "id": "indie-policy",
   "metadata": {},
   "source": [
    "## 1차 점수확인 : 무조건 점수부터 보자(결측x, object X)"
   ]
  },
  {
   "cell_type": "code",
   "execution_count": 12,
   "id": "virgin-bubble",
   "metadata": {},
   "outputs": [],
   "source": [
    "y = train['count']\n",
    "X = train.drop(['count'], axis=1)"
   ]
  },
  {
   "cell_type": "code",
   "execution_count": 13,
   "id": "progressive-exclusive",
   "metadata": {},
   "outputs": [
    {
     "data": {
      "text/plain": [
       "((10886,), (10886, 13))"
      ]
     },
     "execution_count": 13,
     "metadata": {},
     "output_type": "execute_result"
    }
   ],
   "source": [
    "y.shape , X.shape"
   ]
  },
  {
   "cell_type": "code",
   "execution_count": 14,
   "id": "9b193177-4259-4b2d-b135-e43e2fe4c37e",
   "metadata": {},
   "outputs": [
    {
     "data": {
      "image/png": "[encoded data removed]",
      "text/plain": [
       "<Figure size 216x144 with 1 Axes>"
      ]
     },
     "metadata": {},
     "output_type": "display_data"
    },
    {
     "data": {
      "image/png": "[encoded data removed]",
      "text/plain": [
       "<Figure size 216x144 with 1 Axes>"
      ]
     },
     "metadata": {},
     "output_type": "display_data"
    }
   ],
   "source": [
    "y.hist(figsize=(3,2))\n",
    "plt.show()\n",
    "\n",
    "y_log = np.log1p(y)\n",
    "y_log.hist(figsize=(3,2))\n",
    "plt.show()"
   ]
  },
  {
   "cell_type": "code",
   "execution_count": 15,
   "id": "consecutive-devil",
   "metadata": {},
   "outputs": [
    {
     "name": "stdout",
     "output_type": "stream",
     "text": [
      "LinearRegression\t RMSLE:0.9976\n",
      "Ridge\t RMSLE:0.9976\n",
      "Lasso\t RMSLE:1.0482\n",
      "ElasticNet\t RMSLE:1.0286\n",
      "DecisionTreeRegressor\t RMSLE:0.4285\n",
      "XGBRegressor\t RMSLE:0.2763\n",
      "LGBMRegressor\t RMSLE:0.2791\n"
     ]
    }
   ],
   "source": [
    "X_train, X_val, y_train, y_val =train_test_split(X, y_log, test_size=0.2, random_state=1414)\n",
    "models = [LinearRegression(), Ridge(), Lasso(), ElasticNet(), DecisionTreeRegressor(),XGBRegressor(), LGBMRegressor()]\n",
    "for model in models:\n",
    "    model.fit(X_train,  y_train)\n",
    "    pred = model.predict(X_val)\n",
    "    \n",
    "    #--------error : Mean Squared Logarithmic Error cannot be used when targets contain negative values.\n",
    "    #--------로그값y를 지수화해서 원래값으로 복원\n",
    "    y_val_exp = np.expm1(y_val) \n",
    "    pred_exp = np.expm1(pred)\n",
    "    msle = mean_squared_log_error(y_val_exp, pred_exp)\n",
    "    rmsle = np.sqrt(msle)\n",
    "    print(f\"{model.__class__.__name__}\\t RMSLE:{rmsle:.4f}\")    \n",
    "\n",
    "\n",
    "#  목표점수 ----------- 0.33756  ~ 4.76188\n",
    "#  pred = abs(bagging_model.predict(X_test))              0.4103   Rank.340\n",
    "#  score = np.sqrt(mean_squared_log_error(y_test, pred))  0.3408   Rank.2\n",
    "  "
   ]
  },
  {
   "cell_type": "markdown",
   "id": "89eb9f3d-9584-4823-8afe-1c872e34e97d",
   "metadata": {},
   "source": [
    "## 1차 제출파일 -->  submission.csv --> 오버피팅이 안걸린 약 학습상태"
   ]
  },
  {
   "cell_type": "code",
   "execution_count": 16,
   "id": "68c586a5-0607-459a-a10b-ef4ba89bd512",
   "metadata": {},
   "outputs": [],
   "source": [
    "pred = model.predict(test)\n",
    "pred_exp = np.expm1(pred)\n",
    "sub['count']  =  np.round(pred_exp).astype(int) \n",
    "sub.to_csv(\"lkh_v0.csv\", index=False)"
   ]
  },
  {
   "cell_type": "markdown",
   "id": "c1f432c8-8579-480a-9452-60802231c715",
   "metadata": {},
   "source": [
    "## 공통함수"
   ]
  },
  {
   "cell_type": "code",
   "execution_count": 17,
   "id": "223684c1-d99e-4f8a-bfd1-d3287efdc1fe",
   "metadata": {},
   "outputs": [],
   "source": [
    "def my_score(y_val, pred):\n",
    "    y_val_exp = np.expm1(y_val) \n",
    "    pred_exp = np.expm1(pred)\n",
    "    msle = mean_squared_log_error(y_val_exp, pred_exp)\n",
    "    rmsle = np.sqrt(msle)\n",
    "    print(f\"{model.__class__.__name__}\\t RMSLE:{rmsle:.4f}\")   \n",
    "    return rmsle"
   ]
  },
  {
   "cell_type": "code",
   "execution_count": 18,
   "id": "03a74808-36a7-4727-95cd-d234cbab69e6",
   "metadata": {},
   "outputs": [
    {
     "name": "stdout",
     "output_type": "stream",
     "text": [
      "LGBMRegressor\t RMSLE:0.2791\n"
     ]
    }
   ],
   "source": [
    "models = [LGBMRegressor()]\n",
    "for model in models:  #X_train, X_val, y_train, y_val\n",
    "    model.fit(X_train,  y_train)\n",
    "    pred = model.predict(X_val)\n",
    "    my_score(y_val, pred)"
   ]
  },
  {
   "cell_type": "markdown",
   "id": "afraid-behavior",
   "metadata": {},
   "source": [
    "## 상관분석"
   ]
  },
  {
   "cell_type": "code",
   "execution_count": 19,
   "id": "coastal-lawyer",
   "metadata": {},
   "outputs": [
    {
     "data": {
      "text/plain": [
       "<AxesSubplot:>"
      ]
     },
     "execution_count": 19,
     "metadata": {},
     "output_type": "execute_result"
    },
    {
     "data": {
      "image/png": "[encoded data removed]",
      "text/plain": [
       "<Figure size 576x432 with 2 Axes>"
      ]
     },
     "metadata": {},
     "output_type": "display_data"
    }
   ],
   "source": [
    "fig, ax = plt.subplots(figsize=(8,6))\n",
    "sns.heatmap(train.corr(), fmt='.2f', annot=True, cmap='Blues')"
   ]
  },
  {
   "cell_type": "markdown",
   "id": "three-maldives",
   "metadata": {},
   "source": [
    "* count ==> temp, atemp, hour    \n",
    "* season & month : 0.97 강하게 다중공선 \n",
    "* atemp,  temp 강하게 다중공선    \n",
    "* humidity(습도), weather : 0.41\n",
    "* week , workingday : -0.70"
   ]
  },
  {
   "cell_type": "markdown",
   "id": "meaningful-customs",
   "metadata": {},
   "source": [
    "### 1) season month"
   ]
  },
  {
   "cell_type": "code",
   "execution_count": 20,
   "id": "false-gravity",
   "metadata": {},
   "outputs": [
    {
     "data": {
      "text/plain": [
       "array([1, 2, 3, 4], dtype=int64)"
      ]
     },
     "execution_count": 20,
     "metadata": {},
     "output_type": "execute_result"
    }
   ],
   "source": [
    "train['season'].unique()"
   ]
  },
  {
   "cell_type": "code",
   "execution_count": 21,
   "id": "mineral-outdoors",
   "metadata": {},
   "outputs": [
    {
     "data": {
      "text/plain": [
       "array([ 1,  2,  3,  4,  5,  6,  7,  8,  9, 10, 11, 12], dtype=int64)"
      ]
     },
     "execution_count": 21,
     "metadata": {},
     "output_type": "execute_result"
    }
   ],
   "source": [
    "train['month'].unique()"
   ]
  },
  {
   "cell_type": "code",
   "execution_count": 22,
   "id": "rural-watson",
   "metadata": {},
   "outputs": [
    {
     "data": {
      "text/plain": [
       "season  month\n",
       "1       1        884\n",
       "        2        901\n",
       "        3        901\n",
       "2       4        909\n",
       "3       9        909\n",
       "4       10       911\n",
       "        11       911\n",
       "2       5        912\n",
       "        6        912\n",
       "3       7        912\n",
       "        8        912\n",
       "4       12       912\n",
       "dtype: int64"
      ]
     },
     "execution_count": 22,
     "metadata": {},
     "output_type": "execute_result"
    }
   ],
   "source": [
    "train[['season','month']].value_counts().sort_values()"
   ]
  },
  {
   "cell_type": "code",
   "execution_count": 23,
   "id": "median-scroll",
   "metadata": {},
   "outputs": [
    {
     "data": {
      "image/png": "[encoded data removed]",
      "text/plain": [
       "<Figure size 432x288 with 1 Axes>"
      ]
     },
     "metadata": {},
     "output_type": "display_data"
    }
   ],
   "source": [
    "sns.barplot(x='season', y=\"count\", data=train)\n",
    "plt.show()"
   ]
  },
  {
   "cell_type": "code",
   "execution_count": 24,
   "id": "liable-bruce",
   "metadata": {},
   "outputs": [
    {
     "data": {
      "image/png": "[encoded data removed]",
      "text/plain": [
       "<Figure size 432x288 with 1 Axes>"
      ]
     },
     "metadata": {},
     "output_type": "display_data"
    }
   ],
   "source": [
    "sns.barplot(x='month', y=\"count\", data=train)\n",
    "plt.show()"
   ]
  },
  {
   "cell_type": "code",
   "execution_count": 25,
   "id": "stunning-hometown",
   "metadata": {},
   "outputs": [
    {
     "data": {
      "text/html": [
       "<div>\n",
       "<style scoped>\n",
       "    .dataframe tbody tr th:only-of-type {\n",
       "        vertical-align: middle;\n",
       "    }\n",
       "\n",
       "    .dataframe tbody tr th {\n",
       "        vertical-align: top;\n",
       "    }\n",
       "\n",
       "    .dataframe thead th {\n",
       "        text-align: right;\n",
       "    }\n",
       "</style>\n",
       "<table border=\"1\" class=\"dataframe\">\n",
       "  <thead>\n",
       "    <tr style=\"text-align: right;\">\n",
       "      <th>month</th>\n",
       "      <th>1</th>\n",
       "      <th>2</th>\n",
       "      <th>3</th>\n",
       "      <th>4</th>\n",
       "      <th>5</th>\n",
       "      <th>6</th>\n",
       "      <th>7</th>\n",
       "      <th>8</th>\n",
       "      <th>9</th>\n",
       "      <th>10</th>\n",
       "      <th>11</th>\n",
       "      <th>12</th>\n",
       "    </tr>\n",
       "    <tr>\n",
       "      <th>season</th>\n",
       "      <th></th>\n",
       "      <th></th>\n",
       "      <th></th>\n",
       "      <th></th>\n",
       "      <th></th>\n",
       "      <th></th>\n",
       "      <th></th>\n",
       "      <th></th>\n",
       "      <th></th>\n",
       "      <th></th>\n",
       "      <th></th>\n",
       "      <th></th>\n",
       "    </tr>\n",
       "  </thead>\n",
       "  <tbody>\n",
       "    <tr>\n",
       "      <th>1</th>\n",
       "      <td>884</td>\n",
       "      <td>901</td>\n",
       "      <td>901</td>\n",
       "      <td>0</td>\n",
       "      <td>0</td>\n",
       "      <td>0</td>\n",
       "      <td>0</td>\n",
       "      <td>0</td>\n",
       "      <td>0</td>\n",
       "      <td>0</td>\n",
       "      <td>0</td>\n",
       "      <td>0</td>\n",
       "    </tr>\n",
       "    <tr>\n",
       "      <th>2</th>\n",
       "      <td>0</td>\n",
       "      <td>0</td>\n",
       "      <td>0</td>\n",
       "      <td>909</td>\n",
       "      <td>912</td>\n",
       "      <td>912</td>\n",
       "      <td>0</td>\n",
       "      <td>0</td>\n",
       "      <td>0</td>\n",
       "      <td>0</td>\n",
       "      <td>0</td>\n",
       "      <td>0</td>\n",
       "    </tr>\n",
       "    <tr>\n",
       "      <th>3</th>\n",
       "      <td>0</td>\n",
       "      <td>0</td>\n",
       "      <td>0</td>\n",
       "      <td>0</td>\n",
       "      <td>0</td>\n",
       "      <td>0</td>\n",
       "      <td>912</td>\n",
       "      <td>912</td>\n",
       "      <td>909</td>\n",
       "      <td>0</td>\n",
       "      <td>0</td>\n",
       "      <td>0</td>\n",
       "    </tr>\n",
       "    <tr>\n",
       "      <th>4</th>\n",
       "      <td>0</td>\n",
       "      <td>0</td>\n",
       "      <td>0</td>\n",
       "      <td>0</td>\n",
       "      <td>0</td>\n",
       "      <td>0</td>\n",
       "      <td>0</td>\n",
       "      <td>0</td>\n",
       "      <td>0</td>\n",
       "      <td>911</td>\n",
       "      <td>911</td>\n",
       "      <td>912</td>\n",
       "    </tr>\n",
       "  </tbody>\n",
       "</table>\n",
       "</div>"
      ],
      "text/plain": [
       "month    1    2    3    4    5    6    7    8    9    10   11   12\n",
       "season                                                            \n",
       "1       884  901  901    0    0    0    0    0    0    0    0    0\n",
       "2         0    0    0  909  912  912    0    0    0    0    0    0\n",
       "3         0    0    0    0    0    0  912  912  909    0    0    0\n",
       "4         0    0    0    0    0    0    0    0    0  911  911  912"
      ]
     },
     "execution_count": 25,
     "metadata": {},
     "output_type": "execute_result"
    }
   ],
   "source": [
    "pd.crosstab(train['season'], train['month'])"
   ]
  },
  {
   "cell_type": "code",
   "execution_count": 26,
   "id": "northern-smart",
   "metadata": {},
   "outputs": [
    {
     "data": {
      "text/html": [
       "<div>\n",
       "<style scoped>\n",
       "    .dataframe tbody tr th:only-of-type {\n",
       "        vertical-align: middle;\n",
       "    }\n",
       "\n",
       "    .dataframe tbody tr th {\n",
       "        vertical-align: top;\n",
       "    }\n",
       "\n",
       "    .dataframe thead th {\n",
       "        text-align: right;\n",
       "    }\n",
       "</style>\n",
       "<table border=\"1\" class=\"dataframe\">\n",
       "  <thead>\n",
       "    <tr style=\"text-align: right;\">\n",
       "      <th>month</th>\n",
       "      <th>1</th>\n",
       "      <th>2</th>\n",
       "      <th>3</th>\n",
       "      <th>4</th>\n",
       "      <th>5</th>\n",
       "      <th>6</th>\n",
       "      <th>7</th>\n",
       "      <th>8</th>\n",
       "      <th>9</th>\n",
       "      <th>10</th>\n",
       "      <th>11</th>\n",
       "      <th>12</th>\n",
       "    </tr>\n",
       "    <tr>\n",
       "      <th>season</th>\n",
       "      <th></th>\n",
       "      <th></th>\n",
       "      <th></th>\n",
       "      <th></th>\n",
       "      <th></th>\n",
       "      <th></th>\n",
       "      <th></th>\n",
       "      <th></th>\n",
       "      <th></th>\n",
       "      <th></th>\n",
       "      <th></th>\n",
       "      <th></th>\n",
       "    </tr>\n",
       "  </thead>\n",
       "  <tbody>\n",
       "    <tr>\n",
       "      <th>1</th>\n",
       "      <td>545</td>\n",
       "      <td>440</td>\n",
       "      <td>48</td>\n",
       "      <td>0</td>\n",
       "      <td>0</td>\n",
       "      <td>0</td>\n",
       "      <td>0</td>\n",
       "      <td>0</td>\n",
       "      <td>0</td>\n",
       "      <td>0</td>\n",
       "      <td>0</td>\n",
       "      <td>523</td>\n",
       "    </tr>\n",
       "    <tr>\n",
       "      <th>2</th>\n",
       "      <td>0</td>\n",
       "      <td>0</td>\n",
       "      <td>524</td>\n",
       "      <td>528</td>\n",
       "      <td>576</td>\n",
       "      <td>48</td>\n",
       "      <td>0</td>\n",
       "      <td>0</td>\n",
       "      <td>0</td>\n",
       "      <td>0</td>\n",
       "      <td>0</td>\n",
       "      <td>0</td>\n",
       "    </tr>\n",
       "    <tr>\n",
       "      <th>3</th>\n",
       "      <td>0</td>\n",
       "      <td>0</td>\n",
       "      <td>0</td>\n",
       "      <td>0</td>\n",
       "      <td>0</td>\n",
       "      <td>480</td>\n",
       "      <td>576</td>\n",
       "      <td>563</td>\n",
       "      <td>144</td>\n",
       "      <td>0</td>\n",
       "      <td>0</td>\n",
       "      <td>0</td>\n",
       "    </tr>\n",
       "    <tr>\n",
       "      <th>4</th>\n",
       "      <td>0</td>\n",
       "      <td>0</td>\n",
       "      <td>0</td>\n",
       "      <td>0</td>\n",
       "      <td>0</td>\n",
       "      <td>0</td>\n",
       "      <td>0</td>\n",
       "      <td>0</td>\n",
       "      <td>384</td>\n",
       "      <td>540</td>\n",
       "      <td>526</td>\n",
       "      <td>48</td>\n",
       "    </tr>\n",
       "  </tbody>\n",
       "</table>\n",
       "</div>"
      ],
      "text/plain": [
       "month    1    2    3    4    5    6    7    8    9    10   11   12\n",
       "season                                                            \n",
       "1       545  440   48    0    0    0    0    0    0    0    0  523\n",
       "2         0    0  524  528  576   48    0    0    0    0    0    0\n",
       "3         0    0    0    0    0  480  576  563  144    0    0    0\n",
       "4         0    0    0    0    0    0    0    0  384  540  526   48"
      ]
     },
     "execution_count": 26,
     "metadata": {},
     "output_type": "execute_result"
    }
   ],
   "source": [
    "pd.crosstab(test['season'], test['month'])"
   ]
  },
  {
   "cell_type": "markdown",
   "id": "nearby-alexandria",
   "metadata": {},
   "source": [
    "#### 2) week , workingday"
   ]
  },
  {
   "cell_type": "code",
   "execution_count": 27,
   "id": "juvenile-departure",
   "metadata": {},
   "outputs": [
    {
     "data": {
      "text/html": [
       "<div>\n",
       "<style scoped>\n",
       "    .dataframe tbody tr th:only-of-type {\n",
       "        vertical-align: middle;\n",
       "    }\n",
       "\n",
       "    .dataframe tbody tr th {\n",
       "        vertical-align: top;\n",
       "    }\n",
       "\n",
       "    .dataframe thead th {\n",
       "        text-align: right;\n",
       "    }\n",
       "</style>\n",
       "<table border=\"1\" class=\"dataframe\">\n",
       "  <thead>\n",
       "    <tr style=\"text-align: right;\">\n",
       "      <th></th>\n",
       "      <th>season</th>\n",
       "      <th>holiday</th>\n",
       "      <th>workingday</th>\n",
       "      <th>weather</th>\n",
       "      <th>temp</th>\n",
       "      <th>atemp</th>\n",
       "      <th>humidity</th>\n",
       "      <th>windspeed</th>\n",
       "      <th>count</th>\n",
       "      <th>year</th>\n",
       "      <th>month</th>\n",
       "      <th>day</th>\n",
       "      <th>hour</th>\n",
       "      <th>week</th>\n",
       "    </tr>\n",
       "  </thead>\n",
       "  <tbody>\n",
       "    <tr>\n",
       "      <th>0</th>\n",
       "      <td>1</td>\n",
       "      <td>0</td>\n",
       "      <td>0</td>\n",
       "      <td>1</td>\n",
       "      <td>9.84</td>\n",
       "      <td>14.395</td>\n",
       "      <td>81</td>\n",
       "      <td>0.0</td>\n",
       "      <td>16</td>\n",
       "      <td>2011</td>\n",
       "      <td>1</td>\n",
       "      <td>1</td>\n",
       "      <td>0</td>\n",
       "      <td>5</td>\n",
       "    </tr>\n",
       "    <tr>\n",
       "      <th>1</th>\n",
       "      <td>1</td>\n",
       "      <td>0</td>\n",
       "      <td>0</td>\n",
       "      <td>1</td>\n",
       "      <td>9.02</td>\n",
       "      <td>13.635</td>\n",
       "      <td>80</td>\n",
       "      <td>0.0</td>\n",
       "      <td>40</td>\n",
       "      <td>2011</td>\n",
       "      <td>1</td>\n",
       "      <td>1</td>\n",
       "      <td>1</td>\n",
       "      <td>5</td>\n",
       "    </tr>\n",
       "    <tr>\n",
       "      <th>2</th>\n",
       "      <td>1</td>\n",
       "      <td>0</td>\n",
       "      <td>0</td>\n",
       "      <td>1</td>\n",
       "      <td>9.02</td>\n",
       "      <td>13.635</td>\n",
       "      <td>80</td>\n",
       "      <td>0.0</td>\n",
       "      <td>32</td>\n",
       "      <td>2011</td>\n",
       "      <td>1</td>\n",
       "      <td>1</td>\n",
       "      <td>2</td>\n",
       "      <td>5</td>\n",
       "    </tr>\n",
       "    <tr>\n",
       "      <th>3</th>\n",
       "      <td>1</td>\n",
       "      <td>0</td>\n",
       "      <td>0</td>\n",
       "      <td>1</td>\n",
       "      <td>9.84</td>\n",
       "      <td>14.395</td>\n",
       "      <td>75</td>\n",
       "      <td>0.0</td>\n",
       "      <td>13</td>\n",
       "      <td>2011</td>\n",
       "      <td>1</td>\n",
       "      <td>1</td>\n",
       "      <td>3</td>\n",
       "      <td>5</td>\n",
       "    </tr>\n",
       "    <tr>\n",
       "      <th>4</th>\n",
       "      <td>1</td>\n",
       "      <td>0</td>\n",
       "      <td>0</td>\n",
       "      <td>1</td>\n",
       "      <td>9.84</td>\n",
       "      <td>14.395</td>\n",
       "      <td>75</td>\n",
       "      <td>0.0</td>\n",
       "      <td>1</td>\n",
       "      <td>2011</td>\n",
       "      <td>1</td>\n",
       "      <td>1</td>\n",
       "      <td>4</td>\n",
       "      <td>5</td>\n",
       "    </tr>\n",
       "  </tbody>\n",
       "</table>\n",
       "</div>"
      ],
      "text/plain": [
       "   season  holiday  workingday  weather  temp   atemp  humidity  windspeed  \\\n",
       "0       1        0           0        1  9.84  14.395        81        0.0   \n",
       "1       1        0           0        1  9.02  13.635        80        0.0   \n",
       "2       1        0           0        1  9.02  13.635        80        0.0   \n",
       "3       1        0           0        1  9.84  14.395        75        0.0   \n",
       "4       1        0           0        1  9.84  14.395        75        0.0   \n",
       "\n",
       "   count  year  month  day  hour  week  \n",
       "0     16  2011      1    1     0     5  \n",
       "1     40  2011      1    1     1     5  \n",
       "2     32  2011      1    1     2     5  \n",
       "3     13  2011      1    1     3     5  \n",
       "4      1  2011      1    1     4     5  "
      ]
     },
     "execution_count": 27,
     "metadata": {},
     "output_type": "execute_result"
    }
   ],
   "source": [
    "train.head()"
   ]
  },
  {
   "cell_type": "code",
   "execution_count": 28,
   "id": "regional-pastor",
   "metadata": {},
   "outputs": [
    {
     "data": {
      "text/html": [
       "<div>\n",
       "<style scoped>\n",
       "    .dataframe tbody tr th:only-of-type {\n",
       "        vertical-align: middle;\n",
       "    }\n",
       "\n",
       "    .dataframe tbody tr th {\n",
       "        vertical-align: top;\n",
       "    }\n",
       "\n",
       "    .dataframe thead th {\n",
       "        text-align: right;\n",
       "    }\n",
       "</style>\n",
       "<table border=\"1\" class=\"dataframe\">\n",
       "  <thead>\n",
       "    <tr style=\"text-align: right;\">\n",
       "      <th>week</th>\n",
       "      <th>0</th>\n",
       "      <th>1</th>\n",
       "      <th>2</th>\n",
       "      <th>3</th>\n",
       "      <th>4</th>\n",
       "      <th>5</th>\n",
       "      <th>6</th>\n",
       "    </tr>\n",
       "    <tr>\n",
       "      <th>workingday</th>\n",
       "      <th></th>\n",
       "      <th></th>\n",
       "      <th></th>\n",
       "      <th></th>\n",
       "      <th></th>\n",
       "      <th></th>\n",
       "      <th></th>\n",
       "    </tr>\n",
       "  </thead>\n",
       "  <tbody>\n",
       "    <tr>\n",
       "      <th>0</th>\n",
       "      <td>239</td>\n",
       "      <td>0</td>\n",
       "      <td>24</td>\n",
       "      <td>0</td>\n",
       "      <td>48</td>\n",
       "      <td>1584</td>\n",
       "      <td>1579</td>\n",
       "    </tr>\n",
       "    <tr>\n",
       "      <th>1</th>\n",
       "      <td>1312</td>\n",
       "      <td>1539</td>\n",
       "      <td>1527</td>\n",
       "      <td>1553</td>\n",
       "      <td>1481</td>\n",
       "      <td>0</td>\n",
       "      <td>0</td>\n",
       "    </tr>\n",
       "  </tbody>\n",
       "</table>\n",
       "</div>"
      ],
      "text/plain": [
       "week           0     1     2     3     4     5     6\n",
       "workingday                                          \n",
       "0            239     0    24     0    48  1584  1579\n",
       "1           1312  1539  1527  1553  1481     0     0"
      ]
     },
     "execution_count": 28,
     "metadata": {},
     "output_type": "execute_result"
    }
   ],
   "source": [
    "pd.crosstab(train['week'], train['workingday']).T"
   ]
  },
  {
   "cell_type": "code",
   "execution_count": 29,
   "id": "strategic-queue",
   "metadata": {},
   "outputs": [],
   "source": [
    "# dfdf = pd.DataFrame({\"nn\":[1,2,3]}, index=['a','b','c'])\n",
    "# dfdf.index\n",
    "# dfdf.loc['b']\n",
    "# dfdf.iloc[1]"
   ]
  },
  {
   "cell_type": "markdown",
   "id": "loved-handy",
   "metadata": {},
   "source": [
    "#### 방법1) 조건 필터 후 변경 - query"
   ]
  },
  {
   "cell_type": "code",
   "execution_count": 30,
   "id": "wrapped-metallic",
   "metadata": {},
   "outputs": [],
   "source": [
    "# train['working1_w04'] = 0\n",
    "# train['working0_w56'] = 0"
   ]
  },
  {
   "cell_type": "code",
   "execution_count": 31,
   "id": "coordinated-daniel",
   "metadata": {},
   "outputs": [],
   "source": [
    "# idx = train.query( \"workingday==1 and week in [0,1,2,3,4]\")['working1_w04'].index\n",
    "# # print(idx, len(idx))\n",
    "# train['working1_w04'].loc[idx] = 1\n",
    "\n",
    "# idx = train.query( \"workingday==1 and week in [5,6]\" )['working1_w04'].index\n",
    "# # print(idx, len(idx))\n",
    "# train['working1_w04'].loc[idx] = 0\n",
    "\n",
    "# train['working1_w04'].value_counts()"
   ]
  },
  {
   "cell_type": "markdown",
   "id": "random-baker",
   "metadata": {},
   "source": [
    "#### 방법2) 조건 필터 후 변경 - lambda"
   ]
  },
  {
   "cell_type": "code",
   "execution_count": 32,
   "id": "found-asset",
   "metadata": {},
   "outputs": [
    {
     "data": {
      "text/html": [
       "<div>\n",
       "<style scoped>\n",
       "    .dataframe tbody tr th:only-of-type {\n",
       "        vertical-align: middle;\n",
       "    }\n",
       "\n",
       "    .dataframe tbody tr th {\n",
       "        vertical-align: top;\n",
       "    }\n",
       "\n",
       "    .dataframe thead th {\n",
       "        text-align: right;\n",
       "    }\n",
       "</style>\n",
       "<table border=\"1\" class=\"dataframe\">\n",
       "  <thead>\n",
       "    <tr style=\"text-align: right;\">\n",
       "      <th></th>\n",
       "      <th>workingday</th>\n",
       "      <th>week</th>\n",
       "    </tr>\n",
       "  </thead>\n",
       "  <tbody>\n",
       "    <tr>\n",
       "      <th>0</th>\n",
       "      <td>0</td>\n",
       "      <td>5</td>\n",
       "    </tr>\n",
       "    <tr>\n",
       "      <th>1</th>\n",
       "      <td>0</td>\n",
       "      <td>5</td>\n",
       "    </tr>\n",
       "    <tr>\n",
       "      <th>2</th>\n",
       "      <td>0</td>\n",
       "      <td>5</td>\n",
       "    </tr>\n",
       "  </tbody>\n",
       "</table>\n",
       "</div>"
      ],
      "text/plain": [
       "   workingday  week\n",
       "0           0     5\n",
       "1           0     5\n",
       "2           0     5"
      ]
     },
     "execution_count": 32,
     "metadata": {},
     "output_type": "execute_result"
    }
   ],
   "source": [
    "x= train[['workingday','week']]\n",
    "x.head(3)"
   ]
  },
  {
   "cell_type": "code",
   "execution_count": 33,
   "id": "federal-explanation",
   "metadata": {},
   "outputs": [
    {
     "data": {
      "text/plain": [
       "0    7412\n",
       "1    3474\n",
       "Name: working1_peak_yn, dtype: int64"
      ]
     },
     "execution_count": 33,
     "metadata": {},
     "output_type": "execute_result"
    }
   ],
   "source": [
    "train['working1_peak_yn'] = train[['workingday','week']].apply(lambda x : (1,0) [x['workingday']==1   and  (x['week']!=5 or x['week']!=6) ], axis=1)\n",
    "test['working1_peak_yn'] = test[['workingday','week']].apply(lambda x : (1,0) [x['workingday']==1   and  (x['week']!=5 or x['week']!=6) ], axis=1)\n",
    "\n",
    "train['working1_peak_yn'].value_counts()"
   ]
  },
  {
   "cell_type": "code",
   "execution_count": 34,
   "id": "greatest-geology",
   "metadata": {},
   "outputs": [
    {
     "data": {
      "text/plain": [
       "1    7723\n",
       "0    3163\n",
       "Name: working0_peak_yn, dtype: int64"
      ]
     },
     "execution_count": 34,
     "metadata": {},
     "output_type": "execute_result"
    }
   ],
   "source": [
    "train['working0_peak_yn'] = train[['workingday','week']].apply(lambda x : (1,0) [x['workingday']==0   and  (x['week']==5 or x['week']==6) ], axis=1)\n",
    "test['working0_peak_yn'] = test[['workingday','week']].apply(lambda x : (1,0) [x['workingday']==0   and  (x['week']==5 or x['week']==6) ], axis=1)\n",
    "train['working0_peak_yn'].value_counts()"
   ]
  },
  {
   "cell_type": "code",
   "execution_count": 35,
   "id": "8937347d-e5e6-42e6-afb3-b2242ad27c26",
   "metadata": {},
   "outputs": [
    {
     "data": {
      "text/plain": [
       "1    7723\n",
       "0    3163\n",
       "Name: weekend_yn, dtype: int64"
      ]
     },
     "execution_count": 35,
     "metadata": {},
     "output_type": "execute_result"
    }
   ],
   "source": [
    "train['weekend_yn'] = train[['week']].apply(lambda x : (1,0) [ x['week']==5 or x['week']==6 ], axis=1)\n",
    "test['weekend_yn'] = test[['week']].apply(lambda x : (1,0) [ x['week']==5 or x['week']==6 ], axis=1)\n",
    "train['weekend_yn'].value_counts()"
   ]
  },
  {
   "cell_type": "markdown",
   "id": "simple-metropolitan",
   "metadata": {},
   "source": [
    "#### 3) hour vs. count"
   ]
  },
  {
   "cell_type": "code",
   "execution_count": 36,
   "id": "funded-compact",
   "metadata": {},
   "outputs": [
    {
     "data": {
      "image/png": "[encoded data removed]",
      "text/plain": [
       "<Figure size 432x288 with 1 Axes>"
      ]
     },
     "metadata": {},
     "output_type": "display_data"
    }
   ],
   "source": [
    "#---- 평일 ['workingday']==1  , 8시  17~18시\n",
    "sns.barplot(x='hour', y=\"count\", data=train[train['workingday']==1])\n",
    "plt.show()"
   ]
  },
  {
   "cell_type": "code",
   "execution_count": 37,
   "id": "extreme-murder",
   "metadata": {},
   "outputs": [
    {
     "data": {
      "image/png": "[encoded data removed]",
      "text/plain": [
       "<Figure size 432x288 with 1 Axes>"
      ]
     },
     "metadata": {},
     "output_type": "display_data"
    }
   ],
   "source": [
    "#---- 휴일 ['workingday']==0  ,12~16시\n",
    "sns.barplot(x='hour', y=\"count\", data=train[train['workingday']==0])\n",
    "plt.show()"
   ]
  },
  {
   "cell_type": "code",
   "execution_count": 38,
   "id": "italic-stress",
   "metadata": {},
   "outputs": [
    {
     "data": {
      "text/plain": [
       "1    9436\n",
       "0    1450\n",
       "Name: hour_peak_yn, dtype: int64"
      ]
     },
     "execution_count": 38,
     "metadata": {},
     "output_type": "execute_result"
    }
   ],
   "source": [
    "\n",
    "#---- 평일 ['workingday']==1  , 8시  17~18시\n",
    "train['hour_peak_yn'] = train[['workingday','hour']].apply(lambda x : (1,0) [x['workingday']==1   and  (x['hour']==8 or 17<=x['hour']<=18) ], axis=1)\n",
    "#---- 휴일 ['workingday']==0  , 12~16시  10~19시\n",
    "train['hour_peak_yn'] = train[['workingday','hour']].apply(lambda x : (1,0) [x['workingday']==0   and  10<=x['hour']<=19 ], axis=1)\n",
    "\n",
    "\n",
    "#---- 평일 ['workingday']==1  , 8시  17~18시\n",
    "test['hour_peak_yn'] = test[['workingday','hour']].apply(lambda x : (1,0) [x['workingday']==1   and  (x['hour']==8 or 17<=x['hour']<=18) ], axis=1)\n",
    "#---- 휴일 ['workingday']==0  , 12~16시  10~19시\n",
    "test['hour_peak_yn'] = test[['workingday','hour']].apply(lambda x : (1,0) [x['workingday']==0   and  10<=x['hour']<=19 ], axis=1)\n",
    "\n",
    "\n",
    "train['hour_peak_yn'].value_counts()\n",
    "\n",
    "\n"
   ]
  },
  {
   "cell_type": "markdown",
   "id": "3c2ed5c6-f506-4d2e-9a33-cb4b808c68cf",
   "metadata": {
    "tags": []
   },
   "source": [
    "## 중간 점수 확인"
   ]
  },
  {
   "cell_type": "code",
   "execution_count": 39,
   "id": "9a104562-8cd5-4ebe-9819-d4c6b5af684d",
   "metadata": {},
   "outputs": [
    {
     "name": "stdout",
     "output_type": "stream",
     "text": [
      "LinearRegression\t RMSLE:0.9558\n",
      "Ridge\t RMSLE:0.9558\n",
      "Lasso\t RMSLE:1.0482\n",
      "ElasticNet\t RMSLE:1.0286\n",
      "DecisionTreeRegressor\t RMSLE:0.4148\n",
      "XGBRegressor\t RMSLE:0.2812\n",
      "LGBMRegressor\t RMSLE:0.2749\n"
     ]
    }
   ],
   "source": [
    "y_log = np.log1p(train['count'])\n",
    "X = train.drop(['count'], axis=1)\n",
    "X_train, X_val, y_train, y_val =train_test_split(X, y_log, test_size=0.2, random_state=1414)\n",
    "\n",
    "models = [LinearRegression(), Ridge(), Lasso(), ElasticNet(), DecisionTreeRegressor(),XGBRegressor(), LGBMRegressor()]\n",
    "for model in models:  #X_train, X_val, y_train, y_val\n",
    "    model.fit(X_train,  y_train)\n",
    "    pred = model.predict(X_val)\n",
    "    my_score(y_val, pred)"
   ]
  },
  {
   "cell_type": "markdown",
   "id": "naughty-tunnel",
   "metadata": {},
   "source": [
    "### 4) 온도관련 피쳐 vs. count\n",
    "* count ==> temp\n",
    "* windspeed \n",
    "* humidity(습도), weather : 0.41"
   ]
  },
  {
   "cell_type": "code",
   "execution_count": 40,
   "id": "becoming-stationery",
   "metadata": {},
   "outputs": [
    {
     "name": "stdout",
     "output_type": "stream",
     "text": [
      "count    10886.00000\n",
      "mean        20.23086\n",
      "std          7.79159\n",
      "min          0.82000\n",
      "25%         13.94000\n",
      "50%         20.50000\n",
      "75%         26.24000\n",
      "max         41.00000\n",
      "Name: temp, dtype: float64\n"
     ]
    },
    {
     "data": {
      "image/png": "[encoded data removed]",
      "text/plain": [
       "<Figure size 432x288 with 1 Axes>"
      ]
     },
     "metadata": {},
     "output_type": "display_data"
    }
   ],
   "source": [
    "print(train['temp'].describe())\n",
    "sns.distplot(train['temp'])   #10~30 \n",
    "plt.show()"
   ]
  },
  {
   "cell_type": "code",
   "execution_count": 41,
   "id": "streaming-philip",
   "metadata": {},
   "outputs": [
    {
     "name": "stdout",
     "output_type": "stream",
     "text": [
      "count    10886.000000\n",
      "mean        61.886460\n",
      "std         19.245033\n",
      "min          0.000000\n",
      "25%         47.000000\n",
      "50%         62.000000\n",
      "75%         77.000000\n",
      "max        100.000000\n",
      "Name: humidity, dtype: float64\n"
     ]
    },
    {
     "data": {
      "image/png": "[encoded data removed]",
      "text/plain": [
       "<Figure size 432x288 with 1 Axes>"
      ]
     },
     "metadata": {},
     "output_type": "display_data"
    }
   ],
   "source": [
    "print(train['humidity'].describe())\n",
    "sns.distplot(train['humidity'])   #30~90 \n",
    "plt.show()"
   ]
  },
  {
   "cell_type": "code",
   "execution_count": 42,
   "id": "unauthorized-stretch",
   "metadata": {},
   "outputs": [
    {
     "name": "stdout",
     "output_type": "stream",
     "text": [
      "count    10886.000000\n",
      "mean         1.418427\n",
      "std          0.633839\n",
      "min          1.000000\n",
      "25%          1.000000\n",
      "50%          1.000000\n",
      "75%          2.000000\n",
      "max          4.000000\n",
      "Name: weather, dtype: float64\n"
     ]
    },
    {
     "data": {
      "image/png": "[encoded data removed]",
      "text/plain": [
       "<Figure size 432x288 with 1 Axes>"
      ]
     },
     "metadata": {},
     "output_type": "display_data"
    }
   ],
   "source": [
    "print(train['weather'].describe())\n",
    "sns.distplot(train['weather'])   #1,2\n",
    "plt.show()"
   ]
  },
  {
   "cell_type": "code",
   "execution_count": 43,
   "id": "considered-winter",
   "metadata": {},
   "outputs": [
    {
     "name": "stdout",
     "output_type": "stream",
     "text": [
      "count    10886.000000\n",
      "mean        12.799395\n",
      "std          8.164537\n",
      "min          0.000000\n",
      "25%          7.001500\n",
      "50%         12.998000\n",
      "75%         16.997900\n",
      "max         56.996900\n",
      "Name: windspeed, dtype: float64\n"
     ]
    },
    {
     "data": {
      "image/png": "[encoded data removed]",
      "text/plain": [
       "<Figure size 432x288 with 1 Axes>"
      ]
     },
     "metadata": {},
     "output_type": "display_data"
    }
   ],
   "source": [
    "print(train['windspeed'].describe())\n",
    "sns.distplot(train['windspeed'])   #0 ~24\n",
    "plt.show()"
   ]
  },
  {
   "cell_type": "code",
   "execution_count": 44,
   "id": "02169eb1-16a0-4880-9e9e-3464b4d10055",
   "metadata": {},
   "outputs": [
    {
     "data": {
      "text/plain": [
       "Index(['season', 'holiday', 'workingday', 'weather', 'temp', 'atemp',\n",
       "       'humidity', 'windspeed', 'count', 'year', 'month', 'day', 'hour',\n",
       "       'week', 'working1_peak_yn', 'working0_peak_yn', 'weekend_yn',\n",
       "       'hour_peak_yn'],\n",
       "      dtype='object')"
      ]
     },
     "execution_count": 44,
     "metadata": {},
     "output_type": "execute_result"
    }
   ],
   "source": [
    "train.columns"
   ]
  },
  {
   "cell_type": "markdown",
   "id": "17f0064c-b2aa-4f92-b3fa-f5dfcc3b7efa",
   "metadata": {},
   "source": [
    "#### 풍속 결측 채우기"
   ]
  },
  {
   "cell_type": "code",
   "execution_count": 45,
   "id": "9c58610f-1c88-478f-97b6-99ec08eedacd",
   "metadata": {},
   "outputs": [],
   "source": [
    "# print(train['windspeed'].value_counts())\n",
    "\n",
    "# def my_fill_windspeed(df): \n",
    "#     wind_cols= ['season', 'weather', 'humidity', 'temp', 'atemp','windspeed'] \n",
    "#     wind_train  = df.loc[df['windspeed'] != 0][wind_cols] \n",
    "#     wind_test = df.loc[df['windspeed'] == 0][wind_cols]\n",
    "    \n",
    "#     #wind_train['windspeed'] = wind_train['windspeed'].astype('str') \n",
    "    \n",
    "#     model = RandomForestRegressor() \n",
    "#     model.fit(wind_train[wind_cols], wind_train['windspeed']) \n",
    "#     pred0 = model.predict(X=wind_test[wind_cols]) \n",
    "    \n",
    "#     wind_test_df = wind_test \n",
    "#     wind_train_df = wind_train \n",
    "    \n",
    "#     wind_test_df['windspeed'] = pred0 \n",
    "#     wind_train_test = wind_train_df.append(wind_test_df) \n",
    "#     wind_train_test['windspeed'] = wind_train_test['windspeed'].astype('float') \n",
    "#     wind_train_test.reset_index(inplace = True) \n",
    "#     wind_train_test.drop('index', inplace = True, axis = 1) \n",
    "#     return wind_train_test\n",
    "# train = my_fill_windspeed(train) \n",
    "# test = my_fill_windspeed(test) "
   ]
  },
  {
   "cell_type": "code",
   "execution_count": 46,
   "id": "2d502872-320c-4973-924d-5f8d1c974bbb",
   "metadata": {},
   "outputs": [],
   "source": [
    "# print(train['windspeed'].describe())\n",
    "# sns.distplot(train['windspeed'])   #0 ~24\n",
    "# plt.show()"
   ]
  },
  {
   "cell_type": "code",
   "execution_count": 47,
   "id": "b0031362-bd82-4458-9c65-c89f1902e1d9",
   "metadata": {},
   "outputs": [],
   "source": [
    "# def my_fill_windspeed(cp) :\n",
    "#     wind_train = cp[cp['windspeed']!=0][['season','weather', 'temp', 'atemp', 'humidity', 'windspeed']]\n",
    "#     wind_test = cp[cp['windspeed']==0][['season','weather', 'temp', 'atemp', 'humidity', 'windspeed']]\n",
    "\n",
    "#     y_wind_train8답안지 = wind_train['windspeed']\n",
    "#     X_wind_train8문제지 = wind_train.drop(['windspeed'], axis=1)\n",
    "#     X_wind_test2답안지 = wind_test['windspeed']\n",
    "#     y_wind_test2문제지 = wind_test.drop(['windspeed'], axis=1)\n",
    "\n",
    "#     wind_model = LGBMRegressor()\n",
    "#     wind_model.fit(X_wind_train8문제지, y_wind_train8답안지)\n",
    "#     pred = wind_model.predict(y_wind_test2문제지)\n",
    "#     X_wind_test2답안지 = np.round(pred,5)\n",
    "    \n",
    "    \n",
    "#     cp = wind_train.append(wind_test)\n",
    "    \n",
    "#     cp.reset_index(inplace=True)\n",
    "#     cp.drop(\"index\", inplace=True, axis=1)\n",
    "#     return cp\n",
    "\n",
    "# train = my_fill_windspeed(train)    \n",
    "# test = my_fill_windspeed(test)    "
   ]
  },
  {
   "cell_type": "code",
   "execution_count": 48,
   "id": "e866c096-c3ce-4075-aaf3-721d7aefd628",
   "metadata": {},
   "outputs": [
    {
     "name": "stdout",
     "output_type": "stream",
     "text": [
      "count    10886.000000\n",
      "mean        12.799395\n",
      "std          8.164537\n",
      "min          0.000000\n",
      "25%          7.001500\n",
      "50%         12.998000\n",
      "75%         16.997900\n",
      "max         56.996900\n",
      "Name: windspeed, dtype: float64\n"
     ]
    },
    {
     "data": {
      "image/png": "[encoded data removed]",
      "text/plain": [
       "<Figure size 432x288 with 1 Axes>"
      ]
     },
     "metadata": {},
     "output_type": "display_data"
    }
   ],
   "source": [
    "print(train['windspeed'].describe())\n",
    "sns.distplot(train['windspeed'])   #0 ~24\n",
    "plt.show()"
   ]
  },
  {
   "cell_type": "code",
   "execution_count": 49,
   "id": "linear-strap",
   "metadata": {},
   "outputs": [
    {
     "data": {
      "text/plain": [
       "0    6506\n",
       "1    4380\n",
       "Name: weather_peak_yn, dtype: int64"
      ]
     },
     "execution_count": 49,
     "metadata": {},
     "output_type": "execute_result"
    }
   ],
   "source": [
    "# --------------------------------------\n",
    "# train['temp']       #10~30 \n",
    "# train['humidity']   #30~90 \n",
    "# train['weather']    #1,2\n",
    "# train['windspeed']  #0~24\n",
    "# --------------------------------------\n",
    "# weather - 날씨 \n",
    "#   - 1: 맑음, 대체로 흐림, 일부 흐림 \n",
    "#   - 2: 안개 + 흐림, 안개 + 깨진 구름, 안개 + 구름이 거의 없음, 안개 \n",
    "#   - 3: 가벼운 눈, 가벼운 비 + 뇌우 + 흩어진 구름, 가벼운 비 + 흩어진 구름 \n",
    "#   - 4: 폭우 + 얼음 팔레트 + 뇌우 + 안개, 눈 + 안개\n",
    "\n",
    "train['weather_peak_yn'] = train[['temp','humidity','weather','windspeed']].apply(lambda x : (1,0) [ 10<=x['temp']<=30 and  \n",
    "                                                                                     30<=x['humidity']<=90 and \n",
    "                                                                                     x['weather'] in [1,2] and\n",
    "                                                                                     0<=x['windspeed']<=24 ], axis=1)\n",
    "\n",
    "\n",
    "test['weather_peak_yn'] = test[['temp','humidity','weather','windspeed']].apply(lambda x : (1,0) [ 10<=x['temp']<=30 and  \n",
    "                                                                                     30<=x['humidity']<=90 and \n",
    "                                                                                     x['weather'] in [1,2] and\n",
    "                                                                                     0<=x['windspeed']<=24 ], axis=1)\n",
    "\n",
    "\n",
    "train['weather_peak_yn'].value_counts()"
   ]
  },
  {
   "cell_type": "markdown",
   "id": "complimentary-syria",
   "metadata": {},
   "source": [
    "### 5) holiday\n",
    "* 주어진 데이터 이외의 추가 휴일은 고려하지 않음"
   ]
  },
  {
   "cell_type": "code",
   "execution_count": 50,
   "id": "unnecessary-match",
   "metadata": {},
   "outputs": [
    {
     "data": {
      "text/plain": [
       "workingday  year  month  day\n",
       "0           2011  1      17     24\n",
       "                  4      15     24\n",
       "                  7      4      24\n",
       "                  9      5      24\n",
       "                  10     10     24\n",
       "                  11     11     24\n",
       "            2012  1      16     24\n",
       "                  4      16     24\n",
       "                  7      4      24\n",
       "                  9      3      24\n",
       "                  10     8      24\n",
       "                  11     12     24\n",
       "                  1      2      23\n",
       "dtype: int64"
      ]
     },
     "execution_count": 50,
     "metadata": {},
     "output_type": "execute_result"
    }
   ],
   "source": [
    "# train.loc[pd.datetime(2011, 6, 19)]['holiday']\n",
    "train[train['holiday']==1][['workingday','year','month','day']].value_counts()"
   ]
  },
  {
   "cell_type": "code",
   "execution_count": 51,
   "id": "authorized-tuner",
   "metadata": {},
   "outputs": [
    {
     "name": "stdout",
     "output_type": "stream",
     "text": [
      "<class 'pandas.core.frame.DataFrame'>\n",
      "RangeIndex: 10886 entries, 0 to 10885\n",
      "Data columns (total 19 columns):\n",
      " #   Column            Non-Null Count  Dtype  \n",
      "---  ------            --------------  -----  \n",
      " 0   season            10886 non-null  int64  \n",
      " 1   holiday           10886 non-null  int64  \n",
      " 2   workingday        10886 non-null  int64  \n",
      " 3   weather           10886 non-null  int64  \n",
      " 4   temp              10886 non-null  float64\n",
      " 5   atemp             10886 non-null  float64\n",
      " 6   humidity          10886 non-null  int64  \n",
      " 7   windspeed         10886 non-null  float64\n",
      " 8   count             10886 non-null  int64  \n",
      " 9   year              10886 non-null  int64  \n",
      " 10  month             10886 non-null  int64  \n",
      " 11  day               10886 non-null  int64  \n",
      " 12  hour              10886 non-null  int64  \n",
      " 13  week              10886 non-null  int64  \n",
      " 14  working1_peak_yn  10886 non-null  int64  \n",
      " 15  working0_peak_yn  10886 non-null  int64  \n",
      " 16  weekend_yn        10886 non-null  int64  \n",
      " 17  hour_peak_yn      10886 non-null  int64  \n",
      " 18  weather_peak_yn   10886 non-null  int64  \n",
      "dtypes: float64(3), int64(16)\n",
      "memory usage: 1.6 MB\n"
     ]
    }
   ],
   "source": [
    "train.info()"
   ]
  },
  {
   "cell_type": "code",
   "execution_count": 52,
   "id": "8054aa83-74a3-4625-a654-f9e95bfda578",
   "metadata": {},
   "outputs": [
    {
     "data": {
      "text/plain": [
       "((10886, 19), (6493, 18))"
      ]
     },
     "execution_count": 52,
     "metadata": {},
     "output_type": "execute_result"
    }
   ],
   "source": [
    "train.shape, test.shape"
   ]
  },
  {
   "cell_type": "markdown",
   "id": "06c80d97-f208-4e16-8e6a-a1701d969205",
   "metadata": {
    "tags": []
   },
   "source": [
    "## 중간 점수 확인"
   ]
  },
  {
   "cell_type": "code",
   "execution_count": 53,
   "id": "96e763b5-d3e3-4bf5-a8f7-497ad3917a92",
   "metadata": {},
   "outputs": [
    {
     "name": "stdout",
     "output_type": "stream",
     "text": [
      "LinearRegression\t RMSLE:0.9529\n",
      "Ridge\t RMSLE:0.9529\n",
      "Lasso\t RMSLE:1.0482\n",
      "ElasticNet\t RMSLE:1.0286\n",
      "DecisionTreeRegressor\t RMSLE:0.4192\n",
      "XGBRegressor\t RMSLE:0.2739\n",
      "LGBMRegressor\t RMSLE:0.2730\n"
     ]
    }
   ],
   "source": [
    "y_log = np.log1p(train['count'])\n",
    "X = train.drop(['count'], axis=1)\n",
    "X_train, X_val, y_train, y_val =train_test_split(X, y_log, test_size=0.2, random_state=1414)\n",
    "\n",
    "models = [LinearRegression(), Ridge(), Lasso(), ElasticNet(), DecisionTreeRegressor(),XGBRegressor(), LGBMRegressor()]\n",
    "for model in models:  #X_train, X_val, y_train, y_val\n",
    "    model.fit(X_train,  y_train)\n",
    "    pred = model.predict(X_val)\n",
    "    my_score(y_val, pred)"
   ]
  },
  {
   "cell_type": "markdown",
   "id": "corporate-charge",
   "metadata": {},
   "source": [
    "### 원핫인코딩"
   ]
  },
  {
   "cell_type": "markdown",
   "id": "f63b67dd-51b0-4dc7-b346-de42c3290cfb",
   "metadata": {},
   "source": [
    "##### 1) 카테고리성 피쳐 선별"
   ]
  },
  {
   "cell_type": "code",
   "execution_count": 54,
   "id": "enclosed-elite",
   "metadata": {},
   "outputs": [
    {
     "name": "stdout",
     "output_type": "stream",
     "text": [
      "(17379, 19)\n",
      "['season', 'holiday', 'workingday', 'weather', 'temp', 'atemp', 'humidity', 'windspeed', 'count', 'year', 'month', 'day', 'hour', 'week', 'working1_peak_yn', 'working0_peak_yn', 'weekend_yn', 'hour_peak_yn', 'weather_peak_yn']\n",
      "season 4 [1 2 3 4]\n",
      "holiday 2 [0 1]\n",
      "workingday 2 [0 1]\n",
      "weather 4 [1 2 3 4]\n",
      "temp 50 [ 9.84  9.02  8.2  13.12 15.58 14.76 17.22 18.86 18.04 16.4 ]\n",
      "atemp 65 [14.395 13.635 12.88  17.425 19.695 16.665 21.21  22.725 21.97  20.455]\n",
      "humidity 89 [81 80 75 86 76 77 72 82 88 87]\n",
      "windspeed 30 [ 0.      6.0032 16.9979 19.0012 19.9995 12.998  15.0013  8.9981 11.0014\n",
      " 22.0028]\n",
      "count 822 [16. 40. 32. 13.  1.  2.  3.  8. 14. 36.]\n",
      "year 2 [2011 2012]\n",
      "month 12 [ 1  2  3  4  5  6  7  8  9 10]\n",
      "day 31 [ 1  2  3  4  5  6  7  8  9 10]\n",
      "hour 24 [0 1 2 3 4 5 6 7 8 9]\n",
      "week 7 [5 6 0 1 2 3 4]\n",
      "working1_peak_yn 2 [1 0]\n",
      "working0_peak_yn 2 [0 1]\n",
      "weekend_yn 2 [0 1]\n",
      "hour_peak_yn 2 [1 0]\n",
      "weather_peak_yn 2 [1 0]\n"
     ]
    }
   ],
   "source": [
    "train_test = pd.concat([train, test], axis=0)\n",
    "print(train_test.shape)\n",
    "print(train_test.columns.values.tolist())\n",
    "\n",
    "for col in train_test.columns :\n",
    "    print(col, train_test[col].nunique(), train_test[col].unique()[:10])"
   ]
  },
  {
   "cell_type": "code",
   "execution_count": 55,
   "id": "acaa289b-16c7-4904-8ed6-df1f892c421d",
   "metadata": {},
   "outputs": [],
   "source": [
    "oh_cols = ['season', 'weather', 'year', 'month', 'day', 'hour', 'week']\n",
    "for col in oh_cols:\n",
    "    oh_df = pd.get_dummies(train_test[col], prefix=col)\n",
    "    train_test = pd.concat([train_test, oh_df], axis=1)  \n",
    "    \n",
    "train = train_test[train_test['count'].notna()]\n",
    "test = train_test[train_test['count'].isna()]\n",
    "test.drop(['count'], axis=1, inplace=True)"
   ]
  },
  {
   "cell_type": "code",
   "execution_count": 56,
   "id": "3a8d1579-8802-417c-812a-bcce3dc8eb14",
   "metadata": {},
   "outputs": [
    {
     "data": {
      "text/plain": [
       "((10886, 103), (6493, 102))"
      ]
     },
     "execution_count": 56,
     "metadata": {},
     "output_type": "execute_result"
    }
   ],
   "source": [
    "train.shape, test.shape"
   ]
  },
  {
   "cell_type": "markdown",
   "id": "c0c74d5d-8fff-47ff-a6c2-86c0580bf720",
   "metadata": {
    "tags": []
   },
   "source": [
    "## 중간 점수 확인"
   ]
  },
  {
   "cell_type": "code",
   "execution_count": 57,
   "id": "9f6588c0-6dae-4c8f-b47e-7ffeb285a0db",
   "metadata": {},
   "outputs": [
    {
     "name": "stdout",
     "output_type": "stream",
     "text": [
      "LinearRegression\t RMSLE:0.5791\n",
      "Ridge\t RMSLE:0.5787\n",
      "Lasso\t RMSLE:1.0482\n",
      "ElasticNet\t RMSLE:1.0286\n",
      "DecisionTreeRegressor\t RMSLE:0.4216\n",
      "XGBRegressor\t RMSLE:0.2815\n",
      "LGBMRegressor\t RMSLE:0.2767\n"
     ]
    }
   ],
   "source": [
    "y_log = np.log1p(train['count'])\n",
    "X = train.drop(['count'], axis=1)\n",
    "X_train, X_val, y_train, y_val =train_test_split(X, y_log, test_size=0.2, random_state=1414)\n",
    "\n",
    "models = [LinearRegression(), Ridge(), Lasso(), ElasticNet(), DecisionTreeRegressor(),XGBRegressor(), LGBMRegressor()]\n",
    "for model in models:  #X_train, X_val, y_train, y_val\n",
    "    model.fit(X_train,  y_train)\n",
    "    pred = model.predict(X_val)\n",
    "    my_score(y_val, pred)"
   ]
  },
  {
   "cell_type": "markdown",
   "id": "explicit-poverty",
   "metadata": {},
   "source": [
    "### 3) year\n",
    "* 2011 0  , 2012  1  --> OnehotEncoding \n",
    "* 또는\n",
    "* log1p()"
   ]
  },
  {
   "cell_type": "code",
   "execution_count": 58,
   "id": "legal-miracle",
   "metadata": {},
   "outputs": [],
   "source": [
    "# train['year'] = np.log1p(train['year'])\n",
    "# test['year'] = np.log1p(test['year'])"
   ]
  },
  {
   "cell_type": "markdown",
   "id": "confident-burns",
   "metadata": {},
   "source": [
    "### 4) temp, atemp -- PCA"
   ]
  },
  {
   "cell_type": "markdown",
   "id": "excess-valley",
   "metadata": {
    "jp-MarkdownHeadingCollapsed": true,
    "tags": []
   },
   "source": [
    "#### 스케일링"
   ]
  },
  {
   "cell_type": "markdown",
   "id": "ignored-quebec",
   "metadata": {},
   "source": [
    "#### X,y 타겟분리"
   ]
  },
  {
   "cell_type": "code",
   "execution_count": 59,
   "id": "medium-humor",
   "metadata": {},
   "outputs": [],
   "source": [
    "y_log = np.log1p(train['count'] )\n",
    "train = train.drop(['count'], axis=1) "
   ]
  },
  {
   "cell_type": "code",
   "execution_count": 60,
   "id": "colored-disclaimer",
   "metadata": {},
   "outputs": [],
   "source": [
    "scale_cols = ['temp', 'atemp', 'humidity', 'windspeed']\n",
    "scaler = StandardScaler()\n",
    "scaler.fit(train[scale_cols])\n",
    "train_scaler = scaler.transform(train[scale_cols])\n",
    "test_scaler = scaler.transform(test[scale_cols])"
   ]
  },
  {
   "cell_type": "code",
   "execution_count": 61,
   "id": "c93bde87-85f4-4d9d-9ac6-1bd919a6e9e6",
   "metadata": {},
   "outputs": [
    {
     "data": {
      "text/plain": [
       "array([[-1.33366069, -1.09273697,  0.99321305, -1.56775367],\n",
       "       [-1.43890721, -1.18242083,  0.94124921, -1.56775367],\n",
       "       [-1.43890721, -1.18242083,  0.94124921, -1.56775367],\n",
       "       [-1.33366069, -1.09273697,  0.68142998, -1.56775367],\n",
       "       [-1.33366069, -1.09273697,  0.68142998, -1.56775367]])"
      ]
     },
     "execution_count": 61,
     "metadata": {},
     "output_type": "execute_result"
    }
   ],
   "source": [
    "train_scaler[:5]"
   ]
  },
  {
   "cell_type": "code",
   "execution_count": 62,
   "id": "boxed-pontiac",
   "metadata": {},
   "outputs": [],
   "source": [
    "train.drop(scale_cols, axis=1, inplace=True)\n",
    "test.drop(scale_cols, axis=1, inplace=True)"
   ]
  },
  {
   "cell_type": "code",
   "execution_count": 63,
   "id": "cefcf8dc-02b0-4a05-8be4-d302f15fa20b",
   "metadata": {},
   "outputs": [],
   "source": [
    "train_scaler_df = pd.DataFrame(train_scaler, columns = scale_cols)\n",
    "test_scaler_df = pd.DataFrame(test_scaler, columns = scale_cols)\n",
    "train = pd.concat([train, train_scaler_df], axis=1)\n",
    "test = pd.concat([test, test_scaler_df], axis=1)"
   ]
  },
  {
   "cell_type": "markdown",
   "id": "impaired-arizona",
   "metadata": {},
   "source": [
    "#### PCA"
   ]
  },
  {
   "cell_type": "code",
   "execution_count": 64,
   "id": "nervous-robin",
   "metadata": {},
   "outputs": [
    {
     "data": {
      "text/html": [
       "<div>\n",
       "<style scoped>\n",
       "    .dataframe tbody tr th:only-of-type {\n",
       "        vertical-align: middle;\n",
       "    }\n",
       "\n",
       "    .dataframe tbody tr th {\n",
       "        vertical-align: top;\n",
       "    }\n",
       "\n",
       "    .dataframe thead th {\n",
       "        text-align: right;\n",
       "    }\n",
       "</style>\n",
       "<table border=\"1\" class=\"dataframe\">\n",
       "  <thead>\n",
       "    <tr style=\"text-align: right;\">\n",
       "      <th></th>\n",
       "      <th>temp</th>\n",
       "      <th>atemp</th>\n",
       "    </tr>\n",
       "  </thead>\n",
       "  <tbody>\n",
       "    <tr>\n",
       "      <th>0</th>\n",
       "      <td>-1.333661</td>\n",
       "      <td>-1.092737</td>\n",
       "    </tr>\n",
       "    <tr>\n",
       "      <th>1</th>\n",
       "      <td>-1.438907</td>\n",
       "      <td>-1.182421</td>\n",
       "    </tr>\n",
       "    <tr>\n",
       "      <th>2</th>\n",
       "      <td>-1.438907</td>\n",
       "      <td>-1.182421</td>\n",
       "    </tr>\n",
       "    <tr>\n",
       "      <th>3</th>\n",
       "      <td>-1.333661</td>\n",
       "      <td>-1.092737</td>\n",
       "    </tr>\n",
       "    <tr>\n",
       "      <th>4</th>\n",
       "      <td>-1.333661</td>\n",
       "      <td>-1.092737</td>\n",
       "    </tr>\n",
       "  </tbody>\n",
       "</table>\n",
       "</div>"
      ],
      "text/plain": [
       "       temp     atemp\n",
       "0 -1.333661 -1.092737\n",
       "1 -1.438907 -1.182421\n",
       "2 -1.438907 -1.182421\n",
       "3 -1.333661 -1.092737\n",
       "4 -1.333661 -1.092737"
      ]
     },
     "execution_count": 64,
     "metadata": {},
     "output_type": "execute_result"
    }
   ],
   "source": [
    "train[['temp','atemp']].head()"
   ]
  },
  {
   "cell_type": "code",
   "execution_count": 65,
   "id": "looking-emergency",
   "metadata": {},
   "outputs": [
    {
     "name": "stdout",
     "output_type": "stream",
     "text": [
      "[0.99596815]\n"
     ]
    }
   ],
   "source": [
    "pca = PCA(n_components=1)\n",
    "pca.fit(train[['temp','atemp']])\n",
    "train['PCA_temp_atemp'] = pca.transform(train[['temp','atemp']])\n",
    "pca.fit(test[['temp','atemp']])\n",
    "test['PCA_temp_atemp'] = pca.transform(test[['temp','atemp']])\n",
    "\n",
    "\n",
    "print(pca.explained_variance_ratio_)\n"
   ]
  },
  {
   "cell_type": "code",
   "execution_count": 66,
   "id": "defensive-window",
   "metadata": {},
   "outputs": [],
   "source": [
    "train.drop(['temp','atemp'], axis=1, inplace=True)\n",
    "test.drop(['temp','atemp'], axis=1, inplace=True)"
   ]
  },
  {
   "cell_type": "code",
   "execution_count": 67,
   "id": "excellent-signature",
   "metadata": {
    "tags": []
   },
   "outputs": [
    {
     "data": {
      "text/html": [
       "<div>\n",
       "<style scoped>\n",
       "    .dataframe tbody tr th:only-of-type {\n",
       "        vertical-align: middle;\n",
       "    }\n",
       "\n",
       "    .dataframe tbody tr th {\n",
       "        vertical-align: top;\n",
       "    }\n",
       "\n",
       "    .dataframe thead th {\n",
       "        text-align: right;\n",
       "    }\n",
       "</style>\n",
       "<table border=\"1\" class=\"dataframe\">\n",
       "  <thead>\n",
       "    <tr style=\"text-align: right;\">\n",
       "      <th></th>\n",
       "      <th>season</th>\n",
       "      <th>holiday</th>\n",
       "      <th>workingday</th>\n",
       "      <th>weather</th>\n",
       "      <th>year</th>\n",
       "      <th>month</th>\n",
       "      <th>day</th>\n",
       "      <th>hour</th>\n",
       "      <th>week</th>\n",
       "      <th>working1_peak_yn</th>\n",
       "      <th>...</th>\n",
       "      <th>week_0</th>\n",
       "      <th>week_1</th>\n",
       "      <th>week_2</th>\n",
       "      <th>week_3</th>\n",
       "      <th>week_4</th>\n",
       "      <th>week_5</th>\n",
       "      <th>week_6</th>\n",
       "      <th>humidity</th>\n",
       "      <th>windspeed</th>\n",
       "      <th>PCA_temp_atemp</th>\n",
       "    </tr>\n",
       "  </thead>\n",
       "  <tbody>\n",
       "    <tr>\n",
       "      <th>0</th>\n",
       "      <td>1</td>\n",
       "      <td>0</td>\n",
       "      <td>0</td>\n",
       "      <td>1</td>\n",
       "      <td>2011</td>\n",
       "      <td>1</td>\n",
       "      <td>1</td>\n",
       "      <td>0</td>\n",
       "      <td>5</td>\n",
       "      <td>1</td>\n",
       "      <td>...</td>\n",
       "      <td>0</td>\n",
       "      <td>0</td>\n",
       "      <td>0</td>\n",
       "      <td>0</td>\n",
       "      <td>0</td>\n",
       "      <td>1</td>\n",
       "      <td>0</td>\n",
       "      <td>0.993213</td>\n",
       "      <td>-1.567754</td>\n",
       "      <td>1.715722</td>\n",
       "    </tr>\n",
       "    <tr>\n",
       "      <th>1</th>\n",
       "      <td>1</td>\n",
       "      <td>0</td>\n",
       "      <td>0</td>\n",
       "      <td>1</td>\n",
       "      <td>2011</td>\n",
       "      <td>1</td>\n",
       "      <td>1</td>\n",
       "      <td>1</td>\n",
       "      <td>5</td>\n",
       "      <td>1</td>\n",
       "      <td>...</td>\n",
       "      <td>0</td>\n",
       "      <td>0</td>\n",
       "      <td>0</td>\n",
       "      <td>0</td>\n",
       "      <td>0</td>\n",
       "      <td>1</td>\n",
       "      <td>0</td>\n",
       "      <td>0.941249</td>\n",
       "      <td>-1.567754</td>\n",
       "      <td>1.853559</td>\n",
       "    </tr>\n",
       "    <tr>\n",
       "      <th>2</th>\n",
       "      <td>1</td>\n",
       "      <td>0</td>\n",
       "      <td>0</td>\n",
       "      <td>1</td>\n",
       "      <td>2011</td>\n",
       "      <td>1</td>\n",
       "      <td>1</td>\n",
       "      <td>2</td>\n",
       "      <td>5</td>\n",
       "      <td>1</td>\n",
       "      <td>...</td>\n",
       "      <td>0</td>\n",
       "      <td>0</td>\n",
       "      <td>0</td>\n",
       "      <td>0</td>\n",
       "      <td>0</td>\n",
       "      <td>1</td>\n",
       "      <td>0</td>\n",
       "      <td>0.941249</td>\n",
       "      <td>-1.567754</td>\n",
       "      <td>1.853559</td>\n",
       "    </tr>\n",
       "    <tr>\n",
       "      <th>3</th>\n",
       "      <td>1</td>\n",
       "      <td>0</td>\n",
       "      <td>0</td>\n",
       "      <td>1</td>\n",
       "      <td>2011</td>\n",
       "      <td>1</td>\n",
       "      <td>1</td>\n",
       "      <td>3</td>\n",
       "      <td>5</td>\n",
       "      <td>1</td>\n",
       "      <td>...</td>\n",
       "      <td>0</td>\n",
       "      <td>0</td>\n",
       "      <td>0</td>\n",
       "      <td>0</td>\n",
       "      <td>0</td>\n",
       "      <td>1</td>\n",
       "      <td>0</td>\n",
       "      <td>0.681430</td>\n",
       "      <td>-1.567754</td>\n",
       "      <td>1.715722</td>\n",
       "    </tr>\n",
       "    <tr>\n",
       "      <th>4</th>\n",
       "      <td>1</td>\n",
       "      <td>0</td>\n",
       "      <td>0</td>\n",
       "      <td>1</td>\n",
       "      <td>2011</td>\n",
       "      <td>1</td>\n",
       "      <td>1</td>\n",
       "      <td>4</td>\n",
       "      <td>5</td>\n",
       "      <td>1</td>\n",
       "      <td>...</td>\n",
       "      <td>0</td>\n",
       "      <td>0</td>\n",
       "      <td>0</td>\n",
       "      <td>0</td>\n",
       "      <td>0</td>\n",
       "      <td>1</td>\n",
       "      <td>0</td>\n",
       "      <td>0.681430</td>\n",
       "      <td>-1.567754</td>\n",
       "      <td>1.715722</td>\n",
       "    </tr>\n",
       "  </tbody>\n",
       "</table>\n",
       "<p>5 rows × 101 columns</p>\n",
       "</div>"
      ],
      "text/plain": [
       "   season  holiday  workingday  weather  year  month  day  hour  week  \\\n",
       "0       1        0           0        1  2011      1    1     0     5   \n",
       "1       1        0           0        1  2011      1    1     1     5   \n",
       "2       1        0           0        1  2011      1    1     2     5   \n",
       "3       1        0           0        1  2011      1    1     3     5   \n",
       "4       1        0           0        1  2011      1    1     4     5   \n",
       "\n",
       "   working1_peak_yn  ...  week_0  week_1  week_2  week_3  week_4  week_5  \\\n",
       "0                 1  ...       0       0       0       0       0       1   \n",
       "1                 1  ...       0       0       0       0       0       1   \n",
       "2                 1  ...       0       0       0       0       0       1   \n",
       "3                 1  ...       0       0       0       0       0       1   \n",
       "4                 1  ...       0       0       0       0       0       1   \n",
       "\n",
       "   week_6  humidity  windspeed  PCA_temp_atemp  \n",
       "0       0  0.993213  -1.567754        1.715722  \n",
       "1       0  0.941249  -1.567754        1.853559  \n",
       "2       0  0.941249  -1.567754        1.853559  \n",
       "3       0  0.681430  -1.567754        1.715722  \n",
       "4       0  0.681430  -1.567754        1.715722  \n",
       "\n",
       "[5 rows x 101 columns]"
      ]
     },
     "execution_count": 67,
     "metadata": {},
     "output_type": "execute_result"
    }
   ],
   "source": [
    "train.head()"
   ]
  },
  {
   "cell_type": "code",
   "execution_count": 68,
   "id": "9ba8a85b-4a16-47ce-80f0-604cebf9eb87",
   "metadata": {},
   "outputs": [
    {
     "data": {
      "text/plain": [
       "((10886, 101), (6493, 101), (10886,))"
      ]
     },
     "execution_count": 68,
     "metadata": {},
     "output_type": "execute_result"
    }
   ],
   "source": [
    "train.shape, test.shape, y_log.shape"
   ]
  },
  {
   "cell_type": "markdown",
   "id": "2723a706-4da1-43ae-80a2-9ace23f4c957",
   "metadata": {
    "tags": []
   },
   "source": [
    "## 중간 점수 확인"
   ]
  },
  {
   "cell_type": "code",
   "execution_count": 69,
   "id": "09d5fbc3-2e8b-40c5-80ad-330cf0fa57ad",
   "metadata": {},
   "outputs": [
    {
     "name": "stdout",
     "output_type": "stream",
     "text": [
      "LinearRegression\t RMSLE:0.5790\n",
      "Ridge\t RMSLE:0.5788\n",
      "Lasso\t RMSLE:1.1620\n",
      "ElasticNet\t RMSLE:1.1275\n",
      "DecisionTreeRegressor\t RMSLE:0.4142\n",
      "XGBRegressor\t RMSLE:0.2807\n",
      "LGBMRegressor\t RMSLE:0.2780\n"
     ]
    }
   ],
   "source": [
    "X_train, X_val, y_train, y_val =train_test_split(train, y_log, test_size=0.2, random_state=1414)\n",
    "\n",
    "models = [LinearRegression(), Ridge(), Lasso(), ElasticNet(), DecisionTreeRegressor(),XGBRegressor(), LGBMRegressor()]\n",
    "for model in models:  #X_train, X_val, y_train, y_val\n",
    "    model.fit(X_train,  y_train)\n",
    "    pred = model.predict(X_val)\n",
    "    my_score(y_val, pred)"
   ]
  },
  {
   "cell_type": "code",
   "execution_count": 70,
   "id": "b1e6f888-cf42-4570-acd6-a2196af0ddbc",
   "metadata": {},
   "outputs": [
    {
     "data": {
      "text/plain": [
       "((10886, 101), (10886,), (6493, 101))"
      ]
     },
     "execution_count": 70,
     "metadata": {},
     "output_type": "execute_result"
    }
   ],
   "source": [
    "train.shape, y_log.shape, test.shape"
   ]
  },
  {
   "cell_type": "markdown",
   "id": "1a89d503-fbae-4ccc-a02a-3f361ae0ebd2",
   "metadata": {},
   "source": [
    "## XGBRegressor\t RMSLE:0.2763 - submission.csv 제출\n",
    "* X_train, X_val, y_train, y_val =train_test_split(train, y_log, test_size=0.2, random_state=1414)\n",
    "* <font color='red'><b>train.shape, y_log.shape, test.shape ((10886, 101), (10886,), (6493, 101))</b></font>\n",
    "---\n",
    "*  목표점수 ----------- 0.33756  ~ 4.76188\n",
    "*   pred = abs(bagging_model.predict(X_test))              0.4103   Rank.340\n",
    "*   score = np.sqrt(mean_squared_log_error(y_test, pred))  0.3408   Rank.2"
   ]
  },
  {
   "cell_type": "code",
   "execution_count": 71,
   "id": "b359162c-f703-4f05-b6af-51fce1abf737",
   "metadata": {},
   "outputs": [
    {
     "data": {
      "text/html": [
       "<div>\n",
       "<style scoped>\n",
       "    .dataframe tbody tr th:only-of-type {\n",
       "        vertical-align: middle;\n",
       "    }\n",
       "\n",
       "    .dataframe tbody tr th {\n",
       "        vertical-align: top;\n",
       "    }\n",
       "\n",
       "    .dataframe thead th {\n",
       "        text-align: right;\n",
       "    }\n",
       "</style>\n",
       "<table border=\"1\" class=\"dataframe\">\n",
       "  <thead>\n",
       "    <tr style=\"text-align: right;\">\n",
       "      <th></th>\n",
       "      <th>year</th>\n",
       "      <th>month</th>\n",
       "      <th>day</th>\n",
       "      <th>hour</th>\n",
       "    </tr>\n",
       "  </thead>\n",
       "  <tbody>\n",
       "    <tr>\n",
       "      <th>6488</th>\n",
       "      <td>2012</td>\n",
       "      <td>12</td>\n",
       "      <td>31</td>\n",
       "      <td>19</td>\n",
       "    </tr>\n",
       "    <tr>\n",
       "      <th>6489</th>\n",
       "      <td>2012</td>\n",
       "      <td>12</td>\n",
       "      <td>31</td>\n",
       "      <td>20</td>\n",
       "    </tr>\n",
       "    <tr>\n",
       "      <th>6490</th>\n",
       "      <td>2012</td>\n",
       "      <td>12</td>\n",
       "      <td>31</td>\n",
       "      <td>21</td>\n",
       "    </tr>\n",
       "    <tr>\n",
       "      <th>6491</th>\n",
       "      <td>2012</td>\n",
       "      <td>12</td>\n",
       "      <td>31</td>\n",
       "      <td>22</td>\n",
       "    </tr>\n",
       "    <tr>\n",
       "      <th>6492</th>\n",
       "      <td>2012</td>\n",
       "      <td>12</td>\n",
       "      <td>31</td>\n",
       "      <td>23</td>\n",
       "    </tr>\n",
       "  </tbody>\n",
       "</table>\n",
       "</div>"
      ],
      "text/plain": [
       "      year  month  day  hour\n",
       "6488  2012     12   31    19\n",
       "6489  2012     12   31    20\n",
       "6490  2012     12   31    21\n",
       "6491  2012     12   31    22\n",
       "6492  2012     12   31    23"
      ]
     },
     "execution_count": 71,
     "metadata": {},
     "output_type": "execute_result"
    }
   ],
   "source": [
    "test[['year','month','day','hour']].tail()"
   ]
  },
  {
   "cell_type": "code",
   "execution_count": 72,
   "id": "c1f75f76-81ff-4de5-82e0-31c182819474",
   "metadata": {},
   "outputs": [
    {
     "data": {
      "text/html": [
       "<div>\n",
       "<style scoped>\n",
       "    .dataframe tbody tr th:only-of-type {\n",
       "        vertical-align: middle;\n",
       "    }\n",
       "\n",
       "    .dataframe tbody tr th {\n",
       "        vertical-align: top;\n",
       "    }\n",
       "\n",
       "    .dataframe thead th {\n",
       "        text-align: right;\n",
       "    }\n",
       "</style>\n",
       "<table border=\"1\" class=\"dataframe\">\n",
       "  <thead>\n",
       "    <tr style=\"text-align: right;\">\n",
       "      <th></th>\n",
       "      <th>datetime</th>\n",
       "      <th>count</th>\n",
       "    </tr>\n",
       "  </thead>\n",
       "  <tbody>\n",
       "    <tr>\n",
       "      <th>6488</th>\n",
       "      <td>2012-12-31 19:00:00</td>\n",
       "      <td>242</td>\n",
       "    </tr>\n",
       "    <tr>\n",
       "      <th>6489</th>\n",
       "      <td>2012-12-31 20:00:00</td>\n",
       "      <td>155</td>\n",
       "    </tr>\n",
       "    <tr>\n",
       "      <th>6490</th>\n",
       "      <td>2012-12-31 21:00:00</td>\n",
       "      <td>129</td>\n",
       "    </tr>\n",
       "    <tr>\n",
       "      <th>6491</th>\n",
       "      <td>2012-12-31 22:00:00</td>\n",
       "      <td>97</td>\n",
       "    </tr>\n",
       "    <tr>\n",
       "      <th>6492</th>\n",
       "      <td>2012-12-31 23:00:00</td>\n",
       "      <td>57</td>\n",
       "    </tr>\n",
       "  </tbody>\n",
       "</table>\n",
       "</div>"
      ],
      "text/plain": [
       "                 datetime  count\n",
       "6488  2012-12-31 19:00:00    242\n",
       "6489  2012-12-31 20:00:00    155\n",
       "6490  2012-12-31 21:00:00    129\n",
       "6491  2012-12-31 22:00:00     97\n",
       "6492  2012-12-31 23:00:00     57"
      ]
     },
     "execution_count": 72,
     "metadata": {},
     "output_type": "execute_result"
    }
   ],
   "source": [
    "sub.tail()"
   ]
  },
  {
   "cell_type": "code",
   "execution_count": 73,
   "id": "f52684d6-0389-478c-9315-37a8593ba47f",
   "metadata": {},
   "outputs": [
    {
     "name": "stdout",
     "output_type": "stream",
     "text": [
      "LGBMRegressor\t RMSLE:0.2780\n"
     ]
    }
   ],
   "source": [
    "models = [LGBMRegressor()]\n",
    "for model in models:  #X_train, X_val, y_train, y_val\n",
    "    model.fit(X_train,  y_train)\n",
    "    pred = model.predict(X_val)\n",
    "    my_score(y_val, pred)"
   ]
  },
  {
   "cell_type": "code",
   "execution_count": 74,
   "id": "65cbd6cc-056a-4584-9990-18c51e5e9803",
   "metadata": {},
   "outputs": [
    {
     "name": "stdout",
     "output_type": "stream",
     "text": [
      "np.log1p() 예측답안 [3.10501942 2.40850568 1.81049886 1.48577173 1.54803569]\n",
      "np.expm1() 예측답안 [21.30965215 10.11733592  5.11349647  3.4183739   3.70222449]\n",
      "np.round() 최종답안 [ 21  10   5 ... 305 193 104]\n"
     ]
    },
    {
     "data": {
      "text/html": [
       "<div>\n",
       "<style scoped>\n",
       "    .dataframe tbody tr th:only-of-type {\n",
       "        vertical-align: middle;\n",
       "    }\n",
       "\n",
       "    .dataframe tbody tr th {\n",
       "        vertical-align: top;\n",
       "    }\n",
       "\n",
       "    .dataframe thead th {\n",
       "        text-align: right;\n",
       "    }\n",
       "</style>\n",
       "<table border=\"1\" class=\"dataframe\">\n",
       "  <thead>\n",
       "    <tr style=\"text-align: right;\">\n",
       "      <th></th>\n",
       "      <th>datetime</th>\n",
       "      <th>count</th>\n",
       "    </tr>\n",
       "  </thead>\n",
       "  <tbody>\n",
       "    <tr>\n",
       "      <th>0</th>\n",
       "      <td>2011-01-20 00:00:00</td>\n",
       "      <td>21</td>\n",
       "    </tr>\n",
       "    <tr>\n",
       "      <th>1</th>\n",
       "      <td>2011-01-20 01:00:00</td>\n",
       "      <td>10</td>\n",
       "    </tr>\n",
       "    <tr>\n",
       "      <th>2</th>\n",
       "      <td>2011-01-20 02:00:00</td>\n",
       "      <td>5</td>\n",
       "    </tr>\n",
       "    <tr>\n",
       "      <th>3</th>\n",
       "      <td>2011-01-20 03:00:00</td>\n",
       "      <td>3</td>\n",
       "    </tr>\n",
       "    <tr>\n",
       "      <th>4</th>\n",
       "      <td>2011-01-20 04:00:00</td>\n",
       "      <td>4</td>\n",
       "    </tr>\n",
       "  </tbody>\n",
       "</table>\n",
       "</div>"
      ],
      "text/plain": [
       "              datetime  count\n",
       "0  2011-01-20 00:00:00     21\n",
       "1  2011-01-20 01:00:00     10\n",
       "2  2011-01-20 02:00:00      5\n",
       "3  2011-01-20 03:00:00      3\n",
       "4  2011-01-20 04:00:00      4"
      ]
     },
     "execution_count": 74,
     "metadata": {},
     "output_type": "execute_result"
    }
   ],
   "source": [
    "# 모델은 학습시 집 가격을 로그화(12400  --> 5.3)  데이터로 학습되 있는 상태\n",
    "model.fit(train, y_log) \n",
    "pred = model.predict(test)\n",
    "print(\"np.log1p() 예측답안\", pred[:5])   #[3.10501942 2.40850568 1.81049886 1.48577173 1.54803569]\n",
    "\n",
    "# np.log  np.log1p lus <-- --> np.expm1 inus\n",
    "pred_exp = np.expm1(pred)\n",
    "print(\"np.expm1() 예측답안\", pred_exp[:5])  \n",
    "\n",
    "# RMSLE = Under Estimation(예측값＜실제값) 에 큰 패널티 부여  \n",
    "print(\"np.round() 최종답안\", np.round(pred_exp).astype(int))\n",
    "sub['count']  =  np.round(pred_exp).astype(int) \n",
    "\n",
    "sub.head()"
   ]
  },
  {
   "cell_type": "code",
   "execution_count": 75,
   "id": "af2762f7-ea04-4cbb-af07-4ef90a49263f",
   "metadata": {},
   "outputs": [],
   "source": [
    "# pred = model.predict(test)\n",
    "# pred_exp = np.expm1(pred)\n",
    "# sub['count']  =  np.round(pred_exp).astype(int) \n",
    "sub.to_csv(\"lkh_v1.csv\", index=False)"
   ]
  },
  {
   "cell_type": "markdown",
   "id": "b8d1d466-0129-4244-ab94-d3018fb5923d",
   "metadata": {},
   "source": [
    "## 회귀모델 boost 계열 모델 --> 엄청난 오버피팅이 문제\n",
    "* 규제 강화\n",
    "* 모델 하이퍼파라미터 튜닝\n",
    "* 데이터 학습량 늘리기\n",
    "* 연속형 피쳐 데이터 바인딩\n",
    "* train / test 피쳐별 분포 비교 --> 원인이 되는 피쳐 아웃라이어 처리\n",
    "* 외도 심한 피처 정규화"
   ]
  },
  {
   "cell_type": "code",
   "execution_count": 76,
   "id": "53f214c7-4bf8-4883-ba94-dfc413eea562",
   "metadata": {},
   "outputs": [
    {
     "ename": "IndentationError",
     "evalue": "expected an indented block (Temp/ipykernel_6168/4261879951.py, line 10)",
     "output_type": "error",
     "traceback": [
      "\u001b[1;36m  File \u001b[1;32m\"C:\\Users\\677\\AppData\\Local\\Temp/ipykernel_6168/4261879951.py\"\u001b[1;36m, line \u001b[1;32m10\u001b[0m\n\u001b[1;33m    df = pd.DataFrame(\u001b[0m\n\u001b[1;37m    ^\u001b[0m\n\u001b[1;31mIndentationError\u001b[0m\u001b[1;31m:\u001b[0m expected an indented block\n"
     ]
    }
   ],
   "source": [
    "cols = train.columns\n",
    "cols_len = len(cols)\n",
    "train_arr = []\n",
    "test_arr = []\n",
    "diff_arr = []\n",
    "for i, col in enumerate(cols):\n",
    "#     {\"col\":train.columns, \"train_skew\":skew(train[col]), \"test_skew\":skew(test[col]), \"diff\":skew(train[col])-skew(test[col]) })\n",
    "#     print(col, skew(train[col]))\n",
    "\n",
    "df = pd.DataFrame(\n",
    "df.head()\n",
    "    "
   ]
  },
  {
   "cell_type": "code",
   "execution_count": null,
   "id": "da3f0e41-077b-4a9e-a0f1-6e9e59f94be0",
   "metadata": {},
   "outputs": [],
   "source": [
    "cols = train.columns\n",
    "cols_len = len(cols)\n",
    "f,ax=plt.subplots( int(np.ceil(cols_len/4)) ,4,figsize=(18, 4*int(np.ceil(cols_len/4))))\n",
    "\n",
    "for i, col in enumerate(cols):\n",
    "    c = i % 4\n",
    "    r = i // 4\n",
    "    sns.histplot(data=train, x=col, kde=True,  ax=ax[r][c])\n",
    "    sns.histplot(data=test, x=col,  kde=True, color = 'green', ax=ax[r][c])\n",
    "plt.show()\n",
    "\n",
    "    "
   ]
  },
  {
   "cell_type": "markdown",
   "id": "inappropriate-zimbabwe",
   "metadata": {},
   "source": [
    "### 구간화(바인딩)\n",
    "* dict - map()\n",
    "* lambda & def - apply\n",
    "* cut(), qcut()"
   ]
  },
  {
   "cell_type": "code",
   "execution_count": null,
   "id": "labeled-incidence",
   "metadata": {},
   "outputs": [],
   "source": []
  },
  {
   "cell_type": "code",
   "execution_count": null,
   "id": "adapted-aquatic",
   "metadata": {},
   "outputs": [],
   "source": [
    "# train_test = pd.concat([train, test], axis=0)\n",
    "# train_test['temp'].hist()\n",
    "# plt.show()\n",
    "# #------------------------------------\n",
    "# train_test.loc[train_test['temp']<=0, 'temp_band1'] = 1\n",
    "# train_test.loc[(train_test['temp']>0) & (train_test['temp']<=13), 'temp_band1'] = 2\n",
    "# train_test.loc[(train_test['temp']>13) & (train_test['temp']<=20), 'temp_band1'] = 3\n",
    "# train_test.loc[(train_test['temp']>20) & (train_test['temp']<=27), 'temp_band1'] = 4\n",
    "# train_test.loc[(train_test['temp']>27) & (train_test['temp']<=45), 'temp_band1'] = 5\n",
    "# train_test.loc[train_test['temp']>45, 'temp_band1'] = 6\n",
    "\n",
    "# train_test['temp_band1'] = train_test['temp_band1'].astype('int')\n",
    "# #------------------------------------\n",
    "# # 수치비교(부등호) 안되기때문에 현재 상황에서는 사용 불가 ==> 단일성 값의 경우에 사용\n",
    "# # dict = {\"A\":1, \"B\":2} \n",
    "# # train_test['temp_band2'] =train_test['temp'].map(dict) \n",
    "# #------------------------------------\n",
    "\n",
    "# def temp_bind(x):\n",
    "#     temp_band1 = 0\n",
    "#     if x<=0:\n",
    "#         temp_band1 = 1\n",
    "#     elif (x>0) & (x<=13):\n",
    "#         temp_band1 = 2\n",
    "#     elif (x>13) & (x<=20):\n",
    "#         temp_band1 = 3\n",
    "#     elif (x>20) & (x<=27):\n",
    "#         temp_band1 = 4\n",
    "#     elif (x>27) & (x<=45):\n",
    "#         temp_band1 = 5\n",
    "#     else:\n",
    "#         temp_band1 = 6\n",
    "#     return temp_band1\n",
    "# train_test['temp_band2'] = train_test['temp'].apply(lambda x: temp_bind(x))\n",
    "# #------------------------------------\n",
    "# train_test['temp_band3'] =pd.cut(train_test['temp'], bins=[-100,0,13,20,27,45,100], labels=[1,2,3,4,5,6])\n",
    "# #------------------------------------\n",
    "# train_test[['temp','temp_band1','temp_band2','temp_band3']].head(20)\n"
   ]
  },
  {
   "cell_type": "code",
   "execution_count": null,
   "id": "5b882888-4b5c-4201-983b-58ce7e8f3a39",
   "metadata": {},
   "outputs": [],
   "source": []
  },
  {
   "cell_type": "code",
   "execution_count": null,
   "id": "166194d1-4864-4d6e-bd23-57b65a5566db",
   "metadata": {},
   "outputs": [],
   "source": []
  },
  {
   "cell_type": "code",
   "execution_count": null,
   "id": "5f34708b-4a4f-445e-9118-f45f35c5a628",
   "metadata": {},
   "outputs": [],
   "source": []
  },
  {
   "cell_type": "code",
   "execution_count": null,
   "id": "d0319d9f-1361-46b2-b1f7-a043552947c1",
   "metadata": {},
   "outputs": [],
   "source": []
  },
  {
   "cell_type": "code",
   "execution_count": null,
   "id": "46b42b75-2980-461e-b907-66a8c6894a75",
   "metadata": {},
   "outputs": [],
   "source": []
  }
 ],
 "metadata": {
  "kernelspec": {
   "display_name": "Python 3 (ipykernel)",
   "language": "python",
   "name": "python3"
  },
  "language_info": {
   "codemirror_mode": {
    "name": "ipython",
    "version": 3
   },
   "file_extension": ".py",
   "mimetype": "text/x-python",
   "name": "python",
   "nbconvert_exporter": "python",
   "pygments_lexer": "ipython3",
   "version": "3.8.8"
  }
 },
 "nbformat": 4,
 "nbformat_minor": 5
}
