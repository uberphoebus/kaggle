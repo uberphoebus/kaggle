{
 "cells": [
  {
   "cell_type": "markdown",
   "source": [
    "# imports"
   ],
   "metadata": {
    "id": "A5rTauQV9HY1"
   }
  },
  {
   "cell_type": "code",
   "execution_count": 1,
   "source": [
    "import pandas as pd\r\n",
    "import numpy as np\r\n",
    "import matplotlib.pyplot as plt\r\n",
    "import seaborn as sns; sns.set()\r\n",
    "import warnings; warnings.filterwarnings(action='ignore')\r\n",
    "# --------------------------------------------------\r\n",
    "\r\n",
    "# --------------------------------------------------\r\n",
    "# load datasets\r\n",
    "from sklearn import datasets\r\n",
    "\r\n",
    "# imblearn.sampling\r\n",
    "from imblearn.over_sampling import SMOTE\r\n",
    "from imblearn.under_sampling import NearMiss\r\n",
    "\r\n",
    "# preprocessing.encoding\r\n",
    "from sklearn.preprocessing import LabelEncoder, OneHotEncoder, OrdinalEncoder # pd.get_dummies\r\n",
    "# preprocessing.scaling\r\n",
    "from sklearn.preprocessing import MinMaxScaler, StandardScaler, RobustScaler\r\n",
    "# preprocessing.binarizing\r\n",
    "from sklearn.preprocessing import Binarizer\r\n",
    "\r\n",
    "# decomposition.PCA\r\n",
    "from sklearn.decomposition import PCA\r\n",
    "# stats : R module\r\n",
    "from scipy.stats import skew, kurtosis\r\n",
    "\r\n",
    "# estimators ---------------------------------------\r\n",
    "# estimators.classifier\r\n",
    "from sklearn.tree import DecisionTreeClassifier\r\n",
    "from sklearn.linear_model import LogisticRegression # classifier\r\n",
    "from sklearn.linear_model import RidgeClassifier, RidgeClassifierCV # regressor 응용\r\n",
    "# estimators.regressor\r\n",
    "from sklearn.tree import DecisionTreeRegressor\r\n",
    "from sklearn.linear_model import LinearRegression\r\n",
    "from sklearn.linear_model import Ridge, RidgeCV\r\n",
    "from sklearn.linear_model import Lasso, LassoCV\r\n",
    "from sklearn.linear_model import ElasticNet, ElasticNetCV\r\n",
    "# --------------------------------------------------\r\n",
    "\r\n",
    "# ensemble -----------------------------------------\r\n",
    "# ensemble.bagging\r\n",
    "from sklearn.ensemble import BaggingClassifier, BaggingRegressor\r\n",
    "from sklearn.ensemble import RandomForestClassifier, RandomForestRegressor\r\n",
    "# ensemble.boosting\r\n",
    "from sklearn.ensemble import GradientBoostingClassifier, GradientBoostingRegressor\r\n",
    "from xgboost import XGBClassifier, XGBRegressor\r\n",
    "from lightgbm import LGBMClassifier, LGBMRegressor\r\n",
    "from catboost import CatBoostClassifier, CatBoostRegressor\r\n",
    "# ensemble.boosting & bagging\r\n",
    "from xgboost import XGBRFClassifier, XGBRFRegressor\r\n",
    "# ensemble.voting\r\n",
    "from sklearn.ensemble import VotingClassifier, VotingRegressor\r\n",
    "# --------------------------------------------------\r\n",
    "\r\n",
    "# metrics ------------------------------------------\r\n",
    "# metrics.scores\r\n",
    "from sklearn.metrics import accuracy_score, precision_score, recall_score\r\n",
    "from sklearn.metrics import f1_score, roc_auc_score\r\n",
    "from sklearn.metrics import log_loss\r\n",
    "# metrics.reports\r\n",
    "from sklearn.metrics import confusion_matrix, plot_confusion_matrix\r\n",
    "from sklearn.metrics import classification_report, ConfusionMatrixDisplay\r\n",
    "# metrics.errors\r\n",
    "from sklearn.metrics import mean_squared_error     # 'neg_mean_squared_error', 'neg_root_mean_squared_error'\r\n",
    "from sklearn.metrics import mean_squared_log_error # 'neg_mean_squared_log_error'\r\n",
    "from sklearn.metrics import mean_absolute_error    # 'neg_mean_absolute_error'\r\n",
    "# metrics.curves\r\n",
    "from sklearn.metrics import precision_recall_curve, plot_precision_recall_curve\r\n",
    "from sklearn.metrics import roc_curve, plot_roc_curve\r\n",
    "# --------------------------------------------------\r\n",
    "\r\n",
    "# model_selection ----------------------------------\r\n",
    "# model_selection.splitter\r\n",
    "from sklearn.model_selection import train_test_split       # function\r\n",
    "# model_selection.model_validation\r\n",
    "from sklearn.model_selection import KFold, StratifiedKFold\r\n",
    "from sklearn.model_selection import cross_val_score, cross_validate\r\n",
    "# model_selection.hyper_parameter_optimizer\r\n",
    "from sklearn.model_selection import GridSearchCV\r\n",
    "# --------------------------------------------------\r\n",
    "\r\n",
    "\r\n",
    "# --------------------------------------------------\r\n",
    "def check_nan(df):\r\n",
    "    nan = df.isna().sum()[df.isna().sum() != 0]\r\n",
    "    nan_cols = list(nan.index)\r\n",
    "    nan_cnt  = df[nan_cols].isna().sum()\r\n",
    "    rate = round(nan_cnt / df.shape[0] * 100, 2)\r\n",
    "    nan_df = pd.DataFrame({'NAN_CNT':nan_cnt, 'RATE':rate})\r\n",
    "    \r\n",
    "    print(nan_df)\r\n",
    "    print('-' * 30)\r\n",
    "    print('nan_cols count =', len(nan_cols))\r\n",
    "    print(nan_cols)\r\n",
    " \r\n",
    "    for col in nan_cols:\r\n",
    "        print('-' * 30)\r\n",
    "        print(df[col].value_counts())\r\n",
    "        print('value_counts =', df[col].count(), '/ nan_counts =', df[col].isna().sum())\r\n",
    "    \r\n",
    "    return nan_cols\r\n",
    "# nan_cols = check_nan(df)\r\n",
    "# --------------------------------------------------\r\n",
    "\r\n",
    "# --------------------------------------------------\r\n",
    "def check_outliers(X_train, features, rate=1.5):\r\n",
    "    \r\n",
    "    dict = {}\r\n",
    "    \r\n",
    "    for col in features:\r\n",
    "        \r\n",
    "        Q1 = np.percentile(X_train[col], 25) \r\n",
    "        Q3 = np.percentile(X_train[col], 75) \r\n",
    "        IQR = Q3 - Q1\r\n",
    "        \r\n",
    "        min = Q1 - (rate * IQR)\r\n",
    "        max = Q3 + (rate * IQR)\r\n",
    "        \r\n",
    "        idxs = X_train[(X_train[col] < min) | (X_train[col] > max)].index\r\n",
    "        \r\n",
    "        dict[col] = idxs\r\n",
    "        \r\n",
    "    return dict\r\n",
    "# check_outliers(X_train, 'Insulin')\r\n",
    "# --------------------------------------------------\r\n",
    "\r\n",
    "# --------------------------------------------------\r\n",
    "def check_object(df):\r\n",
    "    object_cols = list(df.dtypes[df.dtypes == 'object'].index)\r\n",
    "    print('object_cols count =', len(object_cols))\r\n",
    "    for col in object_cols:\r\n",
    "        print('-' * 30)\r\n",
    "        print(df[col].value_counts())\r\n",
    "    return object_cols\r\n",
    "# object_cols = encode(df)\r\n",
    "# --------------------------------------------------\r\n",
    "\r\n",
    "# --------------------------------------------------\r\n",
    "def mapping(df, col, dict):\r\n",
    "    dict = {}\r\n",
    "    \r\n",
    "    for i in range(len(df[col].value_counts().index)):\r\n",
    "        dict[df[col].value_counts().index[i]] = i\r\n",
    "    \r\n",
    "    df['e_' + col] = df[col].map(dict)\r\n",
    "    return df['e_' + col].value_counts()\r\n",
    "# mapping(df, 'gender')\r\n",
    "# --------------------------------------------------\r\n",
    "\r\n",
    "# --------------------------------------------------\r\n",
    "def scores(y_test, y_pred):\r\n",
    "    \r\n",
    "    \"\"\"evaluation scores\"\"\"\r\n",
    "    \r\n",
    "    f1        = f1_score         (y_test, y_pred, average='macro')\r\n",
    "    accuracy  = accuracy_score   (y_test, y_pred, )\r\n",
    "    precision = precision_score  (y_test, y_pred, average='macro')\r\n",
    "    recall    = recall_score     (y_test, y_pred, average='macro')\r\n",
    "    c_matrix  = confusion_matrix (y_test, y_pred, )\r\n",
    "    \r\n",
    "    print(\r\n",
    "          f'accuracy  = {accuracy:.6f},  '\r\n",
    "          f'f1 score  = {f1:.6f},  \\n'\r\n",
    "          f'precision = {precision:.6f},  '\r\n",
    "          f'recall    = {recall:.6f},')\r\n",
    "    print(c_matrix)\r\n",
    "    \r\n",
    "    # plt.figure(figsize=(12, 9))\r\n",
    "    # plt.title('confusion matrix')\r\n",
    "    # plt.xlabel('Predict')\r\n",
    "    # plt.ylabel('Actual')\r\n",
    "    # sns.heatmap(c_matrix, annot=True, linewidths=1, cmap='Blues', annot_kws={\"size\": 14})\r\n",
    "    # plt.show()\r\n",
    "# --------------------------------------------------\r\n",
    "\r\n",
    "# --------------------------------------------------\r\n",
    "def curves(y_test, probas_pred):\r\n",
    "        \r\n",
    "    FPRS, TPRS, thresholds = roc_curve(y_test, probas_pred[:, 1])\r\n",
    " \r\n",
    "    f, ax = plt.subplots(1, 2, figsize=(16, 6))\r\n",
    " \r\n",
    "    # settings\r\n",
    "    plt.subplot(121)\r\n",
    "    plt.title('ROC curve')\r\n",
    "    plt.gray()\r\n",
    "    plt.xlabel('FPR(1- specificity)')\r\n",
    "    plt.ylabel('TPR')\r\n",
    " \r\n",
    "    # x, y values\r\n",
    "    plt.plot(FPRS, TPRS, label='ROC', linestyle='solid')\r\n",
    "    plt.plot([0, 1], [0, 1], label='50%', color='gray', linestyle=':')\r\n",
    "    plt.legend()\r\n",
    " \r\n",
    "    precisions, recalls, thresholds = precision_recall_curve(y_test, probas_pred[:, 1])\r\n",
    "    f1_scores = 2 * (precisions * recalls) / (precisions + recalls)\r\n",
    " \r\n",
    "    plt.subplot(122)\r\n",
    "    plt.title('precision recall curve')\r\n",
    "    plt.gray()\r\n",
    "    plt.xlabel('threshold')\r\n",
    "    plt.ylabel('scores')\r\n",
    " \r\n",
    "    # x, y values\r\n",
    "    plt.plot(thresholds, precisions[:thresholds.shape[0]], label='precision', linestyle=':')\r\n",
    "    plt.plot(thresholds, recalls[:thresholds.shape[0]],    label='recall',    linestyle='--')\r\n",
    "    plt.plot(thresholds, f1_scores[:thresholds.shape[0]],  label='f1',        linestyle='solid')\r\n",
    "    # valid linestyle = '-', '--', '-.', ':', 'None', ' ', '', 'solid', 'dashed', 'dashdot', 'dotted'\r\n",
    "    plt.legend()\r\n",
    " \r\n",
    "    plt.show()\r\n",
    "    \r\n",
    "    print('AUC = ', roc_auc_score(y_test, probas_pred[:, 1]))\r\n",
    "# --------------------------------------------------"
   ],
   "outputs": [],
   "metadata": {
    "id": "6MlU44mI9HY4"
   }
  },
  {
   "cell_type": "markdown",
   "source": [
    "# metrics imports"
   ],
   "metadata": {
    "id": "6Ke2dIt49HY7"
   }
  },
  {
   "cell_type": "code",
   "execution_count": 2,
   "source": [
    "# # classification GridsearchCV : INPUT DF VERSION & TARGET\r\n",
    "# # ==================================================\r\n",
    "# df_met     = df00\r\n",
    "# target_met = 'target'\r\n",
    "# # ==================================================\r\n",
    "\r\n",
    "# # X, y split\r\n",
    "# train_met = df_met[df_met[target_met].notna()]\r\n",
    "# X_met = train_met.drop(target_met, axis=1)\r\n",
    "# y_met = train_met[target_met]\r\n",
    "\r\n",
    "# # models\r\n",
    "# classification_models = [RandomForestClassifier(),\r\n",
    "#                          GradientBoostingClassifier(),\r\n",
    "#                          XGBClassifier(), \r\n",
    "#                          XGBRFClassifier(), \r\n",
    "#                          LGBMClassifier(), \r\n",
    "#                          CatBoostClassifier(),\r\n",
    "#                          ]\r\n",
    "\r\n",
    "# # param_grid=\r\n",
    "# hyper_param = {'n_estimators':[100],\r\n",
    "#                'random_state':[0],\r\n",
    "#               #  'min_samples_split':[2],\r\n",
    "#               #  'min_samples_leaf':[1],\r\n",
    "#                }\r\n",
    "\r\n",
    "# # scoring=\r\n",
    "# classification_scorers = {'f1_macro':'f1_macro', 'accuracy':'accuracy',\r\n",
    "#                           'precision':'precision_macro', 'recall':'recall_macro', \r\n",
    "#                           'roc_auc_ovr':'roc_auc_ovr',}\r\n",
    "\r\n",
    "# # cv=\r\n",
    "# kf  = KFold          (n_splits=5, shuffle=True, random_state=0)\r\n",
    "# skf = StratifiedKFold(n_splits=5, shuffle=True, random_state=0)\r\n",
    "\r\n",
    "# # cv_results_ cols\r\n",
    "# classification_cols = ['mean_test_f1_macro', 'mean_test_accuracy', \r\n",
    "#                        'mean_test_precision', 'mean_test_recall', 'mean_test_roc_auc_ovr',]\r\n",
    "\r\n",
    "# # GridSearchCV loop\r\n",
    "# for model in classification_models:\r\n",
    "        \r\n",
    "#         gscv = GridSearchCV(model, param_grid=hyper_param, \r\n",
    "#                             scoring=classification_scorers, refit='f1_macro', \r\n",
    "#                             cv=skf, return_train_score=True)\r\n",
    "#         gscv.fit(X_met, y_met)\r\n",
    "#         results = gscv.cv_results_\r\n",
    "        \r\n",
    "#         print('-' * 75)\r\n",
    "#         print('estimtor        =', gscv.estimator)\r\n",
    "#         print('best_params_    =', gscv.best_params_)\r\n",
    "#         print('best_score_     =', gscv.best_score_)\r\n",
    "        \r\n",
    "#         met_df = pd.DataFrame(results)[classification_cols]\r\n",
    "#         met_df.columns = ['f1_macro', 'accuracy', 'precision', 'recall', 'auc_ovr',]\r\n",
    "#         print(met_df)"
   ],
   "outputs": [],
   "metadata": {
    "id": "nqHwcExp9HY-"
   }
  },
  {
   "cell_type": "code",
   "execution_count": 3,
   "source": [
    "# # classification cross_validate : INPUT DF VERSION & TARGET\r\n",
    "# # ==================================================\r\n",
    "# df_met     = df00\r\n",
    "# target_met = 'target'\r\n",
    "# # ==================================================\r\n",
    "\r\n",
    "# # X, y split\r\n",
    "# train_met = df_met[df_met[target_met].notna()]\r\n",
    "# X_met = train_met.drop(target_met, axis=1)\r\n",
    "# y_met = train_met[target_met]\r\n",
    "\r\n",
    "# # estimators=\r\n",
    "# classification_models = [RandomForestClassifier(random_state=0),\r\n",
    "#                          GradientBoostingClassifier(random_state=0),\r\n",
    "#                          XGBClassifier(random_state=0),\r\n",
    "#                          XGBRFClassifier(random_state=0),\r\n",
    "#                          LGBMClassifier(random_state=0),\r\n",
    "#                          CatBoostClassifier(random_state=0),\r\n",
    "#                          ]\r\n",
    "\r\n",
    "# # scorings=\r\n",
    "# classification_scorers = {'f1_macro':'f1_macro', 'accuracy':'accuracy',\r\n",
    "#                           'precision':'precision_macro', 'recall':'recall_macro', \r\n",
    "#                           'roc_auc_ovr':'roc_auc_ovr',}\r\n",
    "\r\n",
    "# # cv=\r\n",
    "# kf  = KFold          (n_splits=5, shuffle=True, random_state=0)\r\n",
    "# skf = StratifiedKFold(n_splits=5, shuffle=True, random_state=0)\r\n",
    "\r\n",
    "# # cross_validate loop\r\n",
    "# for model in classification_models:\r\n",
    "    \r\n",
    "#     cv_results = cross_validate(model, X_met, y_met,\r\n",
    "#                                 scoring=classification_scorers,\r\n",
    "#                                 cv=skf,\r\n",
    "#                                 return_train_score=True, return_estimator=True)\r\n",
    "    \r\n",
    "#     print('-' * 70)\r\n",
    "#     print('model  =', model.__class__.__name__)\r\n",
    "#     print('params =', model.get_params(deep=True))\r\n",
    "    \r\n",
    "#     # classification metrics\r\n",
    "#     print('f1_macro  = {}  '.format(cv_results['test_f1_macro'].mean()),\r\n",
    "#           'accuracy  = {}  '.format(cv_results['test_accuracy'].mean()), '\\n'\r\n",
    "#           'precision = {}  '.format(cv_results['test_precision'].mean()),\r\n",
    "#           'recall    = {}  '.format(cv_results['test_recall'].mean()), '\\n'\r\n",
    "#           'AUC_ovr   = {}  '.format(cv_results['test_roc_auc_ovr'].mean()),\r\n",
    "#           )\r\n",
    "    \r\n",
    "#     fi_list = []\r\n",
    "#     for idx, estimator in enumerate(cv_results['estimator']):\r\n",
    "#         fi = pd.DataFrame(estimator.feature_importances_, \r\n",
    "#                           index=X_met.columns, columns=['importance']).sort_values('importance', ascending=False)\r\n",
    "        \r\n",
    "#         fi_list.append(estimator.feature_importances_.tolist())\r\n",
    "#     fi_means = np.array(fi_list).mean(axis=0)\r\n",
    "#     fi_df = pd.DataFrame(fi_means, columns=['importance'], index=X_met.columns).sort_values(by='importance', ascending=False)\r\n",
    "#     fig, ax = plt.subplots(figsize=(16, 12))\r\n",
    "#     sns.set_theme(style='whitegrid')\r\n",
    "#     sns.set_color_codes('pastel')\r\n",
    "#     sns.barplot(x='importance', y_met=X_met.columns, data=fi_df)\r\n",
    "#     plt.show()"
   ],
   "outputs": [],
   "metadata": {
    "id": "Jq-w7gh89HY9"
   }
  },
  {
   "cell_type": "code",
   "execution_count": 4,
   "source": [
    "# # regression cross_validate : INPUT DF VERSION & TARGET\r\n",
    "# # ==================================================\r\n",
    "# df_met     = df00\r\n",
    "# target_met = 'count'\r\n",
    "# # ==================================================\r\n",
    "\r\n",
    "# # X, y split\r\n",
    "# train_met = df_met[df_met[target_met].notna()]\r\n",
    "# X_train_test_met = train_met.drop(target_met, axis=1)\r\n",
    "# y_train_test_met = train_met[target_met]\r\n",
    "\r\n",
    "# # estimators=\r\n",
    "# regressor_models = [\r\n",
    "#                     LinearRegression      (),\r\n",
    "#                     DecisionTreeRegressor (random_state=0),\r\n",
    "#                     Ridge                 (random_state=0),\r\n",
    "#                     Lasso                 (random_state=0),\r\n",
    "#                     ElasticNet            (random_state=0),\r\n",
    "#                     RandomForestRegressor (random_state=0),\r\n",
    "#                     XGBRegressor          (random_state=0),\r\n",
    "#                     LGBMRegressor         (random_state=0),\r\n",
    "#                     CatBoostRegressor     (random_state=0, verbose=0),\r\n",
    "#                     ]\r\n",
    "\r\n",
    "# # scorings=\r\n",
    "# regressor_scorers = {'MSE':'neg_mean_squared_error',\r\n",
    "#                      'RMSE':'neg_root_mean_squared_error',\r\n",
    "#                     #  'MSLE':'neg_mean_squared_log_error',\r\n",
    "#                     #  'MAE':'neg_mean_absolute_error',\r\n",
    "#                      }\r\n",
    "\r\n",
    "# # cv=\r\n",
    "# kf  = KFold          (n_splits=5, shuffle=True, random_state=0)\r\n",
    "# skf = StratifiedKFold(n_splits=5, shuffle=True, random_state=0)\r\n",
    "\r\n",
    "# # cross_validate loop\r\n",
    "# for model in regressor_models:\r\n",
    "    \r\n",
    "#     cv_results = cross_validate(model, X_train_test_met, y_train_test_met,\r\n",
    "#                                 scoring=regressor_scorers,\r\n",
    "#                                 cv=kf,\r\n",
    "#                                 return_train_score=True, return_estimator=True)\r\n",
    "    \r\n",
    "#     print('-' * 40)\r\n",
    "#     print('model  =', model.__class__.__name__)\r\n",
    "#     # print('params =', model.get_params(deep=True))\r\n",
    "    \r\n",
    "#     # regression metrics\r\n",
    "#     print('MSE    = {}  '.format(- cv_results['test_MSE'].mean()), '\\n'\r\n",
    "#           'RMSE   = {}  '.format(- cv_results['test_RMSE'].mean()),\r\n",
    "#         #   'MSLE   = {}  '.format(- cv_results['test_MSLE'].mean()),\r\n",
    "#         #   'MAE    = {}  '.format(- cv_results['test_MAE'].mean()),\r\n",
    "#           )"
   ],
   "outputs": [],
   "metadata": {
    "id": "xGvqBtx59HY-"
   }
  },
  {
   "cell_type": "code",
   "execution_count": 5,
   "source": [
    "# # regression GridsearchCV : INPUT DF VERSION & TARGET\r\n",
    "# # ==================================================\r\n",
    "# df_met     = df00\r\n",
    "# target_met = 'target'\r\n",
    "# # ==================================================\r\n",
    "\r\n",
    "# # X, y split\r\n",
    "# train_met = df_met[df_met[target_met].notna()]\r\n",
    "# X_met = train_met.drop(target_met, axis=1)\r\n",
    "# y_met = train_met[target_met]\r\n",
    "\r\n",
    "# # models\r\n",
    "# regressor_models = [\r\n",
    "#                     # LinearRegression(),\r\n",
    "#                     # RandomForestRegressor(),\r\n",
    "#                     Ridge(),\r\n",
    "#                     Lasso(),\r\n",
    "#                     ElasticNet(),\r\n",
    "#                     DecisionTreeRegressor(),\r\n",
    "#                     XGBRegressor(),\r\n",
    "#                     LGBMRegressor(),\r\n",
    "#                     # CatBoostRegressor(),\r\n",
    "#                     ]\r\n",
    "\r\n",
    "# # param_grid=\r\n",
    "# hyper_param = {\r\n",
    "#                'random_state':[0],\r\n",
    "#                }\r\n",
    "\r\n",
    "# # scoring=\r\n",
    "# regressor_scorers = {'MSE':'neg_mean_squared_error',\r\n",
    "#                      'RMSE':'neg_root_mean_squared_error',\r\n",
    "#                     #  'MSLE':'neg_mean_squared_log_error',\r\n",
    "#                     #  'MAE':'neg_mean_absolute_error',\r\n",
    "#                      }\r\n",
    "\r\n",
    "# # cv=\r\n",
    "# kf  = KFold          (n_splits=5, shuffle=True, random_state=0)\r\n",
    "# skf = StratifiedKFold(n_splits=5, shuffle=True, random_state=0)\r\n",
    "\r\n",
    "# # cv_results_ cols\r\n",
    "# regression_cols = ['mean_test_MSE', 'mean_test_RMSE', \r\n",
    "#                 #    'mean_test_MSLE', 'mean_test_MAE',\r\n",
    "#                    ]\r\n",
    "\r\n",
    "# # GridSearchCV loop\r\n",
    "# for model in regressor_models:\r\n",
    "        \r\n",
    "#         gscv = GridSearchCV(model, \r\n",
    "#                             param_grid=hyper_param, \r\n",
    "#                             scoring=regressor_scorers, refit='RMSE', \r\n",
    "#                             cv=kf, return_train_score=True)\r\n",
    "#         gscv.fit(X_met, y_met)\r\n",
    "#         results = gscv.cv_results_\r\n",
    "        \r\n",
    "#         print('-' * 40)\r\n",
    "#         print('estimtor        =', gscv.estimator.__class__.__name__)\r\n",
    "#         print('best_params_    =', gscv.best_params_)\r\n",
    "#         print('best_score_     =', - gscv.best_score_)\r\n",
    "        \r\n",
    "#         met_df = pd.DataFrame(results)[regression_cols]\r\n",
    "#         met_df.columns = ['MSE', 'RMSE', \r\n",
    "#                         #   'MSLE', 'MAE',\r\n",
    "#                           ]\r\n",
    "#         print(- met_df)"
   ],
   "outputs": [],
   "metadata": {
    "id": "q2Wk6--29HY-"
   }
  },
  {
   "cell_type": "markdown",
   "source": [
    "# read : bike sharing"
   ],
   "metadata": {}
  },
  {
   "cell_type": "code",
   "execution_count": 9,
   "source": [
    "# https://www.kaggle.com/c/bike-sharing-demand/overview/evaluation\r\n",
    "\r\n",
    "train = pd.read_csv('./kaggle/bike_sharing_demand/train.csv')\r\n",
    "X_sub = pd.read_csv('./kaggle/bike_sharing_demand/test.csv')\r\n",
    "y_sub = pd.read_csv('./kaggle/bike_sharing_demand/sampleSubmission.csv')\r\n",
    "\r\n",
    "train.shape, X_sub.shape, y_sub.shape"
   ],
   "outputs": [
    {
     "output_type": "execute_result",
     "data": {
      "text/plain": [
       "((10886, 12), (6493, 9), (6493, 2))"
      ]
     },
     "metadata": {},
     "execution_count": 9
    }
   ],
   "metadata": {}
  },
  {
   "cell_type": "code",
   "execution_count": 10,
   "source": [
    "train.info()"
   ],
   "outputs": [
    {
     "output_type": "stream",
     "name": "stdout",
     "text": [
      "<class 'pandas.core.frame.DataFrame'>\n",
      "RangeIndex: 10886 entries, 0 to 10885\n",
      "Data columns (total 12 columns):\n",
      " #   Column      Non-Null Count  Dtype  \n",
      "---  ------      --------------  -----  \n",
      " 0   datetime    10886 non-null  object \n",
      " 1   season      10886 non-null  int64  \n",
      " 2   holiday     10886 non-null  int64  \n",
      " 3   workingday  10886 non-null  int64  \n",
      " 4   weather     10886 non-null  int64  \n",
      " 5   temp        10886 non-null  float64\n",
      " 6   atemp       10886 non-null  float64\n",
      " 7   humidity    10886 non-null  int64  \n",
      " 8   windspeed   10886 non-null  float64\n",
      " 9   casual      10886 non-null  int64  \n",
      " 10  registered  10886 non-null  int64  \n",
      " 11  count       10886 non-null  int64  \n",
      "dtypes: float64(3), int64(8), object(1)\n",
      "memory usage: 1020.7+ KB\n"
     ]
    }
   ],
   "metadata": {}
  },
  {
   "cell_type": "code",
   "execution_count": 11,
   "source": [
    "X_sub.info()"
   ],
   "outputs": [
    {
     "output_type": "stream",
     "name": "stdout",
     "text": [
      "<class 'pandas.core.frame.DataFrame'>\n",
      "RangeIndex: 6493 entries, 0 to 6492\n",
      "Data columns (total 9 columns):\n",
      " #   Column      Non-Null Count  Dtype  \n",
      "---  ------      --------------  -----  \n",
      " 0   datetime    6493 non-null   object \n",
      " 1   season      6493 non-null   int64  \n",
      " 2   holiday     6493 non-null   int64  \n",
      " 3   workingday  6493 non-null   int64  \n",
      " 4   weather     6493 non-null   int64  \n",
      " 5   temp        6493 non-null   float64\n",
      " 6   atemp       6493 non-null   float64\n",
      " 7   humidity    6493 non-null   int64  \n",
      " 8   windspeed   6493 non-null   float64\n",
      "dtypes: float64(3), int64(5), object(1)\n",
      "memory usage: 456.7+ KB\n"
     ]
    }
   ],
   "metadata": {}
  },
  {
   "cell_type": "code",
   "execution_count": 12,
   "source": [
    "y_sub.head()"
   ],
   "outputs": [
    {
     "output_type": "execute_result",
     "data": {
      "text/html": [
       "<div>\n",
       "<style scoped>\n",
       "    .dataframe tbody tr th:only-of-type {\n",
       "        vertical-align: middle;\n",
       "    }\n",
       "\n",
       "    .dataframe tbody tr th {\n",
       "        vertical-align: top;\n",
       "    }\n",
       "\n",
       "    .dataframe thead th {\n",
       "        text-align: right;\n",
       "    }\n",
       "</style>\n",
       "<table border=\"1\" class=\"dataframe\">\n",
       "  <thead>\n",
       "    <tr style=\"text-align: right;\">\n",
       "      <th></th>\n",
       "      <th>datetime</th>\n",
       "      <th>count</th>\n",
       "    </tr>\n",
       "  </thead>\n",
       "  <tbody>\n",
       "    <tr>\n",
       "      <th>0</th>\n",
       "      <td>2011-01-20 00:00:00</td>\n",
       "      <td>0</td>\n",
       "    </tr>\n",
       "    <tr>\n",
       "      <th>1</th>\n",
       "      <td>2011-01-20 01:00:00</td>\n",
       "      <td>0</td>\n",
       "    </tr>\n",
       "    <tr>\n",
       "      <th>2</th>\n",
       "      <td>2011-01-20 02:00:00</td>\n",
       "      <td>0</td>\n",
       "    </tr>\n",
       "    <tr>\n",
       "      <th>3</th>\n",
       "      <td>2011-01-20 03:00:00</td>\n",
       "      <td>0</td>\n",
       "    </tr>\n",
       "    <tr>\n",
       "      <th>4</th>\n",
       "      <td>2011-01-20 04:00:00</td>\n",
       "      <td>0</td>\n",
       "    </tr>\n",
       "  </tbody>\n",
       "</table>\n",
       "</div>"
      ],
      "text/plain": [
       "              datetime  count\n",
       "0  2011-01-20 00:00:00      0\n",
       "1  2011-01-20 01:00:00      0\n",
       "2  2011-01-20 02:00:00      0\n",
       "3  2011-01-20 03:00:00      0\n",
       "4  2011-01-20 04:00:00      0"
      ]
     },
     "metadata": {},
     "execution_count": 12
    }
   ],
   "metadata": {}
  },
  {
   "cell_type": "code",
   "execution_count": 13,
   "source": [
    "df = pd.concat([train, X_sub])\r\n",
    "df.shape"
   ],
   "outputs": [
    {
     "output_type": "execute_result",
     "data": {
      "text/plain": [
       "(17379, 12)"
      ]
     },
     "metadata": {},
     "execution_count": 13
    }
   ],
   "metadata": {}
  },
  {
   "cell_type": "code",
   "execution_count": 14,
   "source": [
    "df.head()"
   ],
   "outputs": [
    {
     "output_type": "execute_result",
     "data": {
      "text/html": [
       "<div>\n",
       "<style scoped>\n",
       "    .dataframe tbody tr th:only-of-type {\n",
       "        vertical-align: middle;\n",
       "    }\n",
       "\n",
       "    .dataframe tbody tr th {\n",
       "        vertical-align: top;\n",
       "    }\n",
       "\n",
       "    .dataframe thead th {\n",
       "        text-align: right;\n",
       "    }\n",
       "</style>\n",
       "<table border=\"1\" class=\"dataframe\">\n",
       "  <thead>\n",
       "    <tr style=\"text-align: right;\">\n",
       "      <th></th>\n",
       "      <th>datetime</th>\n",
       "      <th>season</th>\n",
       "      <th>holiday</th>\n",
       "      <th>workingday</th>\n",
       "      <th>weather</th>\n",
       "      <th>temp</th>\n",
       "      <th>atemp</th>\n",
       "      <th>humidity</th>\n",
       "      <th>windspeed</th>\n",
       "      <th>casual</th>\n",
       "      <th>registered</th>\n",
       "      <th>count</th>\n",
       "    </tr>\n",
       "  </thead>\n",
       "  <tbody>\n",
       "    <tr>\n",
       "      <th>0</th>\n",
       "      <td>2011-01-01 00:00:00</td>\n",
       "      <td>1</td>\n",
       "      <td>0</td>\n",
       "      <td>0</td>\n",
       "      <td>1</td>\n",
       "      <td>9.84</td>\n",
       "      <td>14.395</td>\n",
       "      <td>81</td>\n",
       "      <td>0.0</td>\n",
       "      <td>3.0</td>\n",
       "      <td>13.0</td>\n",
       "      <td>16.0</td>\n",
       "    </tr>\n",
       "    <tr>\n",
       "      <th>1</th>\n",
       "      <td>2011-01-01 01:00:00</td>\n",
       "      <td>1</td>\n",
       "      <td>0</td>\n",
       "      <td>0</td>\n",
       "      <td>1</td>\n",
       "      <td>9.02</td>\n",
       "      <td>13.635</td>\n",
       "      <td>80</td>\n",
       "      <td>0.0</td>\n",
       "      <td>8.0</td>\n",
       "      <td>32.0</td>\n",
       "      <td>40.0</td>\n",
       "    </tr>\n",
       "    <tr>\n",
       "      <th>2</th>\n",
       "      <td>2011-01-01 02:00:00</td>\n",
       "      <td>1</td>\n",
       "      <td>0</td>\n",
       "      <td>0</td>\n",
       "      <td>1</td>\n",
       "      <td>9.02</td>\n",
       "      <td>13.635</td>\n",
       "      <td>80</td>\n",
       "      <td>0.0</td>\n",
       "      <td>5.0</td>\n",
       "      <td>27.0</td>\n",
       "      <td>32.0</td>\n",
       "    </tr>\n",
       "    <tr>\n",
       "      <th>3</th>\n",
       "      <td>2011-01-01 03:00:00</td>\n",
       "      <td>1</td>\n",
       "      <td>0</td>\n",
       "      <td>0</td>\n",
       "      <td>1</td>\n",
       "      <td>9.84</td>\n",
       "      <td>14.395</td>\n",
       "      <td>75</td>\n",
       "      <td>0.0</td>\n",
       "      <td>3.0</td>\n",
       "      <td>10.0</td>\n",
       "      <td>13.0</td>\n",
       "    </tr>\n",
       "    <tr>\n",
       "      <th>4</th>\n",
       "      <td>2011-01-01 04:00:00</td>\n",
       "      <td>1</td>\n",
       "      <td>0</td>\n",
       "      <td>0</td>\n",
       "      <td>1</td>\n",
       "      <td>9.84</td>\n",
       "      <td>14.395</td>\n",
       "      <td>75</td>\n",
       "      <td>0.0</td>\n",
       "      <td>0.0</td>\n",
       "      <td>1.0</td>\n",
       "      <td>1.0</td>\n",
       "    </tr>\n",
       "  </tbody>\n",
       "</table>\n",
       "</div>"
      ],
      "text/plain": [
       "              datetime  season  holiday  workingday  weather  temp   atemp  \\\n",
       "0  2011-01-01 00:00:00       1        0           0        1  9.84  14.395   \n",
       "1  2011-01-01 01:00:00       1        0           0        1  9.02  13.635   \n",
       "2  2011-01-01 02:00:00       1        0           0        1  9.02  13.635   \n",
       "3  2011-01-01 03:00:00       1        0           0        1  9.84  14.395   \n",
       "4  2011-01-01 04:00:00       1        0           0        1  9.84  14.395   \n",
       "\n",
       "   humidity  windspeed  casual  registered  count  \n",
       "0        81        0.0     3.0        13.0   16.0  \n",
       "1        80        0.0     8.0        32.0   40.0  \n",
       "2        80        0.0     5.0        27.0   32.0  \n",
       "3        75        0.0     3.0        10.0   13.0  \n",
       "4        75        0.0     0.0         1.0    1.0  "
      ]
     },
     "metadata": {},
     "execution_count": 14
    }
   ],
   "metadata": {}
  },
  {
   "cell_type": "markdown",
   "source": [
    "# 날짜 데이터 처리"
   ],
   "metadata": {}
  },
  {
   "cell_type": "code",
   "execution_count": 15,
   "source": [
    "from datetime import datetime as dt\r\n",
    "df['datetime'] = pd.to_datetime(df['datetime'])\r\n",
    "# df['datetime'] = df['datetime'].astype('datetime64')\r\n",
    "\r\n",
    "df['year'] = df['datetime'].dt.year\r\n",
    "df['month'] = df['datetime'].dt.month\r\n",
    "df['day'] = df['datetime'].dt.day\r\n",
    "df['hour'] = df['datetime'].dt.hour\r\n",
    "df['week'] = df['datetime'].dt.dayofweek\r\n",
    "df.head()"
   ],
   "outputs": [
    {
     "output_type": "execute_result",
     "data": {
      "text/html": [
       "<div>\n",
       "<style scoped>\n",
       "    .dataframe tbody tr th:only-of-type {\n",
       "        vertical-align: middle;\n",
       "    }\n",
       "\n",
       "    .dataframe tbody tr th {\n",
       "        vertical-align: top;\n",
       "    }\n",
       "\n",
       "    .dataframe thead th {\n",
       "        text-align: right;\n",
       "    }\n",
       "</style>\n",
       "<table border=\"1\" class=\"dataframe\">\n",
       "  <thead>\n",
       "    <tr style=\"text-align: right;\">\n",
       "      <th></th>\n",
       "      <th>datetime</th>\n",
       "      <th>season</th>\n",
       "      <th>holiday</th>\n",
       "      <th>workingday</th>\n",
       "      <th>weather</th>\n",
       "      <th>temp</th>\n",
       "      <th>atemp</th>\n",
       "      <th>humidity</th>\n",
       "      <th>windspeed</th>\n",
       "      <th>casual</th>\n",
       "      <th>registered</th>\n",
       "      <th>count</th>\n",
       "      <th>year</th>\n",
       "      <th>month</th>\n",
       "      <th>day</th>\n",
       "      <th>hour</th>\n",
       "      <th>week</th>\n",
       "    </tr>\n",
       "  </thead>\n",
       "  <tbody>\n",
       "    <tr>\n",
       "      <th>0</th>\n",
       "      <td>2011-01-01 00:00:00</td>\n",
       "      <td>1</td>\n",
       "      <td>0</td>\n",
       "      <td>0</td>\n",
       "      <td>1</td>\n",
       "      <td>9.84</td>\n",
       "      <td>14.395</td>\n",
       "      <td>81</td>\n",
       "      <td>0.0</td>\n",
       "      <td>3.0</td>\n",
       "      <td>13.0</td>\n",
       "      <td>16.0</td>\n",
       "      <td>2011</td>\n",
       "      <td>1</td>\n",
       "      <td>1</td>\n",
       "      <td>0</td>\n",
       "      <td>5</td>\n",
       "    </tr>\n",
       "    <tr>\n",
       "      <th>1</th>\n",
       "      <td>2011-01-01 01:00:00</td>\n",
       "      <td>1</td>\n",
       "      <td>0</td>\n",
       "      <td>0</td>\n",
       "      <td>1</td>\n",
       "      <td>9.02</td>\n",
       "      <td>13.635</td>\n",
       "      <td>80</td>\n",
       "      <td>0.0</td>\n",
       "      <td>8.0</td>\n",
       "      <td>32.0</td>\n",
       "      <td>40.0</td>\n",
       "      <td>2011</td>\n",
       "      <td>1</td>\n",
       "      <td>1</td>\n",
       "      <td>1</td>\n",
       "      <td>5</td>\n",
       "    </tr>\n",
       "    <tr>\n",
       "      <th>2</th>\n",
       "      <td>2011-01-01 02:00:00</td>\n",
       "      <td>1</td>\n",
       "      <td>0</td>\n",
       "      <td>0</td>\n",
       "      <td>1</td>\n",
       "      <td>9.02</td>\n",
       "      <td>13.635</td>\n",
       "      <td>80</td>\n",
       "      <td>0.0</td>\n",
       "      <td>5.0</td>\n",
       "      <td>27.0</td>\n",
       "      <td>32.0</td>\n",
       "      <td>2011</td>\n",
       "      <td>1</td>\n",
       "      <td>1</td>\n",
       "      <td>2</td>\n",
       "      <td>5</td>\n",
       "    </tr>\n",
       "    <tr>\n",
       "      <th>3</th>\n",
       "      <td>2011-01-01 03:00:00</td>\n",
       "      <td>1</td>\n",
       "      <td>0</td>\n",
       "      <td>0</td>\n",
       "      <td>1</td>\n",
       "      <td>9.84</td>\n",
       "      <td>14.395</td>\n",
       "      <td>75</td>\n",
       "      <td>0.0</td>\n",
       "      <td>3.0</td>\n",
       "      <td>10.0</td>\n",
       "      <td>13.0</td>\n",
       "      <td>2011</td>\n",
       "      <td>1</td>\n",
       "      <td>1</td>\n",
       "      <td>3</td>\n",
       "      <td>5</td>\n",
       "    </tr>\n",
       "    <tr>\n",
       "      <th>4</th>\n",
       "      <td>2011-01-01 04:00:00</td>\n",
       "      <td>1</td>\n",
       "      <td>0</td>\n",
       "      <td>0</td>\n",
       "      <td>1</td>\n",
       "      <td>9.84</td>\n",
       "      <td>14.395</td>\n",
       "      <td>75</td>\n",
       "      <td>0.0</td>\n",
       "      <td>0.0</td>\n",
       "      <td>1.0</td>\n",
       "      <td>1.0</td>\n",
       "      <td>2011</td>\n",
       "      <td>1</td>\n",
       "      <td>1</td>\n",
       "      <td>4</td>\n",
       "      <td>5</td>\n",
       "    </tr>\n",
       "  </tbody>\n",
       "</table>\n",
       "</div>"
      ],
      "text/plain": [
       "             datetime  season  holiday  workingday  weather  temp   atemp  \\\n",
       "0 2011-01-01 00:00:00       1        0           0        1  9.84  14.395   \n",
       "1 2011-01-01 01:00:00       1        0           0        1  9.02  13.635   \n",
       "2 2011-01-01 02:00:00       1        0           0        1  9.02  13.635   \n",
       "3 2011-01-01 03:00:00       1        0           0        1  9.84  14.395   \n",
       "4 2011-01-01 04:00:00       1        0           0        1  9.84  14.395   \n",
       "\n",
       "   humidity  windspeed  casual  registered  count  year  month  day  hour  \\\n",
       "0        81        0.0     3.0        13.0   16.0  2011      1    1     0   \n",
       "1        80        0.0     8.0        32.0   40.0  2011      1    1     1   \n",
       "2        80        0.0     5.0        27.0   32.0  2011      1    1     2   \n",
       "3        75        0.0     3.0        10.0   13.0  2011      1    1     3   \n",
       "4        75        0.0     0.0         1.0    1.0  2011      1    1     4   \n",
       "\n",
       "   week  \n",
       "0     5  \n",
       "1     5  \n",
       "2     5  \n",
       "3     5  \n",
       "4     5  "
      ]
     },
     "metadata": {},
     "execution_count": 15
    }
   ],
   "metadata": {}
  },
  {
   "cell_type": "markdown",
   "source": [
    "# EDA"
   ],
   "metadata": {}
  },
  {
   "cell_type": "code",
   "execution_count": 16,
   "source": [
    "# season\r\n",
    "print(df['season'].value_counts())\r\n",
    "df['season'].value_counts().plot(kind=\"bar\")"
   ],
   "outputs": [
    {
     "output_type": "stream",
     "name": "stdout",
     "text": [
      "3    4496\n",
      "2    4409\n",
      "1    4242\n",
      "4    4232\n",
      "Name: season, dtype: int64\n"
     ]
    },
    {
     "output_type": "execute_result",
     "data": {
      "text/plain": [
       "<AxesSubplot:>"
      ]
     },
     "metadata": {},
     "execution_count": 16
    },
    {
     "output_type": "display_data",
     "data": {
      "image/png": "[encoded data removed]",
      "text/plain": [
       "<Figure size 432x288 with 1 Axes>"
      ]
     },
     "metadata": {}
    }
   ],
   "metadata": {}
  },
  {
   "cell_type": "code",
   "execution_count": 17,
   "source": [
    "df['temp'].describe()"
   ],
   "outputs": [
    {
     "output_type": "execute_result",
     "data": {
      "text/plain": [
       "count    17379.000000\n",
       "mean        20.376474\n",
       "std          7.894801\n",
       "min          0.820000\n",
       "25%         13.940000\n",
       "50%         20.500000\n",
       "75%         27.060000\n",
       "max         41.000000\n",
       "Name: temp, dtype: float64"
      ]
     },
     "metadata": {},
     "execution_count": 17
    }
   ],
   "metadata": {}
  },
  {
   "cell_type": "code",
   "execution_count": 18,
   "source": [
    "df['temp'].hist()"
   ],
   "outputs": [
    {
     "output_type": "execute_result",
     "data": {
      "text/plain": [
       "<AxesSubplot:>"
      ]
     },
     "metadata": {},
     "execution_count": 18
    },
    {
     "output_type": "display_data",
     "data": {
      "image/png": "[encoded data removed]",
      "text/plain": [
       "<Figure size 432x288 with 1 Axes>"
      ]
     },
     "metadata": {}
    }
   ],
   "metadata": {}
  },
  {
   "cell_type": "markdown",
   "source": [
    "# binning"
   ],
   "metadata": {}
  },
  {
   "cell_type": "code",
   "execution_count": 19,
   "source": [
    "df.loc[df['temp']<=0, 'temp_band1'] = 1\r\n",
    "df.loc[(df['temp']>0) & (df['temp']<=13), 'temp_band1'] = 2\r\n",
    "df.loc[(df['temp']>13) & (df['temp']<=20), 'temp_band1'] = 3\r\n",
    "df.loc[(df['temp']>20) & (df['temp']<=27), 'temp_band1'] = 4\r\n",
    "df.loc[(df['temp']>27) & (df['temp']<=45), 'temp_band1'] = 5\r\n",
    "df.loc[df['temp']>45, 'temp_band1'] = 6"
   ],
   "outputs": [],
   "metadata": {}
  },
  {
   "cell_type": "code",
   "execution_count": 20,
   "source": [
    "df['temp_band1'] = df['temp_band1'].astype('int')\r\n",
    "df.info()"
   ],
   "outputs": [
    {
     "output_type": "stream",
     "name": "stdout",
     "text": [
      "<class 'pandas.core.frame.DataFrame'>\n",
      "Int64Index: 17379 entries, 0 to 6492\n",
      "Data columns (total 18 columns):\n",
      " #   Column      Non-Null Count  Dtype         \n",
      "---  ------      --------------  -----         \n",
      " 0   datetime    17379 non-null  datetime64[ns]\n",
      " 1   season      17379 non-null  int64         \n",
      " 2   holiday     17379 non-null  int64         \n",
      " 3   workingday  17379 non-null  int64         \n",
      " 4   weather     17379 non-null  int64         \n",
      " 5   temp        17379 non-null  float64       \n",
      " 6   atemp       17379 non-null  float64       \n",
      " 7   humidity    17379 non-null  int64         \n",
      " 8   windspeed   17379 non-null  float64       \n",
      " 9   casual      10886 non-null  float64       \n",
      " 10  registered  10886 non-null  float64       \n",
      " 11  count       10886 non-null  float64       \n",
      " 12  year        17379 non-null  int64         \n",
      " 13  month       17379 non-null  int64         \n",
      " 14  day         17379 non-null  int64         \n",
      " 15  hour        17379 non-null  int64         \n",
      " 16  week        17379 non-null  int64         \n",
      " 17  temp_band1  17379 non-null  int32         \n",
      "dtypes: datetime64[ns](1), float64(6), int32(1), int64(10)\n",
      "memory usage: 2.5 MB\n"
     ]
    }
   ],
   "metadata": {}
  },
  {
   "cell_type": "code",
   "execution_count": 21,
   "source": [
    "def temp_bind(x):\r\n",
    "    temp_band1 = 0\r\n",
    "    if x<=0:\r\n",
    "        temp_band1 = 1\r\n",
    "    elif (x>0) & (x<=13):\r\n",
    "        temp_band1 = 2\r\n",
    "    elif (x>13) & (x<=20):\r\n",
    "        temp_band1 = 3\r\n",
    "    elif (x>20) & (x<=27):\r\n",
    "        temp_band1 = 4\r\n",
    "    elif (x>27) & (x<=45):\r\n",
    "        temp_band1 = 5\r\n",
    "    else:\r\n",
    "        temp_band1 = 6\r\n",
    "    return temp_band1\r\n",
    "df['temp_band2'] = df['temp'].apply(lambda x: temp_bind(x))"
   ],
   "outputs": [],
   "metadata": {}
  },
  {
   "cell_type": "code",
   "execution_count": 22,
   "source": [
    "df['temp_band3'] =pd.cut(df['temp'], bins=[-100,0,13,20,27,45,100], labels=[1,2,3,4,5,6])"
   ],
   "outputs": [],
   "metadata": {}
  },
  {
   "cell_type": "code",
   "execution_count": 23,
   "source": [
    "df[['temp','temp_band1','temp_band2','temp_band3']].head(20)"
   ],
   "outputs": [
    {
     "output_type": "execute_result",
     "data": {
      "text/html": [
       "<div>\n",
       "<style scoped>\n",
       "    .dataframe tbody tr th:only-of-type {\n",
       "        vertical-align: middle;\n",
       "    }\n",
       "\n",
       "    .dataframe tbody tr th {\n",
       "        vertical-align: top;\n",
       "    }\n",
       "\n",
       "    .dataframe thead th {\n",
       "        text-align: right;\n",
       "    }\n",
       "</style>\n",
       "<table border=\"1\" class=\"dataframe\">\n",
       "  <thead>\n",
       "    <tr style=\"text-align: right;\">\n",
       "      <th></th>\n",
       "      <th>temp</th>\n",
       "      <th>temp_band1</th>\n",
       "      <th>temp_band2</th>\n",
       "      <th>temp_band3</th>\n",
       "    </tr>\n",
       "  </thead>\n",
       "  <tbody>\n",
       "    <tr>\n",
       "      <th>0</th>\n",
       "      <td>9.84</td>\n",
       "      <td>2</td>\n",
       "      <td>2</td>\n",
       "      <td>2</td>\n",
       "    </tr>\n",
       "    <tr>\n",
       "      <th>1</th>\n",
       "      <td>9.02</td>\n",
       "      <td>2</td>\n",
       "      <td>2</td>\n",
       "      <td>2</td>\n",
       "    </tr>\n",
       "    <tr>\n",
       "      <th>2</th>\n",
       "      <td>9.02</td>\n",
       "      <td>2</td>\n",
       "      <td>2</td>\n",
       "      <td>2</td>\n",
       "    </tr>\n",
       "    <tr>\n",
       "      <th>3</th>\n",
       "      <td>9.84</td>\n",
       "      <td>2</td>\n",
       "      <td>2</td>\n",
       "      <td>2</td>\n",
       "    </tr>\n",
       "    <tr>\n",
       "      <th>4</th>\n",
       "      <td>9.84</td>\n",
       "      <td>2</td>\n",
       "      <td>2</td>\n",
       "      <td>2</td>\n",
       "    </tr>\n",
       "    <tr>\n",
       "      <th>5</th>\n",
       "      <td>9.84</td>\n",
       "      <td>2</td>\n",
       "      <td>2</td>\n",
       "      <td>2</td>\n",
       "    </tr>\n",
       "    <tr>\n",
       "      <th>6</th>\n",
       "      <td>9.02</td>\n",
       "      <td>2</td>\n",
       "      <td>2</td>\n",
       "      <td>2</td>\n",
       "    </tr>\n",
       "    <tr>\n",
       "      <th>7</th>\n",
       "      <td>8.20</td>\n",
       "      <td>2</td>\n",
       "      <td>2</td>\n",
       "      <td>2</td>\n",
       "    </tr>\n",
       "    <tr>\n",
       "      <th>8</th>\n",
       "      <td>9.84</td>\n",
       "      <td>2</td>\n",
       "      <td>2</td>\n",
       "      <td>2</td>\n",
       "    </tr>\n",
       "    <tr>\n",
       "      <th>9</th>\n",
       "      <td>13.12</td>\n",
       "      <td>3</td>\n",
       "      <td>3</td>\n",
       "      <td>3</td>\n",
       "    </tr>\n",
       "    <tr>\n",
       "      <th>10</th>\n",
       "      <td>15.58</td>\n",
       "      <td>3</td>\n",
       "      <td>3</td>\n",
       "      <td>3</td>\n",
       "    </tr>\n",
       "    <tr>\n",
       "      <th>11</th>\n",
       "      <td>14.76</td>\n",
       "      <td>3</td>\n",
       "      <td>3</td>\n",
       "      <td>3</td>\n",
       "    </tr>\n",
       "    <tr>\n",
       "      <th>12</th>\n",
       "      <td>17.22</td>\n",
       "      <td>3</td>\n",
       "      <td>3</td>\n",
       "      <td>3</td>\n",
       "    </tr>\n",
       "    <tr>\n",
       "      <th>13</th>\n",
       "      <td>18.86</td>\n",
       "      <td>3</td>\n",
       "      <td>3</td>\n",
       "      <td>3</td>\n",
       "    </tr>\n",
       "    <tr>\n",
       "      <th>14</th>\n",
       "      <td>18.86</td>\n",
       "      <td>3</td>\n",
       "      <td>3</td>\n",
       "      <td>3</td>\n",
       "    </tr>\n",
       "    <tr>\n",
       "      <th>15</th>\n",
       "      <td>18.04</td>\n",
       "      <td>3</td>\n",
       "      <td>3</td>\n",
       "      <td>3</td>\n",
       "    </tr>\n",
       "    <tr>\n",
       "      <th>16</th>\n",
       "      <td>17.22</td>\n",
       "      <td>3</td>\n",
       "      <td>3</td>\n",
       "      <td>3</td>\n",
       "    </tr>\n",
       "    <tr>\n",
       "      <th>17</th>\n",
       "      <td>18.04</td>\n",
       "      <td>3</td>\n",
       "      <td>3</td>\n",
       "      <td>3</td>\n",
       "    </tr>\n",
       "    <tr>\n",
       "      <th>18</th>\n",
       "      <td>17.22</td>\n",
       "      <td>3</td>\n",
       "      <td>3</td>\n",
       "      <td>3</td>\n",
       "    </tr>\n",
       "    <tr>\n",
       "      <th>19</th>\n",
       "      <td>17.22</td>\n",
       "      <td>3</td>\n",
       "      <td>3</td>\n",
       "      <td>3</td>\n",
       "    </tr>\n",
       "  </tbody>\n",
       "</table>\n",
       "</div>"
      ],
      "text/plain": [
       "     temp  temp_band1  temp_band2 temp_band3\n",
       "0    9.84           2           2          2\n",
       "1    9.02           2           2          2\n",
       "2    9.02           2           2          2\n",
       "3    9.84           2           2          2\n",
       "4    9.84           2           2          2\n",
       "5    9.84           2           2          2\n",
       "6    9.02           2           2          2\n",
       "7    8.20           2           2          2\n",
       "8    9.84           2           2          2\n",
       "9   13.12           3           3          3\n",
       "10  15.58           3           3          3\n",
       "11  14.76           3           3          3\n",
       "12  17.22           3           3          3\n",
       "13  18.86           3           3          3\n",
       "14  18.86           3           3          3\n",
       "15  18.04           3           3          3\n",
       "16  17.22           3           3          3\n",
       "17  18.04           3           3          3\n",
       "18  17.22           3           3          3\n",
       "19  17.22           3           3          3"
      ]
     },
     "metadata": {},
     "execution_count": 23
    }
   ],
   "metadata": {}
  },
  {
   "cell_type": "code",
   "execution_count": 24,
   "source": [
    "df.info()"
   ],
   "outputs": [
    {
     "output_type": "stream",
     "name": "stdout",
     "text": [
      "<class 'pandas.core.frame.DataFrame'>\n",
      "Int64Index: 17379 entries, 0 to 6492\n",
      "Data columns (total 20 columns):\n",
      " #   Column      Non-Null Count  Dtype         \n",
      "---  ------      --------------  -----         \n",
      " 0   datetime    17379 non-null  datetime64[ns]\n",
      " 1   season      17379 non-null  int64         \n",
      " 2   holiday     17379 non-null  int64         \n",
      " 3   workingday  17379 non-null  int64         \n",
      " 4   weather     17379 non-null  int64         \n",
      " 5   temp        17379 non-null  float64       \n",
      " 6   atemp       17379 non-null  float64       \n",
      " 7   humidity    17379 non-null  int64         \n",
      " 8   windspeed   17379 non-null  float64       \n",
      " 9   casual      10886 non-null  float64       \n",
      " 10  registered  10886 non-null  float64       \n",
      " 11  count       10886 non-null  float64       \n",
      " 12  year        17379 non-null  int64         \n",
      " 13  month       17379 non-null  int64         \n",
      " 14  day         17379 non-null  int64         \n",
      " 15  hour        17379 non-null  int64         \n",
      " 16  week        17379 non-null  int64         \n",
      " 17  temp_band1  17379 non-null  int32         \n",
      " 18  temp_band2  17379 non-null  int64         \n",
      " 19  temp_band3  17379 non-null  category      \n",
      "dtypes: category(1), datetime64[ns](1), float64(6), int32(1), int64(11)\n",
      "memory usage: 2.6 MB\n"
     ]
    }
   ],
   "metadata": {}
  },
  {
   "cell_type": "code",
   "execution_count": 25,
   "source": [
    "df00 = df.drop(['casual', 'registered', 'datetime', 'temp_band3', 'temp_band3'], axis=1)"
   ],
   "outputs": [],
   "metadata": {}
  },
  {
   "cell_type": "code",
   "execution_count": 26,
   "source": [
    "df00.info()"
   ],
   "outputs": [
    {
     "output_type": "stream",
     "name": "stdout",
     "text": [
      "<class 'pandas.core.frame.DataFrame'>\n",
      "Int64Index: 17379 entries, 0 to 6492\n",
      "Data columns (total 16 columns):\n",
      " #   Column      Non-Null Count  Dtype  \n",
      "---  ------      --------------  -----  \n",
      " 0   season      17379 non-null  int64  \n",
      " 1   holiday     17379 non-null  int64  \n",
      " 2   workingday  17379 non-null  int64  \n",
      " 3   weather     17379 non-null  int64  \n",
      " 4   temp        17379 non-null  float64\n",
      " 5   atemp       17379 non-null  float64\n",
      " 6   humidity    17379 non-null  int64  \n",
      " 7   windspeed   17379 non-null  float64\n",
      " 8   count       10886 non-null  float64\n",
      " 9   year        17379 non-null  int64  \n",
      " 10  month       17379 non-null  int64  \n",
      " 11  day         17379 non-null  int64  \n",
      " 12  hour        17379 non-null  int64  \n",
      " 13  week        17379 non-null  int64  \n",
      " 14  temp_band1  17379 non-null  int32  \n",
      " 15  temp_band2  17379 non-null  int64  \n",
      "dtypes: float64(4), int32(1), int64(11)\n",
      "memory usage: 2.2 MB\n"
     ]
    }
   ],
   "metadata": {}
  },
  {
   "cell_type": "markdown",
   "source": [
    "# score00"
   ],
   "metadata": {}
  },
  {
   "cell_type": "code",
   "execution_count": 27,
   "source": [
    "# regression cross_validate : INPUT DF VERSION & TARGET\r\n",
    "# ==================================================\r\n",
    "df_met     = df00\r\n",
    "target_met = 'count'\r\n",
    "# ==================================================\r\n",
    "\r\n",
    "# X, y split\r\n",
    "train_met = df_met[df_met[target_met].notna()]\r\n",
    "X_train_test_met = train_met.drop(target_met, axis=1)\r\n",
    "y_train_test_met = train_met[target_met]\r\n",
    "\r\n",
    "# estimators=\r\n",
    "regressor_models = [\r\n",
    "                    # LinearRegression      (),\r\n",
    "                    DecisionTreeRegressor (random_state=0),\r\n",
    "                    # Ridge                 (random_state=0),\r\n",
    "                    # Lasso                 (random_state=0),\r\n",
    "                    # ElasticNet            (random_state=0),\r\n",
    "                    RandomForestRegressor (random_state=0),\r\n",
    "                    # XGBRegressor          (random_state=0),\r\n",
    "                    # LGBMRegressor         (random_state=0),\r\n",
    "                    # CatBoostRegressor     (random_state=0, verbose=0),\r\n",
    "                    ]\r\n",
    "\r\n",
    "# scorings=\r\n",
    "regressor_scorers = {'MSE':'neg_mean_squared_error',\r\n",
    "                     'RMSE':'neg_root_mean_squared_error',\r\n",
    "                     'MSLE':'neg_mean_squared_log_error',\r\n",
    "                    #  'MAE':'neg_mean_absolute_error',\r\n",
    "                     }\r\n",
    "\r\n",
    "# cv=\r\n",
    "kf  = KFold          (n_splits=5, shuffle=True, random_state=0)\r\n",
    "skf = StratifiedKFold(n_splits=5, shuffle=True, random_state=0)\r\n",
    "\r\n",
    "# cross_validate loop\r\n",
    "for model in regressor_models:\r\n",
    "    \r\n",
    "    cv_results = cross_validate(model, X_train_test_met, y_train_test_met,\r\n",
    "                                scoring=regressor_scorers,\r\n",
    "                                cv=kf,\r\n",
    "                                return_train_score=True, return_estimator=True)\r\n",
    "    \r\n",
    "    print('-' * 40)\r\n",
    "    print('model  =', model.__class__.__name__)\r\n",
    "    # print('params =', model.get_params(deep=True))\r\n",
    "    \r\n",
    "    # regression metrics\r\n",
    "    print('MSE    = {}  '.format(- cv_results['test_MSE'].mean()), '\\n'\r\n",
    "          'RMSE   = {}  '.format(- cv_results['test_RMSE'].mean()), '\\n'\r\n",
    "          'MSLE   = {}  '.format(- cv_results['test_MSLE'].mean()), '\\n'\r\n",
    "          'RMSLE  = {}  '.format(np.sqrt(- cv_results['test_MSLE'].mean()))\r\n",
    "        #   'MAE    = {}  '.format(- cv_results['test_MAE'].mean()),\r\n",
    "          )"
   ],
   "outputs": [
    {
     "output_type": "stream",
     "name": "stdout",
     "text": [
      "----------------------------------------\n",
      "model  = DecisionTreeRegressor\n",
      "MSE    = 3397.8848878816143   \n",
      "RMSE   = 58.23278715242243   \n",
      "MSLE   = 0.18798651478650377   \n",
      "RMSLE  = 0.4335741168318328  \n",
      "----------------------------------------\n",
      "model  = RandomForestRegressor\n",
      "MSE    = 1656.37424331636   \n",
      "RMSE   = 40.66531866994167   \n",
      "MSLE   = 0.10853450994434304   \n",
      "RMSLE  = 0.3294457617641226  \n"
     ]
    }
   ],
   "metadata": {
    "id": "xGvqBtx59HY-"
   }
  },
  {
   "cell_type": "markdown",
   "source": [
    "# lec"
   ],
   "metadata": {}
  },
  {
   "cell_type": "code",
   "execution_count": 28,
   "source": [
    "df.info()"
   ],
   "outputs": [
    {
     "output_type": "stream",
     "name": "stdout",
     "text": [
      "<class 'pandas.core.frame.DataFrame'>\n",
      "Int64Index: 17379 entries, 0 to 6492\n",
      "Data columns (total 20 columns):\n",
      " #   Column      Non-Null Count  Dtype         \n",
      "---  ------      --------------  -----         \n",
      " 0   datetime    17379 non-null  datetime64[ns]\n",
      " 1   season      17379 non-null  int64         \n",
      " 2   holiday     17379 non-null  int64         \n",
      " 3   workingday  17379 non-null  int64         \n",
      " 4   weather     17379 non-null  int64         \n",
      " 5   temp        17379 non-null  float64       \n",
      " 6   atemp       17379 non-null  float64       \n",
      " 7   humidity    17379 non-null  int64         \n",
      " 8   windspeed   17379 non-null  float64       \n",
      " 9   casual      10886 non-null  float64       \n",
      " 10  registered  10886 non-null  float64       \n",
      " 11  count       10886 non-null  float64       \n",
      " 12  year        17379 non-null  int64         \n",
      " 13  month       17379 non-null  int64         \n",
      " 14  day         17379 non-null  int64         \n",
      " 15  hour        17379 non-null  int64         \n",
      " 16  week        17379 non-null  int64         \n",
      " 17  temp_band1  17379 non-null  int32         \n",
      " 18  temp_band2  17379 non-null  int64         \n",
      " 19  temp_band3  17379 non-null  category      \n",
      "dtypes: category(1), datetime64[ns](1), float64(6), int32(1), int64(11)\n",
      "memory usage: 2.6 MB\n"
     ]
    }
   ],
   "metadata": {
    "id": "Jq-w7gh89HY9"
   }
  },
  {
   "cell_type": "code",
   "execution_count": 29,
   "source": [
    "train_cp = train.copy()\r\n",
    "train_cp.shape"
   ],
   "outputs": [
    {
     "output_type": "execute_result",
     "data": {
      "text/plain": [
       "(10886, 12)"
      ]
     },
     "metadata": {},
     "execution_count": 29
    }
   ],
   "metadata": {}
  },
  {
   "cell_type": "code",
   "execution_count": 30,
   "source": [
    "train_cp.head()"
   ],
   "outputs": [
    {
     "output_type": "execute_result",
     "data": {
      "text/html": [
       "<div>\n",
       "<style scoped>\n",
       "    .dataframe tbody tr th:only-of-type {\n",
       "        vertical-align: middle;\n",
       "    }\n",
       "\n",
       "    .dataframe tbody tr th {\n",
       "        vertical-align: top;\n",
       "    }\n",
       "\n",
       "    .dataframe thead th {\n",
       "        text-align: right;\n",
       "    }\n",
       "</style>\n",
       "<table border=\"1\" class=\"dataframe\">\n",
       "  <thead>\n",
       "    <tr style=\"text-align: right;\">\n",
       "      <th></th>\n",
       "      <th>datetime</th>\n",
       "      <th>season</th>\n",
       "      <th>holiday</th>\n",
       "      <th>workingday</th>\n",
       "      <th>weather</th>\n",
       "      <th>temp</th>\n",
       "      <th>atemp</th>\n",
       "      <th>humidity</th>\n",
       "      <th>windspeed</th>\n",
       "      <th>casual</th>\n",
       "      <th>registered</th>\n",
       "      <th>count</th>\n",
       "    </tr>\n",
       "  </thead>\n",
       "  <tbody>\n",
       "    <tr>\n",
       "      <th>0</th>\n",
       "      <td>2011-01-01 00:00:00</td>\n",
       "      <td>1</td>\n",
       "      <td>0</td>\n",
       "      <td>0</td>\n",
       "      <td>1</td>\n",
       "      <td>9.84</td>\n",
       "      <td>14.395</td>\n",
       "      <td>81</td>\n",
       "      <td>0.0</td>\n",
       "      <td>3</td>\n",
       "      <td>13</td>\n",
       "      <td>16</td>\n",
       "    </tr>\n",
       "    <tr>\n",
       "      <th>1</th>\n",
       "      <td>2011-01-01 01:00:00</td>\n",
       "      <td>1</td>\n",
       "      <td>0</td>\n",
       "      <td>0</td>\n",
       "      <td>1</td>\n",
       "      <td>9.02</td>\n",
       "      <td>13.635</td>\n",
       "      <td>80</td>\n",
       "      <td>0.0</td>\n",
       "      <td>8</td>\n",
       "      <td>32</td>\n",
       "      <td>40</td>\n",
       "    </tr>\n",
       "    <tr>\n",
       "      <th>2</th>\n",
       "      <td>2011-01-01 02:00:00</td>\n",
       "      <td>1</td>\n",
       "      <td>0</td>\n",
       "      <td>0</td>\n",
       "      <td>1</td>\n",
       "      <td>9.02</td>\n",
       "      <td>13.635</td>\n",
       "      <td>80</td>\n",
       "      <td>0.0</td>\n",
       "      <td>5</td>\n",
       "      <td>27</td>\n",
       "      <td>32</td>\n",
       "    </tr>\n",
       "    <tr>\n",
       "      <th>3</th>\n",
       "      <td>2011-01-01 03:00:00</td>\n",
       "      <td>1</td>\n",
       "      <td>0</td>\n",
       "      <td>0</td>\n",
       "      <td>1</td>\n",
       "      <td>9.84</td>\n",
       "      <td>14.395</td>\n",
       "      <td>75</td>\n",
       "      <td>0.0</td>\n",
       "      <td>3</td>\n",
       "      <td>10</td>\n",
       "      <td>13</td>\n",
       "    </tr>\n",
       "    <tr>\n",
       "      <th>4</th>\n",
       "      <td>2011-01-01 04:00:00</td>\n",
       "      <td>1</td>\n",
       "      <td>0</td>\n",
       "      <td>0</td>\n",
       "      <td>1</td>\n",
       "      <td>9.84</td>\n",
       "      <td>14.395</td>\n",
       "      <td>75</td>\n",
       "      <td>0.0</td>\n",
       "      <td>0</td>\n",
       "      <td>1</td>\n",
       "      <td>1</td>\n",
       "    </tr>\n",
       "  </tbody>\n",
       "</table>\n",
       "</div>"
      ],
      "text/plain": [
       "              datetime  season  holiday  workingday  weather  temp   atemp  \\\n",
       "0  2011-01-01 00:00:00       1        0           0        1  9.84  14.395   \n",
       "1  2011-01-01 01:00:00       1        0           0        1  9.02  13.635   \n",
       "2  2011-01-01 02:00:00       1        0           0        1  9.02  13.635   \n",
       "3  2011-01-01 03:00:00       1        0           0        1  9.84  14.395   \n",
       "4  2011-01-01 04:00:00       1        0           0        1  9.84  14.395   \n",
       "\n",
       "   humidity  windspeed  casual  registered  count  \n",
       "0        81        0.0       3          13     16  \n",
       "1        80        0.0       8          32     40  \n",
       "2        80        0.0       5          27     32  \n",
       "3        75        0.0       3          10     13  \n",
       "4        75        0.0       0           1      1  "
      ]
     },
     "metadata": {},
     "execution_count": 30
    }
   ],
   "metadata": {}
  },
  {
   "cell_type": "code",
   "execution_count": 31,
   "source": [
    "# mission 1 : cr = casual + registered\r\n",
    "train_cp['cr'] = train_cp['casual'] + train_cp['registered']\r\n",
    "train_cp['cr'].hist(bins=50)"
   ],
   "outputs": [
    {
     "output_type": "execute_result",
     "data": {
      "text/plain": [
       "<AxesSubplot:>"
      ]
     },
     "metadata": {},
     "execution_count": 31
    },
    {
     "output_type": "display_data",
     "data": {
      "image/png": "[encoded data removed]",
      "text/plain": [
       "<Figure size 432x288 with 1 Axes>"
      ]
     },
     "metadata": {}
    }
   ],
   "metadata": {}
  },
  {
   "cell_type": "code",
   "execution_count": 32,
   "source": [
    "# mission 2 : cr != count\r\n",
    "train_cp['count'].hist(bins=50)"
   ],
   "outputs": [
    {
     "output_type": "execute_result",
     "data": {
      "text/plain": [
       "<AxesSubplot:>"
      ]
     },
     "metadata": {},
     "execution_count": 32
    },
    {
     "output_type": "display_data",
     "data": {
      "image/png": "[encoded data removed]",
      "text/plain": [
       "<Figure size 432x288 with 1 Axes>"
      ]
     },
     "metadata": {}
    }
   ],
   "metadata": {}
  },
  {
   "cell_type": "code",
   "execution_count": 33,
   "source": [
    "train_cp[train_cp['count'] != train_cp['cr']]"
   ],
   "outputs": [
    {
     "output_type": "execute_result",
     "data": {
      "text/html": [
       "<div>\n",
       "<style scoped>\n",
       "    .dataframe tbody tr th:only-of-type {\n",
       "        vertical-align: middle;\n",
       "    }\n",
       "\n",
       "    .dataframe tbody tr th {\n",
       "        vertical-align: top;\n",
       "    }\n",
       "\n",
       "    .dataframe thead th {\n",
       "        text-align: right;\n",
       "    }\n",
       "</style>\n",
       "<table border=\"1\" class=\"dataframe\">\n",
       "  <thead>\n",
       "    <tr style=\"text-align: right;\">\n",
       "      <th></th>\n",
       "      <th>datetime</th>\n",
       "      <th>season</th>\n",
       "      <th>holiday</th>\n",
       "      <th>workingday</th>\n",
       "      <th>weather</th>\n",
       "      <th>temp</th>\n",
       "      <th>atemp</th>\n",
       "      <th>humidity</th>\n",
       "      <th>windspeed</th>\n",
       "      <th>casual</th>\n",
       "      <th>registered</th>\n",
       "      <th>count</th>\n",
       "      <th>cr</th>\n",
       "    </tr>\n",
       "  </thead>\n",
       "  <tbody>\n",
       "  </tbody>\n",
       "</table>\n",
       "</div>"
      ],
      "text/plain": [
       "Empty DataFrame\n",
       "Columns: [datetime, season, holiday, workingday, weather, temp, atemp, humidity, windspeed, casual, registered, count, cr]\n",
       "Index: []"
      ]
     },
     "metadata": {},
     "execution_count": 33
    }
   ],
   "metadata": {}
  },
  {
   "cell_type": "code",
   "execution_count": 34,
   "source": [
    "del train_cp"
   ],
   "outputs": [],
   "metadata": {}
  },
  {
   "cell_type": "code",
   "execution_count": 35,
   "source": [
    "train = train.drop(['casual', 'registered'], axis=1)\r\n",
    "train.head()"
   ],
   "outputs": [
    {
     "output_type": "execute_result",
     "data": {
      "text/html": [
       "<div>\n",
       "<style scoped>\n",
       "    .dataframe tbody tr th:only-of-type {\n",
       "        vertical-align: middle;\n",
       "    }\n",
       "\n",
       "    .dataframe tbody tr th {\n",
       "        vertical-align: top;\n",
       "    }\n",
       "\n",
       "    .dataframe thead th {\n",
       "        text-align: right;\n",
       "    }\n",
       "</style>\n",
       "<table border=\"1\" class=\"dataframe\">\n",
       "  <thead>\n",
       "    <tr style=\"text-align: right;\">\n",
       "      <th></th>\n",
       "      <th>datetime</th>\n",
       "      <th>season</th>\n",
       "      <th>holiday</th>\n",
       "      <th>workingday</th>\n",
       "      <th>weather</th>\n",
       "      <th>temp</th>\n",
       "      <th>atemp</th>\n",
       "      <th>humidity</th>\n",
       "      <th>windspeed</th>\n",
       "      <th>count</th>\n",
       "    </tr>\n",
       "  </thead>\n",
       "  <tbody>\n",
       "    <tr>\n",
       "      <th>0</th>\n",
       "      <td>2011-01-01 00:00:00</td>\n",
       "      <td>1</td>\n",
       "      <td>0</td>\n",
       "      <td>0</td>\n",
       "      <td>1</td>\n",
       "      <td>9.84</td>\n",
       "      <td>14.395</td>\n",
       "      <td>81</td>\n",
       "      <td>0.0</td>\n",
       "      <td>16</td>\n",
       "    </tr>\n",
       "    <tr>\n",
       "      <th>1</th>\n",
       "      <td>2011-01-01 01:00:00</td>\n",
       "      <td>1</td>\n",
       "      <td>0</td>\n",
       "      <td>0</td>\n",
       "      <td>1</td>\n",
       "      <td>9.02</td>\n",
       "      <td>13.635</td>\n",
       "      <td>80</td>\n",
       "      <td>0.0</td>\n",
       "      <td>40</td>\n",
       "    </tr>\n",
       "    <tr>\n",
       "      <th>2</th>\n",
       "      <td>2011-01-01 02:00:00</td>\n",
       "      <td>1</td>\n",
       "      <td>0</td>\n",
       "      <td>0</td>\n",
       "      <td>1</td>\n",
       "      <td>9.02</td>\n",
       "      <td>13.635</td>\n",
       "      <td>80</td>\n",
       "      <td>0.0</td>\n",
       "      <td>32</td>\n",
       "    </tr>\n",
       "    <tr>\n",
       "      <th>3</th>\n",
       "      <td>2011-01-01 03:00:00</td>\n",
       "      <td>1</td>\n",
       "      <td>0</td>\n",
       "      <td>0</td>\n",
       "      <td>1</td>\n",
       "      <td>9.84</td>\n",
       "      <td>14.395</td>\n",
       "      <td>75</td>\n",
       "      <td>0.0</td>\n",
       "      <td>13</td>\n",
       "    </tr>\n",
       "    <tr>\n",
       "      <th>4</th>\n",
       "      <td>2011-01-01 04:00:00</td>\n",
       "      <td>1</td>\n",
       "      <td>0</td>\n",
       "      <td>0</td>\n",
       "      <td>1</td>\n",
       "      <td>9.84</td>\n",
       "      <td>14.395</td>\n",
       "      <td>75</td>\n",
       "      <td>0.0</td>\n",
       "      <td>1</td>\n",
       "    </tr>\n",
       "  </tbody>\n",
       "</table>\n",
       "</div>"
      ],
      "text/plain": [
       "              datetime  season  holiday  workingday  weather  temp   atemp  \\\n",
       "0  2011-01-01 00:00:00       1        0           0        1  9.84  14.395   \n",
       "1  2011-01-01 01:00:00       1        0           0        1  9.02  13.635   \n",
       "2  2011-01-01 02:00:00       1        0           0        1  9.02  13.635   \n",
       "3  2011-01-01 03:00:00       1        0           0        1  9.84  14.395   \n",
       "4  2011-01-01 04:00:00       1        0           0        1  9.84  14.395   \n",
       "\n",
       "   humidity  windspeed  count  \n",
       "0        81        0.0     16  \n",
       "1        80        0.0     40  \n",
       "2        80        0.0     32  \n",
       "3        75        0.0     13  \n",
       "4        75        0.0      1  "
      ]
     },
     "metadata": {},
     "execution_count": 35
    }
   ],
   "metadata": {}
  },
  {
   "cell_type": "code",
   "execution_count": 36,
   "source": [
    "from datetime import datetime as dt\r\n",
    "train['datetime'] = pd.to_datetime(train['datetime'])\r\n",
    "# train['datetime'] = train['datetime'].astype('datetime64')\r\n",
    "\r\n",
    "train['year']  = train['datetime'].dt.year\r\n",
    "train['month'] = train['datetime'].dt.month\r\n",
    "train['day']   = train['datetime'].dt.day\r\n",
    "train['hour']  = train['datetime'].dt.hour\r\n",
    "train['week']  = train['datetime'].dt.dayofweek\r\n",
    "train.head()"
   ],
   "outputs": [
    {
     "output_type": "execute_result",
     "data": {
      "text/html": [
       "<div>\n",
       "<style scoped>\n",
       "    .dataframe tbody tr th:only-of-type {\n",
       "        vertical-align: middle;\n",
       "    }\n",
       "\n",
       "    .dataframe tbody tr th {\n",
       "        vertical-align: top;\n",
       "    }\n",
       "\n",
       "    .dataframe thead th {\n",
       "        text-align: right;\n",
       "    }\n",
       "</style>\n",
       "<table border=\"1\" class=\"dataframe\">\n",
       "  <thead>\n",
       "    <tr style=\"text-align: right;\">\n",
       "      <th></th>\n",
       "      <th>datetime</th>\n",
       "      <th>season</th>\n",
       "      <th>holiday</th>\n",
       "      <th>workingday</th>\n",
       "      <th>weather</th>\n",
       "      <th>temp</th>\n",
       "      <th>atemp</th>\n",
       "      <th>humidity</th>\n",
       "      <th>windspeed</th>\n",
       "      <th>count</th>\n",
       "      <th>year</th>\n",
       "      <th>month</th>\n",
       "      <th>day</th>\n",
       "      <th>hour</th>\n",
       "      <th>week</th>\n",
       "    </tr>\n",
       "  </thead>\n",
       "  <tbody>\n",
       "    <tr>\n",
       "      <th>0</th>\n",
       "      <td>2011-01-01 00:00:00</td>\n",
       "      <td>1</td>\n",
       "      <td>0</td>\n",
       "      <td>0</td>\n",
       "      <td>1</td>\n",
       "      <td>9.84</td>\n",
       "      <td>14.395</td>\n",
       "      <td>81</td>\n",
       "      <td>0.0</td>\n",
       "      <td>16</td>\n",
       "      <td>2011</td>\n",
       "      <td>1</td>\n",
       "      <td>1</td>\n",
       "      <td>0</td>\n",
       "      <td>5</td>\n",
       "    </tr>\n",
       "    <tr>\n",
       "      <th>1</th>\n",
       "      <td>2011-01-01 01:00:00</td>\n",
       "      <td>1</td>\n",
       "      <td>0</td>\n",
       "      <td>0</td>\n",
       "      <td>1</td>\n",
       "      <td>9.02</td>\n",
       "      <td>13.635</td>\n",
       "      <td>80</td>\n",
       "      <td>0.0</td>\n",
       "      <td>40</td>\n",
       "      <td>2011</td>\n",
       "      <td>1</td>\n",
       "      <td>1</td>\n",
       "      <td>1</td>\n",
       "      <td>5</td>\n",
       "    </tr>\n",
       "    <tr>\n",
       "      <th>2</th>\n",
       "      <td>2011-01-01 02:00:00</td>\n",
       "      <td>1</td>\n",
       "      <td>0</td>\n",
       "      <td>0</td>\n",
       "      <td>1</td>\n",
       "      <td>9.02</td>\n",
       "      <td>13.635</td>\n",
       "      <td>80</td>\n",
       "      <td>0.0</td>\n",
       "      <td>32</td>\n",
       "      <td>2011</td>\n",
       "      <td>1</td>\n",
       "      <td>1</td>\n",
       "      <td>2</td>\n",
       "      <td>5</td>\n",
       "    </tr>\n",
       "    <tr>\n",
       "      <th>3</th>\n",
       "      <td>2011-01-01 03:00:00</td>\n",
       "      <td>1</td>\n",
       "      <td>0</td>\n",
       "      <td>0</td>\n",
       "      <td>1</td>\n",
       "      <td>9.84</td>\n",
       "      <td>14.395</td>\n",
       "      <td>75</td>\n",
       "      <td>0.0</td>\n",
       "      <td>13</td>\n",
       "      <td>2011</td>\n",
       "      <td>1</td>\n",
       "      <td>1</td>\n",
       "      <td>3</td>\n",
       "      <td>5</td>\n",
       "    </tr>\n",
       "    <tr>\n",
       "      <th>4</th>\n",
       "      <td>2011-01-01 04:00:00</td>\n",
       "      <td>1</td>\n",
       "      <td>0</td>\n",
       "      <td>0</td>\n",
       "      <td>1</td>\n",
       "      <td>9.84</td>\n",
       "      <td>14.395</td>\n",
       "      <td>75</td>\n",
       "      <td>0.0</td>\n",
       "      <td>1</td>\n",
       "      <td>2011</td>\n",
       "      <td>1</td>\n",
       "      <td>1</td>\n",
       "      <td>4</td>\n",
       "      <td>5</td>\n",
       "    </tr>\n",
       "  </tbody>\n",
       "</table>\n",
       "</div>"
      ],
      "text/plain": [
       "             datetime  season  holiday  workingday  weather  temp   atemp  \\\n",
       "0 2011-01-01 00:00:00       1        0           0        1  9.84  14.395   \n",
       "1 2011-01-01 01:00:00       1        0           0        1  9.02  13.635   \n",
       "2 2011-01-01 02:00:00       1        0           0        1  9.02  13.635   \n",
       "3 2011-01-01 03:00:00       1        0           0        1  9.84  14.395   \n",
       "4 2011-01-01 04:00:00       1        0           0        1  9.84  14.395   \n",
       "\n",
       "   humidity  windspeed  count  year  month  day  hour  week  \n",
       "0        81        0.0     16  2011      1    1     0     5  \n",
       "1        80        0.0     40  2011      1    1     1     5  \n",
       "2        80        0.0     32  2011      1    1     2     5  \n",
       "3        75        0.0     13  2011      1    1     3     5  \n",
       "4        75        0.0      1  2011      1    1     4     5  "
      ]
     },
     "metadata": {},
     "execution_count": 36
    }
   ],
   "metadata": {}
  },
  {
   "cell_type": "code",
   "execution_count": 37,
   "source": [
    "from datetime import datetime as dt\r\n",
    "X_sub['datetime'] = pd.to_datetime(X_sub['datetime'])\r\n",
    "# X_sub['datetime'] = X_sub['datetime'].astype('datetime64')\r\n",
    "\r\n",
    "X_sub['year']  = X_sub['datetime'].dt.year\r\n",
    "X_sub['month'] = X_sub['datetime'].dt.month\r\n",
    "X_sub['day']   = X_sub['datetime'].dt.day\r\n",
    "X_sub['hour']  = X_sub['datetime'].dt.hour\r\n",
    "X_sub['week']  = X_sub['datetime'].dt.dayofweek\r\n",
    "X_sub.head()"
   ],
   "outputs": [
    {
     "output_type": "execute_result",
     "data": {
      "text/html": [
       "<div>\n",
       "<style scoped>\n",
       "    .dataframe tbody tr th:only-of-type {\n",
       "        vertical-align: middle;\n",
       "    }\n",
       "\n",
       "    .dataframe tbody tr th {\n",
       "        vertical-align: top;\n",
       "    }\n",
       "\n",
       "    .dataframe thead th {\n",
       "        text-align: right;\n",
       "    }\n",
       "</style>\n",
       "<table border=\"1\" class=\"dataframe\">\n",
       "  <thead>\n",
       "    <tr style=\"text-align: right;\">\n",
       "      <th></th>\n",
       "      <th>datetime</th>\n",
       "      <th>season</th>\n",
       "      <th>holiday</th>\n",
       "      <th>workingday</th>\n",
       "      <th>weather</th>\n",
       "      <th>temp</th>\n",
       "      <th>atemp</th>\n",
       "      <th>humidity</th>\n",
       "      <th>windspeed</th>\n",
       "      <th>year</th>\n",
       "      <th>month</th>\n",
       "      <th>day</th>\n",
       "      <th>hour</th>\n",
       "      <th>week</th>\n",
       "    </tr>\n",
       "  </thead>\n",
       "  <tbody>\n",
       "    <tr>\n",
       "      <th>0</th>\n",
       "      <td>2011-01-20 00:00:00</td>\n",
       "      <td>1</td>\n",
       "      <td>0</td>\n",
       "      <td>1</td>\n",
       "      <td>1</td>\n",
       "      <td>10.66</td>\n",
       "      <td>11.365</td>\n",
       "      <td>56</td>\n",
       "      <td>26.0027</td>\n",
       "      <td>2011</td>\n",
       "      <td>1</td>\n",
       "      <td>20</td>\n",
       "      <td>0</td>\n",
       "      <td>3</td>\n",
       "    </tr>\n",
       "    <tr>\n",
       "      <th>1</th>\n",
       "      <td>2011-01-20 01:00:00</td>\n",
       "      <td>1</td>\n",
       "      <td>0</td>\n",
       "      <td>1</td>\n",
       "      <td>1</td>\n",
       "      <td>10.66</td>\n",
       "      <td>13.635</td>\n",
       "      <td>56</td>\n",
       "      <td>0.0000</td>\n",
       "      <td>2011</td>\n",
       "      <td>1</td>\n",
       "      <td>20</td>\n",
       "      <td>1</td>\n",
       "      <td>3</td>\n",
       "    </tr>\n",
       "    <tr>\n",
       "      <th>2</th>\n",
       "      <td>2011-01-20 02:00:00</td>\n",
       "      <td>1</td>\n",
       "      <td>0</td>\n",
       "      <td>1</td>\n",
       "      <td>1</td>\n",
       "      <td>10.66</td>\n",
       "      <td>13.635</td>\n",
       "      <td>56</td>\n",
       "      <td>0.0000</td>\n",
       "      <td>2011</td>\n",
       "      <td>1</td>\n",
       "      <td>20</td>\n",
       "      <td>2</td>\n",
       "      <td>3</td>\n",
       "    </tr>\n",
       "    <tr>\n",
       "      <th>3</th>\n",
       "      <td>2011-01-20 03:00:00</td>\n",
       "      <td>1</td>\n",
       "      <td>0</td>\n",
       "      <td>1</td>\n",
       "      <td>1</td>\n",
       "      <td>10.66</td>\n",
       "      <td>12.880</td>\n",
       "      <td>56</td>\n",
       "      <td>11.0014</td>\n",
       "      <td>2011</td>\n",
       "      <td>1</td>\n",
       "      <td>20</td>\n",
       "      <td>3</td>\n",
       "      <td>3</td>\n",
       "    </tr>\n",
       "    <tr>\n",
       "      <th>4</th>\n",
       "      <td>2011-01-20 04:00:00</td>\n",
       "      <td>1</td>\n",
       "      <td>0</td>\n",
       "      <td>1</td>\n",
       "      <td>1</td>\n",
       "      <td>10.66</td>\n",
       "      <td>12.880</td>\n",
       "      <td>56</td>\n",
       "      <td>11.0014</td>\n",
       "      <td>2011</td>\n",
       "      <td>1</td>\n",
       "      <td>20</td>\n",
       "      <td>4</td>\n",
       "      <td>3</td>\n",
       "    </tr>\n",
       "  </tbody>\n",
       "</table>\n",
       "</div>"
      ],
      "text/plain": [
       "             datetime  season  holiday  workingday  weather   temp   atemp  \\\n",
       "0 2011-01-20 00:00:00       1        0           1        1  10.66  11.365   \n",
       "1 2011-01-20 01:00:00       1        0           1        1  10.66  13.635   \n",
       "2 2011-01-20 02:00:00       1        0           1        1  10.66  13.635   \n",
       "3 2011-01-20 03:00:00       1        0           1        1  10.66  12.880   \n",
       "4 2011-01-20 04:00:00       1        0           1        1  10.66  12.880   \n",
       "\n",
       "   humidity  windspeed  year  month  day  hour  week  \n",
       "0        56    26.0027  2011      1   20     0     3  \n",
       "1        56     0.0000  2011      1   20     1     3  \n",
       "2        56     0.0000  2011      1   20     2     3  \n",
       "3        56    11.0014  2011      1   20     3     3  \n",
       "4        56    11.0014  2011      1   20     4     3  "
      ]
     },
     "metadata": {},
     "execution_count": 37
    }
   ],
   "metadata": {}
  },
  {
   "cell_type": "markdown",
   "source": [
    "## corr"
   ],
   "metadata": {}
  },
  {
   "cell_type": "code",
   "execution_count": 38,
   "source": [
    "fig, ax = plt.subplots(figsize=(12, 9))\r\n",
    "sns.heatmap(train.corr(), annot=True, cmap='coolwarm')"
   ],
   "outputs": [
    {
     "output_type": "execute_result",
     "data": {
      "text/plain": [
       "<AxesSubplot:>"
      ]
     },
     "metadata": {},
     "execution_count": 38
    },
    {
     "output_type": "display_data",
     "data": {
      "image/png": "[encoded data removed]",
      "text/plain": [
       "<Figure size 864x648 with 2 Axes>"
      ]
     },
     "metadata": {}
    }
   ],
   "metadata": {}
  },
  {
   "cell_type": "code",
   "execution_count": 39,
   "source": [
    "# count    & temp, atemp, hour\r\n",
    "# temp     & atemp      :  0.98\r\n",
    "# season   & month      :  0.97\r\n",
    "# week     & workingday : -0.7\r\n",
    "# humidity & weather    :  0.41"
   ],
   "outputs": [],
   "metadata": {}
  },
  {
   "cell_type": "markdown",
   "source": [
    "## PCA"
   ],
   "metadata": {}
  },
  {
   "cell_type": "code",
   "execution_count": 40,
   "source": [
    "# PCA전 반드시 outlier, log, scale 처리\r\n",
    "train['year'] = np.log1p(train['year'])\r\n",
    "X_sub['year'] = np.log1p(X_sub['year'])\r\n",
    "\r\n",
    "train['year'].head()"
   ],
   "outputs": [
    {
     "output_type": "execute_result",
     "data": {
      "text/plain": [
       "0    7.606885\n",
       "1    7.606885\n",
       "2    7.606885\n",
       "3    7.606885\n",
       "4    7.606885\n",
       "Name: year, dtype: float64"
      ]
     },
     "metadata": {},
     "execution_count": 40
    }
   ],
   "metadata": {}
  },
  {
   "cell_type": "code",
   "execution_count": 41,
   "source": [
    "train['year'] = np.log1p(train['year'])\r\n",
    "X_sub['year'] = np.log1p(X_sub['year'])\r\n",
    "\r\n",
    "train['year'].head()"
   ],
   "outputs": [
    {
     "output_type": "execute_result",
     "data": {
      "text/plain": [
       "0    2.152562\n",
       "1    2.152562\n",
       "2    2.152562\n",
       "3    2.152562\n",
       "4    2.152562\n",
       "Name: year, dtype: float64"
      ]
     },
     "metadata": {},
     "execution_count": 41
    }
   ],
   "metadata": {}
  },
  {
   "cell_type": "code",
   "execution_count": 42,
   "source": [
    "train.head()"
   ],
   "outputs": [
    {
     "output_type": "execute_result",
     "data": {
      "text/html": [
       "<div>\n",
       "<style scoped>\n",
       "    .dataframe tbody tr th:only-of-type {\n",
       "        vertical-align: middle;\n",
       "    }\n",
       "\n",
       "    .dataframe tbody tr th {\n",
       "        vertical-align: top;\n",
       "    }\n",
       "\n",
       "    .dataframe thead th {\n",
       "        text-align: right;\n",
       "    }\n",
       "</style>\n",
       "<table border=\"1\" class=\"dataframe\">\n",
       "  <thead>\n",
       "    <tr style=\"text-align: right;\">\n",
       "      <th></th>\n",
       "      <th>datetime</th>\n",
       "      <th>season</th>\n",
       "      <th>holiday</th>\n",
       "      <th>workingday</th>\n",
       "      <th>weather</th>\n",
       "      <th>temp</th>\n",
       "      <th>atemp</th>\n",
       "      <th>humidity</th>\n",
       "      <th>windspeed</th>\n",
       "      <th>count</th>\n",
       "      <th>year</th>\n",
       "      <th>month</th>\n",
       "      <th>day</th>\n",
       "      <th>hour</th>\n",
       "      <th>week</th>\n",
       "    </tr>\n",
       "  </thead>\n",
       "  <tbody>\n",
       "    <tr>\n",
       "      <th>0</th>\n",
       "      <td>2011-01-01 00:00:00</td>\n",
       "      <td>1</td>\n",
       "      <td>0</td>\n",
       "      <td>0</td>\n",
       "      <td>1</td>\n",
       "      <td>9.84</td>\n",
       "      <td>14.395</td>\n",
       "      <td>81</td>\n",
       "      <td>0.0</td>\n",
       "      <td>16</td>\n",
       "      <td>2.152562</td>\n",
       "      <td>1</td>\n",
       "      <td>1</td>\n",
       "      <td>0</td>\n",
       "      <td>5</td>\n",
       "    </tr>\n",
       "    <tr>\n",
       "      <th>1</th>\n",
       "      <td>2011-01-01 01:00:00</td>\n",
       "      <td>1</td>\n",
       "      <td>0</td>\n",
       "      <td>0</td>\n",
       "      <td>1</td>\n",
       "      <td>9.02</td>\n",
       "      <td>13.635</td>\n",
       "      <td>80</td>\n",
       "      <td>0.0</td>\n",
       "      <td>40</td>\n",
       "      <td>2.152562</td>\n",
       "      <td>1</td>\n",
       "      <td>1</td>\n",
       "      <td>1</td>\n",
       "      <td>5</td>\n",
       "    </tr>\n",
       "    <tr>\n",
       "      <th>2</th>\n",
       "      <td>2011-01-01 02:00:00</td>\n",
       "      <td>1</td>\n",
       "      <td>0</td>\n",
       "      <td>0</td>\n",
       "      <td>1</td>\n",
       "      <td>9.02</td>\n",
       "      <td>13.635</td>\n",
       "      <td>80</td>\n",
       "      <td>0.0</td>\n",
       "      <td>32</td>\n",
       "      <td>2.152562</td>\n",
       "      <td>1</td>\n",
       "      <td>1</td>\n",
       "      <td>2</td>\n",
       "      <td>5</td>\n",
       "    </tr>\n",
       "    <tr>\n",
       "      <th>3</th>\n",
       "      <td>2011-01-01 03:00:00</td>\n",
       "      <td>1</td>\n",
       "      <td>0</td>\n",
       "      <td>0</td>\n",
       "      <td>1</td>\n",
       "      <td>9.84</td>\n",
       "      <td>14.395</td>\n",
       "      <td>75</td>\n",
       "      <td>0.0</td>\n",
       "      <td>13</td>\n",
       "      <td>2.152562</td>\n",
       "      <td>1</td>\n",
       "      <td>1</td>\n",
       "      <td>3</td>\n",
       "      <td>5</td>\n",
       "    </tr>\n",
       "    <tr>\n",
       "      <th>4</th>\n",
       "      <td>2011-01-01 04:00:00</td>\n",
       "      <td>1</td>\n",
       "      <td>0</td>\n",
       "      <td>0</td>\n",
       "      <td>1</td>\n",
       "      <td>9.84</td>\n",
       "      <td>14.395</td>\n",
       "      <td>75</td>\n",
       "      <td>0.0</td>\n",
       "      <td>1</td>\n",
       "      <td>2.152562</td>\n",
       "      <td>1</td>\n",
       "      <td>1</td>\n",
       "      <td>4</td>\n",
       "      <td>5</td>\n",
       "    </tr>\n",
       "  </tbody>\n",
       "</table>\n",
       "</div>"
      ],
      "text/plain": [
       "             datetime  season  holiday  workingday  weather  temp   atemp  \\\n",
       "0 2011-01-01 00:00:00       1        0           0        1  9.84  14.395   \n",
       "1 2011-01-01 01:00:00       1        0           0        1  9.02  13.635   \n",
       "2 2011-01-01 02:00:00       1        0           0        1  9.02  13.635   \n",
       "3 2011-01-01 03:00:00       1        0           0        1  9.84  14.395   \n",
       "4 2011-01-01 04:00:00       1        0           0        1  9.84  14.395   \n",
       "\n",
       "   humidity  windspeed  count      year  month  day  hour  week  \n",
       "0        81        0.0     16  2.152562      1    1     0     5  \n",
       "1        80        0.0     40  2.152562      1    1     1     5  \n",
       "2        80        0.0     32  2.152562      1    1     2     5  \n",
       "3        75        0.0     13  2.152562      1    1     3     5  \n",
       "4        75        0.0      1  2.152562      1    1     4     5  "
      ]
     },
     "metadata": {},
     "execution_count": 42
    }
   ],
   "metadata": {}
  },
  {
   "cell_type": "code",
   "execution_count": 43,
   "source": [
    "train.describe()"
   ],
   "outputs": [
    {
     "output_type": "execute_result",
     "data": {
      "text/html": [
       "<div>\n",
       "<style scoped>\n",
       "    .dataframe tbody tr th:only-of-type {\n",
       "        vertical-align: middle;\n",
       "    }\n",
       "\n",
       "    .dataframe tbody tr th {\n",
       "        vertical-align: top;\n",
       "    }\n",
       "\n",
       "    .dataframe thead th {\n",
       "        text-align: right;\n",
       "    }\n",
       "</style>\n",
       "<table border=\"1\" class=\"dataframe\">\n",
       "  <thead>\n",
       "    <tr style=\"text-align: right;\">\n",
       "      <th></th>\n",
       "      <th>season</th>\n",
       "      <th>holiday</th>\n",
       "      <th>workingday</th>\n",
       "      <th>weather</th>\n",
       "      <th>temp</th>\n",
       "      <th>atemp</th>\n",
       "      <th>humidity</th>\n",
       "      <th>windspeed</th>\n",
       "      <th>count</th>\n",
       "      <th>year</th>\n",
       "      <th>month</th>\n",
       "      <th>day</th>\n",
       "      <th>hour</th>\n",
       "      <th>week</th>\n",
       "    </tr>\n",
       "  </thead>\n",
       "  <tbody>\n",
       "    <tr>\n",
       "      <th>count</th>\n",
       "      <td>10886.000000</td>\n",
       "      <td>10886.000000</td>\n",
       "      <td>10886.000000</td>\n",
       "      <td>10886.000000</td>\n",
       "      <td>10886.00000</td>\n",
       "      <td>10886.000000</td>\n",
       "      <td>10886.000000</td>\n",
       "      <td>10886.000000</td>\n",
       "      <td>10886.000000</td>\n",
       "      <td>10886.000000</td>\n",
       "      <td>10886.000000</td>\n",
       "      <td>10886.000000</td>\n",
       "      <td>10886.000000</td>\n",
       "      <td>10886.000000</td>\n",
       "    </tr>\n",
       "    <tr>\n",
       "      <th>mean</th>\n",
       "      <td>2.506614</td>\n",
       "      <td>0.028569</td>\n",
       "      <td>0.680875</td>\n",
       "      <td>1.418427</td>\n",
       "      <td>20.23086</td>\n",
       "      <td>23.655084</td>\n",
       "      <td>61.886460</td>\n",
       "      <td>12.799395</td>\n",
       "      <td>191.574132</td>\n",
       "      <td>2.152591</td>\n",
       "      <td>6.521495</td>\n",
       "      <td>9.992559</td>\n",
       "      <td>11.541613</td>\n",
       "      <td>3.013963</td>\n",
       "    </tr>\n",
       "    <tr>\n",
       "      <th>std</th>\n",
       "      <td>1.116174</td>\n",
       "      <td>0.166599</td>\n",
       "      <td>0.466159</td>\n",
       "      <td>0.633839</td>\n",
       "      <td>7.79159</td>\n",
       "      <td>8.474601</td>\n",
       "      <td>19.245033</td>\n",
       "      <td>8.164537</td>\n",
       "      <td>181.144454</td>\n",
       "      <td>0.000029</td>\n",
       "      <td>3.444373</td>\n",
       "      <td>5.476608</td>\n",
       "      <td>6.915838</td>\n",
       "      <td>2.004585</td>\n",
       "    </tr>\n",
       "    <tr>\n",
       "      <th>min</th>\n",
       "      <td>1.000000</td>\n",
       "      <td>0.000000</td>\n",
       "      <td>0.000000</td>\n",
       "      <td>1.000000</td>\n",
       "      <td>0.82000</td>\n",
       "      <td>0.760000</td>\n",
       "      <td>0.000000</td>\n",
       "      <td>0.000000</td>\n",
       "      <td>1.000000</td>\n",
       "      <td>2.152562</td>\n",
       "      <td>1.000000</td>\n",
       "      <td>1.000000</td>\n",
       "      <td>0.000000</td>\n",
       "      <td>0.000000</td>\n",
       "    </tr>\n",
       "    <tr>\n",
       "      <th>25%</th>\n",
       "      <td>2.000000</td>\n",
       "      <td>0.000000</td>\n",
       "      <td>0.000000</td>\n",
       "      <td>1.000000</td>\n",
       "      <td>13.94000</td>\n",
       "      <td>16.665000</td>\n",
       "      <td>47.000000</td>\n",
       "      <td>7.001500</td>\n",
       "      <td>42.000000</td>\n",
       "      <td>2.152562</td>\n",
       "      <td>4.000000</td>\n",
       "      <td>5.000000</td>\n",
       "      <td>6.000000</td>\n",
       "      <td>1.000000</td>\n",
       "    </tr>\n",
       "    <tr>\n",
       "      <th>50%</th>\n",
       "      <td>3.000000</td>\n",
       "      <td>0.000000</td>\n",
       "      <td>1.000000</td>\n",
       "      <td>1.000000</td>\n",
       "      <td>20.50000</td>\n",
       "      <td>24.240000</td>\n",
       "      <td>62.000000</td>\n",
       "      <td>12.998000</td>\n",
       "      <td>145.000000</td>\n",
       "      <td>2.152620</td>\n",
       "      <td>7.000000</td>\n",
       "      <td>10.000000</td>\n",
       "      <td>12.000000</td>\n",
       "      <td>3.000000</td>\n",
       "    </tr>\n",
       "    <tr>\n",
       "      <th>75%</th>\n",
       "      <td>4.000000</td>\n",
       "      <td>0.000000</td>\n",
       "      <td>1.000000</td>\n",
       "      <td>2.000000</td>\n",
       "      <td>26.24000</td>\n",
       "      <td>31.060000</td>\n",
       "      <td>77.000000</td>\n",
       "      <td>16.997900</td>\n",
       "      <td>284.000000</td>\n",
       "      <td>2.152620</td>\n",
       "      <td>10.000000</td>\n",
       "      <td>15.000000</td>\n",
       "      <td>18.000000</td>\n",
       "      <td>5.000000</td>\n",
       "    </tr>\n",
       "    <tr>\n",
       "      <th>max</th>\n",
       "      <td>4.000000</td>\n",
       "      <td>1.000000</td>\n",
       "      <td>1.000000</td>\n",
       "      <td>4.000000</td>\n",
       "      <td>41.00000</td>\n",
       "      <td>45.455000</td>\n",
       "      <td>100.000000</td>\n",
       "      <td>56.996900</td>\n",
       "      <td>977.000000</td>\n",
       "      <td>2.152620</td>\n",
       "      <td>12.000000</td>\n",
       "      <td>19.000000</td>\n",
       "      <td>23.000000</td>\n",
       "      <td>6.000000</td>\n",
       "    </tr>\n",
       "  </tbody>\n",
       "</table>\n",
       "</div>"
      ],
      "text/plain": [
       "             season       holiday    workingday       weather         temp  \\\n",
       "count  10886.000000  10886.000000  10886.000000  10886.000000  10886.00000   \n",
       "mean       2.506614      0.028569      0.680875      1.418427     20.23086   \n",
       "std        1.116174      0.166599      0.466159      0.633839      7.79159   \n",
       "min        1.000000      0.000000      0.000000      1.000000      0.82000   \n",
       "25%        2.000000      0.000000      0.000000      1.000000     13.94000   \n",
       "50%        3.000000      0.000000      1.000000      1.000000     20.50000   \n",
       "75%        4.000000      0.000000      1.000000      2.000000     26.24000   \n",
       "max        4.000000      1.000000      1.000000      4.000000     41.00000   \n",
       "\n",
       "              atemp      humidity     windspeed         count          year  \\\n",
       "count  10886.000000  10886.000000  10886.000000  10886.000000  10886.000000   \n",
       "mean      23.655084     61.886460     12.799395    191.574132      2.152591   \n",
       "std        8.474601     19.245033      8.164537    181.144454      0.000029   \n",
       "min        0.760000      0.000000      0.000000      1.000000      2.152562   \n",
       "25%       16.665000     47.000000      7.001500     42.000000      2.152562   \n",
       "50%       24.240000     62.000000     12.998000    145.000000      2.152620   \n",
       "75%       31.060000     77.000000     16.997900    284.000000      2.152620   \n",
       "max       45.455000    100.000000     56.996900    977.000000      2.152620   \n",
       "\n",
       "              month           day          hour          week  \n",
       "count  10886.000000  10886.000000  10886.000000  10886.000000  \n",
       "mean       6.521495      9.992559     11.541613      3.013963  \n",
       "std        3.444373      5.476608      6.915838      2.004585  \n",
       "min        1.000000      1.000000      0.000000      0.000000  \n",
       "25%        4.000000      5.000000      6.000000      1.000000  \n",
       "50%        7.000000     10.000000     12.000000      3.000000  \n",
       "75%       10.000000     15.000000     18.000000      5.000000  \n",
       "max       12.000000     19.000000     23.000000      6.000000  "
      ]
     },
     "metadata": {},
     "execution_count": 43
    }
   ],
   "metadata": {}
  },
  {
   "cell_type": "code",
   "execution_count": 44,
   "source": [
    "sns.barplot(x='season', y='count', data=train)"
   ],
   "outputs": [
    {
     "output_type": "execute_result",
     "data": {
      "text/plain": [
       "<AxesSubplot:xlabel='season', ylabel='count'>"
      ]
     },
     "metadata": {},
     "execution_count": 44
    },
    {
     "output_type": "display_data",
     "data": {
      "image/png": "[encoded data removed]",
      "text/plain": [
       "<Figure size 432x288 with 1 Axes>"
      ]
     },
     "metadata": {}
    }
   ],
   "metadata": {}
  },
  {
   "cell_type": "code",
   "execution_count": 45,
   "source": [
    "sns.barplot(x='month', y='count', data=train)"
   ],
   "outputs": [
    {
     "output_type": "execute_result",
     "data": {
      "text/plain": [
       "<AxesSubplot:xlabel='month', ylabel='count'>"
      ]
     },
     "metadata": {},
     "execution_count": 45
    },
    {
     "output_type": "display_data",
     "data": {
      "image/png": "[encoded data removed]",
      "text/plain": [
       "<Figure size 432x288 with 1 Axes>"
      ]
     },
     "metadata": {}
    }
   ],
   "metadata": {}
  },
  {
   "cell_type": "code",
   "execution_count": 46,
   "source": [
    "pd.crosstab(train['season'], train['month'])"
   ],
   "outputs": [
    {
     "output_type": "execute_result",
     "data": {
      "text/html": [
       "<div>\n",
       "<style scoped>\n",
       "    .dataframe tbody tr th:only-of-type {\n",
       "        vertical-align: middle;\n",
       "    }\n",
       "\n",
       "    .dataframe tbody tr th {\n",
       "        vertical-align: top;\n",
       "    }\n",
       "\n",
       "    .dataframe thead th {\n",
       "        text-align: right;\n",
       "    }\n",
       "</style>\n",
       "<table border=\"1\" class=\"dataframe\">\n",
       "  <thead>\n",
       "    <tr style=\"text-align: right;\">\n",
       "      <th>month</th>\n",
       "      <th>1</th>\n",
       "      <th>2</th>\n",
       "      <th>3</th>\n",
       "      <th>4</th>\n",
       "      <th>5</th>\n",
       "      <th>6</th>\n",
       "      <th>7</th>\n",
       "      <th>8</th>\n",
       "      <th>9</th>\n",
       "      <th>10</th>\n",
       "      <th>11</th>\n",
       "      <th>12</th>\n",
       "    </tr>\n",
       "    <tr>\n",
       "      <th>season</th>\n",
       "      <th></th>\n",
       "      <th></th>\n",
       "      <th></th>\n",
       "      <th></th>\n",
       "      <th></th>\n",
       "      <th></th>\n",
       "      <th></th>\n",
       "      <th></th>\n",
       "      <th></th>\n",
       "      <th></th>\n",
       "      <th></th>\n",
       "      <th></th>\n",
       "    </tr>\n",
       "  </thead>\n",
       "  <tbody>\n",
       "    <tr>\n",
       "      <th>1</th>\n",
       "      <td>884</td>\n",
       "      <td>901</td>\n",
       "      <td>901</td>\n",
       "      <td>0</td>\n",
       "      <td>0</td>\n",
       "      <td>0</td>\n",
       "      <td>0</td>\n",
       "      <td>0</td>\n",
       "      <td>0</td>\n",
       "      <td>0</td>\n",
       "      <td>0</td>\n",
       "      <td>0</td>\n",
       "    </tr>\n",
       "    <tr>\n",
       "      <th>2</th>\n",
       "      <td>0</td>\n",
       "      <td>0</td>\n",
       "      <td>0</td>\n",
       "      <td>909</td>\n",
       "      <td>912</td>\n",
       "      <td>912</td>\n",
       "      <td>0</td>\n",
       "      <td>0</td>\n",
       "      <td>0</td>\n",
       "      <td>0</td>\n",
       "      <td>0</td>\n",
       "      <td>0</td>\n",
       "    </tr>\n",
       "    <tr>\n",
       "      <th>3</th>\n",
       "      <td>0</td>\n",
       "      <td>0</td>\n",
       "      <td>0</td>\n",
       "      <td>0</td>\n",
       "      <td>0</td>\n",
       "      <td>0</td>\n",
       "      <td>912</td>\n",
       "      <td>912</td>\n",
       "      <td>909</td>\n",
       "      <td>0</td>\n",
       "      <td>0</td>\n",
       "      <td>0</td>\n",
       "    </tr>\n",
       "    <tr>\n",
       "      <th>4</th>\n",
       "      <td>0</td>\n",
       "      <td>0</td>\n",
       "      <td>0</td>\n",
       "      <td>0</td>\n",
       "      <td>0</td>\n",
       "      <td>0</td>\n",
       "      <td>0</td>\n",
       "      <td>0</td>\n",
       "      <td>0</td>\n",
       "      <td>911</td>\n",
       "      <td>911</td>\n",
       "      <td>912</td>\n",
       "    </tr>\n",
       "  </tbody>\n",
       "</table>\n",
       "</div>"
      ],
      "text/plain": [
       "month    1    2    3    4    5    6    7    8    9    10   11   12\n",
       "season                                                            \n",
       "1       884  901  901    0    0    0    0    0    0    0    0    0\n",
       "2         0    0    0  909  912  912    0    0    0    0    0    0\n",
       "3         0    0    0    0    0    0  912  912  909    0    0    0\n",
       "4         0    0    0    0    0    0    0    0    0  911  911  912"
      ]
     },
     "metadata": {},
     "execution_count": 46
    }
   ],
   "metadata": {}
  },
  {
   "cell_type": "code",
   "execution_count": 47,
   "source": [
    "pd.crosstab(X_sub['season'], X_sub['month'])"
   ],
   "outputs": [
    {
     "output_type": "execute_result",
     "data": {
      "text/html": [
       "<div>\n",
       "<style scoped>\n",
       "    .dataframe tbody tr th:only-of-type {\n",
       "        vertical-align: middle;\n",
       "    }\n",
       "\n",
       "    .dataframe tbody tr th {\n",
       "        vertical-align: top;\n",
       "    }\n",
       "\n",
       "    .dataframe thead th {\n",
       "        text-align: right;\n",
       "    }\n",
       "</style>\n",
       "<table border=\"1\" class=\"dataframe\">\n",
       "  <thead>\n",
       "    <tr style=\"text-align: right;\">\n",
       "      <th>month</th>\n",
       "      <th>1</th>\n",
       "      <th>2</th>\n",
       "      <th>3</th>\n",
       "      <th>4</th>\n",
       "      <th>5</th>\n",
       "      <th>6</th>\n",
       "      <th>7</th>\n",
       "      <th>8</th>\n",
       "      <th>9</th>\n",
       "      <th>10</th>\n",
       "      <th>11</th>\n",
       "      <th>12</th>\n",
       "    </tr>\n",
       "    <tr>\n",
       "      <th>season</th>\n",
       "      <th></th>\n",
       "      <th></th>\n",
       "      <th></th>\n",
       "      <th></th>\n",
       "      <th></th>\n",
       "      <th></th>\n",
       "      <th></th>\n",
       "      <th></th>\n",
       "      <th></th>\n",
       "      <th></th>\n",
       "      <th></th>\n",
       "      <th></th>\n",
       "    </tr>\n",
       "  </thead>\n",
       "  <tbody>\n",
       "    <tr>\n",
       "      <th>1</th>\n",
       "      <td>545</td>\n",
       "      <td>440</td>\n",
       "      <td>48</td>\n",
       "      <td>0</td>\n",
       "      <td>0</td>\n",
       "      <td>0</td>\n",
       "      <td>0</td>\n",
       "      <td>0</td>\n",
       "      <td>0</td>\n",
       "      <td>0</td>\n",
       "      <td>0</td>\n",
       "      <td>523</td>\n",
       "    </tr>\n",
       "    <tr>\n",
       "      <th>2</th>\n",
       "      <td>0</td>\n",
       "      <td>0</td>\n",
       "      <td>524</td>\n",
       "      <td>528</td>\n",
       "      <td>576</td>\n",
       "      <td>48</td>\n",
       "      <td>0</td>\n",
       "      <td>0</td>\n",
       "      <td>0</td>\n",
       "      <td>0</td>\n",
       "      <td>0</td>\n",
       "      <td>0</td>\n",
       "    </tr>\n",
       "    <tr>\n",
       "      <th>3</th>\n",
       "      <td>0</td>\n",
       "      <td>0</td>\n",
       "      <td>0</td>\n",
       "      <td>0</td>\n",
       "      <td>0</td>\n",
       "      <td>480</td>\n",
       "      <td>576</td>\n",
       "      <td>563</td>\n",
       "      <td>144</td>\n",
       "      <td>0</td>\n",
       "      <td>0</td>\n",
       "      <td>0</td>\n",
       "    </tr>\n",
       "    <tr>\n",
       "      <th>4</th>\n",
       "      <td>0</td>\n",
       "      <td>0</td>\n",
       "      <td>0</td>\n",
       "      <td>0</td>\n",
       "      <td>0</td>\n",
       "      <td>0</td>\n",
       "      <td>0</td>\n",
       "      <td>0</td>\n",
       "      <td>384</td>\n",
       "      <td>540</td>\n",
       "      <td>526</td>\n",
       "      <td>48</td>\n",
       "    </tr>\n",
       "  </tbody>\n",
       "</table>\n",
       "</div>"
      ],
      "text/plain": [
       "month    1    2    3    4    5    6    7    8    9    10   11   12\n",
       "season                                                            \n",
       "1       545  440   48    0    0    0    0    0    0    0    0  523\n",
       "2         0    0  524  528  576   48    0    0    0    0    0    0\n",
       "3         0    0    0    0    0  480  576  563  144    0    0    0\n",
       "4         0    0    0    0    0    0    0    0  384  540  526   48"
      ]
     },
     "metadata": {},
     "execution_count": 47
    }
   ],
   "metadata": {}
  },
  {
   "cell_type": "code",
   "execution_count": 48,
   "source": [
    "# target sep\r\n",
    "X_train_test = train.drop('count', axis=1)\r\n",
    "y_train_test = train['count']"
   ],
   "outputs": [],
   "metadata": {}
  },
  {
   "cell_type": "code",
   "execution_count": 49,
   "source": [
    "# scale : int는 모두 scale 가능. datetime 제외\r\n",
    "scale_cols = ['season', 'holiday', 'workingday', 'weather', 'temp', 'atemp', \r\n",
    "              'humidity', 'windspeed', 'year', 'month', 'day', 'hour', 'week']\r\n",
    "\r\n",
    "st = StandardScaler()\r\n",
    "\r\n",
    "st.fit(X_train_test[scale_cols])\r\n",
    "\r\n",
    "X_train_test[scale_cols] = st.transform(X_train_test[scale_cols])\r\n",
    "X_sub[scale_cols]        = st.transform(X_sub[scale_cols])\r\n",
    "\r\n",
    "X_train_test = X_train_test.drop('datetime', axis=1)\r\n",
    "X_sub        = X_sub.drop('datetime', axis=1)\r\n",
    "\r\n",
    "X_train_test.head()"
   ],
   "outputs": [
    {
     "output_type": "execute_result",
     "data": {
      "text/html": [
       "<div>\n",
       "<style scoped>\n",
       "    .dataframe tbody tr th:only-of-type {\n",
       "        vertical-align: middle;\n",
       "    }\n",
       "\n",
       "    .dataframe tbody tr th {\n",
       "        vertical-align: top;\n",
       "    }\n",
       "\n",
       "    .dataframe thead th {\n",
       "        text-align: right;\n",
       "    }\n",
       "</style>\n",
       "<table border=\"1\" class=\"dataframe\">\n",
       "  <thead>\n",
       "    <tr style=\"text-align: right;\">\n",
       "      <th></th>\n",
       "      <th>season</th>\n",
       "      <th>holiday</th>\n",
       "      <th>workingday</th>\n",
       "      <th>weather</th>\n",
       "      <th>temp</th>\n",
       "      <th>atemp</th>\n",
       "      <th>humidity</th>\n",
       "      <th>windspeed</th>\n",
       "      <th>year</th>\n",
       "      <th>month</th>\n",
       "      <th>day</th>\n",
       "      <th>hour</th>\n",
       "      <th>week</th>\n",
       "    </tr>\n",
       "  </thead>\n",
       "  <tbody>\n",
       "    <tr>\n",
       "      <th>0</th>\n",
       "      <td>-1.349864</td>\n",
       "      <td>-0.17149</td>\n",
       "      <td>-1.460672</td>\n",
       "      <td>-0.660178</td>\n",
       "      <td>-1.333661</td>\n",
       "      <td>-1.092737</td>\n",
       "      <td>0.993213</td>\n",
       "      <td>-1.567754</td>\n",
       "      <td>-1.003866</td>\n",
       "      <td>-1.603121</td>\n",
       "      <td>-1.64207</td>\n",
       "      <td>-1.668944</td>\n",
       "      <td>0.990793</td>\n",
       "    </tr>\n",
       "    <tr>\n",
       "      <th>1</th>\n",
       "      <td>-1.349864</td>\n",
       "      <td>-0.17149</td>\n",
       "      <td>-1.460672</td>\n",
       "      <td>-0.660178</td>\n",
       "      <td>-1.438907</td>\n",
       "      <td>-1.182421</td>\n",
       "      <td>0.941249</td>\n",
       "      <td>-1.567754</td>\n",
       "      <td>-1.003866</td>\n",
       "      <td>-1.603121</td>\n",
       "      <td>-1.64207</td>\n",
       "      <td>-1.524341</td>\n",
       "      <td>0.990793</td>\n",
       "    </tr>\n",
       "    <tr>\n",
       "      <th>2</th>\n",
       "      <td>-1.349864</td>\n",
       "      <td>-0.17149</td>\n",
       "      <td>-1.460672</td>\n",
       "      <td>-0.660178</td>\n",
       "      <td>-1.438907</td>\n",
       "      <td>-1.182421</td>\n",
       "      <td>0.941249</td>\n",
       "      <td>-1.567754</td>\n",
       "      <td>-1.003866</td>\n",
       "      <td>-1.603121</td>\n",
       "      <td>-1.64207</td>\n",
       "      <td>-1.379739</td>\n",
       "      <td>0.990793</td>\n",
       "    </tr>\n",
       "    <tr>\n",
       "      <th>3</th>\n",
       "      <td>-1.349864</td>\n",
       "      <td>-0.17149</td>\n",
       "      <td>-1.460672</td>\n",
       "      <td>-0.660178</td>\n",
       "      <td>-1.333661</td>\n",
       "      <td>-1.092737</td>\n",
       "      <td>0.681430</td>\n",
       "      <td>-1.567754</td>\n",
       "      <td>-1.003866</td>\n",
       "      <td>-1.603121</td>\n",
       "      <td>-1.64207</td>\n",
       "      <td>-1.235137</td>\n",
       "      <td>0.990793</td>\n",
       "    </tr>\n",
       "    <tr>\n",
       "      <th>4</th>\n",
       "      <td>-1.349864</td>\n",
       "      <td>-0.17149</td>\n",
       "      <td>-1.460672</td>\n",
       "      <td>-0.660178</td>\n",
       "      <td>-1.333661</td>\n",
       "      <td>-1.092737</td>\n",
       "      <td>0.681430</td>\n",
       "      <td>-1.567754</td>\n",
       "      <td>-1.003866</td>\n",
       "      <td>-1.603121</td>\n",
       "      <td>-1.64207</td>\n",
       "      <td>-1.090534</td>\n",
       "      <td>0.990793</td>\n",
       "    </tr>\n",
       "  </tbody>\n",
       "</table>\n",
       "</div>"
      ],
      "text/plain": [
       "     season  holiday  workingday   weather      temp     atemp  humidity  \\\n",
       "0 -1.349864 -0.17149   -1.460672 -0.660178 -1.333661 -1.092737  0.993213   \n",
       "1 -1.349864 -0.17149   -1.460672 -0.660178 -1.438907 -1.182421  0.941249   \n",
       "2 -1.349864 -0.17149   -1.460672 -0.660178 -1.438907 -1.182421  0.941249   \n",
       "3 -1.349864 -0.17149   -1.460672 -0.660178 -1.333661 -1.092737  0.681430   \n",
       "4 -1.349864 -0.17149   -1.460672 -0.660178 -1.333661 -1.092737  0.681430   \n",
       "\n",
       "   windspeed      year     month      day      hour      week  \n",
       "0  -1.567754 -1.003866 -1.603121 -1.64207 -1.668944  0.990793  \n",
       "1  -1.567754 -1.003866 -1.603121 -1.64207 -1.524341  0.990793  \n",
       "2  -1.567754 -1.003866 -1.603121 -1.64207 -1.379739  0.990793  \n",
       "3  -1.567754 -1.003866 -1.603121 -1.64207 -1.235137  0.990793  \n",
       "4  -1.567754 -1.003866 -1.603121 -1.64207 -1.090534  0.990793  "
      ]
     },
     "metadata": {},
     "execution_count": 49
    }
   ],
   "metadata": {}
  },
  {
   "cell_type": "code",
   "execution_count": 50,
   "source": [
    "# 'temp', 'atemp' : PCA 전 데이터 단위 일치시켜야 함\r\n",
    "pca = PCA(n_components=1)\r\n",
    "X_train_test['pca_temp'] = pca.fit_transform(X_train_test[['temp', 'atemp']])\r\n",
    "X_sub['pca_temp']        = pca.fit_transform(X_sub[['temp', 'atemp']])\r\n",
    "\r\n",
    "print(pca.explained_variance_ratio_)\r\n",
    "\r\n",
    "X_train_test = X_train_test.drop(['temp', 'atemp'], axis=1)\r\n",
    "X_sub        = X_sub.drop(['temp', 'atemp'], axis=1)"
   ],
   "outputs": [
    {
     "output_type": "stream",
     "name": "stdout",
     "text": [
      "[0.99596815]\n"
     ]
    }
   ],
   "metadata": {}
  },
  {
   "cell_type": "code",
   "execution_count": 51,
   "source": [
    "X_train_test.head()"
   ],
   "outputs": [
    {
     "output_type": "execute_result",
     "data": {
      "text/html": [
       "<div>\n",
       "<style scoped>\n",
       "    .dataframe tbody tr th:only-of-type {\n",
       "        vertical-align: middle;\n",
       "    }\n",
       "\n",
       "    .dataframe tbody tr th {\n",
       "        vertical-align: top;\n",
       "    }\n",
       "\n",
       "    .dataframe thead th {\n",
       "        text-align: right;\n",
       "    }\n",
       "</style>\n",
       "<table border=\"1\" class=\"dataframe\">\n",
       "  <thead>\n",
       "    <tr style=\"text-align: right;\">\n",
       "      <th></th>\n",
       "      <th>season</th>\n",
       "      <th>holiday</th>\n",
       "      <th>workingday</th>\n",
       "      <th>weather</th>\n",
       "      <th>humidity</th>\n",
       "      <th>windspeed</th>\n",
       "      <th>year</th>\n",
       "      <th>month</th>\n",
       "      <th>day</th>\n",
       "      <th>hour</th>\n",
       "      <th>week</th>\n",
       "      <th>pca_temp</th>\n",
       "    </tr>\n",
       "  </thead>\n",
       "  <tbody>\n",
       "    <tr>\n",
       "      <th>0</th>\n",
       "      <td>-1.349864</td>\n",
       "      <td>-0.17149</td>\n",
       "      <td>-1.460672</td>\n",
       "      <td>-0.660178</td>\n",
       "      <td>0.993213</td>\n",
       "      <td>-1.567754</td>\n",
       "      <td>-1.003866</td>\n",
       "      <td>-1.603121</td>\n",
       "      <td>-1.64207</td>\n",
       "      <td>-1.668944</td>\n",
       "      <td>0.990793</td>\n",
       "      <td>1.715722</td>\n",
       "    </tr>\n",
       "    <tr>\n",
       "      <th>1</th>\n",
       "      <td>-1.349864</td>\n",
       "      <td>-0.17149</td>\n",
       "      <td>-1.460672</td>\n",
       "      <td>-0.660178</td>\n",
       "      <td>0.941249</td>\n",
       "      <td>-1.567754</td>\n",
       "      <td>-1.003866</td>\n",
       "      <td>-1.603121</td>\n",
       "      <td>-1.64207</td>\n",
       "      <td>-1.524341</td>\n",
       "      <td>0.990793</td>\n",
       "      <td>1.853559</td>\n",
       "    </tr>\n",
       "    <tr>\n",
       "      <th>2</th>\n",
       "      <td>-1.349864</td>\n",
       "      <td>-0.17149</td>\n",
       "      <td>-1.460672</td>\n",
       "      <td>-0.660178</td>\n",
       "      <td>0.941249</td>\n",
       "      <td>-1.567754</td>\n",
       "      <td>-1.003866</td>\n",
       "      <td>-1.603121</td>\n",
       "      <td>-1.64207</td>\n",
       "      <td>-1.379739</td>\n",
       "      <td>0.990793</td>\n",
       "      <td>1.853559</td>\n",
       "    </tr>\n",
       "    <tr>\n",
       "      <th>3</th>\n",
       "      <td>-1.349864</td>\n",
       "      <td>-0.17149</td>\n",
       "      <td>-1.460672</td>\n",
       "      <td>-0.660178</td>\n",
       "      <td>0.681430</td>\n",
       "      <td>-1.567754</td>\n",
       "      <td>-1.003866</td>\n",
       "      <td>-1.603121</td>\n",
       "      <td>-1.64207</td>\n",
       "      <td>-1.235137</td>\n",
       "      <td>0.990793</td>\n",
       "      <td>1.715722</td>\n",
       "    </tr>\n",
       "    <tr>\n",
       "      <th>4</th>\n",
       "      <td>-1.349864</td>\n",
       "      <td>-0.17149</td>\n",
       "      <td>-1.460672</td>\n",
       "      <td>-0.660178</td>\n",
       "      <td>0.681430</td>\n",
       "      <td>-1.567754</td>\n",
       "      <td>-1.003866</td>\n",
       "      <td>-1.603121</td>\n",
       "      <td>-1.64207</td>\n",
       "      <td>-1.090534</td>\n",
       "      <td>0.990793</td>\n",
       "      <td>1.715722</td>\n",
       "    </tr>\n",
       "  </tbody>\n",
       "</table>\n",
       "</div>"
      ],
      "text/plain": [
       "     season  holiday  workingday   weather  humidity  windspeed      year  \\\n",
       "0 -1.349864 -0.17149   -1.460672 -0.660178  0.993213  -1.567754 -1.003866   \n",
       "1 -1.349864 -0.17149   -1.460672 -0.660178  0.941249  -1.567754 -1.003866   \n",
       "2 -1.349864 -0.17149   -1.460672 -0.660178  0.941249  -1.567754 -1.003866   \n",
       "3 -1.349864 -0.17149   -1.460672 -0.660178  0.681430  -1.567754 -1.003866   \n",
       "4 -1.349864 -0.17149   -1.460672 -0.660178  0.681430  -1.567754 -1.003866   \n",
       "\n",
       "      month      day      hour      week  pca_temp  \n",
       "0 -1.603121 -1.64207 -1.668944  0.990793  1.715722  \n",
       "1 -1.603121 -1.64207 -1.524341  0.990793  1.853559  \n",
       "2 -1.603121 -1.64207 -1.379739  0.990793  1.853559  \n",
       "3 -1.603121 -1.64207 -1.235137  0.990793  1.715722  \n",
       "4 -1.603121 -1.64207 -1.090534  0.990793  1.715722  "
      ]
     },
     "metadata": {},
     "execution_count": 51
    }
   ],
   "metadata": {}
  },
  {
   "cell_type": "code",
   "execution_count": 52,
   "source": [
    "X_train_test['season'].unique()"
   ],
   "outputs": [
    {
     "output_type": "execute_result",
     "data": {
      "text/plain": [
       "array([-1.34986372, -0.45390515,  0.44205341,  1.33801198])"
      ]
     },
     "metadata": {},
     "execution_count": 52
    }
   ],
   "metadata": {}
  },
  {
   "cell_type": "code",
   "execution_count": 53,
   "source": [
    "X_train_test['month'].unique()"
   ],
   "outputs": [
    {
     "output_type": "execute_result",
     "data": {
      "text/plain": [
       "array([-1.60312148, -1.31277958, -1.02243768, -0.73209579, -0.44175389,\n",
       "       -0.15141199,  0.1389299 ,  0.4292718 ,  0.7196137 ,  1.00995559,\n",
       "        1.30029749,  1.59063939])"
      ]
     },
     "metadata": {},
     "execution_count": 53
    }
   ],
   "metadata": {}
  },
  {
   "cell_type": "code",
   "execution_count": 54,
   "source": [
    "X_train_test[['season', 'month']].value_counts().sort_values()"
   ],
   "outputs": [
    {
     "output_type": "execute_result",
     "data": {
      "text/plain": [
       "season     month    \n",
       "-1.349864  -1.603121    884\n",
       "           -1.312780    901\n",
       "           -1.022438    901\n",
       "-0.453905  -0.732096    909\n",
       " 0.442053   0.719614    909\n",
       " 1.338012   1.009956    911\n",
       "            1.300297    911\n",
       "-0.453905  -0.441754    912\n",
       "           -0.151412    912\n",
       " 0.442053   0.138930    912\n",
       "            0.429272    912\n",
       " 1.338012   1.590639    912\n",
       "dtype: int64"
      ]
     },
     "metadata": {},
     "execution_count": 54
    }
   ],
   "metadata": {}
  },
  {
   "cell_type": "markdown",
   "source": [
    "## week & workingday"
   ],
   "metadata": {}
  },
  {
   "cell_type": "code",
   "execution_count": 55,
   "source": [
    "pd.crosstab(train['week'], train['workingday']).T"
   ],
   "outputs": [
    {
     "output_type": "execute_result",
     "data": {
      "text/html": [
       "<div>\n",
       "<style scoped>\n",
       "    .dataframe tbody tr th:only-of-type {\n",
       "        vertical-align: middle;\n",
       "    }\n",
       "\n",
       "    .dataframe tbody tr th {\n",
       "        vertical-align: top;\n",
       "    }\n",
       "\n",
       "    .dataframe thead th {\n",
       "        text-align: right;\n",
       "    }\n",
       "</style>\n",
       "<table border=\"1\" class=\"dataframe\">\n",
       "  <thead>\n",
       "    <tr style=\"text-align: right;\">\n",
       "      <th>week</th>\n",
       "      <th>0</th>\n",
       "      <th>1</th>\n",
       "      <th>2</th>\n",
       "      <th>3</th>\n",
       "      <th>4</th>\n",
       "      <th>5</th>\n",
       "      <th>6</th>\n",
       "    </tr>\n",
       "    <tr>\n",
       "      <th>workingday</th>\n",
       "      <th></th>\n",
       "      <th></th>\n",
       "      <th></th>\n",
       "      <th></th>\n",
       "      <th></th>\n",
       "      <th></th>\n",
       "      <th></th>\n",
       "    </tr>\n",
       "  </thead>\n",
       "  <tbody>\n",
       "    <tr>\n",
       "      <th>0</th>\n",
       "      <td>239</td>\n",
       "      <td>0</td>\n",
       "      <td>24</td>\n",
       "      <td>0</td>\n",
       "      <td>48</td>\n",
       "      <td>1584</td>\n",
       "      <td>1579</td>\n",
       "    </tr>\n",
       "    <tr>\n",
       "      <th>1</th>\n",
       "      <td>1312</td>\n",
       "      <td>1539</td>\n",
       "      <td>1527</td>\n",
       "      <td>1553</td>\n",
       "      <td>1481</td>\n",
       "      <td>0</td>\n",
       "      <td>0</td>\n",
       "    </tr>\n",
       "  </tbody>\n",
       "</table>\n",
       "</div>"
      ],
      "text/plain": [
       "week           0     1     2     3     4     5     6\n",
       "workingday                                          \n",
       "0            239     0    24     0    48  1584  1579\n",
       "1           1312  1539  1527  1553  1481     0     0"
      ]
     },
     "metadata": {},
     "execution_count": 55
    }
   ],
   "metadata": {}
  },
  {
   "cell_type": "code",
   "execution_count": 56,
   "source": [
    "# train['working1_w04'] = 1 0\r\n",
    "# train['working0_w56'] = 1 0\r\n",
    "\r\n",
    "train['w04'] = train['week'].apply(lambda x: 1 if (x == 5) or (x == 6) else 0)\r\n",
    "train['w04'].value_counts()"
   ],
   "outputs": [
    {
     "output_type": "execute_result",
     "data": {
      "text/plain": [
       "0    7723\n",
       "1    3163\n",
       "Name: w04, dtype: int64"
      ]
     },
     "metadata": {},
     "execution_count": 56
    }
   ],
   "metadata": {}
  },
  {
   "cell_type": "code",
   "execution_count": 57,
   "source": [
    "train.loc[(train['workingday'] == 1) & (train['w04'] == 0), 'working1_w04'] = 1\r\n",
    "train.loc[(train['workingday'] == 1) & (train['w04'] == 1), 'working1_w04'] = 0"
   ],
   "outputs": [],
   "metadata": {}
  },
  {
   "cell_type": "code",
   "execution_count": 58,
   "source": [
    "train['working1_w04'].value_counts()"
   ],
   "outputs": [
    {
     "output_type": "execute_result",
     "data": {
      "text/plain": [
       "1.0    7412\n",
       "Name: working1_w04, dtype: int64"
      ]
     },
     "metadata": {},
     "execution_count": 58
    }
   ],
   "metadata": {}
  },
  {
   "cell_type": "code",
   "execution_count": 59,
   "source": [
    "train.loc[(train['workingday'] == 0) & (train['w04'] == 0), 'working0_w56'] = 0\r\n",
    "train.loc[(train['workingday'] == 0) & (train['w04'] == 1), 'working0_w56'] = 1"
   ],
   "outputs": [],
   "metadata": {}
  },
  {
   "cell_type": "code",
   "execution_count": 60,
   "source": [
    "train['working0_w56'].value_counts()"
   ],
   "outputs": [
    {
     "output_type": "execute_result",
     "data": {
      "text/plain": [
       "1.0    3163\n",
       "0.0     311\n",
       "Name: working0_w56, dtype: int64"
      ]
     },
     "metadata": {},
     "execution_count": 60
    }
   ],
   "metadata": {}
  },
  {
   "cell_type": "markdown",
   "source": [
    "## lambda"
   ],
   "metadata": {}
  },
  {
   "cell_type": "code",
   "execution_count": 61,
   "source": [
    "train['working1_peak'] = train[['workingday','week']].apply(lambda x : (1,0) [x['workingday']==1   and  (x['week']!=5 or x['week']!=6) ], axis=1)\r\n",
    "train['working1_peak'].value_counts()"
   ],
   "outputs": [
    {
     "output_type": "execute_result",
     "data": {
      "text/plain": [
       "0    7412\n",
       "1    3474\n",
       "Name: working1_peak, dtype: int64"
      ]
     },
     "metadata": {},
     "execution_count": 61
    }
   ],
   "metadata": {}
  },
  {
   "cell_type": "code",
   "execution_count": 62,
   "source": [
    "train['working0_peak'] = train[['workingday','week']].apply(lambda x : (1,0) [x['workingday']==0   and  (x['week']==5 or x['week']==6) ], axis=1)\r\n",
    "train['working0_peak'].value_counts()"
   ],
   "outputs": [
    {
     "output_type": "execute_result",
     "data": {
      "text/plain": [
       "1    7723\n",
       "0    3163\n",
       "Name: working0_peak, dtype: int64"
      ]
     },
     "metadata": {},
     "execution_count": 62
    }
   ],
   "metadata": {}
  },
  {
   "cell_type": "code",
   "execution_count": 63,
   "source": [
    "train.head()"
   ],
   "outputs": [
    {
     "output_type": "execute_result",
     "data": {
      "text/html": [
       "<div>\n",
       "<style scoped>\n",
       "    .dataframe tbody tr th:only-of-type {\n",
       "        vertical-align: middle;\n",
       "    }\n",
       "\n",
       "    .dataframe tbody tr th {\n",
       "        vertical-align: top;\n",
       "    }\n",
       "\n",
       "    .dataframe thead th {\n",
       "        text-align: right;\n",
       "    }\n",
       "</style>\n",
       "<table border=\"1\" class=\"dataframe\">\n",
       "  <thead>\n",
       "    <tr style=\"text-align: right;\">\n",
       "      <th></th>\n",
       "      <th>datetime</th>\n",
       "      <th>season</th>\n",
       "      <th>holiday</th>\n",
       "      <th>workingday</th>\n",
       "      <th>weather</th>\n",
       "      <th>temp</th>\n",
       "      <th>atemp</th>\n",
       "      <th>humidity</th>\n",
       "      <th>windspeed</th>\n",
       "      <th>count</th>\n",
       "      <th>year</th>\n",
       "      <th>month</th>\n",
       "      <th>day</th>\n",
       "      <th>hour</th>\n",
       "      <th>week</th>\n",
       "      <th>w04</th>\n",
       "      <th>working1_w04</th>\n",
       "      <th>working0_w56</th>\n",
       "      <th>working1_peak</th>\n",
       "      <th>working0_peak</th>\n",
       "    </tr>\n",
       "  </thead>\n",
       "  <tbody>\n",
       "    <tr>\n",
       "      <th>0</th>\n",
       "      <td>2011-01-01 00:00:00</td>\n",
       "      <td>1</td>\n",
       "      <td>0</td>\n",
       "      <td>0</td>\n",
       "      <td>1</td>\n",
       "      <td>9.84</td>\n",
       "      <td>14.395</td>\n",
       "      <td>81</td>\n",
       "      <td>0.0</td>\n",
       "      <td>16</td>\n",
       "      <td>2.152562</td>\n",
       "      <td>1</td>\n",
       "      <td>1</td>\n",
       "      <td>0</td>\n",
       "      <td>5</td>\n",
       "      <td>1</td>\n",
       "      <td>NaN</td>\n",
       "      <td>1.0</td>\n",
       "      <td>1</td>\n",
       "      <td>0</td>\n",
       "    </tr>\n",
       "    <tr>\n",
       "      <th>1</th>\n",
       "      <td>2011-01-01 01:00:00</td>\n",
       "      <td>1</td>\n",
       "      <td>0</td>\n",
       "      <td>0</td>\n",
       "      <td>1</td>\n",
       "      <td>9.02</td>\n",
       "      <td>13.635</td>\n",
       "      <td>80</td>\n",
       "      <td>0.0</td>\n",
       "      <td>40</td>\n",
       "      <td>2.152562</td>\n",
       "      <td>1</td>\n",
       "      <td>1</td>\n",
       "      <td>1</td>\n",
       "      <td>5</td>\n",
       "      <td>1</td>\n",
       "      <td>NaN</td>\n",
       "      <td>1.0</td>\n",
       "      <td>1</td>\n",
       "      <td>0</td>\n",
       "    </tr>\n",
       "    <tr>\n",
       "      <th>2</th>\n",
       "      <td>2011-01-01 02:00:00</td>\n",
       "      <td>1</td>\n",
       "      <td>0</td>\n",
       "      <td>0</td>\n",
       "      <td>1</td>\n",
       "      <td>9.02</td>\n",
       "      <td>13.635</td>\n",
       "      <td>80</td>\n",
       "      <td>0.0</td>\n",
       "      <td>32</td>\n",
       "      <td>2.152562</td>\n",
       "      <td>1</td>\n",
       "      <td>1</td>\n",
       "      <td>2</td>\n",
       "      <td>5</td>\n",
       "      <td>1</td>\n",
       "      <td>NaN</td>\n",
       "      <td>1.0</td>\n",
       "      <td>1</td>\n",
       "      <td>0</td>\n",
       "    </tr>\n",
       "    <tr>\n",
       "      <th>3</th>\n",
       "      <td>2011-01-01 03:00:00</td>\n",
       "      <td>1</td>\n",
       "      <td>0</td>\n",
       "      <td>0</td>\n",
       "      <td>1</td>\n",
       "      <td>9.84</td>\n",
       "      <td>14.395</td>\n",
       "      <td>75</td>\n",
       "      <td>0.0</td>\n",
       "      <td>13</td>\n",
       "      <td>2.152562</td>\n",
       "      <td>1</td>\n",
       "      <td>1</td>\n",
       "      <td>3</td>\n",
       "      <td>5</td>\n",
       "      <td>1</td>\n",
       "      <td>NaN</td>\n",
       "      <td>1.0</td>\n",
       "      <td>1</td>\n",
       "      <td>0</td>\n",
       "    </tr>\n",
       "    <tr>\n",
       "      <th>4</th>\n",
       "      <td>2011-01-01 04:00:00</td>\n",
       "      <td>1</td>\n",
       "      <td>0</td>\n",
       "      <td>0</td>\n",
       "      <td>1</td>\n",
       "      <td>9.84</td>\n",
       "      <td>14.395</td>\n",
       "      <td>75</td>\n",
       "      <td>0.0</td>\n",
       "      <td>1</td>\n",
       "      <td>2.152562</td>\n",
       "      <td>1</td>\n",
       "      <td>1</td>\n",
       "      <td>4</td>\n",
       "      <td>5</td>\n",
       "      <td>1</td>\n",
       "      <td>NaN</td>\n",
       "      <td>1.0</td>\n",
       "      <td>1</td>\n",
       "      <td>0</td>\n",
       "    </tr>\n",
       "  </tbody>\n",
       "</table>\n",
       "</div>"
      ],
      "text/plain": [
       "             datetime  season  holiday  workingday  weather  temp   atemp  \\\n",
       "0 2011-01-01 00:00:00       1        0           0        1  9.84  14.395   \n",
       "1 2011-01-01 01:00:00       1        0           0        1  9.02  13.635   \n",
       "2 2011-01-01 02:00:00       1        0           0        1  9.02  13.635   \n",
       "3 2011-01-01 03:00:00       1        0           0        1  9.84  14.395   \n",
       "4 2011-01-01 04:00:00       1        0           0        1  9.84  14.395   \n",
       "\n",
       "   humidity  windspeed  count      year  month  day  hour  week  w04  \\\n",
       "0        81        0.0     16  2.152562      1    1     0     5    1   \n",
       "1        80        0.0     40  2.152562      1    1     1     5    1   \n",
       "2        80        0.0     32  2.152562      1    1     2     5    1   \n",
       "3        75        0.0     13  2.152562      1    1     3     5    1   \n",
       "4        75        0.0      1  2.152562      1    1     4     5    1   \n",
       "\n",
       "   working1_w04  working0_w56  working1_peak  working0_peak  \n",
       "0           NaN           1.0              1              0  \n",
       "1           NaN           1.0              1              0  \n",
       "2           NaN           1.0              1              0  \n",
       "3           NaN           1.0              1              0  \n",
       "4           NaN           1.0              1              0  "
      ]
     },
     "metadata": {},
     "execution_count": 63
    }
   ],
   "metadata": {}
  },
  {
   "cell_type": "markdown",
   "source": [
    "## hour"
   ],
   "metadata": {}
  },
  {
   "cell_type": "code",
   "execution_count": 64,
   "source": [
    "sns.barplot(x='hour', y='count', data=train)"
   ],
   "outputs": [
    {
     "output_type": "execute_result",
     "data": {
      "text/plain": [
       "<AxesSubplot:xlabel='hour', ylabel='count'>"
      ]
     },
     "metadata": {},
     "execution_count": 64
    },
    {
     "output_type": "display_data",
     "data": {
      "image/png": "[encoded data removed]",
      "text/plain": [
       "<Figure size 432x288 with 1 Axes>"
      ]
     },
     "metadata": {}
    }
   ],
   "metadata": {}
  },
  {
   "cell_type": "code",
   "execution_count": 65,
   "source": [
    "# 평일 : 8, 17, 18\r\n",
    "sns.barplot(x='hour', y='count', data=train[train['workingday'] == 1])"
   ],
   "outputs": [
    {
     "output_type": "execute_result",
     "data": {
      "text/plain": [
       "<AxesSubplot:xlabel='hour', ylabel='count'>"
      ]
     },
     "metadata": {},
     "execution_count": 65
    },
    {
     "output_type": "display_data",
     "data": {
      "image/png": "[encoded data removed]",
      "text/plain": [
       "<Figure size 432x288 with 1 Axes>"
      ]
     },
     "metadata": {}
    }
   ],
   "metadata": {}
  },
  {
   "cell_type": "code",
   "execution_count": 66,
   "source": [
    "# 주말 : 12, 13, 14, 15, 16\r\n",
    "sns.barplot(x='hour', y='count', data=train[train['workingday'] == 0])"
   ],
   "outputs": [
    {
     "output_type": "execute_result",
     "data": {
      "text/plain": [
       "<AxesSubplot:xlabel='hour', ylabel='count'>"
      ]
     },
     "metadata": {},
     "execution_count": 66
    },
    {
     "output_type": "display_data",
     "data": {
      "image/png": "[encoded data removed]",
      "text/plain": [
       "<Figure size 432x288 with 1 Axes>"
      ]
     },
     "metadata": {}
    }
   ],
   "metadata": {}
  },
  {
   "cell_type": "code",
   "execution_count": 67,
   "source": [
    "# 8 or 17~18\r\n",
    "train['hour_peak'] = train[['workingday','hour']].apply(lambda x : (1,0) [x['workingday']==1 and (x['hour']==8 or (17 <= x['hour'] <=18)) ], axis=1)\r\n",
    "train['hour_peak'].value_counts()"
   ],
   "outputs": [
    {
     "output_type": "execute_result",
     "data": {
      "text/plain": [
       "1    9954\n",
       "0     932\n",
       "Name: hour_peak, dtype: int64"
      ]
     },
     "metadata": {},
     "execution_count": 67
    }
   ],
   "metadata": {}
  },
  {
   "cell_type": "code",
   "execution_count": 68,
   "source": [
    "# 12, 13, 14, 15, 16\r\n",
    "train['hour_peak'] = train[['workingday','hour']].apply(lambda x : (1,0) [x['workingday']==0 and (10 <= x['hour']  <= 19)], axis=1)\r\n",
    "train['hour_peak'].value_counts()"
   ],
   "outputs": [
    {
     "output_type": "execute_result",
     "data": {
      "text/plain": [
       "1    9436\n",
       "0    1450\n",
       "Name: hour_peak, dtype: int64"
      ]
     },
     "metadata": {},
     "execution_count": 68
    }
   ],
   "metadata": {}
  },
  {
   "cell_type": "markdown",
   "source": [
    "## temp vs. count"
   ],
   "metadata": {}
  },
  {
   "cell_type": "code",
   "execution_count": 69,
   "source": [
    "train['temp'].describe()"
   ],
   "outputs": [
    {
     "output_type": "execute_result",
     "data": {
      "text/plain": [
       "count    10886.00000\n",
       "mean        20.23086\n",
       "std          7.79159\n",
       "min          0.82000\n",
       "25%         13.94000\n",
       "50%         20.50000\n",
       "75%         26.24000\n",
       "max         41.00000\n",
       "Name: temp, dtype: float64"
      ]
     },
     "metadata": {},
     "execution_count": 69
    }
   ],
   "metadata": {}
  },
  {
   "cell_type": "code",
   "execution_count": 70,
   "source": [
    "train['temp'].hist(bins=50)"
   ],
   "outputs": [
    {
     "output_type": "execute_result",
     "data": {
      "text/plain": [
       "<AxesSubplot:>"
      ]
     },
     "metadata": {},
     "execution_count": 70
    },
    {
     "output_type": "display_data",
     "data": {
      "image/png": "[encoded data removed]",
      "text/plain": [
       "<Figure size 432x288 with 1 Axes>"
      ]
     },
     "metadata": {}
    }
   ],
   "metadata": {}
  },
  {
   "cell_type": "code",
   "execution_count": 71,
   "source": [
    "sns.distplot(train['temp']) # 10~30"
   ],
   "outputs": [
    {
     "output_type": "execute_result",
     "data": {
      "text/plain": [
       "<AxesSubplot:xlabel='temp', ylabel='Density'>"
      ]
     },
     "metadata": {},
     "execution_count": 71
    },
    {
     "output_type": "display_data",
     "data": {
      "image/png": "[encoded data removed]",
      "text/plain": [
       "<Figure size 432x288 with 1 Axes>"
      ]
     },
     "metadata": {}
    }
   ],
   "metadata": {}
  },
  {
   "cell_type": "code",
   "execution_count": 72,
   "source": [
    "sns.distplot(train['humidity']) # 30~90"
   ],
   "outputs": [
    {
     "output_type": "execute_result",
     "data": {
      "text/plain": [
       "<AxesSubplot:xlabel='humidity', ylabel='Density'>"
      ]
     },
     "metadata": {},
     "execution_count": 72
    },
    {
     "output_type": "display_data",
     "data": {
      "image/png": "[encoded data removed]",
      "text/plain": [
       "<Figure size 432x288 with 1 Axes>"
      ]
     },
     "metadata": {}
    }
   ],
   "metadata": {}
  },
  {
   "cell_type": "code",
   "execution_count": 73,
   "source": [
    "sns.distplot(train['weather']) # 1, 2"
   ],
   "outputs": [
    {
     "output_type": "execute_result",
     "data": {
      "text/plain": [
       "<AxesSubplot:xlabel='weather', ylabel='Density'>"
      ]
     },
     "metadata": {},
     "execution_count": 73
    },
    {
     "output_type": "display_data",
     "data": {
      "image/png": "[encoded data removed]",
      "text/plain": [
       "<Figure size 432x288 with 1 Axes>"
      ]
     },
     "metadata": {}
    }
   ],
   "metadata": {}
  },
  {
   "cell_type": "code",
   "execution_count": 74,
   "source": [
    "sns.distplot(train['windspeed'])"
   ],
   "outputs": [
    {
     "output_type": "execute_result",
     "data": {
      "text/plain": [
       "<AxesSubplot:xlabel='windspeed', ylabel='Density'>"
      ]
     },
     "metadata": {},
     "execution_count": 74
    },
    {
     "output_type": "display_data",
     "data": {
      "image/png": "[encoded data removed]",
      "text/plain": [
       "<Figure size 432x288 with 1 Axes>"
      ]
     },
     "metadata": {}
    }
   ],
   "metadata": {}
  },
  {
   "cell_type": "code",
   "execution_count": 75,
   "source": [
    "# cond : temp 10~30, humidity 30~90, weather 1~2\r\n",
    "train['weather_peak'] = train[['temp','humidity', 'weather', 'windspeed']].apply(\r\n",
    "    lambda x : (1,0) [\r\n",
    "        10 <= x['temp']      <= 30 and\r\n",
    "        30 <= x['humidity']  <= 90 and\r\n",
    "        1  <= x['weather']   <= 2  and\r\n",
    "        0  <= x['windspeed'] <= 24\r\n",
    "        ], axis=1)\r\n",
    "train['weather_peak'].value_counts()"
   ],
   "outputs": [
    {
     "output_type": "execute_result",
     "data": {
      "text/plain": [
       "0    6506\n",
       "1    4380\n",
       "Name: weather_peak, dtype: int64"
      ]
     },
     "metadata": {},
     "execution_count": 75
    }
   ],
   "metadata": {}
  },
  {
   "cell_type": "code",
   "execution_count": 76,
   "source": [
    "sns.distplot(train['weather_peak'])"
   ],
   "outputs": [
    {
     "output_type": "execute_result",
     "data": {
      "text/plain": [
       "<AxesSubplot:xlabel='weather_peak', ylabel='Density'>"
      ]
     },
     "metadata": {},
     "execution_count": 76
    },
    {
     "output_type": "display_data",
     "data": {
      "image/png": "[encoded data removed]",
      "text/plain": [
       "<Figure size 432x288 with 1 Axes>"
      ]
     },
     "metadata": {}
    }
   ],
   "metadata": {}
  },
  {
   "cell_type": "markdown",
   "source": [
    "## datetime"
   ],
   "metadata": {}
  },
  {
   "cell_type": "code",
   "execution_count": 77,
   "source": [
    "# 2011.06.19 holiday check\r\n",
    "train[train['holiday'] == 1][['workingday', 'year', 'month', 'day']]"
   ],
   "outputs": [
    {
     "output_type": "execute_result",
     "data": {
      "text/html": [
       "<div>\n",
       "<style scoped>\n",
       "    .dataframe tbody tr th:only-of-type {\n",
       "        vertical-align: middle;\n",
       "    }\n",
       "\n",
       "    .dataframe tbody tr th {\n",
       "        vertical-align: top;\n",
       "    }\n",
       "\n",
       "    .dataframe thead th {\n",
       "        text-align: right;\n",
       "    }\n",
       "</style>\n",
       "<table border=\"1\" class=\"dataframe\">\n",
       "  <thead>\n",
       "    <tr style=\"text-align: right;\">\n",
       "      <th></th>\n",
       "      <th>workingday</th>\n",
       "      <th>year</th>\n",
       "      <th>month</th>\n",
       "      <th>day</th>\n",
       "    </tr>\n",
       "  </thead>\n",
       "  <tbody>\n",
       "    <tr>\n",
       "      <th>372</th>\n",
       "      <td>0</td>\n",
       "      <td>2.152562</td>\n",
       "      <td>1</td>\n",
       "      <td>17</td>\n",
       "    </tr>\n",
       "    <tr>\n",
       "      <th>373</th>\n",
       "      <td>0</td>\n",
       "      <td>2.152562</td>\n",
       "      <td>1</td>\n",
       "      <td>17</td>\n",
       "    </tr>\n",
       "    <tr>\n",
       "      <th>374</th>\n",
       "      <td>0</td>\n",
       "      <td>2.152562</td>\n",
       "      <td>1</td>\n",
       "      <td>17</td>\n",
       "    </tr>\n",
       "    <tr>\n",
       "      <th>375</th>\n",
       "      <td>0</td>\n",
       "      <td>2.152562</td>\n",
       "      <td>1</td>\n",
       "      <td>17</td>\n",
       "    </tr>\n",
       "    <tr>\n",
       "      <th>376</th>\n",
       "      <td>0</td>\n",
       "      <td>2.152562</td>\n",
       "      <td>1</td>\n",
       "      <td>17</td>\n",
       "    </tr>\n",
       "    <tr>\n",
       "      <th>...</th>\n",
       "      <td>...</td>\n",
       "      <td>...</td>\n",
       "      <td>...</td>\n",
       "      <td>...</td>\n",
       "    </tr>\n",
       "    <tr>\n",
       "      <th>10257</th>\n",
       "      <td>0</td>\n",
       "      <td>2.152620</td>\n",
       "      <td>11</td>\n",
       "      <td>12</td>\n",
       "    </tr>\n",
       "    <tr>\n",
       "      <th>10258</th>\n",
       "      <td>0</td>\n",
       "      <td>2.152620</td>\n",
       "      <td>11</td>\n",
       "      <td>12</td>\n",
       "    </tr>\n",
       "    <tr>\n",
       "      <th>10259</th>\n",
       "      <td>0</td>\n",
       "      <td>2.152620</td>\n",
       "      <td>11</td>\n",
       "      <td>12</td>\n",
       "    </tr>\n",
       "    <tr>\n",
       "      <th>10260</th>\n",
       "      <td>0</td>\n",
       "      <td>2.152620</td>\n",
       "      <td>11</td>\n",
       "      <td>12</td>\n",
       "    </tr>\n",
       "    <tr>\n",
       "      <th>10261</th>\n",
       "      <td>0</td>\n",
       "      <td>2.152620</td>\n",
       "      <td>11</td>\n",
       "      <td>12</td>\n",
       "    </tr>\n",
       "  </tbody>\n",
       "</table>\n",
       "<p>311 rows × 4 columns</p>\n",
       "</div>"
      ],
      "text/plain": [
       "       workingday      year  month  day\n",
       "372             0  2.152562      1   17\n",
       "373             0  2.152562      1   17\n",
       "374             0  2.152562      1   17\n",
       "375             0  2.152562      1   17\n",
       "376             0  2.152562      1   17\n",
       "...           ...       ...    ...  ...\n",
       "10257           0  2.152620     11   12\n",
       "10258           0  2.152620     11   12\n",
       "10259           0  2.152620     11   12\n",
       "10260           0  2.152620     11   12\n",
       "10261           0  2.152620     11   12\n",
       "\n",
       "[311 rows x 4 columns]"
      ]
     },
     "metadata": {},
     "execution_count": 77
    }
   ],
   "metadata": {}
  },
  {
   "cell_type": "code",
   "execution_count": 80,
   "source": [
    "train[(train['month'] == 12) & (train['day'] == 25)]"
   ],
   "outputs": [
    {
     "output_type": "execute_result",
     "data": {
      "text/html": [
       "<div>\n",
       "<style scoped>\n",
       "    .dataframe tbody tr th:only-of-type {\n",
       "        vertical-align: middle;\n",
       "    }\n",
       "\n",
       "    .dataframe tbody tr th {\n",
       "        vertical-align: top;\n",
       "    }\n",
       "\n",
       "    .dataframe thead th {\n",
       "        text-align: right;\n",
       "    }\n",
       "</style>\n",
       "<table border=\"1\" class=\"dataframe\">\n",
       "  <thead>\n",
       "    <tr style=\"text-align: right;\">\n",
       "      <th></th>\n",
       "      <th>datetime</th>\n",
       "      <th>season</th>\n",
       "      <th>holiday</th>\n",
       "      <th>workingday</th>\n",
       "      <th>weather</th>\n",
       "      <th>temp</th>\n",
       "      <th>atemp</th>\n",
       "      <th>humidity</th>\n",
       "      <th>windspeed</th>\n",
       "      <th>count</th>\n",
       "      <th>...</th>\n",
       "      <th>day</th>\n",
       "      <th>hour</th>\n",
       "      <th>week</th>\n",
       "      <th>w04</th>\n",
       "      <th>working1_w04</th>\n",
       "      <th>working0_w56</th>\n",
       "      <th>working1_peak</th>\n",
       "      <th>working0_peak</th>\n",
       "      <th>hour_peak</th>\n",
       "      <th>weather_peak</th>\n",
       "    </tr>\n",
       "  </thead>\n",
       "  <tbody>\n",
       "  </tbody>\n",
       "</table>\n",
       "<p>0 rows × 22 columns</p>\n",
       "</div>"
      ],
      "text/plain": [
       "Empty DataFrame\n",
       "Columns: [datetime, season, holiday, workingday, weather, temp, atemp, humidity, windspeed, count, year, month, day, hour, week, w04, working1_w04, working0_w56, working1_peak, working0_peak, hour_peak, weather_peak]\n",
       "Index: []\n",
       "\n",
       "[0 rows x 22 columns]"
      ]
     },
     "metadata": {},
     "execution_count": 80
    }
   ],
   "metadata": {}
  },
  {
   "cell_type": "code",
   "execution_count": 85,
   "source": [
    "train[(train['month'] == 1) & (train['day'] == 1)].head()"
   ],
   "outputs": [
    {
     "output_type": "execute_result",
     "data": {
      "text/html": [
       "<div>\n",
       "<style scoped>\n",
       "    .dataframe tbody tr th:only-of-type {\n",
       "        vertical-align: middle;\n",
       "    }\n",
       "\n",
       "    .dataframe tbody tr th {\n",
       "        vertical-align: top;\n",
       "    }\n",
       "\n",
       "    .dataframe thead th {\n",
       "        text-align: right;\n",
       "    }\n",
       "</style>\n",
       "<table border=\"1\" class=\"dataframe\">\n",
       "  <thead>\n",
       "    <tr style=\"text-align: right;\">\n",
       "      <th></th>\n",
       "      <th>datetime</th>\n",
       "      <th>season</th>\n",
       "      <th>holiday</th>\n",
       "      <th>workingday</th>\n",
       "      <th>weather</th>\n",
       "      <th>temp</th>\n",
       "      <th>atemp</th>\n",
       "      <th>humidity</th>\n",
       "      <th>windspeed</th>\n",
       "      <th>count</th>\n",
       "      <th>...</th>\n",
       "      <th>day</th>\n",
       "      <th>hour</th>\n",
       "      <th>week</th>\n",
       "      <th>w04</th>\n",
       "      <th>working1_w04</th>\n",
       "      <th>working0_w56</th>\n",
       "      <th>working1_peak</th>\n",
       "      <th>working0_peak</th>\n",
       "      <th>hour_peak</th>\n",
       "      <th>weather_peak</th>\n",
       "    </tr>\n",
       "  </thead>\n",
       "  <tbody>\n",
       "    <tr>\n",
       "      <th>0</th>\n",
       "      <td>2011-01-01 00:00:00</td>\n",
       "      <td>1</td>\n",
       "      <td>0</td>\n",
       "      <td>0</td>\n",
       "      <td>1</td>\n",
       "      <td>9.84</td>\n",
       "      <td>14.395</td>\n",
       "      <td>81</td>\n",
       "      <td>0.0</td>\n",
       "      <td>16</td>\n",
       "      <td>...</td>\n",
       "      <td>1</td>\n",
       "      <td>0</td>\n",
       "      <td>5</td>\n",
       "      <td>1</td>\n",
       "      <td>NaN</td>\n",
       "      <td>1.0</td>\n",
       "      <td>1</td>\n",
       "      <td>0</td>\n",
       "      <td>1</td>\n",
       "      <td>1</td>\n",
       "    </tr>\n",
       "    <tr>\n",
       "      <th>1</th>\n",
       "      <td>2011-01-01 01:00:00</td>\n",
       "      <td>1</td>\n",
       "      <td>0</td>\n",
       "      <td>0</td>\n",
       "      <td>1</td>\n",
       "      <td>9.02</td>\n",
       "      <td>13.635</td>\n",
       "      <td>80</td>\n",
       "      <td>0.0</td>\n",
       "      <td>40</td>\n",
       "      <td>...</td>\n",
       "      <td>1</td>\n",
       "      <td>1</td>\n",
       "      <td>5</td>\n",
       "      <td>1</td>\n",
       "      <td>NaN</td>\n",
       "      <td>1.0</td>\n",
       "      <td>1</td>\n",
       "      <td>0</td>\n",
       "      <td>1</td>\n",
       "      <td>1</td>\n",
       "    </tr>\n",
       "    <tr>\n",
       "      <th>2</th>\n",
       "      <td>2011-01-01 02:00:00</td>\n",
       "      <td>1</td>\n",
       "      <td>0</td>\n",
       "      <td>0</td>\n",
       "      <td>1</td>\n",
       "      <td>9.02</td>\n",
       "      <td>13.635</td>\n",
       "      <td>80</td>\n",
       "      <td>0.0</td>\n",
       "      <td>32</td>\n",
       "      <td>...</td>\n",
       "      <td>1</td>\n",
       "      <td>2</td>\n",
       "      <td>5</td>\n",
       "      <td>1</td>\n",
       "      <td>NaN</td>\n",
       "      <td>1.0</td>\n",
       "      <td>1</td>\n",
       "      <td>0</td>\n",
       "      <td>1</td>\n",
       "      <td>1</td>\n",
       "    </tr>\n",
       "    <tr>\n",
       "      <th>3</th>\n",
       "      <td>2011-01-01 03:00:00</td>\n",
       "      <td>1</td>\n",
       "      <td>0</td>\n",
       "      <td>0</td>\n",
       "      <td>1</td>\n",
       "      <td>9.84</td>\n",
       "      <td>14.395</td>\n",
       "      <td>75</td>\n",
       "      <td>0.0</td>\n",
       "      <td>13</td>\n",
       "      <td>...</td>\n",
       "      <td>1</td>\n",
       "      <td>3</td>\n",
       "      <td>5</td>\n",
       "      <td>1</td>\n",
       "      <td>NaN</td>\n",
       "      <td>1.0</td>\n",
       "      <td>1</td>\n",
       "      <td>0</td>\n",
       "      <td>1</td>\n",
       "      <td>1</td>\n",
       "    </tr>\n",
       "    <tr>\n",
       "      <th>4</th>\n",
       "      <td>2011-01-01 04:00:00</td>\n",
       "      <td>1</td>\n",
       "      <td>0</td>\n",
       "      <td>0</td>\n",
       "      <td>1</td>\n",
       "      <td>9.84</td>\n",
       "      <td>14.395</td>\n",
       "      <td>75</td>\n",
       "      <td>0.0</td>\n",
       "      <td>1</td>\n",
       "      <td>...</td>\n",
       "      <td>1</td>\n",
       "      <td>4</td>\n",
       "      <td>5</td>\n",
       "      <td>1</td>\n",
       "      <td>NaN</td>\n",
       "      <td>1.0</td>\n",
       "      <td>1</td>\n",
       "      <td>0</td>\n",
       "      <td>1</td>\n",
       "      <td>1</td>\n",
       "    </tr>\n",
       "  </tbody>\n",
       "</table>\n",
       "<p>5 rows × 22 columns</p>\n",
       "</div>"
      ],
      "text/plain": [
       "             datetime  season  holiday  workingday  weather  temp   atemp  \\\n",
       "0 2011-01-01 00:00:00       1        0           0        1  9.84  14.395   \n",
       "1 2011-01-01 01:00:00       1        0           0        1  9.02  13.635   \n",
       "2 2011-01-01 02:00:00       1        0           0        1  9.02  13.635   \n",
       "3 2011-01-01 03:00:00       1        0           0        1  9.84  14.395   \n",
       "4 2011-01-01 04:00:00       1        0           0        1  9.84  14.395   \n",
       "\n",
       "   humidity  windspeed  count  ...  day  hour  week  w04  working1_w04  \\\n",
       "0        81        0.0     16  ...    1     0     5    1           NaN   \n",
       "1        80        0.0     40  ...    1     1     5    1           NaN   \n",
       "2        80        0.0     32  ...    1     2     5    1           NaN   \n",
       "3        75        0.0     13  ...    1     3     5    1           NaN   \n",
       "4        75        0.0      1  ...    1     4     5    1           NaN   \n",
       "\n",
       "   working0_w56  working1_peak  working0_peak  hour_peak  weather_peak  \n",
       "0           1.0              1              0          1             1  \n",
       "1           1.0              1              0          1             1  \n",
       "2           1.0              1              0          1             1  \n",
       "3           1.0              1              0          1             1  \n",
       "4           1.0              1              0          1             1  \n",
       "\n",
       "[5 rows x 22 columns]"
      ]
     },
     "metadata": {},
     "execution_count": 85
    }
   ],
   "metadata": {}
  },
  {
   "cell_type": "code",
   "execution_count": 88,
   "source": [
    "df00 = pd.concat([train, X_sub])\r\n",
    "df00.shape"
   ],
   "outputs": [
    {
     "output_type": "execute_result",
     "data": {
      "text/plain": [
       "(17379, 23)"
      ]
     },
     "metadata": {},
     "execution_count": 88
    }
   ],
   "metadata": {}
  },
  {
   "cell_type": "code",
   "execution_count": 89,
   "source": [
    "df00.info()"
   ],
   "outputs": [
    {
     "output_type": "stream",
     "name": "stdout",
     "text": [
      "<class 'pandas.core.frame.DataFrame'>\n",
      "Int64Index: 17379 entries, 0 to 6492\n",
      "Data columns (total 23 columns):\n",
      " #   Column         Non-Null Count  Dtype         \n",
      "---  ------         --------------  -----         \n",
      " 0   datetime       10886 non-null  datetime64[ns]\n",
      " 1   season         17379 non-null  float64       \n",
      " 2   holiday        17379 non-null  float64       \n",
      " 3   workingday     17379 non-null  float64       \n",
      " 4   weather        17379 non-null  float64       \n",
      " 5   temp           10886 non-null  float64       \n",
      " 6   atemp          10886 non-null  float64       \n",
      " 7   humidity       17379 non-null  float64       \n",
      " 8   windspeed      17379 non-null  float64       \n",
      " 9   count          10886 non-null  float64       \n",
      " 10  year           17379 non-null  float64       \n",
      " 11  month          17379 non-null  float64       \n",
      " 12  day            17379 non-null  float64       \n",
      " 13  hour           17379 non-null  float64       \n",
      " 14  week           17379 non-null  float64       \n",
      " 15  w04            10886 non-null  float64       \n",
      " 16  working1_w04   7412 non-null   float64       \n",
      " 17  working0_w56   3474 non-null   float64       \n",
      " 18  working1_peak  10886 non-null  float64       \n",
      " 19  working0_peak  10886 non-null  float64       \n",
      " 20  hour_peak      10886 non-null  float64       \n",
      " 21  weather_peak   10886 non-null  float64       \n",
      " 22  pca_temp       6493 non-null   float64       \n",
      "dtypes: datetime64[ns](1), float64(22)\n",
      "memory usage: 3.2 MB\n"
     ]
    }
   ],
   "metadata": {}
  },
  {
   "cell_type": "code",
   "execution_count": 90,
   "source": [
    "# regression cross_validate : INPUT DF VERSION & TARGET\r\n",
    "# ==================================================\r\n",
    "df_met     = df00\r\n",
    "target_met = 'count'\r\n",
    "# ==================================================\r\n",
    "\r\n",
    "# X, y split\r\n",
    "train_met = df_met[df_met[target_met].notna()]\r\n",
    "X_train_test_met = train_met.drop(target_met, axis=1)\r\n",
    "y_train_test_met = train_met[target_met]\r\n",
    "\r\n",
    "# estimators=\r\n",
    "regressor_models = [\r\n",
    "                    LinearRegression      (),\r\n",
    "                    DecisionTreeRegressor (random_state=0),\r\n",
    "                    Ridge                 (random_state=0),\r\n",
    "                    Lasso                 (random_state=0),\r\n",
    "                    ElasticNet            (random_state=0),\r\n",
    "                    RandomForestRegressor (random_state=0),\r\n",
    "                    XGBRegressor          (random_state=0),\r\n",
    "                    LGBMRegressor         (random_state=0),\r\n",
    "                    CatBoostRegressor     (random_state=0, verbose=0),\r\n",
    "                    ]\r\n",
    "\r\n",
    "# scorings=\r\n",
    "regressor_scorers = {'MSE':'neg_mean_squared_error',\r\n",
    "                     'RMSE':'neg_root_mean_squared_error',\r\n",
    "                    #  'MSLE':'neg_mean_squared_log_error',\r\n",
    "                    #  'MAE':'neg_mean_absolute_error',\r\n",
    "                     }\r\n",
    "\r\n",
    "# cv=\r\n",
    "kf  = KFold          (n_splits=5, shuffle=True, random_state=0)\r\n",
    "skf = StratifiedKFold(n_splits=5, shuffle=True, random_state=0)\r\n",
    "\r\n",
    "# cross_validate loop\r\n",
    "for model in regressor_models:\r\n",
    "    \r\n",
    "    cv_results = cross_validate(model, X_train_test_met, y_train_test_met,\r\n",
    "                                scoring=regressor_scorers,\r\n",
    "                                cv=kf,\r\n",
    "                                return_train_score=True, return_estimator=True)\r\n",
    "    \r\n",
    "    print('-' * 40)\r\n",
    "    print('model  =', model.__class__.__name__)\r\n",
    "    # print('params =', model.get_params(deep=True))\r\n",
    "    \r\n",
    "    # regression metrics\r\n",
    "    print('MSE    = {}  '.format(- cv_results['test_MSE'].mean()), '\\n'\r\n",
    "          'RMSE   = {}  '.format(- cv_results['test_RMSE'].mean()),\r\n",
    "        #   'MSLE   = {}  '.format(- cv_results['test_MSLE'].mean()),\r\n",
    "        #   'MAE    = {}  '.format(- cv_results['test_MAE'].mean()),\r\n",
    "          )"
   ],
   "outputs": [
    {
     "output_type": "stream",
     "name": "stdout",
     "text": [
      "----------------------------------------\n",
      "model  = LinearRegression\n",
      "MSE    = nan   \n",
      "RMSE   =  nan  \n",
      "----------------------------------------\n",
      "model  = DecisionTreeRegressor\n",
      "MSE    = nan   \n",
      "RMSE   =  nan  \n",
      "----------------------------------------\n",
      "model  = Ridge\n",
      "MSE    = nan   \n",
      "RMSE   =  nan  \n",
      "----------------------------------------\n",
      "model  = Lasso\n",
      "MSE    = nan   \n",
      "RMSE   =  nan  \n",
      "----------------------------------------\n",
      "model  = ElasticNet\n",
      "MSE    = nan   \n",
      "RMSE   =  nan  \n",
      "----------------------------------------\n",
      "model  = RandomForestRegressor\n",
      "MSE    = nan   \n",
      "RMSE   =  nan  \n",
      "----------------------------------------\n",
      "model  = XGBRegressor\n",
      "MSE    = nan   \n",
      "RMSE   =  nan  \n",
      "----------------------------------------\n",
      "model  = LGBMRegressor\n",
      "MSE    = nan   \n",
      "RMSE   =  nan  \n",
      "----------------------------------------\n",
      "model  = CatBoostRegressor\n",
      "MSE    = 1273.439006205232   \n",
      "RMSE   =  35.641278750216124  \n"
     ]
    }
   ],
   "metadata": {}
  },
  {
   "cell_type": "code",
   "execution_count": null,
   "source": [],
   "outputs": [],
   "metadata": {}
  },
  {
   "cell_type": "code",
   "execution_count": null,
   "source": [],
   "outputs": [],
   "metadata": {}
  },
  {
   "cell_type": "code",
   "execution_count": null,
   "source": [],
   "outputs": [],
   "metadata": {}
  },
  {
   "cell_type": "code",
   "execution_count": null,
   "source": [],
   "outputs": [],
   "metadata": {}
  },
  {
   "cell_type": "code",
   "execution_count": 78,
   "source": [
    "break"
   ],
   "outputs": [
    {
     "output_type": "error",
     "ename": "SyntaxError",
     "evalue": "'break' outside loop (Temp/ipykernel_17380/668683560.py, line 1)",
     "traceback": [
      "\u001b[1;36m  File \u001b[1;32m\"C:\\Users\\674\\AppData\\Local\\Temp/ipykernel_17380/668683560.py\"\u001b[1;36m, line \u001b[1;32m1\u001b[0m\n\u001b[1;33m    break\u001b[0m\n\u001b[1;37m    ^\u001b[0m\n\u001b[1;31mSyntaxError\u001b[0m\u001b[1;31m:\u001b[0m 'break' outside loop\n"
     ]
    }
   ],
   "metadata": {}
  }
 ],
 "metadata": {
  "orig_nbformat": 4,
  "language_info": {
   "name": "python",
   "version": "3.8.8",
   "mimetype": "text/x-python",
   "codemirror_mode": {
    "name": "ipython",
    "version": 3
   },
   "pygments_lexer": "ipython3",
   "nbconvert_exporter": "python",
   "file_extension": ".py"
  },
  "kernelspec": {
   "name": "python3",
   "display_name": "Python 3.8.8 64-bit ('venv': venv)"
  },
  "interpreter": {
   "hash": "c3102799280f1ed23787b1be8e33b065cea14d14e60df4daed798ef8bab0b32c"
  }
 },
 "nbformat": 4,
 "nbformat_minor": 2
}