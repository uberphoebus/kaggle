{
 "cells": [
  {
   "cell_type": "markdown",
   "id": "56ea15d2-ceff-4cd9-96ce-b799dd895b59",
   "metadata": {},
   "source": [
    "<img src='https://storage.googleapis.com/kaggle-datasets-images/228/482/a520351269b547c89afe790820a1087e/dataset-cover.jpeg'>\n",
    "* ref : kaggle  : https://www.kaggle.com/uciml/pima-indians-diabetes-database\n",
    "    \n",
    "    "
   ]
  },
  {
   "cell_type": "markdown",
   "id": "c6262e5a-08d0-4af6-ac86-3d9df849e054",
   "metadata": {
    "tags": []
   },
   "source": [
    "## Pima Indians Diabetes Database\n",
    "* Predict the onset of diabetes based on diagnostic measures\n",
    "* UCI Machine Learning - updated 5 years ago (Version 1)"
   ]
  },
  {
   "cell_type": "code",
   "execution_count": 1,
   "id": "090ea6eb-4a0a-4ad1-8c23-55b507a3ec3d",
   "metadata": {},
   "outputs": [],
   "source": [
    "import numpy as np\n",
    "import pandas as pd\n",
    "from sklearn.model_selection import train_test_split\n",
    "\n",
    "import matplotlib.pyplot as plt\n",
    "import seaborn as sns\n",
    "from sklearn.metrics import accuracy_score\n",
    "import warnings\n",
    "warnings.filterwarnings(action='ignore')\n",
    "\n",
    "# --------------------------------- NN ---------------------------\n",
    "from keras.models import Sequential\n",
    "from keras.layers import Dense\n",
    "import tensorflow as tf\n",
    "\n",
    "from keras.callbacks import EarlyStopping\n",
    "from keras.callbacks import ModelCheckpoint\n",
    "\n",
    "sns.set()"
   ]
  },
  {
   "cell_type": "markdown",
   "id": "ab425ec5-0e06-49e4-ad9d-c8911f314a9e",
   "metadata": {
    "tags": []
   },
   "source": [
    "# 데이터 로드"
   ]
  },
  {
   "cell_type": "code",
   "execution_count": 2,
   "id": "fdce0840-3abb-4075-babe-fa6c7e37e506",
   "metadata": {},
   "outputs": [],
   "source": [
    "df = pd.read_csv(\"./diabetes.csv\")"
   ]
  },
  {
   "cell_type": "code",
   "execution_count": 3,
   "id": "4e4c62ca-8f88-4e78-b988-a7907a04bd09",
   "metadata": {},
   "outputs": [
    {
     "name": "stdout",
     "output_type": "stream",
     "text": [
      "<class 'pandas.core.frame.DataFrame'>\n",
      "RangeIndex: 768 entries, 0 to 767\n",
      "Data columns (total 9 columns):\n",
      " #   Column                    Non-Null Count  Dtype  \n",
      "---  ------                    --------------  -----  \n",
      " 0   Pregnancies               768 non-null    int64  \n",
      " 1   Glucose                   768 non-null    int64  \n",
      " 2   BloodPressure             768 non-null    int64  \n",
      " 3   SkinThickness             768 non-null    int64  \n",
      " 4   Insulin                   768 non-null    int64  \n",
      " 5   BMI                       768 non-null    float64\n",
      " 6   DiabetesPedigreeFunction  768 non-null    float64\n",
      " 7   Age                       768 non-null    int64  \n",
      " 8   Outcome                   768 non-null    int64  \n",
      "dtypes: float64(2), int64(7)\n",
      "memory usage: 54.1 KB\n"
     ]
    }
   ],
   "source": [
    "df.info()"
   ]
  },
  {
   "cell_type": "code",
   "execution_count": 4,
   "id": "43256079-6fbc-4ecb-858b-18a490016910",
   "metadata": {},
   "outputs": [
    {
     "data": {
      "text/plain": [
       "(768, 9)"
      ]
     },
     "execution_count": 4,
     "metadata": {},
     "output_type": "execute_result"
    }
   ],
   "source": [
    "df.shape"
   ]
  },
  {
   "cell_type": "code",
   "execution_count": 5,
   "id": "204bf64a-f949-4956-afd9-cadba2b72858",
   "metadata": {
    "tags": []
   },
   "outputs": [
    {
     "data": {
      "text/html": [
       "<div>\n",
       "<style scoped>\n",
       "    .dataframe tbody tr th:only-of-type {\n",
       "        vertical-align: middle;\n",
       "    }\n",
       "\n",
       "    .dataframe tbody tr th {\n",
       "        vertical-align: top;\n",
       "    }\n",
       "\n",
       "    .dataframe thead th {\n",
       "        text-align: right;\n",
       "    }\n",
       "</style>\n",
       "<table border=\"1\" class=\"dataframe\">\n",
       "  <thead>\n",
       "    <tr style=\"text-align: right;\">\n",
       "      <th></th>\n",
       "      <th>Pregnancies</th>\n",
       "      <th>Glucose</th>\n",
       "      <th>BloodPressure</th>\n",
       "      <th>SkinThickness</th>\n",
       "      <th>Insulin</th>\n",
       "      <th>BMI</th>\n",
       "      <th>DiabetesPedigreeFunction</th>\n",
       "      <th>Age</th>\n",
       "      <th>Outcome</th>\n",
       "    </tr>\n",
       "  </thead>\n",
       "  <tbody>\n",
       "    <tr>\n",
       "      <th>0</th>\n",
       "      <td>6</td>\n",
       "      <td>148</td>\n",
       "      <td>72</td>\n",
       "      <td>35</td>\n",
       "      <td>0</td>\n",
       "      <td>33.6</td>\n",
       "      <td>0.627</td>\n",
       "      <td>50</td>\n",
       "      <td>1</td>\n",
       "    </tr>\n",
       "    <tr>\n",
       "      <th>1</th>\n",
       "      <td>1</td>\n",
       "      <td>85</td>\n",
       "      <td>66</td>\n",
       "      <td>29</td>\n",
       "      <td>0</td>\n",
       "      <td>26.6</td>\n",
       "      <td>0.351</td>\n",
       "      <td>31</td>\n",
       "      <td>0</td>\n",
       "    </tr>\n",
       "    <tr>\n",
       "      <th>2</th>\n",
       "      <td>8</td>\n",
       "      <td>183</td>\n",
       "      <td>64</td>\n",
       "      <td>0</td>\n",
       "      <td>0</td>\n",
       "      <td>23.3</td>\n",
       "      <td>0.672</td>\n",
       "      <td>32</td>\n",
       "      <td>1</td>\n",
       "    </tr>\n",
       "    <tr>\n",
       "      <th>3</th>\n",
       "      <td>1</td>\n",
       "      <td>89</td>\n",
       "      <td>66</td>\n",
       "      <td>23</td>\n",
       "      <td>94</td>\n",
       "      <td>28.1</td>\n",
       "      <td>0.167</td>\n",
       "      <td>21</td>\n",
       "      <td>0</td>\n",
       "    </tr>\n",
       "    <tr>\n",
       "      <th>4</th>\n",
       "      <td>0</td>\n",
       "      <td>137</td>\n",
       "      <td>40</td>\n",
       "      <td>35</td>\n",
       "      <td>168</td>\n",
       "      <td>43.1</td>\n",
       "      <td>2.288</td>\n",
       "      <td>33</td>\n",
       "      <td>1</td>\n",
       "    </tr>\n",
       "  </tbody>\n",
       "</table>\n",
       "</div>"
      ],
      "text/plain": [
       "   Pregnancies  Glucose  BloodPressure  SkinThickness  Insulin   BMI  \\\n",
       "0            6      148             72             35        0  33.6   \n",
       "1            1       85             66             29        0  26.6   \n",
       "2            8      183             64              0        0  23.3   \n",
       "3            1       89             66             23       94  28.1   \n",
       "4            0      137             40             35      168  43.1   \n",
       "\n",
       "   DiabetesPedigreeFunction  Age  Outcome  \n",
       "0                     0.627   50        1  \n",
       "1                     0.351   31        0  \n",
       "2                     0.672   32        1  \n",
       "3                     0.167   21        0  \n",
       "4                     2.288   33        1  "
      ]
     },
     "execution_count": 5,
     "metadata": {},
     "output_type": "execute_result"
    }
   ],
   "source": [
    "df.head()"
   ]
  },
  {
   "cell_type": "code",
   "execution_count": 6,
   "id": "ec90ad0e-4128-480b-9810-34f4292df4a6",
   "metadata": {},
   "outputs": [
    {
     "data": {
      "image/png": "[encoded data removed]",
      "text/plain": [
       "<Figure size 432x288 with 9 Axes>"
      ]
     },
     "metadata": {},
     "output_type": "display_data"
    }
   ],
   "source": [
    "sns.set()\n",
    "df.hist()\n",
    "plt.show()"
   ]
  },
  {
   "cell_type": "markdown",
   "id": "0391426a-313c-4128-b89a-795684da10d6",
   "metadata": {},
   "source": [
    "### ------------ 가공 == M.L과 동일"
   ]
  },
  {
   "cell_type": "markdown",
   "id": "6ae84828-74c4-40bc-ba53-521d9d6d8b0b",
   "metadata": {},
   "source": [
    "# NN"
   ]
  },
  {
   "cell_type": "markdown",
   "id": "86093b2d-bf5a-476c-ace6-4ac8034261ab",
   "metadata": {
    "tags": []
   },
   "source": [
    "### 랜덤시드 고정"
   ]
  },
  {
   "cell_type": "code",
   "execution_count": 7,
   "id": "39789298-1e4f-4be6-bdf3-d73ecf18d296",
   "metadata": {},
   "outputs": [],
   "source": [
    "np.random.seed(0)\n",
    "tf.random.set_seed(0)"
   ]
  },
  {
   "cell_type": "markdown",
   "id": "d9d033ca-23d9-4f0a-8c03-d62232c72e1d",
   "metadata": {},
   "source": [
    "### X, y (학습피쳐, 타겟) 분리 "
   ]
  },
  {
   "cell_type": "code",
   "execution_count": 8,
   "id": "6dbc4fbc-2b49-4a41-ba35-a5c9c86a11f0",
   "metadata": {},
   "outputs": [],
   "source": [
    "y = df['Outcome']\n",
    "X = df.drop(['Outcome'], axis=1)"
   ]
  },
  {
   "cell_type": "markdown",
   "id": "85627a1c-a774-4bda-bcc2-df0372625907",
   "metadata": {},
   "source": [
    "### 모델"
   ]
  },
  {
   "cell_type": "code",
   "execution_count": 9,
   "id": "606c08aa-ad0a-4df9-b698-413b9ee65741",
   "metadata": {},
   "outputs": [],
   "source": [
    "# model = DecesionTree()  ------  M.L XXXXX\n",
    "#----------------------------------------\n",
    "model = Sequential()\n",
    "model.add(Dense(units=10, activation='relu',  input_dim=8  ))  #input_dim == shape피쳐갯수  (506, 9)\n",
    "model.add(Dense(units=8,  activation='relu'))\n",
    "model.add(Dense(units=4,  activation='relu'))\n",
    "model.add(Dense(units=1,  activation='sigmoid'))\n",
    "                          #adam = momentom + adaboost\n",
    "model.compile(loss='binary_crossentropy',  optimizer='adam'  ,  metrics=['accuracy'])  #l.o.m\n",
    "#----------------------------------------"
   ]
  },
  {
   "cell_type": "markdown",
   "id": "0e52ce67-8320-4db3-8b93-6fe748360eaf",
   "metadata": {},
   "source": [
    "### 9:1 데이터 나누기 +  학습(fit)\n",
    "* df -- 9:1 train(9) test(1)\n",
    "* train 8:2 train(8) val(2) == 9\n",
    "---\n",
    "* initial_epoch = 0,\n",
    "* steps_per_epoch = None,\n",
    "* validation_steps = None,\n",
    "* validation_batch_size = None,"
   ]
  },
  {
   "cell_type": "code",
   "execution_count": 10,
   "id": "89a4f7d5-c7df-4283-9726-ce2e0ef9279e",
   "metadata": {},
   "outputs": [
    {
     "name": "stdout",
     "output_type": "stream",
     "text": [
      "(768, 9) (552, 8) (139, 8) (77, 8)\n"
     ]
    }
   ],
   "source": [
    "X_train9, X_test, y_train9, y_test = train_test_split(X,y, test_size=0.1)\n",
    "X_train, X_val, y_train, y_val = train_test_split(X_train9, y_train9, test_size=0.2)\n",
    "print(df.shape , X_train.shape, X_val.shape, X_test.shape)"
   ]
  },
  {
   "cell_type": "markdown",
   "id": "839533d0-c14a-4ead-8eec-e9136f8991c7",
   "metadata": {},
   "source": [
    "### callback  (EarlyStopping, CheckPoint)\n",
    "* EarlyStopping : 오버피팅 시 학습 중단\n",
    "* CheckPoint : epoch 수행 후 점수가 좋아지면 해당 모델을 저장"
   ]
  },
  {
   "cell_type": "code",
   "execution_count": 11,
   "id": "48752b7d-f396-4ccc-8f6a-b80d8469a3b9",
   "metadata": {},
   "outputs": [
    {
     "name": "stdout",
     "output_type": "stream",
     "text": [
      "path ok~!!!!\n",
      "WARNING:tensorflow:`period` argument is deprecated. Please use `save_freq` to specify the frequency in number of batches seen.\n"
     ]
    }
   ],
   "source": [
    "stopping = EarlyStopping(monitor='val_loss',patience=10)\n",
    "\n",
    "# os.path\n",
    "\n",
    "import os\n",
    "\n",
    "model_dir = './save_models/'\n",
    "if not os.path.exists(model_dir):\n",
    "    print(\"path error~!!!!\")\n",
    "else:\n",
    "    print(\"path ok~!!!!\")\n",
    "    \n",
    "#-----------------------------------------\n",
    "# ModelCheckpoint : 가중치만 저장 \n",
    "# model.save_weights(\"myweight.h5\")\n",
    "# model = Sequential()\n",
    "# ....\n",
    "# model.compile(...)  #l.o.m'\n",
    "# model.load_weights(\"myweight.h5\")\n",
    "#-----------------------------------------\n",
    "# model.save(\"mymodel.hdf5\") : 모델+컴파일러+가중치 \n",
    "# model.load(\"mymodel.hdf5\")\n",
    "#-----------------------------------------\n",
    "\n",
    "\n",
    "model_path = \"./save_models/{epoch:03d}_{val_loss:.4f}_weight.h5\"\n",
    "checkpoint = ModelCheckpoint(model_path, monitor='val_loss', save_weights_only=True, save_best_only=True, period=1)"
   ]
  },
  {
   "cell_type": "markdown",
   "id": "6a2bb50b-db62-4a89-b6a8-14f5154a3e1b",
   "metadata": {},
   "source": [
    "### 학습 시작"
   ]
  },
  {
   "cell_type": "code",
   "execution_count": 12,
   "id": "f3eae36b-e764-4bcc-820a-fe2aec518036",
   "metadata": {},
   "outputs": [
    {
     "name": "stdout",
     "output_type": "stream",
     "text": [
      "Epoch 1/100\n",
      "56/56 [==============================] - 1s 4ms/step - loss: 5.8360 - accuracy: 0.4982 - val_loss: 3.9918 - val_accuracy: 0.5540\n",
      "Epoch 2/100\n",
      "56/56 [==============================] - 0s 2ms/step - loss: 2.7073 - accuracy: 0.5543 - val_loss: 2.4610 - val_accuracy: 0.5540\n",
      "Epoch 3/100\n",
      "56/56 [==============================] - 0s 2ms/step - loss: 1.6012 - accuracy: 0.5707 - val_loss: 1.6719 - val_accuracy: 0.5827\n",
      "Epoch 4/100\n",
      "56/56 [==============================] - 0s 2ms/step - loss: 1.3161 - accuracy: 0.5870 - val_loss: 1.2982 - val_accuracy: 0.6043\n",
      "Epoch 5/100\n",
      "56/56 [==============================] - 0s 1ms/step - loss: 1.1942 - accuracy: 0.5851 - val_loss: 1.2981 - val_accuracy: 0.6043\n",
      "Epoch 6/100\n",
      "56/56 [==============================] - 0s 2ms/step - loss: 1.0403 - accuracy: 0.5996 - val_loss: 0.9634 - val_accuracy: 0.6403\n",
      "Epoch 7/100\n",
      "56/56 [==============================] - 0s 2ms/step - loss: 0.9036 - accuracy: 0.6322 - val_loss: 0.8865 - val_accuracy: 0.6475\n",
      "Epoch 8/100\n",
      "56/56 [==============================] - 0s 1ms/step - loss: 0.8466 - accuracy: 0.6268 - val_loss: 0.9112 - val_accuracy: 0.6043\n",
      "Epoch 9/100\n",
      "56/56 [==============================] - 0s 2ms/step - loss: 0.7988 - accuracy: 0.6268 - val_loss: 0.7538 - val_accuracy: 0.6475\n",
      "Epoch 10/100\n",
      "56/56 [==============================] - 0s 2ms/step - loss: 0.7629 - accuracy: 0.6250 - val_loss: 0.7679 - val_accuracy: 0.6331\n",
      "Epoch 11/100\n",
      "56/56 [==============================] - 0s 2ms/step - loss: 0.7460 - accuracy: 0.6322 - val_loss: 0.7420 - val_accuracy: 0.6691\n",
      "Epoch 12/100\n",
      "56/56 [==============================] - 0s 2ms/step - loss: 0.7162 - accuracy: 0.6377 - val_loss: 0.6827 - val_accuracy: 0.6835\n",
      "Epoch 13/100\n",
      "56/56 [==============================] - 0s 2ms/step - loss: 0.7019 - accuracy: 0.6413 - val_loss: 0.6790 - val_accuracy: 0.6763\n",
      "Epoch 14/100\n",
      "56/56 [==============================] - 0s 2ms/step - loss: 0.6905 - accuracy: 0.6377 - val_loss: 0.6663 - val_accuracy: 0.6835\n",
      "Epoch 15/100\n",
      "56/56 [==============================] - 0s 2ms/step - loss: 0.6618 - accuracy: 0.6558 - val_loss: 0.7360 - val_accuracy: 0.6403\n",
      "Epoch 16/100\n",
      "56/56 [==============================] - 0s 1ms/step - loss: 0.6707 - accuracy: 0.6504 - val_loss: 0.6583 - val_accuracy: 0.6691\n",
      "Epoch 17/100\n",
      "56/56 [==============================] - 0s 2ms/step - loss: 0.6512 - accuracy: 0.6576 - val_loss: 0.6472 - val_accuracy: 0.6763\n",
      "Epoch 18/100\n",
      "56/56 [==============================] - 0s 1ms/step - loss: 0.6437 - accuracy: 0.6540 - val_loss: 0.6533 - val_accuracy: 0.6763\n",
      "Epoch 19/100\n",
      "56/56 [==============================] - 0s 1ms/step - loss: 0.6313 - accuracy: 0.6558 - val_loss: 0.6529 - val_accuracy: 0.6763\n",
      "Epoch 20/100\n",
      "56/56 [==============================] - 0s 2ms/step - loss: 0.6279 - accuracy: 0.6739 - val_loss: 0.6570 - val_accuracy: 0.6547\n",
      "Epoch 21/100\n",
      "56/56 [==============================] - 0s 2ms/step - loss: 0.6154 - accuracy: 0.6594 - val_loss: 0.6645 - val_accuracy: 0.6691\n",
      "Epoch 22/100\n",
      "56/56 [==============================] - 0s 2ms/step - loss: 0.6244 - accuracy: 0.6739 - val_loss: 0.6241 - val_accuracy: 0.6691\n",
      "Epoch 23/100\n",
      "56/56 [==============================] - 0s 2ms/step - loss: 0.6153 - accuracy: 0.6685 - val_loss: 0.6173 - val_accuracy: 0.6691\n",
      "Epoch 24/100\n",
      "56/56 [==============================] - 0s 1ms/step - loss: 0.6101 - accuracy: 0.6757 - val_loss: 0.6234 - val_accuracy: 0.6619\n",
      "Epoch 25/100\n",
      "56/56 [==============================] - 0s 2ms/step - loss: 0.6076 - accuracy: 0.6775 - val_loss: 0.6261 - val_accuracy: 0.6835\n",
      "Epoch 26/100\n",
      "56/56 [==============================] - 0s 1ms/step - loss: 0.5972 - accuracy: 0.6739 - val_loss: 0.6184 - val_accuracy: 0.6906\n",
      "Epoch 27/100\n",
      "56/56 [==============================] - 0s 2ms/step - loss: 0.6038 - accuracy: 0.6902 - val_loss: 0.6134 - val_accuracy: 0.6906\n",
      "Epoch 28/100\n",
      "56/56 [==============================] - 0s 2ms/step - loss: 0.5888 - accuracy: 0.6721 - val_loss: 0.6176 - val_accuracy: 0.6906\n",
      "Epoch 29/100\n",
      "56/56 [==============================] - 0s 2ms/step - loss: 0.5870 - accuracy: 0.6757 - val_loss: 0.6143 - val_accuracy: 0.6906\n",
      "Epoch 30/100\n",
      "56/56 [==============================] - 0s 2ms/step - loss: 0.5873 - accuracy: 0.6739 - val_loss: 0.6322 - val_accuracy: 0.6763\n",
      "Epoch 31/100\n",
      "56/56 [==============================] - 0s 1ms/step - loss: 0.5845 - accuracy: 0.6866 - val_loss: 0.6151 - val_accuracy: 0.6906\n",
      "Epoch 32/100\n",
      "56/56 [==============================] - 0s 1ms/step - loss: 0.5882 - accuracy: 0.6685 - val_loss: 0.6233 - val_accuracy: 0.6835\n",
      "Epoch 33/100\n",
      "56/56 [==============================] - 0s 1ms/step - loss: 0.5818 - accuracy: 0.6920 - val_loss: 0.6248 - val_accuracy: 0.6835\n",
      "Epoch 34/100\n",
      "56/56 [==============================] - 0s 2ms/step - loss: 0.5817 - accuracy: 0.6775 - val_loss: 0.6346 - val_accuracy: 0.6475\n",
      "Epoch 35/100\n",
      "56/56 [==============================] - 0s 2ms/step - loss: 0.5795 - accuracy: 0.6920 - val_loss: 0.6028 - val_accuracy: 0.6835\n",
      "Epoch 36/100\n",
      "56/56 [==============================] - 0s 1ms/step - loss: 0.5707 - accuracy: 0.6866 - val_loss: 0.6018 - val_accuracy: 0.6906\n",
      "Epoch 37/100\n",
      "56/56 [==============================] - 0s 1ms/step - loss: 0.5733 - accuracy: 0.6812 - val_loss: 0.6050 - val_accuracy: 0.6978\n",
      "Epoch 38/100\n",
      "56/56 [==============================] - 0s 2ms/step - loss: 0.5686 - accuracy: 0.6920 - val_loss: 0.6026 - val_accuracy: 0.6835\n",
      "Epoch 39/100\n",
      "56/56 [==============================] - 0s 2ms/step - loss: 0.5750 - accuracy: 0.6866 - val_loss: 0.6140 - val_accuracy: 0.6835\n",
      "Epoch 40/100\n",
      "56/56 [==============================] - 0s 1ms/step - loss: 0.5599 - accuracy: 0.7083 - val_loss: 0.6025 - val_accuracy: 0.6835\n",
      "Epoch 41/100\n",
      "56/56 [==============================] - 0s 1ms/step - loss: 0.5633 - accuracy: 0.7047 - val_loss: 0.6052 - val_accuracy: 0.6906\n",
      "Epoch 42/100\n",
      "56/56 [==============================] - 0s 2ms/step - loss: 0.5600 - accuracy: 0.7047 - val_loss: 0.6042 - val_accuracy: 0.7050\n",
      "Epoch 43/100\n",
      "56/56 [==============================] - 0s 2ms/step - loss: 0.5695 - accuracy: 0.6957 - val_loss: 0.6059 - val_accuracy: 0.6906\n",
      "Epoch 44/100\n",
      "56/56 [==============================] - 0s 2ms/step - loss: 0.5664 - accuracy: 0.6920 - val_loss: 0.6068 - val_accuracy: 0.6906\n",
      "Epoch 45/100\n",
      "56/56 [==============================] - 0s 2ms/step - loss: 0.5684 - accuracy: 0.6957 - val_loss: 0.6293 - val_accuracy: 0.6547\n",
      "Epoch 46/100\n",
      "56/56 [==============================] - 0s 2ms/step - loss: 0.5733 - accuracy: 0.6721 - val_loss: 0.6158 - val_accuracy: 0.6906\n"
     ]
    }
   ],
   "source": [
    "# ------------ 나누기  == M.L\n",
    "history = model.fit(X_train, y_train, validation_data=(X_val, y_val), batch_size=10, epochs=100 ,shuffle=True,\n",
    "          callbacks=[stopping,checkpoint]\n",
    "          )  \n",
    "# model.fit(X, y, validation_split=0.2, validation_data=(X_val,y_val), batch_size=10, epochs=100 )   #callbacks"
   ]
  },
  {
   "cell_type": "markdown",
   "id": "c5a545d9-d9ca-411d-ba38-6cfd6ad7b5e4",
   "metadata": {
    "tags": []
   },
   "source": [
    "### 점수확인"
   ]
  },
  {
   "cell_type": "code",
   "execution_count": 13,
   "id": "2eea6326-2f26-4df7-aeaa-f178e60ce434",
   "metadata": {},
   "outputs": [
    {
     "name": "stdout",
     "output_type": "stream",
     "text": [
      "[5.836025238037109, 2.7073020935058594, 1.6012483835220337, 1.316050410270691, 1.1941596269607544, 1.040277123451233, 0.903608500957489, 0.8465508818626404, 0.7988040447235107, 0.7629367709159851, 0.7459658980369568, 0.7161958813667297, 0.7018795013427734, 0.6904804110527039, 0.6617619395256042, 0.6707350611686707, 0.651187539100647, 0.6436690092086792, 0.6312612295150757, 0.6278649568557739, 0.615355372428894, 0.6244332790374756, 0.6153076887130737, 0.6100898385047913, 0.607580304145813, 0.5972185134887695, 0.6038257479667664, 0.5887659788131714, 0.5870197415351868, 0.5872684121131897, 0.5845252871513367, 0.588232696056366, 0.5818232893943787, 0.5816922783851624, 0.5795062780380249, 0.5706716179847717, 0.5732883810997009, 0.5686147809028625, 0.5750224590301514, 0.5598773956298828, 0.5633149743080139, 0.5600409507751465, 0.5695292949676514, 0.5664253234863281, 0.568398654460907, 0.5733115077018738]\n"
     ]
    }
   ],
   "source": [
    "train_loss = history.history['loss']\n",
    "print(train_loss)"
   ]
  },
  {
   "cell_type": "code",
   "execution_count": 14,
   "id": "1b167cfe-31dd-48de-8b06-27369f2b478a",
   "metadata": {},
   "outputs": [
    {
     "name": "stdout",
     "output_type": "stream",
     "text": [
      "[3.9917900562286377, 2.461045742034912, 1.671889066696167, 1.298249363899231, 1.2981129884719849, 0.9633782505989075, 0.8864724040031433, 0.9112275838851929, 0.7538473010063171, 0.7678659558296204, 0.7420486211776733, 0.6827051043510437, 0.6790122389793396, 0.6662944555282593, 0.7359597086906433, 0.6582931280136108, 0.6471620202064514, 0.6533164381980896, 0.6529350876808167, 0.6569757461547852, 0.6645328402519226, 0.6240560412406921, 0.6172918677330017, 0.6234024167060852, 0.6261270046234131, 0.6183552742004395, 0.6133976578712463, 0.6176034808158875, 0.6142621040344238, 0.6321581602096558, 0.6151058673858643, 0.6233278512954712, 0.6248372793197632, 0.6345744132995605, 0.6027897596359253, 0.6018081903457642, 0.6049609780311584, 0.6025747656822205, 0.6139797568321228, 0.6024763584136963, 0.6052483916282654, 0.6041523814201355, 0.6058725714683533, 0.6067782044410706, 0.6293438673019409, 0.6157596111297607]\n"
     ]
    }
   ],
   "source": [
    "val_loss = history.history['val_loss']\n",
    "print(val_loss)"
   ]
  },
  {
   "cell_type": "markdown",
   "id": "b16a9969-15b2-4506-a82c-97e3a7d5a2b1",
   "metadata": {
    "tags": []
   },
   "source": [
    "## 실제 맞춰야 될 데이터"
   ]
  },
  {
   "cell_type": "code",
   "execution_count": 22,
   "id": "bbdf4c40-d2be-4963-adcc-a44b8b1cf16e",
   "metadata": {},
   "outputs": [],
   "source": [
    "# X_test_cp = X_test.copy()\n",
    "# X_test_cp['Outcome'] = y_test\n",
    "# X_test_cp.to_csv(\"test.csv\", index=False)\n",
    "# del X_test_cp"
   ]
  },
  {
   "cell_type": "code",
   "execution_count": 15,
   "id": "a45459d7-afda-44a2-acba-e30ae38429f9",
   "metadata": {},
   "outputs": [
    {
     "name": "stdout",
     "output_type": "stream",
     "text": [
      "3/3 [==============================] - 0s 1ms/step - loss: 0.5628 - accuracy: 0.7013\n",
      "[0.5628481507301331, 0.701298713684082]\n"
     ]
    }
   ],
   "source": [
    "score = model.evaluate(X_test, y_test)\n",
    "print(score)"
   ]
  },
  {
   "cell_type": "code",
   "execution_count": 16,
   "id": "f2c12436-5e11-42b1-9cd8-cf4e2ddd2135",
   "metadata": {},
   "outputs": [
    {
     "name": "stdout",
     "output_type": "stream",
     "text": [
      "[[0.624215  ]\n",
      " [0.08670115]\n",
      " [0.40230328]\n",
      " [0.41630876]\n",
      " [0.27746397]]\n"
     ]
    }
   ],
   "source": [
    "pred = model.predict(X_test)\n",
    "print(pred[:5])"
   ]
  },
  {
   "cell_type": "code",
   "execution_count": null,
   "id": "5a73b56e-f31d-49a7-9c0e-33deecf603fa",
   "metadata": {},
   "outputs": [],
   "source": []
  },
  {
   "cell_type": "markdown",
   "id": "11d4928b-f012-4213-a6ff-1d3af5c55377",
   "metadata": {},
   "source": [
    "### 차트 : loss 차이 "
   ]
  },
  {
   "cell_type": "code",
   "execution_count": 17,
   "id": "81472b4d-75b4-44c4-a560-9226292fa7cd",
   "metadata": {},
   "outputs": [
    {
     "data": {
      "image/png": "[encoded data removed]",
      "text/plain": [
       "<Figure size 432x288 with 1 Axes>"
      ]
     },
     "metadata": {},
     "output_type": "display_data"
    }
   ],
   "source": [
    "plt.plot(np.arange(len(val_loss)),  val_loss, c='red', label='train')\n",
    "plt.plot(np.arange(len(val_loss)),  train_loss, c='blue', label='test')\n",
    "plt.legend()\n",
    "plt.show()"
   ]
  },
  {
   "cell_type": "code",
   "execution_count": 18,
   "id": "397ba8f2-d456-4a94-90b3-d8d92ead9f3d",
   "metadata": {},
   "outputs": [
    {
     "name": "stdout",
     "output_type": "stream",
     "text": [
      "[0.49818840622901917, 0.554347813129425, 0.570652186870575, 0.5869565010070801, 0.5851449370384216, 0.5996376872062683, 0.6322463750839233, 0.6268116235733032, 0.6268116235733032, 0.625, 0.6322463750839233, 0.6376811861991882, 0.6413043737411499, 0.6376811861991882, 0.6557971239089966, 0.6503623127937317, 0.657608687877655, 0.6539855003356934, 0.6557971239089966, 0.6739130616188049, 0.6594203114509583, 0.6739130616188049, 0.66847825050354, 0.6757246255874634, 0.6775362491607666, 0.6739130616188049, 0.6902173757553101, 0.6721014380455017, 0.6757246255874634, 0.6739130616188049, 0.6865941882133484, 0.66847825050354, 0.6920289993286133, 0.6775362491607666, 0.6920289993286133, 0.6865941882133484, 0.6811594367027283, 0.6920289993286133, 0.6865941882133484, 0.7083333134651184, 0.7047101259231567, 0.7047101259231567, 0.695652186870575, 0.6920289993286133, 0.695652186870575, 0.6721014380455017]\n",
      "[0.5539568066596985, 0.5539568066596985, 0.5827338099479675, 0.6043165326118469, 0.6043165326118469, 0.6402877569198608, 0.6474820375442505, 0.6043165326118469, 0.6474820375442505, 0.633093535900116, 0.6690647602081299, 0.6834532618522644, 0.6762589812278748, 0.6834532618522644, 0.6402877569198608, 0.6690647602081299, 0.6762589812278748, 0.6762589812278748, 0.6762589812278748, 0.6546762585639954, 0.6690647602081299, 0.6690647602081299, 0.6690647602081299, 0.6618704795837402, 0.6834532618522644, 0.6906474828720093, 0.6906474828720093, 0.6906474828720093, 0.6906474828720093, 0.6762589812278748, 0.6906474828720093, 0.6834532618522644, 0.6834532618522644, 0.6474820375442505, 0.6834532618522644, 0.6906474828720093, 0.6978417038917542, 0.6834532618522644, 0.6834532618522644, 0.6834532618522644, 0.6906474828720093, 0.7050359845161438, 0.6906474828720093, 0.6906474828720093, 0.6546762585639954, 0.6906474828720093]\n"
     ]
    }
   ],
   "source": [
    "train_acc = history.history['accuracy']; print(train_acc)\n",
    "val_acc   = history.history['val_accuracy']; print(val_acc)\n"
   ]
  },
  {
   "cell_type": "code",
   "execution_count": 19,
   "id": "1fd829ac-8db8-4ed8-aec6-9d18b9c3df40",
   "metadata": {},
   "outputs": [
    {
     "data": {
      "image/png": "[encoded data removed]",
      "text/plain": [
       "<Figure size 864x648 with 1 Axes>"
      ]
     },
     "metadata": {},
     "output_type": "display_data"
    }
   ],
   "source": [
    "f = plt.subplots(figsize=(12, 9))\n",
    "plt.plot(np.arange(len(train_acc)), train_acc, c='r', label='train_accuracy')\n",
    "plt.plot(np.arange(len(train_acc)), val_acc, c='b', label='val_accuracy')\n",
    "plt.legend()\n",
    "plt.legend(); plt.show()\n"
   ]
  },
  {
   "cell_type": "markdown",
   "id": "ba9843e6-5c49-444c-989e-fcd83f54e19d",
   "metadata": {},
   "source": [
    "<img src=\"output.png\">"
   ]
  }
 ],
 "metadata": {
  "kernelspec": {
   "display_name": "Python 3 (ipykernel)",
   "language": "python",
   "name": "python3"
  },
  "language_info": {
   "codemirror_mode": {
    "name": "ipython",
    "version": 3
   },
   "file_extension": ".py",
   "mimetype": "text/x-python",
   "name": "python",
   "nbconvert_exporter": "python",
   "pygments_lexer": "ipython3",
   "version": "3.8.8"
  }
 },
 "nbformat": 4,
 "nbformat_minor": 5
}
