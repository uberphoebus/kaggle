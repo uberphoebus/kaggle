{
 "cells": [
  {
   "cell_type": "code",
   "execution_count": 9,
   "id": "530301bc-8e59-4e12-b566-c60c96f6815e",
   "metadata": {},
   "outputs": [],
   "source": [
    "import numpy as np\n",
    "import pandas as pd\n",
    "from sklearn.model_selection import train_test_split\n",
    "\n",
    "import matplotlib.pyplot as plt\n",
    "import seaborn as sns\n",
    "from sklearn.metrics import accuracy_score\n",
    "import warnings\n",
    "warnings.filterwarnings(action='ignore')\n",
    "\n",
    "# --------------------------------- NN ---------------------------\n",
    "from keras.models import Sequential\n",
    "from keras.layers import Dense\n",
    "import tensorflow as tf\n",
    "\n",
    "from keras.callbacks import EarlyStopping\n",
    "from keras.callbacks import ModelCheckpoint\n",
    "\n",
    "sns.set()"
   ]
  },
  {
   "cell_type": "code",
   "execution_count": 10,
   "id": "277256c4-4b72-49a5-b517-b275a7a493ee",
   "metadata": {},
   "outputs": [],
   "source": [
    "test = pd.read_csv(\"test.csv\")"
   ]
  },
  {
   "cell_type": "code",
   "execution_count": 11,
   "id": "edb34f15-cb04-4af6-b6e0-06eeaeb5058d",
   "metadata": {},
   "outputs": [
    {
     "name": "stdout",
     "output_type": "stream",
     "text": [
      "(77, 9)\n"
     ]
    },
    {
     "data": {
      "text/html": [
       "<div>\n",
       "<style scoped>\n",
       "    .dataframe tbody tr th:only-of-type {\n",
       "        vertical-align: middle;\n",
       "    }\n",
       "\n",
       "    .dataframe tbody tr th {\n",
       "        vertical-align: top;\n",
       "    }\n",
       "\n",
       "    .dataframe thead th {\n",
       "        text-align: right;\n",
       "    }\n",
       "</style>\n",
       "<table border=\"1\" class=\"dataframe\">\n",
       "  <thead>\n",
       "    <tr style=\"text-align: right;\">\n",
       "      <th></th>\n",
       "      <th>Pregnancies</th>\n",
       "      <th>Glucose</th>\n",
       "      <th>BloodPressure</th>\n",
       "      <th>SkinThickness</th>\n",
       "      <th>Insulin</th>\n",
       "      <th>BMI</th>\n",
       "      <th>DiabetesPedigreeFunction</th>\n",
       "      <th>Age</th>\n",
       "      <th>Outcome</th>\n",
       "    </tr>\n",
       "  </thead>\n",
       "  <tbody>\n",
       "    <tr>\n",
       "      <th>0</th>\n",
       "      <td>1</td>\n",
       "      <td>199</td>\n",
       "      <td>76</td>\n",
       "      <td>43</td>\n",
       "      <td>0</td>\n",
       "      <td>42.9</td>\n",
       "      <td>1.394</td>\n",
       "      <td>22</td>\n",
       "      <td>1</td>\n",
       "    </tr>\n",
       "    <tr>\n",
       "      <th>1</th>\n",
       "      <td>2</td>\n",
       "      <td>107</td>\n",
       "      <td>74</td>\n",
       "      <td>30</td>\n",
       "      <td>100</td>\n",
       "      <td>33.6</td>\n",
       "      <td>0.404</td>\n",
       "      <td>23</td>\n",
       "      <td>0</td>\n",
       "    </tr>\n",
       "    <tr>\n",
       "      <th>2</th>\n",
       "      <td>4</td>\n",
       "      <td>76</td>\n",
       "      <td>62</td>\n",
       "      <td>0</td>\n",
       "      <td>0</td>\n",
       "      <td>34.0</td>\n",
       "      <td>0.391</td>\n",
       "      <td>25</td>\n",
       "      <td>0</td>\n",
       "    </tr>\n",
       "    <tr>\n",
       "      <th>3</th>\n",
       "      <td>5</td>\n",
       "      <td>166</td>\n",
       "      <td>72</td>\n",
       "      <td>19</td>\n",
       "      <td>175</td>\n",
       "      <td>25.8</td>\n",
       "      <td>0.587</td>\n",
       "      <td>51</td>\n",
       "      <td>1</td>\n",
       "    </tr>\n",
       "    <tr>\n",
       "      <th>4</th>\n",
       "      <td>0</td>\n",
       "      <td>111</td>\n",
       "      <td>65</td>\n",
       "      <td>0</td>\n",
       "      <td>0</td>\n",
       "      <td>24.6</td>\n",
       "      <td>0.660</td>\n",
       "      <td>31</td>\n",
       "      <td>0</td>\n",
       "    </tr>\n",
       "  </tbody>\n",
       "</table>\n",
       "</div>"
      ],
      "text/plain": [
       "   Pregnancies  Glucose  BloodPressure  SkinThickness  Insulin   BMI  \\\n",
       "0            1      199             76             43        0  42.9   \n",
       "1            2      107             74             30      100  33.6   \n",
       "2            4       76             62              0        0  34.0   \n",
       "3            5      166             72             19      175  25.8   \n",
       "4            0      111             65              0        0  24.6   \n",
       "\n",
       "   DiabetesPedigreeFunction  Age  Outcome  \n",
       "0                     1.394   22        1  \n",
       "1                     0.404   23        0  \n",
       "2                     0.391   25        0  \n",
       "3                     0.587   51        1  \n",
       "4                     0.660   31        0  "
      ]
     },
     "execution_count": 11,
     "metadata": {},
     "output_type": "execute_result"
    }
   ],
   "source": [
    "print(test.shape)\n",
    "test.head()"
   ]
  },
  {
   "cell_type": "code",
   "execution_count": 12,
   "id": "c56fac3b-def8-4a7c-a8c7-ab5ecc06e32a",
   "metadata": {},
   "outputs": [],
   "source": [
    "y_test = test['Outcome']\n",
    "X_test = test.drop(['Outcome'], axis=1)"
   ]
  },
  {
   "cell_type": "code",
   "execution_count": 13,
   "id": "43fd11c2-33f3-42f8-81d0-4a3544e8511a",
   "metadata": {},
   "outputs": [
    {
     "data": {
      "text/plain": [
       "((77, 8), (77,))"
      ]
     },
     "execution_count": 13,
     "metadata": {},
     "output_type": "execute_result"
    }
   ],
   "source": [
    "X_test.shape, y_test.shape"
   ]
  },
  {
   "cell_type": "markdown",
   "id": "30c76023-8ecf-4272-9666-66571eb22d75",
   "metadata": {},
   "source": [
    "### 가중치 조정이 전혀 되지 않은 모델"
   ]
  },
  {
   "cell_type": "code",
   "execution_count": 14,
   "id": "d3aec35f-9144-42e0-8208-85fbc6abc911",
   "metadata": {},
   "outputs": [],
   "source": [
    "# model = DecesionTree()  ------  M.L XXXXX\n",
    "#----------------------------------------\n",
    "model = Sequential()\n",
    "model.add(Dense(units=10, activation='relu',  input_dim=8  ))  #input_dim == shape피쳐갯수  (506, 9)\n",
    "model.add(Dense(units=8,  activation='relu'))\n",
    "model.add(Dense(units=4,  activation='relu'))\n",
    "model.add(Dense(units=1,  activation='sigmoid'))\n",
    "                          #adam = momentom + adaboost\n",
    "model.compile(loss='binary_crossentropy',  optimizer='adam'  ,  metrics=['accuracy'])  #l.o.m\n",
    "#----------------------------------------"
   ]
  },
  {
   "cell_type": "markdown",
   "id": "3668bb14-6765-4144-a44e-86f3d48391b3",
   "metadata": {},
   "source": [
    "* 가중치 적용안된 기본 모델 점수 "
   ]
  },
  {
   "cell_type": "code",
   "execution_count": 15,
   "id": "0ebc2bcc-7873-4674-aa18-cecd49d1eab7",
   "metadata": {},
   "outputs": [
    {
     "name": "stdout",
     "output_type": "stream",
     "text": [
      "3/3 [==============================] - 0s 2ms/step - loss: 0.6876 - accuracy: 0.6494\n",
      "[0.687585175037384, 0.649350643157959]\n"
     ]
    }
   ],
   "source": [
    "score = model.evaluate(X_test, y_test)\n",
    "print(score)"
   ]
  },
  {
   "cell_type": "markdown",
   "id": "3dde21ee-5052-404b-b9bc-f8d3572f4916",
   "metadata": {},
   "source": [
    "* 가중치 적용 후 모델 점수 다시 확인"
   ]
  },
  {
   "cell_type": "code",
   "execution_count": 20,
   "id": "c335192d-9b1d-48af-ab5e-01a8cca5473a",
   "metadata": {},
   "outputs": [],
   "source": [
    "model.load_weights('./save_models/036_0.6018_weight.h5')"
   ]
  },
  {
   "cell_type": "code",
   "execution_count": 21,
   "id": "4bf1c6ff-4f3e-4e43-b661-2abd60f5c314",
   "metadata": {},
   "outputs": [
    {
     "name": "stdout",
     "output_type": "stream",
     "text": [
      "Model: \"sequential_1\"\n",
      "_________________________________________________________________\n",
      "Layer (type)                 Output Shape              Param #   \n",
      "=================================================================\n",
      "dense_4 (Dense)              (None, 10)                90        \n",
      "_________________________________________________________________\n",
      "dense_5 (Dense)              (None, 8)                 88        \n",
      "_________________________________________________________________\n",
      "dense_6 (Dense)              (None, 4)                 36        \n",
      "_________________________________________________________________\n",
      "dense_7 (Dense)              (None, 1)                 5         \n",
      "=================================================================\n",
      "Total params: 219\n",
      "Trainable params: 219\n",
      "Non-trainable params: 0\n",
      "_________________________________________________________________\n"
     ]
    }
   ],
   "source": [
    "model.summary()"
   ]
  },
  {
   "cell_type": "code",
   "execution_count": 22,
   "id": "370f419b-3004-4f4d-93b9-7f263b7428d6",
   "metadata": {},
   "outputs": [
    {
     "name": "stdout",
     "output_type": "stream",
     "text": [
      "3/3 [==============================] - 0s 1ms/step - loss: 0.5690 - accuracy: 0.7013\n",
      "[0.5689736604690552, 0.701298713684082]\n"
     ]
    }
   ],
   "source": [
    "# 적용전후 loss: 0.6876 --> 0.5690\n",
    "score = model.evaluate(X_test, y_test)\n",
    "print(score)"
   ]
  }
 ],
 "metadata": {
  "kernelspec": {
   "display_name": "Python 3 (ipykernel)",
   "language": "python",
   "name": "python3"
  },
  "language_info": {
   "codemirror_mode": {
    "name": "ipython",
    "version": 3
   },
   "file_extension": ".py",
   "mimetype": "text/x-python",
   "name": "python",
   "nbconvert_exporter": "python",
   "pygments_lexer": "ipython3",
   "version": "3.8.8"
  }
 },
 "nbformat": 4,
 "nbformat_minor": 5
}
