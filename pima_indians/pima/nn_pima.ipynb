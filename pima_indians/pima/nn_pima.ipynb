{
 "cells": [
  {
   "cell_type": "markdown",
   "id": "56ea15d2-ceff-4cd9-96ce-b799dd895b59",
   "metadata": {},
   "source": [
    "<img src='https://storage.googleapis.com/kaggle-datasets-images/228/482/a520351269b547c89afe790820a1087e/dataset-cover.jpeg'><br>\n",
    "* ref : kaggle  : https://www.kaggle.com/uciml/pima-indians-diabetes-database\n",
    "    \n",
    "    "
   ]
  },
  {
   "cell_type": "markdown",
   "id": "c6262e5a-08d0-4af6-ac86-3d9df849e054",
   "metadata": {
    "tags": []
   },
   "source": [
    "## Pima Indians Diabetes Database\n",
    "* Predict the onset of diabetes based on diagnostic measures\n",
    "* UCI Machine Learning - updated 5 years ago (Version 1)"
   ]
  },
  {
   "cell_type": "markdown",
   "metadata": {},
   "source": [
    "# imports"
   ]
  },
  {
   "cell_type": "code",
   "execution_count": 1,
   "metadata": {},
   "outputs": [],
   "source": [
    "import pandas as pd\n",
    "import numpy as np\n",
    "import matplotlib.pyplot as plt\n",
    "import seaborn as sns; sns.set()\n",
    "import warnings; warnings.filterwarnings(action='ignore')\n",
    "\n",
    "from sklearn.model_selection import train_test_split\n",
    "\n",
    "import tensorflow as tf\n",
    "from keras.models import Sequential\n",
    "from keras.layers import Dense, Dropout\n",
    "from keras.callbacks import EarlyStopping, ModelCheckpoint"
   ]
  },
  {
   "cell_type": "markdown",
   "metadata": {},
   "source": [
    "# read"
   ]
  },
  {
   "cell_type": "code",
   "execution_count": 2,
   "metadata": {},
   "outputs": [],
   "source": [
    "df = pd.read_csv('../../kaggle/pima_indians/diabetes.csv')"
   ]
  },
  {
   "cell_type": "markdown",
   "metadata": {},
   "source": [
    "# EDA"
   ]
  },
  {
   "cell_type": "code",
   "execution_count": 3,
   "metadata": {},
   "outputs": [
    {
     "name": "stdout",
     "output_type": "stream",
     "text": [
      "<class 'pandas.core.frame.DataFrame'>\n",
      "RangeIndex: 768 entries, 0 to 767\n",
      "Data columns (total 9 columns):\n",
      " #   Column                    Non-Null Count  Dtype  \n",
      "---  ------                    --------------  -----  \n",
      " 0   Pregnancies               768 non-null    int64  \n",
      " 1   Glucose                   768 non-null    int64  \n",
      " 2   BloodPressure             768 non-null    int64  \n",
      " 3   SkinThickness             768 non-null    int64  \n",
      " 4   Insulin                   768 non-null    int64  \n",
      " 5   BMI                       768 non-null    float64\n",
      " 6   DiabetesPedigreeFunction  768 non-null    float64\n",
      " 7   Age                       768 non-null    int64  \n",
      " 8   Outcome                   768 non-null    int64  \n",
      "dtypes: float64(2), int64(7)\n",
      "memory usage: 54.1 KB\n"
     ]
    }
   ],
   "source": [
    "df.info()"
   ]
  },
  {
   "cell_type": "markdown",
   "metadata": {},
   "source": [
    "# Neural Network"
   ]
  },
  {
   "cell_type": "code",
   "execution_count": 4,
   "metadata": {},
   "outputs": [],
   "source": [
    "np.random.seed(0)     # global seed\n",
    "tf.random.set_seed(0) # tf global seed"
   ]
  },
  {
   "cell_type": "code",
   "execution_count": 5,
   "metadata": {},
   "outputs": [],
   "source": [
    "y = df['Outcome']\n",
    "X = df.drop('Outcome', axis=1)"
   ]
  },
  {
   "cell_type": "markdown",
   "metadata": {},
   "source": [
    "## model"
   ]
  },
  {
   "cell_type": "code",
   "execution_count": 6,
   "metadata": {},
   "outputs": [],
   "source": [
    "model = Sequential()\n",
    "\n",
    "# 입력층\n",
    "model.add(\n",
    "    Dense(\n",
    "        units=10,             # 출력층 개수\n",
    "        input_dim=8,          # 입력층 개수, feature 개수\n",
    "        activation='relu',    # 활성화 함수\n",
    "    )\n",
    ")\n",
    "\n",
    "# layers\n",
    "model.add(Dense(units=8, activation='relu', ))\n",
    "model.add(Dense(units=4, activation='relu', ))\n",
    "\n",
    "# 출력층\n",
    "model.add(\n",
    "    Dense(\n",
    "        units=1,              # 출력층 개수\n",
    "        activation='sigmoid', # 활성화 함수\n",
    "    )\n",
    ")\n",
    "\n",
    "model.compile(\n",
    "    loss='binary_crossentropy', # loss 함수\n",
    "    optimizer='adam',           # adam = momentum + adaboost\n",
    "    metrics=['accuracy'], \n",
    ")"
   ]
  },
  {
   "cell_type": "markdown",
   "metadata": {},
   "source": [
    "## callbacks"
   ]
  },
  {
   "cell_type": "code",
   "execution_count": 7,
   "metadata": {},
   "outputs": [],
   "source": [
    "stopping = EarlyStopping(\n",
    "    monitor='val_loss',  # 평가지표\n",
    "    patience=10,          # 평가지표 하락을 허용하는 횟수\n",
    ")"
   ]
  },
  {
   "cell_type": "code",
   "execution_count": 8,
   "metadata": {},
   "outputs": [],
   "source": [
    "model_path = './saved_model/{epoch:03d}_{val_loss:.4f}.hdf5'"
   ]
  },
  {
   "cell_type": "code",
   "execution_count": 9,
   "metadata": {},
   "outputs": [
    {
     "name": "stdout",
     "output_type": "stream",
     "text": [
      "WARNING:tensorflow:`period` argument is deprecated. Please use `save_freq` to specify the frequency in number of batches seen.\n"
     ]
    }
   ],
   "source": [
    "checkpoint = ModelCheckpoint(\n",
    "    model_path,          # 저장 디렉토리\n",
    "    monitor='val_loss', \n",
    "    save_weights_only=True, \n",
    "    save_best_only=True, # 점수 개선시에만 저장\n",
    "    period=1, \n",
    ")"
   ]
  },
  {
   "cell_type": "markdown",
   "metadata": {},
   "source": [
    "## fit"
   ]
  },
  {
   "cell_type": "code",
   "execution_count": 10,
   "metadata": {},
   "outputs": [
    {
     "name": "stdout",
     "output_type": "stream",
     "text": [
      "Epoch 1/100\n",
      "62/62 [==============================] - 1s 4ms/step - loss: 5.8121 - accuracy: 0.4951 - val_loss: 2.9413 - val_accuracy: 0.6299\n",
      "Epoch 2/100\n",
      "62/62 [==============================] - 0s 2ms/step - loss: 2.8533 - accuracy: 0.5375 - val_loss: 1.6776 - val_accuracy: 0.6234\n",
      "Epoch 3/100\n",
      "62/62 [==============================] - 0s 2ms/step - loss: 1.6724 - accuracy: 0.5586 - val_loss: 1.2657 - val_accuracy: 0.5065\n",
      "Epoch 4/100\n",
      "62/62 [==============================] - 0s 2ms/step - loss: 1.2338 - accuracy: 0.5700 - val_loss: 1.1907 - val_accuracy: 0.6883\n",
      "Epoch 5/100\n",
      "62/62 [==============================] - 0s 2ms/step - loss: 1.0547 - accuracy: 0.5961 - val_loss: 0.9965 - val_accuracy: 0.6688\n",
      "Epoch 6/100\n",
      "62/62 [==============================] - 0s 2ms/step - loss: 0.9037 - accuracy: 0.6140 - val_loss: 0.9206 - val_accuracy: 0.6494\n",
      "Epoch 7/100\n",
      "62/62 [==============================] - 0s 2ms/step - loss: 0.8012 - accuracy: 0.6189 - val_loss: 0.9082 - val_accuracy: 0.6883\n",
      "Epoch 8/100\n",
      "62/62 [==============================] - 0s 4ms/step - loss: 0.7541 - accuracy: 0.6319 - val_loss: 0.8510 - val_accuracy: 0.7013\n",
      "Epoch 9/100\n",
      "62/62 [==============================] - 0s 4ms/step - loss: 0.7161 - accuracy: 0.6352 - val_loss: 0.8302 - val_accuracy: 0.6948\n",
      "Epoch 10/100\n",
      "62/62 [==============================] - 0s 2ms/step - loss: 0.6845 - accuracy: 0.6368 - val_loss: 0.7923 - val_accuracy: 0.6753\n",
      "Epoch 11/100\n",
      "62/62 [==============================] - 0s 1ms/step - loss: 0.6756 - accuracy: 0.6466 - val_loss: 0.7768 - val_accuracy: 0.6688\n",
      "Epoch 12/100\n",
      "62/62 [==============================] - 0s 3ms/step - loss: 0.6594 - accuracy: 0.6531 - val_loss: 0.7798 - val_accuracy: 0.6818\n",
      "Epoch 13/100\n",
      "62/62 [==============================] - 0s 2ms/step - loss: 0.6499 - accuracy: 0.6580 - val_loss: 0.7718 - val_accuracy: 0.6818\n",
      "Epoch 14/100\n",
      "62/62 [==============================] - 0s 2ms/step - loss: 0.6474 - accuracy: 0.6417 - val_loss: 0.7487 - val_accuracy: 0.6818\n",
      "Epoch 15/100\n",
      "62/62 [==============================] - 0s 4ms/step - loss: 0.6424 - accuracy: 0.6564 - val_loss: 0.7713 - val_accuracy: 0.6948\n",
      "Epoch 16/100\n",
      "62/62 [==============================] - 0s 2ms/step - loss: 0.6110 - accuracy: 0.6759 - val_loss: 0.7161 - val_accuracy: 0.6623\n",
      "Epoch 17/100\n",
      "62/62 [==============================] - 0s 3ms/step - loss: 0.6191 - accuracy: 0.6645 - val_loss: 0.7064 - val_accuracy: 0.6818\n",
      "Epoch 18/100\n",
      "62/62 [==============================] - 0s 3ms/step - loss: 0.5995 - accuracy: 0.6694 - val_loss: 0.7125 - val_accuracy: 0.6883\n",
      "Epoch 19/100\n",
      "62/62 [==============================] - 0s 2ms/step - loss: 0.6067 - accuracy: 0.6808 - val_loss: 0.7851 - val_accuracy: 0.6688\n",
      "Epoch 20/100\n",
      "62/62 [==============================] - 0s 3ms/step - loss: 0.6025 - accuracy: 0.6678 - val_loss: 0.6952 - val_accuracy: 0.6753\n",
      "Epoch 21/100\n",
      "62/62 [==============================] - 0s 2ms/step - loss: 0.5904 - accuracy: 0.6889 - val_loss: 0.7228 - val_accuracy: 0.6883\n",
      "Epoch 22/100\n",
      "62/62 [==============================] - 0s 2ms/step - loss: 0.5904 - accuracy: 0.6743 - val_loss: 0.6736 - val_accuracy: 0.6948\n",
      "Epoch 23/100\n",
      "62/62 [==============================] - 0s 2ms/step - loss: 0.5908 - accuracy: 0.6792 - val_loss: 0.6978 - val_accuracy: 0.6688\n",
      "Epoch 24/100\n",
      "62/62 [==============================] - 0s 2ms/step - loss: 0.5821 - accuracy: 0.6710 - val_loss: 0.6752 - val_accuracy: 0.6753\n",
      "Epoch 25/100\n",
      "62/62 [==============================] - 0s 2ms/step - loss: 0.5824 - accuracy: 0.6857 - val_loss: 0.6848 - val_accuracy: 0.6948\n",
      "Epoch 26/100\n",
      "62/62 [==============================] - 0s 2ms/step - loss: 0.5753 - accuracy: 0.6889 - val_loss: 0.6728 - val_accuracy: 0.6494\n",
      "Epoch 27/100\n",
      "62/62 [==============================] - 0s 3ms/step - loss: 0.5829 - accuracy: 0.6710 - val_loss: 0.6923 - val_accuracy: 0.6948\n",
      "Epoch 28/100\n",
      "62/62 [==============================] - 0s 2ms/step - loss: 0.5818 - accuracy: 0.6889 - val_loss: 0.6711 - val_accuracy: 0.7143\n",
      "Epoch 29/100\n",
      "62/62 [==============================] - 0s 2ms/step - loss: 0.5641 - accuracy: 0.7003 - val_loss: 0.6516 - val_accuracy: 0.7143\n",
      "Epoch 30/100\n",
      "62/62 [==============================] - 0s 2ms/step - loss: 0.5676 - accuracy: 0.6873 - val_loss: 0.7366 - val_accuracy: 0.6753\n",
      "Epoch 31/100\n",
      "62/62 [==============================] - 0s 2ms/step - loss: 0.5664 - accuracy: 0.6987 - val_loss: 0.6398 - val_accuracy: 0.7273\n",
      "Epoch 32/100\n",
      "62/62 [==============================] - 0s 2ms/step - loss: 0.5653 - accuracy: 0.6954 - val_loss: 0.6868 - val_accuracy: 0.6883\n",
      "Epoch 33/100\n",
      "62/62 [==============================] - 0s 2ms/step - loss: 0.5570 - accuracy: 0.7020 - val_loss: 0.6361 - val_accuracy: 0.7273\n",
      "Epoch 34/100\n",
      "62/62 [==============================] - 0s 3ms/step - loss: 0.5592 - accuracy: 0.6987 - val_loss: 0.7044 - val_accuracy: 0.6753\n",
      "Epoch 35/100\n",
      "62/62 [==============================] - 0s 2ms/step - loss: 0.5549 - accuracy: 0.7085 - val_loss: 0.6404 - val_accuracy: 0.7078\n",
      "Epoch 36/100\n",
      "62/62 [==============================] - 0s 2ms/step - loss: 0.5585 - accuracy: 0.6922 - val_loss: 0.6307 - val_accuracy: 0.7143\n",
      "Epoch 37/100\n",
      "62/62 [==============================] - 0s 2ms/step - loss: 0.5600 - accuracy: 0.6987 - val_loss: 0.6675 - val_accuracy: 0.6948\n",
      "Epoch 38/100\n",
      "62/62 [==============================] - 0s 3ms/step - loss: 0.5412 - accuracy: 0.7101 - val_loss: 0.6259 - val_accuracy: 0.7273\n",
      "Epoch 39/100\n",
      "62/62 [==============================] - 0s 2ms/step - loss: 0.5560 - accuracy: 0.7182 - val_loss: 0.6242 - val_accuracy: 0.7403\n",
      "Epoch 40/100\n",
      "62/62 [==============================] - 0s 2ms/step - loss: 0.5558 - accuracy: 0.7020 - val_loss: 0.6394 - val_accuracy: 0.7143\n",
      "Epoch 41/100\n",
      "62/62 [==============================] - 0s 2ms/step - loss: 0.5434 - accuracy: 0.7052 - val_loss: 0.6389 - val_accuracy: 0.6688\n",
      "Epoch 42/100\n",
      "62/62 [==============================] - 0s 2ms/step - loss: 0.5388 - accuracy: 0.7231 - val_loss: 0.6307 - val_accuracy: 0.6753\n",
      "Epoch 43/100\n",
      "62/62 [==============================] - 0s 2ms/step - loss: 0.5448 - accuracy: 0.7264 - val_loss: 0.6234 - val_accuracy: 0.7338\n",
      "Epoch 44/100\n",
      "62/62 [==============================] - 0s 2ms/step - loss: 0.5465 - accuracy: 0.7166 - val_loss: 0.6426 - val_accuracy: 0.7078\n",
      "Epoch 45/100\n",
      "62/62 [==============================] - 0s 5ms/step - loss: 0.5353 - accuracy: 0.7199 - val_loss: 0.6313 - val_accuracy: 0.7208\n",
      "Epoch 46/100\n",
      "62/62 [==============================] - 0s 2ms/step - loss: 0.5317 - accuracy: 0.7264 - val_loss: 0.6281 - val_accuracy: 0.7208\n",
      "Epoch 47/100\n",
      "62/62 [==============================] - 0s 2ms/step - loss: 0.5368 - accuracy: 0.7280 - val_loss: 0.6376 - val_accuracy: 0.6948\n",
      "Epoch 48/100\n",
      "62/62 [==============================] - 0s 4ms/step - loss: 0.5355 - accuracy: 0.7117 - val_loss: 0.6318 - val_accuracy: 0.6818\n",
      "Epoch 49/100\n",
      "62/62 [==============================] - 0s 2ms/step - loss: 0.5367 - accuracy: 0.7215 - val_loss: 0.6303 - val_accuracy: 0.7468\n",
      "Epoch 50/100\n",
      "62/62 [==============================] - 0s 2ms/step - loss: 0.5476 - accuracy: 0.7199 - val_loss: 0.6352 - val_accuracy: 0.7013\n",
      "Epoch 51/100\n",
      "62/62 [==============================] - 0s 2ms/step - loss: 0.5426 - accuracy: 0.7068 - val_loss: 0.6398 - val_accuracy: 0.7078\n",
      "Epoch 52/100\n",
      "62/62 [==============================] - 0s 3ms/step - loss: 0.5298 - accuracy: 0.7231 - val_loss: 0.6106 - val_accuracy: 0.7273\n",
      "Epoch 53/100\n",
      "62/62 [==============================] - 0s 2ms/step - loss: 0.5258 - accuracy: 0.7264 - val_loss: 0.6245 - val_accuracy: 0.7143\n",
      "Epoch 54/100\n",
      "62/62 [==============================] - 0s 3ms/step - loss: 0.5233 - accuracy: 0.7264 - val_loss: 0.6141 - val_accuracy: 0.7403\n",
      "Epoch 55/100\n",
      "62/62 [==============================] - 0s 3ms/step - loss: 0.5255 - accuracy: 0.7296 - val_loss: 0.6104 - val_accuracy: 0.7208\n",
      "Epoch 56/100\n",
      "62/62 [==============================] - 0s 3ms/step - loss: 0.5280 - accuracy: 0.7215 - val_loss: 0.6199 - val_accuracy: 0.7208\n",
      "Epoch 57/100\n",
      "62/62 [==============================] - 0s 3ms/step - loss: 0.5256 - accuracy: 0.7362 - val_loss: 0.6182 - val_accuracy: 0.7273\n",
      "Epoch 58/100\n",
      "62/62 [==============================] - 0s 3ms/step - loss: 0.5250 - accuracy: 0.7296 - val_loss: 0.6168 - val_accuracy: 0.7078\n",
      "Epoch 59/100\n",
      "62/62 [==============================] - 0s 3ms/step - loss: 0.5250 - accuracy: 0.7182 - val_loss: 0.6115 - val_accuracy: 0.7273\n",
      "Epoch 60/100\n",
      "62/62 [==============================] - 0s 2ms/step - loss: 0.5242 - accuracy: 0.7264 - val_loss: 0.6092 - val_accuracy: 0.7403\n",
      "Epoch 61/100\n",
      "62/62 [==============================] - 0s 2ms/step - loss: 0.5270 - accuracy: 0.7296 - val_loss: 0.6125 - val_accuracy: 0.7338\n",
      "Epoch 62/100\n",
      "62/62 [==============================] - 0s 2ms/step - loss: 0.5352 - accuracy: 0.7296 - val_loss: 0.6108 - val_accuracy: 0.7273\n",
      "Epoch 63/100\n",
      "62/62 [==============================] - 0s 2ms/step - loss: 0.5226 - accuracy: 0.7264 - val_loss: 0.6131 - val_accuracy: 0.7273\n",
      "Epoch 64/100\n",
      "62/62 [==============================] - 0s 2ms/step - loss: 0.5231 - accuracy: 0.7264 - val_loss: 0.6043 - val_accuracy: 0.7338\n",
      "Epoch 65/100\n",
      "62/62 [==============================] - 0s 1ms/step - loss: 0.5247 - accuracy: 0.7231 - val_loss: 0.6078 - val_accuracy: 0.7338\n",
      "Epoch 66/100\n",
      "62/62 [==============================] - 0s 3ms/step - loss: 0.5169 - accuracy: 0.7427 - val_loss: 0.6634 - val_accuracy: 0.6883\n",
      "Epoch 67/100\n",
      "62/62 [==============================] - 0s 1ms/step - loss: 0.5207 - accuracy: 0.7378 - val_loss: 0.6073 - val_accuracy: 0.7532\n",
      "Epoch 68/100\n",
      "62/62 [==============================] - 0s 2ms/step - loss: 0.5344 - accuracy: 0.7264 - val_loss: 0.5983 - val_accuracy: 0.7338\n",
      "Epoch 69/100\n",
      "62/62 [==============================] - 0s 4ms/step - loss: 0.5308 - accuracy: 0.7264 - val_loss: 0.6068 - val_accuracy: 0.7013\n",
      "Epoch 70/100\n",
      "62/62 [==============================] - 0s 4ms/step - loss: 0.5232 - accuracy: 0.7264 - val_loss: 0.6457 - val_accuracy: 0.7013\n",
      "Epoch 71/100\n",
      "62/62 [==============================] - 0s 2ms/step - loss: 0.5135 - accuracy: 0.7378 - val_loss: 0.6130 - val_accuracy: 0.7208\n",
      "Epoch 72/100\n",
      "62/62 [==============================] - 0s 2ms/step - loss: 0.5162 - accuracy: 0.7345 - val_loss: 0.6024 - val_accuracy: 0.7338\n",
      "Epoch 73/100\n",
      "62/62 [==============================] - 0s 2ms/step - loss: 0.5158 - accuracy: 0.7378 - val_loss: 0.6144 - val_accuracy: 0.7078\n",
      "Epoch 74/100\n",
      "62/62 [==============================] - 0s 2ms/step - loss: 0.5150 - accuracy: 0.7443 - val_loss: 0.6250 - val_accuracy: 0.7078\n",
      "Epoch 75/100\n",
      "62/62 [==============================] - 0s 4ms/step - loss: 0.5119 - accuracy: 0.7378 - val_loss: 0.6060 - val_accuracy: 0.7208\n",
      "Epoch 76/100\n",
      "62/62 [==============================] - 0s 2ms/step - loss: 0.5126 - accuracy: 0.7296 - val_loss: 0.5947 - val_accuracy: 0.7532\n",
      "Epoch 77/100\n",
      "62/62 [==============================] - 0s 2ms/step - loss: 0.5099 - accuracy: 0.7459 - val_loss: 0.6513 - val_accuracy: 0.7078\n",
      "Epoch 78/100\n",
      "62/62 [==============================] - 0s 2ms/step - loss: 0.5140 - accuracy: 0.7378 - val_loss: 0.6084 - val_accuracy: 0.7403\n",
      "Epoch 79/100\n",
      "62/62 [==============================] - 0s 2ms/step - loss: 0.5232 - accuracy: 0.7329 - val_loss: 0.5879 - val_accuracy: 0.7468\n",
      "Epoch 80/100\n",
      "62/62 [==============================] - 0s 2ms/step - loss: 0.5227 - accuracy: 0.7378 - val_loss: 0.6075 - val_accuracy: 0.7338\n",
      "Epoch 81/100\n",
      "62/62 [==============================] - 0s 2ms/step - loss: 0.5250 - accuracy: 0.7394 - val_loss: 0.6590 - val_accuracy: 0.7143\n",
      "Epoch 82/100\n",
      "62/62 [==============================] - 0s 2ms/step - loss: 0.5107 - accuracy: 0.7378 - val_loss: 0.6449 - val_accuracy: 0.6883\n",
      "Epoch 83/100\n",
      "62/62 [==============================] - 0s 3ms/step - loss: 0.5092 - accuracy: 0.7362 - val_loss: 0.6211 - val_accuracy: 0.7078\n",
      "Epoch 84/100\n",
      "62/62 [==============================] - 0s 2ms/step - loss: 0.5086 - accuracy: 0.7410 - val_loss: 0.5972 - val_accuracy: 0.7273\n",
      "Epoch 85/100\n",
      "62/62 [==============================] - 0s 2ms/step - loss: 0.5101 - accuracy: 0.7410 - val_loss: 0.6279 - val_accuracy: 0.7143\n",
      "Epoch 86/100\n",
      "62/62 [==============================] - 0s 3ms/step - loss: 0.5017 - accuracy: 0.7410 - val_loss: 0.5999 - val_accuracy: 0.7273\n",
      "Epoch 87/100\n",
      "62/62 [==============================] - 0s 2ms/step - loss: 0.5069 - accuracy: 0.7443 - val_loss: 0.6325 - val_accuracy: 0.7143\n",
      "Epoch 88/100\n",
      "62/62 [==============================] - 0s 2ms/step - loss: 0.5261 - accuracy: 0.7410 - val_loss: 0.6188 - val_accuracy: 0.7013\n",
      "Epoch 89/100\n",
      "62/62 [==============================] - 0s 2ms/step - loss: 0.5114 - accuracy: 0.7508 - val_loss: 0.6245 - val_accuracy: 0.6948\n"
     ]
    }
   ],
   "source": [
    "history = model.fit(\n",
    "    X, y, \n",
    "    batch_size=10, \n",
    "    epochs=100, \n",
    "    verbose='auto', \n",
    "    callbacks=[stopping, checkpoint], \n",
    "    validation_split=0.2, \n",
    "    shuffle=True, \n",
    ")"
   ]
  },
  {
   "cell_type": "markdown",
   "metadata": {},
   "source": [
    "## evaluate"
   ]
  },
  {
   "cell_type": "code",
   "execution_count": 11,
   "metadata": {},
   "outputs": [
    {
     "data": {
      "text/plain": [
       "dict_keys(['loss', 'accuracy', 'val_loss', 'val_accuracy'])"
      ]
     },
     "execution_count": 11,
     "metadata": {},
     "output_type": "execute_result"
    }
   ],
   "source": [
    "history.history.keys()"
   ]
  },
  {
   "cell_type": "code",
   "execution_count": 12,
   "metadata": {},
   "outputs": [],
   "source": [
    "train_loss = history.history['loss']\n",
    "val_loss   = history.history['val_loss']\n",
    "train_acc  = history.history['accuracy']\n",
    "val_acc    = history.history['val_accuracy']"
   ]
  },
  {
   "cell_type": "code",
   "execution_count": 13,
   "metadata": {},
   "outputs": [
    {
     "data": {
      "image/png": "[encoded data removed]",
      "text/plain": [
       "<Figure size 576x432 with 1 Axes>"
      ]
     },
     "metadata": {},
     "output_type": "display_data"
    }
   ],
   "source": [
    "f = plt.subplots(figsize=(8, 6))\n",
    "plt.plot(np.arange(len(train_loss)), train_loss, c='r', label='train')\n",
    "plt.plot(np.arange(len(train_loss)), val_loss, c='b', label='val')\n",
    "plt.legend(); plt.show()"
   ]
  },
  {
   "cell_type": "code",
   "execution_count": 14,
   "metadata": {},
   "outputs": [
    {
     "data": {
      "image/png": "[encoded data removed]",
      "text/plain": [
       "<Figure size 576x432 with 1 Axes>"
      ]
     },
     "metadata": {},
     "output_type": "display_data"
    }
   ],
   "source": [
    "f = plt.subplots(figsize=(8, 6))\n",
    "plt.plot(np.arange(len(train_acc)), train_acc, c='r', label='train_acc')\n",
    "plt.plot(np.arange(len(train_acc)), val_acc, c='b', label='val_acc')\n",
    "plt.legend(); plt.show()"
   ]
  }
 ],
 "metadata": {
  "interpreter": {
   "hash": "c3102799280f1ed23787b1be8e33b065cea14d14e60df4daed798ef8bab0b32c"
  },
  "kernelspec": {
   "display_name": "Python 3.8.8 64-bit ('venv': venv)",
   "name": "python3"
  },
  "language_info": {
   "codemirror_mode": {
    "name": "ipython",
    "version": 3
   },
   "file_extension": ".py",
   "mimetype": "text/x-python",
   "name": "python",
   "nbconvert_exporter": "python",
   "pygments_lexer": "ipython3",
   "version": "3.8.8"
  },
  "orig_nbformat": 4
 },
 "nbformat": 4,
 "nbformat_minor": 2
}
