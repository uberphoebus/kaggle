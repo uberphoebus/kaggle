{
 "cells": [
  {
   "cell_type": "markdown",
   "id": "702b2390-7da2-44ea-afb4-2de56a820df0",
   "metadata": {},
   "source": [
    "<img src='https://storage.googleapis.com/kaggle-datasets-images/228/482/a520351269b547c89afe790820a1087e/dataset-cover.jpeg'>\n",
    "* ref : kaggle  : https://www.kaggle.com/uciml/pima-indians-diabetes-database\n",
    "    \n",
    "    "
   ]
  },
  {
   "cell_type": "markdown",
   "id": "153a7f74-bb43-4f08-b9d5-4f79aa39982d",
   "metadata": {},
   "source": [
    "## Pima Indians Diabetes Database\n",
    "* Predict the onset of diabetes based on diagnostic measures\n",
    "* UCI Machine Learning - updated 5 years ago (Version 1)"
   ]
  },
  {
   "cell_type": "code",
   "execution_count": 6,
   "id": "f5c49949-987b-4d54-a29a-b725ce77be39",
   "metadata": {},
   "outputs": [],
   "source": [
    "import numpy as np\n",
    "import pandas as pd\n",
    "from sklearn.model_selection import train_test_split\n",
    "from sklearn.tree import DecisionTreeClassifier\n",
    "from sklearn.ensemble import RandomForestClassifier\n",
    "from sklearn.metrics import accuracy_score\n",
    "import matplotlib.pyplot as plt\n",
    "import seaborn as sns\n",
    "\n",
    "import warnings\n",
    "warnings.filterwarnings(action='ignore')"
   ]
  },
  {
   "cell_type": "code",
   "execution_count": 7,
   "id": "1713a559-5e64-4d24-add6-139733c16982",
   "metadata": {},
   "outputs": [
    {
     "name": "stdout",
     "output_type": "stream",
     "text": [
      "<class 'pandas.core.frame.DataFrame'>\n",
      "RangeIndex: 768 entries, 0 to 767\n",
      "Data columns (total 9 columns):\n",
      " #   Column                    Non-Null Count  Dtype  \n",
      "---  ------                    --------------  -----  \n",
      " 0   Pregnancies               768 non-null    int64  \n",
      " 1   Glucose                   768 non-null    int64  \n",
      " 2   BloodPressure             768 non-null    int64  \n",
      " 3   SkinThickness             768 non-null    int64  \n",
      " 4   Insulin                   768 non-null    int64  \n",
      " 5   BMI                       768 non-null    float64\n",
      " 6   DiabetesPedigreeFunction  768 non-null    float64\n",
      " 7   Age                       768 non-null    int64  \n",
      " 8   Outcome                   768 non-null    int64  \n",
      "dtypes: float64(2), int64(7)\n",
      "memory usage: 54.1 KB\n",
      "None\n"
     ]
    }
   ],
   "source": [
    "\n",
    "df = pd.read_csv(\"C:/AI/pythonProject/venv/0_kaggle/02_pima/input/diabetes.csv\")\n",
    "print(df.info())\n",
    "pd.re"
   ]
  },
  {
   "cell_type": "code",
   "execution_count": 3,
   "id": "17477e48-e365-42b0-a5c5-396ea0cec5b3",
   "metadata": {},
   "outputs": [
    {
     "data": {
      "text/plain": [
       "(768, 9)"
      ]
     },
     "execution_count": 3,
     "metadata": {},
     "output_type": "execute_result"
    }
   ],
   "source": [
    "df.shape"
   ]
  },
  {
   "cell_type": "code",
   "execution_count": 4,
   "id": "16e02a46-b21f-4903-9957-d4295d0a8b67",
   "metadata": {},
   "outputs": [
    {
     "data": {
      "text/html": [
       "<div>\n",
       "<style scoped>\n",
       "    .dataframe tbody tr th:only-of-type {\n",
       "        vertical-align: middle;\n",
       "    }\n",
       "\n",
       "    .dataframe tbody tr th {\n",
       "        vertical-align: top;\n",
       "    }\n",
       "\n",
       "    .dataframe thead th {\n",
       "        text-align: right;\n",
       "    }\n",
       "</style>\n",
       "<table border=\"1\" class=\"dataframe\">\n",
       "  <thead>\n",
       "    <tr style=\"text-align: right;\">\n",
       "      <th></th>\n",
       "      <th>Pregnancies</th>\n",
       "      <th>Glucose</th>\n",
       "      <th>BloodPressure</th>\n",
       "      <th>SkinThickness</th>\n",
       "      <th>Insulin</th>\n",
       "      <th>BMI</th>\n",
       "      <th>DiabetesPedigreeFunction</th>\n",
       "      <th>Age</th>\n",
       "      <th>Outcome</th>\n",
       "    </tr>\n",
       "  </thead>\n",
       "  <tbody>\n",
       "    <tr>\n",
       "      <th>0</th>\n",
       "      <td>6</td>\n",
       "      <td>148</td>\n",
       "      <td>72</td>\n",
       "      <td>35</td>\n",
       "      <td>0</td>\n",
       "      <td>33.6</td>\n",
       "      <td>0.627</td>\n",
       "      <td>50</td>\n",
       "      <td>1</td>\n",
       "    </tr>\n",
       "    <tr>\n",
       "      <th>1</th>\n",
       "      <td>1</td>\n",
       "      <td>85</td>\n",
       "      <td>66</td>\n",
       "      <td>29</td>\n",
       "      <td>0</td>\n",
       "      <td>26.6</td>\n",
       "      <td>0.351</td>\n",
       "      <td>31</td>\n",
       "      <td>0</td>\n",
       "    </tr>\n",
       "    <tr>\n",
       "      <th>2</th>\n",
       "      <td>8</td>\n",
       "      <td>183</td>\n",
       "      <td>64</td>\n",
       "      <td>0</td>\n",
       "      <td>0</td>\n",
       "      <td>23.3</td>\n",
       "      <td>0.672</td>\n",
       "      <td>32</td>\n",
       "      <td>1</td>\n",
       "    </tr>\n",
       "    <tr>\n",
       "      <th>3</th>\n",
       "      <td>1</td>\n",
       "      <td>89</td>\n",
       "      <td>66</td>\n",
       "      <td>23</td>\n",
       "      <td>94</td>\n",
       "      <td>28.1</td>\n",
       "      <td>0.167</td>\n",
       "      <td>21</td>\n",
       "      <td>0</td>\n",
       "    </tr>\n",
       "    <tr>\n",
       "      <th>4</th>\n",
       "      <td>0</td>\n",
       "      <td>137</td>\n",
       "      <td>40</td>\n",
       "      <td>35</td>\n",
       "      <td>168</td>\n",
       "      <td>43.1</td>\n",
       "      <td>2.288</td>\n",
       "      <td>33</td>\n",
       "      <td>1</td>\n",
       "    </tr>\n",
       "  </tbody>\n",
       "</table>\n",
       "</div>"
      ],
      "text/plain": [
       "   Pregnancies  Glucose  BloodPressure  SkinThickness  Insulin   BMI  \\\n",
       "0            6      148             72             35        0  33.6   \n",
       "1            1       85             66             29        0  26.6   \n",
       "2            8      183             64              0        0  23.3   \n",
       "3            1       89             66             23       94  28.1   \n",
       "4            0      137             40             35      168  43.1   \n",
       "\n",
       "   DiabetesPedigreeFunction  Age  Outcome  \n",
       "0                     0.627   50        1  \n",
       "1                     0.351   31        0  \n",
       "2                     0.672   32        1  \n",
       "3                     0.167   21        0  \n",
       "4                     2.288   33        1  "
      ]
     },
     "execution_count": 4,
     "metadata": {},
     "output_type": "execute_result"
    }
   ],
   "source": [
    "df.head()"
   ]
  },
  {
   "cell_type": "markdown",
   "id": "315388c0-7dfd-4a8c-87ef-35bb50d296e7",
   "metadata": {
    "tags": []
   },
   "source": [
    "## 우선 점수부터 보자\n",
    "---------------------------------------\n",
    "* 1. str X  \n",
    "* 2. nan"
   ]
  },
  {
   "cell_type": "code",
   "execution_count": 5,
   "id": "1e058e2d-9717-4a20-982d-5fdfec0d556e",
   "metadata": {},
   "outputs": [],
   "source": [
    "def split_fit_score(문제지,정답지, model=None, test_size=0.2):\n",
    "    \n",
    "    문제지8, 문제지2 ,  정답지8, 정답지2 = train_test_split(문제지,정답지,\n",
    "                 test_size=test_size,\n",
    "                 random_state=1414,\n",
    "                 shuffle=False)\n",
    "    model.fit(문제지8, 정답지8)\n",
    "    컴퓨터답2 = model.predict(문제지2)\n",
    "    score = accuracy_score(정답지2, 컴퓨터답2)\n",
    "    print(\"1차점수 : accuracy:\", score)   #0.7662337662337663"
   ]
  },
  {
   "cell_type": "code",
   "execution_count": 6,
   "id": "45b5e209-9e46-40d9-a2a6-956f0d9f74c0",
   "metadata": {},
   "outputs": [
    {
     "name": "stdout",
     "output_type": "stream",
     "text": [
      "1차점수 : accuracy: 0.7597402597402597\n"
     ]
    }
   ],
   "source": [
    "# model = DecisionTreeClassifier(random_state=1414)                 #0.6948051948051948\n",
    "model = RandomForestClassifier(n_estimators=500,random_state=1414)  #0.7597402597402597\n",
    "                                                                    #0.779220779220779\n",
    "정답지 = df['Outcome']\n",
    "문제지 = df.drop('Outcome', axis=1)\n",
    "split_fit_score(문제지,정답지,model)\n",
    "\n",
    "# 문제지8, 문제지2 ,  정답지8, 정답지2 = train_test_split(문제지,정답지,\n",
    "#                  test_size=0.2,\n",
    "#                  random_state=1414,\n",
    "#                  shuffle=False)\n",
    "# model.fit(문제지8, 정답지8)\n",
    "# 컴퓨터답2 = model.predict(문제지2)\n",
    "# score = accuracy_score(정답지2, 컴퓨터답2)\n",
    "# print(\"1차점수 : accuracy:\", score)   #0.7662337662337663"
   ]
  },
  {
   "cell_type": "code",
   "execution_count": 7,
   "id": "a0e55860-e720-43e8-b8b1-629582b7916f",
   "metadata": {},
   "outputs": [
    {
     "data": {
      "image/png": "[encoded data removed]",
      "text/plain": [
       "<Figure size 432x288 with 9 Axes>"
      ]
     },
     "metadata": {},
     "output_type": "display_data"
    }
   ],
   "source": [
    "sns.set()\n",
    "df.hist()\n",
    "plt.show()"
   ]
  },
  {
   "cell_type": "markdown",
   "id": "ef40e491-08a8-4ec8-8008-3845b5948e86",
   "metadata": {
    "tags": []
   },
   "source": [
    "## EDA & Engineering\n",
    "* 이상치 데이터 : 0 \n",
    "* 왜도(skew) : 정규분포화, 표준화"
   ]
  },
  {
   "cell_type": "code",
   "execution_count": 8,
   "id": "8972ad87-3a4e-4d40-aa0d-d6070bcb2667",
   "metadata": {},
   "outputs": [
    {
     "data": {
      "text/plain": [
       "Index(['Pregnancies', 'Glucose', 'BloodPressure', 'SkinThickness', 'Insulin',\n",
       "       'BMI', 'DiabetesPedigreeFunction', 'Age', 'Outcome'],\n",
       "      dtype='object')"
      ]
     },
     "execution_count": 8,
     "metadata": {},
     "output_type": "execute_result"
    }
   ],
   "source": [
    "df.columns"
   ]
  },
  {
   "cell_type": "code",
   "execution_count": 9,
   "id": "7cdad21c-48b9-4948-ad0f-cb409c8c56a7",
   "metadata": {},
   "outputs": [],
   "source": [
    "zero_cols = ['Glucose', 'BloodPressure', 'SkinThickness', 'Insulin','BMI']"
   ]
  },
  {
   "cell_type": "code",
   "execution_count": 10,
   "id": "39a9d772-ebfe-4bcb-82e9-68048d08bdc4",
   "metadata": {},
   "outputs": [
    {
     "name": "stdout",
     "output_type": "stream",
     "text": [
      "5 763\n"
     ]
    }
   ],
   "source": [
    "#df[Glucose==0][Glucose]\n",
    "print(df[df['Glucose']==0]['Glucose'].count(), df[df['Glucose']!=0]['Glucose'].count())"
   ]
  },
  {
   "cell_type": "code",
   "execution_count": 11,
   "id": "6903b1e2-9a62-4bbe-be9f-9a7e5f3ac645",
   "metadata": {},
   "outputs": [
    {
     "name": "stdout",
     "output_type": "stream",
     "text": [
      "Glucose 0.6510416666666667 99.34895833333334\n",
      "BloodPressure 4.557291666666666 95.44270833333334\n",
      "SkinThickness 29.557291666666668 70.44270833333334\n",
      "Insulin 48.69791666666667 51.302083333333336\n",
      "BMI 1.4322916666666665 98.56770833333334\n"
     ]
    }
   ],
   "source": [
    "for COL in zero_cols:\n",
    "    print(COL, df[df[COL]==0][COL].count()/df.shape[0]*100, df[df[COL]!=0][COL].count()/df.shape[0]*100)\n",
    "    "
   ]
  },
  {
   "cell_type": "markdown",
   "id": "5795f65b-2201-4de3-a1a5-410ad135f951",
   "metadata": {},
   "source": [
    "####  zero_cols : (0/1   &  나이구간별) 평균 --> 0 채우기"
   ]
  },
  {
   "cell_type": "code",
   "execution_count": 12,
   "id": "727fce08-319f-4ac1-8bd1-395b5f0f29b9",
   "metadata": {},
   "outputs": [
    {
     "data": {
      "text/plain": [
       "69.10546875"
      ]
     },
     "execution_count": 12,
     "metadata": {},
     "output_type": "execute_result"
    }
   ],
   "source": [
    "df['BloodPressure'].mean()"
   ]
  },
  {
   "cell_type": "code",
   "execution_count": 13,
   "id": "a7e3fa75-e0f2-4214-b41a-4a34160bff9e",
   "metadata": {},
   "outputs": [
    {
     "data": {
      "text/plain": [
       "count    768.000000\n",
       "mean      33.240885\n",
       "std       11.760232\n",
       "min       21.000000\n",
       "25%       24.000000\n",
       "50%       29.000000\n",
       "75%       41.000000\n",
       "max       81.000000\n",
       "Name: Age, dtype: float64"
      ]
     },
     "execution_count": 13,
     "metadata": {},
     "output_type": "execute_result"
    }
   ],
   "source": [
    "df['Age'].describe() "
   ]
  },
  {
   "cell_type": "code",
   "execution_count": 14,
   "id": "a8e22ca0-cfad-482b-b3bc-14ca29d9df7e",
   "metadata": {},
   "outputs": [
    {
     "data": {
      "text/plain": [
       "[4, 3, 1, 2]\n",
       "Categories (4, int64): [1 < 2 < 3 < 4]"
      ]
     },
     "execution_count": 14,
     "metadata": {},
     "output_type": "execute_result"
    }
   ],
   "source": [
    "df['Age'].describe() \n",
    "#min : 21 ~ max : 81   --> 20 30 40 50 60 70 80 \n",
    "# df['Age_band'] = df['Age']//20\n",
    "\n",
    "df['Age_band'] = pd.cut(df['Age'], bins=[0,20,24,29,41,82,150],labels=[0,1,2,3,4,5] )\n",
    "df[['Age','Age_band']].head() \n",
    "df['Age_band'].unique()"
   ]
  },
  {
   "cell_type": "code",
   "execution_count": 15,
   "id": "b7e069bb-d513-48ce-ae6c-7b3080733d3a",
   "metadata": {},
   "outputs": [
    {
     "data": {
      "text/plain": [
       "Outcome  Age_band\n",
       "0        0                 NaN\n",
       "         1           66.839779\n",
       "         2           70.203390\n",
       "         3           73.574257\n",
       "         4           77.518519\n",
       "         5                 NaN\n",
       "1        0                 NaN\n",
       "         1           71.586207\n",
       "         2           71.250000\n",
       "         3           74.149425\n",
       "         4           79.931818\n",
       "         5                 NaN\n",
       "Name: BloodPressure, dtype: float64"
      ]
     },
     "execution_count": 15,
     "metadata": {},
     "output_type": "execute_result"
    }
   ],
   "source": [
    "# select Age_band, avg(BloodPressure) from emp group by Age_band;\n",
    "# df[조건].groupby()[컬럼]  Glucose\n",
    "df[df['BloodPressure']>0].groupby(['Outcome','Age_band'])['BloodPressure'].mean()\n"
   ]
  },
  {
   "cell_type": "code",
   "execution_count": null,
   "id": "61363a61-d17c-49cb-89d7-235910eaebd5",
   "metadata": {},
   "outputs": [],
   "source": [
    "for COL in zero_cols:\n",
    "    print(COL,  df[df[COL]>0].groupby(['Outcome','Age_band'])[COL].mean())\n",
    "    print(\"---\"*10)\n",
    "    "
   ]
  },
  {
   "cell_type": "markdown",
   "id": "8e56ebd5-1dbe-4dfb-9b66-a61eb1533933",
   "metadata": {},
   "source": [
    "### 이상값(0) 채우기\n",
    "* Insulin        : Outcome  Age_band\n",
    "* BloodPressure  : Outcome  Age_band\n",
    "* Glucose        : Outcome  Age_band\n",
    "---\n",
    "* BMI           : Outcome\n",
    "* SkinThickness : Outcome\n",
    "\n"
   ]
  },
  {
   "cell_type": "code",
   "execution_count": 17,
   "id": "9c2392ca-3143-4372-852a-4d21b05bbe44",
   "metadata": {},
   "outputs": [],
   "source": [
    "df[zero_cols] = df[zero_cols].replace(0, np.nan)\n",
    "# df.fillna(  df[zero_cols].transpose( _____ )   )\n",
    "# df.isna().sum()"
   ]
  },
  {
   "cell_type": "code",
   "execution_count": 18,
   "id": "eca4f080-e077-4caa-a99d-2542c9b2a032",
   "metadata": {},
   "outputs": [],
   "source": [
    "df[\"Insulin\"]       = df[\"Insulin\"].fillna(df.groupby(by=[\"Outcome\",\"Age_band\"])[\"Insulin\"].transform('mean'))\n",
    "df[\"BloodPressure\"] = df[\"BloodPressure\"].fillna(df.groupby(by=[\"Outcome\",\"Age_band\"])[\"BloodPressure\"].transform('mean'))\n",
    "df[\"Glucose\"]       = df[\"Glucose\"].fillna(df.groupby(by=[\"Outcome\",\"Age_band\"])[\"Glucose\"].transform('mean'))\n",
    "\n",
    "df[\"BMI\"]           = df[\"BMI\"].fillna(df.groupby(by=\"Outcome\")[\"BMI\"].transform('mean'))\n",
    "df[\"SkinThickness\"] = df[\"SkinThickness\"].fillna(df.groupby(by=\"Outcome\")[\"SkinThickness\"].transform('mean'))"
   ]
  },
  {
   "cell_type": "code",
   "execution_count": 19,
   "id": "41077929-dc2e-48c1-8ff3-83a4d7a7a071",
   "metadata": {},
   "outputs": [
    {
     "data": {
      "text/plain": [
       "Pregnancies                 0\n",
       "Glucose                     0\n",
       "BloodPressure               0\n",
       "SkinThickness               0\n",
       "Insulin                     0\n",
       "BMI                         0\n",
       "DiabetesPedigreeFunction    0\n",
       "Age                         0\n",
       "Outcome                     0\n",
       "Age_band                    0\n",
       "dtype: int64"
      ]
     },
     "execution_count": 19,
     "metadata": {},
     "output_type": "execute_result"
    }
   ],
   "source": [
    "df.isna().sum()"
   ]
  },
  {
   "cell_type": "code",
   "execution_count": 20,
   "id": "26501851-b430-40fa-afa2-630e421791b7",
   "metadata": {},
   "outputs": [
    {
     "data": {
      "image/png": "[encoded data removed]",
      "text/plain": [
       "<Figure size 432x288 with 9 Axes>"
      ]
     },
     "metadata": {},
     "output_type": "display_data"
    }
   ],
   "source": [
    "df.hist()\n",
    "plt.show()"
   ]
  },
  {
   "cell_type": "markdown",
   "id": "f270a929-79fd-4701-9f83-02ee56b10f58",
   "metadata": {},
   "source": [
    "## 2차 점수 확인 : 스케일링"
   ]
  },
  {
   "cell_type": "code",
   "execution_count": 21,
   "id": "65e47aa0-7f97-41e1-8810-0ed665643744",
   "metadata": {},
   "outputs": [
    {
     "name": "stdout",
     "output_type": "stream",
     "text": [
      "1차점수 : accuracy: 0.8441558441558441\n"
     ]
    }
   ],
   "source": [
    "정답지 = df['Outcome']\n",
    "문제지 = df.drop('Outcome', axis=1)\n",
    "split_fit_score(문제지,정답지,model)  #0.8441558441558441"
   ]
  },
  {
   "cell_type": "markdown",
   "id": "385ee75e-e0a3-4665-9171-1d0267c9cf99",
   "metadata": {},
   "source": [
    "## 스케일링 : 정규화, 단위맞추기"
   ]
  },
  {
   "cell_type": "code",
   "execution_count": 22,
   "id": "f6dfe0eb-ba97-453f-a116-e6a84daceb05",
   "metadata": {},
   "outputs": [],
   "source": [
    "from sklearn.preprocessing import MinMaxScaler, RobustScaler, StandardScaler"
   ]
  },
  {
   "cell_type": "code",
   "execution_count": 23,
   "id": "64371330-6c6c-4e1a-b767-c9e387230a15",
   "metadata": {},
   "outputs": [
    {
     "name": "stdout",
     "output_type": "stream",
     "text": [
      "MinMaxScaler\n",
      "1차점수 : accuracy: 0.8441558441558441\n",
      "RobustScaler\n",
      "1차점수 : accuracy: 0.8441558441558441\n",
      "StandardScaler\n",
      "1차점수 : accuracy: 0.8441558441558441\n"
     ]
    }
   ],
   "source": [
    "# mm = StandardScaler()\n",
    "# mm.fit(문제지)                       #비율계산\n",
    "# scaler_문제지 = mm.transform(문제지)  #계산반영해\n",
    "# split_fit_score(scaler_문제지, 정답지, model)   #0.8441558441558441\n",
    "\n",
    "scalers = [MinMaxScaler(), RobustScaler(), StandardScaler()]\n",
    "for mm in scalers:\n",
    "    mm.fit(문제지)                       #비율계산\n",
    "    scaler_문제지 = mm.transform(문제지)  #계산반영해\n",
    "    print(mm.__class__.__name__)\n",
    "    split_fit_score(scaler_문제지, 정답지, model)   #0.8441558441558441    "
   ]
  },
  {
   "cell_type": "markdown",
   "id": "cf7d180f-d3ac-4cfd-aad8-63efafdbe2ce",
   "metadata": {},
   "source": [
    "## 3차 점수 확인 : 모델변경"
   ]
  },
  {
   "cell_type": "markdown",
   "id": "8062125e-6557-4b2c-8ecf-5265a8dcfe79",
   "metadata": {},
   "source": [
    "## 모델 변경 : Boost 계열"
   ]
  },
  {
   "cell_type": "code",
   "execution_count": 24,
   "id": "6ffd8859-051f-4369-ab10-e3ecaca36083",
   "metadata": {},
   "outputs": [],
   "source": [
    "# !pip install xgboost\n",
    "# !pip install lightgbm"
   ]
  },
  {
   "cell_type": "code",
   "execution_count": 25,
   "id": "4361fe64-3b3b-4442-a554-017cccdf7f4a",
   "metadata": {},
   "outputs": [],
   "source": [
    "import xgboost as xgb\n",
    "# import lightgbm"
   ]
  },
  {
   "cell_type": "code",
   "execution_count": 26,
   "id": "5427432c-899f-4fd5-b091-cae030bed647",
   "metadata": {},
   "outputs": [
    {
     "name": "stdout",
     "output_type": "stream",
     "text": [
      "[08:25:57] WARNING: C:/Users/Administrator/workspace/xgboost-win64_release_1.4.0/src/learner.cc:1095: Starting in XGBoost 1.3.0, the default evaluation metric used with the objective 'binary:logistic' was changed from 'error' to 'logloss'. Explicitly set eval_metric if you'd like to restore the old behavior.\n",
      "1차점수 : accuracy: 0.8636363636363636\n"
     ]
    }
   ],
   "source": [
    "xgmodel = xgb.XGBClassifier(n_estimators=300, objective=\"binary:logistic\")   #logloss\n",
    "split_fit_score(scaler_문제지, 정답지, xgmodel)   \n",
    "# 0.8441558441558441    \n",
    "# 0.8571428571428571\n",
    "# 0.8636363636363636\n"
   ]
  },
  {
   "cell_type": "markdown",
   "id": "1b9b1695-c0df-4451-b7e9-acc126e20f91",
   "metadata": {
    "tags": []
   },
   "source": [
    "## 검증\n",
    "* 교차 검증(cross_val_score) : 데이터 N배 증강시켜 순차적 학습, (점수)\n",
    "* 폴드(KFold, StratifiedKFold)  : 데이터 N배 증강시켜 순차적 학습, (점수,과정)\n",
    "* 그리드서치(GridSearch)***   : 데이터 N배 증강시켜 순차적 학습,  (점수, 과정, 모델튜닝)"
   ]
  },
  {
   "cell_type": "code",
   "execution_count": 27,
   "id": "d3fb18ec-201e-48c1-a1c3-ab412030d6bd",
   "metadata": {},
   "outputs": [
    {
     "name": "stdout",
     "output_type": "stream",
     "text": [
      "fold accuracy: 0.9155844155844156\n",
      "fold accuracy: 0.8961038961038961\n",
      "fold accuracy: 0.8246753246753247\n",
      "fold accuracy: 0.8300653594771242\n",
      "fold accuracy: 0.8431372549019608\n",
      "평균 0.8619132501485444\n",
      "평균 0.8619132501485444\n"
     ]
    }
   ],
   "source": [
    "from sklearn.model_selection import KFold, StratifiedKFold\n",
    "\n",
    "total_score = []\n",
    "\n",
    "# kfold = KFold(n_splits=5, random_state=1414, shuffle=True)\n",
    "# for train_index, test_index in kfold.split(문제지):\n",
    "\n",
    "skfold = StratifiedKFold(n_splits=5, random_state=1414, shuffle=True)\n",
    "for train_index, test_index in skfold.split(문제지, 정답지):\n",
    "    문제지8, 문제지2 = 문제지.iloc[train_index], 문제지.iloc[test_index]\n",
    "    정답지8, 정답지2 = 정답지.iloc[train_index], 정답지.iloc[test_index]\n",
    "   #train_test_split(문제지,정답지, test_sizse=0.2, random_state=1414, shuffle=False) ----\n",
    "    model.fit(문제지8, 정답지8)\n",
    "    컴퓨터답2 = model.predict(문제지2)\n",
    "    score = accuracy_score(정답지2, 컴퓨터답2)\n",
    "    print(\"fold accuracy:\", score)  \n",
    "    total_score.append(score)\n",
    "    ####return np.array(total_score)\n",
    "\n",
    "print(\"평균\", sum(total_score) / len(total_score))\n",
    "print(\"평균\", np.array(total_score).mean())  #평균 0.8658772599949071"
   ]
  },
  {
   "cell_type": "markdown",
   "id": "4c7dc2d4-3bbd-46b7-9043-933a4918984f",
   "metadata": {},
   "source": [
    "#### <font color=red> [참고] XGBoost로 CV할 경우 : sklean의 estimator가 아니기 때문에 다음과 같이 사용 </font>  \n",
    "\n",
    "* ref : https://rdrr.io/cran/xgboost/man/xgb.cv.html\n",
    "* 2020.09.27 기준 : https://machinelearningmastery.com/evaluate-gradient-boosting-models-xgboost-python/"
   ]
  },
  {
   "cell_type": "code",
   "execution_count": 28,
   "id": "aa1dbce5-51cf-4d26-bb6e-48bf1bac778a",
   "metadata": {},
   "outputs": [
    {
     "name": "stdout",
     "output_type": "stream",
     "text": [
      "[08:26:04] WARNING: C:/Users/Administrator/workspace/xgboost-win64_release_1.4.0/src/learner.cc:573: \n",
      "Parameters: { \"n_estimators\" } might not be used.\n",
      "\n",
      "  This may not be accurate due to some parameters are only used in language bindings but\n",
      "  passed down to XGBoost core.  Or some parameters are not used but slip through this\n",
      "  verification. Please open an issue if you find above cases.\n",
      "\n",
      "\n",
      "[08:26:04] WARNING: C:/Users/Administrator/workspace/xgboost-win64_release_1.4.0/src/learner.cc:573: \n",
      "Parameters: { \"n_estimators\" } might not be used.\n",
      "\n",
      "  This may not be accurate due to some parameters are only used in language bindings but\n",
      "  passed down to XGBoost core.  Or some parameters are not used but slip through this\n",
      "  verification. Please open an issue if you find above cases.\n",
      "\n",
      "\n",
      "[08:26:04] WARNING: C:/Users/Administrator/workspace/xgboost-win64_release_1.4.0/src/learner.cc:573: \n",
      "Parameters: { \"n_estimators\" } might not be used.\n",
      "\n",
      "  This may not be accurate due to some parameters are only used in language bindings but\n",
      "  passed down to XGBoost core.  Or some parameters are not used but slip through this\n",
      "  verification. Please open an issue if you find above cases.\n",
      "\n",
      "\n",
      "[08:26:04] WARNING: C:/Users/Administrator/workspace/xgboost-win64_release_1.4.0/src/learner.cc:573: \n",
      "Parameters: { \"n_estimators\" } might not be used.\n",
      "\n",
      "  This may not be accurate due to some parameters are only used in language bindings but\n",
      "  passed down to XGBoost core.  Or some parameters are not used but slip through this\n",
      "  verification. Please open an issue if you find above cases.\n",
      "\n",
      "\n",
      "[08:26:04] WARNING: C:/Users/Administrator/workspace/xgboost-win64_release_1.4.0/src/learner.cc:573: \n",
      "Parameters: { \"n_estimators\" } might not be used.\n",
      "\n",
      "  This may not be accurate due to some parameters are only used in language bindings but\n",
      "  passed down to XGBoost core.  Or some parameters are not used but slip through this\n",
      "  verification. Please open an issue if you find above cases.\n",
      "\n",
      "\n"
     ]
    },
    {
     "data": {
      "text/plain": [
       "0.98530564"
      ]
     },
     "execution_count": 28,
     "metadata": {},
     "output_type": "execute_result"
    }
   ],
   "source": [
    "dmatrix_df = xgb.DMatrix(data=문제지, label=정답지, enable_categorical=True)\n",
    "xgb_cv_res = xgb.cv(dtrain=dmatrix_df, \n",
    "               params={\"n_estimators\": 300, \"objective\":\"binary:logistic\"}, \n",
    "               nfold=5, \n",
    "               metrics=\"auc\",        #--- 이진분류 점수 중 하나 \n",
    "               as_pandas=True)\n",
    "xgb_cv_res['train-auc-mean'].mean()  #------------ 이거 accuracy 점수 아님......"
   ]
  },
  {
   "cell_type": "code",
   "execution_count": null,
   "id": "00fc0d7a-bde6-4f76-ba21-045e929916ef",
   "metadata": {},
   "outputs": [],
   "source": []
  },
  {
   "cell_type": "code",
   "execution_count": 29,
   "id": "6f24d1f8-b678-4a22-b894-8f6b637b22a8",
   "metadata": {},
   "outputs": [
    {
     "name": "stdout",
     "output_type": "stream",
     "text": [
      "[0.87012987 0.85064935 0.88311688 0.88235294 0.8496732 ]\n",
      "cross_val_score 평균: 0.8671844495373907\n"
     ]
    }
   ],
   "source": [
    "from sklearn.model_selection import cross_val_score\n",
    "#scores : ndarray  ::: 위와상동 == np.array(total_score)\n",
    "total_score = cross_val_score(model, 문제지, 정답지, scoring='accuracy', cv=5)  #n_splits=cv=5\n",
    "print(total_score)  #평균 0.8658772599949071\n",
    "print(\"cross_val_score 평균:\", total_score.mean())  #평균 0.867"
   ]
  }
 ],
 "metadata": {
  "kernelspec": {
   "display_name": "Python 3 (ipykernel)",
   "language": "python",
   "name": "python3"
  },
  "language_info": {
   "codemirror_mode": {
    "name": "ipython",
    "version": 3
   },
   "file_extension": ".py",
   "mimetype": "text/x-python",
   "name": "python",
   "nbconvert_exporter": "python",
   "pygments_lexer": "ipython3",
   "version": "3.8.8"
  },
  "toc": {
   "base_numbering": 1,
   "nav_menu": {},
   "number_sections": true,
   "sideBar": true,
   "skip_h1_title": false,
   "title_cell": "Table of Contents",
   "title_sidebar": "Contents",
   "toc_cell": false,
   "toc_position": {},
   "toc_section_display": true,
   "toc_window_display": false
  },
  "varInspector": {
   "cols": {
    "lenName": 16,
    "lenType": 16,
    "lenVar": 40
   },
   "kernels_config": {
    "python": {
     "delete_cmd_postfix": "",
     "delete_cmd_prefix": "del ",
     "library": "var_list.py",
     "varRefreshCmd": "print(var_dic_list())"
    },
    "r": {
     "delete_cmd_postfix": ") ",
     "delete_cmd_prefix": "rm(",
     "library": "var_list.r",
     "varRefreshCmd": "cat(var_dic_list()) "
    }
   },
   "types_to_exclude": [
    "module",
    "function",
    "builtin_function_or_method",
    "instance",
    "_Feature"
   ],
   "window_display": false
  },
  "widgets": {
   "application/vnd.jupyter.widget-state+json": {
    "state": {},
    "version_major": 2,
    "version_minor": 0
   }
  }
 },
 "nbformat": 4,
 "nbformat_minor": 5
}
