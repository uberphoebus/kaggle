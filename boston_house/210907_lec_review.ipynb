{
 "cells": [
  {
   "cell_type": "markdown",
   "source": [
    "# imports"
   ],
   "metadata": {}
  },
  {
   "cell_type": "code",
   "execution_count": 3,
   "source": [
    "import pandas as pd\r\n",
    "import numpy as np\r\n",
    "import matplotlib.pyplot as plt\r\n",
    "import seaborn as sns; sns.set()\r\n",
    "import warnings; warnings.filterwarnings(action='ignore')\r\n",
    "# --------------------------------------------------\r\n",
    "\r\n",
    "# --------------------------------------------------\r\n",
    "# load datasets\r\n",
    "from sklearn import datasets\r\n",
    "\r\n",
    "# imblearn.sampling\r\n",
    "from imblearn.over_sampling import SMOTE\r\n",
    "from imblearn.under_sampling import NearMiss\r\n",
    "\r\n",
    "# preprocessing.encoding\r\n",
    "from sklearn.preprocessing import LabelEncoder, OneHotEncoder # pd.get_dummies()\r\n",
    "# preprocessing.scaling\r\n",
    "from sklearn.preprocessing import MinMaxScaler, StandardScaler, RobustScaler\r\n",
    "# preprocessing.binarizing\r\n",
    "from sklearn.preprocessing import Binarizer\r\n",
    "\r\n",
    "# decomposition.PCA\r\n",
    "from sklearn.decomposition import PCA\r\n",
    "\r\n",
    "\r\n",
    "# Classifier ---------------------------------------\r\n",
    "\r\n",
    "# estimators\r\n",
    "from sklearn.tree import DecisionTreeClassifier\r\n",
    "from sklearn.ensemble import RandomForestClassifier, GradientBoostingClassifier\r\n",
    "from sklearn.linear_model import LogisticRegression # classifier\r\n",
    "from xgboost import XGBClassifier, XGBRFClassifier\r\n",
    "from lightgbm import LGBMClassifier\r\n",
    "from catboost import CatBoostClassifier\r\n",
    "# metrics.scores\r\n",
    "from sklearn.metrics import accuracy_score, precision_score, recall_score\r\n",
    "from sklearn.metrics import f1_score, roc_auc_score\r\n",
    "from sklearn.metrics import log_loss\r\n",
    "# metrics.curves\r\n",
    "from sklearn.metrics import precision_recall_curve, plot_precision_recall_curve\r\n",
    "from sklearn.metrics import roc_curve, plot_roc_curve\r\n",
    "# metrics.reports\r\n",
    "from sklearn.metrics import confusion_matrix, plot_confusion_matrix\r\n",
    "from sklearn.metrics import classification_report, ConfusionMatrixDisplay\r\n",
    "# --------------------------------------------------\r\n",
    "\r\n",
    "# Regressor-----------------------------------------\r\n",
    "# estimators\r\n",
    "from sklearn.tree import DecisionTreeRegressor\r\n",
    "from sklearn.ensemble import RandomForestRegressor, GradientBoostingRegressor\r\n",
    "from sklearn.linear_model import LinearRegression\r\n",
    "from sklearn.linear_model import Ridge, RidgeCV\r\n",
    "from sklearn.linear_model import Lasso, LassoCV\r\n",
    "from sklearn.linear_model import ElasticNet, ElasticNetCV\r\n",
    "from xgboost import XGBRegressor, XGBRFRegressor\r\n",
    "from lightgbm import LGBMRegressor\r\n",
    "from catboost import CatBoostRegressor, CatBoostError\r\n",
    "# metrics.errors\r\n",
    "from sklearn.metrics import mean_squared_error     # 'neg_mean_squared_error', 'neg_root_mean_squared_error'\r\n",
    "from sklearn.metrics import mean_squared_log_error # 'neg_mean_squared_log_error'\r\n",
    "from sklearn.metrics import mean_absolute_error    # 'neg_mean_absolute_error'\r\n",
    "# --------------------------------------------------\r\n",
    "\r\n",
    "# stats : R module\r\n",
    "from scipy.stats import skew, kurtosis\r\n",
    "\r\n",
    "# model_selection.splitter\r\n",
    "from sklearn.model_selection import train_test_split       # function\r\n",
    "# model_selection.model_validation\r\n",
    "from sklearn.model_selection import KFold, StratifiedKFold, RepeatedStratifiedKFold # cross-validator\r\n",
    "from sklearn.model_selection import cross_val_score\r\n",
    "# model_selection.hyper_parameter_optimizer\r\n",
    "from sklearn.model_selection import GridSearchCV\r\n",
    "\r\n",
    "# **************************************************\r\n",
    "\r\n",
    "# --------------------------------------------------\r\n",
    "def check_nan(df):\r\n",
    "    nan = df.isna().sum()[df.isna().sum() != 0]\r\n",
    "    nan_cols = list(nan.index)\r\n",
    "    nan_cnt  = df[nan_cols].isna().sum()\r\n",
    "    rate = round(nan_cnt / df.shape[0] * 100, 2)\r\n",
    "    nan_df = pd.DataFrame({'NAN_CNT':nan_cnt, 'RATE':rate})\r\n",
    "    \r\n",
    "    print(nan_df)\r\n",
    "    print('-' * 30)\r\n",
    "    print('nan_cols count =', len(nan_cols))\r\n",
    "    print(nan_cols)\r\n",
    " \r\n",
    "    for col in nan_cols:\r\n",
    "        print('-' * 30)\r\n",
    "        print(df[col].value_counts())\r\n",
    "        print('value_counts =', df[col].count(), '/ nan_counts =', df[col].isna().sum())\r\n",
    "    \r\n",
    "    return nan_cols\r\n",
    "# nan_cols = check_nan(df)\r\n",
    "# --------------------------------------------------\r\n",
    "\r\n",
    "# --------------------------------------------------\r\n",
    "def check_outliers(X_train, features, rate=1.5):\r\n",
    "    \r\n",
    "    dict = {}\r\n",
    "    \r\n",
    "    for col in features:\r\n",
    "        \r\n",
    "        Q1 = np.percentile(X_train[col], 25) \r\n",
    "        Q3 = np.percentile(X_train[col], 75) \r\n",
    "        IQR = Q3 - Q1\r\n",
    "        \r\n",
    "        min = Q1 - (rate * IQR)\r\n",
    "        max = Q3 + (rate * IQR)\r\n",
    "        \r\n",
    "        idxs = X_train[(X_train[col] < min) | (X_train[col] > max)].index\r\n",
    "        \r\n",
    "        dict[col] = idxs\r\n",
    "        \r\n",
    "    return dict\r\n",
    "# check_outliers(X_train, 'Insulin')\r\n",
    "# --------------------------------------------------\r\n",
    "\r\n",
    "# --------------------------------------------------\r\n",
    "def check_object(df):\r\n",
    "    object_cols = list(df.dtypes[df.dtypes == 'object'].index)\r\n",
    "    print('object_cols count =', len(object_cols))\r\n",
    "    for col in object_cols:\r\n",
    "        print('-' * 30)\r\n",
    "        print(df[col].value_counts())\r\n",
    "    return object_cols\r\n",
    "# object_cols = encode(df)\r\n",
    "# --------------------------------------------------\r\n",
    "\r\n",
    "# --------------------------------------------------\r\n",
    "def mapping(df, col, dict):\r\n",
    "    dict = {}\r\n",
    "    \r\n",
    "    for i in range(len(df[col].value_counts().index)):\r\n",
    "        dict[df[col].value_counts().index[i]] = i\r\n",
    "    \r\n",
    "    df['e_' + col] = df[col].map(dict)\r\n",
    "    return df['e_' + col].value_counts()\r\n",
    "# mapping(df, 'gender')\r\n",
    "# --------------------------------------------------\r\n",
    "\r\n",
    "# --------------------------------------------------\r\n",
    "def split_xy(df, target, test_size=0.2):\r\n",
    "    \r\n",
    "    \"\"\"split X, y & train, test\"\"\"\r\n",
    "    \r\n",
    "    X = df.drop(target, axis=1)\r\n",
    "    y = df[target]\r\n",
    "    \r\n",
    "    X_train, X_test, y_train, y_test = train_test_split(X, y, test_size=test_size, random_state=0, stratify=y)\r\n",
    "    \r\n",
    "    return X_train, X_test, y_train, y_test\r\n",
    "\r\n",
    "# X_train, X_test, y_train, y_test = split_xy(df, 'Outcome')\r\n",
    "# --------------------------------------------------\r\n",
    "\r\n",
    "# --------------------------------------------------\r\n",
    "def scores(y_test, y_pred):\r\n",
    "    \r\n",
    "    \"\"\"evaluation scores\"\"\"\r\n",
    "    \r\n",
    "    f1        = f1_score         (y_test, y_pred, average='macro')\r\n",
    "    accuracy  = accuracy_score   (y_test, y_pred, )\r\n",
    "    precision = precision_score  (y_test, y_pred, average='macro')\r\n",
    "    recall    = recall_score     (y_test, y_pred, average='macro')\r\n",
    "    c_matrix  = confusion_matrix (y_test, y_pred, )\r\n",
    "    \r\n",
    "    print(\r\n",
    "          f'accuracy  = {accuracy:.6f},  '\r\n",
    "          f'f1 score  = {f1:.6f},  \\n'\r\n",
    "          f'precision = {precision:.6f},  '\r\n",
    "          f'recall    = {recall:.6f},')\r\n",
    "    print(c_matrix)\r\n",
    "    \r\n",
    "    # plt.figure(figsize=(12, 9))\r\n",
    "    # plt.title('confusion matrix')\r\n",
    "    # plt.xlabel('Predict')\r\n",
    "    # plt.ylabel('Actual')\r\n",
    "    # sns.heatmap(c_matrix, annot=True, linewidths=1, cmap='Blues', annot_kws={\"size\": 14})\r\n",
    "    # plt.show()\r\n",
    "# --------------------------------------------------\r\n",
    "\r\n",
    "# --------------------------------------------------\r\n",
    "def curves(y_test, probas_pred):\r\n",
    "        \r\n",
    "    FPRS, TPRS, thresholds = roc_curve(y_test, probas_pred[:, 1])\r\n",
    " \r\n",
    "    f, ax = plt.subplots(1, 2, figsize=(16, 6))\r\n",
    " \r\n",
    "    # settings\r\n",
    "    plt.subplot(121)\r\n",
    "    plt.title('ROC curve')\r\n",
    "    plt.gray()\r\n",
    "    plt.xlabel('FPR(1- specificity)')\r\n",
    "    plt.ylabel('TPR')\r\n",
    " \r\n",
    "    # x, y values\r\n",
    "    plt.plot(FPRS, TPRS, label='ROC', linestyle='solid')\r\n",
    "    plt.plot([0, 1], [0, 1], label='50%', color='gray', linestyle=':')\r\n",
    "    plt.legend()\r\n",
    " \r\n",
    "    precisions, recalls, thresholds = precision_recall_curve(y_test, probas_pred[:, 1])\r\n",
    "    f1_scores = 2 * (precisions * recalls) / (precisions + recalls)\r\n",
    " \r\n",
    "    plt.subplot(122)\r\n",
    "    plt.title('precision recall curve')\r\n",
    "    plt.gray()\r\n",
    "    plt.xlabel('threshold')\r\n",
    "    plt.ylabel('scores')\r\n",
    " \r\n",
    "    # x, y values\r\n",
    "    plt.plot(thresholds, precisions[:thresholds.shape[0]], label='precision', linestyle=':')\r\n",
    "    plt.plot(thresholds, recalls[:thresholds.shape[0]],    label='recall',    linestyle='--')\r\n",
    "    plt.plot(thresholds, f1_scores[:thresholds.shape[0]],  label='f1',        linestyle='solid')\r\n",
    "    # valid linestyle = '-', '--', '-.', ':', 'None', ' ', '', 'solid', 'dashed', 'dashdot', 'dotted'\r\n",
    "    plt.legend()\r\n",
    " \r\n",
    "    plt.show()\r\n",
    "    \r\n",
    "    print('AUC = ', roc_auc_score(y_test, probas_pred[:, 1]))\r\n",
    "# --------------------------------------------------\r\n",
    "# --------------------------------------------------"
   ],
   "outputs": [],
   "metadata": {}
  },
  {
   "cell_type": "code",
   "execution_count": 4,
   "source": [
    "# # GridsearchCV : INPUT DF VERSION\r\n",
    "# df_met = df01\r\n",
    "\r\n",
    "# # (train, sub) & (X, y) & (train, tset) split\r\n",
    "# train_met = df_met[df_met['credit'].notna()]\r\n",
    "\r\n",
    "# X = train_met.drop('credit', axis=1)\r\n",
    "# y = train_met['credit']\r\n",
    "\r\n",
    "# X_train, X_test, y_train, y_test = train_test_split(X, y, test_size=0.2, random_state=0,\r\n",
    "#                                                     shuffle=True, stratify=y)\r\n",
    "\r\n",
    "# # models\r\n",
    "# models = [\r\n",
    "#           RandomForestClassifier(),\r\n",
    "#         #   GradientBoostingClassifier(), \r\n",
    "#         #   XGBClassifier(), \r\n",
    "#         #   XGBRFClassifier(), \r\n",
    "#         #   LGBMClassifier(), \r\n",
    "#         #   CatBoostClassifier(),\r\n",
    "#           ]\r\n",
    "\r\n",
    "# # param_grid=\r\n",
    "# hyper_param = {'n_estimators':[400],\r\n",
    "#                'random_state':[0],\r\n",
    "#                'min_samples_split':[4],\r\n",
    "#                'min_samples_leaf':[1],\r\n",
    "#                }\r\n",
    "\r\n",
    "# # scoring=\r\n",
    "# scorers = {'f1_macro':'f1_macro', 'accuracy':'accuracy',\r\n",
    "#            'precision':'precision_macro', 'recall':'recall_macro', 'roc_auc_ovr':'roc_auc_ovr',}\r\n",
    "# # cv=\r\n",
    "# skfold  = StratifiedKFold(n_splits=5, shuffle=True, random_state=0)\r\n",
    "\r\n",
    "# # cv_results_ cols\r\n",
    "# result_scorers = ['mean_test_f1_macro', 'mean_test_accuracy', \r\n",
    "#                   'mean_test_precision', 'mean_test_recall', 'mean_test_roc_auc_ovr',]\r\n",
    "\r\n",
    "# # GridSearchCV loop\r\n",
    "# for model in models:\r\n",
    "        \r\n",
    "#         gscv = GridSearchCV(model, param_grid=hyper_param, scoring=scorers, refit='f1_macro', cv=skfold, return_train_score=True)\r\n",
    "#         gscv.fit(X, y)\r\n",
    "#         results = gscv.cv_results_\r\n",
    "        \r\n",
    "#         print('-' * 75)\r\n",
    "#         print('estimtor        =', gscv.estimator)\r\n",
    "#         print('best_params_    =', gscv.best_params_)\r\n",
    "#         print('best_score_     =', gscv.best_score_)\r\n",
    "        \r\n",
    "#         met_df = pd.DataFrame(results)[result_scorers]\r\n",
    "#         met_df.columns = ['f1_macro', 'accuracy', 'precision', 'recall', 'auc_ovr',]\r\n",
    "#         print(met_df)"
   ],
   "outputs": [],
   "metadata": {}
  },
  {
   "cell_type": "code",
   "execution_count": 5,
   "source": [
    "# # cross_validate : INPUT DF VERSION\r\n",
    "# df_met = df01\r\n",
    "\r\n",
    "# train_met = df_met[df_met['credit'].notna()]\r\n",
    "# X = train_met.drop('credit', axis=1)\r\n",
    "# y = train_met['credit']\r\n",
    "\r\n",
    "# models = [\r\n",
    "#           RandomForestClassifier(n_estimators=400, min_samples_leaf=1, min_samples_split=4, random_state=0),\r\n",
    "#           ]\r\n",
    "\r\n",
    "# scorers = {'f1_macro':'f1_macro', 'accuracy':'accuracy',\r\n",
    "#            'precision':'precision_macro', 'recall':'recall_macro', 'roc_auc_ovr':'roc_auc_ovr',}\r\n",
    "# skfold  = StratifiedKFold(n_splits=5, shuffle=True, random_state=0)\r\n",
    "\r\n",
    "# for model in models:\r\n",
    "    \r\n",
    "#     cv_results = cross_validate(model, X, y, scoring=scorers, cv=skfold, \r\n",
    "#                                 return_train_score=True, return_estimator=True)\r\n",
    "#     print('-' * 70)\r\n",
    "#     print('model =', model)\r\n",
    "#     print('f1_macro  = {}  '.format(cv_results['test_f1_macro'].mean()),\r\n",
    "#           'accuracy  = {}  '.format(cv_results['test_accuracy'].mean()), '\\n'\r\n",
    "#           'precision = {}  '.format(cv_results['test_precision'].mean()),\r\n",
    "#           'recall    = {}  '.format(cv_results['test_recall'].mean()), '\\n'\r\n",
    "#           'AUC_ovr   = {}  '.format(cv_results['test_roc_auc_ovr'].mean()),\r\n",
    "#           )\r\n",
    "    \r\n",
    "#     fi_list = []\r\n",
    "    \r\n",
    "#     for idx, estimator in enumerate(cv_results['estimator']):\r\n",
    "#         fi = pd.DataFrame(estimator.feature_importances_, \r\n",
    "#                           index=X.columns, columns=['importance']).sort_values('importance', ascending=False)\r\n",
    "        \r\n",
    "#         fi_list.append(estimator.feature_importances_.tolist())\r\n",
    "    \r\n",
    "#     fi_means = np.array(fi_list).mean(axis=0)\r\n",
    "#     fi_df = pd.DataFrame(fi_means, columns=['importance'], index=X.columns).sort_values(by='importance', ascending=False)\r\n",
    "#     fig, ax = plt.subplots(figsize=(16, 12))\r\n",
    "#     sns.set_theme(style='whitegrid')\r\n",
    "#     sns.set_color_codes('pastel')\r\n",
    "#     sns.barplot(x='importance', y=X.columns, data=fi_df)\r\n",
    "#     plt.show()"
   ],
   "outputs": [],
   "metadata": {}
  },
  {
   "cell_type": "markdown",
   "source": [
    "# read boston"
   ],
   "metadata": {}
  },
  {
   "cell_type": "code",
   "execution_count": 6,
   "source": [
    "# https://www.kaggle.com/vikrishnan/boston-house-prices?\r\n",
    "boston = datasets.load_boston()\r\n",
    "df = pd.DataFrame(data=boston['data'], columns=boston['feature_names'])\r\n",
    "df['target'] = boston['target']\r\n",
    "\r\n",
    "# feature description\r\n",
    "# crim\t  자치시(town)별 1인당 범죄율\r\n",
    "# zn\t  25,000 평방 피트를 초과하는 거주지역의 비율\r\n",
    "# indus\t  비소매상업지역이 차지하고 있는 토지의 비율\r\n",
    "# chas\t  찰스강의 경계에 위치한 경우는 1, 아니면 0\r\n",
    "# nox\t  10ppm 당 농축 일산화질소\r\n",
    "# rm\t  주택 1가구당 평균 방의 수\r\n",
    "# age\t  1940년 이전에 건축한 소유주택 비율\r\n",
    "# dis\t  보스톤 직업센터까지의 접근성 지수\r\n",
    "# rad\t  방사형 도로까지의 접근성 지수\r\n",
    "# tax\t  10,000 달러당 재산세율\r\n",
    "# ptratio 자치시(town)별 학생/교사 비율\r\n",
    "# b       자치시(town)별 흑인의 비율\r\n",
    "# lstat\t  모집단의 하위 계층의 비율\r\n",
    "# medv\t  본인 소유의 주택가격 중앙값(단위 $1000)"
   ],
   "outputs": [],
   "metadata": {}
  },
  {
   "cell_type": "markdown",
   "source": [
    "# df ver00"
   ],
   "metadata": {}
  },
  {
   "cell_type": "code",
   "execution_count": 7,
   "source": [
    "X = df.drop('target', axis=1)\r\n",
    "y = df['target']\r\n",
    "\r\n",
    "X_train, X_test, y_train, y_test = train_test_split(X, y, test_size=0.2, random_state=0, shuffle=True)\r\n",
    "\r\n",
    "models = [LinearRegression(),\r\n",
    "          Ridge(),\r\n",
    "          Lasso(),\r\n",
    "          ElasticNet(),\r\n",
    "          DecisionTreeRegressor(),\r\n",
    "          XGBRegressor(),\r\n",
    "          LGBMRegressor(),\r\n",
    "          ]\r\n",
    "\r\n",
    "for model in models:\r\n",
    "    print(model.__class__.__name__)\r\n",
    "    \r\n",
    "    model.fit(X_train, y_train)\r\n",
    "    y_pred = model.predict(X_test)\r\n",
    "    mse  = mean_squared_error(y_test, y_pred)\r\n",
    "    rmse = mean_squared_error(y_test, y_pred, squared=False)\r\n",
    "    \r\n",
    "    print('MSE  =', mse)\r\n",
    "    print('RMES =', rmse)\r\n",
    "    print('-' * 30)"
   ],
   "outputs": [
    {
     "output_type": "stream",
     "name": "stdout",
     "text": [
      "LinearRegression\n",
      "MSE  = 33.448979997676524\n",
      "RMES = 5.783509315085134\n",
      "------------------------------\n",
      "Ridge\n",
      "MSE  = 34.231606110615374\n",
      "RMES = 5.850778248285896\n",
      "------------------------------\n",
      "Lasso\n",
      "MSE  = 41.700096799949\n",
      "RMES = 6.457561211475196\n",
      "------------------------------\n",
      "ElasticNet\n",
      "MSE  = 40.6653320776942\n",
      "RMES = 6.376937515586475\n",
      "------------------------------\n",
      "DecisionTreeRegressor\n",
      "MSE  = 34.161078431372545\n",
      "RMES = 5.8447479356574945\n",
      "------------------------------\n",
      "XGBRegressor\n",
      "MSE  = 21.366958008898255\n",
      "RMES = 4.622440698256523\n",
      "------------------------------\n",
      "LGBMRegressor\n",
      "MSE  = 24.498696726728348\n",
      "RMES = 4.949615816073845\n",
      "------------------------------\n"
     ]
    }
   ],
   "metadata": {}
  },
  {
   "cell_type": "markdown",
   "source": [
    "# check skew, kurt"
   ],
   "metadata": {}
  },
  {
   "cell_type": "code",
   "execution_count": 8,
   "source": [
    "skew(df)"
   ],
   "outputs": [
    {
     "output_type": "execute_result",
     "data": {
      "text/plain": [
       "array([ 5.20765239,  2.21906306,  0.29414628,  3.39579929,  0.72714416,\n",
       "        0.40241467, -0.59718559,  1.00877876,  1.00183349,  0.66796827,\n",
       "       -0.79994453, -2.88179835,  0.90377074,  1.10481082])"
      ]
     },
     "metadata": {},
     "execution_count": 8
    }
   ],
   "metadata": {}
  },
  {
   "cell_type": "code",
   "execution_count": 9,
   "source": [
    "kurtosis(df)"
   ],
   "outputs": [
    {
     "output_type": "execute_result",
     "data": {
      "text/plain": [
       "array([36.75278626,  3.97994877, -1.23321847,  9.53145284, -0.07586422,\n",
       "        1.86102697, -0.97001393,  0.47129857, -0.8705205 , -1.14298488,\n",
       "       -0.29411638,  7.14376929,  0.47654476,  1.46862877])"
      ]
     },
     "metadata": {},
     "execution_count": 9
    }
   ],
   "metadata": {}
  },
  {
   "cell_type": "code",
   "execution_count": 10,
   "source": [
    "sk_df = pd.DataFrame({'skew':skew(df), 'kurt':kurtosis(df)},\r\n",
    "                     index=df.columns)\r\n",
    "sk_df"
   ],
   "outputs": [
    {
     "output_type": "execute_result",
     "data": {
      "text/html": [
       "<div>\n",
       "<style scoped>\n",
       "    .dataframe tbody tr th:only-of-type {\n",
       "        vertical-align: middle;\n",
       "    }\n",
       "\n",
       "    .dataframe tbody tr th {\n",
       "        vertical-align: top;\n",
       "    }\n",
       "\n",
       "    .dataframe thead th {\n",
       "        text-align: right;\n",
       "    }\n",
       "</style>\n",
       "<table border=\"1\" class=\"dataframe\">\n",
       "  <thead>\n",
       "    <tr style=\"text-align: right;\">\n",
       "      <th></th>\n",
       "      <th>skew</th>\n",
       "      <th>kurt</th>\n",
       "    </tr>\n",
       "  </thead>\n",
       "  <tbody>\n",
       "    <tr>\n",
       "      <th>CRIM</th>\n",
       "      <td>5.207652</td>\n",
       "      <td>36.752786</td>\n",
       "    </tr>\n",
       "    <tr>\n",
       "      <th>ZN</th>\n",
       "      <td>2.219063</td>\n",
       "      <td>3.979949</td>\n",
       "    </tr>\n",
       "    <tr>\n",
       "      <th>INDUS</th>\n",
       "      <td>0.294146</td>\n",
       "      <td>-1.233218</td>\n",
       "    </tr>\n",
       "    <tr>\n",
       "      <th>CHAS</th>\n",
       "      <td>3.395799</td>\n",
       "      <td>9.531453</td>\n",
       "    </tr>\n",
       "    <tr>\n",
       "      <th>NOX</th>\n",
       "      <td>0.727144</td>\n",
       "      <td>-0.075864</td>\n",
       "    </tr>\n",
       "    <tr>\n",
       "      <th>RM</th>\n",
       "      <td>0.402415</td>\n",
       "      <td>1.861027</td>\n",
       "    </tr>\n",
       "    <tr>\n",
       "      <th>AGE</th>\n",
       "      <td>-0.597186</td>\n",
       "      <td>-0.970014</td>\n",
       "    </tr>\n",
       "    <tr>\n",
       "      <th>DIS</th>\n",
       "      <td>1.008779</td>\n",
       "      <td>0.471299</td>\n",
       "    </tr>\n",
       "    <tr>\n",
       "      <th>RAD</th>\n",
       "      <td>1.001833</td>\n",
       "      <td>-0.870521</td>\n",
       "    </tr>\n",
       "    <tr>\n",
       "      <th>TAX</th>\n",
       "      <td>0.667968</td>\n",
       "      <td>-1.142985</td>\n",
       "    </tr>\n",
       "    <tr>\n",
       "      <th>PTRATIO</th>\n",
       "      <td>-0.799945</td>\n",
       "      <td>-0.294116</td>\n",
       "    </tr>\n",
       "    <tr>\n",
       "      <th>B</th>\n",
       "      <td>-2.881798</td>\n",
       "      <td>7.143769</td>\n",
       "    </tr>\n",
       "    <tr>\n",
       "      <th>LSTAT</th>\n",
       "      <td>0.903771</td>\n",
       "      <td>0.476545</td>\n",
       "    </tr>\n",
       "    <tr>\n",
       "      <th>target</th>\n",
       "      <td>1.104811</td>\n",
       "      <td>1.468629</td>\n",
       "    </tr>\n",
       "  </tbody>\n",
       "</table>\n",
       "</div>"
      ],
      "text/plain": [
       "             skew       kurt\n",
       "CRIM     5.207652  36.752786\n",
       "ZN       2.219063   3.979949\n",
       "INDUS    0.294146  -1.233218\n",
       "CHAS     3.395799   9.531453\n",
       "NOX      0.727144  -0.075864\n",
       "RM       0.402415   1.861027\n",
       "AGE     -0.597186  -0.970014\n",
       "DIS      1.008779   0.471299\n",
       "RAD      1.001833  -0.870521\n",
       "TAX      0.667968  -1.142985\n",
       "PTRATIO -0.799945  -0.294116\n",
       "B       -2.881798   7.143769\n",
       "LSTAT    0.903771   0.476545\n",
       "target   1.104811   1.468629"
      ]
     },
     "metadata": {},
     "execution_count": 10
    }
   ],
   "metadata": {}
  },
  {
   "cell_type": "code",
   "execution_count": 11,
   "source": [
    "sk_df.sort_values('skew').plot(kind='barh')"
   ],
   "outputs": [
    {
     "output_type": "execute_result",
     "data": {
      "text/plain": [
       "<AxesSubplot:>"
      ]
     },
     "metadata": {},
     "execution_count": 11
    },
    {
     "output_type": "display_data",
     "data": {
      "image/png": "[encoded data removed]",
      "text/plain": [
       "<Figure size 432x288 with 1 Axes>"
      ]
     },
     "metadata": {}
    }
   ],
   "metadata": {}
  },
  {
   "cell_type": "markdown",
   "source": [
    "# df ver01 : scale"
   ],
   "metadata": {}
  },
  {
   "cell_type": "markdown",
   "source": [
    "## X scale : 효과 낮음"
   ],
   "metadata": {}
  },
  {
   "cell_type": "code",
   "execution_count": 12,
   "source": [
    "scale = StandardScaler()\r\n",
    "\r\n",
    "scale.fit(X_train)\r\n",
    "X_train_sc = scale.transform(X_train)\r\n",
    "X_test_sc  = scale.transform(X_test)"
   ],
   "outputs": [],
   "metadata": {}
  },
  {
   "cell_type": "code",
   "execution_count": 13,
   "source": [
    "X_train.shape, X_test.shape"
   ],
   "outputs": [
    {
     "output_type": "execute_result",
     "data": {
      "text/plain": [
       "((404, 13), (102, 13))"
      ]
     },
     "metadata": {},
     "execution_count": 13
    }
   ],
   "metadata": {}
  },
  {
   "cell_type": "code",
   "execution_count": 14,
   "source": [
    "pd.DataFrame(X_train_sc).isna().sum().sum()"
   ],
   "outputs": [
    {
     "output_type": "execute_result",
     "data": {
      "text/plain": [
       "0"
      ]
     },
     "metadata": {},
     "execution_count": 14
    }
   ],
   "metadata": {}
  },
  {
   "cell_type": "code",
   "execution_count": 15,
   "source": [
    "# ------------------------------\r\n",
    "X_train = X_train_sc\r\n",
    "X_test  = X_test_sc\r\n",
    "y_train = y_train\r\n",
    "y_test  = y_test\r\n",
    "# ------------------------------\r\n",
    "\r\n",
    "models = [LinearRegression(),\r\n",
    "          Ridge(),\r\n",
    "          Lasso(),\r\n",
    "          ElasticNet(),\r\n",
    "          DecisionTreeRegressor(),\r\n",
    "          XGBRegressor(),\r\n",
    "          LGBMRegressor(),\r\n",
    "          ]\r\n",
    "\r\n",
    "for model in models:\r\n",
    "    print(model.__class__.__name__)\r\n",
    "    \r\n",
    "    model.fit(X_train, y_train)\r\n",
    "    y_pred = model.predict(X_test)\r\n",
    "    mse  = mean_squared_error(y_test, y_pred)\r\n",
    "    rmse = mean_squared_error(y_test, y_pred, squared=False)\r\n",
    "    \r\n",
    "    print('MSE  =', mse)\r\n",
    "    print('RMES =', rmse)\r\n",
    "    print('-' * 30)"
   ],
   "outputs": [
    {
     "output_type": "stream",
     "name": "stdout",
     "text": [
      "LinearRegression\n",
      "MSE  = 33.448979997676496\n",
      "RMES = 5.783509315085133\n",
      "------------------------------\n",
      "Ridge\n",
      "MSE  = 33.5371130739407\n",
      "RMES = 5.791123645195352\n",
      "------------------------------\n",
      "Lasso\n",
      "MSE  = 40.14696456446331\n",
      "RMES = 6.336163236885813\n",
      "------------------------------\n",
      "ElasticNet\n",
      "MSE  = 42.87871149007003\n",
      "RMES = 6.548183831419979\n",
      "------------------------------\n",
      "DecisionTreeRegressor\n",
      "MSE  = 30.898823529411764\n",
      "RMES = 5.558671021873103\n",
      "------------------------------\n",
      "XGBRegressor\n",
      "MSE  = 21.36472443696006\n",
      "RMES = 4.622199091012854\n",
      "------------------------------\n",
      "LGBMRegressor\n",
      "MSE  = 24.5098863728449\n",
      "RMES = 4.950746042047087\n",
      "------------------------------\n"
     ]
    }
   ],
   "metadata": {}
  },
  {
   "cell_type": "markdown",
   "source": [
    "## y scale : 큰 개선 (4~100)"
   ],
   "metadata": {}
  },
  {
   "cell_type": "code",
   "execution_count": 16,
   "source": [
    "y_train.shape"
   ],
   "outputs": [
    {
     "output_type": "execute_result",
     "data": {
      "text/plain": [
       "(404,)"
      ]
     },
     "metadata": {},
     "execution_count": 16
    }
   ],
   "metadata": {}
  },
  {
   "cell_type": "code",
   "execution_count": 17,
   "source": [
    "np.array(y_train).shape"
   ],
   "outputs": [
    {
     "output_type": "execute_result",
     "data": {
      "text/plain": [
       "(404,)"
      ]
     },
     "metadata": {},
     "execution_count": 17
    }
   ],
   "metadata": {}
  },
  {
   "cell_type": "code",
   "execution_count": 18,
   "source": [
    "np.array(y_train).reshape(-1, 1).shape"
   ],
   "outputs": [
    {
     "output_type": "execute_result",
     "data": {
      "text/plain": [
       "(404, 1)"
      ]
     },
     "metadata": {},
     "execution_count": 18
    }
   ],
   "metadata": {}
  },
  {
   "cell_type": "code",
   "execution_count": 19,
   "source": [
    "scale = StandardScaler()\r\n",
    "\r\n",
    "scale.fit(np.array(y_train).reshape(-1, 1))\r\n",
    "y_train_sc = pd.DataFrame(scale.transform(np.array(y_train).reshape(-1, 1)))\r\n",
    "y_test_sc  = pd.DataFrame(scale.transform(np.array(y_test).reshape(-1, 1)))"
   ],
   "outputs": [],
   "metadata": {}
  },
  {
   "cell_type": "code",
   "execution_count": 20,
   "source": [
    "y_train_sc.shape, y_test_sc.shape"
   ],
   "outputs": [
    {
     "output_type": "execute_result",
     "data": {
      "text/plain": [
       "((404, 1), (102, 1))"
      ]
     },
     "metadata": {},
     "execution_count": 20
    }
   ],
   "metadata": {}
  },
  {
   "cell_type": "code",
   "execution_count": 21,
   "source": [
    "# ------------------------------\r\n",
    "X_train = X_train\r\n",
    "X_test  = X_test\r\n",
    "y_train = y_train_sc\r\n",
    "y_test  = y_test_sc\r\n",
    "# ------------------------------\r\n",
    "\r\n",
    "models = [LinearRegression(),\r\n",
    "          Ridge(),\r\n",
    "          Lasso(),\r\n",
    "          ElasticNet(),\r\n",
    "          DecisionTreeRegressor(),\r\n",
    "          XGBRegressor(),\r\n",
    "          LGBMRegressor(),\r\n",
    "          ]\r\n",
    "\r\n",
    "for model in models:\r\n",
    "    print(model.__class__.__name__)\r\n",
    "    \r\n",
    "    model.fit(X_train, y_train)\r\n",
    "    y_pred = model.predict(X_test)\r\n",
    "    mse  = mean_squared_error(y_test, y_pred)\r\n",
    "    rmse = mean_squared_error(y_test, y_pred, squared=False)\r\n",
    "    \r\n",
    "    print('MSE  =', mse)\r\n",
    "    print('RMES =', rmse)\r\n",
    "    print('-' * 30)"
   ],
   "outputs": [
    {
     "output_type": "stream",
     "name": "stdout",
     "text": [
      "LinearRegression\n",
      "MSE  = 0.3928531653288211\n",
      "RMES = 0.6267799975500343\n",
      "------------------------------\n",
      "Ridge\n",
      "MSE  = 0.3938882748593052\n",
      "RMES = 0.6276051902743517\n",
      "------------------------------\n",
      "Lasso\n",
      "MSE  = 0.9581718678127248\n",
      "RMES = 0.9788625377512027\n",
      "------------------------------\n",
      "ElasticNet\n",
      "MSE  = 0.7259495522082012\n",
      "RMES = 0.8520267320971808\n",
      "------------------------------\n",
      "DecisionTreeRegressor\n",
      "MSE  = 0.4218000735310239\n",
      "RMES = 0.649461371854419\n",
      "------------------------------\n",
      "XGBRegressor\n",
      "MSE  = 0.2428194657384344\n",
      "RMES = 0.4927671516430802\n",
      "------------------------------\n",
      "LGBMRegressor\n",
      "MSE  = 0.2878648739017904\n",
      "RMES = 0.5365304035204252\n",
      "------------------------------\n"
     ]
    }
   ],
   "metadata": {}
  },
  {
   "cell_type": "markdown",
   "source": [
    "## X, y scale : y scale과 유사 -> y는 반드시 scale"
   ],
   "metadata": {}
  },
  {
   "cell_type": "code",
   "execution_count": 22,
   "source": [
    "# ------------------------------\r\n",
    "X_train = X_train_sc\r\n",
    "X_test  = X_test_sc\r\n",
    "y_train = y_train_sc\r\n",
    "y_test  = y_test_sc\r\n",
    "# ------------------------------\r\n",
    "\r\n",
    "models = [LinearRegression(),\r\n",
    "          Ridge(),\r\n",
    "          Lasso(),\r\n",
    "          ElasticNet(),\r\n",
    "          DecisionTreeRegressor(),\r\n",
    "          XGBRegressor(),\r\n",
    "          LGBMRegressor(),\r\n",
    "          ]\r\n",
    "\r\n",
    "for model in models:\r\n",
    "    print(model.__class__.__name__)\r\n",
    "    \r\n",
    "    model.fit(X_train, y_train)\r\n",
    "    y_pred = model.predict(X_test)\r\n",
    "    mse  = mean_squared_error(y_test, y_pred)\r\n",
    "    rmse = mean_squared_error(y_test, y_pred, squared=False)\r\n",
    "    \r\n",
    "    print('MSE  =', mse)\r\n",
    "    print('RMES =', rmse)\r\n",
    "    print('-' * 30)"
   ],
   "outputs": [
    {
     "output_type": "stream",
     "name": "stdout",
     "text": [
      "LinearRegression\n",
      "MSE  = 0.3928531653288211\n",
      "RMES = 0.6267799975500343\n",
      "------------------------------\n",
      "Ridge\n",
      "MSE  = 0.3938882748593052\n",
      "RMES = 0.6276051902743517\n",
      "------------------------------\n",
      "Lasso\n",
      "MSE  = 0.9581718678127248\n",
      "RMES = 0.9788625377512027\n",
      "------------------------------\n",
      "ElasticNet\n",
      "MSE  = 0.7259495522082012\n",
      "RMES = 0.8520267320971808\n",
      "------------------------------\n",
      "DecisionTreeRegressor\n",
      "MSE  = 0.39032503398906576\n",
      "RMES = 0.6247599811039962\n",
      "------------------------------\n",
      "XGBRegressor\n",
      "MSE  = 0.2428194657384344\n",
      "RMES = 0.4927671516430802\n",
      "------------------------------\n",
      "LGBMRegressor\n",
      "MSE  = 0.2878648739017904\n",
      "RMES = 0.5365304035204252\n",
      "------------------------------\n"
     ]
    }
   ],
   "metadata": {}
  },
  {
   "cell_type": "markdown",
   "source": [
    "## scaled skew"
   ],
   "metadata": {}
  },
  {
   "cell_type": "code",
   "execution_count": 23,
   "source": [
    "train_sc = pd.concat([pd.DataFrame(X_train_sc), y_train_sc], axis=1)\r\n",
    "test_sc  = pd.concat([pd.DataFrame(X_test_sc), y_test_sc], axis=1)\r\n",
    "df01 = pd.concat([train_sc, test_sc])\r\n",
    "\r\n",
    "sk_df01 = pd.DataFrame({'skew':skew(df01), 'kurt':kurtosis(df01)},\r\n",
    "                     index=df.columns)\r\n",
    "sk_df01.sort_values('skew').plot(kind='barh')"
   ],
   "outputs": [
    {
     "output_type": "execute_result",
     "data": {
      "text/plain": [
       "<AxesSubplot:>"
      ]
     },
     "metadata": {},
     "execution_count": 23
    },
    {
     "output_type": "display_data",
     "data": {
      "image/png": "[encoded data removed]",
      "text/plain": [
       "<Figure size 432x288 with 1 Axes>"
      ]
     },
     "metadata": {}
    }
   ],
   "metadata": {}
  },
  {
   "cell_type": "markdown",
   "source": [
    "# df ver02 : log scale + scale, y scale보다 더 개선"
   ],
   "metadata": {}
  },
  {
   "cell_type": "code",
   "execution_count": 24,
   "source": [
    "boston = datasets.load_boston()\r\n",
    "df = pd.DataFrame(data=boston['data'], columns=boston['feature_names'])\r\n",
    "df['target'] = boston['target']\r\n",
    "\r\n",
    "X_train, X_test, y_train, y_test = train_test_split(X, y, test_size=0.2, random_state=0, shuffle=True)"
   ],
   "outputs": [],
   "metadata": {}
  },
  {
   "cell_type": "code",
   "execution_count": 25,
   "source": [
    "X_train_log = np.log1p(X_train)\r\n",
    "X_test_log  = np.log1p(X_test)\r\n",
    "y_train_log = np.log1p(y_train)\r\n",
    "y_test_log  = np.log1p(y_test)"
   ],
   "outputs": [],
   "metadata": {}
  },
  {
   "cell_type": "code",
   "execution_count": 26,
   "source": [
    "scale = StandardScaler()\r\n",
    "\r\n",
    "scale.fit(X_train_log)\r\n",
    "X_train_sc = pd.DataFrame(scale.transform(X_train_log))\r\n",
    "X_test_sc  = pd.DataFrame(scale.transform(X_test_log))\r\n",
    "\r\n",
    "scale.fit(np.array(y_train_log).reshape(-1, 1))\r\n",
    "y_train_sc = pd.DataFrame(scale.transform(np.array(y_train_log).reshape(-1, 1)))\r\n",
    "y_test_sc  = pd.DataFrame(scale.transform(np.array(y_test_log).reshape(-1, 1)))"
   ],
   "outputs": [],
   "metadata": {}
  },
  {
   "cell_type": "code",
   "execution_count": 27,
   "source": [
    "# ------------------------------\r\n",
    "X_train = X_train_sc\r\n",
    "X_test  = X_test_sc\r\n",
    "y_train = y_train_sc\r\n",
    "y_test  = y_test_sc\r\n",
    "# ------------------------------\r\n",
    "\r\n",
    "models = [LinearRegression(),\r\n",
    "          Ridge(),\r\n",
    "          Lasso(),\r\n",
    "          ElasticNet(),\r\n",
    "          DecisionTreeRegressor(),\r\n",
    "          XGBRegressor(),\r\n",
    "          LGBMRegressor(),\r\n",
    "          ]\r\n",
    "\r\n",
    "for model in models:\r\n",
    "    print(model.__class__.__name__)\r\n",
    "    \r\n",
    "    model.fit(X_train, y_train)\r\n",
    "    y_pred = model.predict(X_test)\r\n",
    "    mse  = mean_squared_error(y_test, y_pred)\r\n",
    "    rmse = mean_squared_error(y_test, y_pred, squared=False)\r\n",
    "    \r\n",
    "    print('MSE  =', mse)\r\n",
    "    print('RMES =', rmse)\r\n",
    "    print('-' * 30)"
   ],
   "outputs": [
    {
     "output_type": "stream",
     "name": "stdout",
     "text": [
      "LinearRegression\n",
      "MSE  = 0.318315074428947\n",
      "RMES = 0.5641941814915739\n",
      "------------------------------\n",
      "Ridge\n",
      "MSE  = 0.31938057066194814\n",
      "RMES = 0.5651376563828924\n",
      "------------------------------\n",
      "Lasso\n",
      "MSE  = 0.8853330765838622\n",
      "RMES = 0.9409213976650027\n",
      "------------------------------\n",
      "ElasticNet\n",
      "MSE  = 0.6345594614274273\n",
      "RMES = 0.796592406081948\n",
      "------------------------------\n",
      "DecisionTreeRegressor\n",
      "MSE  = 0.2638063289118615\n",
      "RMES = 0.51362080264711\n",
      "------------------------------\n",
      "XGBRegressor\n",
      "MSE  = 0.18946445862350153\n",
      "RMES = 0.435275152775232\n",
      "------------------------------\n",
      "LGBMRegressor\n",
      "MSE  = 0.21997174299967448\n",
      "RMES = 0.4690114529514972\n",
      "------------------------------\n"
     ]
    }
   ],
   "metadata": {}
  },
  {
   "cell_type": "code",
   "execution_count": null,
   "source": [],
   "outputs": [],
   "metadata": {}
  }
 ],
 "metadata": {
  "orig_nbformat": 4,
  "language_info": {
   "name": "python",
   "version": "3.8.8",
   "mimetype": "text/x-python",
   "codemirror_mode": {
    "name": "ipython",
    "version": 3
   },
   "pygments_lexer": "ipython3",
   "nbconvert_exporter": "python",
   "file_extension": ".py"
  },
  "kernelspec": {
   "name": "python3",
   "display_name": "Python 3.8.8 64-bit ('venv': venv)"
  },
  "interpreter": {
   "hash": "c3102799280f1ed23787b1be8e33b065cea14d14e60df4daed798ef8bab0b32c"
  }
 },
 "nbformat": 4,
 "nbformat_minor": 2
}