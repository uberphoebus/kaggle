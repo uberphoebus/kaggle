{
 "cells": [
  {
   "cell_type": "markdown",
   "id": "42d96ed5-83d9-4d61-a070-1426e43e8d53",
   "metadata": {},
   "source": [
    "# 규제 연습"
   ]
  },
  {
   "cell_type": "markdown",
   "id": "8902ceeb-46e9-4ff0-a856-c7885b74ab13",
   "metadata": {},
   "source": [
    "<img src='logo2.png'><br>\n",
    "* ref : https://www.kaggle.com/vikrishnan/boston-house-prices?select=housing.csv"
   ]
  },
  {
   "cell_type": "markdown",
   "id": "aa2e82f1-f954-4bb4-9add-1c7f94266f49",
   "metadata": {},
   "source": [
    "<img src=\"logo.png\">"
   ]
  },
  {
   "cell_type": "code",
   "execution_count": 1,
   "id": "9a38a567-fdd3-4c16-9ee2-190d7a43d545",
   "metadata": {},
   "outputs": [],
   "source": [
    "### 506rows * 14cols DataFrame 생성"
   ]
  },
  {
   "cell_type": "code",
   "execution_count": 2,
   "id": "dab7231f-f879-4f3a-87aa-b662acd34072",
   "metadata": {},
   "outputs": [],
   "source": [
    "from sklearn.datasets import load_boston\n",
    "import pandas as pd\n",
    "import numpy as np\n",
    "import matplotlib.pyplot as plt\n",
    "import seaborn as sns\n",
    "import warnings\n",
    "warnings.filterwarnings(action='ignore')\n",
    "\n",
    "\n",
    "# from sklearn.linear_model import LogisticRegression ###---(분류 주의주의)\n",
    "# -------------------------------------------------\n",
    "from sklearn.linear_model import LinearRegression, Ridge, Lasso, ElasticNet\n",
    "# from sklearn.tree import DecisionTreeClassifier\n",
    "from sklearn.tree import DecisionTreeRegressor\n",
    "# from xgboost import XGBClassifier\n",
    "from xgboost import XGBRegressor\n",
    "# from lightgbm import LGBMClassifier\n",
    "from lightgbm import LGBMRegressor\n",
    "from sklearn.linear_model import LinearRegression\n",
    "from sklearn.ensemble import RandomForestRegressor\n",
    "\n",
    "from sklearn.ensemble import VotingRegressor\n",
    "from sklearn.ensemble import BaggingRegressor\n",
    "from sklearn.ensemble import GradientBoostingRegressor\n",
    "\n",
    "\n",
    "\n",
    "from sklearn.model_selection import train_test_split\n",
    "from sklearn.metrics import mean_squared_error  #잔차(실값-예측값) 제곱 합의 평균\n",
    "from sklearn.metrics import mean_squared_log_error\n",
    "from sklearn.metrics import r2_score\n",
    "from scipy.stats import skew, kurtosis  #왜도(skew):좌우치우침    첨도(kurt):중앙값의뾰족함정도\n",
    "\n",
    "from sklearn.preprocessing import StandardScaler, MinMaxScaler,RobustScaler\n",
    "from sklearn.model_selection import KFold, cross_val_score, GridSearchCV    # =StratifiedKFold 회귀에선 사용불가\n",
    "\n",
    "sns.set()"
   ]
  },
  {
   "cell_type": "markdown",
   "id": "e55a313f-c694-401c-a778-72823ed4e9f8",
   "metadata": {},
   "source": [
    "# Data load"
   ]
  },
  {
   "cell_type": "code",
   "execution_count": 3,
   "id": "35491a22-8276-4a43-85a3-f41ac84c5f47",
   "metadata": {},
   "outputs": [],
   "source": [
    "dataset = load_boston()"
   ]
  },
  {
   "cell_type": "code",
   "execution_count": 4,
   "id": "fdb45bd0-7d6e-4ee4-ac5c-8e64fd43f30d",
   "metadata": {},
   "outputs": [
    {
     "data": {
      "text/plain": [
       "dict_keys(['data', 'target', 'feature_names', 'DESCR', 'filename'])"
      ]
     },
     "execution_count": 4,
     "metadata": {},
     "output_type": "execute_result"
    }
   ],
   "source": [
    "dataset.keys()"
   ]
  },
  {
   "cell_type": "code",
   "execution_count": 5,
   "id": "f7ec1934-108e-4c9d-94ce-ffcb561a42fb",
   "metadata": {},
   "outputs": [],
   "source": [
    "df = pd.DataFrame(data=dataset['data'], columns=dataset['feature_names'])\n",
    "df['target'] = dataset['target']"
   ]
  },
  {
   "cell_type": "code",
   "execution_count": 6,
   "id": "9f862314-6c54-4fb0-9d9f-3a93d59e69fc",
   "metadata": {},
   "outputs": [
    {
     "data": {
      "text/html": [
       "<div>\n",
       "<style scoped>\n",
       "    .dataframe tbody tr th:only-of-type {\n",
       "        vertical-align: middle;\n",
       "    }\n",
       "\n",
       "    .dataframe tbody tr th {\n",
       "        vertical-align: top;\n",
       "    }\n",
       "\n",
       "    .dataframe thead th {\n",
       "        text-align: right;\n",
       "    }\n",
       "</style>\n",
       "<table border=\"1\" class=\"dataframe\">\n",
       "  <thead>\n",
       "    <tr style=\"text-align: right;\">\n",
       "      <th></th>\n",
       "      <th>CRIM</th>\n",
       "      <th>ZN</th>\n",
       "      <th>INDUS</th>\n",
       "      <th>CHAS</th>\n",
       "      <th>NOX</th>\n",
       "      <th>RM</th>\n",
       "      <th>AGE</th>\n",
       "      <th>DIS</th>\n",
       "      <th>RAD</th>\n",
       "      <th>TAX</th>\n",
       "      <th>PTRATIO</th>\n",
       "      <th>B</th>\n",
       "      <th>LSTAT</th>\n",
       "      <th>target</th>\n",
       "    </tr>\n",
       "  </thead>\n",
       "  <tbody>\n",
       "    <tr>\n",
       "      <th>0</th>\n",
       "      <td>0.00632</td>\n",
       "      <td>18.0</td>\n",
       "      <td>2.31</td>\n",
       "      <td>0.0</td>\n",
       "      <td>0.538</td>\n",
       "      <td>6.575</td>\n",
       "      <td>65.2</td>\n",
       "      <td>4.0900</td>\n",
       "      <td>1.0</td>\n",
       "      <td>296.0</td>\n",
       "      <td>15.3</td>\n",
       "      <td>396.90</td>\n",
       "      <td>4.98</td>\n",
       "      <td>24.0</td>\n",
       "    </tr>\n",
       "    <tr>\n",
       "      <th>1</th>\n",
       "      <td>0.02731</td>\n",
       "      <td>0.0</td>\n",
       "      <td>7.07</td>\n",
       "      <td>0.0</td>\n",
       "      <td>0.469</td>\n",
       "      <td>6.421</td>\n",
       "      <td>78.9</td>\n",
       "      <td>4.9671</td>\n",
       "      <td>2.0</td>\n",
       "      <td>242.0</td>\n",
       "      <td>17.8</td>\n",
       "      <td>396.90</td>\n",
       "      <td>9.14</td>\n",
       "      <td>21.6</td>\n",
       "    </tr>\n",
       "    <tr>\n",
       "      <th>2</th>\n",
       "      <td>0.02729</td>\n",
       "      <td>0.0</td>\n",
       "      <td>7.07</td>\n",
       "      <td>0.0</td>\n",
       "      <td>0.469</td>\n",
       "      <td>7.185</td>\n",
       "      <td>61.1</td>\n",
       "      <td>4.9671</td>\n",
       "      <td>2.0</td>\n",
       "      <td>242.0</td>\n",
       "      <td>17.8</td>\n",
       "      <td>392.83</td>\n",
       "      <td>4.03</td>\n",
       "      <td>34.7</td>\n",
       "    </tr>\n",
       "    <tr>\n",
       "      <th>3</th>\n",
       "      <td>0.03237</td>\n",
       "      <td>0.0</td>\n",
       "      <td>2.18</td>\n",
       "      <td>0.0</td>\n",
       "      <td>0.458</td>\n",
       "      <td>6.998</td>\n",
       "      <td>45.8</td>\n",
       "      <td>6.0622</td>\n",
       "      <td>3.0</td>\n",
       "      <td>222.0</td>\n",
       "      <td>18.7</td>\n",
       "      <td>394.63</td>\n",
       "      <td>2.94</td>\n",
       "      <td>33.4</td>\n",
       "    </tr>\n",
       "    <tr>\n",
       "      <th>4</th>\n",
       "      <td>0.06905</td>\n",
       "      <td>0.0</td>\n",
       "      <td>2.18</td>\n",
       "      <td>0.0</td>\n",
       "      <td>0.458</td>\n",
       "      <td>7.147</td>\n",
       "      <td>54.2</td>\n",
       "      <td>6.0622</td>\n",
       "      <td>3.0</td>\n",
       "      <td>222.0</td>\n",
       "      <td>18.7</td>\n",
       "      <td>396.90</td>\n",
       "      <td>5.33</td>\n",
       "      <td>36.2</td>\n",
       "    </tr>\n",
       "  </tbody>\n",
       "</table>\n",
       "</div>"
      ],
      "text/plain": [
       "      CRIM    ZN  INDUS  CHAS    NOX     RM   AGE     DIS  RAD    TAX  \\\n",
       "0  0.00632  18.0   2.31   0.0  0.538  6.575  65.2  4.0900  1.0  296.0   \n",
       "1  0.02731   0.0   7.07   0.0  0.469  6.421  78.9  4.9671  2.0  242.0   \n",
       "2  0.02729   0.0   7.07   0.0  0.469  7.185  61.1  4.9671  2.0  242.0   \n",
       "3  0.03237   0.0   2.18   0.0  0.458  6.998  45.8  6.0622  3.0  222.0   \n",
       "4  0.06905   0.0   2.18   0.0  0.458  7.147  54.2  6.0622  3.0  222.0   \n",
       "\n",
       "   PTRATIO       B  LSTAT  target  \n",
       "0     15.3  396.90   4.98    24.0  \n",
       "1     17.8  396.90   9.14    21.6  \n",
       "2     17.8  392.83   4.03    34.7  \n",
       "3     18.7  394.63   2.94    33.4  \n",
       "4     18.7  396.90   5.33    36.2  "
      ]
     },
     "execution_count": 6,
     "metadata": {},
     "output_type": "execute_result"
    }
   ],
   "source": [
    "df.head()"
   ]
  },
  {
   "cell_type": "code",
   "execution_count": 7,
   "id": "e60ef211-81af-4f4e-8a8f-9ac15a77c4be",
   "metadata": {},
   "outputs": [],
   "source": [
    "df.to_csv(\"toy_boston_houseprice.csv\", index=False)"
   ]
  },
  {
   "cell_type": "markdown",
   "id": "675facd5-dc7b-4ad0-b21a-c0b3b371fb84",
   "metadata": {},
   "source": [
    "#  EDA"
   ]
  },
  {
   "cell_type": "code",
   "execution_count": 8,
   "id": "a26d1ee1-6ce9-4c94-978d-5a7ae0e47656",
   "metadata": {},
   "outputs": [
    {
     "name": "stdout",
     "output_type": "stream",
     "text": [
      "<class 'pandas.core.frame.DataFrame'>\n",
      "RangeIndex: 506 entries, 0 to 505\n",
      "Data columns (total 14 columns):\n",
      " #   Column   Non-Null Count  Dtype  \n",
      "---  ------   --------------  -----  \n",
      " 0   CRIM     506 non-null    float64\n",
      " 1   ZN       506 non-null    float64\n",
      " 2   INDUS    506 non-null    float64\n",
      " 3   CHAS     506 non-null    float64\n",
      " 4   NOX      506 non-null    float64\n",
      " 5   RM       506 non-null    float64\n",
      " 6   AGE      506 non-null    float64\n",
      " 7   DIS      506 non-null    float64\n",
      " 8   RAD      506 non-null    float64\n",
      " 9   TAX      506 non-null    float64\n",
      " 10  PTRATIO  506 non-null    float64\n",
      " 11  B        506 non-null    float64\n",
      " 12  LSTAT    506 non-null    float64\n",
      " 13  target   506 non-null    float64\n",
      "dtypes: float64(14)\n",
      "memory usage: 55.5 KB\n"
     ]
    }
   ],
   "source": [
    "df.info()"
   ]
  },
  {
   "cell_type": "markdown",
   "id": "a85355be-dd00-49d5-b2df-e2add8d724b1",
   "metadata": {},
   "source": [
    "<pre>\n",
    "crim\t자치시(town)별 1인당 범죄율\n",
    "zn\t25,000 평방 피트를 초과하는 거주지역의 비율\n",
    "indus\t비소매상업지역이 차지하고 있는 토지의 비율\n",
    "chas\t찰스강의 경계에 위치한 경우는 1, 아니면 0\n",
    "nox\t10ppm 당 농축 일산화질소\n",
    "rm\t주택 1가구당 평균 방의 수\n",
    "age\t1940년 이전에 건축한 소유주택 비율\n",
    "dis\t보스톤 직업센터까지의 접근성 지수\n",
    "rad\t방사형 도로까지의 접근성 지수\n",
    "tax\t10,000 달러당 재산세율\n",
    "ptratio\t자치시(town)별 학생/교사 비율\n",
    "b\t자치시(town)별 흑인의 비율\n",
    "lstat\t모집단의 하위 계층의 비율\n",
    "</pre>"
   ]
  },
  {
   "cell_type": "code",
   "execution_count": 9,
   "id": "0ab83b27-c93a-4357-8cfd-21e98990b7b3",
   "metadata": {},
   "outputs": [
    {
     "data": {
      "image/png": "[encoded data removed]",
      "text/plain": [
       "<Figure size 1152x720 with 16 Axes>"
      ]
     },
     "metadata": {},
     "output_type": "display_data"
    }
   ],
   "source": [
    "df.hist(figsize=(16,10))\n",
    "plt.show()"
   ]
  },
  {
   "cell_type": "markdown",
   "id": "58c7badf-a931-468b-b403-dd8cdbb5e951",
   "metadata": {},
   "source": [
    "# 학습"
   ]
  },
  {
   "cell_type": "markdown",
   "id": "623411c1-7806-4676-9941-745297f0b346",
   "metadata": {},
   "source": [
    "## 데이터 분리"
   ]
  },
  {
   "cell_type": "code",
   "execution_count": 10,
   "id": "b18ba1cd-f5a5-445e-badb-9baf4a460ddc",
   "metadata": {},
   "outputs": [],
   "source": [
    "y = df['target']\n",
    "X = df.drop(['target'], axis=1)"
   ]
  },
  {
   "cell_type": "code",
   "execution_count": 11,
   "id": "68317582-2c9a-44e1-84cd-658819367d24",
   "metadata": {},
   "outputs": [],
   "source": [
    "X_train, X_test, y_train, y_test =train_test_split(X, y, test_size=0.2, random_state=1414)"
   ]
  },
  {
   "cell_type": "markdown",
   "id": "fd44ce52-9a3c-4177-9a0c-b0c83aeb2d51",
   "metadata": {
    "tags": []
   },
   "source": [
    "# 모델\n",
    "* 랏쏘 : L1규제 -->  x|w|  중요하지 않은 피쳐의 회귀계수를 0으로 만들수 있다.\n",
    "* 릿지 : L2규제 -->  xw^2  중요하지 않은 피쳐의 회귀계수를 0에 가깝게 만든다.(피쳐가 없어지진 않는다)\n",
    "* ElasicNet , XGBoostRegressor , LightGBMRegressor, *TreeRegressor\n",
    "* LogisticRegressor는 분류모델이다 ******"
   ]
  },
  {
   "cell_type": "markdown",
   "id": "d6dad1cc-5f66-48d0-899e-ed3c8b41a5f3",
   "metadata": {},
   "source": [
    "* ref : https://xgboost.readthedocs.io/en/latest/python/python_api.html#xgboost.XGBRegressor"
   ]
  },
  {
   "cell_type": "markdown",
   "id": "2bbfab93-1d1d-4b6d-9290-32d4d424380e",
   "metadata": {
    "tags": []
   },
   "source": [
    "## 평가 매트릭스 \n",
    "* 잔차제곱합의평균 ( MSE )  -- SSR -- RMSL RMSLE  MAE LogLoss\n",
    "*    E    S   M"
   ]
  },
  {
   "cell_type": "markdown",
   "id": "c21fb2db-9bbd-444b-92f3-74d1e3eb18f9",
   "metadata": {},
   "source": [
    "<pre>\n",
    "‘neg_mean_absolute_error’      metrics.mean_absolute_error\n",
    "‘neg_     mean_squared_error’  metrics.mean_squared_error()\n",
    "‘neg_root_mean_squared_error’  metrics.mean_squared_error(squared=False)\n",
    "‘neg_mean_squared_log_error’   metrics.mean_squared_log_error\n",
    "---\n",
    "‘neg_log_loss’                 metrics.log_loss (분류)\n",
    "</pre>"
   ]
  },
  {
   "cell_type": "markdown",
   "id": "a8e73fcf-a6d6-437f-89a9-69de2b622671",
   "metadata": {},
   "source": [
    "## 1차 점수확인 : 무조건 점수부터 보자(결측x, object X)"
   ]
  },
  {
   "cell_type": "code",
   "execution_count": 12,
   "id": "7593f555-51f2-4e86-ad23-13843d75ac73",
   "metadata": {},
   "outputs": [
    {
     "name": "stdout",
     "output_type": "stream",
     "text": [
      "dict_keys(['alpha', 'copy_X', 'fit_intercept', 'l1_ratio', 'max_iter', 'normalize', 'positive', 'precompute', 'random_state', 'selection', 'tol', 'warm_start'])\n"
     ]
    }
   ],
   "source": [
    "from sklearn.linear_model import Ridge, Lasso, ElasticNet\n",
    "from sklearn.linear_model import RidgeClassifier\n",
    "#L1\n",
    "lasso_model = Lasso(alpha=10.0, normalize=False,  random_state=1414, max_iter=1000)\n",
    "#L2\n",
    "ridge_model = Ridge(alpha=10.0, normalize=False,  random_state=1414, max_iter=None)\n",
    "#L1(r):L2(1-r)\n",
    "elastic_moel = ElasticNet(alpha=1.0, normalize=False, random_state=1414, max_iter=1000, l1_ratio=0 )\n",
    "print(elastic_moel.get_params().keys())\n"
   ]
  },
  {
   "cell_type": "code",
   "execution_count": 13,
   "id": "fe5c1df6-af1c-482f-8336-2591b14831d4",
   "metadata": {},
   "outputs": [
    {
     "name": "stdout",
     "output_type": "stream",
     "text": [
      "Lasso\t MSE:53.1806 RMSE:7.2925\n",
      "Ridge\t MSE:35.3242 RMSE:5.9434\n",
      "ElasticNet\t MSE:37.6954 RMSE:6.1397\n"
     ]
    }
   ],
   "source": [
    "models = [lasso_model, ridge_model, elastic_moel]\n",
    "for model in models:\n",
    "    model.fit(X_train,  y_train,)\n",
    "    pred = model.predict(X_test)\n",
    "    mse  = mean_squared_error(y_test, pred)\n",
    "    rmse = mean_squared_error(y_test, pred, squared=False)\n",
    "    print(f\"{model.__class__.__name__}\\t MSE:{mse:.4f} RMSE:{rmse:.4f}\")\n",
    "    "
   ]
  },
  {
   "cell_type": "code",
   "execution_count": 14,
   "id": "bc9fc482-5509-4aca-94c2-c9907d750483",
   "metadata": {},
   "outputs": [],
   "source": [
    "# alpha=1.0\n",
    "# Lasso\t MSE:39.0914 RMSE:6.2523  + 1 \n",
    "# Ridge\t MSE:34.6178 RMSE:5.8837  1  w \n",
    "# alpha=0\n",
    "# Lasso\t MSE:34.2563 RMSE:5.8529  + 0\n",
    "# Ridge\t MSE:34.2563 RMSE:5.8529  0  w\n",
    "# alpha=10.0\n",
    "# Lasso\t MSE:53.1806 RMSE:7.2925   + 10\n",
    "# Ridge\t MSE:35.3242 RMSE:5.9434   10 w"
   ]
  },
  {
   "cell_type": "code",
   "execution_count": null,
   "id": "95d78257-b937-482c-ab3a-d0b73049e638",
   "metadata": {},
   "outputs": [],
   "source": []
  },
  {
   "cell_type": "markdown",
   "id": "6a4f0594-fc92-4f2a-bf32-33f4bf0f0547",
   "metadata": {},
   "source": [
    "### 규제 변화에 따른 분산, 편향, 가중치\n",
    "* intercept_ : float or ndarray of shape (n_targets,)\n",
    "* coef_ : ndarray of shape (n_features,) or (n_targets, n_features) Weight vector(s)."
   ]
  },
  {
   "cell_type": "code",
   "execution_count": 15,
   "id": "6c211a17-1f9a-45be-98b6-5ec6ed4a06ed",
   "metadata": {},
   "outputs": [
    {
     "data": {
      "text/plain": [
       "array(['CRIM', 'ZN', 'INDUS', 'CHAS', 'NOX', 'RM', 'AGE', 'DIS', 'RAD',\n",
       "       'TAX', 'PTRATIO', 'B', 'LSTAT'], dtype=object)"
      ]
     },
     "execution_count": 15,
     "metadata": {},
     "output_type": "execute_result"
    }
   ],
   "source": [
    "X_train.columns.values"
   ]
  },
  {
   "cell_type": "code",
   "execution_count": 16,
   "id": "406eb876-7e26-4298-acbe-48f1f8d38b83",
   "metadata": {},
   "outputs": [
    {
     "data": {
      "text/plain": [
       "array([-0.07307956,  0.05414576, -0.02206419,  0.14167072, -0.03882176,\n",
       "        0.99380704,  0.01861065, -0.77807621,  0.25953617, -0.01601377,\n",
       "       -0.79515065,  0.00906677, -0.73586704])"
      ]
     },
     "execution_count": 16,
     "metadata": {},
     "output_type": "execute_result"
    }
   ],
   "source": [
    "model.coef_"
   ]
  },
  {
   "cell_type": "code",
   "execution_count": 17,
   "id": "ffb38556-5ff7-4c09-a4e2-a3237770afc6",
   "metadata": {},
   "outputs": [
    {
     "name": "stdout",
     "output_type": "stream",
     "text": [
      "0.01 RMSE:5.8698\n",
      "30.35688149213565\n"
     ]
    },
    {
     "data": {
      "image/png": "[encoded data removed]",
      "text/plain": [
       "<Figure size 432x288 with 1 Axes>"
      ]
     },
     "metadata": {},
     "output_type": "display_data"
    },
    {
     "name": "stdout",
     "output_type": "stream",
     "text": [
      "[-8.67035793e-02  4.35937327e-02  3.44614917e-02  1.43057613e+00\n",
      " -1.35410624e+01  4.24244991e+00 -3.39632650e-03 -1.29654791e+00\n",
      "  2.41916287e-01 -1.26851529e-02 -9.35181612e-01  1.05089491e-02\n",
      " -4.94402239e-01]\n",
      "0 RMSE:5.8529\n",
      "32.54509640645095\n"
     ]
    },
    {
     "data": {
      "image/png": "[encoded data removed]",
      "text/plain": [
       "<Figure size 432x288 with 1 Axes>"
      ]
     },
     "metadata": {},
     "output_type": "display_data"
    },
    {
     "name": "stdout",
     "output_type": "stream",
     "text": [
      "[-8.87363259e-02  4.31259077e-02  4.97820875e-02  1.57751077e+00\n",
      " -1.69788138e+01  4.24341501e+00 -5.61371436e-04 -1.34742559e+00\n",
      "  2.50531860e-01 -1.23959553e-02 -9.71471053e-01  1.03767729e-02\n",
      " -4.89424488e-01]\n",
      "1 RMSE:6.2523\n",
      "38.939786257809104\n"
     ]
    },
    {
     "data": {
      "image/png": "[encoded data removed]",
      "text/plain": [
       "<Figure size 432x288 with 1 Axes>"
      ]
     },
     "metadata": {},
     "output_type": "display_data"
    },
    {
     "name": "stdout",
     "output_type": "stream",
     "text": [
      "[-0.0433166   0.0443276  -0.          0.         -0.          1.23318949\n",
      "  0.01718809 -0.59725928  0.17627666 -0.01297778 -0.7593418   0.00895454\n",
      " -0.72368651]\n",
      "1.5 RMSE:6.5287\n",
      "45.021514967890184\n"
     ]
    },
    {
     "data": {
      "image/png": "[encoded data removed]",
      "text/plain": [
       "<Figure size 432x288 with 1 Axes>"
      ]
     },
     "metadata": {},
     "output_type": "display_data"
    },
    {
     "name": "stdout",
     "output_type": "stream",
     "text": [
      "[-0.02410344  0.04155793 -0.          0.         -0.          0.\n",
      "  0.0318317  -0.33111987  0.14376214 -0.01157516 -0.71710014  0.00793\n",
      " -0.80809281]\n",
      "2 RMSE:6.7052\n",
      "41.31221813598378\n"
     ]
    },
    {
     "data": {
      "image/png": "[encoded data removed]",
      "text/plain": [
       "<Figure size 432x288 with 1 Axes>"
      ]
     },
     "metadata": {},
     "output_type": "display_data"
    },
    {
     "name": "stdout",
     "output_type": "stream",
     "text": [
      "[-0.00482487  0.03189841 -0.          0.         -0.          0.\n",
      "  0.03966509 -0.02431205  0.08295313 -0.00899811 -0.62526757  0.00750765\n",
      " -0.80616953]\n",
      "2.5 RMSE:6.8022\n",
      "38.58751870999201\n"
     ]
    },
    {
     "data": {
      "image/png": "[encoded data removed]",
      "text/plain": [
       "<Figure size 432x288 with 1 Axes>"
      ]
     },
     "metadata": {},
     "output_type": "display_data"
    },
    {
     "name": "stdout",
     "output_type": "stream",
     "text": [
      "[-0.          0.03304373 -0.          0.         -0.          0.\n",
      "  0.03846539 -0.          0.03018511 -0.00741494 -0.48442693  0.00710025\n",
      " -0.79927363]\n",
      "3 RMSE:6.8741\n",
      "36.14498437777185\n"
     ]
    },
    {
     "data": {
      "image/png": "[encoded data removed]",
      "text/plain": [
       "<Figure size 432x288 with 1 Axes>"
      ]
     },
     "metadata": {},
     "output_type": "display_data"
    },
    {
     "name": "stdout",
     "output_type": "stream",
     "text": [
      "[-0.          0.03538824 -0.          0.          0.          0.\n",
      "  0.03670156 -0.          0.         -0.00684674 -0.34331081  0.00675644\n",
      " -0.79044543]\n"
     ]
    }
   ],
   "source": [
    "#L1\n",
    "alphas = [.01,  0,  1, 1.5, 2, 2.5, 3]\n",
    "for a in alphas:\n",
    "    model = Lasso(alpha=a, normalize=False,  random_state=1414, max_iter=1000)\n",
    "    model.fit(X_train,  y_train,)\n",
    "    df = pd.DataFrame({\"col\":X_train.columns.values, \"coef\":model.coef_ })\n",
    "    \n",
    "    pred = model.predict(X_test)\n",
    "    rmse = mean_squared_error(y_test, pred, squared=False)\n",
    "    print(f\"{a} RMSE:{rmse:.4f}\")\n",
    "    print(model.intercept_)\n",
    "    sns.barplot(data=df.sort_values(by='coef'), y='coef' , x=\"col\")\n",
    "    plt.show()\n",
    "    print(df['coef'].values)\n",
    "    "
   ]
  },
  {
   "cell_type": "code",
   "execution_count": 18,
   "id": "f5e47d1d-614b-4d67-ac69-a51d622fd01d",
   "metadata": {},
   "outputs": [
    {
     "name": "stdout",
     "output_type": "stream",
     "text": [
      "0.01 RMSE:5.8531\n",
      "32.45025527218269\n"
     ]
    },
    {
     "data": {
      "image/png": "[encoded data removed]",
      "text/plain": [
       "<Figure size 432x288 with 1 Axes>"
      ]
     },
     "metadata": {},
     "output_type": "display_data"
    },
    {
     "name": "stdout",
     "output_type": "stream",
     "text": [
      "[-8.86572457e-02  4.31493390e-02  4.91451234e-02  1.57710983e+00\n",
      " -1.68385928e+01  4.24413567e+00 -6.95796820e-04 -1.34553093e+00\n",
      "  2.50167309e-01 -1.24064888e-02 -9.69912515e-01  1.03819385e-02\n",
      " -4.89569641e-01]\n",
      "0 RMSE:5.8529\n",
      "32.54509640645068\n"
     ]
    },
    {
     "data": {
      "image/png": "[encoded data removed]",
      "text/plain": [
       "<Figure size 432x288 with 1 Axes>"
      ]
     },
     "metadata": {},
     "output_type": "display_data"
    },
    {
     "name": "stdout",
     "output_type": "stream",
     "text": [
      "[-8.87363259e-02  4.31259077e-02  4.97820875e-02  1.57751077e+00\n",
      " -1.69788138e+01  4.24341501e+00 -5.61371436e-04 -1.34742559e+00\n",
      "  2.50531860e-01 -1.23959553e-02 -9.71471053e-01  1.03767729e-02\n",
      " -4.89424488e-01]\n",
      "1 RMSE:5.8837\n",
      "27.471420387161537\n"
     ]
    },
    {
     "data": {
      "image/png": "[encoded data removed]",
      "text/plain": [
       "<Figure size 432x288 with 1 Axes>"
      ]
     },
     "metadata": {},
     "output_type": "display_data"
    },
    {
     "name": "stdout",
     "output_type": "stream",
     "text": [
      "[-8.44234679e-02  4.44827870e-02  1.47711873e-02  1.53165026e+00\n",
      " -9.26654612e+00  4.26556035e+00 -7.80414607e-03 -1.24321200e+00\n",
      "  2.31025715e-01 -1.29993098e-02 -8.86838258e-01  1.06555292e-02\n",
      " -4.98648746e-01]\n",
      "1.5 RMSE:5.8952\n",
      "26.43053525000291\n"
     ]
    },
    {
     "data": {
      "image/png": "[encoded data removed]",
      "text/plain": [
       "<Figure size 432x288 with 1 Axes>"
      ]
     },
     "metadata": {},
     "output_type": "display_data"
    },
    {
     "name": "stdout",
     "output_type": "stream",
     "text": [
      "[-8.34859942e-02  4.48258403e-02  6.99955221e-03  1.50757595e+00\n",
      " -7.55261825e+00  4.25981283e+00 -9.32226961e-03 -1.22004171e+00\n",
      "  2.27016232e-01 -1.31476125e-02 -8.68677913e-01  1.07140916e-02\n",
      " -5.01454656e-01]\n",
      "2 RMSE:5.9040\n",
      "25.762599389514744\n"
     ]
    },
    {
     "data": {
      "image/png": "[encoded data removed]",
      "text/plain": [
       "<Figure size 432x288 with 1 Axes>"
      ]
     },
     "metadata": {},
     "output_type": "display_data"
    },
    {
     "name": "stdout",
     "output_type": "stream",
     "text": [
      "[-8.28521249e-02  4.50846303e-02  1.65795260e-03  1.48378464e+00\n",
      " -6.37423686e+00  4.24995677e+00 -1.03157224e-02 -1.20410033e+00\n",
      "  2.24435095e-01 -1.32571495e-02 -8.56539692e-01  1.07523969e-02\n",
      " -5.03801630e-01]\n",
      "2.5 RMSE:5.9109\n",
      "25.315763988029648\n"
     ]
    },
    {
     "data": {
      "image/png": "[encoded data removed]",
      "text/plain": [
       "<Figure size 432x288 with 1 Axes>"
      ]
     },
     "metadata": {},
     "output_type": "display_data"
    },
    {
     "name": "stdout",
     "output_type": "stream",
     "text": [
      "[-8.23981076e-02  4.52930454e-02 -2.24068752e-03  1.46049701e+00\n",
      " -5.51428818e+00  4.23772000e+00 -1.09979129e-02 -1.19245396e+00\n",
      "  2.22698700e-01 -1.33433854e-02 -8.47972047e-01  1.07786288e-02\n",
      " -5.05871003e-01]\n",
      "3 RMSE:5.9164\n",
      "25.01050219446219\n"
     ]
    },
    {
     "data": {
      "image/png": "[encoded data removed]",
      "text/plain": [
       "<Figure size 432x288 with 1 Axes>"
      ]
     },
     "metadata": {},
     "output_type": "display_data"
    },
    {
     "name": "stdout",
     "output_type": "stream",
     "text": [
      "[-0.08205916  0.04546884 -0.00521323  1.43780749 -4.85904651  4.22400724\n",
      " -0.0114806  -1.18356585  0.22150157 -0.01341443 -0.84169133  0.01079708\n",
      " -0.50775781]\n"
     ]
    }
   ],
   "source": [
    "#L2\n",
    "alphas = [.01,  0,  1, 1.5, 2, 2.5, 3]\n",
    "for a in alphas:\n",
    "    model = Ridge(alpha=a, normalize=False,  random_state=1414, max_iter=1000)\n",
    "    model.fit(X_train,  y_train,)\n",
    "    df = pd.DataFrame({\"col\":X_train.columns.values, \"coef\":model.coef_ })\n",
    "    \n",
    "    pred = model.predict(X_test)\n",
    "    rmse = mean_squared_error(y_test, pred, squared=False)\n",
    "    print(f\"{a} RMSE:{rmse:.4f}\")\n",
    "    print(model.intercept_)\n",
    "    sns.barplot(data=df.sort_values(by='coef'), y='coef' , x=\"col\")\n",
    "    plt.show()\n",
    "    print(df['coef'].values)\n"
   ]
  },
  {
   "cell_type": "markdown",
   "id": "830a17d6-b96a-4c86-a833-0fa15648723b",
   "metadata": {},
   "source": [
    "## Voting 앙상블"
   ]
  },
  {
   "cell_type": "code",
   "execution_count": 19,
   "id": "04977dca-688d-4ce9-8dd5-acdb752e47eb",
   "metadata": {},
   "outputs": [
    {
     "name": "stdout",
     "output_type": "stream",
     "text": [
      "dict_keys(['alpha', 'copy_X', 'fit_intercept', 'l1_ratio', 'max_iter', 'normalize', 'positive', 'precompute', 'random_state', 'selection', 'tol', 'warm_start'])\n",
      "3 MSE:28.1640  RMSE:5.3070\n"
     ]
    }
   ],
   "source": [
    "lr = LinearRegression(fit_intercept=True, normalize=False)\n",
    "rf = RandomForestRegressor(n_estimators=100,\n",
    "                 criterion=\"mse\",   #{\"mse\", \"mae\"}, default=\"mse\"\n",
    "                 max_depth=None,\n",
    "                 min_samples_split=2,\n",
    "                 min_samples_leaf=1,\n",
    "                 bootstrap=True,\n",
    "                 oob_score=False,\n",
    "                 random_state=1414)\n",
    "\n",
    "#L1\n",
    "lasso_model = Lasso(alpha=1.0, normalize=False,  random_state=1414, max_iter=1000)\n",
    "#L2\n",
    "ridge_model = Ridge(alpha=1.0, normalize=False,  random_state=1414, max_iter=None)\n",
    "#L1(r):L2(1-r)\n",
    "elastic_moel = ElasticNet(alpha=1.0, normalize=False, random_state=1414, max_iter=1000, l1_ratio=0.7 )\n",
    "print(elastic_moel.get_params().keys())\n",
    "\n",
    "#estimators : list of (str, estimator) tuples\n",
    "voting_model = VotingRegressor( estimators=[(\"LR\", lr),(\"FOREST\", rf),\n",
    "                                      (\"LASSO\", lasso_model),\n",
    "                                      (\"RIDGE\", ridge_model)])\n",
    "\n",
    "voting_model.fit(X_train, y_train)\n",
    "pred = voting_model.predict(X_test)\n",
    "# rmse = mean_squared_error(y_test, pred, squared=False)\n",
    "# print(f\"{a} MSE:{np.square(rmse):.4f}  RMSE:{rmse:.4f}\")\n",
    "\n",
    "mse = mean_squared_error(y_test, pred, squared=True)\n",
    "print(f\"{a} MSE:{mse:.4f}  RMSE:{np.sqrt(mse):.4f}\")\n",
    "\n"
   ]
  },
  {
   "cell_type": "code",
   "execution_count": 22,
   "id": "1634223e-48e8-40f2-966f-e6d70ff53136",
   "metadata": {},
   "outputs": [],
   "source": [
    "# 원본\n",
    "# 3 MSE:28.1640  RMSE:5.3070\n",
    "\n",
    "\n",
    "\n",
    "# ------------------- 원본 -------------\n",
    "# Lasso\t MSE:53.1806 RMSE:7.2925\n",
    "# Ridge\t MSE:35.3242 RMSE:5.9434\n",
    "# ElasticNet\t MSE:37.6954 RMSE:6.1397\n",
    "\n",
    "# --------------------앙상블1차 ---------------\n",
    "# voting_model = VotingRegressor( estimators=[(\"LR\", lr),(\"FOREST\", rf),\n",
    "#                                       (\"LASSO\", lasso_model),\n",
    "#                                       (\"RIDGE\", ridge_model)])\n",
    "\n",
    "# --------------------앙상블2차 ---------------\n",
    "# voting_model = VotingRegressor( estimators=[(\"forest\", rf),\n",
    "#                                       (\"dt\", dt),\n",
    "#                                       (\"xgboost\", xgboost),\n",
    "#                                       (\"lgbm\", lgbm)     \n",
    "#                                     ])\n",
    "# MSE:37.6954  RMSE:6.1397\n"
   ]
  },
  {
   "cell_type": "code",
   "execution_count": 23,
   "id": "1dfe11a3-d8e5-4335-a45c-b9a878bf41ec",
   "metadata": {},
   "outputs": [
    {
     "name": "stdout",
     "output_type": "stream",
     "text": [
      "3 MSE:16.5901  RMSE:4.0731\n"
     ]
    }
   ],
   "source": [
    "dt = DecisionTreeRegressor()\n",
    "xgboost = XGBRegressor()\n",
    "lgbm = LGBMRegressor()\n",
    "\n",
    "\n",
    "#estimators : list of (str, estimator) tuples\n",
    "voting_model = VotingRegressor( estimators=[(\"forest\", rf),\n",
    "                                      (\"dt\", dt),\n",
    "                                      (\"xgboost\", xgboost),\n",
    "                                      (\"lgbm\", lgbm)     \n",
    "                                    ])\n",
    "\n",
    "voting_model.fit(X_train, y_train)\n",
    "pred = voting_model.predict(X_test)\n",
    "\n",
    "mse = mean_squared_error(y_test, pred, squared=True)\n",
    "print(f\"{a} MSE:{mse:.4f}  RMSE:{np.sqrt(mse):.4f}\")\n",
    "\n"
   ]
  },
  {
   "cell_type": "markdown",
   "id": "b9a2eb9f-23c1-4075-b757-025e05c4c187",
   "metadata": {},
   "source": [
    "## Bagging 앙상블"
   ]
  },
  {
   "cell_type": "code",
   "execution_count": 24,
   "id": "1a0638fc-1522-463b-a51e-bbc380e25d18",
   "metadata": {},
   "outputs": [
    {
     "name": "stdout",
     "output_type": "stream",
     "text": [
      "3 MSE:19.5802  RMSE:4.4249\n"
     ]
    }
   ],
   "source": [
    "bagging_model = BaggingRegressor(base_estimator=xgboost,  # None = DecisionTreeRegressor.\n",
    "                 n_estimators=10,\n",
    "                 max_samples=1.0,\n",
    "                 max_features=1.0,\n",
    "                 bootstrap=True,\n",
    "                 oob_score=False,\n",
    "                 random_state=1414)\n",
    "bagging_model.fit(X_train, y_train)\n",
    "pred = bagging_model.predict(X_test)\n",
    "mse = mean_squared_error(y_test, pred, squared=True)\n",
    "print(f\"{a} MSE:{mse:.4f}  RMSE:{np.sqrt(mse):.4f}\")"
   ]
  },
  {
   "cell_type": "markdown",
   "id": "b81cf16f-6b7c-4143-bd92-a2f56410c337",
   "metadata": {},
   "source": [
    "## Boosting 앙상블 "
   ]
  },
  {
   "cell_type": "code",
   "execution_count": 25,
   "id": "88641dc5-5e60-47f7-9e36-5453131c9592",
   "metadata": {},
   "outputs": [],
   "source": [
    "# bagging_model = GradientBoostingRegressor()\n",
    "# bagging_model.fit(X_train, y_train)\n",
    "# pred = bagging_model.predict(X_test)\n",
    "# mse = mean_squared_error(y_test, pred, squared=False)\n",
    "# print(f\"{a} MSE:{mse:.4f}  RMSE:{np.sqrt(mse):.4f}\")\n",
    "# #3 MSE:3.2558  RMSE:1.8044"
   ]
  },
  {
   "cell_type": "code",
   "execution_count": 26,
   "id": "1fb0f5ca-7456-4ac3-be7e-d918e40e2591",
   "metadata": {},
   "outputs": [
    {
     "name": "stdout",
     "output_type": "stream",
     "text": [
      "3 MSE:9.8625  RMSE:3.1405  R2:0.8906\n"
     ]
    }
   ],
   "source": [
    "# 기본트리 DecisionTreeRegressor 를 가중치를 주면서 학습 : 모델 강화\n",
    "boosting_model = GradientBoostingRegressor(loss='ls', learning_rate=0.1, n_estimators=100,\n",
    "                 subsample=1.0, criterion='friedman_mse',  #{'friedman_mse', 'mse', 'mae'}\n",
    "                          random_state=1414, alpha=0.9)\n",
    "boosting_model.fit(X_train, y_train)\n",
    "pred = boosting_model.predict(X_test)\n",
    "mse = mean_squared_error(y_test, pred, squared=True)\n",
    "mse = mean_squared_error(y_test, pred, squared=True)\n",
    "r2 = r2_score(y_test, pred)\n",
    "print(f\"{a} MSE:{mse:.4f}  RMSE:{np.sqrt(mse):.4f}  R2:{r2:.4f}\")"
   ]
  },
  {
   "cell_type": "markdown",
   "id": "8b569bd2-f12d-4b49-bcc3-12982be40fdc",
   "metadata": {},
   "source": [
    "## PipeLine \n",
    "* Preprocessing and Normalization  -- step list"
   ]
  },
  {
   "cell_type": "code",
   "execution_count": 27,
   "id": "3066ac9d-5660-4e4c-9656-1c282016a2a3",
   "metadata": {},
   "outputs": [
    {
     "data": {
      "text/plain": [
       "0.8906085633048834"
      ]
     },
     "execution_count": 27,
     "metadata": {},
     "output_type": "execute_result"
    }
   ],
   "source": [
    "from sklearn.pipeline import Pipeline\n",
    "ss = StandardScaler()\n",
    "pipe = Pipeline(steps=[\n",
    "                        #(\"ENCODING\",LabelEncoder()),\n",
    "                        (\"SCALER\", ss),\n",
    "                        (\"MODELFIT\",boosting_model)\n",
    "                      ]\n",
    "                )\n",
    "pipe.fit(X_train, y_train)\n",
    "pipe.score(X_test, y_test)  #R2, Accuracy"
   ]
  }
 ],
 "metadata": {
  "kernelspec": {
   "display_name": "Python 3 (ipykernel)",
   "language": "python",
   "name": "python3"
  },
  "language_info": {
   "codemirror_mode": {
    "name": "ipython",
    "version": 3
   },
   "file_extension": ".py",
   "mimetype": "text/x-python",
   "name": "python",
   "nbconvert_exporter": "python",
   "pygments_lexer": "ipython3",
   "version": "3.8.8"
  }
 },
 "nbformat": 4,
 "nbformat_minor": 5
}
