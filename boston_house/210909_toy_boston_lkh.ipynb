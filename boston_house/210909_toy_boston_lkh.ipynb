{
 "cells": [
  {
   "cell_type": "markdown",
   "id": "9ffd4477-79f1-4a9e-862c-21ea5cd55670",
   "metadata": {},
   "source": [
    "<img src='logo2.png'><br>\n",
    "* ref : https://www.kaggle.com/vikrishnan/boston-house-prices?select=housing.csv"
   ]
  },
  {
   "cell_type": "markdown",
   "id": "4aeba6d8-2dfe-4b2a-a45b-905dcea50e29",
   "metadata": {},
   "source": [
    "<img src=\"logo.png\">"
   ]
  },
  {
   "cell_type": "code",
   "execution_count": 1,
   "id": "8ef6e2fe-3403-4314-92e3-677c73acb7a2",
   "metadata": {},
   "outputs": [],
   "source": [
    "### 506rows * 14cols DataFrame 생성"
   ]
  },
  {
   "cell_type": "code",
   "execution_count": 2,
   "id": "043370d2-7a25-4a18-9747-9a6bed2077b4",
   "metadata": {},
   "outputs": [],
   "source": [
    "from sklearn.datasets import load_boston\n",
    "import pandas as pd\n",
    "import numpy as np\n",
    "import matplotlib.pyplot as plt\n",
    "import seaborn as sns\n",
    "import warnings\n",
    "warnings.filterwarnings(action='ignore')\n",
    "\n",
    "\n",
    "# from sklearn.linear_model import LogisticRegression ###---(분류 주의주의)\n",
    "# -------------------------------------------------\n",
    "from sklearn.linear_model import LinearRegression, Ridge, Lasso, ElasticNet\n",
    "# from sklearn.tree import DecisionTreeClassifier\n",
    "from sklearn.tree import DecisionTreeRegressor\n",
    "# from xgboost import XGBClassifier\n",
    "from xgboost import XGBRegressor\n",
    "# from lightgbm import LGBMClassifier\n",
    "from lightgbm import LGBMRegressor\n",
    "\n",
    "from sklearn.model_selection import train_test_split\n",
    "from sklearn.metrics import mean_squared_error  #잔차(실값-예측값) 제곱 합의 평균\n",
    "from sklearn.metrics import mean_squared_log_error\n",
    "from scipy.stats import skew, kurtosis  #왜도(skew):좌우치우침    첨도(kurt):중앙값의뾰족함정도\n",
    "\n",
    "from sklearn.preprocessing import StandardScaler, MinMaxScaler,RobustScaler\n",
    "from sklearn.model_selection import KFold, cross_val_score, GridSearchCV    # =StratifiedKFold 회귀에선 사용불가\n",
    "\n",
    "sns.set()"
   ]
  },
  {
   "cell_type": "markdown",
   "id": "e54ded77-e701-45d0-ace5-2534c8d4be6b",
   "metadata": {},
   "source": [
    "# Data load"
   ]
  },
  {
   "cell_type": "code",
   "execution_count": 3,
   "id": "85a562aa-21b4-49c7-a9dd-7883560158b9",
   "metadata": {},
   "outputs": [],
   "source": [
    "dataset = load_boston()"
   ]
  },
  {
   "cell_type": "code",
   "execution_count": 4,
   "id": "db90f52a-8c91-4459-b211-ace62ecbd710",
   "metadata": {},
   "outputs": [
    {
     "data": {
      "text/plain": [
       "dict_keys(['data', 'target', 'feature_names', 'DESCR', 'filename'])"
      ]
     },
     "execution_count": 4,
     "metadata": {},
     "output_type": "execute_result"
    }
   ],
   "source": [
    "dataset.keys()"
   ]
  },
  {
   "cell_type": "code",
   "execution_count": 5,
   "id": "2bc8a905-34fa-4283-b1f4-8d1b5e40a2e5",
   "metadata": {},
   "outputs": [],
   "source": [
    "df = pd.DataFrame(data=dataset['data'], columns=dataset['feature_names'])\n",
    "df['target'] = dataset['target']"
   ]
  },
  {
   "cell_type": "code",
   "execution_count": 6,
   "id": "25e946e5-3859-4f19-aa81-81a42fee21fa",
   "metadata": {},
   "outputs": [
    {
     "data": {
      "text/html": [
       "<div>\n",
       "<style scoped>\n",
       "    .dataframe tbody tr th:only-of-type {\n",
       "        vertical-align: middle;\n",
       "    }\n",
       "\n",
       "    .dataframe tbody tr th {\n",
       "        vertical-align: top;\n",
       "    }\n",
       "\n",
       "    .dataframe thead th {\n",
       "        text-align: right;\n",
       "    }\n",
       "</style>\n",
       "<table border=\"1\" class=\"dataframe\">\n",
       "  <thead>\n",
       "    <tr style=\"text-align: right;\">\n",
       "      <th></th>\n",
       "      <th>CRIM</th>\n",
       "      <th>ZN</th>\n",
       "      <th>INDUS</th>\n",
       "      <th>CHAS</th>\n",
       "      <th>NOX</th>\n",
       "      <th>RM</th>\n",
       "      <th>AGE</th>\n",
       "      <th>DIS</th>\n",
       "      <th>RAD</th>\n",
       "      <th>TAX</th>\n",
       "      <th>PTRATIO</th>\n",
       "      <th>B</th>\n",
       "      <th>LSTAT</th>\n",
       "      <th>target</th>\n",
       "    </tr>\n",
       "  </thead>\n",
       "  <tbody>\n",
       "    <tr>\n",
       "      <th>0</th>\n",
       "      <td>0.00632</td>\n",
       "      <td>18.0</td>\n",
       "      <td>2.31</td>\n",
       "      <td>0.0</td>\n",
       "      <td>0.538</td>\n",
       "      <td>6.575</td>\n",
       "      <td>65.2</td>\n",
       "      <td>4.0900</td>\n",
       "      <td>1.0</td>\n",
       "      <td>296.0</td>\n",
       "      <td>15.3</td>\n",
       "      <td>396.90</td>\n",
       "      <td>4.98</td>\n",
       "      <td>24.0</td>\n",
       "    </tr>\n",
       "    <tr>\n",
       "      <th>1</th>\n",
       "      <td>0.02731</td>\n",
       "      <td>0.0</td>\n",
       "      <td>7.07</td>\n",
       "      <td>0.0</td>\n",
       "      <td>0.469</td>\n",
       "      <td>6.421</td>\n",
       "      <td>78.9</td>\n",
       "      <td>4.9671</td>\n",
       "      <td>2.0</td>\n",
       "      <td>242.0</td>\n",
       "      <td>17.8</td>\n",
       "      <td>396.90</td>\n",
       "      <td>9.14</td>\n",
       "      <td>21.6</td>\n",
       "    </tr>\n",
       "    <tr>\n",
       "      <th>2</th>\n",
       "      <td>0.02729</td>\n",
       "      <td>0.0</td>\n",
       "      <td>7.07</td>\n",
       "      <td>0.0</td>\n",
       "      <td>0.469</td>\n",
       "      <td>7.185</td>\n",
       "      <td>61.1</td>\n",
       "      <td>4.9671</td>\n",
       "      <td>2.0</td>\n",
       "      <td>242.0</td>\n",
       "      <td>17.8</td>\n",
       "      <td>392.83</td>\n",
       "      <td>4.03</td>\n",
       "      <td>34.7</td>\n",
       "    </tr>\n",
       "    <tr>\n",
       "      <th>3</th>\n",
       "      <td>0.03237</td>\n",
       "      <td>0.0</td>\n",
       "      <td>2.18</td>\n",
       "      <td>0.0</td>\n",
       "      <td>0.458</td>\n",
       "      <td>6.998</td>\n",
       "      <td>45.8</td>\n",
       "      <td>6.0622</td>\n",
       "      <td>3.0</td>\n",
       "      <td>222.0</td>\n",
       "      <td>18.7</td>\n",
       "      <td>394.63</td>\n",
       "      <td>2.94</td>\n",
       "      <td>33.4</td>\n",
       "    </tr>\n",
       "    <tr>\n",
       "      <th>4</th>\n",
       "      <td>0.06905</td>\n",
       "      <td>0.0</td>\n",
       "      <td>2.18</td>\n",
       "      <td>0.0</td>\n",
       "      <td>0.458</td>\n",
       "      <td>7.147</td>\n",
       "      <td>54.2</td>\n",
       "      <td>6.0622</td>\n",
       "      <td>3.0</td>\n",
       "      <td>222.0</td>\n",
       "      <td>18.7</td>\n",
       "      <td>396.90</td>\n",
       "      <td>5.33</td>\n",
       "      <td>36.2</td>\n",
       "    </tr>\n",
       "  </tbody>\n",
       "</table>\n",
       "</div>"
      ],
      "text/plain": [
       "      CRIM    ZN  INDUS  CHAS    NOX     RM   AGE     DIS  RAD    TAX  \\\n",
       "0  0.00632  18.0   2.31   0.0  0.538  6.575  65.2  4.0900  1.0  296.0   \n",
       "1  0.02731   0.0   7.07   0.0  0.469  6.421  78.9  4.9671  2.0  242.0   \n",
       "2  0.02729   0.0   7.07   0.0  0.469  7.185  61.1  4.9671  2.0  242.0   \n",
       "3  0.03237   0.0   2.18   0.0  0.458  6.998  45.8  6.0622  3.0  222.0   \n",
       "4  0.06905   0.0   2.18   0.0  0.458  7.147  54.2  6.0622  3.0  222.0   \n",
       "\n",
       "   PTRATIO       B  LSTAT  target  \n",
       "0     15.3  396.90   4.98    24.0  \n",
       "1     17.8  396.90   9.14    21.6  \n",
       "2     17.8  392.83   4.03    34.7  \n",
       "3     18.7  394.63   2.94    33.4  \n",
       "4     18.7  396.90   5.33    36.2  "
      ]
     },
     "execution_count": 6,
     "metadata": {},
     "output_type": "execute_result"
    }
   ],
   "source": [
    "df.head()"
   ]
  },
  {
   "cell_type": "code",
   "execution_count": 7,
   "id": "66e3d834-c630-4647-8c4a-b0ca0ab5559e",
   "metadata": {},
   "outputs": [],
   "source": [
    "df.to_csv(\"toy_boston_houseprice.csv\", index=False)"
   ]
  },
  {
   "cell_type": "markdown",
   "id": "0d075b8f-0d24-4043-88fd-384fefc22177",
   "metadata": {},
   "source": [
    "#  EDA"
   ]
  },
  {
   "cell_type": "code",
   "execution_count": 8,
   "id": "c7f59d45-9c17-4eba-baf0-f5c0070102ec",
   "metadata": {},
   "outputs": [
    {
     "name": "stdout",
     "output_type": "stream",
     "text": [
      "<class 'pandas.core.frame.DataFrame'>\n",
      "RangeIndex: 506 entries, 0 to 505\n",
      "Data columns (total 14 columns):\n",
      " #   Column   Non-Null Count  Dtype  \n",
      "---  ------   --------------  -----  \n",
      " 0   CRIM     506 non-null    float64\n",
      " 1   ZN       506 non-null    float64\n",
      " 2   INDUS    506 non-null    float64\n",
      " 3   CHAS     506 non-null    float64\n",
      " 4   NOX      506 non-null    float64\n",
      " 5   RM       506 non-null    float64\n",
      " 6   AGE      506 non-null    float64\n",
      " 7   DIS      506 non-null    float64\n",
      " 8   RAD      506 non-null    float64\n",
      " 9   TAX      506 non-null    float64\n",
      " 10  PTRATIO  506 non-null    float64\n",
      " 11  B        506 non-null    float64\n",
      " 12  LSTAT    506 non-null    float64\n",
      " 13  target   506 non-null    float64\n",
      "dtypes: float64(14)\n",
      "memory usage: 55.5 KB\n"
     ]
    }
   ],
   "source": [
    "df.info()"
   ]
  },
  {
   "cell_type": "markdown",
   "id": "6e98c5b0-dff5-4d53-8207-b9ab936b4fae",
   "metadata": {},
   "source": [
    "<pre>\n",
    "crim\t자치시(town)별 1인당 범죄율\n",
    "zn\t25,000 평방 피트를 초과하는 거주지역의 비율\n",
    "indus\t비소매상업지역이 차지하고 있는 토지의 비율\n",
    "chas\t찰스강의 경계에 위치한 경우는 1, 아니면 0\n",
    "nox\t10ppm 당 농축 일산화질소\n",
    "rm\t주택 1가구당 평균 방의 수\n",
    "age\t1940년 이전에 건축한 소유주택 비율\n",
    "dis\t보스톤 직업센터까지의 접근성 지수\n",
    "rad\t방사형 도로까지의 접근성 지수\n",
    "tax\t10,000 달러당 재산세율\n",
    "ptratio\t자치시(town)별 학생/교사 비율\n",
    "b\t자치시(town)별 흑인의 비율\n",
    "lstat\t모집단의 하위 계층의 비율\n",
    "</pre>"
   ]
  },
  {
   "cell_type": "code",
   "execution_count": 9,
   "id": "bc25d97c-fc11-4504-b91e-fb6ff7e1fec8",
   "metadata": {},
   "outputs": [
    {
     "data": {
      "image/png": "[encoded data removed]",
      "text/plain": [
       "<Figure size 1152x720 with 16 Axes>"
      ]
     },
     "metadata": {},
     "output_type": "display_data"
    }
   ],
   "source": [
    "df.hist(figsize=(16,10))\n",
    "plt.show()"
   ]
  },
  {
   "cell_type": "code",
   "execution_count": 10,
   "id": "e6684b18-f98f-48c6-b55a-dbe37fca36ec",
   "metadata": {},
   "outputs": [
    {
     "data": {
      "image/png": "[encoded data removed]",
      "text/plain": [
       "<Figure size 720x720 with 2 Axes>"
      ]
     },
     "metadata": {},
     "output_type": "display_data"
    }
   ],
   "source": [
    "# 상관분석\n",
    "fig, ax = plt.subplots(figsize=(10,10))\n",
    "sns.heatmap(df.corr(), fmt='.2f', annot=True, cmap='Blues')\n",
    "plt.show()"
   ]
  },
  {
   "cell_type": "code",
   "execution_count": 11,
   "id": "ab7d5a13-ad8c-4e3e-b28c-c2af0cb64ee1",
   "metadata": {},
   "outputs": [
    {
     "data": {
      "text/plain": [
       "count    506.000000\n",
       "mean       6.284634\n",
       "std        0.702617\n",
       "min        3.561000\n",
       "25%        5.885500\n",
       "50%        6.208500\n",
       "75%        6.623500\n",
       "max        8.780000\n",
       "Name: RM, dtype: float64"
      ]
     },
     "execution_count": 11,
     "metadata": {},
     "output_type": "execute_result"
    }
   ],
   "source": [
    "df['RM'].describe()"
   ]
  },
  {
   "cell_type": "markdown",
   "id": "a4ab6b44-e0a0-4cab-b2e2-07a1c5853254",
   "metadata": {},
   "source": [
    "# 학습"
   ]
  },
  {
   "cell_type": "markdown",
   "id": "90e8dccf-48b5-4ab5-b76a-f1fcccd26b59",
   "metadata": {},
   "source": [
    "## 데이터 분리"
   ]
  },
  {
   "cell_type": "code",
   "execution_count": 12,
   "id": "641f9435-3a26-4003-82bf-e559830ddd94",
   "metadata": {},
   "outputs": [],
   "source": [
    "y = df['target']\n",
    "X = df.drop(['target'], axis=1)"
   ]
  },
  {
   "cell_type": "code",
   "execution_count": 13,
   "id": "2ed34b3d-9ec8-4186-bf6a-13ca60eb7185",
   "metadata": {},
   "outputs": [],
   "source": [
    "X_train, X_test, y_train, y_test =train_test_split(X, y, test_size=0.2, random_state=1414)"
   ]
  },
  {
   "cell_type": "markdown",
   "id": "71315abd-a224-4950-9383-b93c7b3e426e",
   "metadata": {
    "tags": []
   },
   "source": [
    "# 모델\n",
    "* 랏쏘 : L1규제 -->  x|w|  중요하지 않은 피쳐의 회귀계수를 0으로 만들수 있다.\n",
    "* 릿지 : L2규제 -->  xw^2  중요하지 않은 피쳐의 회귀계수를 0에 가깝게 만든다.(피쳐가 없어지진 않는다)\n",
    "* ElasicNet , XGBoostRegressor , LightGBMRegressor, *TreeRegressor\n",
    "* LogisticRegressor는 분류모델이다 ******"
   ]
  },
  {
   "cell_type": "markdown",
   "id": "b909427f-f97e-4c9f-81a6-a80cc6e4c52f",
   "metadata": {},
   "source": [
    "* ref : https://xgboost.readthedocs.io/en/latest/python/python_api.html#xgboost.XGBRegressor"
   ]
  },
  {
   "cell_type": "markdown",
   "id": "eb81faab-eeb6-463f-8c37-0593f7f0ea48",
   "metadata": {
    "tags": []
   },
   "source": [
    "## 평가 매트릭스 \n",
    "* 잔차제곱합의평균 ( MSE )  -- SSR -- RMSL RMSLE  MAE LogLoss\n",
    "*    E    S   M"
   ]
  },
  {
   "cell_type": "markdown",
   "id": "d99cc7e2-4a41-49bd-807d-5ba1057ce391",
   "metadata": {},
   "source": [
    "<pre>\n",
    "‘neg_mean_absolute_error’      metrics.mean_absolute_error\n",
    "‘neg_     mean_squared_error’  metrics.mean_squared_error(squared=False)\n",
    "‘neg_root_mean_squared_error’  metrics.mean_squared_error(squared=True)\n",
    "‘neg_mean_squared_log_error’   metrics.mean_squared_log_error\n",
    "---\n",
    "‘neg_log_loss’                 metrics.log_loss (분류)\n",
    "</pre>"
   ]
  },
  {
   "cell_type": "code",
   "execution_count": null,
   "id": "985ff1cf-bf32-4713-81f1-fb68cb6f79bc",
   "metadata": {},
   "outputs": [],
   "source": []
  },
  {
   "cell_type": "markdown",
   "id": "bed81bca-1fdb-4bee-bb7e-366c70ab52c4",
   "metadata": {},
   "source": [
    "## 1차 점수확인 : 무조건 점수부터 보자(결측x, object X)"
   ]
  },
  {
   "cell_type": "code",
   "execution_count": 14,
   "id": "324e2f51-cfe5-420c-945e-d185757209ba",
   "metadata": {},
   "outputs": [
    {
     "name": "stdout",
     "output_type": "stream",
     "text": [
      "LinearRegression\t MSE:34.2563 RMSE:5.8529\n",
      "Ridge\t MSE:34.6178 RMSE:5.8837\n",
      "Lasso\t MSE:39.0914 RMSE:6.2523\n",
      "ElasticNet\t MSE:38.4532 RMSE:6.2011\n",
      "DecisionTreeRegressor\t MSE:27.9262 RMSE:5.2845\n",
      "XGBRegressor\t MSE:15.6989 RMSE:3.9622\n",
      "LGBMRegressor\t MSE:17.3407 RMSE:4.1642\n"
     ]
    }
   ],
   "source": [
    "models = [LinearRegression(), Ridge(), Lasso(), ElasticNet(), DecisionTreeRegressor(),XGBRegressor(), LGBMRegressor()]\n",
    "for model in models:\n",
    "    model.fit(X_train,  y_train,)\n",
    "    pred = model.predict(X_test)\n",
    "    mse  = mean_squared_error(y_test, pred)\n",
    "    rmse = mean_squared_error(y_test, pred, squared=False)\n",
    "    print(f\"{model.__class__.__name__}\\t MSE:{mse:.4f} RMSE:{rmse:.4f}\")\n",
    "    "
   ]
  },
  {
   "cell_type": "markdown",
   "id": "90cc3287-1952-4613-9b3f-5704dfbd5a18",
   "metadata": {
    "tags": []
   },
   "source": [
    "## Outlier 삭제\n",
    "* CRIM\t5.207652\t36.752786\n",
    "* CHAS\t3.395799\t9.531453"
   ]
  },
  {
   "cell_type": "code",
   "execution_count": 15,
   "id": "e80aa1e0-bfff-457c-8fec-27cb824f37e6",
   "metadata": {},
   "outputs": [
    {
     "data": {
      "text/plain": [
       "(404, 13)"
      ]
     },
     "execution_count": 15,
     "metadata": {},
     "output_type": "execute_result"
    }
   ],
   "source": [
    "X_train.shape"
   ]
  },
  {
   "cell_type": "code",
   "execution_count": 16,
   "id": "a9564e72-ccbe-4ef6-80f7-f15339bc530a",
   "metadata": {
    "tags": []
   },
   "outputs": [
    {
     "data": {
      "text/html": [
       "<div>\n",
       "<style scoped>\n",
       "    .dataframe tbody tr th:only-of-type {\n",
       "        vertical-align: middle;\n",
       "    }\n",
       "\n",
       "    .dataframe tbody tr th {\n",
       "        vertical-align: top;\n",
       "    }\n",
       "\n",
       "    .dataframe thead th {\n",
       "        text-align: right;\n",
       "    }\n",
       "</style>\n",
       "<table border=\"1\" class=\"dataframe\">\n",
       "  <thead>\n",
       "    <tr style=\"text-align: right;\">\n",
       "      <th></th>\n",
       "      <th>CRIM</th>\n",
       "      <th>B</th>\n",
       "    </tr>\n",
       "  </thead>\n",
       "  <tbody>\n",
       "    <tr>\n",
       "      <th>count</th>\n",
       "      <td>404.000000</td>\n",
       "      <td>404.000000</td>\n",
       "    </tr>\n",
       "    <tr>\n",
       "      <th>mean</th>\n",
       "      <td>3.623255</td>\n",
       "      <td>356.627970</td>\n",
       "    </tr>\n",
       "    <tr>\n",
       "      <th>std</th>\n",
       "      <td>9.057974</td>\n",
       "      <td>90.774356</td>\n",
       "    </tr>\n",
       "    <tr>\n",
       "      <th>min</th>\n",
       "      <td>0.006320</td>\n",
       "      <td>0.320000</td>\n",
       "    </tr>\n",
       "    <tr>\n",
       "      <th>25%</th>\n",
       "      <td>0.071188</td>\n",
       "      <td>375.085000</td>\n",
       "    </tr>\n",
       "    <tr>\n",
       "      <th>50%</th>\n",
       "      <td>0.262660</td>\n",
       "      <td>391.475000</td>\n",
       "    </tr>\n",
       "    <tr>\n",
       "      <th>75%</th>\n",
       "      <td>3.489463</td>\n",
       "      <td>396.285000</td>\n",
       "    </tr>\n",
       "    <tr>\n",
       "      <th>max</th>\n",
       "      <td>88.976200</td>\n",
       "      <td>396.900000</td>\n",
       "    </tr>\n",
       "  </tbody>\n",
       "</table>\n",
       "</div>"
      ],
      "text/plain": [
       "             CRIM           B\n",
       "count  404.000000  404.000000\n",
       "mean     3.623255  356.627970\n",
       "std      9.057974   90.774356\n",
       "min      0.006320    0.320000\n",
       "25%      0.071188  375.085000\n",
       "50%      0.262660  391.475000\n",
       "75%      3.489463  396.285000\n",
       "max     88.976200  396.900000"
      ]
     },
     "execution_count": 16,
     "metadata": {},
     "output_type": "execute_result"
    }
   ],
   "source": [
    "X_train[['CRIM','B']].describe()"
   ]
  },
  {
   "cell_type": "code",
   "execution_count": 17,
   "id": "d793daf9-f6da-4c92-8a08-7c678bc5ccc4",
   "metadata": {},
   "outputs": [
    {
     "name": "stdout",
     "output_type": "stream",
     "text": [
      "count    404.000000\n",
      "mean       3.623255\n",
      "std        9.057974\n",
      "min        0.006320\n",
      "25%        0.071188\n",
      "50%        0.262660\n",
      "75%        3.489463\n",
      "max       88.976200\n",
      "Name: CRIM, dtype: float64\n"
     ]
    },
    {
     "data": {
      "image/png": "[encoded data removed]",
      "text/plain": [
       "<Figure size 720x288 with 1 Axes>"
      ]
     },
     "metadata": {},
     "output_type": "display_data"
    }
   ],
   "source": [
    "print(X_train['CRIM'].describe())\n",
    "f,ax=plt.subplots(figsize=(10,4))\n",
    "sns.boxplot(x=X_train['CRIM'])\n",
    "sns.swarmplot(x=X_train['CRIM'])\n",
    "plt.show()"
   ]
  },
  {
   "cell_type": "code",
   "execution_count": 18,
   "id": "5b9da556-bf19-4d3e-a90c-5c13a0a77755",
   "metadata": {},
   "outputs": [
    {
     "name": "stdout",
     "output_type": "stream",
     "text": [
      "count    404.000000\n",
      "mean     356.627970\n",
      "std       90.774356\n",
      "min        0.320000\n",
      "25%      375.085000\n",
      "50%      391.475000\n",
      "75%      396.285000\n",
      "max      396.900000\n",
      "Name: B, dtype: float64\n"
     ]
    },
    {
     "data": {
      "image/png": "[encoded data removed]",
      "text/plain": [
       "<Figure size 720x288 with 1 Axes>"
      ]
     },
     "metadata": {},
     "output_type": "display_data"
    }
   ],
   "source": [
    "print(X_train['B'].describe())\n",
    "f,ax=plt.subplots(figsize=(10,4))\n",
    "sns.boxplot(x=X_train['B'])\n",
    "sns.swarmplot(x=X_train['B'])\n",
    "plt.show()"
   ]
  },
  {
   "cell_type": "code",
   "execution_count": 19,
   "id": "0a1d4800-ad34-4fa7-bc97-27d5c1eca2af",
   "metadata": {},
   "outputs": [],
   "source": [
    "crim_idx = X_train[X_train['CRIM']>60].index"
   ]
  },
  {
   "cell_type": "code",
   "execution_count": 20,
   "id": "e40c7d76-32cf-491e-abfb-d74048b1eacb",
   "metadata": {},
   "outputs": [],
   "source": [
    "X_train.drop(index=crim_idx, axis=0, inplace=True)\n",
    "y_train.drop(index=crim_idx, axis=0, inplace=True)"
   ]
  },
  {
   "cell_type": "code",
   "execution_count": 21,
   "id": "9039c234-0a9d-4425-b245-9a7ca13d8d47",
   "metadata": {},
   "outputs": [],
   "source": [
    "# df.loc[380]"
   ]
  },
  {
   "cell_type": "code",
   "execution_count": 22,
   "id": "e8293595-1976-4cc9-9ca5-0a2983f12773",
   "metadata": {},
   "outputs": [],
   "source": [
    "b_idx = X_train[X_train['B']<150].index"
   ]
  },
  {
   "cell_type": "code",
   "execution_count": 23,
   "id": "cddc08d7-5619-4677-8993-31f0fbec5e99",
   "metadata": {},
   "outputs": [],
   "source": [
    "X_train.drop(index=b_idx, axis=0, inplace=True)\n",
    "y_train.drop(index=b_idx, axis=0, inplace=True)"
   ]
  },
  {
   "cell_type": "code",
   "execution_count": 24,
   "id": "06711e92-da81-42dc-a95d-9c781423b3c3",
   "metadata": {},
   "outputs": [],
   "source": [
    "X_train = X_train.reset_index(drop=True)\n",
    "y_train = y_train.reset_index(drop=True)"
   ]
  },
  {
   "cell_type": "code",
   "execution_count": 25,
   "id": "a58a1a51-1428-4aef-8ae6-dbc308dfb4d2",
   "metadata": {},
   "outputs": [
    {
     "data": {
      "text/plain": [
       "((374, 13), (374,))"
      ]
     },
     "execution_count": 25,
     "metadata": {},
     "output_type": "execute_result"
    }
   ],
   "source": [
    "X_train.shape, y_train.shape"
   ]
  },
  {
   "cell_type": "code",
   "execution_count": 26,
   "id": "855c36c9-7038-41e8-a674-42bb84ac04a1",
   "metadata": {},
   "outputs": [
    {
     "name": "stdout",
     "output_type": "stream",
     "text": [
      "Int64Index([434, 427, 438, 454, 423, 417, 445, 412], dtype='int64') Int64Index([], dtype='int64')\n"
     ]
    }
   ],
   "source": [
    "##---------------test에 있는것도 지워보자 --------- 정규분포화되서 학습이 더 잘되는지 확인해보려고\n",
    "##----------------만약 공모전이라면 절대 테스트는 레코드수(500)를 줄여선 안된다. 피쳐는 지워되 된다.\n",
    "b_idx = X_test[X_test['B']<150].index\n",
    "crim_idx = X_test[X_test['CRIM']>60].index\n",
    "\n",
    "print(b_idx, crim_idx)\n",
    "\n",
    "X_test.drop(index=b_idx, axis=0, inplace=True)\n",
    "y_test.drop(index=b_idx, axis=0, inplace=True)\n",
    "\n",
    "X_test.drop(index=crim_idx, axis=0, inplace=True)\n",
    "y_test.drop(index=crim_idx, axis=0, inplace=True)\n",
    "\n",
    "X_test = X_test.reset_index(drop=True)\n",
    "y_test = y_test.reset_index(drop=True)"
   ]
  },
  {
   "cell_type": "markdown",
   "id": "08730c03-f017-4bec-83d8-aeb05a3648c2",
   "metadata": {},
   "source": [
    "\n",
    "# <font color='red'>Feature Engineering\n",
    "* 인싸이트 발견      "
   ]
  },
  {
   "cell_type": "code",
   "execution_count": null,
   "id": "9da0aac5-bd13-4713-8076-76fd233a1248",
   "metadata": {},
   "outputs": [],
   "source": []
  },
  {
   "cell_type": "code",
   "execution_count": null,
   "id": "361b3298-5f33-483e-a3a0-455da2c272bc",
   "metadata": {},
   "outputs": [],
   "source": []
  },
  {
   "cell_type": "code",
   "execution_count": 27,
   "id": "69970d74-2fd1-41a5-8790-a5ca57507243",
   "metadata": {},
   "outputs": [],
   "source": [
    "model = XGBRegressor(n_estimators=300, random_state=1414, learning_rate=0.1)"
   ]
  },
  {
   "cell_type": "markdown",
   "id": "60763c11-88e2-4a42-9705-d61c961460f3",
   "metadata": {},
   "source": [
    "### 왜도 첨도 확인"
   ]
  },
  {
   "cell_type": "code",
   "execution_count": 28,
   "id": "04a583fe-ff53-4ba2-a940-5b6d49c99603",
   "metadata": {},
   "outputs": [
    {
     "name": "stdout",
     "output_type": "stream",
     "text": [
      "[ 5.20765239  2.21906306  0.29414628  3.39579929  0.72714416  0.40241467\n",
      " -0.59718559  1.00877876  1.00183349  0.66796827 -0.79994453 -2.88179835\n",
      "  0.90377074  1.10481082]\n",
      "[36.75278626  3.97994877 -1.23321847  9.53145284 -0.07586422  1.86102697\n",
      " -0.97001393  0.47129857 -0.8705205  -1.14298488 -0.29411638  7.14376929\n",
      "  0.47654476  1.46862877]\n",
      "Index(['CRIM', 'ZN', 'INDUS', 'CHAS', 'NOX', 'RM', 'AGE', 'DIS', 'RAD', 'TAX',\n",
      "       'PTRATIO', 'B', 'LSTAT', 'target'],\n",
      "      dtype='object')\n"
     ]
    }
   ],
   "source": [
    "skew_arr  = skew(df)\n",
    "kurt_arr  = kurtosis(df)\n",
    "print(skew_arr)\n",
    "print(kurt_arr)\n",
    "print(df.columns)"
   ]
  },
  {
   "cell_type": "code",
   "execution_count": 29,
   "id": "0677b622-c6f8-42a1-a628-07dfde234f70",
   "metadata": {},
   "outputs": [
    {
     "data": {
      "text/html": [
       "<div>\n",
       "<style scoped>\n",
       "    .dataframe tbody tr th:only-of-type {\n",
       "        vertical-align: middle;\n",
       "    }\n",
       "\n",
       "    .dataframe tbody tr th {\n",
       "        vertical-align: top;\n",
       "    }\n",
       "\n",
       "    .dataframe thead th {\n",
       "        text-align: right;\n",
       "    }\n",
       "</style>\n",
       "<table border=\"1\" class=\"dataframe\">\n",
       "  <thead>\n",
       "    <tr style=\"text-align: right;\">\n",
       "      <th></th>\n",
       "      <th>skew</th>\n",
       "      <th>kurt</th>\n",
       "    </tr>\n",
       "  </thead>\n",
       "  <tbody>\n",
       "    <tr>\n",
       "      <th>CRIM</th>\n",
       "      <td>5.207652</td>\n",
       "      <td>36.752786</td>\n",
       "    </tr>\n",
       "    <tr>\n",
       "      <th>ZN</th>\n",
       "      <td>2.219063</td>\n",
       "      <td>3.979949</td>\n",
       "    </tr>\n",
       "    <tr>\n",
       "      <th>INDUS</th>\n",
       "      <td>0.294146</td>\n",
       "      <td>-1.233218</td>\n",
       "    </tr>\n",
       "    <tr>\n",
       "      <th>CHAS</th>\n",
       "      <td>3.395799</td>\n",
       "      <td>9.531453</td>\n",
       "    </tr>\n",
       "    <tr>\n",
       "      <th>NOX</th>\n",
       "      <td>0.727144</td>\n",
       "      <td>-0.075864</td>\n",
       "    </tr>\n",
       "  </tbody>\n",
       "</table>\n",
       "</div>"
      ],
      "text/plain": [
       "           skew       kurt\n",
       "CRIM   5.207652  36.752786\n",
       "ZN     2.219063   3.979949\n",
       "INDUS  0.294146  -1.233218\n",
       "CHAS   3.395799   9.531453\n",
       "NOX    0.727144  -0.075864"
      ]
     },
     "execution_count": 29,
     "metadata": {},
     "output_type": "execute_result"
    }
   ],
   "source": [
    "dict = {\"skew\":skew_arr, \"kurt\":kurt_arr}\n",
    "dict_df = pd.DataFrame(dict, index=df.columns)\n",
    "# dict_df = dict_df.set_index(df.columns)\n",
    "dict_df.head()"
   ]
  },
  {
   "cell_type": "code",
   "execution_count": 30,
   "id": "4bc2d98a-df1f-4fe4-8fe4-9de3a5c9f5c0",
   "metadata": {},
   "outputs": [
    {
     "data": {
      "text/html": [
       "<div>\n",
       "<style scoped>\n",
       "    .dataframe tbody tr th:only-of-type {\n",
       "        vertical-align: middle;\n",
       "    }\n",
       "\n",
       "    .dataframe tbody tr th {\n",
       "        vertical-align: top;\n",
       "    }\n",
       "\n",
       "    .dataframe thead th {\n",
       "        text-align: right;\n",
       "    }\n",
       "</style>\n",
       "<table border=\"1\" class=\"dataframe\">\n",
       "  <thead>\n",
       "    <tr style=\"text-align: right;\">\n",
       "      <th></th>\n",
       "      <th>skew</th>\n",
       "      <th>kurt</th>\n",
       "    </tr>\n",
       "  </thead>\n",
       "  <tbody>\n",
       "    <tr>\n",
       "      <th>CRIM</th>\n",
       "      <td>5.207652</td>\n",
       "      <td>36.752786</td>\n",
       "    </tr>\n",
       "    <tr>\n",
       "      <th>ZN</th>\n",
       "      <td>2.219063</td>\n",
       "      <td>3.979949</td>\n",
       "    </tr>\n",
       "    <tr>\n",
       "      <th>INDUS</th>\n",
       "      <td>0.294146</td>\n",
       "      <td>-1.233218</td>\n",
       "    </tr>\n",
       "    <tr>\n",
       "      <th>CHAS</th>\n",
       "      <td>3.395799</td>\n",
       "      <td>9.531453</td>\n",
       "    </tr>\n",
       "    <tr>\n",
       "      <th>NOX</th>\n",
       "      <td>0.727144</td>\n",
       "      <td>-0.075864</td>\n",
       "    </tr>\n",
       "    <tr>\n",
       "      <th>RM</th>\n",
       "      <td>0.402415</td>\n",
       "      <td>1.861027</td>\n",
       "    </tr>\n",
       "    <tr>\n",
       "      <th>AGE</th>\n",
       "      <td>-0.597186</td>\n",
       "      <td>-0.970014</td>\n",
       "    </tr>\n",
       "    <tr>\n",
       "      <th>DIS</th>\n",
       "      <td>1.008779</td>\n",
       "      <td>0.471299</td>\n",
       "    </tr>\n",
       "    <tr>\n",
       "      <th>RAD</th>\n",
       "      <td>1.001833</td>\n",
       "      <td>-0.870521</td>\n",
       "    </tr>\n",
       "    <tr>\n",
       "      <th>TAX</th>\n",
       "      <td>0.667968</td>\n",
       "      <td>-1.142985</td>\n",
       "    </tr>\n",
       "    <tr>\n",
       "      <th>PTRATIO</th>\n",
       "      <td>-0.799945</td>\n",
       "      <td>-0.294116</td>\n",
       "    </tr>\n",
       "    <tr>\n",
       "      <th>B</th>\n",
       "      <td>-2.881798</td>\n",
       "      <td>7.143769</td>\n",
       "    </tr>\n",
       "    <tr>\n",
       "      <th>LSTAT</th>\n",
       "      <td>0.903771</td>\n",
       "      <td>0.476545</td>\n",
       "    </tr>\n",
       "    <tr>\n",
       "      <th>target</th>\n",
       "      <td>1.104811</td>\n",
       "      <td>1.468629</td>\n",
       "    </tr>\n",
       "  </tbody>\n",
       "</table>\n",
       "</div>"
      ],
      "text/plain": [
       "             skew       kurt\n",
       "CRIM     5.207652  36.752786\n",
       "ZN       2.219063   3.979949\n",
       "INDUS    0.294146  -1.233218\n",
       "CHAS     3.395799   9.531453\n",
       "NOX      0.727144  -0.075864\n",
       "RM       0.402415   1.861027\n",
       "AGE     -0.597186  -0.970014\n",
       "DIS      1.008779   0.471299\n",
       "RAD      1.001833  -0.870521\n",
       "TAX      0.667968  -1.142985\n",
       "PTRATIO -0.799945  -0.294116\n",
       "B       -2.881798   7.143769\n",
       "LSTAT    0.903771   0.476545\n",
       "target   1.104811   1.468629"
      ]
     },
     "execution_count": 30,
     "metadata": {},
     "output_type": "execute_result"
    }
   ],
   "source": [
    "df_skew = pd.DataFrame([skew_arr, kurt_arr], columns=df.columns, index=['skew','kurt']).T\n",
    "df_skew.head(20)"
   ]
  },
  {
   "cell_type": "code",
   "execution_count": 31,
   "id": "533cac93-b959-4c48-abd7-a94f4ab5a574",
   "metadata": {},
   "outputs": [
    {
     "data": {
      "text/plain": [
       "<AxesSubplot:>"
      ]
     },
     "execution_count": 31,
     "metadata": {},
     "output_type": "execute_result"
    },
    {
     "data": {
      "image/png": "[encoded data removed]",
      "text/plain": [
       "<Figure size 432x288 with 1 Axes>"
      ]
     },
     "metadata": {},
     "output_type": "display_data"
    }
   ],
   "source": [
    "df_skew.sort_values('skew', ascending=False).plot(kind='bar')"
   ]
  },
  {
   "cell_type": "markdown",
   "id": "e9a52e65-5fc6-4d60-aa04-c54ae2ae605f",
   "metadata": {},
   "source": [
    "<img src='logo3.png' width='900'>"
   ]
  },
  {
   "cell_type": "markdown",
   "id": "f0fbd8f4-bbd2-40a6-bf79-2e5a649c9a56",
   "metadata": {},
   "source": [
    "## 스케일링 : 정규화"
   ]
  },
  {
   "cell_type": "code",
   "execution_count": 32,
   "id": "b1124239-f3df-4d05-8409-ce09aacd0321",
   "metadata": {},
   "outputs": [],
   "source": [
    "# MinMax Standard Rosubstic \n",
    "# skew() : 왜도 확인\n",
    "# Log변환 : x(-1)없을 경우에만 사용"
   ]
  },
  {
   "cell_type": "markdown",
   "id": "91050095-0248-4cc1-85f5-382972eaeea5",
   "metadata": {},
   "source": [
    "* y 스케일링\n",
    "* y_train --> y_train_scaler\n",
    "* y_test --> y_test_scaler"
   ]
  },
  {
   "cell_type": "code",
   "execution_count": 33,
   "id": "dff1a972-6c62-41f7-b39d-685de539c8cb",
   "metadata": {},
   "outputs": [
    {
     "data": {
      "image/png": "[encoded data removed]",
      "text/plain": [
       "<Figure size 432x288 with 1 Axes>"
      ]
     },
     "metadata": {},
     "output_type": "display_data"
    }
   ],
   "source": [
    "y_train.hist()\n",
    "plt.show()"
   ]
  },
  {
   "cell_type": "code",
   "execution_count": 34,
   "id": "d005289d-7d53-4ff8-80e7-ea019adc85cc",
   "metadata": {},
   "outputs": [
    {
     "data": {
      "text/plain": [
       "0    24.5\n",
       "1    50.0\n",
       "2    19.3\n",
       "3    19.3\n",
       "4    12.7\n",
       "Name: target, dtype: float64"
      ]
     },
     "execution_count": 34,
     "metadata": {},
     "output_type": "execute_result"
    }
   ],
   "source": [
    "y_train[:5]"
   ]
  },
  {
   "cell_type": "code",
   "execution_count": null,
   "id": "b1ed05d3-74e3-45e9-9714-341267593bd7",
   "metadata": {},
   "outputs": [],
   "source": []
  },
  {
   "cell_type": "markdown",
   "id": "eb70f7ca-9a1b-4c72-84d2-0c364a918105",
   "metadata": {},
   "source": [
    "## StandardScaler()"
   ]
  },
  {
   "cell_type": "markdown",
   "id": "9a7111fa-5b9b-4193-b34f-358e96cb103c",
   "metadata": {},
   "source": [
    "* y (Series 8:2 ) 만 스케일링 한 경우\n",
    "* y_train --> y_train_scaler\n",
    "* y_test --> y_test_sacler"
   ]
  },
  {
   "cell_type": "code",
   "execution_count": 35,
   "id": "78a393e3-de6d-405d-be68-1924fe262614",
   "metadata": {},
   "outputs": [
    {
     "name": "stdout",
     "output_type": "stream",
     "text": [
      "(374,)\n",
      "(94,)\n"
     ]
    }
   ],
   "source": [
    "scalers = [StandardScaler()] # , RobustScaler(), MinMaxScaler()]\n",
    "for mm in scalers:\n",
    "    #----- Series를 array 세로줄로 바꾸는 방법 ------------------\n",
    "    mm.fit(np.array(y_train).reshape(-1,1))                          # fit       : array, matrix만 가능\n",
    "    #----------------------------------------------------------\n",
    "    y_train_matrix = mm.transform(np.array(y_train).reshape(-1,1))   # transform : array, matrix만 가능\n",
    "    y_test_matrix  = mm.transform(np.array(y_test).reshape(-1,1))    \n",
    "    \n",
    "    #----- matrix 2차를 array 1차로 바꾸는 방법 ------------------\n",
    "    y_train_scaler = pd.Series(y_train_matrix.reshape(-1))\n",
    "    #----------------------------------------------------------\n",
    "    y_test_scaler  = pd.Series(y_test_matrix.reshape(-1))\n",
    "\n",
    "print(y_train_scaler.shape)\n",
    "print(y_test_scaler.shape)"
   ]
  },
  {
   "cell_type": "markdown",
   "id": "4baf25d4-06a8-4485-a472-ac8fee29515a",
   "metadata": {},
   "source": [
    "* X (DataFrame 8:2 ) 만 스케일링 한 경우\n",
    "* X_train  --> X_train_scaler\n",
    "* X_test  --> X_test_sacler "
   ]
  },
  {
   "cell_type": "code",
   "execution_count": 36,
   "id": "8f8bff34-b67a-4524-9088-18f83fe540b9",
   "metadata": {},
   "outputs": [],
   "source": [
    "# X_train_scaler.hist()\n",
    "# plt.show()"
   ]
  },
  {
   "cell_type": "code",
   "execution_count": 37,
   "id": "5ab79b73-3d91-4030-9ba4-51d6c2a11ce3",
   "metadata": {},
   "outputs": [
    {
     "name": "stdout",
     "output_type": "stream",
     "text": [
      "(374, 13)\n",
      "(94, 13)\n"
     ]
    }
   ],
   "source": [
    "scalers = [StandardScaler()] # , RobustScaler(), MinMaxScaler()]\n",
    "for mm in scalers:\n",
    "    mm.fit(X_train)                            # fit       : array, matrix만 가능\n",
    "    X_train_matrix = mm.transform(X_train)     # transform : array, matrix만 가능\n",
    "    X_test_matrix  = mm.transform(X_test)    \n",
    "    \n",
    "    #print( X_train.index.values)              # index객체 --> array\n",
    "                                                                           # Index객체  or array\n",
    "    X_train_scaler = pd.DataFrame(X_train_matrix, columns=X_train.columns, index=X_train.index)\n",
    "    X_test_scaler  = pd.DataFrame(X_test_matrix , columns=X_test.columns,  index=X_test.index)    \n",
    "    \n",
    "print(X_train_scaler.shape)\n",
    "print(X_test_scaler.shape)"
   ]
  },
  {
   "cell_type": "markdown",
   "id": "d15fb990-5d5e-4173-8dfe-6f9d575e45ee",
   "metadata": {
    "tags": []
   },
   "source": [
    "### 2차 점수확인 : 스케일링 후 점수"
   ]
  },
  {
   "cell_type": "markdown",
   "id": "100a300f-0ff2-47fb-b93d-97490ea6beb8",
   "metadata": {},
   "source": [
    "* X만 스케일한 경우 "
   ]
  },
  {
   "cell_type": "code",
   "execution_count": 38,
   "id": "2f2abef5-75d3-4441-82f4-1fd2cae38164",
   "metadata": {},
   "outputs": [
    {
     "name": "stdout",
     "output_type": "stream",
     "text": [
      "LinearRegression\t MSE:33.6297 RMSE:5.7991\n",
      "Ridge\t MSE:33.6707 RMSE:5.8026\n",
      "Lasso\t MSE:39.9571 RMSE:6.3212\n",
      "ElasticNet\t MSE:43.1569 RMSE:6.5694\n",
      "DecisionTreeRegressor\t MSE:30.7801 RMSE:5.5480\n",
      "XGBRegressor\t MSE:19.3639 RMSE:4.4004\n",
      "LGBMRegressor\t MSE:18.6598 RMSE:4.3197\n"
     ]
    }
   ],
   "source": [
    "models = [LinearRegression(), Ridge(), Lasso(), ElasticNet(), DecisionTreeRegressor(),XGBRegressor(), LGBMRegressor()]\n",
    "for model in models:\n",
    "    model.fit(X_train_scaler,  y_train)      # ---------train scale\n",
    "    pred = model.predict(X_test_scaler)      # ---------test  scale\n",
    "    mse  = mean_squared_error(y_test, pred)\n",
    "    rmse = mean_squared_error(y_test, pred, squared=False)\n",
    "    print(f\"{model.__class__.__name__}\\t MSE:{mse:.4f} RMSE:{rmse:.4f}\")"
   ]
  },
  {
   "cell_type": "markdown",
   "id": "5e9e387c-8273-42cc-9663-31b879ea3d6e",
   "metadata": {},
   "source": [
    "* y만 스케일한 경우"
   ]
  },
  {
   "cell_type": "code",
   "execution_count": 39,
   "id": "527b49eb-c413-4330-9323-0b9150c8d852",
   "metadata": {},
   "outputs": [
    {
     "name": "stdout",
     "output_type": "stream",
     "text": [
      "LinearRegression\t MSE:0.4243 RMSE:0.6513\n",
      "Ridge\t MSE:0.4261 RMSE:0.6528\n",
      "Lasso\t MSE:0.6686 RMSE:0.8177\n",
      "ElasticNet\t MSE:0.6125 RMSE:0.7826\n",
      "DecisionTreeRegressor\t MSE:0.4029 RMSE:0.6347\n",
      "XGBRegressor\t MSE:0.1615 RMSE:0.4018\n",
      "LGBMRegressor\t MSE:0.2429 RMSE:0.4928\n"
     ]
    }
   ],
   "source": [
    "models = [LinearRegression(), Ridge(), Lasso(), ElasticNet(), DecisionTreeRegressor(),XGBRegressor(), LGBMRegressor()]\n",
    "for model in models:\n",
    "    model.fit(X_train,  y_train_scaler)      \n",
    "    pred = model.predict(X_test)                                   # ---------test scale     \n",
    "    mse  = mean_squared_error(y_test_scaler, pred)                 # ---------test scale\n",
    "    rmse = mean_squared_error(y_test_scaler, pred, squared=False)  # ---------test  scale\n",
    "    print(f\"{model.__class__.__name__}\\t MSE:{mse:.4f} RMSE:{rmse:.4f}\")"
   ]
  },
  {
   "cell_type": "markdown",
   "id": "e6967f55-99eb-4225-9c35-1e4824414db0",
   "metadata": {},
   "source": [
    "* X, y 모두 스케일한 경우 "
   ]
  },
  {
   "cell_type": "code",
   "execution_count": 40,
   "id": "d57f7d7b-d0ac-4953-b9d3-af8ec9a1c74f",
   "metadata": {},
   "outputs": [
    {
     "name": "stdout",
     "output_type": "stream",
     "text": [
      "LinearRegression\t MSE:0.4243 RMSE:0.6513\n",
      "Ridge\t MSE:0.4248 RMSE:0.6517\n",
      "Lasso\t MSE:1.1119 RMSE:1.0544\n",
      "ElasticNet\t MSE:0.8174 RMSE:0.9041\n",
      "DecisionTreeRegressor\t MSE:0.3811 RMSE:0.6173\n",
      "XGBRegressor\t MSE:0.1616 RMSE:0.4020\n",
      "LGBMRegressor\t MSE:0.2354 RMSE:0.4852\n"
     ]
    }
   ],
   "source": [
    "models = [LinearRegression(), Ridge(), Lasso(), ElasticNet(), DecisionTreeRegressor(),XGBRegressor(), LGBMRegressor()]\n",
    "for model in models:\n",
    "    model.fit(X_train_scaler,  y_train_scaler)      \n",
    "    pred = model.predict(X_test_scaler)                                   # ---------test scale     \n",
    "    mse  = mean_squared_error(y_test_scaler, pred)                 # ---------test scale\n",
    "    rmse = mean_squared_error(y_test_scaler, pred, squared=False)  # ---------test  scale\n",
    "    print(f\"{model.__class__.__name__}\\t MSE:{mse:.4f} RMSE:{rmse:.4f}\")"
   ]
  },
  {
   "cell_type": "markdown",
   "id": "789d6cd4-cb7b-4fd0-8445-3aff35740ce0",
   "metadata": {
    "tags": []
   },
   "source": [
    "## log --> 스케일링  "
   ]
  },
  {
   "cell_type": "code",
   "execution_count": 41,
   "id": "c80e67d6-b8bb-44ff-8306-26f8156030bd",
   "metadata": {},
   "outputs": [],
   "source": [
    "# list = [1,5,10,20,30]\n",
    "# arr = np.array(list)\n",
    "# log_arr = np.log(arr)\n",
    "# print(log_arr)"
   ]
  },
  {
   "cell_type": "code",
   "execution_count": 42,
   "id": "f67e4a1d-1b6a-47d2-8604-e45ae7bb83f5",
   "metadata": {},
   "outputs": [],
   "source": [
    "X_train_log = np.log1p(X_train)\n",
    "X_test_log  = np.log1p(X_test)\n",
    "y_train_log = np.log1p(y_train)\n",
    "y_test_log  = np.log1p(y_test)"
   ]
  },
  {
   "cell_type": "code",
   "execution_count": 43,
   "id": "f23d192b-91f1-481e-bcba-889d4ddb489e",
   "metadata": {},
   "outputs": [
    {
     "name": "stdout",
     "output_type": "stream",
     "text": [
      "(374,)\n",
      "(94,)\n"
     ]
    }
   ],
   "source": [
    "scalers = [StandardScaler()] # , RobustScaler(), MinMaxScaler()]\n",
    "for mm in scalers:\n",
    "    #----- Series를 array 세로줄로 바꾸는 방법 ------------------\n",
    "    mm.fit(np.array(y_train_log).reshape(-1,1))                          # fit       : array, matrix만 가능\n",
    "    #----------------------------------------------------------\n",
    "    y_train_matrix = mm.transform(np.array(y_train_log).reshape(-1,1))   # transform : array, matrix만 가능\n",
    "    y_test_matrix  = mm.transform(np.array(y_test_log).reshape(-1,1))    \n",
    "    \n",
    "    #----- matrix 2차를 array 1차로 바꾸는 방법 ------------------\n",
    "    y_train_scaler = pd.Series(y_train_matrix.reshape(-1))\n",
    "    #----------------------------------------------------------\n",
    "    y_test_scaler  = pd.Series(y_test_matrix.reshape(-1))\n",
    "\n",
    "print(y_train_scaler.shape)\n",
    "print(y_test_scaler.shape)"
   ]
  },
  {
   "cell_type": "code",
   "execution_count": 44,
   "id": "66fd0426-5022-40cf-8ec1-190b3218956f",
   "metadata": {},
   "outputs": [
    {
     "name": "stdout",
     "output_type": "stream",
     "text": [
      "(374, 13)\n",
      "(94, 13)\n"
     ]
    }
   ],
   "source": [
    "scalers = [StandardScaler()] # , RobustScaler(), MinMaxScaler()]\n",
    "for mm in scalers:\n",
    "    mm.fit(X_train_log)                            # fit       : array, matrix만 가능\n",
    "    X_train_matrix = mm.transform(X_train_log)     # transform : array, matrix만 가능\n",
    "    X_test_matrix  = mm.transform(X_test_log)    \n",
    "    \n",
    "    #print( X_train.index.values)              # index객체 --> array\n",
    "                                                                           # Index객체  or array\n",
    "    X_train_scaler = pd.DataFrame(X_train_matrix, columns=X_train.columns, index=X_train.index)\n",
    "    X_test_scaler  = pd.DataFrame(X_test_matrix , columns=X_test.columns,  index=X_test.index)    \n",
    "    \n",
    "print(X_train_scaler.shape)\n",
    "print(X_test_scaler.shape)"
   ]
  },
  {
   "cell_type": "code",
   "execution_count": 45,
   "id": "bf87faac-e9c8-403f-88d2-c390ff2f653a",
   "metadata": {},
   "outputs": [
    {
     "name": "stdout",
     "output_type": "stream",
     "text": [
      "LinearRegression\t MSE:0.2726 RMSE:0.5221\n",
      "Ridge\t MSE:0.2733 RMSE:0.5228\n",
      "Lasso\t MSE:1.0044 RMSE:1.0022\n",
      "ElasticNet\t MSE:0.6935 RMSE:0.8328\n",
      "DecisionTreeRegressor\t MSE:0.3799 RMSE:0.6163\n",
      "XGBRegressor\t MSE:0.2130 RMSE:0.4616\n",
      "LGBMRegressor\t MSE:0.1895 RMSE:0.4354\n"
     ]
    }
   ],
   "source": [
    "models = [LinearRegression(), Ridge(), Lasso(), ElasticNet(), DecisionTreeRegressor(),XGBRegressor(), LGBMRegressor()]\n",
    "for model in models:\n",
    "    model.fit(X_train_scaler,  y_train_scaler)      \n",
    "    pred = model.predict(X_test_scaler)                                   # ---------test scale     \n",
    "    mse  = mean_squared_error(y_test_scaler, pred)                 # ---------test scale\n",
    "    rmse = mean_squared_error(y_test_scaler, pred, squared=False)  # ---------test  scale\n",
    "    print(f\"{model.__class__.__name__}\\t MSE:{mse:.4f} RMSE:{rmse:.4f}\")\n",
    " "
   ]
  },
  {
   "cell_type": "code",
   "execution_count": 46,
   "id": "83440c61-cec4-45bd-a6d4-8449ffe740b2",
   "metadata": {},
   "outputs": [],
   "source": [
    "# sns.histplot(data=penguins, x=\"flipper_length_mm\")"
   ]
  },
  {
   "cell_type": "markdown",
   "id": "76e32edc-b97a-4e5b-b0f1-c0b2d74d0704",
   "metadata": {
    "tags": []
   },
   "source": [
    "### 스케일링을 먼저 하고 로그변환하면???\n",
    "*  log_3.4251456789  :  플로우 발생 (컴퓨터가 계산할수 없는 수치 발생 할 수 있다)\n",
    "*  Input contains NaN, infinity or a value too large for dtype('float64')."
   ]
  },
  {
   "cell_type": "markdown",
   "id": "7b8f3176-3765-4098-9cd0-4704b1ca2fa0",
   "metadata": {},
   "source": [
    "---\n",
    "<pre><font color='red'>\n",
    "* 아웃라이어 선별 후 스케일링 해준다 ---> 정규화에 가까워진다\n",
    "* 로그변환 후 스케일링 해주면 좋다\n",
    "* 모델마다 스케일 성능이 다르다 오히려 점수가 낮아지는 모델도 있다"
   ]
  },
  {
   "cell_type": "code",
   "execution_count": 70,
   "id": "637d05e4-5999-441e-99b1-ad2c1d7278bc",
   "metadata": {},
   "outputs": [],
   "source": [
    "# LinearRegression\t MSE:34.2563 RMSE:5.8529\n",
    "# Ridge\t\t\t\t MSE:34.6178 RMSE:5.8837\n",
    "# Lasso\t\t\t\t MSE:39.0914 RMSE:6.2523\n",
    "# ElasticNet\t\t MSE:38.4532 RMSE:6.2011\n",
    "# DecisionTreeRegressor\t MSE:30.2501 RMSE:5.5000\n",
    "# XGBRegressor\t MSE:15.6989 RMSE:3.9622\n",
    "# LGBMRegressor\t MSE:17.3407 RMSE:4.1642\n",
    "\n",
    "# --------------- 로그  + 스케일링\n",
    "# LinearRegression\t MSE:0.2588 RMSE:0.5087\n",
    "# Ridge\t MSE:0.2593 RMSE:0.5093\n",
    "# Lasso\t MSE:0.9582 RMSE:0.9789\n",
    "# ElasticNet\t MSE:0.6654 RMSE:0.8157\n",
    "# DecisionTreeRegressor\t MSE:0.2920 RMSE:0.5403\n",
    "# XGBRegressor\t MSE:0.1656 RMSE:0.4070\n",
    "# LGBMRegressor\t MSE:0.1671 RMSE:0.4087\n",
    "\n",
    "\n",
    "# --------------- 아웃라이어 + 로그  + 스케일링\n",
    "#---------------------train만 아웃라이어 삭제\n",
    "# LinearRegression\t MSE:0.4389 RMSE:0.6625\n",
    "# Ridge\t MSE:0.4353 RMSE:0.6598\n",
    "# Lasso\t MSE:1.1357 RMSE:1.0657\n",
    "# ElasticNet\t MSE:0.7853 RMSE:0.8862\n",
    "# DecisionTreeRegressor\t MSE:0.3511 RMSE:0.5925\n",
    "# XGBRegressor\t MSE:0.2260 RMSE:0.4754\n",
    "# LGBMRegressor\t MSE:0.2040 RMSE:0.4517\n",
    "\n",
    "\n",
    "#---------------------아웃라이어 없는 상태\n",
    "# LinearRegression\t MSE:0.2726 RMSE:0.5221\n",
    "# Ridge\t MSE:0.2733 RMSE:0.5228\n",
    "# Lasso\t MSE:1.0044 RMSE:1.0022\n",
    "# ElasticNet\t MSE:0.6935 RMSE:0.8328\n",
    "# DecisionTreeRegressor\t MSE:0.4573 RMSE:0.6762\n",
    "# XGBRegressor\t MSE:0.2130 RMSE:0.4616\n",
    "# LGBMRegressor\t MSE:0.1895 RMSE:0.4354\n",
    "\n"
   ]
  },
  {
   "cell_type": "markdown",
   "id": "9f0c7e5a-065e-438d-936c-c4fe432aca72",
   "metadata": {
    "tags": []
   },
   "source": [
    "# 점수 더 올려보자 \n",
    "* 학습량을 늘려라 - KFold, cross_var_score(cv),  GridSearchCV(cv) \n",
    "*                 ,,,,, StratifiedKFold(연속형데이터는 골로루? 분배가 안된다\n",
    "* 튜닝  : 단일 모델 \n",
    "* 앙상블 : 모델 조합\n",
    "* 스태킹 : 모델 조합이 예측한 데이터를  다시한번 학습에 사용\n"
   ]
  },
  {
   "cell_type": "code",
   "execution_count": 47,
   "id": "3ad568cd-2d59-47fd-b15d-f37957ef229e",
   "metadata": {},
   "outputs": [
    {
     "data": {
      "text/html": [
       "<div>\n",
       "<style scoped>\n",
       "    .dataframe tbody tr th:only-of-type {\n",
       "        vertical-align: middle;\n",
       "    }\n",
       "\n",
       "    .dataframe tbody tr th {\n",
       "        vertical-align: top;\n",
       "    }\n",
       "\n",
       "    .dataframe thead th {\n",
       "        text-align: right;\n",
       "    }\n",
       "</style>\n",
       "<table border=\"1\" class=\"dataframe\">\n",
       "  <thead>\n",
       "    <tr style=\"text-align: right;\">\n",
       "      <th></th>\n",
       "      <th>seq</th>\n",
       "      <th>score</th>\n",
       "    </tr>\n",
       "  </thead>\n",
       "  <tbody>\n",
       "    <tr>\n",
       "      <th>kim</th>\n",
       "      <td>1</td>\n",
       "      <td>40</td>\n",
       "    </tr>\n",
       "    <tr>\n",
       "      <th>hong</th>\n",
       "      <td>2</td>\n",
       "      <td>50</td>\n",
       "    </tr>\n",
       "    <tr>\n",
       "      <th>park</th>\n",
       "      <td>3</td>\n",
       "      <td>60</td>\n",
       "    </tr>\n",
       "  </tbody>\n",
       "</table>\n",
       "</div>"
      ],
      "text/plain": [
       "      seq  score\n",
       "kim     1     40\n",
       "hong    2     50\n",
       "park    3     60"
      ]
     },
     "execution_count": 47,
     "metadata": {},
     "output_type": "execute_result"
    }
   ],
   "source": [
    "arr = np.array([1,2,3,4,5])\n",
    "arr\n",
    "arr_idx = [0,1]\n",
    "arr[arr_idx]\n",
    "\n",
    "df = pd.DataFrame( {\"seq\":[1,2,3], \"score\":[40,50,60]}, index=['kim', 'hong','park'])\n",
    "df.head()\n",
    "# df = df.reset_index(drop=True)\n",
    "\n",
    "# df.loc[ ['hong','park'] ]\n",
    "# df.iloc[ [1,2] ]"
   ]
  },
  {
   "cell_type": "markdown",
   "id": "0daac37e-0388-45a4-8505-644dceef17ca",
   "metadata": {},
   "source": [
    "### 학습량을 늘려라 - KFold"
   ]
  },
  {
   "cell_type": "code",
   "execution_count": 48,
   "id": "3e7dcca7-530f-4cb3-8214-f06cea312921",
   "metadata": {},
   "outputs": [
    {
     "name": "stdout",
     "output_type": "stream",
     "text": [
      "[0 1 2 3 4]\n",
      "MSE:0.1915 RMSE:0.4376\n",
      "[1 3 4 6 7]\n",
      "MSE:0.1023 RMSE:0.3198\n",
      "[0 1 2 4 5]\n",
      "MSE:0.1224 RMSE:0.3498\n",
      "[0 1 2 3 5]\n",
      "MSE:0.1247 RMSE:0.3532\n",
      "[0 2 3 4 5]\n",
      "MSE:0.2030 RMSE:0.4506\n",
      "0.38218846705993154\n"
     ]
    }
   ],
   "source": [
    "# pd.concate\n",
    "XX_scaler = np.concatenate([X_train_scaler, X_test_scaler] , axis=0 )\n",
    "yy_scaler = np.concatenate([y_train_scaler, y_test_scaler] , axis=0 )\n",
    "                           \n",
    "kf = KFold(n_splits=5, shuffle=True, random_state=1414)\n",
    "# for train_idx, test_idx in kf.split(XX_df):      #Dataframe 통째로 다 넣어준다.\n",
    "#     X_train, X_test = XX_df.iloc[train_idx], XX_df.iloc[test_idx]\n",
    "\n",
    "tot_rmse_list = []\n",
    "for train_idx, test_idx in kf.split(XX_scaler):  #array [[],[]] 통째로 다 넣어준다.\n",
    "    print(train_idx[:5])\n",
    "    X_train, X_test = XX_scaler[train_idx], XX_scaler[test_idx]\n",
    "    y_train, y_test = yy_scaler[train_idx], yy_scaler[test_idx]\n",
    "    \n",
    "    model = XGBRegressor()\n",
    "    model.fit(X_train,  y_train,)\n",
    "    pred = model.predict(X_test)\n",
    "    mse  = mean_squared_error(y_test, pred)\n",
    "    rmse = mean_squared_error(y_test, pred, squared=False)\n",
    "    print(f\"MSE:{mse:.4f} RMSE:{rmse:.4f}\")\n",
    "    tot_rmse_list.append(rmse)\n",
    "\n",
    "print(np.mean(tot_rmse_list) )\n",
    "# print(np.array(tot_rmse_list).mean() )\n",
    "    "
   ]
  },
  {
   "cell_type": "markdown",
   "id": "dbd63fa0-d973-4020-b7ea-d0d7ba98f5aa",
   "metadata": {},
   "source": [
    "### 학습량을 늘려라 - cross_var_score(cv)"
   ]
  },
  {
   "cell_type": "code",
   "execution_count": 56,
   "id": "485fb887-70d1-4ac9-a20e-3bcee3b7d7cd",
   "metadata": {},
   "outputs": [
    {
     "name": "stdout",
     "output_type": "stream",
     "text": [
      "[0.43758747 0.31978807 0.34981476 0.35319133 0.45056071]\n",
      "0.38218846705993154\n"
     ]
    }
   ],
   "source": [
    "model = XGBRegressor()\n",
    "# kf = KFold(n_splits=5, shuffle=True, random_state=1414)\n",
    "array_score5 = cross_val_score(model, X=XX_scaler, y=yy_scaler, \n",
    "                               scoring='neg_root_mean_squared_error',cv=kf)\n",
    "print(array_score5*-1)\n",
    "print((array_score5*-1).mean())"
   ]
  },
  {
   "cell_type": "markdown",
   "id": "debfb989-bd72-4dcc-be06-5fe14485c3e2",
   "metadata": {
    "tags": []
   },
   "source": [
    "### 학습량을 늘려라 - cross_val__(cv) - 여러점수"
   ]
  },
  {
   "cell_type": "code",
   "execution_count": 86,
   "id": "5c1dbf4d-65bd-4082-b0be-bd468c6b3bf6",
   "metadata": {},
   "outputs": [
    {
     "name": "stdout",
     "output_type": "stream",
     "text": [
      "dict_keys(['fit_time', 'score_time', 'test_MSE', 'test_RMSE'])\n",
      "[-0.1914828  -0.10226441 -0.12237036 -0.12474412 -0.20300495]\n",
      "[-0.43758747 -0.31978807 -0.34981476 -0.35319133 -0.45056071]\n",
      "0.38218846705993154\n"
     ]
    }
   ],
   "source": [
    "from sklearn.model_selection import cross_validate\n",
    "model = XGBRegressor()\n",
    "\n",
    "\n",
    "# def my_def_AAAAAA (model):\n",
    "#     return 100\n",
    "\n",
    "# from sklearn.metrics import make_scorer\n",
    "# neg_AAAAA = make_scorer(my_def_AAAAAA)\n",
    "\n",
    "\n",
    "socre_dict = {\"MSE\":'neg_mean_squared_error' ,\"RMSE\":'neg_root_mean_squared_error'}  #, \"MY\":neg_AAAAA}\n",
    "dict_score5 = cross_validate(model, X=XX_scaler, y=yy_scaler\n",
    "                               , scoring=socre_dict\n",
    "                               ,cv=kf)\n",
    "print(dict_score5.keys())\n",
    "print(dict_score5['test_MSE'])  #[-0.1914828  -0.10226441 -0.12237036 -0.12474412 -0.20300495]\n",
    "print(dict_score5['test_RMSE'])  #[-0.1914828  -0.10226441 -0.12237036 -0.12474412 -0.20300495]\n",
    "print((dict_score5['test_RMSE']*-1).mean())"
   ]
  },
  {
   "cell_type": "code",
   "execution_count": null,
   "id": "45ba5133-3ae3-4ca5-9c86-b90cda9e602a",
   "metadata": {},
   "outputs": [],
   "source": []
  },
  {
   "cell_type": "markdown",
   "id": "915bbbdd-72e7-4fa4-8bed-25cf14145f7e",
   "metadata": {},
   "source": [
    "# <font color=red>TODO</font>"
   ]
  },
  {
   "cell_type": "code",
   "execution_count": 76,
   "id": "495f7717-23fe-4443-812b-b2935149a86a",
   "metadata": {},
   "outputs": [],
   "source": [
    "# model = XGBRegressor()\n",
    "# # kf = KFold(n_splits=5, shuffle=True, random_state=1414)\n",
    "\n",
    "# # pd.concate\n",
    "# # XX_scaler = np.concatenate([X_train_scaler, X_test_scaler] , axis=0 )\n",
    "# # yy_scaler = np.concatenate([y_train_scaler, y_test_scaler] , axis=0 )\n",
    "\n",
    "# from sklearn.metrics import make_scorer\n",
    "# neg_MAKE_SCORES_DEF = make_scorer(my_score_DEF)\n",
    "\n",
    "\n",
    "# def my_score_DEF (model):\n",
    "#     pred = model.predict(y_true, y_pred)\n",
    "#     mse  = mean_squared_error(y_true, y_pred)\n",
    "#     rmse = mean_squared_error(y_true, y_pred, squared=False)\n",
    "#     return mse, rmse\n",
    "\n",
    "# # scoreing == str or callable\n",
    "# array_score5 = cross_val_score(model, X=XX_scaler, y=yy_scaler\n",
    "#                                , scoring=neg_MAKE_SCORES_DEF\n",
    "#                                ,cv=kf)\n",
    "# print(array_score5*-1)\n",
    "# print((array_score5*-1).mean())"
   ]
  },
  {
   "cell_type": "markdown",
   "id": "4b97818a-07bb-4352-b196-0cd35b22ba2b",
   "metadata": {},
   "source": [
    "### 학습량을 늘려라 - GridSearchCV(튜닝 + cv)"
   ]
  },
  {
   "cell_type": "code",
   "execution_count": 91,
   "id": "db97822e-cd61-4d79-8239-7a73e9593ff0",
   "metadata": {},
   "outputs": [
    {
     "name": "stdout",
     "output_type": "stream",
     "text": [
      "dict_values([KFold(n_splits=5, random_state=1414, shuffle=True), nan, 'reg:squarederror', None, None, None, None, None, None, None, 'gain', None, None, None, None, None, nan, None, 100, None, None, None, None, None, None, None, None, None, None, XGBRegressor(base_score=None, booster=None, colsample_bylevel=None,\n",
      "             colsample_bynode=None, colsample_bytree=None, gamma=None,\n",
      "             gpu_id=None, importance_type='gain', interaction_constraints=None,\n",
      "             learning_rate=None, max_delta_step=None, max_depth=None,\n",
      "             min_child_weight=None, missing=nan, monotone_constraints=None,\n",
      "             n_estimators=100, n_jobs=None, num_parallel_tree=None,\n",
      "             random_state=None, reg_alpha=None, reg_lambda=None,\n",
      "             scale_pos_weight=None, subsample=None, tree_method=None,\n",
      "             validate_parameters=None, verbosity=None), None, {'n_estimators': [5, 6, 7], 'learning_rate': [0.01, 0.1, 1, 2, 3, 4]}, '2*n_jobs', True, False, 'neg_root_mean_squared_error', 0])\n",
      "0.486985593247456\n",
      "{'learning_rate': 1, 'n_estimators': 6}\n"
     ]
    }
   ],
   "source": [
    "model = XGBRegressor()\n",
    "kf = KFold(n_splits=5, shuffle=True, random_state=1414)\n",
    "\n",
    "#============ 어설프게 했더니 안하니만 못하다 ~~!!!!  0.3821  --> 0.4869\n",
    "hyper_param = {'n_estimators':[5, 6, 7],\n",
    "              'learning_rate':[0.01, 0.1, 1,2,3,4,]\n",
    "               }\n",
    "# socre_dict = {\"MSE\":'neg_mean_squared_error' ,\"RMSE\":'neg_root_mean_squared_error'}  \n",
    "# gcv_model = GridSearchCV(model, param_grid=hyper_param, scoring=socre_dict, refit='RMSE', cv=kf)  #, return_train_score=True)\n",
    "\n",
    "gcv_model = GridSearchCV(model, param_grid=hyper_param, scoring='neg_root_mean_squared_error'\n",
    "                         , refit=True, cv=kf)  \n",
    "\n",
    "print(gcv_model.get_params().values())\n",
    "\n",
    "gcv_model.fit(XX_scaler,yy_scaler)\n",
    "print(-1*gcv_model.best_score_)\n",
    "print(gcv_model.best_params_)\n"
   ]
  },
  {
   "cell_type": "code",
   "execution_count": null,
   "id": "63e7ec59-5011-40bb-b40f-e82bbdf00a54",
   "metadata": {},
   "outputs": [],
   "source": []
  },
  {
   "cell_type": "markdown",
   "id": "6e334a33-ebf5-46b9-800a-072376b042e2",
   "metadata": {
    "tags": []
   },
   "source": [
    "### list array scaler 연습"
   ]
  },
  {
   "cell_type": "code",
   "execution_count": 50,
   "id": "13878e68-65aa-486f-ab63-82bdf1278ae9",
   "metadata": {},
   "outputs": [
    {
     "data": {
      "text/plain": [
       "(2, 3)"
      ]
     },
     "execution_count": 50,
     "metadata": {},
     "output_type": "execute_result"
    }
   ],
   "source": [
    "matrix = [[1,2,3],\n",
    "          [10,20,30]\n",
    "         ]  #2*3\n",
    "df = pd.DataFrame(matrix)\n",
    "df.shape                        #2*3"
   ]
  },
  {
   "cell_type": "code",
   "execution_count": 51,
   "id": "268fb43a-23c6-4a19-ac2c-951f81b3456c",
   "metadata": {},
   "outputs": [
    {
     "name": "stdout",
     "output_type": "stream",
     "text": [
      "(5, 1) [[-1.04173019]\n",
      " [-0.80497333]\n",
      " [-0.56821647]\n",
      " [ 1.08908156]\n",
      " [ 1.32583843]]\n",
      "(5,) [-1.04173019 -0.80497333 -0.56821647  1.08908156  1.32583843]\n"
     ]
    }
   ],
   "source": [
    "list = [0,1,2,9,10]\n",
    "scaler = StandardScaler()\n",
    "# arr = scaler.fit_transform(list)                            # --> 리스트 가로줄 error\n",
    "# arr = scaler.fit_transform(np.array(list))                  # --> 배열   가로줄   error\n",
    "matrix = scaler.fit_transform(np.array(list).reshape(-1,1))   # --> 배열   세로줄   ok \n",
    "print(matrix.shape, matrix)                                         # --> (5, 1) [[] [] []]        2-dimensional\n",
    "# df['ss_std'] = matrix\n",
    "#s = pd.Series(matrix)                                        # --> 매트릭스      error  []   1-dimensional\n",
    "\n",
    "# [[][]]  --> []      2-dimensional --> 1-dimensional\n",
    "arr = matrix.reshape(-1)\n",
    "print(arr.shape, arr)                                         # --> (5, 1) [[] [] []]        2-dimensional"
   ]
  },
  {
   "cell_type": "code",
   "execution_count": 52,
   "id": "8e0803d5-beae-41d2-90b1-b0a77622e37b",
   "metadata": {},
   "outputs": [
    {
     "name": "stdout",
     "output_type": "stream",
     "text": [
      "(5,) [ 0  1  2  9 10]\n",
      "0     0\n",
      "1     1\n",
      "2     2\n",
      "3     9\n",
      "4    10\n",
      "dtype: int32\n"
     ]
    }
   ],
   "source": [
    "arr = np.array([0,1,2,9,10])\n",
    "print(arr.shape, arr)\n",
    "s = pd.Series(arr)\n",
    "print(s)"
   ]
  }
 ],
 "metadata": {
  "kernelspec": {
   "display_name": "Python 3 (ipykernel)",
   "language": "python",
   "name": "python3"
  },
  "language_info": {
   "codemirror_mode": {
    "name": "ipython",
    "version": 3
   },
   "file_extension": ".py",
   "mimetype": "text/x-python",
   "name": "python",
   "nbconvert_exporter": "python",
   "pygments_lexer": "ipython3",
   "version": "3.8.8"
  },
  "toc-autonumbering": true,
  "toc-showcode": false,
  "toc-showmarkdowntxt": false
 },
 "nbformat": 4,
 "nbformat_minor": 5
}
