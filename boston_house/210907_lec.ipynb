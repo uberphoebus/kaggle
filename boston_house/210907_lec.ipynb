{
 "cells": [
  {
   "cell_type": "markdown",
   "source": [
    "# imports"
   ],
   "metadata": {}
  },
  {
   "cell_type": "code",
   "execution_count": 1,
   "source": [
    "import pandas as pd\r\n",
    "import numpy as np\r\n",
    "import matplotlib.pyplot as plt\r\n",
    "import seaborn as sns; sns.set()\r\n",
    "import warnings; warnings.filterwarnings(action='ignore')\r\n",
    "# --------------------------------------------------\r\n",
    "\r\n",
    "# --------------------------------------------------\r\n",
    "# load datasets\r\n",
    "from sklearn import datasets\r\n",
    "\r\n",
    "# imblearn.sampling\r\n",
    "from imblearn.over_sampling import SMOTE\r\n",
    "from imblearn.under_sampling import NearMiss\r\n",
    "\r\n",
    "# preprocessing.encoding\r\n",
    "from sklearn.preprocessing import LabelEncoder, OneHotEncoder # pd.get_dummies()\r\n",
    "# preprocessing.scaling\r\n",
    "from sklearn.preprocessing import MinMaxScaler, StandardScaler, RobustScaler\r\n",
    "# preprocessing.binarizing\r\n",
    "from sklearn.preprocessing import Binarizer\r\n",
    "\r\n",
    "# decomposition.PCA\r\n",
    "from sklearn.decomposition import PCA\r\n",
    "\r\n",
    "\r\n",
    "# Classifier ---------------------------------------\r\n",
    "\r\n",
    "# estimators\r\n",
    "from sklearn.tree import DecisionTreeClassifier\r\n",
    "from sklearn.ensemble import RandomForestClassifier, GradientBoostingClassifier\r\n",
    "from sklearn.linear_model import LogisticRegression # classifier\r\n",
    "from xgboost import XGBClassifier, XGBRFClassifier\r\n",
    "from lightgbm import LGBMClassifier\r\n",
    "from catboost import CatBoostClassifier\r\n",
    "# metrics.scores\r\n",
    "from sklearn.metrics import accuracy_score, precision_score, recall_score\r\n",
    "from sklearn.metrics import f1_score, roc_auc_score\r\n",
    "from sklearn.metrics import log_loss\r\n",
    "# metrics.curves\r\n",
    "from sklearn.metrics import precision_recall_curve, plot_precision_recall_curve\r\n",
    "from sklearn.metrics import roc_curve, plot_roc_curve\r\n",
    "# metrics.reports\r\n",
    "from sklearn.metrics import confusion_matrix, plot_confusion_matrix\r\n",
    "from sklearn.metrics import classification_report, ConfusionMatrixDisplay\r\n",
    "# --------------------------------------------------\r\n",
    "\r\n",
    "# Regressor-----------------------------------------\r\n",
    "# estimators\r\n",
    "from sklearn.tree import DecisionTreeRegressor\r\n",
    "from sklearn.ensemble import RandomForestRegressor, GradientBoostingRegressor\r\n",
    "from sklearn.linear_model import LinearRegression\r\n",
    "from sklearn.linear_model import Ridge, RidgeCV\r\n",
    "from sklearn.linear_model import Lasso, LassoCV\r\n",
    "from sklearn.linear_model import ElasticNet, ElasticNetCV\r\n",
    "from xgboost import XGBRegressor, XGBRFRegressor\r\n",
    "from lightgbm import LGBMRegressor\r\n",
    "from catboost import CatBoostRegressor, CatBoostError\r\n",
    "# metrics.errors\r\n",
    "from sklearn.metrics import mean_squared_error     # 'neg_mean_squared_error', 'neg_root_mean_squared_error'\r\n",
    "from sklearn.metrics import mean_squared_log_error # 'neg_mean_squared_log_error'\r\n",
    "from sklearn.metrics import mean_absolute_error    # 'neg_mean_absolute_error'\r\n",
    "# --------------------------------------------------\r\n",
    "\r\n",
    "# stats : R module\r\n",
    "from scipy.stats import skew, kurtosis\r\n",
    "\r\n",
    "# model_selection.splitter\r\n",
    "from sklearn.model_selection import train_test_split       # function\r\n",
    "# model_selection.model_validation\r\n",
    "from sklearn.model_selection import KFold, StratifiedKFold, RepeatedStratifiedKFold # cross-validator\r\n",
    "from sklearn.model_selection import cross_val_score\r\n",
    "# model_selection.hyper_parameter_optimizer\r\n",
    "from sklearn.model_selection import GridSearchCV\r\n",
    "\r\n",
    "# **************************************************\r\n",
    "\r\n",
    "# --------------------------------------------------\r\n",
    "def check_nan(df):\r\n",
    "    nan = df.isna().sum()[df.isna().sum() != 0]\r\n",
    "    nan_cols = list(nan.index)\r\n",
    "    nan_cnt  = df[nan_cols].isna().sum()\r\n",
    "    rate = round(nan_cnt / df.shape[0] * 100, 2)\r\n",
    "    nan_df = pd.DataFrame({'NAN_CNT':nan_cnt, 'RATE':rate})\r\n",
    "    \r\n",
    "    print(nan_df)\r\n",
    "    print('-' * 30)\r\n",
    "    print('nan_cols count =', len(nan_cols))\r\n",
    "    print(nan_cols)\r\n",
    " \r\n",
    "    for col in nan_cols:\r\n",
    "        print('-' * 30)\r\n",
    "        print(df[col].value_counts())\r\n",
    "        print('value_counts =', df[col].count(), '/ nan_counts =', df[col].isna().sum())\r\n",
    "    \r\n",
    "    return nan_cols\r\n",
    "# nan_cols = check_nan(df)\r\n",
    "# --------------------------------------------------\r\n",
    "\r\n",
    "# --------------------------------------------------\r\n",
    "def check_outliers(X_train, features, rate=1.5):\r\n",
    "    \r\n",
    "    dict = {}\r\n",
    "    \r\n",
    "    for col in features:\r\n",
    "        \r\n",
    "        Q1 = np.percentile(X_train[col], 25) \r\n",
    "        Q3 = np.percentile(X_train[col], 75) \r\n",
    "        IQR = Q3 - Q1\r\n",
    "        \r\n",
    "        min = Q1 - (rate * IQR)\r\n",
    "        max = Q3 + (rate * IQR)\r\n",
    "        \r\n",
    "        idxs = X_train[(X_train[col] < min) | (X_train[col] > max)].index\r\n",
    "        \r\n",
    "        dict[col] = idxs\r\n",
    "        \r\n",
    "    return dict\r\n",
    "# check_outliers(X_train, 'Insulin')\r\n",
    "# --------------------------------------------------\r\n",
    "\r\n",
    "# --------------------------------------------------\r\n",
    "def check_object(df):\r\n",
    "    object_cols = list(df.dtypes[df.dtypes == 'object'].index)\r\n",
    "    print('object_cols count =', len(object_cols))\r\n",
    "    for col in object_cols:\r\n",
    "        print('-' * 30)\r\n",
    "        print(df[col].value_counts())\r\n",
    "    return object_cols\r\n",
    "# object_cols = encode(df)\r\n",
    "# --------------------------------------------------\r\n",
    "\r\n",
    "# --------------------------------------------------\r\n",
    "def mapping(df, col, dict):\r\n",
    "    dict = {}\r\n",
    "    \r\n",
    "    for i in range(len(df[col].value_counts().index)):\r\n",
    "        dict[df[col].value_counts().index[i]] = i\r\n",
    "    \r\n",
    "    df['e_' + col] = df[col].map(dict)\r\n",
    "    return df['e_' + col].value_counts()\r\n",
    "# mapping(df, 'gender')\r\n",
    "# --------------------------------------------------\r\n",
    "\r\n",
    "# --------------------------------------------------\r\n",
    "def split_xy(df, target, test_size=0.2):\r\n",
    "    \r\n",
    "    \"\"\"split X, y & train, test\"\"\"\r\n",
    "    \r\n",
    "    X = df.drop(target, axis=1)\r\n",
    "    y = df[target]\r\n",
    "    \r\n",
    "    X_train, X_test, y_train, y_test = train_test_split(X, y, test_size=test_size, random_state=0, stratify=y)\r\n",
    "    \r\n",
    "    return X_train, X_test, y_train, y_test\r\n",
    "\r\n",
    "# X_train, X_test, y_train, y_test = split_xy(df, 'Outcome')\r\n",
    "# --------------------------------------------------\r\n",
    "\r\n",
    "# --------------------------------------------------\r\n",
    "def scores(y_test, y_pred):\r\n",
    "    \r\n",
    "    \"\"\"evaluation scores\"\"\"\r\n",
    "    \r\n",
    "    f1        = f1_score         (y_test, y_pred, average='macro')\r\n",
    "    accuracy  = accuracy_score   (y_test, y_pred, )\r\n",
    "    precision = precision_score  (y_test, y_pred, average='macro')\r\n",
    "    recall    = recall_score     (y_test, y_pred, average='macro')\r\n",
    "    c_matrix  = confusion_matrix (y_test, y_pred, )\r\n",
    "    \r\n",
    "    print(\r\n",
    "          f'accuracy  = {accuracy:.6f},  '\r\n",
    "          f'f1 score  = {f1:.6f},  \\n'\r\n",
    "          f'precision = {precision:.6f},  '\r\n",
    "          f'recall    = {recall:.6f},')\r\n",
    "    print(c_matrix)\r\n",
    "    \r\n",
    "    # plt.figure(figsize=(12, 9))\r\n",
    "    # plt.title('confusion matrix')\r\n",
    "    # plt.xlabel('Predict')\r\n",
    "    # plt.ylabel('Actual')\r\n",
    "    # sns.heatmap(c_matrix, annot=True, linewidths=1, cmap='Blues', annot_kws={\"size\": 14})\r\n",
    "    # plt.show()\r\n",
    "# --------------------------------------------------\r\n",
    "\r\n",
    "# --------------------------------------------------\r\n",
    "def curves(y_test, probas_pred):\r\n",
    "        \r\n",
    "    FPRS, TPRS, thresholds = roc_curve(y_test, probas_pred[:, 1])\r\n",
    " \r\n",
    "    f, ax = plt.subplots(1, 2, figsize=(16, 6))\r\n",
    " \r\n",
    "    # settings\r\n",
    "    plt.subplot(121)\r\n",
    "    plt.title('ROC curve')\r\n",
    "    plt.gray()\r\n",
    "    plt.xlabel('FPR(1- specificity)')\r\n",
    "    plt.ylabel('TPR')\r\n",
    " \r\n",
    "    # x, y values\r\n",
    "    plt.plot(FPRS, TPRS, label='ROC', linestyle='solid')\r\n",
    "    plt.plot([0, 1], [0, 1], label='50%', color='gray', linestyle=':')\r\n",
    "    plt.legend()\r\n",
    " \r\n",
    "    precisions, recalls, thresholds = precision_recall_curve(y_test, probas_pred[:, 1])\r\n",
    "    f1_scores = 2 * (precisions * recalls) / (precisions + recalls)\r\n",
    " \r\n",
    "    plt.subplot(122)\r\n",
    "    plt.title('precision recall curve')\r\n",
    "    plt.gray()\r\n",
    "    plt.xlabel('threshold')\r\n",
    "    plt.ylabel('scores')\r\n",
    " \r\n",
    "    # x, y values\r\n",
    "    plt.plot(thresholds, precisions[:thresholds.shape[0]], label='precision', linestyle=':')\r\n",
    "    plt.plot(thresholds, recalls[:thresholds.shape[0]],    label='recall',    linestyle='--')\r\n",
    "    plt.plot(thresholds, f1_scores[:thresholds.shape[0]],  label='f1',        linestyle='solid')\r\n",
    "    # valid linestyle = '-', '--', '-.', ':', 'None', ' ', '', 'solid', 'dashed', 'dashdot', 'dotted'\r\n",
    "    plt.legend()\r\n",
    " \r\n",
    "    plt.show()\r\n",
    "    \r\n",
    "    print('AUC = ', roc_auc_score(y_test, probas_pred[:, 1]))\r\n",
    "# --------------------------------------------------\r\n",
    "# --------------------------------------------------"
   ],
   "outputs": [],
   "metadata": {}
  },
  {
   "cell_type": "code",
   "execution_count": 2,
   "source": [
    "# # GridsearchCV : INPUT DF VERSION\r\n",
    "# df_met = df01\r\n",
    "\r\n",
    "# # (train, sub) & (X, y) & (train, tset) split\r\n",
    "# train_met = df_met[df_met['credit'].notna()]\r\n",
    "\r\n",
    "# X = train_met.drop('credit', axis=1)\r\n",
    "# y = train_met['credit']\r\n",
    "\r\n",
    "# X_train, X_test, y_train, y_test = train_test_split(X, y, test_size=0.2, random_state=0,\r\n",
    "#                                                     shuffle=True, stratify=y)\r\n",
    "\r\n",
    "# # models\r\n",
    "# models = [\r\n",
    "#           RandomForestClassifier(),\r\n",
    "#         #   GradientBoostingClassifier(), \r\n",
    "#         #   XGBClassifier(), \r\n",
    "#         #   XGBRFClassifier(), \r\n",
    "#         #   LGBMClassifier(), \r\n",
    "#         #   CatBoostClassifier(),\r\n",
    "#           ]\r\n",
    "\r\n",
    "# # param_grid=\r\n",
    "# hyper_param = {'n_estimators':[400],\r\n",
    "#                'random_state':[0],\r\n",
    "#                'min_samples_split':[4],\r\n",
    "#                'min_samples_leaf':[1],\r\n",
    "#                }\r\n",
    "\r\n",
    "# # scoring=\r\n",
    "# scorers = {'f1_macro':'f1_macro', 'accuracy':'accuracy',\r\n",
    "#            'precision':'precision_macro', 'recall':'recall_macro', 'roc_auc_ovr':'roc_auc_ovr',}\r\n",
    "# # cv=\r\n",
    "# skfold  = StratifiedKFold(n_splits=5, shuffle=True, random_state=0)\r\n",
    "\r\n",
    "# # cv_results_ cols\r\n",
    "# result_scorers = ['mean_test_f1_macro', 'mean_test_accuracy', \r\n",
    "#                   'mean_test_precision', 'mean_test_recall', 'mean_test_roc_auc_ovr',]\r\n",
    "\r\n",
    "# # GridSearchCV loop\r\n",
    "# for model in models:\r\n",
    "        \r\n",
    "#         gscv = GridSearchCV(model, param_grid=hyper_param, scoring=scorers, refit='f1_macro', cv=skfold, return_train_score=True)\r\n",
    "#         gscv.fit(X, y)\r\n",
    "#         results = gscv.cv_results_\r\n",
    "        \r\n",
    "#         print('-' * 75)\r\n",
    "#         print('estimtor        =', gscv.estimator)\r\n",
    "#         print('best_params_    =', gscv.best_params_)\r\n",
    "#         print('best_score_     =', gscv.best_score_)\r\n",
    "        \r\n",
    "#         met_df = pd.DataFrame(results)[result_scorers]\r\n",
    "#         met_df.columns = ['f1_macro', 'accuracy', 'precision', 'recall', 'auc_ovr',]\r\n",
    "#         print(met_df)"
   ],
   "outputs": [],
   "metadata": {}
  },
  {
   "cell_type": "code",
   "execution_count": 3,
   "source": [
    "# # cross_validate : INPUT DF VERSION\r\n",
    "# df_met = df01\r\n",
    "\r\n",
    "# train_met = df_met[df_met['credit'].notna()]\r\n",
    "# X = train_met.drop('credit', axis=1)\r\n",
    "# y = train_met['credit']\r\n",
    "\r\n",
    "# models = [\r\n",
    "#           RandomForestClassifier(n_estimators=400, min_samples_leaf=1, min_samples_split=4, random_state=0),\r\n",
    "#           ]\r\n",
    "\r\n",
    "# scorers = {'f1_macro':'f1_macro', 'accuracy':'accuracy',\r\n",
    "#            'precision':'precision_macro', 'recall':'recall_macro', 'roc_auc_ovr':'roc_auc_ovr',}\r\n",
    "# skfold  = StratifiedKFold(n_splits=5, shuffle=True, random_state=0)\r\n",
    "\r\n",
    "# for model in models:\r\n",
    "    \r\n",
    "#     cv_results = cross_validate(model, X, y, scoring=scorers, cv=skfold, \r\n",
    "#                                 return_train_score=True, return_estimator=True)\r\n",
    "#     print('-' * 70)\r\n",
    "#     print('model =', model)\r\n",
    "#     print('f1_macro  = {}  '.format(cv_results['test_f1_macro'].mean()),\r\n",
    "#           'accuracy  = {}  '.format(cv_results['test_accuracy'].mean()), '\\n'\r\n",
    "#           'precision = {}  '.format(cv_results['test_precision'].mean()),\r\n",
    "#           'recall    = {}  '.format(cv_results['test_recall'].mean()), '\\n'\r\n",
    "#           'AUC_ovr   = {}  '.format(cv_results['test_roc_auc_ovr'].mean()),\r\n",
    "#           )\r\n",
    "    \r\n",
    "#     fi_list = []\r\n",
    "    \r\n",
    "#     for idx, estimator in enumerate(cv_results['estimator']):\r\n",
    "#         fi = pd.DataFrame(estimator.feature_importances_, \r\n",
    "#                           index=X.columns, columns=['importance']).sort_values('importance', ascending=False)\r\n",
    "        \r\n",
    "#         fi_list.append(estimator.feature_importances_.tolist())\r\n",
    "    \r\n",
    "#     fi_means = np.array(fi_list).mean(axis=0)\r\n",
    "#     fi_df = pd.DataFrame(fi_means, columns=['importance'], index=X.columns).sort_values(by='importance', ascending=False)\r\n",
    "#     fig, ax = plt.subplots(figsize=(16, 12))\r\n",
    "#     sns.set_theme(style='whitegrid')\r\n",
    "#     sns.set_color_codes('pastel')\r\n",
    "#     sns.barplot(x='importance', y=X.columns, data=fi_df)\r\n",
    "#     plt.show()"
   ],
   "outputs": [],
   "metadata": {}
  },
  {
   "cell_type": "markdown",
   "source": [
    "# read boston"
   ],
   "metadata": {}
  },
  {
   "cell_type": "code",
   "execution_count": 4,
   "source": [
    "# https://www.kaggle.com/vikrishnan/boston-house-prices?\r\n",
    "boston = datasets.load_boston()\r\n",
    "df = pd.DataFrame(data=boston['data'], columns=boston['feature_names'])\r\n",
    "df['target'] = boston['target']\r\n",
    "\r\n",
    "# feature description\r\n",
    "# crim\t  자치시(town)별 1인당 범죄율\r\n",
    "# zn\t  25,000 평방 피트를 초과하는 거주지역의 비율\r\n",
    "# indus\t  비소매상업지역이 차지하고 있는 토지의 비율\r\n",
    "# chas\t  찰스강의 경계에 위치한 경우는 1, 아니면 0\r\n",
    "# nox\t  10ppm 당 농축 일산화질소\r\n",
    "# rm\t  주택 1가구당 평균 방의 수\r\n",
    "# age\t  1940년 이전에 건축한 소유주택 비율\r\n",
    "# dis\t  보스톤 직업센터까지의 접근성 지수\r\n",
    "# rad\t  방사형 도로까지의 접근성 지수\r\n",
    "# tax\t  10,000 달러당 재산세율\r\n",
    "# ptratio 자치시(town)별 학생/교사 비율\r\n",
    "# b       자치시(town)별 흑인의 비율\r\n",
    "# lstat\t  모집단의 하위 계층의 비율\r\n",
    "# medv\t  본인 소유의 주택가격 중앙값(단위 $1000)"
   ],
   "outputs": [],
   "metadata": {}
  },
  {
   "cell_type": "markdown",
   "source": [
    "# met ver00"
   ],
   "metadata": {}
  },
  {
   "cell_type": "code",
   "execution_count": 5,
   "source": [
    "X = df.drop('target', axis=1)\r\n",
    "y = df['target']\r\n",
    "\r\n",
    "X_train, X_test, y_train, y_test = train_test_split(X, y, test_size=0.2, random_state=0, shuffle=True)"
   ],
   "outputs": [],
   "metadata": {}
  },
  {
   "cell_type": "code",
   "execution_count": 6,
   "source": [
    "models = [LinearRegression(), Ridge(), Lasso(), ElasticNet(), \r\n",
    "          DecisionTreeRegressor(), XGBRegressor(), LGBMRegressor()]\r\n",
    "\r\n",
    "for model in models:\r\n",
    "    print(model.__class__.__name__)\r\n",
    "    model.fit(X_train, y_train)\r\n",
    "    y_pred = model.predict(X_test)\r\n",
    "    mse  = mean_squared_error(y_test, y_pred)\r\n",
    "    rmse = mean_squared_error(y_test, y_pred, squared=False)\r\n",
    "    \r\n",
    "    print('MES  =', mse)\r\n",
    "    print('RMSE = ', rmse)\r\n",
    "    print('-' * 30)"
   ],
   "outputs": [
    {
     "output_type": "stream",
     "name": "stdout",
     "text": [
      "LinearRegression\n",
      "MES  = 33.448979997676524\n",
      "RMSE =  5.783509315085134\n",
      "------------------------------\n",
      "Ridge\n",
      "MES  = 34.231606110615374\n",
      "RMSE =  5.850778248285896\n",
      "------------------------------\n",
      "Lasso\n",
      "MES  = 41.700096799949\n",
      "RMSE =  6.457561211475196\n",
      "------------------------------\n",
      "ElasticNet\n",
      "MES  = 40.6653320776942\n",
      "RMSE =  6.376937515586475\n",
      "------------------------------\n",
      "DecisionTreeRegressor\n",
      "MES  = 33.146470588235296\n",
      "RMSE =  5.757297159973184\n",
      "------------------------------\n",
      "XGBRegressor\n",
      "MES  = 21.366958008898255\n",
      "RMSE =  4.622440698256523\n",
      "------------------------------\n",
      "LGBMRegressor\n",
      "MES  = 24.498696726728348\n",
      "RMSE =  4.949615816073845\n",
      "------------------------------\n"
     ]
    }
   ],
   "metadata": {}
  },
  {
   "cell_type": "markdown",
   "source": [
    "# skew, kurt"
   ],
   "metadata": {}
  },
  {
   "cell_type": "code",
   "execution_count": 7,
   "source": [
    "# skew (+) : 왼쪽 치우침(CRIM)\r\n",
    "# skew (0) : 정규분포\r\n",
    "# skew (-) : 오른쪽 치우침(B)\r\n",
    "# kurt (+) : 정규분포보다 뾰족함\r\n",
    "# kurt (0) : 정규분포\r\n",
    "# kurt (+) : 정규분포보다 납작함"
   ],
   "outputs": [],
   "metadata": {}
  },
  {
   "cell_type": "code",
   "execution_count": 8,
   "source": [
    "skew_arr = skew(df)\r\n",
    "kurt_arr = kurtosis(df)\r\n",
    "\r\n",
    "sk_dict = {'skew':skew_arr, 'kurt':kurt_arr}\r\n",
    "sk_df = pd.DataFrame(sk_dict, index=df.columns); sk_df"
   ],
   "outputs": [
    {
     "output_type": "execute_result",
     "data": {
      "text/html": [
       "<div>\n",
       "<style scoped>\n",
       "    .dataframe tbody tr th:only-of-type {\n",
       "        vertical-align: middle;\n",
       "    }\n",
       "\n",
       "    .dataframe tbody tr th {\n",
       "        vertical-align: top;\n",
       "    }\n",
       "\n",
       "    .dataframe thead th {\n",
       "        text-align: right;\n",
       "    }\n",
       "</style>\n",
       "<table border=\"1\" class=\"dataframe\">\n",
       "  <thead>\n",
       "    <tr style=\"text-align: right;\">\n",
       "      <th></th>\n",
       "      <th>skew</th>\n",
       "      <th>kurt</th>\n",
       "    </tr>\n",
       "  </thead>\n",
       "  <tbody>\n",
       "    <tr>\n",
       "      <th>CRIM</th>\n",
       "      <td>5.207652</td>\n",
       "      <td>36.752786</td>\n",
       "    </tr>\n",
       "    <tr>\n",
       "      <th>ZN</th>\n",
       "      <td>2.219063</td>\n",
       "      <td>3.979949</td>\n",
       "    </tr>\n",
       "    <tr>\n",
       "      <th>INDUS</th>\n",
       "      <td>0.294146</td>\n",
       "      <td>-1.233218</td>\n",
       "    </tr>\n",
       "    <tr>\n",
       "      <th>CHAS</th>\n",
       "      <td>3.395799</td>\n",
       "      <td>9.531453</td>\n",
       "    </tr>\n",
       "    <tr>\n",
       "      <th>NOX</th>\n",
       "      <td>0.727144</td>\n",
       "      <td>-0.075864</td>\n",
       "    </tr>\n",
       "    <tr>\n",
       "      <th>RM</th>\n",
       "      <td>0.402415</td>\n",
       "      <td>1.861027</td>\n",
       "    </tr>\n",
       "    <tr>\n",
       "      <th>AGE</th>\n",
       "      <td>-0.597186</td>\n",
       "      <td>-0.970014</td>\n",
       "    </tr>\n",
       "    <tr>\n",
       "      <th>DIS</th>\n",
       "      <td>1.008779</td>\n",
       "      <td>0.471299</td>\n",
       "    </tr>\n",
       "    <tr>\n",
       "      <th>RAD</th>\n",
       "      <td>1.001833</td>\n",
       "      <td>-0.870521</td>\n",
       "    </tr>\n",
       "    <tr>\n",
       "      <th>TAX</th>\n",
       "      <td>0.667968</td>\n",
       "      <td>-1.142985</td>\n",
       "    </tr>\n",
       "    <tr>\n",
       "      <th>PTRATIO</th>\n",
       "      <td>-0.799945</td>\n",
       "      <td>-0.294116</td>\n",
       "    </tr>\n",
       "    <tr>\n",
       "      <th>B</th>\n",
       "      <td>-2.881798</td>\n",
       "      <td>7.143769</td>\n",
       "    </tr>\n",
       "    <tr>\n",
       "      <th>LSTAT</th>\n",
       "      <td>0.903771</td>\n",
       "      <td>0.476545</td>\n",
       "    </tr>\n",
       "    <tr>\n",
       "      <th>target</th>\n",
       "      <td>1.104811</td>\n",
       "      <td>1.468629</td>\n",
       "    </tr>\n",
       "  </tbody>\n",
       "</table>\n",
       "</div>"
      ],
      "text/plain": [
       "             skew       kurt\n",
       "CRIM     5.207652  36.752786\n",
       "ZN       2.219063   3.979949\n",
       "INDUS    0.294146  -1.233218\n",
       "CHAS     3.395799   9.531453\n",
       "NOX      0.727144  -0.075864\n",
       "RM       0.402415   1.861027\n",
       "AGE     -0.597186  -0.970014\n",
       "DIS      1.008779   0.471299\n",
       "RAD      1.001833  -0.870521\n",
       "TAX      0.667968  -1.142985\n",
       "PTRATIO -0.799945  -0.294116\n",
       "B       -2.881798   7.143769\n",
       "LSTAT    0.903771   0.476545\n",
       "target   1.104811   1.468629"
      ]
     },
     "metadata": {},
     "execution_count": 8
    }
   ],
   "metadata": {}
  },
  {
   "cell_type": "code",
   "execution_count": 9,
   "source": [
    "sk_df.sort_values(by='skew', ascending=True).plot(kind='barh')"
   ],
   "outputs": [
    {
     "output_type": "execute_result",
     "data": {
      "text/plain": [
       "<AxesSubplot:>"
      ]
     },
     "metadata": {},
     "execution_count": 9
    },
    {
     "output_type": "display_data",
     "data": {
      "image/png": "[encoded data removed]",
      "text/plain": [
       "<Figure size 432x288 with 1 Axes>"
      ]
     },
     "metadata": {}
    }
   ],
   "metadata": {}
  },
  {
   "cell_type": "code",
   "execution_count": 10,
   "source": [
    "X_train.columns"
   ],
   "outputs": [
    {
     "output_type": "execute_result",
     "data": {
      "text/plain": [
       "Index(['CRIM', 'ZN', 'INDUS', 'CHAS', 'NOX', 'RM', 'AGE', 'DIS', 'RAD', 'TAX',\n",
       "       'PTRATIO', 'B', 'LSTAT'],\n",
       "      dtype='object')"
      ]
     },
     "metadata": {},
     "execution_count": 10
    }
   ],
   "metadata": {}
  },
  {
   "cell_type": "markdown",
   "source": [
    "# outlier"
   ],
   "metadata": {}
  },
  {
   "cell_type": "code",
   "execution_count": null,
   "source": [],
   "outputs": [],
   "metadata": {}
  },
  {
   "cell_type": "code",
   "execution_count": null,
   "source": [],
   "outputs": [],
   "metadata": {}
  },
  {
   "cell_type": "code",
   "execution_count": null,
   "source": [],
   "outputs": [],
   "metadata": {}
  },
  {
   "cell_type": "code",
   "execution_count": null,
   "source": [],
   "outputs": [],
   "metadata": {}
  },
  {
   "cell_type": "markdown",
   "source": [
    "# scale"
   ],
   "metadata": {}
  },
  {
   "cell_type": "code",
   "execution_count": 11,
   "source": [
    "train = pd.concat([X_train, y_train], axis=1)\r\n",
    "test  = pd.concat([X_test, y_test], axis=1)\r\n",
    "\r\n",
    "scalers = [StandardScaler(), \r\n",
    "        #    MinMaxScaler(), \r\n",
    "        #    RobustScaler()\r\n",
    "           ]\r\n",
    "\r\n",
    "for col in train.columns:\r\n",
    "    \r\n",
    "    \r\n",
    "    for scaler in scalers:\r\n",
    "        \r\n",
    "        reshape_train = np.array(train[col]).reshape(-1, 1)\r\n",
    "        reshape_test  = np.array( test[col]).reshape(-1, 1)\r\n",
    "        \r\n",
    "        scaler.fit(reshape_train)\r\n",
    "        sc_train = scaler.transform(reshape_train)\r\n",
    "        sc_test  = scaler.transform(reshape_test)\r\n",
    "        \r\n",
    "        train[str(col) + scaler.__class__.__name__] = sc_train.reshape(-1, 1)\r\n",
    "        test [str(col) + scaler.__class__.__name__] = sc_test.reshape(-1, 1)"
   ],
   "outputs": [],
   "metadata": {}
  },
  {
   "cell_type": "code",
   "execution_count": 12,
   "source": [
    "train.head()"
   ],
   "outputs": [
    {
     "output_type": "execute_result",
     "data": {
      "text/html": [
       "<div>\n",
       "<style scoped>\n",
       "    .dataframe tbody tr th:only-of-type {\n",
       "        vertical-align: middle;\n",
       "    }\n",
       "\n",
       "    .dataframe tbody tr th {\n",
       "        vertical-align: top;\n",
       "    }\n",
       "\n",
       "    .dataframe thead th {\n",
       "        text-align: right;\n",
       "    }\n",
       "</style>\n",
       "<table border=\"1\" class=\"dataframe\">\n",
       "  <thead>\n",
       "    <tr style=\"text-align: right;\">\n",
       "      <th></th>\n",
       "      <th>CRIM</th>\n",
       "      <th>ZN</th>\n",
       "      <th>INDUS</th>\n",
       "      <th>CHAS</th>\n",
       "      <th>NOX</th>\n",
       "      <th>RM</th>\n",
       "      <th>AGE</th>\n",
       "      <th>DIS</th>\n",
       "      <th>RAD</th>\n",
       "      <th>TAX</th>\n",
       "      <th>...</th>\n",
       "      <th>NOXStandardScaler</th>\n",
       "      <th>RMStandardScaler</th>\n",
       "      <th>AGEStandardScaler</th>\n",
       "      <th>DISStandardScaler</th>\n",
       "      <th>RADStandardScaler</th>\n",
       "      <th>TAXStandardScaler</th>\n",
       "      <th>PTRATIOStandardScaler</th>\n",
       "      <th>BStandardScaler</th>\n",
       "      <th>LSTATStandardScaler</th>\n",
       "      <th>targetStandardScaler</th>\n",
       "    </tr>\n",
       "  </thead>\n",
       "  <tbody>\n",
       "    <tr>\n",
       "      <th>220</th>\n",
       "      <td>0.35809</td>\n",
       "      <td>0.0</td>\n",
       "      <td>6.20</td>\n",
       "      <td>1.0</td>\n",
       "      <td>0.507</td>\n",
       "      <td>6.951</td>\n",
       "      <td>88.5</td>\n",
       "      <td>2.8617</td>\n",
       "      <td>8.0</td>\n",
       "      <td>307.0</td>\n",
       "      <td>...</td>\n",
       "      <td>-0.424879</td>\n",
       "      <td>0.935678</td>\n",
       "      <td>0.693669</td>\n",
       "      <td>-0.437218</td>\n",
       "      <td>-0.162242</td>\n",
       "      <td>-0.561656</td>\n",
       "      <td>-0.484638</td>\n",
       "      <td>0.371691</td>\n",
       "      <td>-0.411000</td>\n",
       "      <td>0.443044</td>\n",
       "    </tr>\n",
       "    <tr>\n",
       "      <th>71</th>\n",
       "      <td>0.15876</td>\n",
       "      <td>0.0</td>\n",
       "      <td>10.81</td>\n",
       "      <td>0.0</td>\n",
       "      <td>0.413</td>\n",
       "      <td>5.961</td>\n",
       "      <td>17.5</td>\n",
       "      <td>5.2873</td>\n",
       "      <td>4.0</td>\n",
       "      <td>305.0</td>\n",
       "      <td>...</td>\n",
       "      <td>-1.241859</td>\n",
       "      <td>-0.491181</td>\n",
       "      <td>-1.835528</td>\n",
       "      <td>0.730055</td>\n",
       "      <td>-0.624648</td>\n",
       "      <td>-0.573376</td>\n",
       "      <td>0.336491</td>\n",
       "      <td>0.205012</td>\n",
       "      <td>-0.387681</td>\n",
       "      <td>-0.098824</td>\n",
       "    </tr>\n",
       "    <tr>\n",
       "      <th>240</th>\n",
       "      <td>0.11329</td>\n",
       "      <td>30.0</td>\n",
       "      <td>4.93</td>\n",
       "      <td>0.0</td>\n",
       "      <td>0.428</td>\n",
       "      <td>6.897</td>\n",
       "      <td>54.3</td>\n",
       "      <td>6.3361</td>\n",
       "      <td>6.0</td>\n",
       "      <td>300.0</td>\n",
       "      <td>...</td>\n",
       "      <td>-1.111490</td>\n",
       "      <td>0.857849</td>\n",
       "      <td>-0.524621</td>\n",
       "      <td>1.234769</td>\n",
       "      <td>-0.393445</td>\n",
       "      <td>-0.602677</td>\n",
       "      <td>-0.849584</td>\n",
       "      <td>0.366609</td>\n",
       "      <td>-0.181919</td>\n",
       "      <td>-0.066312</td>\n",
       "    </tr>\n",
       "    <tr>\n",
       "      <th>6</th>\n",
       "      <td>0.08829</td>\n",
       "      <td>12.5</td>\n",
       "      <td>7.87</td>\n",
       "      <td>0.0</td>\n",
       "      <td>0.524</td>\n",
       "      <td>6.012</td>\n",
       "      <td>66.6</td>\n",
       "      <td>5.5605</td>\n",
       "      <td>5.0</td>\n",
       "      <td>311.0</td>\n",
       "      <td>...</td>\n",
       "      <td>-0.277127</td>\n",
       "      <td>-0.417676</td>\n",
       "      <td>-0.086464</td>\n",
       "      <td>0.861527</td>\n",
       "      <td>-0.509046</td>\n",
       "      <td>-0.538216</td>\n",
       "      <td>-1.488240</td>\n",
       "      <td>0.415732</td>\n",
       "      <td>-0.037886</td>\n",
       "      <td>0.031224</td>\n",
       "    </tr>\n",
       "    <tr>\n",
       "      <th>417</th>\n",
       "      <td>25.94060</td>\n",
       "      <td>0.0</td>\n",
       "      <td>18.10</td>\n",
       "      <td>0.0</td>\n",
       "      <td>0.679</td>\n",
       "      <td>5.304</td>\n",
       "      <td>89.1</td>\n",
       "      <td>1.6475</td>\n",
       "      <td>24.0</td>\n",
       "      <td>666.0</td>\n",
       "      <td>...</td>\n",
       "      <td>1.070021</td>\n",
       "      <td>-1.438097</td>\n",
       "      <td>0.715042</td>\n",
       "      <td>-1.021528</td>\n",
       "      <td>1.687378</td>\n",
       "      <td>1.542121</td>\n",
       "      <td>0.792674</td>\n",
       "      <td>-2.613393</td>\n",
       "      <td>1.911362</td>\n",
       "      <td>-1.323446</td>\n",
       "    </tr>\n",
       "  </tbody>\n",
       "</table>\n",
       "<p>5 rows × 28 columns</p>\n",
       "</div>"
      ],
      "text/plain": [
       "         CRIM    ZN  INDUS  CHAS    NOX     RM   AGE     DIS   RAD    TAX  \\\n",
       "220   0.35809   0.0   6.20   1.0  0.507  6.951  88.5  2.8617   8.0  307.0   \n",
       "71    0.15876   0.0  10.81   0.0  0.413  5.961  17.5  5.2873   4.0  305.0   \n",
       "240   0.11329  30.0   4.93   0.0  0.428  6.897  54.3  6.3361   6.0  300.0   \n",
       "6     0.08829  12.5   7.87   0.0  0.524  6.012  66.6  5.5605   5.0  311.0   \n",
       "417  25.94060   0.0  18.10   0.0  0.679  5.304  89.1  1.6475  24.0  666.0   \n",
       "\n",
       "     ...  NOXStandardScaler  RMStandardScaler  AGEStandardScaler  \\\n",
       "220  ...          -0.424879          0.935678           0.693669   \n",
       "71   ...          -1.241859         -0.491181          -1.835528   \n",
       "240  ...          -1.111490          0.857849          -0.524621   \n",
       "6    ...          -0.277127         -0.417676          -0.086464   \n",
       "417  ...           1.070021         -1.438097           0.715042   \n",
       "\n",
       "     DISStandardScaler  RADStandardScaler  TAXStandardScaler  \\\n",
       "220          -0.437218          -0.162242          -0.561656   \n",
       "71            0.730055          -0.624648          -0.573376   \n",
       "240           1.234769          -0.393445          -0.602677   \n",
       "6             0.861527          -0.509046          -0.538216   \n",
       "417          -1.021528           1.687378           1.542121   \n",
       "\n",
       "     PTRATIOStandardScaler  BStandardScaler  LSTATStandardScaler  \\\n",
       "220              -0.484638         0.371691            -0.411000   \n",
       "71                0.336491         0.205012            -0.387681   \n",
       "240              -0.849584         0.366609            -0.181919   \n",
       "6                -1.488240         0.415732            -0.037886   \n",
       "417               0.792674        -2.613393             1.911362   \n",
       "\n",
       "     targetStandardScaler  \n",
       "220              0.443044  \n",
       "71              -0.098824  \n",
       "240             -0.066312  \n",
       "6                0.031224  \n",
       "417             -1.323446  \n",
       "\n",
       "[5 rows x 28 columns]"
      ]
     },
     "metadata": {},
     "execution_count": 12
    }
   ],
   "metadata": {}
  },
  {
   "cell_type": "code",
   "execution_count": 13,
   "source": [
    "test.head()"
   ],
   "outputs": [
    {
     "output_type": "execute_result",
     "data": {
      "text/html": [
       "<div>\n",
       "<style scoped>\n",
       "    .dataframe tbody tr th:only-of-type {\n",
       "        vertical-align: middle;\n",
       "    }\n",
       "\n",
       "    .dataframe tbody tr th {\n",
       "        vertical-align: top;\n",
       "    }\n",
       "\n",
       "    .dataframe thead th {\n",
       "        text-align: right;\n",
       "    }\n",
       "</style>\n",
       "<table border=\"1\" class=\"dataframe\">\n",
       "  <thead>\n",
       "    <tr style=\"text-align: right;\">\n",
       "      <th></th>\n",
       "      <th>CRIM</th>\n",
       "      <th>ZN</th>\n",
       "      <th>INDUS</th>\n",
       "      <th>CHAS</th>\n",
       "      <th>NOX</th>\n",
       "      <th>RM</th>\n",
       "      <th>AGE</th>\n",
       "      <th>DIS</th>\n",
       "      <th>RAD</th>\n",
       "      <th>TAX</th>\n",
       "      <th>...</th>\n",
       "      <th>NOXStandardScaler</th>\n",
       "      <th>RMStandardScaler</th>\n",
       "      <th>AGEStandardScaler</th>\n",
       "      <th>DISStandardScaler</th>\n",
       "      <th>RADStandardScaler</th>\n",
       "      <th>TAXStandardScaler</th>\n",
       "      <th>PTRATIOStandardScaler</th>\n",
       "      <th>BStandardScaler</th>\n",
       "      <th>LSTATStandardScaler</th>\n",
       "      <th>targetStandardScaler</th>\n",
       "    </tr>\n",
       "  </thead>\n",
       "  <tbody>\n",
       "    <tr>\n",
       "      <th>329</th>\n",
       "      <td>0.06724</td>\n",
       "      <td>0.0</td>\n",
       "      <td>3.24</td>\n",
       "      <td>0.0</td>\n",
       "      <td>0.460</td>\n",
       "      <td>6.333</td>\n",
       "      <td>17.2</td>\n",
       "      <td>5.2146</td>\n",
       "      <td>4.0</td>\n",
       "      <td>430.0</td>\n",
       "      <td>...</td>\n",
       "      <td>-0.833369</td>\n",
       "      <td>0.044972</td>\n",
       "      <td>-1.846215</td>\n",
       "      <td>0.695069</td>\n",
       "      <td>-0.624648</td>\n",
       "      <td>0.159137</td>\n",
       "      <td>-0.712729</td>\n",
       "      <td>0.185476</td>\n",
       "      <td>-0.736103</td>\n",
       "      <td>-0.001288</td>\n",
       "    </tr>\n",
       "    <tr>\n",
       "      <th>371</th>\n",
       "      <td>9.23230</td>\n",
       "      <td>0.0</td>\n",
       "      <td>18.10</td>\n",
       "      <td>0.0</td>\n",
       "      <td>0.631</td>\n",
       "      <td>6.216</td>\n",
       "      <td>100.0</td>\n",
       "      <td>1.1691</td>\n",
       "      <td>24.0</td>\n",
       "      <td>666.0</td>\n",
       "      <td>...</td>\n",
       "      <td>0.652840</td>\n",
       "      <td>-0.123657</td>\n",
       "      <td>1.103327</td>\n",
       "      <td>-1.251749</td>\n",
       "      <td>1.687378</td>\n",
       "      <td>1.542121</td>\n",
       "      <td>0.792674</td>\n",
       "      <td>0.083165</td>\n",
       "      <td>-0.435692</td>\n",
       "      <td>2.968150</td>\n",
       "    </tr>\n",
       "    <tr>\n",
       "      <th>219</th>\n",
       "      <td>0.11425</td>\n",
       "      <td>0.0</td>\n",
       "      <td>13.89</td>\n",
       "      <td>1.0</td>\n",
       "      <td>0.550</td>\n",
       "      <td>6.373</td>\n",
       "      <td>92.4</td>\n",
       "      <td>3.3633</td>\n",
       "      <td>5.0</td>\n",
       "      <td>276.0</td>\n",
       "      <td>...</td>\n",
       "      <td>-0.051154</td>\n",
       "      <td>0.102623</td>\n",
       "      <td>0.832597</td>\n",
       "      <td>-0.195833</td>\n",
       "      <td>-0.509046</td>\n",
       "      <td>-0.743319</td>\n",
       "      <td>-0.940821</td>\n",
       "      <td>0.394727</td>\n",
       "      <td>-0.302632</td>\n",
       "      <td>0.042062</td>\n",
       "    </tr>\n",
       "    <tr>\n",
       "      <th>403</th>\n",
       "      <td>24.80170</td>\n",
       "      <td>0.0</td>\n",
       "      <td>18.10</td>\n",
       "      <td>0.0</td>\n",
       "      <td>0.693</td>\n",
       "      <td>5.349</td>\n",
       "      <td>96.0</td>\n",
       "      <td>1.7028</td>\n",
       "      <td>24.0</td>\n",
       "      <td>666.0</td>\n",
       "      <td>...</td>\n",
       "      <td>1.191699</td>\n",
       "      <td>-1.373240</td>\n",
       "      <td>0.960837</td>\n",
       "      <td>-0.994916</td>\n",
       "      <td>1.687378</td>\n",
       "      <td>1.542121</td>\n",
       "      <td>0.792674</td>\n",
       "      <td>0.430412</td>\n",
       "      <td>0.968974</td>\n",
       "      <td>-1.551031</td>\n",
       "    </tr>\n",
       "    <tr>\n",
       "      <th>78</th>\n",
       "      <td>0.05646</td>\n",
       "      <td>0.0</td>\n",
       "      <td>12.83</td>\n",
       "      <td>0.0</td>\n",
       "      <td>0.437</td>\n",
       "      <td>6.232</td>\n",
       "      <td>53.7</td>\n",
       "      <td>5.0141</td>\n",
       "      <td>5.0</td>\n",
       "      <td>398.0</td>\n",
       "      <td>...</td>\n",
       "      <td>-1.033268</td>\n",
       "      <td>-0.100597</td>\n",
       "      <td>-0.545994</td>\n",
       "      <td>0.598583</td>\n",
       "      <td>-0.509046</td>\n",
       "      <td>-0.028387</td>\n",
       "      <td>0.108400</td>\n",
       "      <td>0.311840</td>\n",
       "      <td>-0.050232</td>\n",
       "      <td>-0.153011</td>\n",
       "    </tr>\n",
       "  </tbody>\n",
       "</table>\n",
       "<p>5 rows × 28 columns</p>\n",
       "</div>"
      ],
      "text/plain": [
       "         CRIM   ZN  INDUS  CHAS    NOX     RM    AGE     DIS   RAD    TAX  \\\n",
       "329   0.06724  0.0   3.24   0.0  0.460  6.333   17.2  5.2146   4.0  430.0   \n",
       "371   9.23230  0.0  18.10   0.0  0.631  6.216  100.0  1.1691  24.0  666.0   \n",
       "219   0.11425  0.0  13.89   1.0  0.550  6.373   92.4  3.3633   5.0  276.0   \n",
       "403  24.80170  0.0  18.10   0.0  0.693  5.349   96.0  1.7028  24.0  666.0   \n",
       "78    0.05646  0.0  12.83   0.0  0.437  6.232   53.7  5.0141   5.0  398.0   \n",
       "\n",
       "     ...  NOXStandardScaler  RMStandardScaler  AGEStandardScaler  \\\n",
       "329  ...          -0.833369          0.044972          -1.846215   \n",
       "371  ...           0.652840         -0.123657           1.103327   \n",
       "219  ...          -0.051154          0.102623           0.832597   \n",
       "403  ...           1.191699         -1.373240           0.960837   \n",
       "78   ...          -1.033268         -0.100597          -0.545994   \n",
       "\n",
       "     DISStandardScaler  RADStandardScaler  TAXStandardScaler  \\\n",
       "329           0.695069          -0.624648           0.159137   \n",
       "371          -1.251749           1.687378           1.542121   \n",
       "219          -0.195833          -0.509046          -0.743319   \n",
       "403          -0.994916           1.687378           1.542121   \n",
       "78            0.598583          -0.509046          -0.028387   \n",
       "\n",
       "     PTRATIOStandardScaler  BStandardScaler  LSTATStandardScaler  \\\n",
       "329              -0.712729         0.185476            -0.736103   \n",
       "371               0.792674         0.083165            -0.435692   \n",
       "219              -0.940821         0.394727            -0.302632   \n",
       "403               0.792674         0.430412             0.968974   \n",
       "78                0.108400         0.311840            -0.050232   \n",
       "\n",
       "     targetStandardScaler  \n",
       "329             -0.001288  \n",
       "371              2.968150  \n",
       "219              0.042062  \n",
       "403             -1.551031  \n",
       "78              -0.153011  \n",
       "\n",
       "[5 rows x 28 columns]"
      ]
     },
     "metadata": {},
     "execution_count": 13
    }
   ],
   "metadata": {}
  },
  {
   "cell_type": "code",
   "execution_count": 14,
   "source": [
    "train.columns"
   ],
   "outputs": [
    {
     "output_type": "execute_result",
     "data": {
      "text/plain": [
       "Index(['CRIM', 'ZN', 'INDUS', 'CHAS', 'NOX', 'RM', 'AGE', 'DIS', 'RAD', 'TAX',\n",
       "       'PTRATIO', 'B', 'LSTAT', 'target', 'CRIMStandardScaler',\n",
       "       'ZNStandardScaler', 'INDUSStandardScaler', 'CHASStandardScaler',\n",
       "       'NOXStandardScaler', 'RMStandardScaler', 'AGEStandardScaler',\n",
       "       'DISStandardScaler', 'RADStandardScaler', 'TAXStandardScaler',\n",
       "       'PTRATIOStandardScaler', 'BStandardScaler', 'LSTATStandardScaler',\n",
       "       'targetStandardScaler'],\n",
       "      dtype='object')"
      ]
     },
     "metadata": {},
     "execution_count": 14
    }
   ],
   "metadata": {}
  },
  {
   "cell_type": "code",
   "execution_count": 15,
   "source": [
    "# sk_df['MinMax_skew'] =     skew(train.iloc[:, 14::3])\r\n",
    "# sk_df['MinMax_kurt'] = kurtosis(train.iloc[:, 14::3])\r\n",
    "\r\n",
    "# sk_df['Standard_skew'] =     skew(train.iloc[:, 15::3])\r\n",
    "# sk_df['Standard_kurt'] = kurtosis(train.iloc[:, 15::3])\r\n",
    "\r\n",
    "# sk_df['Robust_skew'] =     skew(train.iloc[:, 16::3])\r\n",
    "# sk_df['Robust_kurt'] = kurtosis(train.iloc[:, 16::3])\r\n",
    "\r\n",
    "# sk_df"
   ],
   "outputs": [],
   "metadata": {}
  },
  {
   "cell_type": "code",
   "execution_count": 16,
   "source": [
    "train.columns[14::3]"
   ],
   "outputs": [
    {
     "output_type": "execute_result",
     "data": {
      "text/plain": [
       "Index(['CRIMStandardScaler', 'CHASStandardScaler', 'AGEStandardScaler',\n",
       "       'TAXStandardScaler', 'LSTATStandardScaler'],\n",
       "      dtype='object')"
      ]
     },
     "metadata": {},
     "execution_count": 16
    }
   ],
   "metadata": {}
  },
  {
   "cell_type": "code",
   "execution_count": 17,
   "source": [
    "y_train.hist()"
   ],
   "outputs": [
    {
     "output_type": "execute_result",
     "data": {
      "text/plain": [
       "<AxesSubplot:>"
      ]
     },
     "metadata": {},
     "execution_count": 17
    },
    {
     "output_type": "display_data",
     "data": {
      "image/png": "[encoded data removed]",
      "text/plain": [
       "<Figure size 432x288 with 1 Axes>"
      ]
     },
     "metadata": {}
    }
   ],
   "metadata": {}
  },
  {
   "cell_type": "code",
   "execution_count": 18,
   "source": [
    "scale = StandardScaler()\r\n",
    "\r\n",
    "y_train_reshape = np.array(y_train).reshape(-1, 1)\r\n",
    "\r\n",
    "scale.fit(y_train_reshape)\r\n",
    "sc_y_train = scale.transform(y_train_reshape)\r\n",
    "# scale.transfrom(y_test)\r\n",
    "\r\n",
    "pd.DataFrame(sc_y_train).hist()\r\n",
    "\r\n",
    "sc_y_train.shape"
   ],
   "outputs": [
    {
     "output_type": "execute_result",
     "data": {
      "text/plain": [
       "(404, 1)"
      ]
     },
     "metadata": {},
     "execution_count": 18
    },
    {
     "output_type": "display_data",
     "data": {
      "image/png": "[encoded data removed]",
      "text/plain": [
       "<Figure size 432x288 with 1 Axes>"
      ]
     },
     "metadata": {}
    }
   ],
   "metadata": {}
  },
  {
   "cell_type": "code",
   "execution_count": 19,
   "source": [
    "sc_y_train.shape[0]"
   ],
   "outputs": [
    {
     "output_type": "execute_result",
     "data": {
      "text/plain": [
       "404"
      ]
     },
     "metadata": {},
     "execution_count": 19
    }
   ],
   "metadata": {}
  },
  {
   "cell_type": "code",
   "execution_count": 20,
   "source": [
    "sc_y_train[0]"
   ],
   "outputs": [
    {
     "output_type": "execute_result",
     "data": {
      "text/plain": [
       "array([0.44304435])"
      ]
     },
     "metadata": {},
     "execution_count": 20
    }
   ],
   "metadata": {}
  },
  {
   "cell_type": "code",
   "execution_count": 21,
   "source": [
    "list = []\r\n",
    "for i in range(sc_train.shape[0]):\r\n",
    "    list.append(float(sc_y_train[i]))\r\n",
    "\r\n",
    "pd.Series(list).hist()"
   ],
   "outputs": [
    {
     "output_type": "execute_result",
     "data": {
      "text/plain": [
       "<AxesSubplot:>"
      ]
     },
     "metadata": {},
     "execution_count": 21
    },
    {
     "output_type": "display_data",
     "data": {
      "image/png": "[encoded data removed]",
      "text/plain": [
       "<Figure size 432x288 with 1 Axes>"
      ]
     },
     "metadata": {}
    }
   ],
   "metadata": {}
  },
  {
   "cell_type": "code",
   "execution_count": 22,
   "source": [
    "sc_y_train.shape"
   ],
   "outputs": [
    {
     "output_type": "execute_result",
     "data": {
      "text/plain": [
       "(404, 1)"
      ]
     },
     "metadata": {},
     "execution_count": 22
    }
   ],
   "metadata": {}
  },
  {
   "cell_type": "code",
   "execution_count": 23,
   "source": [
    "t = sc_y_train.reshape(-1)"
   ],
   "outputs": [],
   "metadata": {}
  },
  {
   "cell_type": "code",
   "execution_count": 24,
   "source": [
    "print(t)"
   ],
   "outputs": [
    {
     "output_type": "stream",
     "name": "stdout",
     "text": [
      "[ 4.43044345e-01 -9.88238901e-02 -6.63117960e-02  3.12244864e-02\n",
      " -1.32344610e+00 -7.71491607e-02 -2.18034902e-01  4.10532251e-01\n",
      "  2.02529959e+00 -5.86505302e-01  4.86393804e-01 -2.39709631e-01\n",
      " -6.62366855e-01  1.93784957e-01 -1.54019340e+00  4.20618512e-02\n",
      " -1.39930766e+00  2.96815032e+00  8.54864204e-01 -1.11753617e+00\n",
      " -3.48083278e-01 -1.53010714e-01 -2.50546996e-01 -4.13107467e-01\n",
      "  1.16914778e+00 -4.45619561e-01 -3.26408549e-01  1.14747305e+00\n",
      " -1.03083726e+00 -1.63772968e+00 -9.76650432e-01 -5.64830573e-01\n",
      " -1.54019340e+00  1.38589508e+00  1.50435498e-01 -9.98325161e-01\n",
      "  3.88857522e-01 -1.67024177e+00 -1.03083726e+00  2.04622322e-01\n",
      "  1.58096764e+00  2.58809145e-01  1.61272863e-01 -6.51529490e-01\n",
      "  1.11496096e+00  1.47259399e+00 -1.25842191e+00 -1.67024177e+00\n",
      "  2.03871217e-02  6.59791640e-01 -8.89951514e-01  1.93784957e-01\n",
      " -4.88969020e-01 -1.21249724e-02 -2.28872267e-01 -8.03252596e-01\n",
      " -5.64830573e-01 -9.76650432e-01 -1.50768130e+00 -4.78131655e-01\n",
      "  1.38589508e+00  9.84912581e-01  1.12579832e+00 -4.46370665e-02\n",
      " -2.39709631e-01  1.39598134e-01  2.58809145e-01 -1.07418671e+00\n",
      "  7.03141099e-01 -1.15004827e+00 -5.32318479e-01  4.75556440e-01\n",
      " -2.18034902e-01 -1.34512083e+00 -5.53993208e-01 -3.15571184e-01\n",
      "  7.79002651e-01 -2.28872267e-01 -8.35764690e-01 -1.26925928e+00\n",
      " -3.37245914e-01  9.54975702e-03 -3.37245914e-01  2.15459687e-01\n",
      "  2.58809145e-01  2.04622322e-01  2.96815032e+00 -9.00788879e-01\n",
      " -1.17172300e+00  9.09051028e-01  6.59791640e-01 -6.94878949e-01\n",
      "  2.26372162e+00  2.58809145e-01 -6.63117960e-02 -2.93896455e-01\n",
      " -5.54744312e-02  2.53465573e+00  3.12244864e-02 -2.61384361e-01\n",
      "  2.22037216e+00  1.29919616e+00 -9.54975702e-01  1.82947592e-01\n",
      " -1.20498620e-01  1.93784957e-01 -1.53010714e-01  1.28760769e-01\n",
      "  4.32206981e-01  2.69646510e-01 -1.41014502e+00 -3.48083278e-01\n",
      " -3.48083278e-01 -1.42098238e+00 -9.33300973e-01  4.21369616e-01\n",
      " -9.54975702e-01  1.31003352e+00 -6.84041584e-01 -9.88238901e-02\n",
      " -5.53993208e-01 -7.59903137e-01 -1.85522808e-01 -9.88238901e-02\n",
      " -1.07418671e+00 -4.45619561e-01  1.17923404e-01 -3.58920643e-01\n",
      " -1.07418671e+00 -1.09661255e-01  6.37365806e-02  7.57327922e-01\n",
      " -1.53010714e-01  1.28760769e-01 -5.97342667e-01 -6.63117960e-02\n",
      "  1.50510609e+00 -4.13107467e-01 -7.71491607e-02  5.28992159e-02\n",
      " -2.61384361e-01 -5.64830573e-01  1.55929291e+00  1.61272863e-01\n",
      "  1.47259399e+00 -7.49065773e-01  1.03909940e+00 -9.87487796e-01\n",
      " -5.10643749e-01 -1.00916253e+00 -1.18256036e+00  2.06864905e+00\n",
      " -4.56456926e-01 -1.03083726e+00  2.58809145e-01 -1.53010714e-01\n",
      " -7.16553679e-01  1.33170825e+00  2.80483875e-01  2.37134416e-01\n",
      " -1.20498620e-01  8.54113100e-02 -4.02270102e-01 -1.28009664e+00\n",
      " -1.74685443e-01  5.29743263e-01 -5.53993208e-01 -9.87487796e-01\n",
      "  6.59791640e-01 -8.46602055e-01 -3.80595373e-01  6.48954275e-01\n",
      " -1.03083726e+00 -3.91432737e-01 -1.22590982e+00 -1.00916253e+00\n",
      " -2.29623371e-02 -2.72221725e-01 -4.78131655e-01  3.12244864e-02\n",
      " -2.18034902e-01  2.58809145e-01 -1.06334935e+00  1.33170825e+00\n",
      "  1.17923404e-01  2.96815032e+00  6.92303734e-01  8.11514746e-01\n",
      " -6.63117960e-02 -7.59903137e-01  7.45739453e-02  8.11514746e-01\n",
      " -9.00788879e-01  2.03871217e-02  2.96815032e+00 -1.96360172e-01\n",
      " -1.76777806e+00  1.33170825e+00  1.06077413e+00 -2.93896455e-01\n",
      " -2.50546996e-01 -5.21481114e-01  5.28992159e-02 -2.39709631e-01\n",
      "  6.37365806e-02 -1.69191650e+00 -6.29854761e-01  2.61051729e+00\n",
      "  2.96815032e+00  3.12244864e-02  1.39598134e-01 -1.31335984e-01\n",
      " -9.88238901e-02 -7.81577867e-01 -7.92415232e-01  5.28992159e-02\n",
      "  1.39598134e-01 -3.48083278e-01 -1.16088563e+00 -5.21481114e-01\n",
      "  9.63237852e-01  1.21249724e+00 -1.96360172e-01 -3.04733820e-01\n",
      " -2.29623371e-02 -1.90866380e+00  2.04622322e-01 -3.48083278e-01\n",
      " -8.14089961e-01 -4.78131655e-01 -3.58920643e-01  4.86393804e-01\n",
      " -2.07197537e-01  1.62431710e+00 -1.18256036e+00  1.16914778e+00\n",
      "  8.11514746e-01 -1.31335984e-01  2.46963155e+00 -2.72221725e-01\n",
      " -1.96360172e-01  4.10532251e-01 -1.32344610e+00 -8.79865254e-02\n",
      "  1.01742468e+00 -9.88238901e-02 -4.56456926e-01  1.65682919e+00\n",
      " -5.21481114e-01  5.83930087e-01  6.05604816e-01  1.45091926e+00\n",
      " -4.02270102e-01 -8.24927326e-01 -1.21249724e-02  8.76538934e-01\n",
      " -2.83059090e-01 -3.80595373e-01  7.45739453e-02  4.32206981e-01\n",
      " -1.63848078e-01 -3.15571184e-01 -2.83059090e-01 -1.13921090e+00\n",
      " -1.67024177e+00 -9.11626243e-01 -5.75667937e-01  5.29743263e-01\n",
      " -4.46370665e-02 -1.26925928e+00 -3.69758008e-01  1.01742468e+00\n",
      " -8.79114149e-01  2.26297051e-01 -1.08502408e+00  1.50435498e-01\n",
      "  1.61272863e-01  2.96815032e+00 -7.05716314e-01  2.29623371e+00\n",
      "  4.32206981e-01  1.46175663e+00 -8.79865254e-02  7.89840016e-01\n",
      "  2.96815032e+00  2.31790844e+00 -2.18034902e-01 -3.26408549e-01\n",
      "  6.27279546e-01 -3.80595373e-01 -3.37997018e-02 -1.85522808e-01\n",
      "  6.27279546e-01 -8.89951514e-01  1.09328623e+00 -9.54975702e-01\n",
      " -1.52935603e+00 -1.21249724e-02  1.35338298e+00  9.74075216e-01\n",
      " -5.21481114e-01 -7.59903137e-01 -2.07197537e-01  1.86273912e+00\n",
      " -5.21481114e-01 -3.26408549e-01 -8.35764690e-01 -6.63117960e-02\n",
      "  2.83810195e+00  2.58809145e-01  2.80558985e+00  1.39598134e-01\n",
      " -2.50546996e-01 -8.03252596e-01 -1.31260874e+00 -3.91432737e-01\n",
      " -6.73204220e-01 -1.49684394e+00 -6.63117960e-02  2.37134416e-01\n",
      "  2.96815032e+00 -3.58920643e-01  9.54975702e-03  1.59180500e+00\n",
      "  9.74075216e-01 -1.55103076e+00  5.28992159e-02  2.96815032e+00\n",
      " -9.44138338e-01 -7.05716314e-01  2.91321239e-01 -3.37245914e-01\n",
      " -1.34512083e+00 -2.93896455e-01  1.36422035e+00 -9.98325161e-01\n",
      "  2.26297051e-01 -1.20423509e+00  8.54113100e-02 -6.40692126e-01\n",
      " -7.81577867e-01 -4.99806384e-01  6.38116910e-01 -4.56456926e-01\n",
      "  1.07161150e+00  2.96815032e+00  2.96815032e+00 -3.26408549e-01\n",
      " -5.43155843e-01  2.13367324e+00 -8.79114149e-01 -1.01999989e+00\n",
      " -6.94878949e-01  7.57327922e-01 -6.40692126e-01 -1.04167462e+00\n",
      " -3.37997018e-02 -9.98325161e-01 -1.90866380e+00 -3.37245914e-01\n",
      " -8.68276785e-01 -6.63117960e-02 -1.57270549e+00  2.15459687e-01\n",
      "  1.14747305e+00 -2.18034902e-01 -9.22463608e-01 -9.22463608e-01\n",
      " -1.63848078e-01  8.33189475e-01  1.17923404e-01 -1.31335984e-01\n",
      " -4.67294290e-01 -1.52935603e+00  2.03871217e-02  2.03871217e-02\n",
      " -4.46370665e-02 -9.44138338e-01  2.58809145e-01 -4.45619561e-01\n",
      " -1.69191650e+00 -1.28760769e-03 -2.72221725e-01  8.87376299e-01\n",
      "  9.19888393e-01  1.28760769e-01 -1.09586144e+00  1.07086039e-01\n",
      "  6.37365806e-02  1.72110228e-01 -4.46370665e-02  5.73092722e-01\n",
      " -4.46370665e-02  1.13663569e+00 -3.58920643e-01 -4.02270102e-01\n",
      " -1.28760769e-03  2.96815032e+00  2.37134416e-01 -4.45619561e-01\n",
      "  1.49426872e+00 -3.69758008e-01 -6.51529490e-01  5.28992159e-02]\n"
     ]
    }
   ],
   "metadata": {}
  },
  {
   "cell_type": "code",
   "execution_count": 25,
   "source": [
    "t.shape"
   ],
   "outputs": [
    {
     "output_type": "execute_result",
     "data": {
      "text/plain": [
       "(404,)"
      ]
     },
     "metadata": {},
     "execution_count": 25
    }
   ],
   "metadata": {}
  },
  {
   "cell_type": "code",
   "execution_count": 26,
   "source": [
    "scalers = [StandardScaler()]\r\n",
    "\r\n",
    "for sc in scalers:\r\n",
    "    \r\n",
    "    sc.fit(np.array(y_train).reshape(-1, 1))\r\n",
    "    y_train_mat = sc.transform(np.array(y_train).reshape(-1, 1))\r\n",
    "    y_test_mat  = sc.transform(np.array(y_test).reshape(-1, 1))\r\n",
    "    \r\n",
    "    y_train_scale = pd.Series(y_train_mat.reshape(-1))\r\n",
    "    y_test_scale  = pd.Series(y_test_mat.reshape(-1))"
   ],
   "outputs": [],
   "metadata": {}
  },
  {
   "cell_type": "code",
   "execution_count": 27,
   "source": [
    "y_train_scale.shape, y_test_scale.shape"
   ],
   "outputs": [
    {
     "output_type": "execute_result",
     "data": {
      "text/plain": [
       "((404,), (102,))"
      ]
     },
     "metadata": {},
     "execution_count": 27
    }
   ],
   "metadata": {}
  },
  {
   "cell_type": "markdown",
   "source": [
    "## X scale met"
   ],
   "metadata": {}
  },
  {
   "cell_type": "code",
   "execution_count": 28,
   "source": [
    "# INPUT\r\n",
    "X_train = train.drop(['CRIM', 'ZN', 'INDUS', 'CHAS', 'NOX', 'RM', 'AGE', 'DIS', 'RAD', 'TAX',\r\n",
    "       'PTRATIO', 'B', 'LSTAT', 'target', 'targetStandardScaler'], axis=1)\r\n",
    "y_train = train['target']\r\n",
    "X_test  = test.drop(['CRIM', 'ZN', 'INDUS', 'CHAS', 'NOX', 'RM', 'AGE', 'DIS', 'RAD', 'TAX',\r\n",
    "       'PTRATIO', 'B', 'LSTAT', 'target', 'targetStandardScaler'], axis=1)\r\n",
    "y_test  = test['target']\r\n",
    "\r\n",
    "models = [LinearRegression(), Ridge(), Lasso(), ElasticNet(), \r\n",
    "          DecisionTreeRegressor(), XGBRegressor(), LGBMRegressor()]\r\n",
    "\r\n",
    "for model in models:\r\n",
    "    print(model.__class__.__name__)\r\n",
    "    model.fit(X_train, y_train)\r\n",
    "    y_pred = model.predict(X_test)\r\n",
    "    mse  = mean_squared_error(y_test, y_pred)\r\n",
    "    rmse = mean_squared_error(y_test, y_pred, squared=False)\r\n",
    "    \r\n",
    "    print('MES  =', mse)\r\n",
    "    print('RMSE = ', rmse)\r\n",
    "    print('-' * 30)"
   ],
   "outputs": [
    {
     "output_type": "stream",
     "name": "stdout",
     "text": [
      "LinearRegression\n",
      "MES  = 33.448979997676496\n",
      "RMSE =  5.783509315085133\n",
      "------------------------------\n",
      "Ridge\n",
      "MES  = 33.5371130739407\n",
      "RMSE =  5.791123645195352\n",
      "------------------------------\n",
      "Lasso\n",
      "MES  = 40.14696456446331\n",
      "RMSE =  6.336163236885813\n",
      "------------------------------\n",
      "ElasticNet\n",
      "MES  = 42.87871149007003\n",
      "RMSE =  6.548183831419979\n",
      "------------------------------\n",
      "DecisionTreeRegressor\n",
      "MES  = 35.21705882352941\n",
      "RMSE =  5.934396247600038\n",
      "------------------------------\n",
      "XGBRegressor\n",
      "MES  = 21.36472443696006\n",
      "RMSE =  4.622199091012854\n",
      "------------------------------\n",
      "LGBMRegressor\n",
      "MES  = 24.5098863728449\n",
      "RMSE =  4.950746042047087\n",
      "------------------------------\n"
     ]
    }
   ],
   "metadata": {}
  },
  {
   "cell_type": "markdown",
   "source": [
    "## y scale met"
   ],
   "metadata": {}
  },
  {
   "cell_type": "code",
   "execution_count": 29,
   "source": [
    "# INPUT\r\n",
    "X_train = train.drop(['target', 'CRIMStandardScaler',\r\n",
    "       'ZNStandardScaler', 'INDUSStandardScaler', 'CHASStandardScaler',\r\n",
    "       'NOXStandardScaler', 'RMStandardScaler', 'AGEStandardScaler',\r\n",
    "       'DISStandardScaler', 'RADStandardScaler', 'TAXStandardScaler',\r\n",
    "       'PTRATIOStandardScaler', 'BStandardScaler', 'LSTATStandardScaler',\r\n",
    "       'targetStandardScaler'], axis=1)\r\n",
    "y_train = train['targetStandardScaler']\r\n",
    "X_test  = test.drop(['target', 'CRIMStandardScaler',\r\n",
    "       'ZNStandardScaler', 'INDUSStandardScaler', 'CHASStandardScaler',\r\n",
    "       'NOXStandardScaler', 'RMStandardScaler', 'AGEStandardScaler',\r\n",
    "       'DISStandardScaler', 'RADStandardScaler', 'TAXStandardScaler',\r\n",
    "       'PTRATIOStandardScaler', 'BStandardScaler', 'LSTATStandardScaler',\r\n",
    "       'targetStandardScaler'], axis=1)\r\n",
    "y_test  = test['targetStandardScaler']\r\n",
    "\r\n",
    "models = [LinearRegression(), Ridge(), Lasso(), ElasticNet(), \r\n",
    "          DecisionTreeRegressor(), XGBRegressor(), LGBMRegressor()]\r\n",
    "\r\n",
    "for model in models:\r\n",
    "    print(model.__class__.__name__)\r\n",
    "    model.fit(X_train, y_train)\r\n",
    "    y_pred = model.predict(X_test)\r\n",
    "    mse  = mean_squared_error(y_test, y_pred)\r\n",
    "    rmse = mean_squared_error(y_test, y_pred, squared=False)\r\n",
    "    \r\n",
    "    print('MES  =', mse)\r\n",
    "    print('RMSE = ', rmse)\r\n",
    "    print('-' * 30)"
   ],
   "outputs": [
    {
     "output_type": "stream",
     "name": "stdout",
     "text": [
      "LinearRegression\n",
      "MES  = 0.39285316532882075\n",
      "RMSE =  0.6267799975500341\n",
      "------------------------------\n",
      "Ridge\n",
      "MES  = 0.4020449895864931\n",
      "RMSE =  0.6340701771779628\n",
      "------------------------------\n",
      "Lasso\n",
      "MES  = 0.6331890161021715\n",
      "RMSE =  0.7957317488338463\n",
      "------------------------------\n",
      "ElasticNet\n",
      "MES  = 0.5902948189250011\n",
      "RMSE =  0.7683064615926389\n",
      "------------------------------\n",
      "DecisionTreeRegressor\n",
      "MES  = 0.40565090837368123\n",
      "RMSE =  0.6369072996705888\n",
      "------------------------------\n",
      "XGBRegressor\n",
      "MES  = 0.24287479426238562\n",
      "RMSE =  0.4928232890827965\n",
      "------------------------------\n",
      "LGBMRegressor\n",
      "MES  = 0.2877334540613725\n",
      "RMSE =  0.5364079175975803\n",
      "------------------------------\n"
     ]
    }
   ],
   "metadata": {}
  },
  {
   "cell_type": "markdown",
   "source": [
    "## X, y scale met"
   ],
   "metadata": {}
  },
  {
   "cell_type": "code",
   "execution_count": 30,
   "source": [
    "# INPUT\r\n",
    "\r\n",
    "X_train = train.drop(['CRIM', 'ZN', 'INDUS', 'CHAS', 'NOX', 'RM', 'AGE', 'DIS', 'RAD', 'TAX',\r\n",
    "       'PTRATIO', 'B', 'LSTAT', 'target', 'targetStandardScaler'], axis=1)\r\n",
    "y_train = train['targetStandardScaler']\r\n",
    "X_test  = test.drop(['CRIM', 'ZN', 'INDUS', 'CHAS', 'NOX', 'RM', 'AGE', 'DIS', 'RAD', 'TAX',\r\n",
    "       'PTRATIO', 'B', 'LSTAT', 'target', 'targetStandardScaler'], axis=1)\r\n",
    "y_test  = test['targetStandardScaler']\r\n",
    "\r\n",
    "models = [LinearRegression(), Ridge(), Lasso(), ElasticNet(), \r\n",
    "          DecisionTreeRegressor(), XGBRegressor(), LGBMRegressor()]\r\n",
    "\r\n",
    "for model in models:\r\n",
    "    print(model.__class__.__name__)\r\n",
    "    model.fit(X_train, y_train)\r\n",
    "    y_pred = model.predict(X_test)\r\n",
    "    mse  = mean_squared_error(y_test, y_pred)\r\n",
    "    rmse = mean_squared_error(y_test, y_pred, squared=False)\r\n",
    "    \r\n",
    "    print('MES  =', mse)\r\n",
    "    print('RMSE = ', rmse)\r\n",
    "    print('-' * 30)"
   ],
   "outputs": [
    {
     "output_type": "stream",
     "name": "stdout",
     "text": [
      "LinearRegression\n",
      "MES  = 0.3928531653288211\n",
      "RMSE =  0.6267799975500343\n",
      "------------------------------\n",
      "Ridge\n",
      "MES  = 0.3938882748593052\n",
      "RMSE =  0.6276051902743517\n",
      "------------------------------\n",
      "Lasso\n",
      "MES  = 0.9581718678127248\n",
      "RMSE =  0.9788625377512027\n",
      "------------------------------\n",
      "ElasticNet\n",
      "MES  = 0.7259495522082012\n",
      "RMSE =  0.8520267320971808\n",
      "------------------------------\n",
      "DecisionTreeRegressor\n",
      "MES  = 0.4158608654111256\n",
      "RMSE =  0.6448727513324823\n",
      "------------------------------\n",
      "XGBRegressor\n",
      "MES  = 0.2428194657384344\n",
      "RMSE =  0.4927671516430802\n",
      "------------------------------\n",
      "LGBMRegressor\n",
      "MES  = 0.2878648739017904\n",
      "RMSE =  0.5365304035204252\n",
      "------------------------------\n"
     ]
    }
   ],
   "metadata": {}
  },
  {
   "cell_type": "markdown",
   "source": [
    "## log scale"
   ],
   "metadata": {}
  },
  {
   "cell_type": "code",
   "execution_count": 31,
   "source": [
    "# log scale : (-) 없어야 함\r\n",
    "y_train = train['target']\r\n",
    "y_train.describe()"
   ],
   "outputs": [
    {
     "output_type": "execute_result",
     "data": {
      "text/plain": [
       "count    404.000000\n",
       "mean      22.611881\n",
       "std        9.238777\n",
       "min        5.000000\n",
       "25%       16.775000\n",
       "50%       21.400000\n",
       "75%       25.525000\n",
       "max       50.000000\n",
       "Name: target, dtype: float64"
      ]
     },
     "metadata": {},
     "execution_count": 31
    }
   ],
   "metadata": {}
  },
  {
   "cell_type": "code",
   "execution_count": 32,
   "source": [
    "# 회귀분석은 가중치가 있어도, x에 따라서 y는 큰 차이가 남\r\n",
    "# 회귀분석 필수 조건 : scale(정규화), log scale(큰 수치 drop), 규제 사용(overfitting 방지)\r\n",
    "list = [1, 5, 10, 20, 30]\r\n",
    "arr = np.array(list)\r\n",
    "log_arr = np.log(arr)\r\n",
    "log_arr"
   ],
   "outputs": [
    {
     "output_type": "execute_result",
     "data": {
      "text/plain": [
       "array([0.        , 1.60943791, 2.30258509, 2.99573227, 3.40119738])"
      ]
     },
     "metadata": {},
     "execution_count": 32
    }
   ],
   "metadata": {}
  },
  {
   "cell_type": "code",
   "execution_count": 33,
   "source": [
    "sns.histplot(y_train)"
   ],
   "outputs": [
    {
     "output_type": "execute_result",
     "data": {
      "text/plain": [
       "<AxesSubplot:xlabel='target', ylabel='Count'>"
      ]
     },
     "metadata": {},
     "execution_count": 33
    },
    {
     "output_type": "display_data",
     "data": {
      "image/png": "[encoded data removed]",
      "text/plain": [
       "<Figure size 432x288 with 1 Axes>"
      ]
     },
     "metadata": {}
    }
   ],
   "metadata": {}
  },
  {
   "cell_type": "code",
   "execution_count": 34,
   "source": [
    "y_train_log = np.log(y_train)\r\n",
    "sns.histplot(y_train_log)"
   ],
   "outputs": [
    {
     "output_type": "execute_result",
     "data": {
      "text/plain": [
       "<AxesSubplot:xlabel='target', ylabel='Count'>"
      ]
     },
     "metadata": {},
     "execution_count": 34
    },
    {
     "output_type": "display_data",
     "data": {
      "image/png": "[encoded data removed]",
      "text/plain": [
       "<Figure size 432x288 with 1 Axes>"
      ]
     },
     "metadata": {}
    }
   ],
   "metadata": {}
  },
  {
   "cell_type": "markdown",
   "source": [
    "## log scale & scale"
   ],
   "metadata": {}
  },
  {
   "cell_type": "code",
   "execution_count": 38,
   "source": [
    "X_train = train.drop(['CRIM', 'ZN', 'INDUS', 'CHAS', 'NOX', 'RM', 'AGE', 'DIS', 'RAD', 'TAX',\r\n",
    "       'PTRATIO', 'B', 'LSTAT', 'target', 'targetStandardScaler'], axis=1)\r\n",
    "y_train = train['targetStandardScaler']\r\n",
    "X_test  = test.drop(['CRIM', 'ZN', 'INDUS', 'CHAS', 'NOX', 'RM', 'AGE', 'DIS', 'RAD', 'TAX',\r\n",
    "       'PTRATIO', 'B', 'LSTAT', 'target', 'targetStandardScaler'], axis=1)\r\n",
    "y_test  = test['targetStandardScaler']\r\n",
    "\r\n",
    "# np.log1p : log + 1, underflow 방지\r\n",
    "X_train_log = np.log(X_train)\r\n",
    "X_test_log  = np.log(X_test)\r\n",
    "y_train_log = np.log(y_train)\r\n",
    "y_test_log  = np.log(y_test)\r\n",
    "\r\n",
    "# INPUT\r\n",
    "X_train = X_train_log\r\n",
    "X_test  = X_test_log\r\n",
    "y_train = y_train_log\r\n",
    "y_test  = y_test_log\r\n",
    "\r\n",
    "models = [LinearRegression(), Ridge(), Lasso(), ElasticNet(), \r\n",
    "          DecisionTreeRegressor(), XGBRegressor(), LGBMRegressor()]\r\n",
    "\r\n",
    "for model in models:\r\n",
    "    print(model.__class__.__name__)\r\n",
    "    model.fit(X_train, y_train)\r\n",
    "    y_pred = model.predict(X_test)\r\n",
    "    mse  = mean_squared_error(y_test, y_pred)\r\n",
    "    rmse = mean_squared_error(y_test, y_pred, squared=False)\r\n",
    "    \r\n",
    "    print('MES  =', mse)\r\n",
    "    print('RMSE = ', rmse)\r\n",
    "    print('-' * 30)"
   ],
   "outputs": [
    {
     "output_type": "stream",
     "name": "stdout",
     "text": [
      "LinearRegression\n"
     ]
    },
    {
     "output_type": "error",
     "ename": "ValueError",
     "evalue": "Input contains NaN, infinity or a value too large for dtype('float64').",
     "traceback": [
      "\u001b[1;31m---------------------------------------------------------------------------\u001b[0m",
      "\u001b[1;31mValueError\u001b[0m                                Traceback (most recent call last)",
      "\u001b[1;32m~\\AppData\\Local\\Temp/ipykernel_17828/2723017221.py\u001b[0m in \u001b[0;36m<module>\u001b[1;34m\u001b[0m\n\u001b[0;32m     24\u001b[0m \u001b[1;32mfor\u001b[0m \u001b[0mmodel\u001b[0m \u001b[1;32min\u001b[0m \u001b[0mmodels\u001b[0m\u001b[1;33m:\u001b[0m\u001b[1;33m\u001b[0m\u001b[1;33m\u001b[0m\u001b[0m\n\u001b[0;32m     25\u001b[0m     \u001b[0mprint\u001b[0m\u001b[1;33m(\u001b[0m\u001b[0mmodel\u001b[0m\u001b[1;33m.\u001b[0m\u001b[0m__class__\u001b[0m\u001b[1;33m.\u001b[0m\u001b[0m__name__\u001b[0m\u001b[1;33m)\u001b[0m\u001b[1;33m\u001b[0m\u001b[1;33m\u001b[0m\u001b[0m\n\u001b[1;32m---> 26\u001b[1;33m     \u001b[0mmodel\u001b[0m\u001b[1;33m.\u001b[0m\u001b[0mfit\u001b[0m\u001b[1;33m(\u001b[0m\u001b[0mX_train\u001b[0m\u001b[1;33m,\u001b[0m \u001b[0my_train\u001b[0m\u001b[1;33m)\u001b[0m\u001b[1;33m\u001b[0m\u001b[1;33m\u001b[0m\u001b[0m\n\u001b[0m\u001b[0;32m     27\u001b[0m     \u001b[0my_pred\u001b[0m \u001b[1;33m=\u001b[0m \u001b[0mmodel\u001b[0m\u001b[1;33m.\u001b[0m\u001b[0mpredict\u001b[0m\u001b[1;33m(\u001b[0m\u001b[0mX_test\u001b[0m\u001b[1;33m)\u001b[0m\u001b[1;33m\u001b[0m\u001b[1;33m\u001b[0m\u001b[0m\n\u001b[0;32m     28\u001b[0m     \u001b[0mmse\u001b[0m  \u001b[1;33m=\u001b[0m \u001b[0mmean_squared_error\u001b[0m\u001b[1;33m(\u001b[0m\u001b[0my_test\u001b[0m\u001b[1;33m,\u001b[0m \u001b[0my_pred\u001b[0m\u001b[1;33m)\u001b[0m\u001b[1;33m\u001b[0m\u001b[1;33m\u001b[0m\u001b[0m\n",
      "\u001b[1;32mc:\\AI\\pythonProject\\venv\\lib\\site-packages\\sklearn\\linear_model\\_base.py\u001b[0m in \u001b[0;36mfit\u001b[1;34m(self, X, y, sample_weight)\u001b[0m\n\u001b[0;32m    516\u001b[0m         \u001b[0maccept_sparse\u001b[0m \u001b[1;33m=\u001b[0m \u001b[1;32mFalse\u001b[0m \u001b[1;32mif\u001b[0m \u001b[0mself\u001b[0m\u001b[1;33m.\u001b[0m\u001b[0mpositive\u001b[0m \u001b[1;32melse\u001b[0m \u001b[1;33m[\u001b[0m\u001b[1;34m'csr'\u001b[0m\u001b[1;33m,\u001b[0m \u001b[1;34m'csc'\u001b[0m\u001b[1;33m,\u001b[0m \u001b[1;34m'coo'\u001b[0m\u001b[1;33m]\u001b[0m\u001b[1;33m\u001b[0m\u001b[1;33m\u001b[0m\u001b[0m\n\u001b[0;32m    517\u001b[0m \u001b[1;33m\u001b[0m\u001b[0m\n\u001b[1;32m--> 518\u001b[1;33m         X, y = self._validate_data(X, y, accept_sparse=accept_sparse,\n\u001b[0m\u001b[0;32m    519\u001b[0m                                    y_numeric=True, multi_output=True)\n\u001b[0;32m    520\u001b[0m \u001b[1;33m\u001b[0m\u001b[0m\n",
      "\u001b[1;32mc:\\AI\\pythonProject\\venv\\lib\\site-packages\\sklearn\\base.py\u001b[0m in \u001b[0;36m_validate_data\u001b[1;34m(self, X, y, reset, validate_separately, **check_params)\u001b[0m\n\u001b[0;32m    431\u001b[0m                 \u001b[0my\u001b[0m \u001b[1;33m=\u001b[0m \u001b[0mcheck_array\u001b[0m\u001b[1;33m(\u001b[0m\u001b[0my\u001b[0m\u001b[1;33m,\u001b[0m \u001b[1;33m**\u001b[0m\u001b[0mcheck_y_params\u001b[0m\u001b[1;33m)\u001b[0m\u001b[1;33m\u001b[0m\u001b[1;33m\u001b[0m\u001b[0m\n\u001b[0;32m    432\u001b[0m             \u001b[1;32melse\u001b[0m\u001b[1;33m:\u001b[0m\u001b[1;33m\u001b[0m\u001b[1;33m\u001b[0m\u001b[0m\n\u001b[1;32m--> 433\u001b[1;33m                 \u001b[0mX\u001b[0m\u001b[1;33m,\u001b[0m \u001b[0my\u001b[0m \u001b[1;33m=\u001b[0m \u001b[0mcheck_X_y\u001b[0m\u001b[1;33m(\u001b[0m\u001b[0mX\u001b[0m\u001b[1;33m,\u001b[0m \u001b[0my\u001b[0m\u001b[1;33m,\u001b[0m \u001b[1;33m**\u001b[0m\u001b[0mcheck_params\u001b[0m\u001b[1;33m)\u001b[0m\u001b[1;33m\u001b[0m\u001b[1;33m\u001b[0m\u001b[0m\n\u001b[0m\u001b[0;32m    434\u001b[0m             \u001b[0mout\u001b[0m \u001b[1;33m=\u001b[0m \u001b[0mX\u001b[0m\u001b[1;33m,\u001b[0m \u001b[0my\u001b[0m\u001b[1;33m\u001b[0m\u001b[1;33m\u001b[0m\u001b[0m\n\u001b[0;32m    435\u001b[0m \u001b[1;33m\u001b[0m\u001b[0m\n",
      "\u001b[1;32mc:\\AI\\pythonProject\\venv\\lib\\site-packages\\sklearn\\utils\\validation.py\u001b[0m in \u001b[0;36minner_f\u001b[1;34m(*args, **kwargs)\u001b[0m\n\u001b[0;32m     61\u001b[0m             \u001b[0mextra_args\u001b[0m \u001b[1;33m=\u001b[0m \u001b[0mlen\u001b[0m\u001b[1;33m(\u001b[0m\u001b[0margs\u001b[0m\u001b[1;33m)\u001b[0m \u001b[1;33m-\u001b[0m \u001b[0mlen\u001b[0m\u001b[1;33m(\u001b[0m\u001b[0mall_args\u001b[0m\u001b[1;33m)\u001b[0m\u001b[1;33m\u001b[0m\u001b[1;33m\u001b[0m\u001b[0m\n\u001b[0;32m     62\u001b[0m             \u001b[1;32mif\u001b[0m \u001b[0mextra_args\u001b[0m \u001b[1;33m<=\u001b[0m \u001b[1;36m0\u001b[0m\u001b[1;33m:\u001b[0m\u001b[1;33m\u001b[0m\u001b[1;33m\u001b[0m\u001b[0m\n\u001b[1;32m---> 63\u001b[1;33m                 \u001b[1;32mreturn\u001b[0m \u001b[0mf\u001b[0m\u001b[1;33m(\u001b[0m\u001b[1;33m*\u001b[0m\u001b[0margs\u001b[0m\u001b[1;33m,\u001b[0m \u001b[1;33m**\u001b[0m\u001b[0mkwargs\u001b[0m\u001b[1;33m)\u001b[0m\u001b[1;33m\u001b[0m\u001b[1;33m\u001b[0m\u001b[0m\n\u001b[0m\u001b[0;32m     64\u001b[0m \u001b[1;33m\u001b[0m\u001b[0m\n\u001b[0;32m     65\u001b[0m             \u001b[1;31m# extra_args > 0\u001b[0m\u001b[1;33m\u001b[0m\u001b[1;33m\u001b[0m\u001b[1;33m\u001b[0m\u001b[0m\n",
      "\u001b[1;32mc:\\AI\\pythonProject\\venv\\lib\\site-packages\\sklearn\\utils\\validation.py\u001b[0m in \u001b[0;36mcheck_X_y\u001b[1;34m(X, y, accept_sparse, accept_large_sparse, dtype, order, copy, force_all_finite, ensure_2d, allow_nd, multi_output, ensure_min_samples, ensure_min_features, y_numeric, estimator)\u001b[0m\n\u001b[0;32m    869\u001b[0m         \u001b[1;32mraise\u001b[0m \u001b[0mValueError\u001b[0m\u001b[1;33m(\u001b[0m\u001b[1;34m\"y cannot be None\"\u001b[0m\u001b[1;33m)\u001b[0m\u001b[1;33m\u001b[0m\u001b[1;33m\u001b[0m\u001b[0m\n\u001b[0;32m    870\u001b[0m \u001b[1;33m\u001b[0m\u001b[0m\n\u001b[1;32m--> 871\u001b[1;33m     X = check_array(X, accept_sparse=accept_sparse,\n\u001b[0m\u001b[0;32m    872\u001b[0m                     \u001b[0maccept_large_sparse\u001b[0m\u001b[1;33m=\u001b[0m\u001b[0maccept_large_sparse\u001b[0m\u001b[1;33m,\u001b[0m\u001b[1;33m\u001b[0m\u001b[1;33m\u001b[0m\u001b[0m\n\u001b[0;32m    873\u001b[0m                     \u001b[0mdtype\u001b[0m\u001b[1;33m=\u001b[0m\u001b[0mdtype\u001b[0m\u001b[1;33m,\u001b[0m \u001b[0morder\u001b[0m\u001b[1;33m=\u001b[0m\u001b[0morder\u001b[0m\u001b[1;33m,\u001b[0m \u001b[0mcopy\u001b[0m\u001b[1;33m=\u001b[0m\u001b[0mcopy\u001b[0m\u001b[1;33m,\u001b[0m\u001b[1;33m\u001b[0m\u001b[1;33m\u001b[0m\u001b[0m\n",
      "\u001b[1;32mc:\\AI\\pythonProject\\venv\\lib\\site-packages\\sklearn\\utils\\validation.py\u001b[0m in \u001b[0;36minner_f\u001b[1;34m(*args, **kwargs)\u001b[0m\n\u001b[0;32m     61\u001b[0m             \u001b[0mextra_args\u001b[0m \u001b[1;33m=\u001b[0m \u001b[0mlen\u001b[0m\u001b[1;33m(\u001b[0m\u001b[0margs\u001b[0m\u001b[1;33m)\u001b[0m \u001b[1;33m-\u001b[0m \u001b[0mlen\u001b[0m\u001b[1;33m(\u001b[0m\u001b[0mall_args\u001b[0m\u001b[1;33m)\u001b[0m\u001b[1;33m\u001b[0m\u001b[1;33m\u001b[0m\u001b[0m\n\u001b[0;32m     62\u001b[0m             \u001b[1;32mif\u001b[0m \u001b[0mextra_args\u001b[0m \u001b[1;33m<=\u001b[0m \u001b[1;36m0\u001b[0m\u001b[1;33m:\u001b[0m\u001b[1;33m\u001b[0m\u001b[1;33m\u001b[0m\u001b[0m\n\u001b[1;32m---> 63\u001b[1;33m                 \u001b[1;32mreturn\u001b[0m \u001b[0mf\u001b[0m\u001b[1;33m(\u001b[0m\u001b[1;33m*\u001b[0m\u001b[0margs\u001b[0m\u001b[1;33m,\u001b[0m \u001b[1;33m**\u001b[0m\u001b[0mkwargs\u001b[0m\u001b[1;33m)\u001b[0m\u001b[1;33m\u001b[0m\u001b[1;33m\u001b[0m\u001b[0m\n\u001b[0m\u001b[0;32m     64\u001b[0m \u001b[1;33m\u001b[0m\u001b[0m\n\u001b[0;32m     65\u001b[0m             \u001b[1;31m# extra_args > 0\u001b[0m\u001b[1;33m\u001b[0m\u001b[1;33m\u001b[0m\u001b[1;33m\u001b[0m\u001b[0m\n",
      "\u001b[1;32mc:\\AI\\pythonProject\\venv\\lib\\site-packages\\sklearn\\utils\\validation.py\u001b[0m in \u001b[0;36mcheck_array\u001b[1;34m(array, accept_sparse, accept_large_sparse, dtype, order, copy, force_all_finite, ensure_2d, allow_nd, ensure_min_samples, ensure_min_features, estimator)\u001b[0m\n\u001b[0;32m    718\u001b[0m \u001b[1;33m\u001b[0m\u001b[0m\n\u001b[0;32m    719\u001b[0m         \u001b[1;32mif\u001b[0m \u001b[0mforce_all_finite\u001b[0m\u001b[1;33m:\u001b[0m\u001b[1;33m\u001b[0m\u001b[1;33m\u001b[0m\u001b[0m\n\u001b[1;32m--> 720\u001b[1;33m             _assert_all_finite(array,\n\u001b[0m\u001b[0;32m    721\u001b[0m                                allow_nan=force_all_finite == 'allow-nan')\n\u001b[0;32m    722\u001b[0m \u001b[1;33m\u001b[0m\u001b[0m\n",
      "\u001b[1;32mc:\\AI\\pythonProject\\venv\\lib\\site-packages\\sklearn\\utils\\validation.py\u001b[0m in \u001b[0;36m_assert_all_finite\u001b[1;34m(X, allow_nan, msg_dtype)\u001b[0m\n\u001b[0;32m    101\u001b[0m                 not allow_nan and not np.isfinite(X).all()):\n\u001b[0;32m    102\u001b[0m             \u001b[0mtype_err\u001b[0m \u001b[1;33m=\u001b[0m \u001b[1;34m'infinity'\u001b[0m \u001b[1;32mif\u001b[0m \u001b[0mallow_nan\u001b[0m \u001b[1;32melse\u001b[0m \u001b[1;34m'NaN, infinity'\u001b[0m\u001b[1;33m\u001b[0m\u001b[1;33m\u001b[0m\u001b[0m\n\u001b[1;32m--> 103\u001b[1;33m             raise ValueError(\n\u001b[0m\u001b[0;32m    104\u001b[0m                     \u001b[0mmsg_err\u001b[0m\u001b[1;33m.\u001b[0m\u001b[0mformat\u001b[0m\u001b[1;33m\u001b[0m\u001b[1;33m\u001b[0m\u001b[0m\n\u001b[0;32m    105\u001b[0m                     (type_err,\n",
      "\u001b[1;31mValueError\u001b[0m: Input contains NaN, infinity or a value too large for dtype('float64')."
     ]
    }
   ],
   "metadata": {}
  },
  {
   "cell_type": "code",
   "execution_count": null,
   "source": [],
   "outputs": [],
   "metadata": {}
  },
  {
   "cell_type": "code",
   "execution_count": null,
   "source": [],
   "outputs": [],
   "metadata": {}
  }
 ],
 "metadata": {
  "orig_nbformat": 4,
  "language_info": {
   "name": "python",
   "version": "3.8.8",
   "mimetype": "text/x-python",
   "codemirror_mode": {
    "name": "ipython",
    "version": 3
   },
   "pygments_lexer": "ipython3",
   "nbconvert_exporter": "python",
   "file_extension": ".py"
  },
  "kernelspec": {
   "name": "python3",
   "display_name": "Python 3.8.8 64-bit ('venv': venv)"
  },
  "interpreter": {
   "hash": "c3102799280f1ed23787b1be8e33b065cea14d14e60df4daed798ef8bab0b32c"
  }
 },
 "nbformat": 4,
 "nbformat_minor": 2
}