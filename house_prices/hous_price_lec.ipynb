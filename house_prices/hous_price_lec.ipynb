{
 "cells": [
  {
   "cell_type": "markdown",
   "source": [
    "# imports"
   ],
   "metadata": {
    "id": "A5rTauQV9HY1"
   }
  },
  {
   "cell_type": "code",
   "execution_count": 1,
   "source": [
    "import pandas as pd\r\n",
    "import numpy as np\r\n",
    "import matplotlib.pyplot as plt\r\n",
    "import seaborn as sns; sns.set()\r\n",
    "import warnings; warnings.filterwarnings(action='ignore')\r\n",
    "# --------------------------------------------------\r\n",
    "\r\n",
    "# --------------------------------------------------\r\n",
    "# load datasets\r\n",
    "from sklearn import datasets\r\n",
    "\r\n",
    "# imblearn.sampling\r\n",
    "from imblearn.over_sampling import SMOTE\r\n",
    "from imblearn.under_sampling import NearMiss\r\n",
    "\r\n",
    "# preprocessing.encoding\r\n",
    "from sklearn.preprocessing import LabelEncoder, OneHotEncoder, OrdinalEncoder # pd.get_dummies\r\n",
    "# preprocessing.scaling\r\n",
    "from sklearn.preprocessing import MinMaxScaler, StandardScaler, RobustScaler\r\n",
    "# preprocessing.binarizing\r\n",
    "from sklearn.preprocessing import Binarizer\r\n",
    "\r\n",
    "# decomposition.PCA\r\n",
    "from sklearn.decomposition import PCA\r\n",
    "# stats : R module\r\n",
    "from scipy.stats import skew, kurtosis\r\n",
    "\r\n",
    "# estimators ---------------------------------------\r\n",
    "# estimators.classifier\r\n",
    "from sklearn.tree import DecisionTreeClassifier\r\n",
    "from sklearn.linear_model import LogisticRegression # classifier\r\n",
    "from sklearn.linear_model import RidgeClassifier, RidgeClassifierCV # regressor 응용\r\n",
    "# estimators.regressor\r\n",
    "from sklearn.tree import DecisionTreeRegressor\r\n",
    "from sklearn.linear_model import LinearRegression\r\n",
    "from sklearn.linear_model import Ridge, RidgeCV\r\n",
    "from sklearn.linear_model import Lasso, LassoCV\r\n",
    "from sklearn.linear_model import ElasticNet, ElasticNetCV\r\n",
    "# --------------------------------------------------\r\n",
    "\r\n",
    "# ensemble -----------------------------------------\r\n",
    "# ensemble.bagging\r\n",
    "from sklearn.ensemble import BaggingClassifier, BaggingRegressor\r\n",
    "from sklearn.ensemble import RandomForestClassifier, RandomForestRegressor\r\n",
    "# ensemble.boosting\r\n",
    "from sklearn.ensemble import GradientBoostingClassifier, GradientBoostingRegressor\r\n",
    "from xgboost import XGBClassifier, XGBRegressor\r\n",
    "from lightgbm import LGBMClassifier, LGBMRegressor\r\n",
    "from catboost import CatBoostClassifier, CatBoostRegressor\r\n",
    "# ensemble.boosting & bagging\r\n",
    "from xgboost import XGBRFClassifier, XGBRFRegressor\r\n",
    "# ensemble.voting\r\n",
    "from sklearn.ensemble import VotingClassifier, VotingRegressor\r\n",
    "# --------------------------------------------------\r\n",
    "\r\n",
    "# metrics ------------------------------------------\r\n",
    "# metrics.scores\r\n",
    "from sklearn.metrics import accuracy_score, precision_score, recall_score\r\n",
    "from sklearn.metrics import f1_score, roc_auc_score\r\n",
    "from sklearn.metrics import log_loss\r\n",
    "# metrics.reports\r\n",
    "from sklearn.metrics import confusion_matrix, plot_confusion_matrix\r\n",
    "from sklearn.metrics import classification_report, ConfusionMatrixDisplay\r\n",
    "# metrics.errors\r\n",
    "from sklearn.metrics import mean_squared_error     # 'neg_mean_squared_error', 'neg_root_mean_squared_error'\r\n",
    "from sklearn.metrics import mean_squared_log_error # 'neg_mean_squared_log_error'\r\n",
    "from sklearn.metrics import mean_absolute_error    # 'neg_mean_absolute_error'\r\n",
    "# metrics.curves\r\n",
    "from sklearn.metrics import precision_recall_curve, plot_precision_recall_curve\r\n",
    "from sklearn.metrics import roc_curve, plot_roc_curve\r\n",
    "# --------------------------------------------------\r\n",
    "\r\n",
    "# model_selection ----------------------------------\r\n",
    "# model_selection.splitter\r\n",
    "from sklearn.model_selection import train_test_split       # function\r\n",
    "# model_selection.model_validation\r\n",
    "from sklearn.model_selection import KFold, StratifiedKFold\r\n",
    "from sklearn.model_selection import cross_val_score, cross_validate\r\n",
    "# model_selection.hyper_parameter_optimizer\r\n",
    "from sklearn.model_selection import GridSearchCV\r\n",
    "# --------------------------------------------------\r\n",
    "\r\n",
    "\r\n",
    "# --------------------------------------------------\r\n",
    "def check_nan(df):\r\n",
    "    nan = df.isna().sum()[df.isna().sum() != 0]\r\n",
    "    nan_cols = list(nan.index)\r\n",
    "    nan_cnt  = df[nan_cols].isna().sum()\r\n",
    "    rate = round(nan_cnt / df.shape[0] * 100, 2)\r\n",
    "    nan_df = pd.DataFrame({'NAN_CNT':nan_cnt, 'RATE':rate})\r\n",
    "    \r\n",
    "    print(nan_df)\r\n",
    "    print('-' * 30)\r\n",
    "    print('nan_cols count =', len(nan_cols))\r\n",
    "    print(nan_cols)\r\n",
    " \r\n",
    "    for col in nan_cols:\r\n",
    "        print('-' * 30)\r\n",
    "        print(df[col].value_counts())\r\n",
    "        print('value_counts =', df[col].count(), '/ nan_counts =', df[col].isna().sum())\r\n",
    "    \r\n",
    "    return nan_cols\r\n",
    "# nan_cols = check_nan(df)\r\n",
    "# --------------------------------------------------\r\n",
    "\r\n",
    "\r\n",
    "# --------------------------------------------------\r\n",
    "def check_outliers(X_train, features, rate=1.5):\r\n",
    "    \r\n",
    "    dict = {}\r\n",
    "    \r\n",
    "    for col in features:\r\n",
    "        \r\n",
    "        Q1 = np.percentile(X_train[col], 25) \r\n",
    "        Q3 = np.percentile(X_train[col], 75) \r\n",
    "        IQR = Q3 - Q1\r\n",
    "        \r\n",
    "        min = Q1 - (rate * IQR)\r\n",
    "        max = Q3 + (rate * IQR)\r\n",
    "        \r\n",
    "        idxs = X_train[(X_train[col] < min) | (X_train[col] > max)].index\r\n",
    "        \r\n",
    "        dict[col] = idxs\r\n",
    "        \r\n",
    "    return dict\r\n",
    "# check_outliers(X_train, 'Insulin')\r\n",
    "# --------------------------------------------------\r\n",
    "\r\n",
    "\r\n",
    "# --------------------------------------------------\r\n",
    "def scores(y_test, y_pred):\r\n",
    "    \r\n",
    "    \"\"\"evaluation scores\"\"\"\r\n",
    "    \r\n",
    "    f1        = f1_score         (y_test, y_pred, average='macro')\r\n",
    "    accuracy  = accuracy_score   (y_test, y_pred, )\r\n",
    "    precision = precision_score  (y_test, y_pred, average='macro')\r\n",
    "    recall    = recall_score     (y_test, y_pred, average='macro')\r\n",
    "    c_matrix  = confusion_matrix (y_test, y_pred, )\r\n",
    "    \r\n",
    "    print(\r\n",
    "          f'accuracy  = {accuracy:.6f},  '\r\n",
    "          f'f1 score  = {f1:.6f},  \\n'\r\n",
    "          f'precision = {precision:.6f},  '\r\n",
    "          f'recall    = {recall:.6f},')\r\n",
    "    print(c_matrix)\r\n",
    "    \r\n",
    "    # plt.figure(figsize=(12, 9))\r\n",
    "    # plt.title('confusion matrix')\r\n",
    "    # plt.xlabel('Predict')\r\n",
    "    # plt.ylabel('Actual')\r\n",
    "    # sns.heatmap(c_matrix, annot=True, linewidths=1, cmap='Blues', annot_kws={\"size\": 14})\r\n",
    "    # plt.show()\r\n",
    "# --------------------------------------------------\r\n",
    "\r\n",
    "# --------------------------------------------------\r\n",
    "def curves(y_test, probas_pred):\r\n",
    "        \r\n",
    "    FPRS, TPRS, thresholds = roc_curve(y_test, probas_pred[:, 1])\r\n",
    " \r\n",
    "    f, ax = plt.subplots(1, 2, figsize=(16, 6))\r\n",
    " \r\n",
    "    # settings\r\n",
    "    plt.subplot(121)\r\n",
    "    plt.title('ROC curve')\r\n",
    "    plt.gray()\r\n",
    "    plt.xlabel('FPR(1- specificity)')\r\n",
    "    plt.ylabel('TPR')\r\n",
    " \r\n",
    "    # x, y values\r\n",
    "    plt.plot(FPRS, TPRS, label='ROC', linestyle='solid')\r\n",
    "    plt.plot([0, 1], [0, 1], label='50%', color='gray', linestyle=':')\r\n",
    "    plt.legend()\r\n",
    " \r\n",
    "    precisions, recalls, thresholds = precision_recall_curve(y_test, probas_pred[:, 1])\r\n",
    "    f1_scores = 2 * (precisions * recalls) / (precisions + recalls)\r\n",
    " \r\n",
    "    plt.subplot(122)\r\n",
    "    plt.title('precision recall curve')\r\n",
    "    plt.gray()\r\n",
    "    plt.xlabel('threshold')\r\n",
    "    plt.ylabel('scores')\r\n",
    " \r\n",
    "    # x, y values\r\n",
    "    plt.plot(thresholds, precisions[:thresholds.shape[0]], label='precision', linestyle=':')\r\n",
    "    plt.plot(thresholds, recalls[:thresholds.shape[0]],    label='recall',    linestyle='--')\r\n",
    "    plt.plot(thresholds, f1_scores[:thresholds.shape[0]],  label='f1',        linestyle='solid')\r\n",
    "    # valid linestyle = '-', '--', '-.', ':', 'None', ' ', '', 'solid', 'dashed', 'dashdot', 'dotted'\r\n",
    "    plt.legend()\r\n",
    " \r\n",
    "    plt.show()\r\n",
    "    \r\n",
    "    print('AUC = ', roc_auc_score(y_test, probas_pred[:, 1]))\r\n",
    "# --------------------------------------------------"
   ],
   "outputs": [],
   "metadata": {
    "id": "6MlU44mI9HY4"
   }
  },
  {
   "cell_type": "markdown",
   "source": [
    "# metrics imports"
   ],
   "metadata": {
    "id": "6Ke2dIt49HY7"
   }
  },
  {
   "cell_type": "code",
   "execution_count": null,
   "source": [
    "# # classification GridsearchCV : INPUT DF VERSION & TARGET\r\n",
    "# # ==================================================\r\n",
    "# df_met     = df00\r\n",
    "# target_met = 'target'\r\n",
    "# # ==================================================\r\n",
    "\r\n",
    "# # X, y split\r\n",
    "# train_met = df_met[df_met[target_met].notna()]\r\n",
    "# X_met = train_met.drop(target_met, axis=1)\r\n",
    "# y_met = train_met[target_met]\r\n",
    "\r\n",
    "# # models\r\n",
    "# classification_models = [RandomForestClassifier(),\r\n",
    "#                          GradientBoostingClassifier(),\r\n",
    "#                          XGBClassifier(), \r\n",
    "#                          XGBRFClassifier(), \r\n",
    "#                          LGBMClassifier(), \r\n",
    "#                          CatBoostClassifier(),\r\n",
    "#                          ]\r\n",
    "\r\n",
    "# # param_grid=\r\n",
    "# hyper_param = {'n_estimators':[100],\r\n",
    "#                'random_state':[0],\r\n",
    "#               #  'min_samples_split':[2],\r\n",
    "#               #  'min_samples_leaf':[1],\r\n",
    "#                }\r\n",
    "\r\n",
    "# # scoring=\r\n",
    "# classification_scorers = {'f1_macro':'f1_macro', 'accuracy':'accuracy',\r\n",
    "#                           'precision':'precision_macro', 'recall':'recall_macro', \r\n",
    "#                           'roc_auc_ovr':'roc_auc_ovr',}\r\n",
    "\r\n",
    "# # cv=\r\n",
    "# kf  = KFold          (n_splits=5, shuffle=True, random_state=0)\r\n",
    "# skf = StratifiedKFold(n_splits=5, shuffle=True, random_state=0)\r\n",
    "\r\n",
    "# # cv_results_ cols\r\n",
    "# classification_cols = ['mean_test_f1_macro', 'mean_test_accuracy', \r\n",
    "#                        'mean_test_precision', 'mean_test_recall', 'mean_test_roc_auc_ovr',]\r\n",
    "\r\n",
    "# # GridSearchCV loop\r\n",
    "# for model in classification_models:\r\n",
    "        \r\n",
    "#         gscv = GridSearchCV(model, param_grid=hyper_param, \r\n",
    "#                             scoring=classification_scorers, refit='f1_macro', \r\n",
    "#                             cv=skf, return_train_score=True)\r\n",
    "#         gscv.fit(X_met, y_met)\r\n",
    "#         results = gscv.cv_results_\r\n",
    "        \r\n",
    "#         print('-' * 75)\r\n",
    "#         print('estimtor        =', gscv.estimator)\r\n",
    "#         print('best_params_    =', gscv.best_params_)\r\n",
    "#         print('best_score_     =', gscv.best_score_)\r\n",
    "        \r\n",
    "#         met_df = pd.DataFrame(results)[classification_cols]\r\n",
    "#         met_df.columns = ['f1_macro', 'accuracy', 'precision', 'recall', 'auc_ovr',]\r\n",
    "#         print(met_df)"
   ],
   "outputs": [],
   "metadata": {
    "id": "nqHwcExp9HY-"
   }
  },
  {
   "cell_type": "code",
   "execution_count": null,
   "source": [
    "# # classification cross_validate : INPUT DF VERSION & TARGET\r\n",
    "# # ==================================================\r\n",
    "# df_met     = df00\r\n",
    "# target_met = 'target'\r\n",
    "# # ==================================================\r\n",
    "\r\n",
    "# # X, y split\r\n",
    "# train_met = df_met[df_met[target_met].notna()]\r\n",
    "# X_met = train_met.drop(target_met, axis=1)\r\n",
    "# y_met = train_met[target_met]\r\n",
    "\r\n",
    "# # estimators=\r\n",
    "# classification_models = [RandomForestClassifier(random_state=0),\r\n",
    "#                          GradientBoostingClassifier(random_state=0),\r\n",
    "#                          XGBClassifier(random_state=0),\r\n",
    "#                          XGBRFClassifier(random_state=0),\r\n",
    "#                          LGBMClassifier(random_state=0),\r\n",
    "#                          CatBoostClassifier(random_state=0),\r\n",
    "#                          ]\r\n",
    "\r\n",
    "# # scorings=\r\n",
    "# classification_scorers = {'f1_macro':'f1_macro', 'accuracy':'accuracy',\r\n",
    "#                           'precision':'precision_macro', 'recall':'recall_macro', \r\n",
    "#                           'roc_auc_ovr':'roc_auc_ovr',}\r\n",
    "\r\n",
    "# # cv=\r\n",
    "# kf  = KFold          (n_splits=5, shuffle=True, random_state=0)\r\n",
    "# skf = StratifiedKFold(n_splits=5, shuffle=True, random_state=0)\r\n",
    "\r\n",
    "# # cross_validate loop\r\n",
    "# for model in classification_models:\r\n",
    "    \r\n",
    "#     cv_results = cross_validate(model, X_met, y_met,\r\n",
    "#                                 scoring=classification_scorers,\r\n",
    "#                                 cv=skf,\r\n",
    "#                                 return_train_score=True, return_estimator=True)\r\n",
    "    \r\n",
    "#     print('-' * 70)\r\n",
    "#     print('model  =', model.__class__.__name__)\r\n",
    "#     print('params =', model.get_params(deep=True))\r\n",
    "    \r\n",
    "#     # classification metrics\r\n",
    "#     print('f1_macro  = {}  '.format(cv_results['test_f1_macro'].mean()),\r\n",
    "#           'accuracy  = {}  '.format(cv_results['test_accuracy'].mean()), '\\n'\r\n",
    "#           'precision = {}  '.format(cv_results['test_precision'].mean()),\r\n",
    "#           'recall    = {}  '.format(cv_results['test_recall'].mean()), '\\n'\r\n",
    "#           'AUC_ovr   = {}  '.format(cv_results['test_roc_auc_ovr'].mean()),\r\n",
    "#           )\r\n",
    "    \r\n",
    "#     fi_list = []\r\n",
    "#     for idx, estimator in enumerate(cv_results['estimator']):\r\n",
    "#         fi = pd.DataFrame(estimator.feature_importances_, \r\n",
    "#                           index=X_met.columns, columns=['importance']).sort_values('importance', ascending=False)\r\n",
    "        \r\n",
    "#         fi_list.append(estimator.feature_importances_.tolist())\r\n",
    "#     fi_means = np.array(fi_list).mean(axis=0)\r\n",
    "#     fi_df = pd.DataFrame(fi_means, columns=['importance'], index=X_met.columns).sort_values(by='importance', ascending=False)\r\n",
    "#     fig, ax = plt.subplots(figsize=(16, 12))\r\n",
    "#     sns.set_theme(style='whitegrid')\r\n",
    "#     sns.set_color_codes('pastel')\r\n",
    "#     sns.barplot(x='importance', y_met=X_met.columns, data=fi_df)\r\n",
    "#     plt.show()"
   ],
   "outputs": [],
   "metadata": {
    "id": "Jq-w7gh89HY9"
   }
  },
  {
   "cell_type": "code",
   "execution_count": null,
   "source": [
    "# # regression cross_validate : INPUT DF VERSION & TARGET\r\n",
    "# # ==================================================\r\n",
    "# df_met     = df00\r\n",
    "# target_met = 'count'\r\n",
    "# # ==================================================\r\n",
    "\r\n",
    "# # X, y split\r\n",
    "# train_met = df_met[df_met[target_met].notna()]\r\n",
    "# X_train_test_met = train_met.drop(target_met, axis=1)\r\n",
    "# y_train_test_met = train_met[target_met]\r\n",
    "\r\n",
    "# # estimators=\r\n",
    "# regressor_models = [\r\n",
    "#                     LinearRegression      (),\r\n",
    "#                     DecisionTreeRegressor (random_state=0),\r\n",
    "#                     Ridge                 (random_state=0),\r\n",
    "#                     Lasso                 (random_state=0),\r\n",
    "#                     ElasticNet            (random_state=0),\r\n",
    "#                     RandomForestRegressor (random_state=0),\r\n",
    "#                     XGBRegressor          (random_state=0),\r\n",
    "#                     LGBMRegressor         (random_state=0),\r\n",
    "#                     CatBoostRegressor     (random_state=0, verbose=0),\r\n",
    "#                     ]\r\n",
    "\r\n",
    "# # scorings=\r\n",
    "# regressor_scorers = {'MSE':'neg_mean_squared_error',\r\n",
    "#                      'RMSE':'neg_root_mean_squared_error',\r\n",
    "#                     #  'MSLE':'neg_mean_squared_log_error',\r\n",
    "#                     #  'MAE':'neg_mean_absolute_error',\r\n",
    "#                      }\r\n",
    "\r\n",
    "# # cv=\r\n",
    "# kf  = KFold          (n_splits=5, shuffle=True, random_state=0)\r\n",
    "# skf = StratifiedKFold(n_splits=5, shuffle=True, random_state=0)\r\n",
    "\r\n",
    "# # cross_validate loop\r\n",
    "# for model in regressor_models:\r\n",
    "    \r\n",
    "#     cv_results = cross_validate(model, X_train_test_met, y_train_test_met,\r\n",
    "#                                 scoring=regressor_scorers,\r\n",
    "#                                 cv=kf,\r\n",
    "#                                 return_train_score=True, return_estimator=True)\r\n",
    "    \r\n",
    "#     print('-' * 40)\r\n",
    "#     print('model  =', model.__class__.__name__)\r\n",
    "#     # print('params =', model.get_params(deep=True))\r\n",
    "    \r\n",
    "#     # regression metrics\r\n",
    "#     print('MSE    = {}  '.format(- cv_results['test_MSE'].mean()), '\\n'\r\n",
    "#           'RMSE   = {}  '.format(- cv_results['test_RMSE'].mean()),\r\n",
    "#         #   'MSLE   = {}  '.format(- cv_results['test_MSLE'].mean()),\r\n",
    "#         #   'MAE    = {}  '.format(- cv_results['test_MAE'].mean()),\r\n",
    "#           )"
   ],
   "outputs": [],
   "metadata": {
    "id": "xGvqBtx59HY-"
   }
  },
  {
   "cell_type": "code",
   "execution_count": null,
   "source": [
    "# # regression GridsearchCV : INPUT DF VERSION & TARGET\r\n",
    "# # ==================================================\r\n",
    "# df_met     = df00\r\n",
    "# target_met = 'target'\r\n",
    "# # ==================================================\r\n",
    "\r\n",
    "# # X, y split\r\n",
    "# train_met = df_met[df_met[target_met].notna()]\r\n",
    "# X_met = train_met.drop(target_met, axis=1)\r\n",
    "# y_met = train_met[target_met]\r\n",
    "\r\n",
    "# # models\r\n",
    "# regressor_models = [\r\n",
    "#                     # LinearRegression(),\r\n",
    "#                     # RandomForestRegressor(),\r\n",
    "#                     Ridge(),\r\n",
    "#                     Lasso(),\r\n",
    "#                     ElasticNet(),\r\n",
    "#                     DecisionTreeRegressor(),\r\n",
    "#                     XGBRegressor(),\r\n",
    "#                     LGBMRegressor(),\r\n",
    "#                     # CatBoostRegressor(),\r\n",
    "#                     ]\r\n",
    "\r\n",
    "# # param_grid=\r\n",
    "# hyper_param = {\r\n",
    "#                'random_state':[0],\r\n",
    "#                }\r\n",
    "\r\n",
    "# # scoring=\r\n",
    "# regressor_scorers = {'MSE':'neg_mean_squared_error',\r\n",
    "#                      'RMSE':'neg_root_mean_squared_error',\r\n",
    "#                     #  'MSLE':'neg_mean_squared_log_error',\r\n",
    "#                     #  'MAE':'neg_mean_absolute_error',\r\n",
    "#                      }\r\n",
    "\r\n",
    "# # cv=\r\n",
    "# kf  = KFold          (n_splits=5, shuffle=True, random_state=0)\r\n",
    "# skf = StratifiedKFold(n_splits=5, shuffle=True, random_state=0)\r\n",
    "\r\n",
    "# # cv_results_ cols\r\n",
    "# regression_cols = ['mean_test_MSE', 'mean_test_RMSE', \r\n",
    "#                 #    'mean_test_MSLE', 'mean_test_MAE',\r\n",
    "#                    ]\r\n",
    "\r\n",
    "# # GridSearchCV loop\r\n",
    "# for model in regressor_models:\r\n",
    "        \r\n",
    "#         gscv = GridSearchCV(model, \r\n",
    "#                             param_grid=hyper_param, \r\n",
    "#                             scoring=regressor_scorers, refit='RMSE', \r\n",
    "#                             cv=kf, return_train_score=True)\r\n",
    "#         gscv.fit(X_met, y_met)\r\n",
    "#         results = gscv.cv_results_\r\n",
    "        \r\n",
    "#         print('-' * 40)\r\n",
    "#         print('estimtor        =', gscv.estimator.__class__.__name__)\r\n",
    "#         print('best_params_    =', gscv.best_params_)\r\n",
    "#         print('best_score_     =', - gscv.best_score_)\r\n",
    "        \r\n",
    "#         met_df = pd.DataFrame(results)[regression_cols]\r\n",
    "#         met_df.columns = ['MSE', 'RMSE', \r\n",
    "#                         #   'MSLE', 'MAE',\r\n",
    "#                           ]\r\n",
    "#         print(- met_df)"
   ],
   "outputs": [],
   "metadata": {
    "id": "q2Wk6--29HY-"
   }
  },
  {
   "cell_type": "markdown",
   "source": [
    "# read : target = SalePrice / metrics = RMSE"
   ],
   "metadata": {}
  },
  {
   "cell_type": "code",
   "execution_count": 162,
   "source": [
    "train_test = pd.read_csv('./train.csv')\r\n",
    "X_sub      = pd.read_csv('./test.csv')\r\n",
    "y_sub      = pd.read_csv('./sample_submission.csv')"
   ],
   "outputs": [],
   "metadata": {}
  },
  {
   "cell_type": "code",
   "execution_count": 3,
   "source": [
    "train_test.shape, X_sub.shape, y_sub.shape"
   ],
   "outputs": [
    {
     "output_type": "execute_result",
     "data": {
      "text/plain": [
       "((1460, 81), (1459, 80), (1459, 2))"
      ]
     },
     "metadata": {},
     "execution_count": 3
    }
   ],
   "metadata": {}
  },
  {
   "cell_type": "code",
   "execution_count": 4,
   "source": [
    "train_test['SalePrice'].hist(bins=50); plt.show()\r\n",
    "\r\n",
    "sns.displot(data=train_test['SalePrice'])"
   ],
   "outputs": [
    {
     "output_type": "display_data",
     "data": {
      "image/png": "[encoded data removed]",
      "text/plain": [
       "<Figure size 432x288 with 1 Axes>"
      ]
     },
     "metadata": {}
    }
   ],
   "metadata": {}
  },
  {
   "cell_type": "code",
   "execution_count": 5,
   "source": [
    "df = pd.concat([train_test, X_sub]); df.shape"
   ],
   "outputs": [
    {
     "output_type": "execute_result",
     "data": {
      "text/plain": [
       "(2919, 81)"
      ]
     },
     "metadata": {},
     "execution_count": 5
    }
   ],
   "metadata": {}
  },
  {
   "cell_type": "markdown",
   "source": [
    "# data classify"
   ],
   "metadata": {}
  },
  {
   "cell_type": "code",
   "execution_count": 49,
   "source": [
    "# 시계열 컬럼(datetime)은 set_index로 빼놓기\r\n",
    "# object / numeric\r\n",
    "\r\n",
    "# numeric : unique check -> disc or cont\r\n",
    "df.iloc[:, 20:40].info()"
   ],
   "outputs": [
    {
     "output_type": "stream",
     "name": "stdout",
     "text": [
      "<class 'pandas.core.frame.DataFrame'>\n",
      "Int64Index: 2919 entries, 0 to 1458\n",
      "Data columns (total 20 columns):\n",
      " #   Column        Non-Null Count  Dtype  \n",
      "---  ------        --------------  -----  \n",
      " 0   YearRemodAdd  2919 non-null   int64  \n",
      " 1   RoofStyle     2919 non-null   object \n",
      " 2   RoofMatl      2919 non-null   object \n",
      " 3   Exterior1st   2918 non-null   object \n",
      " 4   Exterior2nd   2918 non-null   object \n",
      " 5   MasVnrType    2895 non-null   object \n",
      " 6   MasVnrArea    2896 non-null   float64\n",
      " 7   ExterQual     2919 non-null   object \n",
      " 8   ExterCond     2919 non-null   object \n",
      " 9   Foundation    2919 non-null   object \n",
      " 10  BsmtQual      2838 non-null   object \n",
      " 11  BsmtCond      2837 non-null   object \n",
      " 12  BsmtExposure  2837 non-null   object \n",
      " 13  BsmtFinType1  2840 non-null   object \n",
      " 14  BsmtFinSF1    2918 non-null   float64\n",
      " 15  BsmtFinType2  2839 non-null   object \n",
      " 16  BsmtFinSF2    2918 non-null   float64\n",
      " 17  BsmtUnfSF     2918 non-null   float64\n",
      " 18  TotalBsmtSF   2918 non-null   float64\n",
      " 19  Heating       2919 non-null   object \n",
      "dtypes: float64(5), int64(1), object(14)\n",
      "memory usage: 478.9+ KB\n"
     ]
    }
   ],
   "metadata": {}
  },
  {
   "cell_type": "code",
   "execution_count": 102,
   "source": [
    "a = pd.DataFrame(np.arange(10).reshape(-1, 2), columns=['A', 'B'])"
   ],
   "outputs": [
    {
     "output_type": "execute_result",
     "data": {
      "text/html": [
       "<div>\n",
       "<style scoped>\n",
       "    .dataframe tbody tr th:only-of-type {\n",
       "        vertical-align: middle;\n",
       "    }\n",
       "\n",
       "    .dataframe tbody tr th {\n",
       "        vertical-align: top;\n",
       "    }\n",
       "\n",
       "    .dataframe thead th {\n",
       "        text-align: right;\n",
       "    }\n",
       "</style>\n",
       "<table border=\"1\" class=\"dataframe\">\n",
       "  <thead>\n",
       "    <tr style=\"text-align: right;\">\n",
       "      <th></th>\n",
       "      <th>A</th>\n",
       "      <th>B</th>\n",
       "    </tr>\n",
       "  </thead>\n",
       "  <tbody>\n",
       "    <tr>\n",
       "      <th>0</th>\n",
       "      <td>0</td>\n",
       "      <td>1</td>\n",
       "    </tr>\n",
       "    <tr>\n",
       "      <th>1</th>\n",
       "      <td>2</td>\n",
       "      <td>3</td>\n",
       "    </tr>\n",
       "    <tr>\n",
       "      <th>2</th>\n",
       "      <td>4</td>\n",
       "      <td>5</td>\n",
       "    </tr>\n",
       "    <tr>\n",
       "      <th>3</th>\n",
       "      <td>6</td>\n",
       "      <td>7</td>\n",
       "    </tr>\n",
       "    <tr>\n",
       "      <th>4</th>\n",
       "      <td>8</td>\n",
       "      <td>9</td>\n",
       "    </tr>\n",
       "  </tbody>\n",
       "</table>\n",
       "</div>"
      ],
      "text/plain": [
       "   A  B\n",
       "0  0  1\n",
       "1  2  3\n",
       "2  4  5\n",
       "3  6  7\n",
       "4  8  9"
      ]
     },
     "metadata": {},
     "execution_count": 102
    }
   ],
   "metadata": {}
  },
  {
   "cell_type": "code",
   "execution_count": 103,
   "source": [
    "a.loc[3, 'B'] = np.nan\r\n",
    "a"
   ],
   "outputs": [
    {
     "output_type": "execute_result",
     "data": {
      "text/html": [
       "<div>\n",
       "<style scoped>\n",
       "    .dataframe tbody tr th:only-of-type {\n",
       "        vertical-align: middle;\n",
       "    }\n",
       "\n",
       "    .dataframe tbody tr th {\n",
       "        vertical-align: top;\n",
       "    }\n",
       "\n",
       "    .dataframe thead th {\n",
       "        text-align: right;\n",
       "    }\n",
       "</style>\n",
       "<table border=\"1\" class=\"dataframe\">\n",
       "  <thead>\n",
       "    <tr style=\"text-align: right;\">\n",
       "      <th></th>\n",
       "      <th>A</th>\n",
       "      <th>B</th>\n",
       "    </tr>\n",
       "  </thead>\n",
       "  <tbody>\n",
       "    <tr>\n",
       "      <th>0</th>\n",
       "      <td>0</td>\n",
       "      <td>1.0</td>\n",
       "    </tr>\n",
       "    <tr>\n",
       "      <th>1</th>\n",
       "      <td>2</td>\n",
       "      <td>3.0</td>\n",
       "    </tr>\n",
       "    <tr>\n",
       "      <th>2</th>\n",
       "      <td>4</td>\n",
       "      <td>5.0</td>\n",
       "    </tr>\n",
       "    <tr>\n",
       "      <th>3</th>\n",
       "      <td>6</td>\n",
       "      <td>NaN</td>\n",
       "    </tr>\n",
       "    <tr>\n",
       "      <th>4</th>\n",
       "      <td>8</td>\n",
       "      <td>9.0</td>\n",
       "    </tr>\n",
       "  </tbody>\n",
       "</table>\n",
       "</div>"
      ],
      "text/plain": [
       "   A    B\n",
       "0  0  1.0\n",
       "1  2  3.0\n",
       "2  4  5.0\n",
       "3  6  NaN\n",
       "4  8  9.0"
      ]
     },
     "metadata": {},
     "execution_count": 103
    }
   ],
   "metadata": {}
  },
  {
   "cell_type": "code",
   "execution_count": 104,
   "source": [
    "a['B'].mask(a['B'].isna(), a['A'].mean() * 10, inplace=True)"
   ],
   "outputs": [],
   "metadata": {}
  },
  {
   "cell_type": "code",
   "execution_count": 105,
   "source": [
    "a"
   ],
   "outputs": [
    {
     "output_type": "execute_result",
     "data": {
      "text/html": [
       "<div>\n",
       "<style scoped>\n",
       "    .dataframe tbody tr th:only-of-type {\n",
       "        vertical-align: middle;\n",
       "    }\n",
       "\n",
       "    .dataframe tbody tr th {\n",
       "        vertical-align: top;\n",
       "    }\n",
       "\n",
       "    .dataframe thead th {\n",
       "        text-align: right;\n",
       "    }\n",
       "</style>\n",
       "<table border=\"1\" class=\"dataframe\">\n",
       "  <thead>\n",
       "    <tr style=\"text-align: right;\">\n",
       "      <th></th>\n",
       "      <th>A</th>\n",
       "      <th>B</th>\n",
       "    </tr>\n",
       "  </thead>\n",
       "  <tbody>\n",
       "    <tr>\n",
       "      <th>0</th>\n",
       "      <td>0</td>\n",
       "      <td>1.0</td>\n",
       "    </tr>\n",
       "    <tr>\n",
       "      <th>1</th>\n",
       "      <td>2</td>\n",
       "      <td>3.0</td>\n",
       "    </tr>\n",
       "    <tr>\n",
       "      <th>2</th>\n",
       "      <td>4</td>\n",
       "      <td>5.0</td>\n",
       "    </tr>\n",
       "    <tr>\n",
       "      <th>3</th>\n",
       "      <td>6</td>\n",
       "      <td>40.0</td>\n",
       "    </tr>\n",
       "    <tr>\n",
       "      <th>4</th>\n",
       "      <td>8</td>\n",
       "      <td>9.0</td>\n",
       "    </tr>\n",
       "  </tbody>\n",
       "</table>\n",
       "</div>"
      ],
      "text/plain": [
       "   A     B\n",
       "0  0   1.0\n",
       "1  2   3.0\n",
       "2  4   5.0\n",
       "3  6  40.0\n",
       "4  8   9.0"
      ]
     },
     "metadata": {},
     "execution_count": 105
    }
   ],
   "metadata": {}
  },
  {
   "cell_type": "code",
   "execution_count": null,
   "source": [
    "# 상관분석 전 결측처리와, 후 결측처리는 결과가 다름.\r\n",
    "# 정확한 상관분석을 위해서는 결측처리 후 상관분석을 해야하지만,\r\n",
    "# 일단 대충이라도 결측처리 후 상관분석을 하기도 함\r\n",
    "\r\n",
    "# 파생변수\r\n",
    "# 인코딩을 한 후, 파생을 하게 되면 문제가 생김.\r\n",
    "# 컬럼이 많아지기 때문에, 상관분석이 어려움\r\n",
    "# 파생변수를 만들고 나서, 인코딩을 하는 것이 편함\r\n",
    "\r\n",
    "# .astype('category') : LabelEncoder와 같은 기능\r\n",
    "\r\n",
    "# 평가 --------------\r\n",
    "# 1. 모델 여러개 사용해서 점수 확인 : 대표적 모델, 강한 모델, 약한 모델 다 사용해볼 것\r\n",
    "#    - 약한 모델을 섞어서 앙상블 하기 위함\r\n",
    "# 2. 학습량 늘리기 : cv(fold), smote/near, threshold(분류)\r\n",
    "# 3. 앙상블\r\n",
    "# 4. stacking : 다양한 모델들을 준비(같은 모델들도 가능)해서\r\n",
    "#               모델들 예측의 proba 평균으로 예측값 도출하여 재학습(retrain)\r\n",
    "# 5. tuning   : hyper param, api tool"
   ],
   "outputs": [],
   "metadata": {}
  },
  {
   "cell_type": "markdown",
   "source": [
    "# stacking"
   ],
   "metadata": {}
  },
  {
   "cell_type": "code",
   "execution_count": null,
   "source": [
    "# 모델들의 probas_pred를 모아서 feature로 구성하여 학습\r\n",
    "# 스태킹은 반드시 cv를 겸비해야 한다. 그렇지 않으면 그냥 앙상블 효과일 뿐\r\n",
    "# cv하지 않으면 과적합 가능성이 매우 크다.\r\n",
    "\r\n",
    "# 과적합을 막을 방법은 여러 번 돌려서 cv를 무조건 써야 한다.\r\n",
    "# fold + stacking 합쳐서 사용\r\n",
    "\r\n",
    "# cross_val 함수를 사용할 수 없음\r\n",
    "# RidgeCV 등이 스태킹 지원\r\n",
    "\r\n",
    "train에 대한 예측, test에 대한 예측을 별도로 a"
   ],
   "outputs": [],
   "metadata": {}
  },
  {
   "cell_type": "markdown",
   "source": [
    "# optimizer"
   ],
   "metadata": {}
  },
  {
   "cell_type": "code",
   "execution_count": null,
   "source": [
    "# optuna\r\n",
    "# 1. 객체 함수 구성\r\n",
    "# 2. 하이퍼 파람을 사용할 수 있는 trial 객체 구성 : 파라미터 fit\r\n",
    "# 3. study 객체 구성,       : pred 파라미터\r\n",
    "\r\n",
    "# (x - 2)^2 함수\r\n",
    "\r\n",
    "# study = optuna.create_study()\r\n",
    "# study.optimize(objective, n_trials=100)\r\n",
    "# study.best_params"
   ],
   "outputs": [],
   "metadata": {}
  },
  {
   "cell_type": "code",
   "execution_count": 109,
   "source": [
    "# !pip install optuna"
   ],
   "outputs": [],
   "metadata": {}
  },
  {
   "cell_type": "code",
   "execution_count": 116,
   "source": [
    "df = pd.read_csv('../pima/diabetes.csv')\r\n",
    "df.info(); df.shape"
   ],
   "outputs": [
    {
     "output_type": "stream",
     "name": "stdout",
     "text": [
      "<class 'pandas.core.frame.DataFrame'>\n",
      "RangeIndex: 768 entries, 0 to 767\n",
      "Data columns (total 9 columns):\n",
      " #   Column                    Non-Null Count  Dtype  \n",
      "---  ------                    --------------  -----  \n",
      " 0   Pregnancies               768 non-null    int64  \n",
      " 1   Glucose                   768 non-null    int64  \n",
      " 2   BloodPressure             768 non-null    int64  \n",
      " 3   SkinThickness             768 non-null    int64  \n",
      " 4   Insulin                   768 non-null    int64  \n",
      " 5   BMI                       768 non-null    float64\n",
      " 6   DiabetesPedigreeFunction  768 non-null    float64\n",
      " 7   Age                       768 non-null    int64  \n",
      " 8   Outcome                   768 non-null    int64  \n",
      "dtypes: float64(2), int64(7)\n",
      "memory usage: 54.1 KB\n"
     ]
    },
    {
     "output_type": "execute_result",
     "data": {
      "text/plain": [
       "(768, 9)"
      ]
     },
     "metadata": {},
     "execution_count": 116
    }
   ],
   "metadata": {}
  },
  {
   "cell_type": "code",
   "execution_count": 121,
   "source": [
    "# classification cross_validate : INPUT DF VERSION & TARGET\r\n",
    "# ==================================================\r\n",
    "df_met     = df\r\n",
    "target_met = 'Outcome'\r\n",
    "# ==================================================\r\n",
    "\r\n",
    "# X, y split\r\n",
    "train_met = df_met[df_met[target_met].notna()]\r\n",
    "X_met = train_met.drop(target_met, axis=1)\r\n",
    "y_met = train_met[target_met]\r\n",
    "\r\n",
    "# estimators=\r\n",
    "classification_models = [RandomForestClassifier(random_state=0),\r\n",
    "                         GradientBoostingClassifier(random_state=0),\r\n",
    "                         XGBClassifier(random_state=0),\r\n",
    "                         XGBRFClassifier(random_state=0),\r\n",
    "                         LGBMClassifier(random_state=0),\r\n",
    "                         CatBoostClassifier(random_state=0, verbose=0),\r\n",
    "                         ]\r\n",
    "\r\n",
    "# scorings=\r\n",
    "classification_scorers = {'f1_macro':'f1_macro', 'accuracy':'accuracy',\r\n",
    "                          'precision':'precision_macro', 'recall':'recall_macro', \r\n",
    "                          'roc_auc_ovr':'roc_auc_ovr',}\r\n",
    "\r\n",
    "# cv=\r\n",
    "kf  = KFold          (n_splits=5, shuffle=True, random_state=0)\r\n",
    "skf = StratifiedKFold(n_splits=5, shuffle=True, random_state=0)\r\n",
    "\r\n",
    "# cross_validate loop\r\n",
    "for model in classification_models:\r\n",
    "    \r\n",
    "    cv_results = cross_validate(model, X_met, y_met,\r\n",
    "                                scoring=classification_scorers,\r\n",
    "                                cv=skf,\r\n",
    "                                return_train_score=True, return_estimator=True)\r\n",
    "    \r\n",
    "    print('-' * 70)\r\n",
    "    print('model  =', model.__class__.__name__)\r\n",
    "    # print('params =', model.get_params(deep=True))\r\n",
    "    \r\n",
    "    # classification metrics\r\n",
    "    print('f1_macro  = {}  '.format(cv_results['test_f1_macro'].mean()),\r\n",
    "          'accuracy  = {}  '.format(cv_results['test_accuracy'].mean()), '\\n'\r\n",
    "          'precision = {}  '.format(cv_results['test_precision'].mean()),\r\n",
    "          'recall    = {}  '.format(cv_results['test_recall'].mean()), '\\n'\r\n",
    "          'AUC_ovr   = {}  '.format(cv_results['test_roc_auc_ovr'].mean()),\r\n",
    "          )\r\n",
    "    \r\n",
    "    fi_list = []\r\n",
    "    for idx, estimator in enumerate(cv_results['estimator']):\r\n",
    "        fi = pd.DataFrame(estimator.feature_importances_, \r\n",
    "                          index=X_met.columns, columns=['importance']).sort_values('importance', ascending=False)\r\n",
    "        \r\n",
    "        fi_list.append(estimator.feature_importances_.tolist())\r\n",
    "    fi_means = np.array(fi_list).mean(axis=0)\r\n",
    "    fi_df = pd.DataFrame(fi_means, columns=['importance'], index=X_met.columns).sort_values(by='importance', ascending=False)\r\n",
    "    fig, ax = plt.subplots(figsize=(8, 6))\r\n",
    "    sns.set_theme(style='whitegrid')\r\n",
    "    sns.set_color_codes('pastel')\r\n",
    "    sns.barplot(x='importance', y=X_met.columns, data=fi_df)\r\n",
    "    plt.show()"
   ],
   "outputs": [
    {
     "output_type": "stream",
     "name": "stdout",
     "text": [
      "----------------------------------------------------------------------\n",
      "model  = RandomForestClassifier\n",
      "f1_macro  = 0.7016432214522188   accuracy  = 0.7409218232747644   \n",
      "precision = 0.7152297223272555   recall    = 0.6954318658280922   \n",
      "AUC_ovr   = 0.8207599580712788  \n"
     ]
    },
    {
     "output_type": "display_data",
     "data": {
      "image/png": "[encoded data removed]",
      "text/plain": [
       "<Figure size 576x432 with 1 Axes>"
      ]
     },
     "metadata": {}
    },
    {
     "output_type": "stream",
     "name": "stdout",
     "text": [
      "----------------------------------------------------------------------\n",
      "model  = GradientBoostingClassifier\n",
      "f1_macro  = 0.7212296824298841   accuracy  = 0.7552414905356082   \n",
      "precision = 0.7327634755297336   recall    = 0.7150552061495457   \n",
      "AUC_ovr   = 0.8234814814814815  \n"
     ]
    },
    {
     "output_type": "display_data",
     "data": {
      "image/png": "[encoded data removed]",
      "text/plain": [
       "<Figure size 576x432 with 1 Axes>"
      ]
     },
     "metadata": {}
    },
    {
     "output_type": "stream",
     "name": "stdout",
     "text": [
      "[16:51:49] WARNING: C:/Users/Administrator/workspace/xgboost-win64_release_1.4.0/src/learner.cc:1095: Starting in XGBoost 1.3.0, the default evaluation metric used with the objective 'binary:logistic' was changed from 'error' to 'logloss'. Explicitly set eval_metric if you'd like to restore the old behavior.\n",
      "[16:51:49] WARNING: C:/Users/Administrator/workspace/xgboost-win64_release_1.4.0/src/learner.cc:1095: Starting in XGBoost 1.3.0, the default evaluation metric used with the objective 'binary:logistic' was changed from 'error' to 'logloss'. Explicitly set eval_metric if you'd like to restore the old behavior.\n",
      "[16:51:49] WARNING: C:/Users/Administrator/workspace/xgboost-win64_release_1.4.0/src/learner.cc:1095: Starting in XGBoost 1.3.0, the default evaluation metric used with the objective 'binary:logistic' was changed from 'error' to 'logloss'. Explicitly set eval_metric if you'd like to restore the old behavior.\n",
      "[16:51:50] WARNING: C:/Users/Administrator/workspace/xgboost-win64_release_1.4.0/src/learner.cc:1095: Starting in XGBoost 1.3.0, the default evaluation metric used with the objective 'binary:logistic' was changed from 'error' to 'logloss'. Explicitly set eval_metric if you'd like to restore the old behavior.\n",
      "[16:51:50] WARNING: C:/Users/Administrator/workspace/xgboost-win64_release_1.4.0/src/learner.cc:1095: Starting in XGBoost 1.3.0, the default evaluation metric used with the objective 'binary:logistic' was changed from 'error' to 'logloss'. Explicitly set eval_metric if you'd like to restore the old behavior.\n",
      "----------------------------------------------------------------------\n",
      "model  = XGBClassifier\n",
      "f1_macro  = 0.6962799436693221   accuracy  = 0.7304133774722009   \n",
      "precision = 0.7017785398391905   recall    = 0.6932201257861635   \n",
      "AUC_ovr   = 0.7935352900069881  \n"
     ]
    },
    {
     "output_type": "display_data",
     "data": {
      "image/png": "[encoded data removed]",
      "text/plain": [
       "<Figure size 576x432 with 1 Axes>"
      ]
     },
     "metadata": {}
    },
    {
     "output_type": "stream",
     "name": "stdout",
     "text": [
      "[16:51:51] WARNING: C:/Users/Administrator/workspace/xgboost-win64_release_1.4.0/src/learner.cc:1095: Starting in XGBoost 1.3.0, the default evaluation metric used with the objective 'binary:logistic' was changed from 'error' to 'logloss'. Explicitly set eval_metric if you'd like to restore the old behavior.\n",
      "[16:51:51] WARNING: C:/Users/Administrator/workspace/xgboost-win64_release_1.4.0/src/learner.cc:1095: Starting in XGBoost 1.3.0, the default evaluation metric used with the objective 'binary:logistic' was changed from 'error' to 'logloss'. Explicitly set eval_metric if you'd like to restore the old behavior.\n",
      "[16:51:52] WARNING: C:/Users/Administrator/workspace/xgboost-win64_release_1.4.0/src/learner.cc:1095: Starting in XGBoost 1.3.0, the default evaluation metric used with the objective 'binary:logistic' was changed from 'error' to 'logloss'. Explicitly set eval_metric if you'd like to restore the old behavior.\n",
      "[16:51:52] WARNING: C:/Users/Administrator/workspace/xgboost-win64_release_1.4.0/src/learner.cc:1095: Starting in XGBoost 1.3.0, the default evaluation metric used with the objective 'binary:logistic' was changed from 'error' to 'logloss'. Explicitly set eval_metric if you'd like to restore the old behavior.\n",
      "[16:51:52] WARNING: C:/Users/Administrator/workspace/xgboost-win64_release_1.4.0/src/learner.cc:1095: Starting in XGBoost 1.3.0, the default evaluation metric used with the objective 'binary:logistic' was changed from 'error' to 'logloss'. Explicitly set eval_metric if you'd like to restore the old behavior.\n",
      "----------------------------------------------------------------------\n",
      "model  = XGBRFClassifier\n",
      "f1_macro  = 0.6992894044285601   accuracy  = 0.7382819794584501   \n",
      "precision = 0.7126306393978273   recall    = 0.6932921034241788   \n",
      "AUC_ovr   = 0.8211607267645004  \n"
     ]
    },
    {
     "output_type": "display_data",
     "data": {
      "image/png": "[encoded data removed]",
      "text/plain": [
       "<Figure size 576x432 with 1 Axes>"
      ]
     },
     "metadata": {}
    },
    {
     "output_type": "stream",
     "name": "stdout",
     "text": [
      "----------------------------------------------------------------------\n",
      "model  = LGBMClassifier\n",
      "f1_macro  = 0.695952014784838   accuracy  = 0.731729055258467   \n",
      "precision = 0.7034003514512799   recall    = 0.6917344514325647   \n",
      "AUC_ovr   = 0.7948050314465409  \n"
     ]
    },
    {
     "output_type": "display_data",
     "data": {
      "image/png": "[encoded data removed]",
      "text/plain": [
       "<Figure size 576x432 with 1 Axes>"
      ]
     },
     "metadata": {}
    },
    {
     "output_type": "stream",
     "name": "stdout",
     "text": [
      "----------------------------------------------------------------------\n",
      "model  = CatBoostClassifier\n",
      "f1_macro  = 0.7245608529924872   accuracy  = 0.7604532722179782   \n",
      "precision = 0.7386454725226954   recall    = 0.7173515024458421   \n",
      "AUC_ovr   = 0.8274437456324248  \n"
     ]
    },
    {
     "output_type": "display_data",
     "data": {
      "image/png": "[encoded data removed]",
      "text/plain": [
       "<Figure size 576x432 with 1 Axes>"
      ]
     },
     "metadata": {}
    }
   ],
   "metadata": {
    "id": "Jq-w7gh89HY9"
   }
  },
  {
   "cell_type": "code",
   "execution_count": 123,
   "source": [
    "import optuna\r\n",
    "from sklearn.metrics import log_loss"
   ],
   "outputs": [],
   "metadata": {}
  },
  {
   "cell_type": "code",
   "execution_count": 124,
   "source": [
    "X = df.iloc[:, :-1]\r\n",
    "y = df.iloc[:, -1]\r\n",
    "\r\n",
    "X_train, X_test, y_train, y_test = train_test_split(X, y, test_size=0.2, random_state=0)"
   ],
   "outputs": [],
   "metadata": {}
  },
  {
   "cell_type": "code",
   "execution_count": 151,
   "source": [
    "# 1. objective function\r\n",
    "\r\n",
    "def opt_obj(trial): # 2. hyper param trial\r\n",
    "    \r\n",
    "    param = {\r\n",
    "            #  'n_estimators':      trial.suggest_uniform('n_estimators', 100, 200), \r\n",
    "             'min_samples_leaf':  trial.suggest_uniform('min_samples_leaf', 0.0, 0.5),\r\n",
    "             'min_samples_split': trial.suggest_uniform('min_samples_split', 0.0, 1.0),\r\n",
    "    }\r\n",
    "    \r\n",
    "    model = RandomForestClassifier(**param)\r\n",
    "    \r\n",
    "    model.fit(X_train, y_train)\r\n",
    "    \r\n",
    "    y_pred      = model.predict      (X_test)\r\n",
    "    probas_pred = model.predict_proba(X_test)\r\n",
    "    \r\n",
    "    score = log_loss(y_test, probas_pred)\r\n",
    "    \r\n",
    "    return score"
   ],
   "outputs": [],
   "metadata": {}
  },
  {
   "cell_type": "code",
   "execution_count": 161,
   "source": [
    "study = optuna.create_study(optuna.samplers.TPESampler(seed=0), directions='minimize')\r\n",
    "\r\n",
    "study.optimize(opt_obj, n_trials=100)"
   ],
   "outputs": [
    {
     "output_type": "error",
     "ename": "ValueError",
     "evalue": "Please set either 'minimize' or 'maximize' to direction. You can also set the corresponding `StudyDirection` member.",
     "traceback": [
      "\u001b[1;31m---------------------------------------------------------------------------\u001b[0m",
      "\u001b[1;31mValueError\u001b[0m                                Traceback (most recent call last)",
      "\u001b[1;32m~\\AppData\\Local\\Temp/ipykernel_16172/97773807.py\u001b[0m in \u001b[0;36m<module>\u001b[1;34m\u001b[0m\n\u001b[1;32m----> 1\u001b[1;33m \u001b[0mstudy\u001b[0m \u001b[1;33m=\u001b[0m \u001b[0moptuna\u001b[0m\u001b[1;33m.\u001b[0m\u001b[0mcreate_study\u001b[0m\u001b[1;33m(\u001b[0m\u001b[0moptuna\u001b[0m\u001b[1;33m.\u001b[0m\u001b[0msamplers\u001b[0m\u001b[1;33m.\u001b[0m\u001b[0mTPESampler\u001b[0m\u001b[1;33m(\u001b[0m\u001b[0mseed\u001b[0m\u001b[1;33m=\u001b[0m\u001b[1;36m0\u001b[0m\u001b[1;33m)\u001b[0m\u001b[1;33m,\u001b[0m \u001b[0mdirections\u001b[0m\u001b[1;33m=\u001b[0m\u001b[1;34m'minimize'\u001b[0m\u001b[1;33m)\u001b[0m\u001b[1;33m\u001b[0m\u001b[1;33m\u001b[0m\u001b[0m\n\u001b[0m\u001b[0;32m      2\u001b[0m \u001b[1;33m\u001b[0m\u001b[0m\n\u001b[0;32m      3\u001b[0m \u001b[0mstudy\u001b[0m\u001b[1;33m.\u001b[0m\u001b[0moptimize\u001b[0m\u001b[1;33m(\u001b[0m\u001b[0mopt_obj\u001b[0m\u001b[1;33m,\u001b[0m \u001b[0mn_trials\u001b[0m\u001b[1;33m=\u001b[0m\u001b[1;36m100\u001b[0m\u001b[1;33m)\u001b[0m\u001b[1;33m\u001b[0m\u001b[1;33m\u001b[0m\u001b[0m\n",
      "\u001b[1;32mc:\\AI\\pythonProject\\venv\\lib\\site-packages\\optuna\\study\\study.py\u001b[0m in \u001b[0;36mcreate_study\u001b[1;34m(storage, sampler, pruner, study_name, direction, load_if_exists, directions)\u001b[0m\n\u001b[0;32m   1125\u001b[0m         \u001b[1;32mfor\u001b[0m \u001b[0md\u001b[0m \u001b[1;32min\u001b[0m \u001b[0mdirections\u001b[0m\u001b[1;33m\u001b[0m\u001b[1;33m\u001b[0m\u001b[0m\n\u001b[0;32m   1126\u001b[0m     ):\n\u001b[1;32m-> 1127\u001b[1;33m         raise ValueError(\n\u001b[0m\u001b[0;32m   1128\u001b[0m             \u001b[1;34m\"Please set either 'minimize' or 'maximize' to direction. You can also set the \"\u001b[0m\u001b[1;33m\u001b[0m\u001b[1;33m\u001b[0m\u001b[0m\n\u001b[0;32m   1129\u001b[0m             \u001b[1;34m\"corresponding `StudyDirection` member.\"\u001b[0m\u001b[1;33m\u001b[0m\u001b[1;33m\u001b[0m\u001b[0m\n",
      "\u001b[1;31mValueError\u001b[0m: Please set either 'minimize' or 'maximize' to direction. You can also set the corresponding `StudyDirection` member."
     ]
    }
   ],
   "metadata": {}
  },
  {
   "cell_type": "code",
   "execution_count": 153,
   "source": [
    "best_param = study.best_params"
   ],
   "outputs": [],
   "metadata": {}
  },
  {
   "cell_type": "code",
   "execution_count": 154,
   "source": [
    "best_param"
   ],
   "outputs": [
    {
     "output_type": "execute_result",
     "data": {
      "text/plain": [
       "{'min_samples_leaf': 0.0032318701940432437,\n",
       " 'min_samples_split': 0.0034717239808105815}"
      ]
     },
     "metadata": {},
     "execution_count": 154
    }
   ],
   "metadata": {}
  },
  {
   "cell_type": "code",
   "execution_count": 155,
   "source": [
    "# param fit\r\n",
    "model = RandomForestClassifier(**best_param)\r\n",
    "\r\n",
    "model.fit(X_train, y_train)\r\n",
    "\r\n",
    "y_pred      = model.predict      (X_test)\r\n",
    "probas_pred = model.predict_proba(X_test)\r\n",
    "\r\n",
    "score = log_loss(y_test, probas_pred)\r\n",
    "score"
   ],
   "outputs": [
    {
     "output_type": "execute_result",
     "data": {
      "text/plain": [
       "0.4216362432940645"
      ]
     },
     "metadata": {},
     "execution_count": 155
    }
   ],
   "metadata": {}
  },
  {
   "cell_type": "code",
   "execution_count": null,
   "source": [
    "RandomForestClassifier"
   ],
   "outputs": [],
   "metadata": {}
  }
 ],
 "metadata": {
  "orig_nbformat": 4,
  "language_info": {
   "name": "python",
   "version": "3.8.8",
   "mimetype": "text/x-python",
   "codemirror_mode": {
    "name": "ipython",
    "version": 3
   },
   "pygments_lexer": "ipython3",
   "nbconvert_exporter": "python",
   "file_extension": ".py"
  },
  "kernelspec": {
   "name": "python3",
   "display_name": "Python 3.8.8 64-bit ('venv': venv)"
  },
  "interpreter": {
   "hash": "c3102799280f1ed23787b1be8e33b065cea14d14e60df4daed798ef8bab0b32c"
  }
 },
 "nbformat": 4,
 "nbformat_minor": 2
}