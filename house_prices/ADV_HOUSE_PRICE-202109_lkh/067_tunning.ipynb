{
 "cells": [
  {
   "cell_type": "markdown",
   "id": "incomplete-mathematics",
   "metadata": {
    "id": "incomplete-mathematics"
   },
   "source": [
    "ref : https://www.kaggle.com/alexeykolobyanin/house-prices-nusvr-sklearn-intelex-4x-speedup/#data`m"
   ]
  },
  {
   "cell_type": "code",
   "execution_count": 1,
   "id": "religious-appliance",
   "metadata": {
    "id": "religious-appliance"
   },
   "outputs": [],
   "source": [
    "import pandas as pd \n",
    "import numpy as np\n",
    "import matplotlib.pyplot as plt\n",
    "import seaborn as sns"
   ]
  },
  {
   "cell_type": "code",
   "execution_count": 2,
   "id": "demanding-construction",
   "metadata": {
    "id": "demanding-construction",
    "outputId": "34786937-91f9-4aec-8c8c-f0de1356bf81"
   },
   "outputs": [
    {
     "data": {
      "text/html": [
       "<div>\n",
       "<style scoped>\n",
       "    .dataframe tbody tr th:only-of-type {\n",
       "        vertical-align: middle;\n",
       "    }\n",
       "\n",
       "    .dataframe tbody tr th {\n",
       "        vertical-align: top;\n",
       "    }\n",
       "\n",
       "    .dataframe thead th {\n",
       "        text-align: right;\n",
       "    }\n",
       "</style>\n",
       "<table border=\"1\" class=\"dataframe\">\n",
       "  <thead>\n",
       "    <tr style=\"text-align: right;\">\n",
       "      <th></th>\n",
       "      <th>Id</th>\n",
       "      <th>MSSubClass</th>\n",
       "      <th>MSZoning</th>\n",
       "      <th>LotFrontage</th>\n",
       "      <th>LotArea</th>\n",
       "      <th>Street</th>\n",
       "      <th>Alley</th>\n",
       "      <th>LotShape</th>\n",
       "      <th>LandContour</th>\n",
       "      <th>Utilities</th>\n",
       "      <th>...</th>\n",
       "      <th>PoolArea</th>\n",
       "      <th>PoolQC</th>\n",
       "      <th>Fence</th>\n",
       "      <th>MiscFeature</th>\n",
       "      <th>MiscVal</th>\n",
       "      <th>MoSold</th>\n",
       "      <th>YrSold</th>\n",
       "      <th>SaleType</th>\n",
       "      <th>SaleCondition</th>\n",
       "      <th>SalePrice</th>\n",
       "    </tr>\n",
       "  </thead>\n",
       "  <tbody>\n",
       "    <tr>\n",
       "      <th>0</th>\n",
       "      <td>1</td>\n",
       "      <td>60</td>\n",
       "      <td>RL</td>\n",
       "      <td>65.0</td>\n",
       "      <td>8450</td>\n",
       "      <td>Pave</td>\n",
       "      <td>NaN</td>\n",
       "      <td>Reg</td>\n",
       "      <td>Lvl</td>\n",
       "      <td>AllPub</td>\n",
       "      <td>...</td>\n",
       "      <td>0</td>\n",
       "      <td>NaN</td>\n",
       "      <td>NaN</td>\n",
       "      <td>NaN</td>\n",
       "      <td>0</td>\n",
       "      <td>2</td>\n",
       "      <td>2008</td>\n",
       "      <td>WD</td>\n",
       "      <td>Normal</td>\n",
       "      <td>208500</td>\n",
       "    </tr>\n",
       "    <tr>\n",
       "      <th>1</th>\n",
       "      <td>2</td>\n",
       "      <td>20</td>\n",
       "      <td>RL</td>\n",
       "      <td>80.0</td>\n",
       "      <td>9600</td>\n",
       "      <td>Pave</td>\n",
       "      <td>NaN</td>\n",
       "      <td>Reg</td>\n",
       "      <td>Lvl</td>\n",
       "      <td>AllPub</td>\n",
       "      <td>...</td>\n",
       "      <td>0</td>\n",
       "      <td>NaN</td>\n",
       "      <td>NaN</td>\n",
       "      <td>NaN</td>\n",
       "      <td>0</td>\n",
       "      <td>5</td>\n",
       "      <td>2007</td>\n",
       "      <td>WD</td>\n",
       "      <td>Normal</td>\n",
       "      <td>181500</td>\n",
       "    </tr>\n",
       "    <tr>\n",
       "      <th>2</th>\n",
       "      <td>3</td>\n",
       "      <td>60</td>\n",
       "      <td>RL</td>\n",
       "      <td>68.0</td>\n",
       "      <td>11250</td>\n",
       "      <td>Pave</td>\n",
       "      <td>NaN</td>\n",
       "      <td>IR1</td>\n",
       "      <td>Lvl</td>\n",
       "      <td>AllPub</td>\n",
       "      <td>...</td>\n",
       "      <td>0</td>\n",
       "      <td>NaN</td>\n",
       "      <td>NaN</td>\n",
       "      <td>NaN</td>\n",
       "      <td>0</td>\n",
       "      <td>9</td>\n",
       "      <td>2008</td>\n",
       "      <td>WD</td>\n",
       "      <td>Normal</td>\n",
       "      <td>223500</td>\n",
       "    </tr>\n",
       "    <tr>\n",
       "      <th>3</th>\n",
       "      <td>4</td>\n",
       "      <td>70</td>\n",
       "      <td>RL</td>\n",
       "      <td>60.0</td>\n",
       "      <td>9550</td>\n",
       "      <td>Pave</td>\n",
       "      <td>NaN</td>\n",
       "      <td>IR1</td>\n",
       "      <td>Lvl</td>\n",
       "      <td>AllPub</td>\n",
       "      <td>...</td>\n",
       "      <td>0</td>\n",
       "      <td>NaN</td>\n",
       "      <td>NaN</td>\n",
       "      <td>NaN</td>\n",
       "      <td>0</td>\n",
       "      <td>2</td>\n",
       "      <td>2006</td>\n",
       "      <td>WD</td>\n",
       "      <td>Abnorml</td>\n",
       "      <td>140000</td>\n",
       "    </tr>\n",
       "    <tr>\n",
       "      <th>4</th>\n",
       "      <td>5</td>\n",
       "      <td>60</td>\n",
       "      <td>RL</td>\n",
       "      <td>84.0</td>\n",
       "      <td>14260</td>\n",
       "      <td>Pave</td>\n",
       "      <td>NaN</td>\n",
       "      <td>IR1</td>\n",
       "      <td>Lvl</td>\n",
       "      <td>AllPub</td>\n",
       "      <td>...</td>\n",
       "      <td>0</td>\n",
       "      <td>NaN</td>\n",
       "      <td>NaN</td>\n",
       "      <td>NaN</td>\n",
       "      <td>0</td>\n",
       "      <td>12</td>\n",
       "      <td>2008</td>\n",
       "      <td>WD</td>\n",
       "      <td>Normal</td>\n",
       "      <td>250000</td>\n",
       "    </tr>\n",
       "  </tbody>\n",
       "</table>\n",
       "<p>5 rows × 81 columns</p>\n",
       "</div>"
      ],
      "text/plain": [
       "   Id  MSSubClass MSZoning  LotFrontage  LotArea Street Alley LotShape  \\\n",
       "0   1          60       RL         65.0     8450   Pave   NaN      Reg   \n",
       "1   2          20       RL         80.0     9600   Pave   NaN      Reg   \n",
       "2   3          60       RL         68.0    11250   Pave   NaN      IR1   \n",
       "3   4          70       RL         60.0     9550   Pave   NaN      IR1   \n",
       "4   5          60       RL         84.0    14260   Pave   NaN      IR1   \n",
       "\n",
       "  LandContour Utilities  ... PoolArea PoolQC Fence MiscFeature MiscVal MoSold  \\\n",
       "0         Lvl    AllPub  ...        0    NaN   NaN         NaN       0      2   \n",
       "1         Lvl    AllPub  ...        0    NaN   NaN         NaN       0      5   \n",
       "2         Lvl    AllPub  ...        0    NaN   NaN         NaN       0      9   \n",
       "3         Lvl    AllPub  ...        0    NaN   NaN         NaN       0      2   \n",
       "4         Lvl    AllPub  ...        0    NaN   NaN         NaN       0     12   \n",
       "\n",
       "  YrSold  SaleType  SaleCondition  SalePrice  \n",
       "0   2008        WD         Normal     208500  \n",
       "1   2007        WD         Normal     181500  \n",
       "2   2008        WD         Normal     223500  \n",
       "3   2006        WD        Abnorml     140000  \n",
       "4   2008        WD         Normal     250000  \n",
       "\n",
       "[5 rows x 81 columns]"
      ]
     },
     "execution_count": 2,
     "metadata": {},
     "output_type": "execute_result"
    }
   ],
   "source": [
    "# train=pd.read_csv('/kaggle/input/ames-housing-dataset/AmesHousing.csv')\n",
    "test =pd.read_csv('./dataset/test.csv')\n",
    "train=pd.read_csv('./dataset/train.csv')\n",
    "sample_submission = pd.read_csv('./dataset/sample_submission.csv')\n",
    "pseudo = pd.read_csv('./lkh_017.csv')\n",
    "train.head()"
   ]
  },
  {
   "cell_type": "code",
   "execution_count": 3,
   "id": "familiar-great",
   "metadata": {
    "id": "familiar-great",
    "outputId": "c627c8ee-9ba7-411c-e0f2-9cb33052f8b2"
   },
   "outputs": [
    {
     "data": {
      "text/plain": [
       "((1460, 81), (1459, 80))"
      ]
     },
     "execution_count": 3,
     "metadata": {},
     "output_type": "execute_result"
    }
   ],
   "source": [
    "train.shape, test.shape"
   ]
  },
  {
   "cell_type": "code",
   "execution_count": 4,
   "id": "attempted-hunger",
   "metadata": {
    "id": "attempted-hunger"
   },
   "outputs": [],
   "source": [
    "train.drop(\"Id\", axis = 1, inplace = True)\n",
    "test.drop(\"Id\", axis = 1, inplace = True)"
   ]
  },
  {
   "cell_type": "code",
   "execution_count": 5,
   "id": "informative-casino",
   "metadata": {
    "id": "informative-casino"
   },
   "outputs": [],
   "source": [
    "test['SalePrice'] = pseudo['SalePrice']"
   ]
  },
  {
   "cell_type": "code",
   "execution_count": 6,
   "id": "flying-imperial",
   "metadata": {
    "id": "flying-imperial",
    "outputId": "123a05cc-67d0-4dd1-c186-e07f1f67a040"
   },
   "outputs": [
    {
     "data": {
      "text/plain": [
       "<seaborn.axisgrid.PairGrid at 0x1d08c7ae160>"
      ]
     },
     "execution_count": 6,
     "metadata": {},
     "output_type": "execute_result"
    },
    {
     "data": {
      "image/png": "[encoded data removed]",
      "text/plain": [
       "<Figure size 360x360 with 6 Axes>"
      ]
     },
     "metadata": {
      "needs_background": "light"
     },
     "output_type": "display_data"
    }
   ],
   "source": [
    "sns.pairplot(train[[\"SalePrice\", 'GrLivArea']])"
   ]
  },
  {
   "cell_type": "code",
   "execution_count": 7,
   "id": "resident-uncle",
   "metadata": {
    "id": "resident-uncle"
   },
   "outputs": [],
   "source": [
    "train = train.drop(train[(train['GrLivArea']>4000) & (train['SalePrice']<300000)].index)"
   ]
  },
  {
   "cell_type": "code",
   "execution_count": 8,
   "id": "micro-assignment",
   "metadata": {
    "id": "micro-assignment",
    "outputId": "07f869ac-3518-4422-b80e-e90a5f3fc92c"
   },
   "outputs": [
    {
     "data": {
      "text/plain": [
       "(2917, 79)"
      ]
     },
     "execution_count": 8,
     "metadata": {},
     "output_type": "execute_result"
    }
   ],
   "source": [
    "train_number = train.shape[0]\n",
    "test_number = test.shape[0]\n",
    "full_data = pd.concat((train, test)).reset_index(drop=True)\n",
    "y = full_data.SalePrice.values\n",
    "full_data.drop(['SalePrice'], axis=1, inplace=True)\n",
    "full_data.shape"
   ]
  },
  {
   "cell_type": "code",
   "execution_count": 9,
   "id": "generous-fraud",
   "metadata": {
    "id": "generous-fraud"
   },
   "outputs": [],
   "source": [
    "full_data[\"PoolQC\"] = full_data[\"PoolQC\"].fillna(\"None\")\n",
    "full_data[\"MiscFeature\"] = full_data[\"MiscFeature\"].fillna(\"None\")\n",
    "full_data[\"Alley\"] = full_data[\"Alley\"].fillna(\"None\")\n",
    "full_data[\"Fence\"] = full_data[\"Fence\"].fillna(\"None\")\n",
    "full_data[\"FireplaceQu\"] = full_data[\"FireplaceQu\"].fillna(\"None\")\n",
    "full_data['MSSubClass'] = full_data['MSSubClass'].fillna(\"None\")\n",
    "full_data[\"Functional\"] = full_data[\"Functional\"].fillna(\"Typ\")\n",
    "full_data[\"MasVnrType\"] = full_data[\"MasVnrType\"].fillna(\"None\")\n",
    "full_data[\"MasVnrArea\"] = full_data[\"MasVnrArea\"].fillna(0)\n",
    "\n",
    "for col in ('GarageType', 'GarageFinish', 'GarageQual', 'GarageCond'):\n",
    "    full_data[col] = full_data[col].fillna('None')\n",
    "    \n",
    "for col in ('GarageYrBlt', 'GarageArea', 'GarageCars'):\n",
    "    full_data[col] = full_data[col].fillna(0)\n",
    "    \n",
    "for col in ('BsmtFinSF1', 'BsmtFinSF2', 'BsmtUnfSF','TotalBsmtSF', 'BsmtFullBath', 'BsmtHalfBath'):\n",
    "    full_data[col] = full_data[col].fillna(0)\n",
    "    \n",
    "for col in ('BsmtQual', 'BsmtCond', 'BsmtExposure', 'BsmtFinType1', 'BsmtFinType2'):\n",
    "    full_data[col] = full_data[col].fillna('None')\n",
    "\n",
    "#LotFrontage: Fill in missing values by the median LotFrontage of the neighborhood.\n",
    "full_data[\"LotFrontage\"] = full_data.groupby(\"Neighborhood\")[\"LotFrontage\"].transform(lambda x: x.fillna(x.median()))\n",
    "\n",
    "\n",
    "full_data['MSZoning'] = full_data['MSZoning'].fillna(full_data['MSZoning'].mode()[0])\n",
    "full_data['Electrical'] = full_data['Electrical'].fillna(full_data['Electrical'].mode()[0])\n",
    "full_data['KitchenQual'] = full_data['KitchenQual'].fillna(full_data['KitchenQual'].mode()[0])\n",
    "full_data['Exterior1st'] = full_data['Exterior1st'].fillna(full_data['Exterior1st'].mode()[0])\n",
    "full_data['Exterior2nd'] = full_data['Exterior2nd'].fillna(full_data['Exterior2nd'].mode()[0])\n",
    "full_data['SaleType'] = full_data['SaleType'].fillna(full_data['SaleType'].mode()[0])\n",
    "\n",
    "full_data = full_data.drop(['Utilities'], axis=1)"
   ]
  },
  {
   "cell_type": "code",
   "execution_count": 10,
   "id": "appropriate-holly",
   "metadata": {
    "id": "appropriate-holly"
   },
   "outputs": [],
   "source": [
    "from sklearn.preprocessing import LabelEncoder"
   ]
  },
  {
   "cell_type": "code",
   "execution_count": 11,
   "id": "educational-exclusive",
   "metadata": {
    "id": "educational-exclusive"
   },
   "outputs": [],
   "source": [
    "full_data['MSSubClass'] = full_data['MSSubClass'].apply(str)\n",
    "full_data['OverallCond'] = full_data['OverallCond'].astype(str)\n",
    "full_data['YrSold'] = full_data['YrSold'].astype(str)\n",
    "full_data['MoSold'] = full_data['MoSold'].astype(str)\n",
    "\n",
    "cols = ('FireplaceQu', 'BsmtQual', 'BsmtCond', 'GarageQual', 'GarageCond', \n",
    "        'ExterQual', 'ExterCond','HeatingQC', 'PoolQC', 'KitchenQual', 'BsmtFinType1', \n",
    "        'BsmtFinType2', 'Functional', 'Fence', 'BsmtExposure', 'GarageFinish', 'LandSlope',\n",
    "        'LotShape', 'PavedDrive', 'Street', 'Alley', 'CentralAir', 'MSSubClass', 'OverallCond', \n",
    "        'YrSold', 'MoSold')\n",
    "\n",
    "for c in cols:\n",
    "    enc = LabelEncoder() \n",
    "    enc.fit(list(full_data[c].values)) \n",
    "    full_data[c] = enc.transform(list(full_data[c].values))"
   ]
  },
  {
   "cell_type": "code",
   "execution_count": 12,
   "id": "choice-garden",
   "metadata": {
    "id": "choice-garden"
   },
   "outputs": [],
   "source": [
    "full_data['TotalSF'] = full_data['TotalBsmtSF'] + full_data['1stFlrSF'] + full_data['2ndFlrSF']"
   ]
  },
  {
   "cell_type": "code",
   "execution_count": 13,
   "id": "alone-parent",
   "metadata": {
    "id": "alone-parent"
   },
   "outputs": [],
   "source": [
    "full_data = pd.get_dummies(full_data)"
   ]
  },
  {
   "cell_type": "code",
   "execution_count": 14,
   "id": "turkish-nerve",
   "metadata": {
    "id": "turkish-nerve",
    "outputId": "36dc23b1-a32f-4e9a-e9b8-7e4d30ca6d26"
   },
   "outputs": [
    {
     "data": {
      "text/plain": [
       "(2917, 220)"
      ]
     },
     "execution_count": 14,
     "metadata": {},
     "output_type": "execute_result"
    }
   ],
   "source": [
    "full_data.shape"
   ]
  },
  {
   "cell_type": "code",
   "execution_count": null,
   "id": "color-export",
   "metadata": {
    "id": "color-export"
   },
   "outputs": [],
   "source": []
  },
  {
   "cell_type": "code",
   "execution_count": 15,
   "id": "oriented-center",
   "metadata": {
    "id": "oriented-center"
   },
   "outputs": [],
   "source": [
    "test = full_data[train_number:]"
   ]
  },
  {
   "cell_type": "code",
   "execution_count": 16,
   "id": "constant-stevens",
   "metadata": {
    "id": "constant-stevens",
    "outputId": "01cae433-dce8-476c-9513-b874c97e6e38"
   },
   "outputs": [
    {
     "data": {
      "text/html": [
       "<div>\n",
       "<style scoped>\n",
       "    .dataframe tbody tr th:only-of-type {\n",
       "        vertical-align: middle;\n",
       "    }\n",
       "\n",
       "    .dataframe tbody tr th {\n",
       "        vertical-align: top;\n",
       "    }\n",
       "\n",
       "    .dataframe thead th {\n",
       "        text-align: right;\n",
       "    }\n",
       "</style>\n",
       "<table border=\"1\" class=\"dataframe\">\n",
       "  <thead>\n",
       "    <tr style=\"text-align: right;\">\n",
       "      <th></th>\n",
       "      <th>MSSubClass</th>\n",
       "      <th>LotFrontage</th>\n",
       "      <th>LotArea</th>\n",
       "      <th>Street</th>\n",
       "      <th>Alley</th>\n",
       "      <th>LotShape</th>\n",
       "      <th>LandSlope</th>\n",
       "      <th>OverallQual</th>\n",
       "      <th>OverallCond</th>\n",
       "      <th>YearBuilt</th>\n",
       "      <th>...</th>\n",
       "      <th>SaleType_ConLw</th>\n",
       "      <th>SaleType_New</th>\n",
       "      <th>SaleType_Oth</th>\n",
       "      <th>SaleType_WD</th>\n",
       "      <th>SaleCondition_Abnorml</th>\n",
       "      <th>SaleCondition_AdjLand</th>\n",
       "      <th>SaleCondition_Alloca</th>\n",
       "      <th>SaleCondition_Family</th>\n",
       "      <th>SaleCondition_Normal</th>\n",
       "      <th>SaleCondition_Partial</th>\n",
       "    </tr>\n",
       "  </thead>\n",
       "  <tbody>\n",
       "    <tr>\n",
       "      <th>1458</th>\n",
       "      <td>5</td>\n",
       "      <td>80.0</td>\n",
       "      <td>11622</td>\n",
       "      <td>1</td>\n",
       "      <td>1</td>\n",
       "      <td>3</td>\n",
       "      <td>0</td>\n",
       "      <td>5</td>\n",
       "      <td>5</td>\n",
       "      <td>1961</td>\n",
       "      <td>...</td>\n",
       "      <td>0</td>\n",
       "      <td>0</td>\n",
       "      <td>0</td>\n",
       "      <td>1</td>\n",
       "      <td>0</td>\n",
       "      <td>0</td>\n",
       "      <td>0</td>\n",
       "      <td>0</td>\n",
       "      <td>1</td>\n",
       "      <td>0</td>\n",
       "    </tr>\n",
       "    <tr>\n",
       "      <th>1459</th>\n",
       "      <td>5</td>\n",
       "      <td>81.0</td>\n",
       "      <td>14267</td>\n",
       "      <td>1</td>\n",
       "      <td>1</td>\n",
       "      <td>0</td>\n",
       "      <td>0</td>\n",
       "      <td>6</td>\n",
       "      <td>5</td>\n",
       "      <td>1958</td>\n",
       "      <td>...</td>\n",
       "      <td>0</td>\n",
       "      <td>0</td>\n",
       "      <td>0</td>\n",
       "      <td>1</td>\n",
       "      <td>0</td>\n",
       "      <td>0</td>\n",
       "      <td>0</td>\n",
       "      <td>0</td>\n",
       "      <td>1</td>\n",
       "      <td>0</td>\n",
       "    </tr>\n",
       "    <tr>\n",
       "      <th>1460</th>\n",
       "      <td>10</td>\n",
       "      <td>74.0</td>\n",
       "      <td>13830</td>\n",
       "      <td>1</td>\n",
       "      <td>1</td>\n",
       "      <td>0</td>\n",
       "      <td>0</td>\n",
       "      <td>5</td>\n",
       "      <td>4</td>\n",
       "      <td>1997</td>\n",
       "      <td>...</td>\n",
       "      <td>0</td>\n",
       "      <td>0</td>\n",
       "      <td>0</td>\n",
       "      <td>1</td>\n",
       "      <td>0</td>\n",
       "      <td>0</td>\n",
       "      <td>0</td>\n",
       "      <td>0</td>\n",
       "      <td>1</td>\n",
       "      <td>0</td>\n",
       "    </tr>\n",
       "    <tr>\n",
       "      <th>1461</th>\n",
       "      <td>10</td>\n",
       "      <td>78.0</td>\n",
       "      <td>9978</td>\n",
       "      <td>1</td>\n",
       "      <td>1</td>\n",
       "      <td>0</td>\n",
       "      <td>0</td>\n",
       "      <td>6</td>\n",
       "      <td>5</td>\n",
       "      <td>1998</td>\n",
       "      <td>...</td>\n",
       "      <td>0</td>\n",
       "      <td>0</td>\n",
       "      <td>0</td>\n",
       "      <td>1</td>\n",
       "      <td>0</td>\n",
       "      <td>0</td>\n",
       "      <td>0</td>\n",
       "      <td>0</td>\n",
       "      <td>1</td>\n",
       "      <td>0</td>\n",
       "    </tr>\n",
       "    <tr>\n",
       "      <th>1462</th>\n",
       "      <td>0</td>\n",
       "      <td>43.0</td>\n",
       "      <td>5005</td>\n",
       "      <td>1</td>\n",
       "      <td>1</td>\n",
       "      <td>0</td>\n",
       "      <td>0</td>\n",
       "      <td>8</td>\n",
       "      <td>4</td>\n",
       "      <td>1992</td>\n",
       "      <td>...</td>\n",
       "      <td>0</td>\n",
       "      <td>0</td>\n",
       "      <td>0</td>\n",
       "      <td>1</td>\n",
       "      <td>0</td>\n",
       "      <td>0</td>\n",
       "      <td>0</td>\n",
       "      <td>0</td>\n",
       "      <td>1</td>\n",
       "      <td>0</td>\n",
       "    </tr>\n",
       "  </tbody>\n",
       "</table>\n",
       "<p>5 rows × 220 columns</p>\n",
       "</div>"
      ],
      "text/plain": [
       "      MSSubClass  LotFrontage  LotArea  Street  Alley  LotShape  LandSlope  \\\n",
       "1458           5         80.0    11622       1      1         3          0   \n",
       "1459           5         81.0    14267       1      1         0          0   \n",
       "1460          10         74.0    13830       1      1         0          0   \n",
       "1461          10         78.0     9978       1      1         0          0   \n",
       "1462           0         43.0     5005       1      1         0          0   \n",
       "\n",
       "      OverallQual  OverallCond  YearBuilt  ...  SaleType_ConLw  SaleType_New  \\\n",
       "1458            5            5       1961  ...               0             0   \n",
       "1459            6            5       1958  ...               0             0   \n",
       "1460            5            4       1997  ...               0             0   \n",
       "1461            6            5       1998  ...               0             0   \n",
       "1462            8            4       1992  ...               0             0   \n",
       "\n",
       "      SaleType_Oth  SaleType_WD  SaleCondition_Abnorml  SaleCondition_AdjLand  \\\n",
       "1458             0            1                      0                      0   \n",
       "1459             0            1                      0                      0   \n",
       "1460             0            1                      0                      0   \n",
       "1461             0            1                      0                      0   \n",
       "1462             0            1                      0                      0   \n",
       "\n",
       "      SaleCondition_Alloca  SaleCondition_Family  SaleCondition_Normal  \\\n",
       "1458                     0                     0                     1   \n",
       "1459                     0                     0                     1   \n",
       "1460                     0                     0                     1   \n",
       "1461                     0                     0                     1   \n",
       "1462                     0                     0                     1   \n",
       "\n",
       "      SaleCondition_Partial  \n",
       "1458                      0  \n",
       "1459                      0  \n",
       "1460                      0  \n",
       "1461                      0  \n",
       "1462                      0  \n",
       "\n",
       "[5 rows x 220 columns]"
      ]
     },
     "execution_count": 16,
     "metadata": {},
     "output_type": "execute_result"
    }
   ],
   "source": [
    "test.head()"
   ]
  },
  {
   "cell_type": "code",
   "execution_count": null,
   "id": "cooperative-panic",
   "metadata": {
    "id": "cooperative-panic"
   },
   "outputs": [],
   "source": []
  },
  {
   "cell_type": "markdown",
   "id": "bigger-customs",
   "metadata": {
    "id": "bigger-customs"
   },
   "source": [
    "## Installing Intel(R) Extension for Scikit-learn\n",
    "Use Intel® Extension for Scikit-learn* for fast compute Scikit-learn estimators.\n"
   ]
  },
  {
   "cell_type": "code",
   "execution_count": 17,
   "id": "demographic-contribution",
   "metadata": {
    "id": "demographic-contribution"
   },
   "outputs": [],
   "source": [
    "# !pip install scikit-learn-intelex -q --progress-bar off\n",
    "# ! pip install optuna"
   ]
  },
  {
   "cell_type": "code",
   "execution_count": 18,
   "id": "excessive-savannah",
   "metadata": {
    "id": "excessive-savannah",
    "outputId": "2a0f00b5-10f1-49bc-f80f-9ea37c789777"
   },
   "outputs": [],
   "source": [
    "# from sklearnex import patch_sklearn\n",
    "# patch_sklearn()"
   ]
  },
  {
   "cell_type": "code",
   "execution_count": null,
   "id": "located-horizontal",
   "metadata": {
    "id": "located-horizontal"
   },
   "outputs": [],
   "source": []
  },
  {
   "cell_type": "code",
   "execution_count": 19,
   "id": "blank-japanese",
   "metadata": {
    "id": "blank-japanese"
   },
   "outputs": [],
   "source": [
    "from sklearn.model_selection import train_test_split\n",
    "x_train, x_val, y_train, y_val = train_test_split(full_data, y, test_size = 0.1, random_state=0)"
   ]
  },
  {
   "cell_type": "code",
   "execution_count": 20,
   "id": "sacred-chorus",
   "metadata": {
    "id": "sacred-chorus"
   },
   "outputs": [],
   "source": [
    "from sklearn.preprocessing import StandardScaler, MinMaxScaler\n",
    "scaler_x = MinMaxScaler()\n",
    "scaler_y = StandardScaler()\n",
    "\n",
    "scaler_x.fit(x_train)\n",
    "x_train = scaler_x.transform(x_train)\n",
    "x_val = scaler_x.transform(x_val)\n",
    "test = scaler_x.transform(test)\n",
    "\n",
    "scaler_y.fit(y_train.reshape(-1, 1))\n",
    "y_train = scaler_y.transform(y_train.reshape(-1, 1)).ravel()\n",
    "y_val = scaler_y.transform(y_val.reshape(-1, 1)).ravel()"
   ]
  },
  {
   "cell_type": "code",
   "execution_count": null,
   "id": "choice-lighting",
   "metadata": {
    "id": "choice-lighting"
   },
   "outputs": [],
   "source": []
  },
  {
   "cell_type": "code",
   "execution_count": 21,
   "id": "pleased-least",
   "metadata": {
    "id": "pleased-least",
    "outputId": "8ef08011-d561-4526-f669-97f1542077e0"
   },
   "outputs": [],
   "source": [
    "# from sklearnex import patch_sklearn\n",
    "# patch_sklearn()"
   ]
  },
  {
   "cell_type": "code",
   "execution_count": null,
   "id": "informational-improvement",
   "metadata": {
    "id": "informational-improvement"
   },
   "outputs": [],
   "source": []
  },
  {
   "cell_type": "code",
   "execution_count": 22,
   "id": "prospective-associate",
   "metadata": {
    "id": "prospective-associate"
   },
   "outputs": [],
   "source": [
    "x_train, x_val, y_train, y_val = train_test_split(full_data, y, test_size = 0.1, random_state=0)\n",
    "from sklearn.preprocessing import StandardScaler, MinMaxScaler\n",
    "scaler_x = MinMaxScaler()\n",
    "scaler_y = StandardScaler()\n",
    "\n",
    "scaler_x.fit(x_train)\n",
    "x_train = scaler_x.transform(x_train)\n",
    "x_val = scaler_x.transform(x_val)\n",
    "test = scaler_x.transform(test)\n",
    "\n",
    "scaler_y.fit(y_train.reshape(-1, 1))\n",
    "y_train = scaler_y.transform(y_train.reshape(-1, 1)).ravel()\n",
    "y_val = scaler_y.transform(y_val.reshape(-1, 1)).ravel()"
   ]
  },
  {
   "cell_type": "code",
   "execution_count": null,
   "id": "passive-bulletin",
   "metadata": {
    "id": "passive-bulletin"
   },
   "outputs": [],
   "source": []
  },
  {
   "cell_type": "markdown",
   "id": "twenty-shepherd",
   "metadata": {
    "id": "twenty-shepherd"
   },
   "source": [
    "## optuna\n",
    "* ref : https://pypi.org/project/optuna/"
   ]
  },
  {
   "cell_type": "markdown",
   "id": "junior-panel",
   "metadata": {
    "id": "junior-panel"
   },
   "source": [
    "## Using optuna to select parameters for nuSVR\n",
    "Support vector machines (SVMs) are a set of supervised learning methods used for classification, regression and outliers detection. The advantage of support vector machines is effective in high dimensional spaces.\n",
    "\n",
    "NuSVR similar to SVR, but uses a parameter nu to control the number of support vectors. Nu replaces the parameter epsilon of epsilon-SVR"
   ]
  },
  {
   "cell_type": "markdown",
   "id": "union-andrews",
   "metadata": {
    "id": "union-andrews"
   },
   "source": [
    "\n",
    "\n",
    "Parameters that we select:\n",
    "* C - Parameter inverse to the regularization coefficient\n",
    "* nu - An upper bound on the fraction of training errors and a lower bound of the fraction of support vectors."
   ]
  },
  {
   "cell_type": "code",
   "execution_count": 23,
   "id": "distinct-render",
   "metadata": {
    "colab": {
     "base_uri": "https://localhost:8080/",
     "height": 398
    },
    "executionInfo": {
     "elapsed": 1226,
     "status": "error",
     "timestamp": 1631868108847,
     "user": {
      "displayName": "OPENCV KOREA",
      "photoUrl": "https://lh3.googleusercontent.com/a-/AOh14Gh-sYai9Y0N7wo7S5CEsrjZoO8HPeGyPip02Htf=s64",
      "userId": "03832798034950049293"
     },
     "user_tz": -540
    },
    "id": "distinct-render",
    "outputId": "11f849aa-4eec-4c8a-d4bc-1832f2446508"
   },
   "outputs": [],
   "source": [
    "from sklearn.svm import NuSVR\n",
    "from sklearn.metrics import mean_squared_error\n",
    "import optuna\n",
    "def objective_svr(trial):\n",
    "    params ={\n",
    "        'C': trial.suggest_float('C', 0.0001, 5.0),\n",
    "        'nu':  trial.suggest_float('nu', 0.0, 1.0),\n",
    "    }\n",
    "    model = NuSVR(**params).fit(x_train, y_train)\n",
    "    y_pred = model.predict(x_val)\n",
    "    loss = np.sqrt(mean_squared_error(y_val, y_pred))\n",
    "    return loss"
   ]
  },
  {
   "cell_type": "code",
   "execution_count": 24,
   "id": "working-difficulty",
   "metadata": {
    "executionInfo": {
     "elapsed": 16,
     "status": "aborted",
     "timestamp": 1631868108833,
     "user": {
      "displayName": "OPENCV KOREA",
      "photoUrl": "https://lh3.googleusercontent.com/a-/AOh14Gh-sYai9Y0N7wo7S5CEsrjZoO8HPeGyPip02Htf=s64",
      "userId": "03832798034950049293"
     },
     "user_tz": -540
    },
    "id": "working-difficulty"
   },
   "outputs": [
    {
     "name": "stderr",
     "output_type": "stream",
     "text": [
      "\u001b[32m[I 2021-09-23 18:16:24,382]\u001b[0m A new study created in memory with name: no-name-1b3a718f-f20b-4e1d-8c59-79efafce9d69\u001b[0m\n"
     ]
    }
   ],
   "source": [
    "study = optuna.create_study(sampler=optuna.samplers.TPESampler(seed=123),\n",
    "                            direction=\"minimize\",\n",
    "                            pruner=optuna.pruners.HyperbandPruner())"
   ]
  },
  {
   "cell_type": "code",
   "execution_count": null,
   "id": "located-bhutan",
   "metadata": {
    "executionInfo": {
     "elapsed": 16,
     "status": "aborted",
     "timestamp": 1631868108834,
     "user": {
      "displayName": "OPENCV KOREA",
      "photoUrl": "https://lh3.googleusercontent.com/a-/AOh14Gh-sYai9Y0N7wo7S5CEsrjZoO8HPeGyPip02Htf=s64",
      "userId": "03832798034950049293"
     },
     "user_tz": -540
    },
    "id": "located-bhutan"
   },
   "outputs": [
    {
     "name": "stderr",
     "output_type": "stream",
     "text": [
      "\u001b[32m[I 2021-09-23 18:16:26,454]\u001b[0m Trial 0 finished with value: 0.17372426988531403 and parameters: {'C': 3.482376281070749, 'nu': 0.28613933495037946}. Best is trial 0 with value: 0.17372426988531403.\u001b[0m\n",
      "\u001b[32m[I 2021-09-23 18:16:28,241]\u001b[0m Trial 1 finished with value: 0.18239008088731795 and parameters: {'C': 1.1343345826756592, 'nu': 0.5513147690828912}. Best is trial 0 with value: 0.17372426988531403.\u001b[0m\n",
      "\u001b[32m[I 2021-09-23 18:16:30,425]\u001b[0m Trial 2 finished with value: 0.16754238734164628 and parameters: {'C': 3.597372902030837, 'nu': 0.42310646012446096}. Best is trial 2 with value: 0.16754238734164628.\u001b[0m\n",
      "\u001b[32m[I 2021-09-23 18:16:36,260]\u001b[0m Trial 3 finished with value: 0.16778619002598527 and parameters: {'C': 4.903822915503239, 'nu': 0.6848297385848633}. Best is trial 2 with value: 0.16754238734164628.\u001b[0m\n",
      "\u001b[32m[I 2021-09-23 18:16:38,186]\u001b[0m Trial 4 finished with value: 0.17191385423389668 and parameters: {'C': 2.4047114142316564, 'nu': 0.3921175181941505}. Best is trial 2 with value: 0.16754238734164628.\u001b[0m\n",
      "\u001b[32m[I 2021-09-23 18:16:41,246]\u001b[0m Trial 5 finished with value: 0.17586619489825908 and parameters: {'C': 1.715955762952732, 'nu': 0.7290497073840416}. Best is trial 2 with value: 0.16754238734164628.\u001b[0m\n",
      "\u001b[32m[I 2021-09-23 18:16:41,615]\u001b[0m Trial 6 finished with value: 0.22855071266269278 and parameters: {'C': 2.1929173661736545, 'nu': 0.05967789660956835}. Best is trial 2 with value: 0.16754238734164628.\u001b[0m\n",
      "\u001b[32m[I 2021-09-23 18:16:45,581]\u001b[0m Trial 7 finished with value: 0.17432491328944805 and parameters: {'C': 1.9902814722266242, 'nu': 0.7379954057320357}. Best is trial 2 with value: 0.16754238734164628.\u001b[0m\n",
      "\u001b[32m[I 2021-09-23 18:16:46,231]\u001b[0m Trial 8 finished with value: 0.21626874497034707 and parameters: {'C': 0.9125404030944546, 'nu': 0.17545175614749253}. Best is trial 2 with value: 0.16754238734164628.\u001b[0m\n",
      "\u001b[32m[I 2021-09-23 18:16:49,074]\u001b[0m Trial 9 finished with value: 0.16769520350991252 and parameters: {'C': 2.657803714071808, 'nu': 0.5318275870968661}. Best is trial 2 with value: 0.16754238734164628.\u001b[0m\n",
      "\u001b[32m[I 2021-09-23 18:16:52,951]\u001b[0m Trial 10 finished with value: 0.1670276116620884 and parameters: {'C': 4.295902379881011, 'nu': 0.9856957735634282}. Best is trial 10 with value: 0.1670276116620884.\u001b[0m\n",
      "\u001b[32m[I 2021-09-23 18:16:57,026]\u001b[0m Trial 11 finished with value: 0.16697230203082236 and parameters: {'C': 4.259048367780852, 'nu': 0.9593339288661442}. Best is trial 11 with value: 0.16697230203082236.\u001b[0m\n",
      "\u001b[32m[I 2021-09-23 18:17:01,210]\u001b[0m Trial 12 finished with value: 0.16783482140513736 and parameters: {'C': 4.9405436357267085, 'nu': 0.9687485406819452}. Best is trial 11 with value: 0.16697230203082236.\u001b[0m\n",
      "\u001b[32m[I 2021-09-23 18:17:04,877]\u001b[0m Trial 13 finished with value: 0.16663108534096382 and parameters: {'C': 3.9688455460434415, 'nu': 0.9848233863258056}. Best is trial 13 with value: 0.16663108534096382.\u001b[0m\n",
      "\u001b[32m[I 2021-09-23 18:17:09,006]\u001b[0m Trial 14 finished with value: 0.16649336486803043 and parameters: {'C': 3.5805032011366587, 'nu': 0.8425070321267287}. Best is trial 14 with value: 0.16649336486803043.\u001b[0m\n",
      "\u001b[32m[I 2021-09-23 18:17:12,645]\u001b[0m Trial 15 finished with value: 0.1675590522392909 and parameters: {'C': 3.0932063421012392, 'nu': 0.8391009832497824}. Best is trial 14 with value: 0.16649336486803043.\u001b[0m\n",
      "\u001b[32m[I 2021-09-23 18:17:16,507]\u001b[0m Trial 16 finished with value: 0.16670564705754923 and parameters: {'C': 4.063989681944426, 'nu': 0.8331009689647798}. Best is trial 14 with value: 0.16649336486803043.\u001b[0m\n",
      "\u001b[32m[I 2021-09-23 18:17:17,672]\u001b[0m Trial 17 finished with value: 0.29152273231784415 and parameters: {'C': 0.14771028216606563, 'nu': 0.84694656680508}. Best is trial 14 with value: 0.16649336486803043.\u001b[0m\n",
      "\u001b[32m[I 2021-09-23 18:17:23,186]\u001b[0m Trial 18 finished with value: 0.1679115428894386 and parameters: {'C': 2.976824805900634, 'nu': 0.6412809536456234}. Best is trial 14 with value: 0.16649336486803043.\u001b[0m\n",
      "\u001b[32m[I 2021-09-23 18:17:26,661]\u001b[0m Trial 19 finished with value: 0.166459204258147 and parameters: {'C': 3.626597193740997, 'nu': 0.883085308884646}. Best is trial 19 with value: 0.166459204258147.\u001b[0m\n",
      "\u001b[32m[I 2021-09-23 18:17:30,193]\u001b[0m Trial 20 finished with value: 0.16679059745137784 and parameters: {'C': 3.3821554525649455, 'nu': 0.8550013235520244}. Best is trial 19 with value: 0.166459204258147.\u001b[0m\n",
      "\u001b[32m[I 2021-09-23 18:17:33,685]\u001b[0m Trial 21 finished with value: 0.16651020595181898 and parameters: {'C': 3.8140910473096747, 'nu': 0.8938022161849828}. Best is trial 19 with value: 0.166459204258147.\u001b[0m\n",
      "\u001b[32m[I 2021-09-23 18:17:37,570]\u001b[0m Trial 22 finished with value: 0.16721498414941505 and parameters: {'C': 4.437904517574085, 'nu': 0.8887798623562675}. Best is trial 19 with value: 0.166459204258147.\u001b[0m\n",
      "\u001b[32m[I 2021-09-23 18:17:44,180]\u001b[0m Trial 23 finished with value: 0.16644796139424556 and parameters: {'C': 3.762456374700881, 'nu': 0.6156136946805388}. Best is trial 23 with value: 0.16644796139424556.\u001b[0m\n",
      "\u001b[32m[I 2021-09-23 18:17:47,936]\u001b[0m Trial 24 finished with value: 0.16732190024539983 and parameters: {'C': 2.9324403296863752, 'nu': 0.6036745443250386}. Best is trial 23 with value: 0.16644796139424556.\u001b[0m\n",
      "\u001b[32m[I 2021-09-23 18:17:52,806]\u001b[0m Trial 25 finished with value: 0.1669404201380208 and parameters: {'C': 3.297569509966356, 'nu': 0.7841967550083748}. Best is trial 23 with value: 0.16644796139424556.\u001b[0m\n",
      "\u001b[32m[I 2021-09-23 18:17:55,764]\u001b[0m Trial 26 finished with value: 0.16672855226871205 and parameters: {'C': 3.758074288086301, 'nu': 0.45942875581386444}. Best is trial 23 with value: 0.16644796139424556.\u001b[0m\n",
      "\u001b[32m[I 2021-09-23 18:18:03,362]\u001b[0m Trial 27 finished with value: 0.167285838863909 and parameters: {'C': 4.5084781531417155, 'nu': 0.6197154327635653}. Best is trial 23 with value: 0.16644796139424556.\u001b[0m\n",
      "\u001b[32m[I 2021-09-23 18:18:07,640]\u001b[0m Trial 28 finished with value: 0.16981024908277925 and parameters: {'C': 2.6479680680699884, 'nu': 0.7165106451122871}. Best is trial 23 with value: 0.16644796139424556.\u001b[0m\n",
      "\u001b[32m[I 2021-09-23 18:18:09,459]\u001b[0m Trial 29 finished with value: 0.1704986328996284 and parameters: {'C': 3.488878863459785, 'nu': 0.33845531865600786}. Best is trial 23 with value: 0.16644796139424556.\u001b[0m\n",
      "\u001b[32m[I 2021-09-23 18:18:13,608]\u001b[0m Trial 30 finished with value: 0.1675211994137463 and parameters: {'C': 3.09551331173002, 'nu': 0.7703427390006918}. Best is trial 23 with value: 0.16644796139424556.\u001b[0m\n",
      "\u001b[32m[I 2021-09-23 18:18:17,682]\u001b[0m Trial 31 finished with value: 0.1665275132945218 and parameters: {'C': 3.8596907343405187, 'nu': 0.9029475819662857}. Best is trial 23 with value: 0.16644796139424556.\u001b[0m\n",
      "\u001b[32m[I 2021-09-23 18:18:21,184]\u001b[0m Trial 32 finished with value: 0.16647202937748834 and parameters: {'C': 3.6264498844961883, 'nu': 0.9159175824975797}. Best is trial 23 with value: 0.16644796139424556.\u001b[0m\n",
      "\u001b[32m[I 2021-09-23 18:18:26,331]\u001b[0m Trial 33 finished with value: 0.16746540122487208 and parameters: {'C': 4.623092728121896, 'nu': 0.784219747529362}. Best is trial 23 with value: 0.16644796139424556.\u001b[0m\n",
      "\u001b[32m[I 2021-09-23 18:18:29,588]\u001b[0m Trial 34 finished with value: 0.166500176418196 and parameters: {'C': 3.573042035671226, 'nu': 0.9380124740265362}. Best is trial 23 with value: 0.16644796139424556.\u001b[0m\n",
      "\u001b[32m[I 2021-09-23 18:18:30,829]\u001b[0m Trial 35 finished with value: 0.17822688518921367 and parameters: {'C': 4.089533640280262, 'nu': 0.22093789251135226}. Best is trial 23 with value: 0.16644796139424556.\u001b[0m\n",
      "\u001b[32m[I 2021-09-23 18:18:36,275]\u001b[0m Trial 36 finished with value: 0.16692090768715737 and parameters: {'C': 3.2879401276066944, 'nu': 0.6675229179485803}. Best is trial 23 with value: 0.16644796139424556.\u001b[0m\n",
      "\u001b[32m[I 2021-09-23 18:18:43,709]\u001b[0m Trial 37 finished with value: 0.167565969950674 and parameters: {'C': 4.707171419826167, 'nu': 0.5809062359411794}. Best is trial 23 with value: 0.16644796139424556.\u001b[0m\n",
      "\u001b[32m[I 2021-09-23 18:18:47,925]\u001b[0m Trial 38 finished with value: 0.16645090462559514 and parameters: {'C': 3.651898343035836, 'nu': 0.7965401504501173}. Best is trial 23 with value: 0.16644796139424556.\u001b[0m\n",
      "\u001b[32m[I 2021-09-23 18:18:49,738]\u001b[0m Trial 39 finished with value: 0.1699582207601866 and parameters: {'C': 2.3630830242038265, 'nu': 0.4820248532332561}. Best is trial 23 with value: 0.16644796139424556.\u001b[0m\n",
      "\u001b[32m[I 2021-09-23 18:18:51,578]\u001b[0m Trial 40 finished with value: 0.17755144439048795 and parameters: {'C': 1.4838177070134237, 'nu': 0.7119736516407562}. Best is trial 23 with value: 0.16644796139424556.\u001b[0m\n",
      "\u001b[32m[I 2021-09-23 18:18:56,010]\u001b[0m Trial 41 finished with value: 0.16645286099976064 and parameters: {'C': 3.6360237752379057, 'nu': 0.77028552431224}. Best is trial 23 with value: 0.16644796139424556.\u001b[0m\n",
      "\u001b[32m[I 2021-09-23 18:19:00,134]\u001b[0m Trial 42 finished with value: 0.16907857228600853 and parameters: {'C': 2.7732840123379123, 'nu': 0.7772802399884542}. Best is trial 23 with value: 0.16644796139424556.\u001b[0m\n",
      "\u001b[32m[I 2021-09-23 18:19:03,794]\u001b[0m Trial 43 finished with value: 0.16625975430526624 and parameters: {'C': 3.740032635404826, 'nu': 0.5395590735733713}. Best is trial 43 with value: 0.16625975430526624.\u001b[0m\n",
      "\u001b[32m[I 2021-09-23 18:19:08,543]\u001b[0m Trial 44 finished with value: 0.166718261266209 and parameters: {'C': 4.132088751496272, 'nu': 0.5293801913073769}. Best is trial 43 with value: 0.16625975430526624.\u001b[0m\n",
      "\u001b[32m[I 2021-09-23 18:19:10,724]\u001b[0m Trial 45 finished with value: 0.16766173804090162 and parameters: {'C': 3.233432862453613, 'nu': 0.43568425618064566}. Best is trial 43 with value: 0.16625975430526624.\u001b[0m\n",
      "\u001b[32m[I 2021-09-23 18:19:13,209]\u001b[0m Trial 46 finished with value: 0.16831622179931252 and parameters: {'C': 4.3350136411960465, 'nu': 0.3965754113725486}. Best is trial 43 with value: 0.16625975430526624.\u001b[0m\n",
      "\u001b[32m[I 2021-09-23 18:19:18,579]\u001b[0m Trial 47 finished with value: 0.16636539878244067 and parameters: {'C': 3.7593191681755176, 'nu': 0.5659445152217918}. Best is trial 43 with value: 0.16625975430526624.\u001b[0m\n",
      "\u001b[32m[I 2021-09-23 18:19:27,643]\u001b[0m Trial 48 finished with value: 0.16766454937785372 and parameters: {'C': 4.793697085239665, 'nu': 0.5626220007973338}. Best is trial 43 with value: 0.16625975430526624.\u001b[0m\n",
      "\u001b[32m[I 2021-09-23 18:19:34,002]\u001b[0m Trial 49 finished with value: 0.1665652023156826 and parameters: {'C': 3.9522762170579706, 'nu': 0.66901002282938}. Best is trial 43 with value: 0.16625975430526624.\u001b[0m\n",
      "\u001b[32m[I 2021-09-23 18:19:36,323]\u001b[0m Trial 50 finished with value: 0.1719936151422027 and parameters: {'C': 2.0224589160652764, 'nu': 0.49692498505147265}. Best is trial 43 with value: 0.16625975430526624.\u001b[0m\n",
      "\u001b[32m[I 2021-09-23 18:19:42,320]\u001b[0m Trial 51 finished with value: 0.16628775624893832 and parameters: {'C': 3.679495560738438, 'nu': 0.5537984870505592}. Best is trial 43 with value: 0.16625975430526624.\u001b[0m\n",
      "\u001b[32m[I 2021-09-23 18:19:46,086]\u001b[0m Trial 52 finished with value: 0.16623368800430696 and parameters: {'C': 3.7198946302941738, 'nu': 0.5208388373710771}. Best is trial 52 with value: 0.16623368800430696.\u001b[0m\n",
      "\u001b[32m[I 2021-09-23 18:19:54,592]\u001b[0m Trial 53 finished with value: 0.16691016456097765 and parameters: {'C': 4.257688292503074, 'nu': 0.5412062565620012}. Best is trial 52 with value: 0.16623368800430696.\u001b[0m\n",
      "\u001b[32m[I 2021-09-23 18:19:57,139]\u001b[0m Trial 54 finished with value: 0.17016493749031486 and parameters: {'C': 3.8335757605541367, 'nu': 0.33903776756808407}. Best is trial 52 with value: 0.16623368800430696.\u001b[0m\n",
      "\u001b[32m[I 2021-09-23 18:20:02,138]\u001b[0m Trial 55 finished with value: 0.1667306080245039 and parameters: {'C': 4.168306185653218, 'nu': 0.5123140787404351}. Best is trial 52 with value: 0.16623368800430696.\u001b[0m\n",
      "\u001b[32m[I 2021-09-23 18:20:02,209]\u001b[0m Trial 56 finished with value: 0.9967747257086785 and parameters: {'C': 3.396366129491904, 'nu': 0.0036851125668295737}. Best is trial 52 with value: 0.16623368800430696.\u001b[0m\n",
      "\u001b[32m[I 2021-09-23 18:20:06,547]\u001b[0m Trial 57 finished with value: 0.16706665598419684 and parameters: {'C': 3.0627515187077083, 'nu': 0.6073503115766913}. Best is trial 52 with value: 0.16623368800430696.\u001b[0m\n",
      "\u001b[32m[I 2021-09-23 18:20:08,086]\u001b[0m Trial 58 finished with value: 0.20782239048056464 and parameters: {'C': 0.5610742678856337, 'nu': 0.6398199949501047}. Best is trial 52 with value: 0.16623368800430696.\u001b[0m\n",
      "\u001b[32m[I 2021-09-23 18:20:11,007]\u001b[0m Trial 59 finished with value: 0.16698950057290618 and parameters: {'C': 3.728682491178805, 'nu': 0.4484365593763308}. Best is trial 52 with value: 0.16623368800430696.\u001b[0m\n",
      "\u001b[32m[I 2021-09-23 18:20:18,206]\u001b[0m Trial 60 finished with value: 0.16653098465659302 and parameters: {'C': 3.920432032708222, 'nu': 0.5755665941344336}. Best is trial 52 with value: 0.16623368800430696.\u001b[0m\n",
      "\u001b[32m[I 2021-09-23 18:20:24,545]\u001b[0m Trial 61 finished with value: 0.16663794586359346 and parameters: {'C': 3.4600234345796337, 'nu': 0.7000185521089419}. Best is trial 52 with value: 0.16623368800430696.\u001b[0m\n",
      "\u001b[32m[I 2021-09-23 18:20:31,075]\u001b[0m Trial 62 finished with value: 0.16644218674389438 and parameters: {'C': 3.6447821406676066, 'nu': 0.746147929262919}. Best is trial 52 with value: 0.16623368800430696.\u001b[0m\n",
      "\u001b[32m[I 2021-09-23 18:20:34,050]\u001b[0m Trial 63 finished with value: 0.16700998080115315 and parameters: {'C': 3.169165066551074, 'nu': 0.4809137589849211}. Best is trial 52 with value: 0.16623368800430696.\u001b[0m\n",
      "\u001b[32m[I 2021-09-23 18:20:40,669]\u001b[0m Trial 64 finished with value: 0.1681877039170173 and parameters: {'C': 2.937525828891645, 'nu': 0.6607887118123852}. Best is trial 52 with value: 0.16623368800430696.\u001b[0m\n",
      "\u001b[32m[I 2021-09-23 18:20:48,207]\u001b[0m Trial 65 finished with value: 0.16713069427766966 and parameters: {'C': 4.400642058181671, 'nu': 0.5925709407922739}. Best is trial 52 with value: 0.16623368800430696.\u001b[0m\n",
      "\u001b[32m[I 2021-09-23 18:20:53,151]\u001b[0m Trial 66 finished with value: 0.1666707449361042 and parameters: {'C': 4.03532323861931, 'nu': 0.7399281205857142}. Best is trial 52 with value: 0.16623368800430696.\u001b[0m\n",
      "\u001b[32m[I 2021-09-23 18:20:59,900]\u001b[0m Trial 67 finished with value: 0.16645440531898675 and parameters: {'C': 3.771811474231376, 'nu': 0.6333544693848375}. Best is trial 52 with value: 0.16623368800430696.\u001b[0m\n",
      "\u001b[32m[I 2021-09-23 18:21:04,591]\u001b[0m Trial 68 finished with value: 0.16908047444048926 and parameters: {'C': 2.7750683354381223, 'nu': 0.8207437498811436}. Best is trial 52 with value: 0.16623368800430696.\u001b[0m\n",
      "\u001b[32m[I 2021-09-23 18:21:07,932]\u001b[0m Trial 69 finished with value: 0.1684370161638464 and parameters: {'C': 4.533479311252253, 'nu': 0.39702877116577906}. Best is trial 52 with value: 0.16623368800430696.\u001b[0m\n",
      "\u001b[32m[I 2021-09-23 18:21:12,593]\u001b[0m Trial 70 finished with value: 0.1662202334676505 and parameters: {'C': 3.4567040965567624, 'nu': 0.5534960994442941}. Best is trial 70 with value: 0.1662202334676505.\u001b[0m\n",
      "\u001b[32m[I 2021-09-23 18:21:17,025]\u001b[0m Trial 71 finished with value: 0.1661893032850074 and parameters: {'C': 3.500058480528452, 'nu': 0.5509420903257044}. Best is trial 71 with value: 0.1661893032850074.\u001b[0m\n",
      "\u001b[32m[I 2021-09-23 18:21:21,427]\u001b[0m Trial 72 finished with value: 0.1661917711377128 and parameters: {'C': 3.499652029906484, 'nu': 0.5517442294465738}. Best is trial 71 with value: 0.1661893032850074.\u001b[0m\n",
      "\u001b[32m[I 2021-09-23 18:21:25,675]\u001b[0m Trial 73 finished with value: 0.16616101879495268 and parameters: {'C': 3.5026000168795624, 'nu': 0.5490776772992505}. Best is trial 73 with value: 0.16616101879495268.\u001b[0m\n",
      "\u001b[32m[I 2021-09-23 18:21:30,063]\u001b[0m Trial 74 finished with value: 0.16619830656233064 and parameters: {'C': 3.4569705270749083, 'nu': 0.5512444601606946}. Best is trial 73 with value: 0.16616101879495268.\u001b[0m\n",
      "\u001b[32m[I 2021-09-23 18:21:34,085]\u001b[0m Trial 75 finished with value: 0.1661657432711907 and parameters: {'C': 3.387439554349108, 'nu': 0.5246530660758951}. Best is trial 73 with value: 0.16616101879495268.\u001b[0m\n",
      "\u001b[32m[I 2021-09-23 18:21:37,857]\u001b[0m Trial 76 finished with value: 0.16619123619218718 and parameters: {'C': 3.3513200272451273, 'nu': 0.5204116578771668}. Best is trial 73 with value: 0.16616101879495268.\u001b[0m\n",
      "\u001b[32m[I 2021-09-23 18:21:40,553]\u001b[0m Trial 77 finished with value: 0.166906700356631 and parameters: {'C': 3.3739263410143465, 'nu': 0.4683643949093873}. Best is trial 73 with value: 0.16616101879495268.\u001b[0m\n",
      "\u001b[32m[I 2021-09-23 18:21:43,924]\u001b[0m Trial 78 finished with value: 0.16614329176515125 and parameters: {'C': 3.470643076607101, 'nu': 0.5185259394501786}. Best is trial 78 with value: 0.16614329176515125.\u001b[0m\n",
      "\u001b[32m[I 2021-09-23 18:21:45,729]\u001b[0m Trial 79 finished with value: 0.1702595539564447 and parameters: {'C': 2.5044208329598256, 'nu': 0.42612456127346077}. Best is trial 78 with value: 0.16614329176515125.\u001b[0m\n",
      "\u001b[32m[I 2021-09-23 18:21:47,787]\u001b[0m Trial 80 finished with value: 0.16960641465609522 and parameters: {'C': 3.537758145526769, 'nu': 0.3568540760616718}. Best is trial 78 with value: 0.16614329176515125.\u001b[0m\n",
      "\u001b[32m[I 2021-09-23 18:21:50,638]\u001b[0m Trial 81 finished with value: 0.16665469702846133 and parameters: {'C': 3.257954822676316, 'nu': 0.49014931826466357}. Best is trial 78 with value: 0.16614329176515125.\u001b[0m\n",
      "\u001b[32m[I 2021-09-23 18:21:53,774]\u001b[0m Trial 82 finished with value: 0.16613246085508437 and parameters: {'C': 3.464975824411181, 'nu': 0.5295536234677269}. Best is trial 82 with value: 0.16613246085508437.\u001b[0m\n",
      "\u001b[32m[I 2021-09-23 18:21:56,190]\u001b[0m Trial 83 finished with value: 0.1667059224931628 and parameters: {'C': 3.093863733202954, 'nu': 0.5123807691874699}. Best is trial 82 with value: 0.16613246085508437.\u001b[0m\n",
      "\u001b[32m[I 2021-09-23 18:22:00,520]\u001b[0m Trial 84 finished with value: 0.16643125184915725 and parameters: {'C': 3.4247795775165555, 'nu': 0.58973514809852}. Best is trial 82 with value: 0.16613246085508437.\u001b[0m\n",
      "\u001b[32m[I 2021-09-23 18:22:02,451]\u001b[0m Trial 85 finished with value: 0.1681490099490514 and parameters: {'C': 2.8550690311928175, 'nu': 0.4633773524449505}. Best is trial 82 with value: 0.16613246085508437.\u001b[0m\n",
      "\u001b[32m[I 2021-09-23 18:22:05,174]\u001b[0m Trial 86 finished with value: 0.1664913312132706 and parameters: {'C': 3.1564579598515965, 'nu': 0.5419265061630024}. Best is trial 82 with value: 0.16613246085508437.\u001b[0m\n",
      "\u001b[32m[I 2021-09-23 18:22:07,726]\u001b[0m Trial 87 finished with value: 0.1663654064773815 and parameters: {'C': 3.3291796045222886, 'nu': 0.5056087974016905}. Best is trial 82 with value: 0.16613246085508437.\u001b[0m\n",
      "\u001b[32m[I 2021-09-23 18:22:13,757]\u001b[0m Trial 88 finished with value: 0.16658936355491302 and parameters: {'C': 3.471302519151015, 'nu': 0.6246679981405836}. Best is trial 82 with value: 0.16613246085508437.\u001b[0m\n",
      "\u001b[32m[I 2021-09-23 18:22:17,241]\u001b[0m Trial 89 finished with value: 0.16679477850262764 and parameters: {'C': 3.0009840430827155, 'nu': 0.5636541921882562}. Best is trial 82 with value: 0.16613246085508437.\u001b[0m\n",
      "\u001b[32m[I 2021-09-23 18:22:19,456]\u001b[0m Trial 90 finished with value: 0.1681292736644277 and parameters: {'C': 3.2557989656700235, 'nu': 0.4135329565990926}. Best is trial 82 with value: 0.16613246085508437.\u001b[0m\n",
      "\u001b[32m[I 2021-09-23 18:22:22,793]\u001b[0m Trial 91 finished with value: 0.166143978988191 and parameters: {'C': 3.5748109202127956, 'nu': 0.5252304843661498}. Best is trial 82 with value: 0.16613246085508437.\u001b[0m\n",
      "\u001b[32m[I 2021-09-23 18:22:26,295]\u001b[0m Trial 92 finished with value: 0.16614791977380194 and parameters: {'C': 3.5040351771755276, 'nu': 0.5267982101844756}. Best is trial 82 with value: 0.16613246085508437.\u001b[0m\n",
      "\u001b[32m[I 2021-09-23 18:22:30,008]\u001b[0m Trial 93 finished with value: 0.16613641435179083 and parameters: {'C': 3.5292380622627255, 'nu': 0.5173010680999358}. Best is trial 82 with value: 0.16613246085508437.\u001b[0m\n",
      "\u001b[32m[I 2021-09-23 18:22:33,030]\u001b[0m Trial 94 finished with value: 0.16704029117512073 and parameters: {'C': 3.563596740979986, 'nu': 0.44985212837912925}. Best is trial 82 with value: 0.16613246085508437.\u001b[0m\n",
      "\u001b[32m[I 2021-09-23 18:22:37,699]\u001b[0m Trial 95 finished with value: 0.1663583431022619 and parameters: {'C': 3.8820390941823018, 'nu': 0.5211308402666194}. Best is trial 82 with value: 0.16613246085508437.\u001b[0m\n",
      "\u001b[32m[I 2021-09-23 18:22:45,287]\u001b[0m Trial 96 finished with value: 0.1665699617824835 and parameters: {'C': 3.9586402948048987, 'nu': 0.5932407358714337}. Best is trial 82 with value: 0.16613246085508437.\u001b[0m\n",
      "\u001b[32m[I 2021-09-23 18:22:48,412]\u001b[0m Trial 97 finished with value: 0.16661543202359544 and parameters: {'C': 3.3267987782373627, 'nu': 0.4859789136877163}. Best is trial 82 with value: 0.16613246085508437.\u001b[0m\n",
      "\u001b[32m[I 2021-09-23 18:22:51,565]\u001b[0m Trial 98 finished with value: 0.16642836196900507 and parameters: {'C': 3.1898579448826476, 'nu': 0.5299439368629788}. Best is trial 82 with value: 0.16613246085508437.\u001b[0m\n",
      "\u001b[32m[I 2021-09-23 18:22:54,665]\u001b[0m Trial 99 finished with value: 0.16909065304432505 and parameters: {'C': 3.5131387320335463, 'nu': 0.3695837715795701}. Best is trial 82 with value: 0.16613246085508437.\u001b[0m\n",
      "\u001b[32m[I 2021-09-23 18:22:57,391]\u001b[0m Trial 100 finished with value: 0.1669440869077013 and parameters: {'C': 3.0457468262587155, 'nu': 0.49994923543677755}. Best is trial 82 with value: 0.16613246085508437.\u001b[0m\n",
      "\u001b[32m[I 2021-09-23 18:23:02,852]\u001b[0m Trial 101 finished with value: 0.1663201861964346 and parameters: {'C': 3.558227993585452, 'nu': 0.5787997702680865}. Best is trial 82 with value: 0.16613246085508437.\u001b[0m\n",
      "\u001b[32m[I 2021-09-23 18:23:09,291]\u001b[0m Trial 102 finished with value: 0.16668882992888706 and parameters: {'C': 3.4105554184233746, 'nu': 0.6101718270740148}. Best is trial 82 with value: 0.16613246085508437.\u001b[0m\n",
      "\u001b[32m[I 2021-09-23 18:23:12,130]\u001b[0m Trial 103 finished with value: 0.16641930326488466 and parameters: {'C': 3.1968719009942532, 'nu': 0.5478532574821683}. Best is trial 82 with value: 0.16613246085508437.\u001b[0m\n",
      "\u001b[32m[I 2021-09-23 18:23:14,680]\u001b[0m Trial 104 finished with value: 0.1665070322476382 and parameters: {'C': 3.632567925160559, 'nu': 0.4727931039307634}. Best is trial 82 with value: 0.16613246085508437.\u001b[0m\n",
      "\u001b[32m[I 2021-09-23 18:23:18,303]\u001b[0m Trial 105 finished with value: 0.16632500118489266 and parameters: {'C': 3.86352851137638, 'nu': 0.52697224852175}. Best is trial 82 with value: 0.16613246085508437.\u001b[0m\n",
      "\u001b[32m[I 2021-09-23 18:23:25,417]\u001b[0m Trial 106 finished with value: 0.16663402428418883 and parameters: {'C': 4.010595491799316, 'nu': 0.569825564189338}. Best is trial 82 with value: 0.16613246085508437.\u001b[0m\n",
      "\u001b[32m[I 2021-09-23 18:23:27,556]\u001b[0m Trial 107 finished with value: 0.16747926650713735 and parameters: {'C': 3.323612288930942, 'nu': 0.4410193841321701}. Best is trial 82 with value: 0.16613246085508437.\u001b[0m\n",
      "\u001b[32m[I 2021-09-23 18:23:29,766]\u001b[0m Trial 108 finished with value: 0.16724985075859128 and parameters: {'C': 2.884197447534908, 'nu': 0.5065611557195155}. Best is trial 82 with value: 0.16613246085508437.\u001b[0m\n",
      "\u001b[32m[I 2021-09-23 18:23:35,296]\u001b[0m Trial 109 finished with value: 0.16647507318257562 and parameters: {'C': 3.8059764940267575, 'nu': 0.6621712813347045}. Best is trial 82 with value: 0.16613246085508437.\u001b[0m\n",
      "\u001b[32m[I 2021-09-23 18:23:37,768]\u001b[0m Trial 110 finished with value: 0.1682407870370729 and parameters: {'C': 2.605308433094386, 'nu': 0.6045558824554891}. Best is trial 82 with value: 0.16613246085508437.\u001b[0m\n",
      "\u001b[32m[I 2021-09-23 18:23:41,214]\u001b[0m Trial 111 finished with value: 0.16621614716391966 and parameters: {'C': 3.477275653283014, 'nu': 0.5581769727230239}. Best is trial 82 with value: 0.16613246085508437.\u001b[0m\n",
      "\u001b[32m[I 2021-09-23 18:23:44,610]\u001b[0m Trial 112 finished with value: 0.16618890257506272 and parameters: {'C': 3.5312042734767886, 'nu': 0.5507402533163361}. Best is trial 82 with value: 0.16613246085508437.\u001b[0m\n",
      "\u001b[32m[I 2021-09-23 18:23:48,105]\u001b[0m Trial 113 finished with value: 0.16619664777303345 and parameters: {'C': 3.6671789283537004, 'nu': 0.5372180620196129}. Best is trial 82 with value: 0.16613246085508437.\u001b[0m\n",
      "\u001b[32m[I 2021-09-23 18:23:51,623]\u001b[0m Trial 114 finished with value: 0.1662038579967119 and parameters: {'C': 3.7083802054736212, 'nu': 0.5316914406875494}. Best is trial 82 with value: 0.16613246085508437.\u001b[0m\n",
      "\u001b[32m[I 2021-09-23 18:23:54,249]\u001b[0m Trial 115 finished with value: 0.1663114841438041 and parameters: {'C': 3.580427273606685, 'nu': 0.4893015168295465}. Best is trial 82 with value: 0.16613246085508437.\u001b[0m\n",
      "\u001b[32m[I 2021-09-23 18:23:56,408]\u001b[0m Trial 116 finished with value: 0.1676769381442634 and parameters: {'C': 3.655648954925504, 'nu': 0.4150024399054053}. Best is trial 82 with value: 0.16613246085508437.\u001b[0m\n",
      "\u001b[32m[I 2021-09-23 18:23:58,660]\u001b[0m Trial 117 finished with value: 0.16704263925241716 and parameters: {'C': 3.3271860928948818, 'nu': 0.4661965191404852}. Best is trial 82 with value: 0.16613246085508437.\u001b[0m\n",
      "\u001b[32m[I 2021-09-23 18:24:05,514]\u001b[0m Trial 118 finished with value: 0.1668876900467824 and parameters: {'C': 4.213579716746124, 'nu': 0.5812778579058346}. Best is trial 82 with value: 0.16613246085508437.\u001b[0m\n",
      "\u001b[32m[I 2021-09-23 18:24:06,321]\u001b[0m Trial 119 finished with value: 0.18504662201309752 and parameters: {'C': 3.8494061013682157, 'nu': 0.15178785260750388}. Best is trial 82 with value: 0.16613246085508437.\u001b[0m\n",
      "\u001b[32m[I 2021-09-23 18:24:10,076]\u001b[0m Trial 120 finished with value: 0.16659110540590308 and parameters: {'C': 4.078057906359593, 'nu': 0.516055654211202}. Best is trial 82 with value: 0.16613246085508437.\u001b[0m\n",
      "\u001b[32m[I 2021-09-23 18:24:13,181]\u001b[0m Trial 121 finished with value: 0.16619550623403748 and parameters: {'C': 3.4186111548044886, 'nu': 0.5472054131153155}. Best is trial 82 with value: 0.16613246085508437.\u001b[0m\n",
      "\u001b[32m[I 2021-09-23 18:24:16,370]\u001b[0m Trial 122 finished with value: 0.16614524667169295 and parameters: {'C': 3.532824743497256, 'nu': 0.5403251175374595}. Best is trial 82 with value: 0.16613246085508437.\u001b[0m\n",
      "\u001b[32m[I 2021-09-23 18:24:19,248]\u001b[0m Trial 123 finished with value: 0.16664897176338853 and parameters: {'C': 3.107661682300197, 'nu': 0.5681968954044863}. Best is trial 82 with value: 0.16613246085508437.\u001b[0m\n",
      "\u001b[32m[I 2021-09-23 18:24:21,757]\u001b[0m Trial 124 finished with value: 0.16635578037816207 and parameters: {'C': 3.3843263585120025, 'nu': 0.4976029009566453}. Best is trial 82 with value: 0.16613246085508437.\u001b[0m\n",
      "\u001b[32m[I 2021-09-23 18:24:27,655]\u001b[0m Trial 125 finished with value: 0.16648926535140446 and parameters: {'C': 3.5400536079006852, 'nu': 0.626286371638299}. Best is trial 82 with value: 0.16613246085508437.\u001b[0m\n",
      "\u001b[32m[I 2021-09-23 18:24:31,386]\u001b[0m Trial 126 finished with value: 0.1666175484019079 and parameters: {'C': 3.2574276250261924, 'nu': 0.5944437541381844}. Best is trial 82 with value: 0.16613246085508437.\u001b[0m\n",
      "\u001b[32m[I 2021-09-23 18:24:35,188]\u001b[0m Trial 127 finished with value: 0.16631571771588238 and parameters: {'C': 3.7461794139608946, 'nu': 0.5479645072151117}. Best is trial 82 with value: 0.16613246085508437.\u001b[0m\n",
      "\u001b[32m[I 2021-09-23 18:24:40,850]\u001b[0m Trial 128 finished with value: 0.1665119758367263 and parameters: {'C': 3.531695990633398, 'nu': 0.6482441979390859}. Best is trial 82 with value: 0.16613246085508437.\u001b[0m\n",
      "\u001b[32m[I 2021-09-23 18:24:42,300]\u001b[0m Trial 129 finished with value: 0.17506318440758833 and parameters: {'C': 1.6460265390666986, 'nu': 0.5199249275712771}. Best is trial 82 with value: 0.16613246085508437.\u001b[0m\n",
      "\u001b[32m[I 2021-09-23 18:24:44,531]\u001b[0m Trial 130 finished with value: 0.16703373310240585 and parameters: {'C': 3.210209749656011, 'nu': 0.4760925279073944}. Best is trial 82 with value: 0.16613246085508437.\u001b[0m\n",
      "\u001b[32m[I 2021-09-23 18:24:47,846]\u001b[0m Trial 131 finished with value: 0.1661724777584256 and parameters: {'C': 3.606182707198581, 'nu': 0.5400730193782457}. Best is trial 82 with value: 0.16613246085508437.\u001b[0m\n",
      "\u001b[32m[I 2021-09-23 18:24:50,451]\u001b[0m Trial 132 finished with value: 0.16630011711999215 and parameters: {'C': 3.4222820587140452, 'nu': 0.5011822260749486}. Best is trial 82 with value: 0.16613246085508437.\u001b[0m\n",
      "\u001b[32m[I 2021-09-23 18:24:54,730]\u001b[0m Trial 133 finished with value: 0.16629282568688042 and parameters: {'C': 3.568766437982841, 'nu': 0.5747837107557817}. Best is trial 82 with value: 0.16613246085508437.\u001b[0m\n",
      "\u001b[32m[I 2021-09-23 18:24:57,619]\u001b[0m Trial 134 finished with value: 0.1662667150112439 and parameters: {'C': 3.327778133859344, 'nu': 0.5409358549569804}. Best is trial 82 with value: 0.16613246085508437.\u001b[0m\n",
      "\u001b[32m[I 2021-09-23 18:25:00,708]\u001b[0m Trial 135 finished with value: 0.16617649786095573 and parameters: {'C': 3.665860513231632, 'nu': 0.5158432272805624}. Best is trial 82 with value: 0.16613246085508437.\u001b[0m\n",
      "\u001b[32m[I 2021-09-23 18:25:03,085]\u001b[0m Trial 136 finished with value: 0.16710625242376875 and parameters: {'C': 3.764666277057952, 'nu': 0.44359586472447665}. Best is trial 82 with value: 0.16613246085508437.\u001b[0m\n",
      "\u001b[32m[I 2021-09-23 18:25:06,628]\u001b[0m Trial 137 finished with value: 0.1664428106572806 and parameters: {'C': 3.955457277892087, 'nu': 0.5192372519243321}. Best is trial 82 with value: 0.16613246085508437.\u001b[0m\n",
      "\u001b[32m[I 2021-09-23 18:25:09,262]\u001b[0m Trial 138 finished with value: 0.16638470371527816 and parameters: {'C': 3.64520173350771, 'nu': 0.4813726231562666}. Best is trial 82 with value: 0.16613246085508437.\u001b[0m\n",
      "\u001b[32m[I 2021-09-23 18:25:11,647]\u001b[0m Trial 139 finished with value: 0.16687021791782097 and parameters: {'C': 3.5892864697955345, 'nu': 0.4569226972052883}. Best is trial 82 with value: 0.16613246085508437.\u001b[0m\n",
      "\u001b[32m[I 2021-09-23 18:25:17,804]\u001b[0m Trial 140 finished with value: 0.16654413684840286 and parameters: {'C': 3.49935761562833, 'nu': 0.6049226436072358}. Best is trial 82 with value: 0.16613246085508437.\u001b[0m\n",
      "\u001b[32m[I 2021-09-23 18:25:20,900]\u001b[0m Trial 141 finished with value: 0.16624398343725028 and parameters: {'C': 3.370273253999335, 'nu': 0.5529614109350922}. Best is trial 82 with value: 0.16613246085508437.\u001b[0m\n",
      "\u001b[32m[I 2021-09-23 18:25:23,878]\u001b[0m Trial 142 finished with value: 0.16613847595337664 and parameters: {'C': 3.4898230728084543, 'nu': 0.5276724099596278}. Best is trial 82 with value: 0.16613246085508437.\u001b[0m\n",
      "\u001b[32m[I 2021-09-23 18:25:26,834]\u001b[0m Trial 143 finished with value: 0.1662147942814639 and parameters: {'C': 3.694652164253572, 'nu': 0.5095084150186815}. Best is trial 82 with value: 0.16613246085508437.\u001b[0m\n",
      "\u001b[32m[I 2021-09-23 18:25:30,115]\u001b[0m Trial 144 finished with value: 0.16646137196195906 and parameters: {'C': 3.2750141170776934, 'nu': 0.5752300245229905}. Best is trial 82 with value: 0.16613246085508437.\u001b[0m\n",
      "\u001b[32m[I 2021-09-23 18:25:33,749]\u001b[0m Trial 145 finished with value: 0.16629404981734436 and parameters: {'C': 3.836812990650818, 'nu': 0.5322964500283034}. Best is trial 82 with value: 0.16613246085508437.\u001b[0m\n",
      "\u001b[32m[I 2021-09-23 18:25:36,334]\u001b[0m Trial 146 finished with value: 0.1662828103980803 and parameters: {'C': 3.4653968411421574, 'nu': 0.496412984474769}. Best is trial 82 with value: 0.16613246085508437.\u001b[0m\n",
      "\u001b[32m[I 2021-09-23 18:25:39,235]\u001b[0m Trial 147 finished with value: 0.1665492413989177 and parameters: {'C': 3.158943500117416, 'nu': 0.5638925524821183}. Best is trial 82 with value: 0.16613246085508437.\u001b[0m\n",
      "\u001b[32m[I 2021-09-23 18:25:42,422]\u001b[0m Trial 148 finished with value: 0.16616362521072298 and parameters: {'C': 3.607543073301405, 'nu': 0.5242491390038178}. Best is trial 82 with value: 0.16613246085508437.\u001b[0m\n",
      "\u001b[32m[I 2021-09-23 18:25:45,388]\u001b[0m Trial 149 finished with value: 0.16615881472284852 and parameters: {'C': 3.6177346746293684, 'nu': 0.5149226256610369}. Best is trial 82 with value: 0.16613246085508437.\u001b[0m\n",
      "\u001b[32m[I 2021-09-23 18:25:46,489]\u001b[0m Trial 150 finished with value: 0.18500545726162093 and parameters: {'C': 1.0839186089925101, 'nu': 0.48102748775572407}. Best is trial 82 with value: 0.16613246085508437.\u001b[0m\n",
      "\u001b[32m[I 2021-09-23 18:25:49,646]\u001b[0m Trial 151 finished with value: 0.16616394748906557 and parameters: {'C': 3.6362136941170755, 'nu': 0.5250298420566647}. Best is trial 82 with value: 0.16613246085508437.\u001b[0m\n",
      "\u001b[32m[I 2021-09-23 18:25:52,825]\u001b[0m Trial 152 finished with value: 0.16617036968343685 and parameters: {'C': 3.6269256101599865, 'nu': 0.5287307564130416}. Best is trial 82 with value: 0.16613246085508437.\u001b[0m\n",
      "\u001b[32m[I 2021-09-23 18:25:56,219]\u001b[0m Trial 153 finished with value: 0.16625107551958299 and parameters: {'C': 3.7598442960283105, 'nu': 0.5315938308581281}. Best is trial 82 with value: 0.16613246085508437.\u001b[0m\n",
      "\u001b[32m[I 2021-09-23 18:25:59,457]\u001b[0m Trial 154 finished with value: 0.1664056843689123 and parameters: {'C': 3.902933158746031, 'nu': 0.5082201908556704}. Best is trial 82 with value: 0.16613246085508437.\u001b[0m\n",
      "\u001b[32m[I 2021-09-23 18:26:01,911]\u001b[0m Trial 155 finished with value: 0.16676851755101635 and parameters: {'C': 3.6427806968037597, 'nu': 0.45989883555423494}. Best is trial 82 with value: 0.16613246085508437.\u001b[0m\n",
      "\u001b[32m[I 2021-09-23 18:26:08,106]\u001b[0m Trial 156 finished with value: 0.16641887886432782 and parameters: {'C': 3.6155018336184273, 'nu': 0.5895719110106714}. Best is trial 82 with value: 0.16613246085508437.\u001b[0m\n",
      "\u001b[32m[I 2021-09-23 18:26:10,994]\u001b[0m Trial 157 finished with value: 0.16638130542408436 and parameters: {'C': 3.8048592889188413, 'nu': 0.49127827445282096}. Best is trial 82 with value: 0.16613246085508437.\u001b[0m\n",
      "\u001b[32m[I 2021-09-23 18:26:14,329]\u001b[0m Trial 158 finished with value: 0.1662042693963347 and parameters: {'C': 3.711471923489315, 'nu': 0.5292507130522754}. Best is trial 82 with value: 0.16613246085508437.\u001b[0m\n",
      "\u001b[32m[I 2021-09-23 18:26:17,296]\u001b[0m Trial 159 finished with value: 0.166148759583578 and parameters: {'C': 3.584625653134161, 'nu': 0.5126867349180128}. Best is trial 82 with value: 0.16613246085508437.\u001b[0m\n",
      "\u001b[32m[I 2021-09-23 18:26:20,637]\u001b[0m Trial 160 finished with value: 0.1663532152905177 and parameters: {'C': 3.87592305857273, 'nu': 0.5107972005142064}. Best is trial 82 with value: 0.16613246085508437.\u001b[0m\n",
      "\u001b[32m[I 2021-09-23 18:26:23,886]\u001b[0m Trial 161 finished with value: 0.16613976435564612 and parameters: {'C': 3.571971088089096, 'nu': 0.5336936374153247}. Best is trial 82 with value: 0.16613246085508437.\u001b[0m\n",
      "\u001b[32m[I 2021-09-23 18:26:26,411]\u001b[0m Trial 162 finished with value: 0.16651054447134786 and parameters: {'C': 3.608797868442191, 'nu': 0.47264648010969007}. Best is trial 82 with value: 0.16613246085508437.\u001b[0m\n",
      "\u001b[32m[I 2021-09-23 18:26:29,302]\u001b[0m Trial 163 finished with value: 0.1661615076227052 and parameters: {'C': 3.4055965745766494, 'nu': 0.5282975707821949}. Best is trial 82 with value: 0.16613246085508437.\u001b[0m\n",
      "\u001b[32m[I 2021-09-23 18:26:32,265]\u001b[0m Trial 164 finished with value: 0.16621389919525337 and parameters: {'C': 3.39365207157438, 'nu': 0.5360282980302956}. Best is trial 82 with value: 0.16613246085508437.\u001b[0m\n",
      "\u001b[32m[I 2021-09-23 18:26:35,882]\u001b[0m Trial 165 finished with value: 0.16629341320928603 and parameters: {'C': 3.4678306394015532, 'nu': 0.5667877188577392}. Best is trial 82 with value: 0.16613246085508437.\u001b[0m\n",
      "\u001b[32m[I 2021-09-23 18:26:38,574]\u001b[0m Trial 166 finished with value: 0.16623771696379488 and parameters: {'C': 3.5560031100317513, 'nu': 0.49830971016812836}. Best is trial 82 with value: 0.16613246085508437.\u001b[0m\n",
      "\u001b[32m[I 2021-09-23 18:26:41,409]\u001b[0m Trial 167 finished with value: 0.16629133871932875 and parameters: {'C': 3.2936203626439036, 'nu': 0.5370697886253071}. Best is trial 82 with value: 0.16613246085508437.\u001b[0m\n",
      "\u001b[32m[I 2021-09-23 18:26:43,137]\u001b[0m Trial 168 finished with value: 0.17024933231891803 and parameters: {'C': 2.2956845274578637, 'nu': 0.4883012024048615}. Best is trial 82 with value: 0.16613246085508437.\u001b[0m\n",
      "\u001b[32m[I 2021-09-23 18:26:45,428]\u001b[0m Trial 169 finished with value: 0.16730060615953038 and parameters: {'C': 3.7313181500294883, 'nu': 0.4321688052508831}. Best is trial 82 with value: 0.16613246085508437.\u001b[0m\n",
      "\u001b[32m[I 2021-09-23 18:26:49,349]\u001b[0m Trial 170 finished with value: 0.16639459167349105 and parameters: {'C': 3.4152570199425196, 'nu': 0.5831204033956249}. Best is trial 82 with value: 0.16613246085508437.\u001b[0m\n",
      "\u001b[32m[I 2021-09-23 18:26:52,495]\u001b[0m Trial 171 finished with value: 0.1661982792484957 and parameters: {'C': 3.6609898929962137, 'nu': 0.5213460082914184}. Best is trial 82 with value: 0.16613246085508437.\u001b[0m\n",
      "\u001b[32m[I 2021-09-23 18:26:55,405]\u001b[0m Trial 172 finished with value: 0.16613979919216326 and parameters: {'C': 3.5588601447065087, 'nu': 0.5145985146512673}. Best is trial 82 with value: 0.16613246085508437.\u001b[0m\n",
      "\u001b[32m[I 2021-09-23 18:26:58,976]\u001b[0m Trial 173 finished with value: 0.1662334245768128 and parameters: {'C': 3.526654220958439, 'nu': 0.5575861246389674}. Best is trial 82 with value: 0.16613246085508437.\u001b[0m\n",
      "\u001b[32m[I 2021-09-23 18:27:01,803]\u001b[0m Trial 174 finished with value: 0.16616852282796876 and parameters: {'C': 3.5785384267317473, 'nu': 0.5064202804515178}. Best is trial 82 with value: 0.16613246085508437.\u001b[0m\n",
      "\u001b[32m[I 2021-09-23 18:27:04,477]\u001b[0m Trial 175 finished with value: 0.1662633298580412 and parameters: {'C': 3.4411200969859945, 'nu': 0.5014765609599343}. Best is trial 82 with value: 0.16613246085508437.\u001b[0m\n",
      "\u001b[32m[I 2021-09-23 18:27:06,875]\u001b[0m Trial 176 finished with value: 0.16697987728251573 and parameters: {'C': 3.2761593892090093, 'nu': 0.4727615867359472}. Best is trial 82 with value: 0.16613246085508437.\u001b[0m\n",
      "\u001b[32m[I 2021-09-23 18:27:10,124]\u001b[0m Trial 177 finished with value: 0.1662486308275818 and parameters: {'C': 3.7865612250489336, 'nu': 0.5186561717275222}. Best is trial 82 with value: 0.16613246085508437.\u001b[0m\n",
      "\u001b[32m[I 2021-09-23 18:27:12,456]\u001b[0m Trial 178 finished with value: 0.16701635833044745 and parameters: {'C': 3.5387195334833876, 'nu': 0.4531853193755093}. Best is trial 82 with value: 0.16613246085508437.\u001b[0m\n",
      "\u001b[32m[I 2021-09-23 18:27:15,852]\u001b[0m Trial 179 finished with value: 0.16627599515322256 and parameters: {'C': 3.3654298118845944, 'nu': 0.5606904646482479}. Best is trial 82 with value: 0.16613246085508437.\u001b[0m\n",
      "\u001b[32m[I 2021-09-23 18:27:18,496]\u001b[0m Trial 180 finished with value: 0.16629608278557387 and parameters: {'C': 3.477498751293014, 'nu': 0.49484998022666926}. Best is trial 82 with value: 0.16613246085508437.\u001b[0m\n",
      "\u001b[32m[I 2021-09-23 18:27:21,730]\u001b[0m Trial 181 finished with value: 0.16613804990092043 and parameters: {'C': 3.609527970251644, 'nu': 0.5371102005280671}. Best is trial 82 with value: 0.16613246085508437.\u001b[0m\n",
      "\u001b[32m[I 2021-09-23 18:27:24,777]\u001b[0m Trial 182 finished with value: 0.16617139174974493 and parameters: {'C': 3.594550804695582, 'nu': 0.5266925876900628}. Best is trial 82 with value: 0.16613246085508437.\u001b[0m\n",
      "\u001b[32m[I 2021-09-23 18:27:28,386]\u001b[0m Trial 183 finished with value: 0.16625505522542733 and parameters: {'C': 3.717786194330711, 'nu': 0.5437028151870357}. Best is trial 82 with value: 0.16613246085508437.\u001b[0m\n",
      "\u001b[32m[I 2021-09-23 18:27:29,662]\u001b[0m Trial 184 finished with value: 0.2593272561690626 and parameters: {'C': 0.23799850816223245, 'nu': 0.5074839261089671}. Best is trial 82 with value: 0.16613246085508437.\u001b[0m\n",
      "\u001b[32m[I 2021-09-23 18:27:33,193]\u001b[0m Trial 185 finished with value: 0.16614625449664125 and parameters: {'C': 3.5352040514193024, 'nu': 0.5246993624413461}. Best is trial 82 with value: 0.16613246085508437.\u001b[0m\n",
      "\u001b[32m[I 2021-09-23 18:27:35,661]\u001b[0m Trial 186 finished with value: 0.1666361278063603 and parameters: {'C': 3.3678301953841117, 'nu': 0.48113245816320904}. Best is trial 82 with value: 0.16613246085508437.\u001b[0m\n",
      "\u001b[32m[I 2021-09-23 18:27:38,960]\u001b[0m Trial 187 finished with value: 0.16650799664808943 and parameters: {'C': 3.2163354014535, 'nu': 0.5719170619764901}. Best is trial 82 with value: 0.16613246085508437.\u001b[0m\n",
      "\u001b[32m[I 2021-09-23 18:27:42,205]\u001b[0m Trial 188 finished with value: 0.1661220337364159 and parameters: {'C': 3.4936443672924646, 'nu': 0.5138317044679728}. Best is trial 188 with value: 0.1661220337364159.\u001b[0m\n",
      "\u001b[32m[I 2021-09-23 18:27:45,577]\u001b[0m Trial 189 finished with value: 0.16615774593508523 and parameters: {'C': 3.463589292580684, 'nu': 0.5453443975618032}. Best is trial 188 with value: 0.1661220337364159.\u001b[0m\n",
      "\u001b[32m[I 2021-09-23 18:27:48,992]\u001b[0m Trial 190 finished with value: 0.1661844742062591 and parameters: {'C': 3.4989149670117268, 'nu': 0.5525943150174842}. Best is trial 188 with value: 0.1661220337364159.\u001b[0m\n",
      "\u001b[32m[I 2021-09-23 18:27:51,990]\u001b[0m Trial 191 finished with value: 0.1661423516176925 and parameters: {'C': 3.4463999056069805, 'nu': 0.5256989182601906}. Best is trial 188 with value: 0.1661220337364159.\u001b[0m\n",
      "\u001b[32m[I 2021-09-23 18:27:56,832]\u001b[0m Trial 192 finished with value: 0.16617292923865828 and parameters: {'C': 3.439016865380077, 'nu': 0.5444215607998705}. Best is trial 188 with value: 0.1661220337364159.\u001b[0m\n",
      "\u001b[32m[I 2021-09-23 18:28:00,448]\u001b[0m Trial 193 finished with value: 0.16613380220484492 and parameters: {'C': 3.5093196939509914, 'nu': 0.5152235493088897}. Best is trial 188 with value: 0.1661220337364159.\u001b[0m\n",
      "\u001b[32m[I 2021-09-23 18:28:03,087]\u001b[0m Trial 194 finished with value: 0.166563836326791 and parameters: {'C': 3.301115348793181, 'nu': 0.4920896076766187}. Best is trial 188 with value: 0.1661220337364159.\u001b[0m\n",
      "\u001b[32m[I 2021-09-23 18:28:06,847]\u001b[0m Trial 195 finished with value: 0.16627579393762223 and parameters: {'C': 3.4971519022616535, 'nu': 0.5647920579249419}. Best is trial 188 with value: 0.1661220337364159.\u001b[0m\n",
      "\u001b[32m[I 2021-09-23 18:28:10,154]\u001b[0m Trial 196 finished with value: 0.16620204046801007 and parameters: {'C': 3.3888269052798425, 'nu': 0.5133051535852058}. Best is trial 188 with value: 0.1661220337364159.\u001b[0m\n",
      "\u001b[32m[I 2021-09-23 18:28:14,701]\u001b[0m Trial 197 finished with value: 0.166242102479276 and parameters: {'C': 3.7140526579424207, 'nu': 0.5424607524484943}. Best is trial 188 with value: 0.1661220337364159.\u001b[0m\n"
     ]
    }
   ],
   "source": [
    "%%time\n",
    "study.optimize(objective_svr, n_trials=250)"
   ]
  },
  {
   "cell_type": "code",
   "execution_count": null,
   "id": "assisted-lotus",
   "metadata": {
    "executionInfo": {
     "elapsed": 16,
     "status": "aborted",
     "timestamp": 1631868108835,
     "user": {
      "displayName": "OPENCV KOREA",
      "photoUrl": "https://lh3.googleusercontent.com/a-/AOh14Gh-sYai9Y0N7wo7S5CEsrjZoO8HPeGyPip02Htf=s64",
      "userId": "03832798034950049293"
     },
     "user_tz": -540
    },
    "id": "assisted-lotus"
   },
   "outputs": [],
   "source": [
    "%%time\n",
    "final_model = NuSVR(**study.best_params).fit(full_x, full_y)"
   ]
  },
  {
   "cell_type": "code",
   "execution_count": null,
   "id": "statistical-composition",
   "metadata": {
    "executionInfo": {
     "elapsed": 16,
     "status": "aborted",
     "timestamp": 1631868108836,
     "user": {
      "displayName": "OPENCV KOREA",
      "photoUrl": "https://lh3.googleusercontent.com/a-/AOh14Gh-sYai9Y0N7wo7S5CEsrjZoO8HPeGyPip02Htf=s64",
      "userId": "03832798034950049293"
     },
     "user_tz": -540
    },
    "id": "statistical-composition"
   },
   "outputs": [],
   "source": []
  },
  {
   "cell_type": "code",
   "execution_count": null,
   "id": "yellow-glass",
   "metadata": {
    "executionInfo": {
     "elapsed": 15,
     "status": "aborted",
     "timestamp": 1631868108836,
     "user": {
      "displayName": "OPENCV KOREA",
      "photoUrl": "https://lh3.googleusercontent.com/a-/AOh14Gh-sYai9Y0N7wo7S5CEsrjZoO8HPeGyPip02Htf=s64",
      "userId": "03832798034950049293"
     },
     "user_tz": -540
    },
    "id": "yellow-glass"
   },
   "outputs": [],
   "source": []
  },
  {
   "cell_type": "code",
   "execution_count": null,
   "id": "familiar-customer",
   "metadata": {
    "executionInfo": {
     "elapsed": 15,
     "status": "aborted",
     "timestamp": 1631868108837,
     "user": {
      "displayName": "OPENCV KOREA",
      "photoUrl": "https://lh3.googleusercontent.com/a-/AOh14Gh-sYai9Y0N7wo7S5CEsrjZoO8HPeGyPip02Htf=s64",
      "userId": "03832798034950049293"
     },
     "user_tz": -540
    },
    "id": "familiar-customer"
   },
   "outputs": [],
   "source": [
    "full_x = np.concatenate((x_train, x_val), axis=0)\n",
    "full_y = np.concatenate((y_train, y_val), axis=0)"
   ]
  },
  {
   "cell_type": "code",
   "execution_count": null,
   "id": "aquatic-bridal",
   "metadata": {
    "executionInfo": {
     "elapsed": 15,
     "status": "aborted",
     "timestamp": 1631868108838,
     "user": {
      "displayName": "OPENCV KOREA",
      "photoUrl": "https://lh3.googleusercontent.com/a-/AOh14Gh-sYai9Y0N7wo7S5CEsrjZoO8HPeGyPip02Htf=s64",
      "userId": "03832798034950049293"
     },
     "user_tz": -540
    },
    "id": "aquatic-bridal"
   },
   "outputs": [],
   "source": [
    "y_pred = final_model.predict(test)\n",
    "y_pred = scaler_y.inverse_transform(y_pred)"
   ]
  },
  {
   "cell_type": "code",
   "execution_count": null,
   "id": "august-package",
   "metadata": {
    "executionInfo": {
     "elapsed": 16,
     "status": "aborted",
     "timestamp": 1631868108839,
     "user": {
      "displayName": "OPENCV KOREA",
      "photoUrl": "https://lh3.googleusercontent.com/a-/AOh14Gh-sYai9Y0N7wo7S5CEsrjZoO8HPeGyPip02Htf=s64",
      "userId": "03832798034950049293"
     },
     "user_tz": -540
    },
    "id": "august-package"
   },
   "outputs": [],
   "source": [
    "sample_submission['SalePrice'] = y_pred\n",
    "sample_submission.to_csv('lkh_opuma.csv', index=False)\n",
    "sample_submission.head(10)"
   ]
  },
  {
   "cell_type": "code",
   "execution_count": null,
   "id": "backed-jungle",
   "metadata": {
    "executionInfo": {
     "elapsed": 18,
     "status": "aborted",
     "timestamp": 1631868108841,
     "user": {
      "displayName": "OPENCV KOREA",
      "photoUrl": "https://lh3.googleusercontent.com/a-/AOh14Gh-sYai9Y0N7wo7S5CEsrjZoO8HPeGyPip02Htf=s64",
      "userId": "03832798034950049293"
     },
     "user_tz": -540
    },
    "id": "backed-jungle"
   },
   "outputs": [],
   "source": []
  },
  {
   "cell_type": "code",
   "execution_count": null,
   "id": "valid-crawford",
   "metadata": {
    "executionInfo": {
     "elapsed": 18,
     "status": "aborted",
     "timestamp": 1631868108842,
     "user": {
      "displayName": "OPENCV KOREA",
      "photoUrl": "https://lh3.googleusercontent.com/a-/AOh14Gh-sYai9Y0N7wo7S5CEsrjZoO8HPeGyPip02Htf=s64",
      "userId": "03832798034950049293"
     },
     "user_tz": -540
    },
    "id": "valid-crawford"
   },
   "outputs": [],
   "source": [
    "### original scikit-learn"
   ]
  },
  {
   "cell_type": "code",
   "execution_count": null,
   "id": "hazardous-essay",
   "metadata": {
    "executionInfo": {
     "elapsed": 19,
     "status": "aborted",
     "timestamp": 1631868108843,
     "user": {
      "displayName": "OPENCV KOREA",
      "photoUrl": "https://lh3.googleusercontent.com/a-/AOh14Gh-sYai9Y0N7wo7S5CEsrjZoO8HPeGyPip02Htf=s64",
      "userId": "03832798034950049293"
     },
     "user_tz": -540
    },
    "id": "hazardous-essay"
   },
   "outputs": [],
   "source": [
    "from sklearnex import unpatch_sklearn\n",
    "unpatch_sklearn()\n",
    "\n",
    "from sklearn.svm import NuSVR\n",
    "study = optuna.create_study(sampler=optuna.samplers.TPESampler(seed=123),\n",
    "                            direction=\"minimize\",\n",
    "                            pruner=optuna.pruners.HyperbandPruner())\n",
    "\n",
    "\n",
    "\n"
   ]
  },
  {
   "cell_type": "code",
   "execution_count": null,
   "id": "fossil-precipitation",
   "metadata": {
    "executionInfo": {
     "elapsed": 20,
     "status": "aborted",
     "timestamp": 1631868108845,
     "user": {
      "displayName": "OPENCV KOREA",
      "photoUrl": "https://lh3.googleusercontent.com/a-/AOh14Gh-sYai9Y0N7wo7S5CEsrjZoO8HPeGyPip02Htf=s64",
      "userId": "03832798034950049293"
     },
     "user_tz": -540
    },
    "id": "fossil-precipitation"
   },
   "outputs": [],
   "source": [
    "%%time\n",
    "study.optimize(objective_svr, n_trials=250)"
   ]
  },
  {
   "cell_type": "code",
   "execution_count": null,
   "id": "lesbian-nerve",
   "metadata": {
    "executionInfo": {
     "elapsed": 21,
     "status": "aborted",
     "timestamp": 1631868108846,
     "user": {
      "displayName": "OPENCV KOREA",
      "photoUrl": "https://lh3.googleusercontent.com/a-/AOh14Gh-sYai9Y0N7wo7S5CEsrjZoO8HPeGyPip02Htf=s64",
      "userId": "03832798034950049293"
     },
     "user_tz": -540
    },
    "id": "lesbian-nerve"
   },
   "outputs": [],
   "source": [
    "%%time\n",
    "final_model = NuSVR(**study.best_params).fit(full_x, full_y)"
   ]
  },
  {
   "cell_type": "code",
   "execution_count": null,
   "id": "dutch-numbers",
   "metadata": {
    "executionInfo": {
     "elapsed": 22,
     "status": "aborted",
     "timestamp": 1631868108847,
     "user": {
      "displayName": "OPENCV KOREA",
      "photoUrl": "https://lh3.googleusercontent.com/a-/AOh14Gh-sYai9Y0N7wo7S5CEsrjZoO8HPeGyPip02Htf=s64",
      "userId": "03832798034950049293"
     },
     "user_tz": -540
    },
    "id": "dutch-numbers"
   },
   "outputs": [],
   "source": []
  }
 ],
 "metadata": {
  "colab": {
   "name": "067_tunning.ipynb",
   "provenance": []
  },
  "kernelspec": {
   "display_name": "Python 3 (ipykernel)",
   "language": "python",
   "name": "python3"
  },
  "language_info": {
   "codemirror_mode": {
    "name": "ipython",
    "version": 3
   },
   "file_extension": ".py",
   "mimetype": "text/x-python",
   "name": "python",
   "nbconvert_exporter": "python",
   "pygments_lexer": "ipython3",
   "version": "3.8.8"
  }
 },
 "nbformat": 4,
 "nbformat_minor": 5
}
